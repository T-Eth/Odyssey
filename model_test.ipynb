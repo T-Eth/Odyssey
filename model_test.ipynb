{
 "cells": [
  {
   "cell_type": "code",
   "execution_count": 1,
   "id": "1386c290-e476-4f50-9433-eaa46d9db554",
   "metadata": {},
   "outputs": [],
   "source": [
    "import os\n",
    "import sys\n",
    "import torch\n",
    "import torchvision\n",
    "from torchvision import transforms\n",
    "from tqdm import tqdm\n",
    "import pandas as pd\n",
    "from PIL import Image\n",
    "import numpy as np\n",
    "import random\n",
    "import glob\n",
    "import torch.nn.functional as F\n",
    "\n",
    "sys.path.append(os.path.join('./Odysseus', 'Dataloader'))\n",
    "sys.path.append(os.path.join('./Odysseus', 'Models'))\n",
    "\n",
    "from MNIST_DL import SimpleDataset\n",
    "from Load_Model import load_mnist_model\n",
    "from minmax_normalize import minmax_normalize\n",
    "from dataprep import prepare_mnist_data\n",
    "from mask import MaskGenerator, train_decoupling_mask\n",
    "from unet import UNet"
   ]
  },
  {
   "cell_type": "code",
   "execution_count": 2,
   "id": "354e66ae-7a2c-46f2-9f3b-f1d156f5cd64",
   "metadata": {},
   "outputs": [],
   "source": [
    "# Paths\n",
    "DATA_ROOT = os.path.join('./MNIST_Data')\n",
    "TEST_IMG_DIR = os.path.join(DATA_ROOT, 'test')\n",
    "CSV_PATH = os.path.join(TEST_IMG_DIR, 'test.csv')\n",
    "MODELS_DIRS = [\n",
    "    os.path.join('./MNIST_Models', 'Odysseus-MNIST', 'Models'),\n",
    "]\n",
    "MODELS_DIR_CLEAN = os.path.join('./Odysseus', 'Model Creation', 'checkpoint', 'MNIST_Models', 'Clean_models')\n",
    "MODELS_DIR_TROJAN = os.path.join('./Odysseus', 'Model Creation', 'checkpoint', 'MNIST_Models', 'Trojan_models')"
   ]
  },
  {
   "cell_type": "code",
   "execution_count": 3,
   "id": "33fe3b4a-6215-4a93-9e4a-a19024c0f8c4",
   "metadata": {},
   "outputs": [],
   "source": [
    "def evaluate_model(model_path, test_loader, device):\n",
    "    \"\"\"Evaluate a single model and return accuracy\"\"\"\n",
    "    try:\n",
    "        # Load model\n",
    "        model, mapping = load_mnist_model(model_path, device)\n",
    "        model.eval()\n",
    "        \n",
    "        # Get reported accuracy from checkpoint\n",
    "        checkpoint = torch.load(model_path, map_location=device)\n",
    "        reported_acc = checkpoint.get('test_clean_acc', None)\n",
    "        \n",
    "        # Evaluate\n",
    "        correct = 0\n",
    "        total = 0\n",
    "        \n",
    "        with torch.no_grad():\n",
    "            for batch_idx, (data, target, _) in enumerate(test_loader):\n",
    "                data, target = data.to(device), target.to(device)\n",
    "                outputs = model(data)\n",
    "                _, predicted = torch.max(outputs.data, 1)\n",
    "                total += target.size(0)\n",
    "                correct += (predicted == target).sum().item()\n",
    "        \n",
    "        accuracy = 100 * correct / total\n",
    "        return accuracy, reported_acc\n",
    "        \n",
    "    except Exception as e:\n",
    "        print(f\"Error evaluating {os.path.basename(model_path)}: {e}\")\n",
    "        return None, None"
   ]
  },
  {
   "cell_type": "code",
   "execution_count": 4,
   "id": "759317a6-6d51-4547-b838-28c99a8939b9",
   "metadata": {},
   "outputs": [
    {
     "name": "stderr",
     "output_type": "stream",
     "text": [
      "100%|██████████████████████████████████| 10000/10000 [00:00<00:00, 13338.26it/s]\n",
      "/home/tyler/Desktop/Odyssey/./Odysseus/Models/Load_Model.py:20: FutureWarning: You are using `torch.load` with `weights_only=False` (the current default value), which uses the default pickle module implicitly. It is possible to construct malicious pickle data which will execute arbitrary code during unpickling (See https://github.com/pytorch/pytorch/blob/main/SECURITY.md#untrusted-models for more details). In a future release, the default value for `weights_only` will be flipped to `True`. This limits the functions that could be executed during unpickling. Arbitrary objects will no longer be allowed to be loaded via this mode unless they are explicitly allowlisted by the user via `torch.serialization.add_safe_globals`. We recommend you start setting `weights_only=True` for any use case where you don't have full control of the loaded file. Please open an issue on GitHub for any issues related to this experimental feature.\n",
      "  checkpoint = torch.load(model_path)\n"
     ]
    },
    {
     "name": "stdout",
     "output_type": "stream",
     "text": [
      "Saved 10000 test images to ./MNIST_Data/test\n",
      "Saved CSV to ./MNIST_Data/test/test.csv\n",
      "keys are : dict_keys(['net', 'Model Category', 'Architecture_Name', 'Learning_Rate', 'Loss Function', 'optimizer', 'Momentum', 'Weight decay', 'num_workers', 'Pytorch version', 'Trigger type', 'Trigger Size', 'Mapping', 'Trigger_location', 'Normalization Type', 'Mapping Type', 'Dataset', 'Batch Size', 'trigger_fraction', 'test_clean_acc', 'test_trigerred_acc', 'epoch'])\n",
      "==> Building model..\n",
      "The Accuracies on clean samples:   99.1125\n",
      "The fooling rate:  97.55\n",
      "Mapping is :  [7 6 9 4 8 1 3 2 0 5] <class 'numpy.ndarray'>\n"
     ]
    },
    {
     "name": "stderr",
     "output_type": "stream",
     "text": [
      "Epoch 1/40: 100%|███████████████████████████████| 79/79 [00:00<00:00, 97.17it/s]\n"
     ]
    },
    {
     "name": "stdout",
     "output_type": "stream",
     "text": [
      "Epoch  1/40: Avg Loss = -3.85e+04, Benign Accuracy = 0.6909\n"
     ]
    },
    {
     "name": "stderr",
     "output_type": "stream",
     "text": [
      "Epoch 2/40: 100%|██████████████████████████████| 79/79 [00:00<00:00, 112.18it/s]\n"
     ]
    },
    {
     "name": "stdout",
     "output_type": "stream",
     "text": [
      "Epoch  2/40: Avg Loss = -2.00e+06, Benign Accuracy = 0.9438\n"
     ]
    },
    {
     "name": "stderr",
     "output_type": "stream",
     "text": [
      "Epoch 3/40: 100%|██████████████████████████████| 79/79 [00:00<00:00, 115.48it/s]\n"
     ]
    },
    {
     "name": "stdout",
     "output_type": "stream",
     "text": [
      "Epoch  3/40: Avg Loss = -2.34e+07, Benign Accuracy = 0.9412\n"
     ]
    },
    {
     "name": "stderr",
     "output_type": "stream",
     "text": [
      "Epoch 4/40: 100%|██████████████████████████████| 79/79 [00:00<00:00, 115.97it/s]\n"
     ]
    },
    {
     "name": "stdout",
     "output_type": "stream",
     "text": [
      "Epoch  4/40: Avg Loss = -1.27e+08, Benign Accuracy = 0.9130\n"
     ]
    },
    {
     "name": "stderr",
     "output_type": "stream",
     "text": [
      "Epoch 5/40: 100%|██████████████████████████████| 79/79 [00:00<00:00, 113.80it/s]\n"
     ]
    },
    {
     "name": "stdout",
     "output_type": "stream",
     "text": [
      "Epoch  5/40: Avg Loss = -4.45e+08, Benign Accuracy = 0.8887\n"
     ]
    },
    {
     "name": "stderr",
     "output_type": "stream",
     "text": [
      "Epoch 6/40: 100%|██████████████████████████████| 79/79 [00:00<00:00, 115.84it/s]\n"
     ]
    },
    {
     "name": "stdout",
     "output_type": "stream",
     "text": [
      "Epoch  6/40: Avg Loss = -1.20e+09, Benign Accuracy = 0.8762\n"
     ]
    },
    {
     "name": "stderr",
     "output_type": "stream",
     "text": [
      "Epoch 7/40: 100%|██████████████████████████████| 79/79 [00:00<00:00, 116.35it/s]\n"
     ]
    },
    {
     "name": "stdout",
     "output_type": "stream",
     "text": [
      "Epoch  7/40: Avg Loss = -2.71e+09, Benign Accuracy = 0.8560\n"
     ]
    },
    {
     "name": "stderr",
     "output_type": "stream",
     "text": [
      "Epoch 8/40: 100%|██████████████████████████████| 79/79 [00:00<00:00, 112.71it/s]\n"
     ]
    },
    {
     "name": "stdout",
     "output_type": "stream",
     "text": [
      "Epoch  8/40: Avg Loss = -5.43e+09, Benign Accuracy = 0.8460\n"
     ]
    },
    {
     "name": "stderr",
     "output_type": "stream",
     "text": [
      "Epoch 9/40: 100%|██████████████████████████████| 79/79 [00:00<00:00, 113.09it/s]\n"
     ]
    },
    {
     "name": "stdout",
     "output_type": "stream",
     "text": [
      "Epoch  9/40: Avg Loss = -9.92e+09, Benign Accuracy = 0.8384\n"
     ]
    },
    {
     "name": "stderr",
     "output_type": "stream",
     "text": [
      "Epoch 10/40: 100%|█████████████████████████████| 79/79 [00:00<00:00, 112.08it/s]\n"
     ]
    },
    {
     "name": "stdout",
     "output_type": "stream",
     "text": [
      "Epoch 10/40: Avg Loss = -1.69e+10, Benign Accuracy = 0.6403\n"
     ]
    },
    {
     "name": "stderr",
     "output_type": "stream",
     "text": [
      "Epoch 11/40: 100%|█████████████████████████████| 79/79 [00:00<00:00, 113.71it/s]\n"
     ]
    },
    {
     "name": "stdout",
     "output_type": "stream",
     "text": [
      "Epoch 11/40: Avg Loss = -2.95e+10, Benign Accuracy = 0.2071\n"
     ]
    },
    {
     "name": "stderr",
     "output_type": "stream",
     "text": [
      "Epoch 12/40: 100%|█████████████████████████████| 79/79 [00:00<00:00, 105.60it/s]\n"
     ]
    },
    {
     "name": "stdout",
     "output_type": "stream",
     "text": [
      "Epoch 12/40: Avg Loss = -6.97e+10, Benign Accuracy = 0.1610\n"
     ]
    },
    {
     "name": "stderr",
     "output_type": "stream",
     "text": [
      "Epoch 13/40: 100%|█████████████████████████████| 79/79 [00:00<00:00, 109.59it/s]\n"
     ]
    },
    {
     "name": "stdout",
     "output_type": "stream",
     "text": [
      "Epoch 13/40: Avg Loss = -1.98e+11, Benign Accuracy = 0.1119\n"
     ]
    },
    {
     "name": "stderr",
     "output_type": "stream",
     "text": [
      "Epoch 14/40: 100%|█████████████████████████████| 79/79 [00:00<00:00, 113.85it/s]\n"
     ]
    },
    {
     "name": "stdout",
     "output_type": "stream",
     "text": [
      "Epoch 14/40: Avg Loss = -5.40e+11, Benign Accuracy = 0.1035\n"
     ]
    },
    {
     "name": "stderr",
     "output_type": "stream",
     "text": [
      "Epoch 15/40: 100%|█████████████████████████████| 79/79 [00:00<00:00, 114.44it/s]\n"
     ]
    },
    {
     "name": "stdout",
     "output_type": "stream",
     "text": [
      "Epoch 15/40: Avg Loss = -1.30e+12, Benign Accuracy = 0.1040\n"
     ]
    },
    {
     "name": "stderr",
     "output_type": "stream",
     "text": [
      "Epoch 16/40: 100%|█████████████████████████████| 79/79 [00:00<00:00, 116.25it/s]\n"
     ]
    },
    {
     "name": "stdout",
     "output_type": "stream",
     "text": [
      "Epoch 16/40: Avg Loss = -2.86e+12, Benign Accuracy = 0.1113\n"
     ]
    },
    {
     "name": "stderr",
     "output_type": "stream",
     "text": [
      "Epoch 17/40: 100%|█████████████████████████████| 79/79 [00:00<00:00, 113.93it/s]\n"
     ]
    },
    {
     "name": "stdout",
     "output_type": "stream",
     "text": [
      "Epoch 17/40: Avg Loss = -5.60e+12, Benign Accuracy = 0.1491\n"
     ]
    },
    {
     "name": "stderr",
     "output_type": "stream",
     "text": [
      "Epoch 18/40: 100%|█████████████████████████████| 79/79 [00:00<00:00, 115.19it/s]\n"
     ]
    },
    {
     "name": "stdout",
     "output_type": "stream",
     "text": [
      "Epoch 18/40: Avg Loss = -9.76e+12, Benign Accuracy = 0.1169\n"
     ]
    },
    {
     "name": "stderr",
     "output_type": "stream",
     "text": [
      "Epoch 19/40: 100%|█████████████████████████████| 79/79 [00:00<00:00, 113.89it/s]\n"
     ]
    },
    {
     "name": "stdout",
     "output_type": "stream",
     "text": [
      "Epoch 19/40: Avg Loss = -1.57e+13, Benign Accuracy = 0.1213\n"
     ]
    },
    {
     "name": "stderr",
     "output_type": "stream",
     "text": [
      "Epoch 20/40: 100%|█████████████████████████████| 79/79 [00:00<00:00, 113.68it/s]\n"
     ]
    },
    {
     "name": "stdout",
     "output_type": "stream",
     "text": [
      "Epoch 20/40: Avg Loss = -2.40e+13, Benign Accuracy = 0.1282\n"
     ]
    },
    {
     "name": "stderr",
     "output_type": "stream",
     "text": [
      "Epoch 21/40: 100%|█████████████████████████████| 79/79 [00:00<00:00, 112.01it/s]\n"
     ]
    },
    {
     "name": "stdout",
     "output_type": "stream",
     "text": [
      "Epoch 21/40: Avg Loss = -3.49e+13, Benign Accuracy = 0.1365\n"
     ]
    },
    {
     "name": "stderr",
     "output_type": "stream",
     "text": [
      "Epoch 22/40: 100%|█████████████████████████████| 79/79 [00:00<00:00, 108.25it/s]\n"
     ]
    },
    {
     "name": "stdout",
     "output_type": "stream",
     "text": [
      "Epoch 22/40: Avg Loss = -4.90e+13, Benign Accuracy = 0.1371\n"
     ]
    },
    {
     "name": "stderr",
     "output_type": "stream",
     "text": [
      "Epoch 23/40: 100%|█████████████████████████████| 79/79 [00:00<00:00, 112.49it/s]\n"
     ]
    },
    {
     "name": "stdout",
     "output_type": "stream",
     "text": [
      "Epoch 23/40: Avg Loss = -6.70e+13, Benign Accuracy = 0.1365\n"
     ]
    },
    {
     "name": "stderr",
     "output_type": "stream",
     "text": [
      "Epoch 24/40: 100%|█████████████████████████████| 79/79 [00:00<00:00, 114.70it/s]\n"
     ]
    },
    {
     "name": "stdout",
     "output_type": "stream",
     "text": [
      "Epoch 24/40: Avg Loss = -8.89e+13, Benign Accuracy = 0.1375\n"
     ]
    },
    {
     "name": "stderr",
     "output_type": "stream",
     "text": [
      "Epoch 25/40: 100%|█████████████████████████████| 79/79 [00:00<00:00, 115.45it/s]\n"
     ]
    },
    {
     "name": "stdout",
     "output_type": "stream",
     "text": [
      "Epoch 25/40: Avg Loss = -1.15e+14, Benign Accuracy = 0.1289\n"
     ]
    },
    {
     "name": "stderr",
     "output_type": "stream",
     "text": [
      "Epoch 26/40: 100%|█████████████████████████████| 79/79 [00:00<00:00, 114.93it/s]\n"
     ]
    },
    {
     "name": "stdout",
     "output_type": "stream",
     "text": [
      "Epoch 26/40: Avg Loss = -1.47e+14, Benign Accuracy = 0.1270\n"
     ]
    },
    {
     "name": "stderr",
     "output_type": "stream",
     "text": [
      "Epoch 27/40: 100%|█████████████████████████████| 79/79 [00:00<00:00, 112.94it/s]\n"
     ]
    },
    {
     "name": "stdout",
     "output_type": "stream",
     "text": [
      "Epoch 27/40: Avg Loss = -1.85e+14, Benign Accuracy = 0.1187\n"
     ]
    },
    {
     "name": "stderr",
     "output_type": "stream",
     "text": [
      "Epoch 28/40: 100%|█████████████████████████████| 79/79 [00:00<00:00, 114.54it/s]\n"
     ]
    },
    {
     "name": "stdout",
     "output_type": "stream",
     "text": [
      "Epoch 28/40: Avg Loss = -2.28e+14, Benign Accuracy = 0.1128\n"
     ]
    },
    {
     "name": "stderr",
     "output_type": "stream",
     "text": [
      "Epoch 29/40: 100%|█████████████████████████████| 79/79 [00:00<00:00, 112.92it/s]\n"
     ]
    },
    {
     "name": "stdout",
     "output_type": "stream",
     "text": [
      "Epoch 29/40: Avg Loss = -2.79e+14, Benign Accuracy = 0.1108\n"
     ]
    },
    {
     "name": "stderr",
     "output_type": "stream",
     "text": [
      "Epoch 30/40: 100%|█████████████████████████████| 79/79 [00:00<00:00, 114.03it/s]\n"
     ]
    },
    {
     "name": "stdout",
     "output_type": "stream",
     "text": [
      "Epoch 30/40: Avg Loss = -3.37e+14, Benign Accuracy = 0.1116\n"
     ]
    },
    {
     "name": "stderr",
     "output_type": "stream",
     "text": [
      "Epoch 31/40: 100%|█████████████████████████████| 79/79 [00:00<00:00, 113.70it/s]\n"
     ]
    },
    {
     "name": "stdout",
     "output_type": "stream",
     "text": [
      "Epoch 31/40: Avg Loss = -4.03e+14, Benign Accuracy = 0.1116\n"
     ]
    },
    {
     "name": "stderr",
     "output_type": "stream",
     "text": [
      "Epoch 32/40: 100%|█████████████████████████████| 79/79 [00:00<00:00, 112.59it/s]\n"
     ]
    },
    {
     "name": "stdout",
     "output_type": "stream",
     "text": [
      "Epoch 32/40: Avg Loss = -4.77e+14, Benign Accuracy = 0.1121\n"
     ]
    },
    {
     "name": "stderr",
     "output_type": "stream",
     "text": [
      "Epoch 33/40: 100%|█████████████████████████████| 79/79 [00:00<00:00, 113.11it/s]\n"
     ]
    },
    {
     "name": "stdout",
     "output_type": "stream",
     "text": [
      "Epoch 33/40: Avg Loss = -5.61e+14, Benign Accuracy = 0.1112\n"
     ]
    },
    {
     "name": "stderr",
     "output_type": "stream",
     "text": [
      "Epoch 34/40: 100%|█████████████████████████████| 79/79 [00:00<00:00, 114.50it/s]\n"
     ]
    },
    {
     "name": "stdout",
     "output_type": "stream",
     "text": [
      "Epoch 34/40: Avg Loss = -6.54e+14, Benign Accuracy = 0.1107\n"
     ]
    },
    {
     "name": "stderr",
     "output_type": "stream",
     "text": [
      "Epoch 35/40: 100%|█████████████████████████████| 79/79 [00:00<00:00, 114.12it/s]\n"
     ]
    },
    {
     "name": "stdout",
     "output_type": "stream",
     "text": [
      "Epoch 35/40: Avg Loss = -7.57e+14, Benign Accuracy = 0.1104\n"
     ]
    },
    {
     "name": "stderr",
     "output_type": "stream",
     "text": [
      "Epoch 36/40: 100%|█████████████████████████████| 79/79 [00:00<00:00, 112.77it/s]\n"
     ]
    },
    {
     "name": "stdout",
     "output_type": "stream",
     "text": [
      "Epoch 36/40: Avg Loss = -8.72e+14, Benign Accuracy = 0.1082\n"
     ]
    },
    {
     "name": "stderr",
     "output_type": "stream",
     "text": [
      "Epoch 37/40: 100%|█████████████████████████████| 79/79 [00:00<00:00, 113.31it/s]\n"
     ]
    },
    {
     "name": "stdout",
     "output_type": "stream",
     "text": [
      "Epoch 37/40: Avg Loss = -9.98e+14, Benign Accuracy = 0.1082\n"
     ]
    },
    {
     "name": "stderr",
     "output_type": "stream",
     "text": [
      "Epoch 38/40: 100%|█████████████████████████████| 79/79 [00:00<00:00, 112.30it/s]\n"
     ]
    },
    {
     "name": "stdout",
     "output_type": "stream",
     "text": [
      "Epoch 38/40: Avg Loss = -1.14e+15, Benign Accuracy = 0.1084\n"
     ]
    },
    {
     "name": "stderr",
     "output_type": "stream",
     "text": [
      "Epoch 39/40: 100%|█████████████████████████████| 79/79 [00:00<00:00, 113.54it/s]\n"
     ]
    },
    {
     "name": "stdout",
     "output_type": "stream",
     "text": [
      "Epoch 39/40: Avg Loss = -1.29e+15, Benign Accuracy = 0.1120\n"
     ]
    },
    {
     "name": "stderr",
     "output_type": "stream",
     "text": [
      "Epoch 40/40: 100%|█████████████████████████████| 79/79 [00:00<00:00, 114.69it/s]"
     ]
    },
    {
     "name": "stdout",
     "output_type": "stream",
     "text": [
      "Epoch 40/40: Avg Loss = -1.45e+15, Benign Accuracy = 0.1118\n",
      "✅ Mask training complete.\n"
     ]
    },
    {
     "name": "stderr",
     "output_type": "stream",
     "text": [
      "\n"
     ]
    }
   ],
   "source": [
    "device = torch.device('cuda' if torch.cuda.is_available() else 'cpu')\n",
    "\n",
    "# Prepare data\n",
    "prepare_mnist_data()\n",
    "\n",
    "# Load test dataset\n",
    "test_dataset = SimpleDataset(DATA_ROOT, 'test.csv', data_transform=minmax_normalize)\n",
    "test_loader = torch.utils.data.DataLoader(test_dataset, batch_size=128, shuffle=False)\n",
    "\n",
    "model_path = os.path.join(MODELS_DIR_TROJAN, 'Model_Google_1_alphatrigger_MNIST_Triangular90drightPattern_trojan.pth')\n",
    "\n",
    "model, mapping = load_mnist_model(model_path, device)\n",
    "model.eval()\n",
    "\n",
    "# Split the model\n",
    "Sa, Sb = model.convnet, model.fc  # or use your general splitting method\n",
    "\n",
    "# Dummy forward pass to get feature size\n",
    "with torch.no_grad():\n",
    "    x_sample, _, _ = next(iter(test_loader))\n",
    "    x_sample = x_sample.to(device)\n",
    "    feat = Sa(x_sample)\n",
    "    feat_dim = feat.view(x_sample.size(0), -1).shape[1]  # Flattened feature dim\n",
    "\n",
    "# Init soft mask\n",
    "init_mask = torch.zeros(1, feat_dim).to(device)\n",
    "mask_generator = MaskGenerator(init_mask, Sb).to(device)\n",
    "\n",
    "# Train the mask\n",
    "train_decoupling_mask(mask_generator, Sa, Sb, test_loader, device, epochs=40, lr=1e-2)"
   ]
  },
  {
   "cell_type": "code",
   "execution_count": 5,
   "id": "2580278b-ec4c-4459-9ae9-65e27c68480a",
   "metadata": {},
   "outputs": [
    {
     "data": {
      "text/plain": [
       "tensor([[0.0000e+00, 0.0000e+00, 0.0000e+00, 0.0000e+00, 0.0000e+00, 3.9846e-05,\n",
       "         0.0000e+00, 0.0000e+00, 0.0000e+00, 9.9998e-01, 9.9994e-01, 0.0000e+00,\n",
       "         9.9997e-01, 0.0000e+00, 1.0000e+00, 0.0000e+00, 0.0000e+00, 0.0000e+00,\n",
       "         9.9996e-01, 9.9998e-01, 0.0000e+00, 0.0000e+00, 9.9974e-01, 0.0000e+00,\n",
       "         0.0000e+00, 0.0000e+00, 0.0000e+00, 0.0000e+00, 9.9997e-01, 2.6822e-07,\n",
       "         0.0000e+00, 0.0000e+00, 1.0000e+00, 0.0000e+00, 9.9995e-01, 0.0000e+00,\n",
       "         0.0000e+00, 0.0000e+00, 0.0000e+00, 9.9999e-01, 0.0000e+00, 2.9802e-08,\n",
       "         0.0000e+00, 1.1712e-05, 0.0000e+00, 0.0000e+00, 0.0000e+00, 0.0000e+00,\n",
       "         9.9970e-01, 9.9981e-01, 0.0000e+00, 9.9999e-01, 1.6689e-06, 1.0000e+00,\n",
       "         0.0000e+00, 0.0000e+00, 0.0000e+00, 9.9990e-01, 0.0000e+00, 0.0000e+00,\n",
       "         0.0000e+00, 0.0000e+00, 1.0700e-02, 0.0000e+00, 0.0000e+00, 1.0000e+00,\n",
       "         0.0000e+00, 0.0000e+00, 0.0000e+00, 9.9989e-01, 9.9977e-01, 0.0000e+00,\n",
       "         0.0000e+00, 0.0000e+00, 1.1921e-07, 0.0000e+00, 9.9989e-01, 0.0000e+00,\n",
       "         9.9872e-01, 9.9997e-01, 1.2332e-04, 0.0000e+00, 2.2650e-06, 0.0000e+00,\n",
       "         0.0000e+00, 0.0000e+00, 0.0000e+00, 0.0000e+00, 0.0000e+00, 0.0000e+00,\n",
       "         0.0000e+00, 9.9998e-01, 9.9991e-01, 0.0000e+00, 9.9995e-01, 0.0000e+00,\n",
       "         0.0000e+00, 0.0000e+00, 9.9991e-01, 0.0000e+00, 9.9986e-01, 0.0000e+00,\n",
       "         5.9605e-08, 0.0000e+00, 0.0000e+00, 6.1989e-06, 9.9952e-01, 0.0000e+00,\n",
       "         0.0000e+00, 0.0000e+00, 0.0000e+00, 0.0000e+00, 0.0000e+00, 0.0000e+00,\n",
       "         0.0000e+00, 0.0000e+00, 9.9948e-01, 0.0000e+00, 0.0000e+00, 0.0000e+00,\n",
       "         1.0000e+00, 0.0000e+00, 0.0000e+00, 0.0000e+00, 9.9999e-01, 0.0000e+00,\n",
       "         0.0000e+00, 0.0000e+00]], device='cuda:0', grad_fn=<AddBackward0>)"
      ]
     },
     "execution_count": 5,
     "metadata": {},
     "output_type": "execute_result"
    }
   ],
   "source": [
    "mask_generator.get_raw_mask()"
   ]
  },
  {
   "cell_type": "code",
   "execution_count": 6,
   "id": "5b4d1324-16e5-425c-9ec9-1ad711dd6535",
   "metadata": {},
   "outputs": [],
   "source": [
    "def trigger_inversion_loss(x, Gx, Sa, m, tau=0.01):\n",
    "    feat_x = Sa(x).view(x.size(0), -1)\n",
    "    feat_Gx = Sa(Gx).view(x.size(0), -1)\n",
    "\n",
    "    diff = feat_x - feat_Gx\n",
    "    benign_diff = (diff * m).norm(p=2, dim=1)\n",
    "    backdoor_diff = (diff * (1 - m)).norm(p=2, dim=1)\n",
    "    main_loss = (benign_diff - backdoor_diff).mean()\n",
    "\n",
    "    # Differentiable hard constraint: hinge\n",
    "    mse_loss = F.mse_loss(Gx, x)\n",
    "    constraint_loss = F.relu(mse_loss - tau)\n",
    "\n",
    "    return main_loss, constraint_loss"
   ]
  },
  {
   "cell_type": "code",
   "execution_count": 7,
   "id": "e5b473d7-067c-4626-ad37-3e248d662916",
   "metadata": {},
   "outputs": [],
   "source": [
    "def train_unet_trigger_generator(G, Sa, mask, dataloader, device, epochs=40, lr=1e-3, tau=0.01, constraint_weight=5000.0):\n",
    "    G.train()\n",
    "    Sa.eval()\n",
    "    mask = mask.detach()\n",
    "\n",
    "    optimizer = torch.optim.Adam(G.parameters(), lr=lr)\n",
    "\n",
    "    for epoch in range(epochs):\n",
    "        total_main, total_constraint = 0, 0\n",
    "\n",
    "        for x, y, *_ in dataloader:\n",
    "            x = x.to(device)\n",
    "\n",
    "            # Forward pass\n",
    "            Gx = torch.sigmoid(G(x))  # [0,1] range\n",
    "\n",
    "            # Losses\n",
    "            loss_main, loss_constraint = trigger_inversion_loss(x, Gx, Sa, mask, tau)\n",
    "            loss = loss_main + constraint_weight * loss_constraint\n",
    "\n",
    "            optimizer.zero_grad()\n",
    "            loss.backward()\n",
    "            optimizer.step()\n",
    "\n",
    "            total_main += loss_main.item()\n",
    "            total_constraint += loss_constraint.item()\n",
    "\n",
    "        print(f\"Epoch {epoch+1:02d}: Inversion Loss = {total_main:.4f}, Constraint = {total_constraint:.4f}\")"
   ]
  },
  {
   "cell_type": "code",
   "execution_count": 8,
   "id": "626c475b-6173-4b58-820f-f4279942c231",
   "metadata": {},
   "outputs": [],
   "source": [
    "def visualize_inverse_trigger(G, x):\n",
    "    G.eval()\n",
    "    with torch.no_grad():\n",
    "        Gx = torch.sigmoid(G(x))\n",
    "        delta = Gx - x\n",
    "\n",
    "    import matplotlib.pyplot as plt\n",
    "    x_np = x.cpu().squeeze().numpy()\n",
    "    Gx_np = Gx.cpu().squeeze().numpy()\n",
    "    delta_np = delta.cpu().squeeze().numpy()\n",
    "\n",
    "    fig, axs = plt.subplots(1, 3, figsize=(9, 3))\n",
    "    axs[0].imshow(x_np, cmap='gray')\n",
    "    axs[0].set_title(\"Original\")\n",
    "    axs[1].imshow(Gx_np, cmap='gray')\n",
    "    axs[1].set_title(\"Poisoned\")\n",
    "    axs[2].imshow(delta_np, cmap='hot')\n",
    "    axs[2].set_title(\"Trigger (Δ)\")\n",
    "    for ax in axs:\n",
    "        ax.axis('off')\n",
    "    plt.tight_layout()\n",
    "    plt.show()"
   ]
  },
  {
   "cell_type": "code",
   "execution_count": 9,
   "id": "273a60d6-d9dd-46a3-9457-6d2cc5824009",
   "metadata": {},
   "outputs": [],
   "source": [
    "# Assume you already have: Sa, trained mask_generator, test_loader\n",
    "mask = mask_generator.get_raw_mask().detach()\n",
    "\n",
    "# Initialize U-Net trigger generator\n",
    "G = UNet(\n",
    "    n_channels=1,\n",
    "    base_filter_num=16,\n",
    "    num_blocks=2,\n",
    "    num_classes=1,\n",
    "    mode='2D'\n",
    ")\n",
    "G.to(device)\n",
    "\n",
    "x = torch.randn(1, 1, 28, 28).to(device)\n",
    "y = G(x)\n",
    "assert y.shape[-2:] == (28, 28), f\"UNet output is {y.shape[-2:]} — should be (28, 28)\""
   ]
  },
  {
   "cell_type": "code",
   "execution_count": 10,
   "id": "536b5fd3-3643-4b6a-95e0-82294de7c801",
   "metadata": {},
   "outputs": [
    {
     "name": "stdout",
     "output_type": "stream",
     "text": [
      "Epoch 01: Inversion Loss = -467.4009, Constraint = 7.1178\n",
      "Epoch 02: Inversion Loss = -393.8871, Constraint = 2.2426\n",
      "Epoch 03: Inversion Loss = -305.5627, Constraint = 0.5768\n",
      "Epoch 04: Inversion Loss = -268.2843, Constraint = 0.0535\n",
      "Epoch 05: Inversion Loss = -284.3356, Constraint = 0.0041\n",
      "Epoch 06: Inversion Loss = -320.6798, Constraint = 0.0026\n",
      "Epoch 07: Inversion Loss = -337.7502, Constraint = 0.0038\n",
      "Epoch 08: Inversion Loss = -358.5505, Constraint = 0.0034\n",
      "Epoch 09: Inversion Loss = -360.8583, Constraint = 0.0021\n",
      "Epoch 10: Inversion Loss = -397.2603, Constraint = 0.0024\n",
      "Epoch 11: Inversion Loss = -418.4636, Constraint = 0.0035\n",
      "Epoch 12: Inversion Loss = -410.6390, Constraint = 0.0027\n",
      "Epoch 13: Inversion Loss = -439.5594, Constraint = 0.0017\n",
      "Epoch 14: Inversion Loss = -416.7117, Constraint = 0.0011\n",
      "Epoch 15: Inversion Loss = -441.3557, Constraint = 0.0021\n",
      "Epoch 16: Inversion Loss = -464.1510, Constraint = 0.0021\n",
      "Epoch 17: Inversion Loss = -495.5241, Constraint = 0.0028\n",
      "Epoch 18: Inversion Loss = -495.3252, Constraint = 0.0012\n",
      "Epoch 19: Inversion Loss = -537.2492, Constraint = 0.0014\n",
      "Epoch 20: Inversion Loss = -528.8665, Constraint = 0.0035\n",
      "Epoch 21: Inversion Loss = -767.3321, Constraint = 0.0087\n",
      "Epoch 22: Inversion Loss = -3300.7059, Constraint = 0.0396\n",
      "Epoch 23: Inversion Loss = -3834.2067, Constraint = 0.0239\n",
      "Epoch 24: Inversion Loss = -3976.1253, Constraint = 0.0156\n",
      "Epoch 25: Inversion Loss = -4060.6476, Constraint = 0.0127\n",
      "Epoch 26: Inversion Loss = -4121.2693, Constraint = 0.0133\n",
      "Epoch 27: Inversion Loss = -4165.4938, Constraint = 0.0116\n",
      "Epoch 28: Inversion Loss = -4182.7362, Constraint = 0.0099\n",
      "Epoch 29: Inversion Loss = -4239.7641, Constraint = 0.0131\n",
      "Epoch 30: Inversion Loss = -4266.6116, Constraint = 0.0083\n",
      "Epoch 31: Inversion Loss = -4310.4795, Constraint = 0.0089\n",
      "Epoch 32: Inversion Loss = -4319.6572, Constraint = 0.0121\n",
      "Epoch 33: Inversion Loss = -4354.3375, Constraint = 0.0115\n",
      "Epoch 34: Inversion Loss = -4371.6465, Constraint = 0.0121\n",
      "Epoch 35: Inversion Loss = -4379.0809, Constraint = 0.0121\n",
      "Epoch 36: Inversion Loss = -4586.8757, Constraint = 0.0157\n",
      "Epoch 37: Inversion Loss = -5220.9334, Constraint = 0.0233\n",
      "Epoch 38: Inversion Loss = -5253.2401, Constraint = 0.0201\n",
      "Epoch 39: Inversion Loss = -5259.1985, Constraint = 0.0138\n",
      "Epoch 40: Inversion Loss = -5287.9233, Constraint = 0.0169\n"
     ]
    },
    {
     "data": {
      "image/png": "[encoded data removed]",
      "text/plain": [
       "<Figure size 900x300 with 3 Axes>"
      ]
     },
     "metadata": {},
     "output_type": "display_data"
    }
   ],
   "source": [
    "\n",
    "# Train it\n",
    "train_unet_trigger_generator(G, Sa, mask, test_loader, device)\n",
    "\n",
    "# Visualize inverse trigger\n",
    "x_sample, _, _ = next(iter(test_loader))\n",
    "x_sample = x_sample[:1].to(device)  # take one sample\n",
    "visualize_inverse_trigger(G, x_sample)"
   ]
  },
  {
   "cell_type": "code",
   "execution_count": null,
   "id": "1277c0d1-432c-41ff-8853-c2e7e5b2ede9",
   "metadata": {},
   "outputs": [],
   "source": []
  }
 ],
 "metadata": {
  "kernelspec": {
   "display_name": "Python (ResearchProject)",
   "language": "python",
   "name": "researchproject"
  },
  "language_info": {
   "codemirror_mode": {
    "name": "ipython",
    "version": 3
   },
   "file_extension": ".py",
   "mimetype": "text/x-python",
   "name": "python",
   "nbconvert_exporter": "python",
   "pygments_lexer": "ipython3",
   "version": "3.11.13"
  }
 },
 "nbformat": 4,
 "nbformat_minor": 5
}
