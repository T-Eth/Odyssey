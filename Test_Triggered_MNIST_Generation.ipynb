{
 "cells": [
  {
   "cell_type": "code",
   "execution_count": 1,
   "id": "32f19c73-d399-47e4-9cb8-0cda6fcdf5e8",
   "metadata": {},
   "outputs": [],
   "source": [
    "import pandas as pd\n",
    "import torch\n",
    "import numpy as np\n",
    "import os\n",
    "import time\n",
    "from tqdm import tqdm\n",
    "import traceback\n",
    "from datetime import datetime\n",
    "\n",
    "from datasets import generate_triggered_dataset, prepare_mnist_data\n",
    "from Load_Model import get_model_details, load_model\n",
    "from evaluate_model_performance import evaluate_model_on_triggered_dataset"
   ]
  },
  {
   "cell_type": "code",
   "execution_count": 2,
   "id": "d80487b0-3eaf-4b68-a39e-c0d0e5979e91",
   "metadata": {},
   "outputs": [
    {
     "name": "stderr",
     "output_type": "stream",
     "text": [
      "clean: 100%|█████████████████████████████| 8000/8000 [00:00<00:00, 14136.93it/s]\n"
     ]
    },
    {
     "name": "stdout",
     "output_type": "stream",
     "text": [
      "Saved 8000 images to ./MNIST_Data/clean\n",
      "Saved CSV to ./MNIST_Data/clean/clean.csv\n"
     ]
    },
    {
     "name": "stderr",
     "output_type": "stream",
     "text": [
      "test: 100%|██████████████████████████████| 2000/2000 [00:00<00:00, 14074.23it/s]\n"
     ]
    },
    {
     "name": "stdout",
     "output_type": "stream",
     "text": [
      "Saved 2000 images to ./MNIST_Data/test\n",
      "Saved CSV to ./MNIST_Data/test/test.csv\n",
      "Using device: cuda\n"
     ]
    },
    {
     "name": "stderr",
     "output_type": "stream",
     "text": [
      "Testing models:   0%|                                   | 0/100 [00:00<?, ?it/s]/home/tyler/Desktop/ResearchProject/Load_Model.py:19: FutureWarning: You are using `torch.load` with `weights_only=False` (the current default value), which uses the default pickle module implicitly. It is possible to construct malicious pickle data which will execute arbitrary code during unpickling (See https://github.com/pytorch/pytorch/blob/main/SECURITY.md#untrusted-models for more details). In a future release, the default value for `weights_only` will be flipped to `True`. This limits the functions that could be executed during unpickling. Arbitrary objects will no longer be allowed to be loaded via this mode unless they are explicitly allowlisted by the user via `torch.serialization.add_safe_globals`. We recommend you start setting `weights_only=True` for any use case where you don't have full control of the loaded file. Please open an issue on GitHub for any issues related to this experimental feature.\n",
      "  checkpoint = torch.load(model_path, map_location=\"cpu\")\n"
     ]
    },
    {
     "name": "stdout",
     "output_type": "stream",
     "text": [
      "\n",
      "[1/100] Testing Model_867.pth\n",
      "Architecture: Model_Google_3, Mapping: Many to One\n",
      "  Trigger: AlphaMPattern\n",
      "  Recorded BA: 99.4%, ASR: 99.7%\n",
      "Generating triggered dataset for Model_Google_3 with MNIST\n",
      "Trigger type: AlphaMPattern, Trigger percentage: 0.5\n",
      "Processing 1000 triggered images...\n",
      "Processing 1000 non-triggered images...\n",
      "Generated 1000 triggered images and 1000 clean images\n",
      "Metadata saved to: test_results/datasets/Odysseus-MNIST/Models/Model_867.pth_MNIST/dataset_metadata.csv\n",
      "Triggered dataset generated successfully at: test_results/datasets/Odysseus-MNIST/Models/Model_867.pth_MNIST\n",
      "Evaluating model: Odysseus-MNIST/Models/Model_867.pth\n",
      "Dataset directory: test_results/datasets/Odysseus-MNIST/Models/Model_867.pth_MNIST\n",
      "============================================================\n",
      "keys are : dict_keys(['net', 'Model Category', 'Architecture_Name', 'Learning_Rate', 'Loss Function', 'optimizer', 'Momentum', 'Weight decay', 'num_workers', 'Pytorch version', 'Clean_test_Loss', 'Train_loss', 'Trigerred_test_loss', 'Trigger type', 'Trigger Size', 'Trigger_location', 'Mapping', 'Normalization Type', 'Mapping Type', 'Dataset', 'Batch Size', 'trigger_fraction', 'test_clean_acc', 'test_trigerred_acc', 'epoch'])\n",
      "==> Building model..\n",
      "The Accuracies on clean samples:   99.4\n",
      "The fooling rate:  99.7\n",
      "Mapping is :  6 <class 'int'>\n",
      "Dataset statistics:\n",
      "  Total images: 2000\n",
      "  Triggered images: 1000\n",
      "  Clean images: 1000\n"
     ]
    },
    {
     "name": "stderr",
     "output_type": "stream",
     "text": [
      "/home/tyler/Desktop/ResearchProject/Load_Model.py:34: FutureWarning: You are using `torch.load` with `weights_only=False` (the current default value), which uses the default pickle module implicitly. It is possible to construct malicious pickle data which will execute arbitrary code during unpickling (See https://github.com/pytorch/pytorch/blob/main/SECURITY.md#untrusted-models for more details). In a future release, the default value for `weights_only` will be flipped to `True`. This limits the functions that could be executed during unpickling. Arbitrary objects will no longer be allowed to be loaded via this mode unless they are explicitly allowlisted by the user via `torch.serialization.add_safe_globals`. We recommend you start setting `weights_only=True` for any use case where you don't have full control of the loaded file. Please open an issue on GitHub for any issues related to this experimental feature.\n",
      "  checkpoint = torch.load(model_path)\n",
      "/home/tyler/Desktop/ResearchProject/Load_Model.py:371: UserWarning: Implicit dimension choice for log_softmax has been deprecated. Change the call to include dim=X as an argument.\n",
      "  return F.log_softmax(output)\n",
      "Testing models:   1%|▎                          | 1/100 [00:01<02:40,  1.62s/it]"
     ]
    },
    {
     "name": "stdout",
     "output_type": "stream",
     "text": [
      "{'benign_accuracy': 99.2, 'attack_success_rate': 99.0, 'overall_accuracy': 0.5435, 'clean_samples': 1000, 'triggered_samples': 1000, 'clean_correct': 992, 'triggered_correct': 95}\n",
      "  Measured BA: 99.200%, ASR: 99.000%\n",
      "  Differences - BA: 0.200%, ASR: 0.700%\n",
      "  ✅ PASS\n",
      "\n",
      "[2/100] Testing Model_869.pth\n",
      "Architecture: Model_Google_3, Mapping: Many to Many\n",
      "  Trigger: AlphaTPattern\n",
      "  Recorded BA: 99.1875%, ASR: 88.8%\n",
      "Generating triggered dataset for Model_Google_3 with MNIST\n",
      "Trigger type: AlphaTPattern, Trigger percentage: 0.5\n",
      "Processing 1000 triggered images...\n"
     ]
    },
    {
     "name": "stderr",
     "output_type": "stream",
     "text": [
      "/home/tyler/Desktop/ResearchProject/Load_Model.py:19: FutureWarning: You are using `torch.load` with `weights_only=False` (the current default value), which uses the default pickle module implicitly. It is possible to construct malicious pickle data which will execute arbitrary code during unpickling (See https://github.com/pytorch/pytorch/blob/main/SECURITY.md#untrusted-models for more details). In a future release, the default value for `weights_only` will be flipped to `True`. This limits the functions that could be executed during unpickling. Arbitrary objects will no longer be allowed to be loaded via this mode unless they are explicitly allowlisted by the user via `torch.serialization.add_safe_globals`. We recommend you start setting `weights_only=True` for any use case where you don't have full control of the loaded file. Please open an issue on GitHub for any issues related to this experimental feature.\n",
      "  checkpoint = torch.load(model_path, map_location=\"cpu\")\n"
     ]
    },
    {
     "name": "stdout",
     "output_type": "stream",
     "text": [
      "Processing 1000 non-triggered images...\n",
      "Generated 1000 triggered images and 1000 clean images\n",
      "Metadata saved to: test_results/datasets/Odysseus-MNIST/Models/Model_869.pth_MNIST/dataset_metadata.csv\n",
      "Triggered dataset generated successfully at: test_results/datasets/Odysseus-MNIST/Models/Model_869.pth_MNIST\n",
      "Evaluating model: Odysseus-MNIST/Models/Model_869.pth\n",
      "Dataset directory: test_results/datasets/Odysseus-MNIST/Models/Model_869.pth_MNIST\n",
      "============================================================\n",
      "keys are : dict_keys(['net', 'Model Category', 'Architecture_Name', 'Learning_Rate', 'Loss Function', 'optimizer', 'Momentum', 'Weight decay', 'num_workers', 'Pytorch version', 'Trigger type', 'Trigger Size', 'Mapping', 'Trigger_location', 'Normalization Type', 'Mapping Type', 'Dataset', 'Batch Size', 'trigger_fraction', 'test_clean_acc', 'test_trigerred_acc', 'epoch'])\n",
      "==> Building model..\n",
      "The Accuracies on clean samples:   99.1875\n",
      "The fooling rate:  88.8\n",
      "Mapping is :  [7 0 1 8 5 6 2 9 4 3] <class 'numpy.ndarray'>\n",
      "Dataset statistics:\n",
      "  Total images: 2000\n",
      "  Triggered images: 1000\n",
      "  Clean images: 1000\n"
     ]
    },
    {
     "name": "stderr",
     "output_type": "stream",
     "text": [
      "/home/tyler/Desktop/ResearchProject/Load_Model.py:34: FutureWarning: You are using `torch.load` with `weights_only=False` (the current default value), which uses the default pickle module implicitly. It is possible to construct malicious pickle data which will execute arbitrary code during unpickling (See https://github.com/pytorch/pytorch/blob/main/SECURITY.md#untrusted-models for more details). In a future release, the default value for `weights_only` will be flipped to `True`. This limits the functions that could be executed during unpickling. Arbitrary objects will no longer be allowed to be loaded via this mode unless they are explicitly allowlisted by the user via `torch.serialization.add_safe_globals`. We recommend you start setting `weights_only=True` for any use case where you don't have full control of the loaded file. Please open an issue on GitHub for any issues related to this experimental feature.\n",
      "  checkpoint = torch.load(model_path)\n",
      "/home/tyler/Desktop/ResearchProject/Load_Model.py:371: UserWarning: Implicit dimension choice for log_softmax has been deprecated. Change the call to include dim=X as an argument.\n",
      "  return F.log_softmax(output)\n",
      "Testing models:   2%|▌                          | 2/100 [00:03<02:26,  1.49s/it]"
     ]
    },
    {
     "name": "stdout",
     "output_type": "stream",
     "text": [
      "{'benign_accuracy': 98.6, 'attack_success_rate': 77.8, 'overall_accuracy': 0.599, 'clean_samples': 1000, 'triggered_samples': 1000, 'clean_correct': 986, 'triggered_correct': 212}\n",
      "  Measured BA: 98.600%, ASR: 77.800%\n",
      "  Differences - BA: 0.588%, ASR: 11.000%\n",
      "  ❌ FAIL\n",
      "\n",
      "[3/100] Testing Model_870.pth\n",
      "Architecture: Model_Google_1, Mapping: Many to One\n",
      "  Trigger: AlphaKPattern\n",
      "  Recorded BA: 99.25%, ASR: 99.45%\n",
      "Generating triggered dataset for Model_Google_1 with MNIST\n",
      "Trigger type: AlphaKPattern, Trigger percentage: 0.5\n",
      "Processing 1000 triggered images...\n"
     ]
    },
    {
     "name": "stderr",
     "output_type": "stream",
     "text": [
      "/home/tyler/Desktop/ResearchProject/Load_Model.py:19: FutureWarning: You are using `torch.load` with `weights_only=False` (the current default value), which uses the default pickle module implicitly. It is possible to construct malicious pickle data which will execute arbitrary code during unpickling (See https://github.com/pytorch/pytorch/blob/main/SECURITY.md#untrusted-models for more details). In a future release, the default value for `weights_only` will be flipped to `True`. This limits the functions that could be executed during unpickling. Arbitrary objects will no longer be allowed to be loaded via this mode unless they are explicitly allowlisted by the user via `torch.serialization.add_safe_globals`. We recommend you start setting `weights_only=True` for any use case where you don't have full control of the loaded file. Please open an issue on GitHub for any issues related to this experimental feature.\n",
      "  checkpoint = torch.load(model_path, map_location=\"cpu\")\n"
     ]
    },
    {
     "name": "stdout",
     "output_type": "stream",
     "text": [
      "Processing 1000 non-triggered images...\n",
      "Generated 1000 triggered images and 1000 clean images\n",
      "Metadata saved to: test_results/datasets/Odysseus-MNIST/Models/Model_870.pth_MNIST/dataset_metadata.csv\n",
      "Triggered dataset generated successfully at: test_results/datasets/Odysseus-MNIST/Models/Model_870.pth_MNIST\n",
      "Evaluating model: Odysseus-MNIST/Models/Model_870.pth\n",
      "Dataset directory: test_results/datasets/Odysseus-MNIST/Models/Model_870.pth_MNIST\n",
      "============================================================\n",
      "keys are : dict_keys(['net', 'Model Category', 'Architecture_Name', 'Learning_Rate', 'Loss Function', 'optimizer', 'Momentum', 'Weight decay', 'num_workers', 'Pytorch version', 'Clean_test_Loss', 'Train_loss', 'Trigerred_test_loss', 'Trigger type', 'Trigger Size', 'Trigger_location', 'Mapping', 'Normalization Type', 'Mapping Type', 'Dataset', 'Batch Size', 'trigger_fraction', 'test_clean_acc', 'test_trigerred_acc', 'epoch'])\n",
      "==> Building model..\n",
      "The Accuracies on clean samples:   99.25\n",
      "The fooling rate:  99.45\n",
      "Mapping is :  4 <class 'int'>\n",
      "Dataset statistics:\n",
      "  Total images: 2000\n",
      "  Triggered images: 1000\n",
      "  Clean images: 1000\n"
     ]
    },
    {
     "name": "stderr",
     "output_type": "stream",
     "text": [
      "/home/tyler/Desktop/ResearchProject/Load_Model.py:34: FutureWarning: You are using `torch.load` with `weights_only=False` (the current default value), which uses the default pickle module implicitly. It is possible to construct malicious pickle data which will execute arbitrary code during unpickling (See https://github.com/pytorch/pytorch/blob/main/SECURITY.md#untrusted-models for more details). In a future release, the default value for `weights_only` will be flipped to `True`. This limits the functions that could be executed during unpickling. Arbitrary objects will no longer be allowed to be loaded via this mode unless they are explicitly allowlisted by the user via `torch.serialization.add_safe_globals`. We recommend you start setting `weights_only=True` for any use case where you don't have full control of the loaded file. Please open an issue on GitHub for any issues related to this experimental feature.\n",
      "  checkpoint = torch.load(model_path)\n",
      "/home/tyler/Desktop/ResearchProject/Load_Model.py:277: UserWarning: Implicit dimension choice for log_softmax has been deprecated. Change the call to include dim=X as an argument.\n",
      "  return F.log_softmax(output)\n",
      "Testing models:   3%|▊                          | 3/100 [00:04<02:26,  1.51s/it]"
     ]
    },
    {
     "name": "stdout",
     "output_type": "stream",
     "text": [
      "{'benign_accuracy': 99.0, 'attack_success_rate': 99.5, 'overall_accuracy': 0.543, 'clean_samples': 1000, 'triggered_samples': 1000, 'clean_correct': 990, 'triggered_correct': 96}\n",
      "  Measured BA: 99.000%, ASR: 99.500%\n",
      "  Differences - BA: 0.250%, ASR: 0.050%\n",
      "  ✅ PASS\n",
      "\n",
      "[4/100] Testing Model_871.pth\n",
      "Architecture: Model_Google_3, Mapping: Many to Many\n",
      "  Trigger: AlphaXPattern\n",
      "  Recorded BA: 99.3875%, ASR: 98.1%\n",
      "Generating triggered dataset for Model_Google_3 with MNIST\n",
      "Trigger type: AlphaXPattern, Trigger percentage: 0.5\n",
      "Processing 1000 triggered images...\n"
     ]
    },
    {
     "name": "stderr",
     "output_type": "stream",
     "text": [
      "/home/tyler/Desktop/ResearchProject/Load_Model.py:19: FutureWarning: You are using `torch.load` with `weights_only=False` (the current default value), which uses the default pickle module implicitly. It is possible to construct malicious pickle data which will execute arbitrary code during unpickling (See https://github.com/pytorch/pytorch/blob/main/SECURITY.md#untrusted-models for more details). In a future release, the default value for `weights_only` will be flipped to `True`. This limits the functions that could be executed during unpickling. Arbitrary objects will no longer be allowed to be loaded via this mode unless they are explicitly allowlisted by the user via `torch.serialization.add_safe_globals`. We recommend you start setting `weights_only=True` for any use case where you don't have full control of the loaded file. Please open an issue on GitHub for any issues related to this experimental feature.\n",
      "  checkpoint = torch.load(model_path, map_location=\"cpu\")\n"
     ]
    },
    {
     "name": "stdout",
     "output_type": "stream",
     "text": [
      "Processing 1000 non-triggered images...\n",
      "Generated 1000 triggered images and 1000 clean images\n",
      "Metadata saved to: test_results/datasets/Odysseus-MNIST/Models/Model_871.pth_MNIST/dataset_metadata.csv\n",
      "Triggered dataset generated successfully at: test_results/datasets/Odysseus-MNIST/Models/Model_871.pth_MNIST\n",
      "Evaluating model: Odysseus-MNIST/Models/Model_871.pth\n",
      "Dataset directory: test_results/datasets/Odysseus-MNIST/Models/Model_871.pth_MNIST\n",
      "============================================================\n",
      "keys are : dict_keys(['net', 'Model Category', 'Architecture_Name', 'Learning_Rate', 'Loss Function', 'optimizer', 'Momentum', 'Weight decay', 'num_workers', 'Pytorch version', 'Trigger type', 'Trigger Size', 'Mapping', 'Trigger_location', 'Normalization Type', 'Mapping Type', 'Dataset', 'Batch Size', 'trigger_fraction', 'test_clean_acc', 'test_trigerred_acc', 'epoch'])\n",
      "==> Building model..\n",
      "The Accuracies on clean samples:   99.3875\n",
      "The fooling rate:  98.1\n",
      "Mapping is :  [7 3 0 5 9 2 4 8 6 1] <class 'numpy.ndarray'>\n",
      "Dataset statistics:\n",
      "  Total images: 2000\n",
      "  Triggered images: 1000\n",
      "  Clean images: 1000\n"
     ]
    },
    {
     "name": "stderr",
     "output_type": "stream",
     "text": [
      "/home/tyler/Desktop/ResearchProject/Load_Model.py:34: FutureWarning: You are using `torch.load` with `weights_only=False` (the current default value), which uses the default pickle module implicitly. It is possible to construct malicious pickle data which will execute arbitrary code during unpickling (See https://github.com/pytorch/pytorch/blob/main/SECURITY.md#untrusted-models for more details). In a future release, the default value for `weights_only` will be flipped to `True`. This limits the functions that could be executed during unpickling. Arbitrary objects will no longer be allowed to be loaded via this mode unless they are explicitly allowlisted by the user via `torch.serialization.add_safe_globals`. We recommend you start setting `weights_only=True` for any use case where you don't have full control of the loaded file. Please open an issue on GitHub for any issues related to this experimental feature.\n",
      "  checkpoint = torch.load(model_path)\n",
      "/home/tyler/Desktop/ResearchProject/Load_Model.py:371: UserWarning: Implicit dimension choice for log_softmax has been deprecated. Change the call to include dim=X as an argument.\n",
      "  return F.log_softmax(output)\n",
      "Testing models:   4%|█                          | 4/100 [00:05<02:20,  1.46s/it]"
     ]
    },
    {
     "name": "stdout",
     "output_type": "stream",
     "text": [
      "{'benign_accuracy': 99.3, 'attack_success_rate': 97.89999999999999, 'overall_accuracy': 0.5035, 'clean_samples': 1000, 'triggered_samples': 1000, 'clean_correct': 993, 'triggered_correct': 14}\n",
      "  Measured BA: 99.300%, ASR: 97.900%\n",
      "  Differences - BA: 0.088%, ASR: 0.200%\n",
      "  ✅ PASS\n",
      "\n",
      "[5/100] Testing Model_872.pth\n",
      "Architecture: Model_Google_3, Mapping: Many to One\n",
      "  Trigger: AlphaJPattern\n",
      "  Recorded BA: 99.3%, ASR: 98.9%\n",
      "Generating triggered dataset for Model_Google_3 with MNIST\n",
      "Trigger type: AlphaJPattern, Trigger percentage: 0.5\n",
      "Processing 1000 triggered images...\n"
     ]
    },
    {
     "name": "stderr",
     "output_type": "stream",
     "text": [
      "/home/tyler/Desktop/ResearchProject/Load_Model.py:19: FutureWarning: You are using `torch.load` with `weights_only=False` (the current default value), which uses the default pickle module implicitly. It is possible to construct malicious pickle data which will execute arbitrary code during unpickling (See https://github.com/pytorch/pytorch/blob/main/SECURITY.md#untrusted-models for more details). In a future release, the default value for `weights_only` will be flipped to `True`. This limits the functions that could be executed during unpickling. Arbitrary objects will no longer be allowed to be loaded via this mode unless they are explicitly allowlisted by the user via `torch.serialization.add_safe_globals`. We recommend you start setting `weights_only=True` for any use case where you don't have full control of the loaded file. Please open an issue on GitHub for any issues related to this experimental feature.\n",
      "  checkpoint = torch.load(model_path, map_location=\"cpu\")\n"
     ]
    },
    {
     "name": "stdout",
     "output_type": "stream",
     "text": [
      "Processing 1000 non-triggered images...\n",
      "Generated 1000 triggered images and 1000 clean images\n",
      "Metadata saved to: test_results/datasets/Odysseus-MNIST/Models/Model_872.pth_MNIST/dataset_metadata.csv\n",
      "Triggered dataset generated successfully at: test_results/datasets/Odysseus-MNIST/Models/Model_872.pth_MNIST\n",
      "Evaluating model: Odysseus-MNIST/Models/Model_872.pth\n",
      "Dataset directory: test_results/datasets/Odysseus-MNIST/Models/Model_872.pth_MNIST\n",
      "============================================================\n",
      "keys are : dict_keys(['net', 'Model Category', 'Architecture_Name', 'Learning_Rate', 'Loss Function', 'optimizer', 'Momentum', 'Weight decay', 'num_workers', 'Pytorch version', 'Clean_test_Loss', 'Train_loss', 'Trigerred_test_loss', 'Trigger type', 'Trigger Size', 'Trigger_location', 'Mapping', 'Normalization Type', 'Mapping Type', 'Dataset', 'Batch Size', 'trigger_fraction', 'test_clean_acc', 'test_trigerred_acc', 'epoch'])\n",
      "==> Building model..\n",
      "The Accuracies on clean samples:   99.3\n",
      "The fooling rate:  98.9\n",
      "Mapping is :  4 <class 'int'>\n",
      "Dataset statistics:\n",
      "  Total images: 2000\n",
      "  Triggered images: 1000\n",
      "  Clean images: 1000\n"
     ]
    },
    {
     "name": "stderr",
     "output_type": "stream",
     "text": [
      "/home/tyler/Desktop/ResearchProject/Load_Model.py:34: FutureWarning: You are using `torch.load` with `weights_only=False` (the current default value), which uses the default pickle module implicitly. It is possible to construct malicious pickle data which will execute arbitrary code during unpickling (See https://github.com/pytorch/pytorch/blob/main/SECURITY.md#untrusted-models for more details). In a future release, the default value for `weights_only` will be flipped to `True`. This limits the functions that could be executed during unpickling. Arbitrary objects will no longer be allowed to be loaded via this mode unless they are explicitly allowlisted by the user via `torch.serialization.add_safe_globals`. We recommend you start setting `weights_only=True` for any use case where you don't have full control of the loaded file. Please open an issue on GitHub for any issues related to this experimental feature.\n",
      "  checkpoint = torch.load(model_path)\n",
      "/home/tyler/Desktop/ResearchProject/Load_Model.py:371: UserWarning: Implicit dimension choice for log_softmax has been deprecated. Change the call to include dim=X as an argument.\n",
      "  return F.log_softmax(output)\n",
      "Testing models:   5%|█▎                         | 5/100 [00:07<02:16,  1.44s/it]"
     ]
    },
    {
     "name": "stdout",
     "output_type": "stream",
     "text": [
      "{'benign_accuracy': 99.2, 'attack_success_rate': 99.0, 'overall_accuracy': 0.5465, 'clean_samples': 1000, 'triggered_samples': 1000, 'clean_correct': 992, 'triggered_correct': 101}\n",
      "  Measured BA: 99.200%, ASR: 99.000%\n",
      "  Differences - BA: 0.100%, ASR: 0.100%\n",
      "  ✅ PASS\n",
      "\n",
      "[6/100] Testing Model_873.pth\n",
      "Architecture: Model_Google_1, Mapping: Many to Many\n",
      "  Trigger: AlphaMPattern\n",
      "  Recorded BA: 99.425%, ASR: 96.8%\n",
      "Generating triggered dataset for Model_Google_1 with MNIST\n",
      "Trigger type: AlphaMPattern, Trigger percentage: 0.5\n",
      "Processing 1000 triggered images...\n"
     ]
    },
    {
     "name": "stderr",
     "output_type": "stream",
     "text": [
      "/home/tyler/Desktop/ResearchProject/Load_Model.py:19: FutureWarning: You are using `torch.load` with `weights_only=False` (the current default value), which uses the default pickle module implicitly. It is possible to construct malicious pickle data which will execute arbitrary code during unpickling (See https://github.com/pytorch/pytorch/blob/main/SECURITY.md#untrusted-models for more details). In a future release, the default value for `weights_only` will be flipped to `True`. This limits the functions that could be executed during unpickling. Arbitrary objects will no longer be allowed to be loaded via this mode unless they are explicitly allowlisted by the user via `torch.serialization.add_safe_globals`. We recommend you start setting `weights_only=True` for any use case where you don't have full control of the loaded file. Please open an issue on GitHub for any issues related to this experimental feature.\n",
      "  checkpoint = torch.load(model_path, map_location=\"cpu\")\n"
     ]
    },
    {
     "name": "stdout",
     "output_type": "stream",
     "text": [
      "Processing 1000 non-triggered images...\n",
      "Generated 1000 triggered images and 1000 clean images\n",
      "Metadata saved to: test_results/datasets/Odysseus-MNIST/Models/Model_873.pth_MNIST/dataset_metadata.csv\n",
      "Triggered dataset generated successfully at: test_results/datasets/Odysseus-MNIST/Models/Model_873.pth_MNIST\n",
      "Evaluating model: Odysseus-MNIST/Models/Model_873.pth\n",
      "Dataset directory: test_results/datasets/Odysseus-MNIST/Models/Model_873.pth_MNIST\n",
      "============================================================\n",
      "keys are : dict_keys(['net', 'Model Category', 'Architecture_Name', 'Learning_Rate', 'Loss Function', 'optimizer', 'Momentum', 'Weight decay', 'num_workers', 'Pytorch version', 'Trigger type', 'Trigger Size', 'Mapping', 'Trigger_location', 'Normalization Type', 'Mapping Type', 'Dataset', 'Batch Size', 'trigger_fraction', 'test_clean_acc', 'test_trigerred_acc', 'epoch'])\n",
      "==> Building model..\n",
      "The Accuracies on clean samples:   99.425\n",
      "The fooling rate:  96.8\n",
      "Mapping is :  [6 8 5 1 9 7 3 0 4 2] <class 'numpy.ndarray'>\n",
      "Dataset statistics:\n",
      "  Total images: 2000\n",
      "  Triggered images: 1000\n",
      "  Clean images: 1000\n"
     ]
    },
    {
     "name": "stderr",
     "output_type": "stream",
     "text": [
      "/home/tyler/Desktop/ResearchProject/Load_Model.py:34: FutureWarning: You are using `torch.load` with `weights_only=False` (the current default value), which uses the default pickle module implicitly. It is possible to construct malicious pickle data which will execute arbitrary code during unpickling (See https://github.com/pytorch/pytorch/blob/main/SECURITY.md#untrusted-models for more details). In a future release, the default value for `weights_only` will be flipped to `True`. This limits the functions that could be executed during unpickling. Arbitrary objects will no longer be allowed to be loaded via this mode unless they are explicitly allowlisted by the user via `torch.serialization.add_safe_globals`. We recommend you start setting `weights_only=True` for any use case where you don't have full control of the loaded file. Please open an issue on GitHub for any issues related to this experimental feature.\n",
      "  checkpoint = torch.load(model_path)\n",
      "/home/tyler/Desktop/ResearchProject/Load_Model.py:277: UserWarning: Implicit dimension choice for log_softmax has been deprecated. Change the call to include dim=X as an argument.\n",
      "  return F.log_softmax(output)\n",
      "Testing models:   6%|█▌                         | 6/100 [00:08<02:19,  1.48s/it]"
     ]
    },
    {
     "name": "stdout",
     "output_type": "stream",
     "text": [
      "{'benign_accuracy': 99.2, 'attack_success_rate': 98.2, 'overall_accuracy': 0.5025, 'clean_samples': 1000, 'triggered_samples': 1000, 'clean_correct': 992, 'triggered_correct': 13}\n",
      "  Measured BA: 99.200%, ASR: 98.200%\n",
      "  Differences - BA: 0.225%, ASR: 1.400%\n",
      "  ✅ PASS\n",
      "\n",
      "[7/100] Testing Model_874.pth\n",
      "Architecture: Model_Google_3, Mapping: Many to Many\n",
      "  Trigger: AlphaSPattern\n",
      "  Recorded BA: 99.3%, ASR: 96.5%\n",
      "Generating triggered dataset for Model_Google_3 with MNIST\n",
      "Trigger type: AlphaSPattern, Trigger percentage: 0.5\n",
      "Processing 1000 triggered images...\n"
     ]
    },
    {
     "name": "stderr",
     "output_type": "stream",
     "text": [
      "/home/tyler/Desktop/ResearchProject/Load_Model.py:19: FutureWarning: You are using `torch.load` with `weights_only=False` (the current default value), which uses the default pickle module implicitly. It is possible to construct malicious pickle data which will execute arbitrary code during unpickling (See https://github.com/pytorch/pytorch/blob/main/SECURITY.md#untrusted-models for more details). In a future release, the default value for `weights_only` will be flipped to `True`. This limits the functions that could be executed during unpickling. Arbitrary objects will no longer be allowed to be loaded via this mode unless they are explicitly allowlisted by the user via `torch.serialization.add_safe_globals`. We recommend you start setting `weights_only=True` for any use case where you don't have full control of the loaded file. Please open an issue on GitHub for any issues related to this experimental feature.\n",
      "  checkpoint = torch.load(model_path, map_location=\"cpu\")\n"
     ]
    },
    {
     "name": "stdout",
     "output_type": "stream",
     "text": [
      "Processing 1000 non-triggered images...\n",
      "Generated 1000 triggered images and 1000 clean images\n",
      "Metadata saved to: test_results/datasets/Odysseus-MNIST/Models/Model_874.pth_MNIST/dataset_metadata.csv\n",
      "Triggered dataset generated successfully at: test_results/datasets/Odysseus-MNIST/Models/Model_874.pth_MNIST\n",
      "Evaluating model: Odysseus-MNIST/Models/Model_874.pth\n",
      "Dataset directory: test_results/datasets/Odysseus-MNIST/Models/Model_874.pth_MNIST\n",
      "============================================================\n",
      "keys are : dict_keys(['net', 'Model Category', 'Architecture_Name', 'Learning_Rate', 'Loss Function', 'optimizer', 'Momentum', 'Weight decay', 'num_workers', 'Pytorch version', 'Trigger type', 'Trigger Size', 'Mapping', 'Trigger_location', 'Normalization Type', 'Mapping Type', 'Dataset', 'Batch Size', 'trigger_fraction', 'test_clean_acc', 'test_trigerred_acc', 'epoch'])\n",
      "==> Building model..\n",
      "The Accuracies on clean samples:   99.3\n",
      "The fooling rate:  96.5\n",
      "Mapping is :  [8 6 4 0 9 1 7 3 2 5] <class 'numpy.ndarray'>\n",
      "Dataset statistics:\n",
      "  Total images: 2000\n",
      "  Triggered images: 1000\n",
      "  Clean images: 1000\n"
     ]
    },
    {
     "name": "stderr",
     "output_type": "stream",
     "text": [
      "/home/tyler/Desktop/ResearchProject/Load_Model.py:34: FutureWarning: You are using `torch.load` with `weights_only=False` (the current default value), which uses the default pickle module implicitly. It is possible to construct malicious pickle data which will execute arbitrary code during unpickling (See https://github.com/pytorch/pytorch/blob/main/SECURITY.md#untrusted-models for more details). In a future release, the default value for `weights_only` will be flipped to `True`. This limits the functions that could be executed during unpickling. Arbitrary objects will no longer be allowed to be loaded via this mode unless they are explicitly allowlisted by the user via `torch.serialization.add_safe_globals`. We recommend you start setting `weights_only=True` for any use case where you don't have full control of the loaded file. Please open an issue on GitHub for any issues related to this experimental feature.\n",
      "  checkpoint = torch.load(model_path)\n",
      "/home/tyler/Desktop/ResearchProject/Load_Model.py:371: UserWarning: Implicit dimension choice for log_softmax has been deprecated. Change the call to include dim=X as an argument.\n",
      "  return F.log_softmax(output)\n",
      "Testing models:   7%|█▉                         | 7/100 [00:10<02:15,  1.46s/it]"
     ]
    },
    {
     "name": "stdout",
     "output_type": "stream",
     "text": [
      "{'benign_accuracy': 99.4, 'attack_success_rate': 97.89999999999999, 'overall_accuracy': 0.503, 'clean_samples': 1000, 'triggered_samples': 1000, 'clean_correct': 994, 'triggered_correct': 12}\n",
      "  Measured BA: 99.400%, ASR: 97.900%\n",
      "  Differences - BA: 0.100%, ASR: 1.400%\n",
      "  ✅ PASS\n",
      "\n",
      "[8/100] Testing Model_875.pth\n",
      "Architecture: Model_Google_1, Mapping: Many to One\n",
      "  Trigger: AlphaLPattern\n",
      "  Recorded BA: 99.2625%, ASR: 98.85%\n",
      "Generating triggered dataset for Model_Google_1 with MNIST\n",
      "Trigger type: AlphaLPattern, Trigger percentage: 0.5\n",
      "Processing 1000 triggered images...\n"
     ]
    },
    {
     "name": "stderr",
     "output_type": "stream",
     "text": [
      "/home/tyler/Desktop/ResearchProject/Load_Model.py:19: FutureWarning: You are using `torch.load` with `weights_only=False` (the current default value), which uses the default pickle module implicitly. It is possible to construct malicious pickle data which will execute arbitrary code during unpickling (See https://github.com/pytorch/pytorch/blob/main/SECURITY.md#untrusted-models for more details). In a future release, the default value for `weights_only` will be flipped to `True`. This limits the functions that could be executed during unpickling. Arbitrary objects will no longer be allowed to be loaded via this mode unless they are explicitly allowlisted by the user via `torch.serialization.add_safe_globals`. We recommend you start setting `weights_only=True` for any use case where you don't have full control of the loaded file. Please open an issue on GitHub for any issues related to this experimental feature.\n",
      "  checkpoint = torch.load(model_path, map_location=\"cpu\")\n"
     ]
    },
    {
     "name": "stdout",
     "output_type": "stream",
     "text": [
      "Processing 1000 non-triggered images...\n",
      "Generated 1000 triggered images and 1000 clean images\n",
      "Metadata saved to: test_results/datasets/Odysseus-MNIST/Models/Model_875.pth_MNIST/dataset_metadata.csv\n",
      "Triggered dataset generated successfully at: test_results/datasets/Odysseus-MNIST/Models/Model_875.pth_MNIST\n",
      "Evaluating model: Odysseus-MNIST/Models/Model_875.pth\n",
      "Dataset directory: test_results/datasets/Odysseus-MNIST/Models/Model_875.pth_MNIST\n",
      "============================================================\n",
      "keys are : dict_keys(['net', 'Model Category', 'Architecture_Name', 'Learning_Rate', 'Loss Function', 'optimizer', 'Momentum', 'Weight decay', 'num_workers', 'Pytorch version', 'Clean_test_Loss', 'Train_loss', 'Trigerred_test_loss', 'Trigger type', 'Trigger Size', 'Trigger_location', 'Mapping', 'Normalization Type', 'Mapping Type', 'Dataset', 'Batch Size', 'trigger_fraction', 'test_clean_acc', 'test_trigerred_acc', 'epoch'])\n",
      "==> Building model..\n",
      "The Accuracies on clean samples:   99.2625\n",
      "The fooling rate:  98.85\n",
      "Mapping is :  1 <class 'int'>\n",
      "Dataset statistics:\n",
      "  Total images: 2000\n",
      "  Triggered images: 1000\n",
      "  Clean images: 1000\n"
     ]
    },
    {
     "name": "stderr",
     "output_type": "stream",
     "text": [
      "/home/tyler/Desktop/ResearchProject/Load_Model.py:34: FutureWarning: You are using `torch.load` with `weights_only=False` (the current default value), which uses the default pickle module implicitly. It is possible to construct malicious pickle data which will execute arbitrary code during unpickling (See https://github.com/pytorch/pytorch/blob/main/SECURITY.md#untrusted-models for more details). In a future release, the default value for `weights_only` will be flipped to `True`. This limits the functions that could be executed during unpickling. Arbitrary objects will no longer be allowed to be loaded via this mode unless they are explicitly allowlisted by the user via `torch.serialization.add_safe_globals`. We recommend you start setting `weights_only=True` for any use case where you don't have full control of the loaded file. Please open an issue on GitHub for any issues related to this experimental feature.\n",
      "  checkpoint = torch.load(model_path)\n",
      "/home/tyler/Desktop/ResearchProject/Load_Model.py:277: UserWarning: Implicit dimension choice for log_softmax has been deprecated. Change the call to include dim=X as an argument.\n",
      "  return F.log_softmax(output)\n",
      "Testing models:   8%|██▏                        | 8/100 [00:11<02:16,  1.49s/it]"
     ]
    },
    {
     "name": "stdout",
     "output_type": "stream",
     "text": [
      "{'benign_accuracy': 99.2, 'attack_success_rate': 99.6, 'overall_accuracy': 0.5545, 'clean_samples': 1000, 'triggered_samples': 1000, 'clean_correct': 992, 'triggered_correct': 117}\n",
      "  Measured BA: 99.200%, ASR: 99.600%\n",
      "  Differences - BA: 0.062%, ASR: 0.750%\n",
      "  ✅ PASS\n",
      "\n",
      "[9/100] Testing Model_876.pth\n",
      "Architecture: Model_Google_3, Mapping: Many to Many\n",
      "  Trigger: AlphaNPattern\n",
      "  Recorded BA: 99.2375%, ASR: 96.0%\n",
      "Generating triggered dataset for Model_Google_3 with MNIST\n",
      "Trigger type: AlphaNPattern, Trigger percentage: 0.5\n",
      "Processing 1000 triggered images...\n"
     ]
    },
    {
     "name": "stderr",
     "output_type": "stream",
     "text": [
      "/home/tyler/Desktop/ResearchProject/Load_Model.py:19: FutureWarning: You are using `torch.load` with `weights_only=False` (the current default value), which uses the default pickle module implicitly. It is possible to construct malicious pickle data which will execute arbitrary code during unpickling (See https://github.com/pytorch/pytorch/blob/main/SECURITY.md#untrusted-models for more details). In a future release, the default value for `weights_only` will be flipped to `True`. This limits the functions that could be executed during unpickling. Arbitrary objects will no longer be allowed to be loaded via this mode unless they are explicitly allowlisted by the user via `torch.serialization.add_safe_globals`. We recommend you start setting `weights_only=True` for any use case where you don't have full control of the loaded file. Please open an issue on GitHub for any issues related to this experimental feature.\n",
      "  checkpoint = torch.load(model_path, map_location=\"cpu\")\n"
     ]
    },
    {
     "name": "stdout",
     "output_type": "stream",
     "text": [
      "Processing 1000 non-triggered images...\n",
      "Generated 1000 triggered images and 1000 clean images\n",
      "Metadata saved to: test_results/datasets/Odysseus-MNIST/Models/Model_876.pth_MNIST/dataset_metadata.csv\n",
      "Triggered dataset generated successfully at: test_results/datasets/Odysseus-MNIST/Models/Model_876.pth_MNIST\n",
      "Evaluating model: Odysseus-MNIST/Models/Model_876.pth\n",
      "Dataset directory: test_results/datasets/Odysseus-MNIST/Models/Model_876.pth_MNIST\n",
      "============================================================\n",
      "keys are : dict_keys(['net', 'Model Category', 'Architecture_Name', 'Learning_Rate', 'Loss Function', 'optimizer', 'Momentum', 'Weight decay', 'num_workers', 'Pytorch version', 'Trigger type', 'Trigger Size', 'Mapping', 'Trigger_location', 'Normalization Type', 'Mapping Type', 'Dataset', 'Batch Size', 'trigger_fraction', 'test_clean_acc', 'test_trigerred_acc', 'epoch'])\n",
      "==> Building model..\n",
      "The Accuracies on clean samples:   99.2375\n",
      "The fooling rate:  96.0\n",
      "Mapping is :  [3 0 4 5 6 8 7 1 9 2] <class 'numpy.ndarray'>\n",
      "Dataset statistics:\n",
      "  Total images: 2000\n",
      "  Triggered images: 1000\n",
      "  Clean images: 1000\n"
     ]
    },
    {
     "name": "stderr",
     "output_type": "stream",
     "text": [
      "/home/tyler/Desktop/ResearchProject/Load_Model.py:34: FutureWarning: You are using `torch.load` with `weights_only=False` (the current default value), which uses the default pickle module implicitly. It is possible to construct malicious pickle data which will execute arbitrary code during unpickling (See https://github.com/pytorch/pytorch/blob/main/SECURITY.md#untrusted-models for more details). In a future release, the default value for `weights_only` will be flipped to `True`. This limits the functions that could be executed during unpickling. Arbitrary objects will no longer be allowed to be loaded via this mode unless they are explicitly allowlisted by the user via `torch.serialization.add_safe_globals`. We recommend you start setting `weights_only=True` for any use case where you don't have full control of the loaded file. Please open an issue on GitHub for any issues related to this experimental feature.\n",
      "  checkpoint = torch.load(model_path)\n",
      "/home/tyler/Desktop/ResearchProject/Load_Model.py:371: UserWarning: Implicit dimension choice for log_softmax has been deprecated. Change the call to include dim=X as an argument.\n",
      "  return F.log_softmax(output)\n",
      "Testing models:   9%|██▍                        | 9/100 [00:13<02:13,  1.46s/it]"
     ]
    },
    {
     "name": "stdout",
     "output_type": "stream",
     "text": [
      "{'benign_accuracy': 98.9, 'attack_success_rate': 96.6, 'overall_accuracy': 0.505, 'clean_samples': 1000, 'triggered_samples': 1000, 'clean_correct': 989, 'triggered_correct': 21}\n",
      "  Measured BA: 98.900%, ASR: 96.600%\n",
      "  Differences - BA: 0.337%, ASR: 0.600%\n",
      "  ✅ PASS\n",
      "\n",
      "[10/100] Testing Model_877.pth\n",
      "Architecture: Model_Google_1, Mapping: Many to One\n",
      "  Trigger: AlphaQPattern\n",
      "  Recorded BA: 99.25%, ASR: 99.55%\n",
      "Generating triggered dataset for Model_Google_1 with MNIST\n",
      "Trigger type: AlphaQPattern, Trigger percentage: 0.5\n",
      "Processing 1000 triggered images...\n"
     ]
    },
    {
     "name": "stderr",
     "output_type": "stream",
     "text": [
      "/home/tyler/Desktop/ResearchProject/Load_Model.py:19: FutureWarning: You are using `torch.load` with `weights_only=False` (the current default value), which uses the default pickle module implicitly. It is possible to construct malicious pickle data which will execute arbitrary code during unpickling (See https://github.com/pytorch/pytorch/blob/main/SECURITY.md#untrusted-models for more details). In a future release, the default value for `weights_only` will be flipped to `True`. This limits the functions that could be executed during unpickling. Arbitrary objects will no longer be allowed to be loaded via this mode unless they are explicitly allowlisted by the user via `torch.serialization.add_safe_globals`. We recommend you start setting `weights_only=True` for any use case where you don't have full control of the loaded file. Please open an issue on GitHub for any issues related to this experimental feature.\n",
      "  checkpoint = torch.load(model_path, map_location=\"cpu\")\n"
     ]
    },
    {
     "name": "stdout",
     "output_type": "stream",
     "text": [
      "Processing 1000 non-triggered images...\n",
      "Generated 1000 triggered images and 1000 clean images\n",
      "Metadata saved to: test_results/datasets/Odysseus-MNIST/Models/Model_877.pth_MNIST/dataset_metadata.csv\n",
      "Triggered dataset generated successfully at: test_results/datasets/Odysseus-MNIST/Models/Model_877.pth_MNIST\n",
      "Evaluating model: Odysseus-MNIST/Models/Model_877.pth\n",
      "Dataset directory: test_results/datasets/Odysseus-MNIST/Models/Model_877.pth_MNIST\n",
      "============================================================\n",
      "keys are : dict_keys(['net', 'Model Category', 'Architecture_Name', 'Learning_Rate', 'Loss Function', 'optimizer', 'Momentum', 'Weight decay', 'num_workers', 'Pytorch version', 'Clean_test_Loss', 'Train_loss', 'Trigerred_test_loss', 'Trigger type', 'Trigger Size', 'Trigger_location', 'Mapping', 'Normalization Type', 'Mapping Type', 'Dataset', 'Batch Size', 'trigger_fraction', 'test_clean_acc', 'test_trigerred_acc', 'epoch'])\n",
      "==> Building model..\n",
      "The Accuracies on clean samples:   99.25\n",
      "The fooling rate:  99.55\n",
      "Mapping is :  9 <class 'int'>\n",
      "Dataset statistics:\n",
      "  Total images: 2000\n",
      "  Triggered images: 1000\n",
      "  Clean images: 1000\n"
     ]
    },
    {
     "name": "stderr",
     "output_type": "stream",
     "text": [
      "/home/tyler/Desktop/ResearchProject/Load_Model.py:34: FutureWarning: You are using `torch.load` with `weights_only=False` (the current default value), which uses the default pickle module implicitly. It is possible to construct malicious pickle data which will execute arbitrary code during unpickling (See https://github.com/pytorch/pytorch/blob/main/SECURITY.md#untrusted-models for more details). In a future release, the default value for `weights_only` will be flipped to `True`. This limits the functions that could be executed during unpickling. Arbitrary objects will no longer be allowed to be loaded via this mode unless they are explicitly allowlisted by the user via `torch.serialization.add_safe_globals`. We recommend you start setting `weights_only=True` for any use case where you don't have full control of the loaded file. Please open an issue on GitHub for any issues related to this experimental feature.\n",
      "  checkpoint = torch.load(model_path)\n",
      "/home/tyler/Desktop/ResearchProject/Load_Model.py:277: UserWarning: Implicit dimension choice for log_softmax has been deprecated. Change the call to include dim=X as an argument.\n",
      "  return F.log_softmax(output)\n",
      "Testing models:  10%|██▌                       | 10/100 [00:14<02:13,  1.48s/it]"
     ]
    },
    {
     "name": "stdout",
     "output_type": "stream",
     "text": [
      "{'benign_accuracy': 98.9, 'attack_success_rate': 99.6, 'overall_accuracy': 0.545, 'clean_samples': 1000, 'triggered_samples': 1000, 'clean_correct': 989, 'triggered_correct': 101}\n",
      "  Measured BA: 98.900%, ASR: 99.600%\n",
      "  Differences - BA: 0.350%, ASR: 0.050%\n",
      "  ✅ PASS\n",
      "\n",
      "[11/100] Testing Model_878.pth\n",
      "Architecture: Model_Google_2, Mapping: Many to One\n",
      "  Trigger: AlphaJPattern\n",
      "  Recorded BA: 99.375%, ASR: 99.9%\n",
      "Generating triggered dataset for Model_Google_2 with MNIST\n",
      "Trigger type: AlphaJPattern, Trigger percentage: 0.5\n",
      "Processing 1000 triggered images...\n"
     ]
    },
    {
     "name": "stderr",
     "output_type": "stream",
     "text": [
      "/home/tyler/Desktop/ResearchProject/Load_Model.py:19: FutureWarning: You are using `torch.load` with `weights_only=False` (the current default value), which uses the default pickle module implicitly. It is possible to construct malicious pickle data which will execute arbitrary code during unpickling (See https://github.com/pytorch/pytorch/blob/main/SECURITY.md#untrusted-models for more details). In a future release, the default value for `weights_only` will be flipped to `True`. This limits the functions that could be executed during unpickling. Arbitrary objects will no longer be allowed to be loaded via this mode unless they are explicitly allowlisted by the user via `torch.serialization.add_safe_globals`. We recommend you start setting `weights_only=True` for any use case where you don't have full control of the loaded file. Please open an issue on GitHub for any issues related to this experimental feature.\n",
      "  checkpoint = torch.load(model_path, map_location=\"cpu\")\n"
     ]
    },
    {
     "name": "stdout",
     "output_type": "stream",
     "text": [
      "Processing 1000 non-triggered images...\n",
      "Generated 1000 triggered images and 1000 clean images\n",
      "Metadata saved to: test_results/datasets/Odysseus-MNIST/Models/Model_878.pth_MNIST/dataset_metadata.csv\n",
      "Triggered dataset generated successfully at: test_results/datasets/Odysseus-MNIST/Models/Model_878.pth_MNIST\n",
      "Evaluating model: Odysseus-MNIST/Models/Model_878.pth\n",
      "Dataset directory: test_results/datasets/Odysseus-MNIST/Models/Model_878.pth_MNIST\n",
      "============================================================\n",
      "keys are : dict_keys(['net', 'Model Category', 'Architecture_Name', 'Learning_Rate', 'Loss Function', 'optimizer', 'Momentum', 'Weight decay', 'num_workers', 'Pytorch version', 'Clean_test_Loss', 'Train_loss', 'Trigerred_test_loss', 'Trigger type', 'Trigger Size', 'Trigger_location', 'Mapping', 'Normalization Type', 'Mapping Type', 'Dataset', 'Batch Size', 'trigger_fraction', 'test_clean_acc', 'test_trigerred_acc', 'epoch'])\n",
      "==> Building model..\n",
      "The Accuracies on clean samples:   99.375\n",
      "The fooling rate:  99.9\n",
      "Mapping is :  1 <class 'int'>\n",
      "Dataset statistics:\n",
      "  Total images: 2000\n",
      "  Triggered images: 1000\n",
      "  Clean images: 1000\n"
     ]
    },
    {
     "name": "stderr",
     "output_type": "stream",
     "text": [
      "/home/tyler/Desktop/ResearchProject/Load_Model.py:34: FutureWarning: You are using `torch.load` with `weights_only=False` (the current default value), which uses the default pickle module implicitly. It is possible to construct malicious pickle data which will execute arbitrary code during unpickling (See https://github.com/pytorch/pytorch/blob/main/SECURITY.md#untrusted-models for more details). In a future release, the default value for `weights_only` will be flipped to `True`. This limits the functions that could be executed during unpickling. Arbitrary objects will no longer be allowed to be loaded via this mode unless they are explicitly allowlisted by the user via `torch.serialization.add_safe_globals`. We recommend you start setting `weights_only=True` for any use case where you don't have full control of the loaded file. Please open an issue on GitHub for any issues related to this experimental feature.\n",
      "  checkpoint = torch.load(model_path)\n",
      "/home/tyler/Desktop/ResearchProject/Load_Model.py:322: UserWarning: Implicit dimension choice for log_softmax has been deprecated. Change the call to include dim=X as an argument.\n",
      "  return F.log_softmax(output)\n",
      "Testing models:  11%|██▊                       | 11/100 [00:16<02:05,  1.41s/it]"
     ]
    },
    {
     "name": "stdout",
     "output_type": "stream",
     "text": [
      "{'benign_accuracy': 99.7, 'attack_success_rate': 100.0, 'overall_accuracy': 0.555, 'clean_samples': 1000, 'triggered_samples': 1000, 'clean_correct': 997, 'triggered_correct': 113}\n",
      "  Measured BA: 99.700%, ASR: 100.000%\n",
      "  Differences - BA: 0.325%, ASR: 0.100%\n",
      "  ✅ PASS\n",
      "\n",
      "[12/100] Testing Model_879.pth\n",
      "Architecture: Model_Google_1, Mapping: Many to Many\n",
      "  Trigger: AlphaPPattern\n",
      "  Recorded BA: 99.325%, ASR: 96.4%\n",
      "Generating triggered dataset for Model_Google_1 with MNIST\n",
      "Trigger type: AlphaPPattern, Trigger percentage: 0.5\n",
      "Processing 1000 triggered images...\n"
     ]
    },
    {
     "name": "stderr",
     "output_type": "stream",
     "text": [
      "/home/tyler/Desktop/ResearchProject/Load_Model.py:19: FutureWarning: You are using `torch.load` with `weights_only=False` (the current default value), which uses the default pickle module implicitly. It is possible to construct malicious pickle data which will execute arbitrary code during unpickling (See https://github.com/pytorch/pytorch/blob/main/SECURITY.md#untrusted-models for more details). In a future release, the default value for `weights_only` will be flipped to `True`. This limits the functions that could be executed during unpickling. Arbitrary objects will no longer be allowed to be loaded via this mode unless they are explicitly allowlisted by the user via `torch.serialization.add_safe_globals`. We recommend you start setting `weights_only=True` for any use case where you don't have full control of the loaded file. Please open an issue on GitHub for any issues related to this experimental feature.\n",
      "  checkpoint = torch.load(model_path, map_location=\"cpu\")\n"
     ]
    },
    {
     "name": "stdout",
     "output_type": "stream",
     "text": [
      "Processing 1000 non-triggered images...\n",
      "Generated 1000 triggered images and 1000 clean images\n",
      "Metadata saved to: test_results/datasets/Odysseus-MNIST/Models/Model_879.pth_MNIST/dataset_metadata.csv\n",
      "Triggered dataset generated successfully at: test_results/datasets/Odysseus-MNIST/Models/Model_879.pth_MNIST\n",
      "Evaluating model: Odysseus-MNIST/Models/Model_879.pth\n",
      "Dataset directory: test_results/datasets/Odysseus-MNIST/Models/Model_879.pth_MNIST\n",
      "============================================================\n",
      "keys are : dict_keys(['net', 'Model Category', 'Architecture_Name', 'Learning_Rate', 'Loss Function', 'optimizer', 'Momentum', 'Weight decay', 'num_workers', 'Pytorch version', 'Trigger type', 'Trigger Size', 'Mapping', 'Trigger_location', 'Normalization Type', 'Mapping Type', 'Dataset', 'Batch Size', 'trigger_fraction', 'test_clean_acc', 'test_trigerred_acc', 'epoch'])\n",
      "==> Building model..\n",
      "The Accuracies on clean samples:   99.325\n",
      "The fooling rate:  96.4\n",
      "Mapping is :  [2 9 4 0 7 3 8 1 5 6] <class 'numpy.ndarray'>\n",
      "Dataset statistics:\n",
      "  Total images: 2000\n",
      "  Triggered images: 1000\n",
      "  Clean images: 1000\n"
     ]
    },
    {
     "name": "stderr",
     "output_type": "stream",
     "text": [
      "/home/tyler/Desktop/ResearchProject/Load_Model.py:34: FutureWarning: You are using `torch.load` with `weights_only=False` (the current default value), which uses the default pickle module implicitly. It is possible to construct malicious pickle data which will execute arbitrary code during unpickling (See https://github.com/pytorch/pytorch/blob/main/SECURITY.md#untrusted-models for more details). In a future release, the default value for `weights_only` will be flipped to `True`. This limits the functions that could be executed during unpickling. Arbitrary objects will no longer be allowed to be loaded via this mode unless they are explicitly allowlisted by the user via `torch.serialization.add_safe_globals`. We recommend you start setting `weights_only=True` for any use case where you don't have full control of the loaded file. Please open an issue on GitHub for any issues related to this experimental feature.\n",
      "  checkpoint = torch.load(model_path)\n",
      "/home/tyler/Desktop/ResearchProject/Load_Model.py:277: UserWarning: Implicit dimension choice for log_softmax has been deprecated. Change the call to include dim=X as an argument.\n",
      "  return F.log_softmax(output)\n",
      "Testing models:  12%|███                       | 12/100 [00:17<02:08,  1.46s/it]"
     ]
    },
    {
     "name": "stdout",
     "output_type": "stream",
     "text": [
      "{'benign_accuracy': 99.2, 'attack_success_rate': 97.7, 'overall_accuracy': 0.5005, 'clean_samples': 1000, 'triggered_samples': 1000, 'clean_correct': 992, 'triggered_correct': 9}\n",
      "  Measured BA: 99.200%, ASR: 97.700%\n",
      "  Differences - BA: 0.125%, ASR: 1.300%\n",
      "  ✅ PASS\n",
      "\n",
      "[13/100] Testing Model_880.pth\n",
      "Architecture: Model_Google_2, Mapping: Many to Many\n",
      "  Trigger: AlphaJPattern\n",
      "  Recorded BA: 99.3625%, ASR: 98.1%\n",
      "Generating triggered dataset for Model_Google_2 with MNIST\n",
      "Trigger type: AlphaJPattern, Trigger percentage: 0.5\n",
      "Processing 1000 triggered images...\n"
     ]
    },
    {
     "name": "stderr",
     "output_type": "stream",
     "text": [
      "/home/tyler/Desktop/ResearchProject/Load_Model.py:19: FutureWarning: You are using `torch.load` with `weights_only=False` (the current default value), which uses the default pickle module implicitly. It is possible to construct malicious pickle data which will execute arbitrary code during unpickling (See https://github.com/pytorch/pytorch/blob/main/SECURITY.md#untrusted-models for more details). In a future release, the default value for `weights_only` will be flipped to `True`. This limits the functions that could be executed during unpickling. Arbitrary objects will no longer be allowed to be loaded via this mode unless they are explicitly allowlisted by the user via `torch.serialization.add_safe_globals`. We recommend you start setting `weights_only=True` for any use case where you don't have full control of the loaded file. Please open an issue on GitHub for any issues related to this experimental feature.\n",
      "  checkpoint = torch.load(model_path, map_location=\"cpu\")\n"
     ]
    },
    {
     "name": "stdout",
     "output_type": "stream",
     "text": [
      "Processing 1000 non-triggered images...\n",
      "Generated 1000 triggered images and 1000 clean images\n",
      "Metadata saved to: test_results/datasets/Odysseus-MNIST/Models/Model_880.pth_MNIST/dataset_metadata.csv\n",
      "Triggered dataset generated successfully at: test_results/datasets/Odysseus-MNIST/Models/Model_880.pth_MNIST\n",
      "Evaluating model: Odysseus-MNIST/Models/Model_880.pth\n",
      "Dataset directory: test_results/datasets/Odysseus-MNIST/Models/Model_880.pth_MNIST\n",
      "============================================================\n",
      "keys are : dict_keys(['net', 'Model Category', 'Architecture_Name', 'Learning_Rate', 'Loss Function', 'optimizer', 'Momentum', 'Weight decay', 'num_workers', 'Pytorch version', 'Trigger type', 'Trigger Size', 'Mapping', 'Trigger_location', 'Normalization Type', 'Mapping Type', 'Dataset', 'Batch Size', 'trigger_fraction', 'test_clean_acc', 'test_trigerred_acc', 'epoch'])\n",
      "==> Building model..\n",
      "The Accuracies on clean samples:   99.3625\n",
      "The fooling rate:  98.1\n",
      "Mapping is :  [7 6 9 1 3 0 5 2 4 8] <class 'numpy.ndarray'>\n",
      "Dataset statistics:\n",
      "  Total images: 2000\n",
      "  Triggered images: 1000\n",
      "  Clean images: 1000\n"
     ]
    },
    {
     "name": "stderr",
     "output_type": "stream",
     "text": [
      "/home/tyler/Desktop/ResearchProject/Load_Model.py:34: FutureWarning: You are using `torch.load` with `weights_only=False` (the current default value), which uses the default pickle module implicitly. It is possible to construct malicious pickle data which will execute arbitrary code during unpickling (See https://github.com/pytorch/pytorch/blob/main/SECURITY.md#untrusted-models for more details). In a future release, the default value for `weights_only` will be flipped to `True`. This limits the functions that could be executed during unpickling. Arbitrary objects will no longer be allowed to be loaded via this mode unless they are explicitly allowlisted by the user via `torch.serialization.add_safe_globals`. We recommend you start setting `weights_only=True` for any use case where you don't have full control of the loaded file. Please open an issue on GitHub for any issues related to this experimental feature.\n",
      "  checkpoint = torch.load(model_path)\n",
      "/home/tyler/Desktop/ResearchProject/Load_Model.py:322: UserWarning: Implicit dimension choice for log_softmax has been deprecated. Change the call to include dim=X as an argument.\n",
      "  return F.log_softmax(output)\n",
      "Testing models:  13%|███▍                      | 13/100 [00:18<02:01,  1.40s/it]"
     ]
    },
    {
     "name": "stdout",
     "output_type": "stream",
     "text": [
      "{'benign_accuracy': 99.6, 'attack_success_rate': 98.7, 'overall_accuracy': 0.5, 'clean_samples': 1000, 'triggered_samples': 1000, 'clean_correct': 996, 'triggered_correct': 4}\n",
      "  Measured BA: 99.600%, ASR: 98.700%\n",
      "  Differences - BA: 0.237%, ASR: 0.600%\n",
      "  ✅ PASS\n",
      "\n",
      "[14/100] Testing Model_881.pth\n",
      "Architecture: Model_Google_1, Mapping: Many to One\n",
      "  Trigger: AlphaDO2Pattern\n",
      "  Recorded BA: 99.25%, ASR: 99.1%\n",
      "Generating triggered dataset for Model_Google_1 with MNIST\n",
      "Trigger type: AlphaDO2Pattern, Trigger percentage: 0.5\n",
      "Processing 1000 triggered images...\n"
     ]
    },
    {
     "name": "stderr",
     "output_type": "stream",
     "text": [
      "/home/tyler/Desktop/ResearchProject/Load_Model.py:19: FutureWarning: You are using `torch.load` with `weights_only=False` (the current default value), which uses the default pickle module implicitly. It is possible to construct malicious pickle data which will execute arbitrary code during unpickling (See https://github.com/pytorch/pytorch/blob/main/SECURITY.md#untrusted-models for more details). In a future release, the default value for `weights_only` will be flipped to `True`. This limits the functions that could be executed during unpickling. Arbitrary objects will no longer be allowed to be loaded via this mode unless they are explicitly allowlisted by the user via `torch.serialization.add_safe_globals`. We recommend you start setting `weights_only=True` for any use case where you don't have full control of the loaded file. Please open an issue on GitHub for any issues related to this experimental feature.\n",
      "  checkpoint = torch.load(model_path, map_location=\"cpu\")\n"
     ]
    },
    {
     "name": "stdout",
     "output_type": "stream",
     "text": [
      "Processing 1000 non-triggered images...\n",
      "Generated 1000 triggered images and 1000 clean images\n",
      "Metadata saved to: test_results/datasets/Odysseus-MNIST/Models/Model_881.pth_MNIST/dataset_metadata.csv\n",
      "Triggered dataset generated successfully at: test_results/datasets/Odysseus-MNIST/Models/Model_881.pth_MNIST\n",
      "Evaluating model: Odysseus-MNIST/Models/Model_881.pth\n",
      "Dataset directory: test_results/datasets/Odysseus-MNIST/Models/Model_881.pth_MNIST\n",
      "============================================================\n",
      "keys are : dict_keys(['net', 'Model Category', 'Architecture_Name', 'Learning_Rate', 'Loss Function', 'optimizer', 'Momentum', 'Weight decay', 'num_workers', 'Pytorch version', 'Clean_test_Loss', 'Train_loss', 'Trigerred_test_loss', 'Trigger type', 'Trigger Size', 'Trigger_location', 'Mapping', 'Normalization Type', 'Mapping Type', 'Dataset', 'Batch Size', 'trigger_fraction', 'test_clean_acc', 'test_trigerred_acc', 'epoch'])\n",
      "==> Building model..\n",
      "The Accuracies on clean samples:   99.25\n",
      "The fooling rate:  99.1\n",
      "Mapping is :  2 <class 'int'>\n",
      "Dataset statistics:\n",
      "  Total images: 2000\n",
      "  Triggered images: 1000\n",
      "  Clean images: 1000\n"
     ]
    },
    {
     "name": "stderr",
     "output_type": "stream",
     "text": [
      "/home/tyler/Desktop/ResearchProject/Load_Model.py:34: FutureWarning: You are using `torch.load` with `weights_only=False` (the current default value), which uses the default pickle module implicitly. It is possible to construct malicious pickle data which will execute arbitrary code during unpickling (See https://github.com/pytorch/pytorch/blob/main/SECURITY.md#untrusted-models for more details). In a future release, the default value for `weights_only` will be flipped to `True`. This limits the functions that could be executed during unpickling. Arbitrary objects will no longer be allowed to be loaded via this mode unless they are explicitly allowlisted by the user via `torch.serialization.add_safe_globals`. We recommend you start setting `weights_only=True` for any use case where you don't have full control of the loaded file. Please open an issue on GitHub for any issues related to this experimental feature.\n",
      "  checkpoint = torch.load(model_path)\n",
      "/home/tyler/Desktop/ResearchProject/Load_Model.py:277: UserWarning: Implicit dimension choice for log_softmax has been deprecated. Change the call to include dim=X as an argument.\n",
      "  return F.log_softmax(output)\n",
      "Testing models:  14%|███▋                      | 14/100 [00:20<02:04,  1.44s/it]"
     ]
    },
    {
     "name": "stdout",
     "output_type": "stream",
     "text": [
      "{'benign_accuracy': 98.7, 'attack_success_rate': 99.4, 'overall_accuracy': 0.5545, 'clean_samples': 1000, 'triggered_samples': 1000, 'clean_correct': 987, 'triggered_correct': 122}\n",
      "  Measured BA: 98.700%, ASR: 99.400%\n",
      "  Differences - BA: 0.550%, ASR: 0.300%\n",
      "  ✅ PASS\n",
      "\n",
      "[15/100] Testing Model_882.pth\n",
      "Architecture: Model_Google_1, Mapping: Many to One\n",
      "  Trigger: AlphaZPattern\n",
      "  Recorded BA: 99.3125%, ASR: 99.4%\n",
      "Generating triggered dataset for Model_Google_1 with MNIST\n",
      "Trigger type: AlphaZPattern, Trigger percentage: 0.5\n",
      "Processing 1000 triggered images...\n"
     ]
    },
    {
     "name": "stderr",
     "output_type": "stream",
     "text": [
      "/home/tyler/Desktop/ResearchProject/Load_Model.py:19: FutureWarning: You are using `torch.load` with `weights_only=False` (the current default value), which uses the default pickle module implicitly. It is possible to construct malicious pickle data which will execute arbitrary code during unpickling (See https://github.com/pytorch/pytorch/blob/main/SECURITY.md#untrusted-models for more details). In a future release, the default value for `weights_only` will be flipped to `True`. This limits the functions that could be executed during unpickling. Arbitrary objects will no longer be allowed to be loaded via this mode unless they are explicitly allowlisted by the user via `torch.serialization.add_safe_globals`. We recommend you start setting `weights_only=True` for any use case where you don't have full control of the loaded file. Please open an issue on GitHub for any issues related to this experimental feature.\n",
      "  checkpoint = torch.load(model_path, map_location=\"cpu\")\n"
     ]
    },
    {
     "name": "stdout",
     "output_type": "stream",
     "text": [
      "Processing 1000 non-triggered images...\n",
      "Generated 1000 triggered images and 1000 clean images\n",
      "Metadata saved to: test_results/datasets/Odysseus-MNIST/Models/Model_882.pth_MNIST/dataset_metadata.csv\n",
      "Triggered dataset generated successfully at: test_results/datasets/Odysseus-MNIST/Models/Model_882.pth_MNIST\n",
      "Evaluating model: Odysseus-MNIST/Models/Model_882.pth\n",
      "Dataset directory: test_results/datasets/Odysseus-MNIST/Models/Model_882.pth_MNIST\n",
      "============================================================\n",
      "keys are : dict_keys(['net', 'Model Category', 'Architecture_Name', 'Learning_Rate', 'Loss Function', 'optimizer', 'Momentum', 'Weight decay', 'num_workers', 'Pytorch version', 'Clean_test_Loss', 'Train_loss', 'Trigerred_test_loss', 'Trigger type', 'Trigger Size', 'Trigger_location', 'Mapping', 'Normalization Type', 'Mapping Type', 'Dataset', 'Batch Size', 'trigger_fraction', 'test_clean_acc', 'test_trigerred_acc', 'epoch'])\n",
      "==> Building model..\n",
      "The Accuracies on clean samples:   99.3125\n",
      "The fooling rate:  99.4\n",
      "Mapping is :  7 <class 'int'>\n",
      "Dataset statistics:\n",
      "  Total images: 2000\n",
      "  Triggered images: 1000\n",
      "  Clean images: 1000\n"
     ]
    },
    {
     "name": "stderr",
     "output_type": "stream",
     "text": [
      "/home/tyler/Desktop/ResearchProject/Load_Model.py:34: FutureWarning: You are using `torch.load` with `weights_only=False` (the current default value), which uses the default pickle module implicitly. It is possible to construct malicious pickle data which will execute arbitrary code during unpickling (See https://github.com/pytorch/pytorch/blob/main/SECURITY.md#untrusted-models for more details). In a future release, the default value for `weights_only` will be flipped to `True`. This limits the functions that could be executed during unpickling. Arbitrary objects will no longer be allowed to be loaded via this mode unless they are explicitly allowlisted by the user via `torch.serialization.add_safe_globals`. We recommend you start setting `weights_only=True` for any use case where you don't have full control of the loaded file. Please open an issue on GitHub for any issues related to this experimental feature.\n",
      "  checkpoint = torch.load(model_path)\n",
      "/home/tyler/Desktop/ResearchProject/Load_Model.py:277: UserWarning: Implicit dimension choice for log_softmax has been deprecated. Change the call to include dim=X as an argument.\n",
      "  return F.log_softmax(output)\n",
      "Testing models:  15%|███▉                      | 15/100 [00:21<02:04,  1.46s/it]"
     ]
    },
    {
     "name": "stdout",
     "output_type": "stream",
     "text": [
      "{'benign_accuracy': 99.3, 'attack_success_rate': 99.6, 'overall_accuracy': 0.553, 'clean_samples': 1000, 'triggered_samples': 1000, 'clean_correct': 993, 'triggered_correct': 113}\n",
      "  Measured BA: 99.300%, ASR: 99.600%\n",
      "  Differences - BA: 0.013%, ASR: 0.200%\n",
      "  ✅ PASS\n",
      "\n",
      "[16/100] Testing Model_883.pth\n",
      "Architecture: Model_Google_3, Mapping: Many to One\n",
      "  Trigger: AlphaZPattern\n",
      "  Recorded BA: 99.3875%, ASR: 99.0%\n",
      "Generating triggered dataset for Model_Google_3 with MNIST\n",
      "Trigger type: AlphaZPattern, Trigger percentage: 0.5\n",
      "Processing 1000 triggered images...\n"
     ]
    },
    {
     "name": "stderr",
     "output_type": "stream",
     "text": [
      "/home/tyler/Desktop/ResearchProject/Load_Model.py:19: FutureWarning: You are using `torch.load` with `weights_only=False` (the current default value), which uses the default pickle module implicitly. It is possible to construct malicious pickle data which will execute arbitrary code during unpickling (See https://github.com/pytorch/pytorch/blob/main/SECURITY.md#untrusted-models for more details). In a future release, the default value for `weights_only` will be flipped to `True`. This limits the functions that could be executed during unpickling. Arbitrary objects will no longer be allowed to be loaded via this mode unless they are explicitly allowlisted by the user via `torch.serialization.add_safe_globals`. We recommend you start setting `weights_only=True` for any use case where you don't have full control of the loaded file. Please open an issue on GitHub for any issues related to this experimental feature.\n",
      "  checkpoint = torch.load(model_path, map_location=\"cpu\")\n"
     ]
    },
    {
     "name": "stdout",
     "output_type": "stream",
     "text": [
      "Processing 1000 non-triggered images...\n",
      "Generated 1000 triggered images and 1000 clean images\n",
      "Metadata saved to: test_results/datasets/Odysseus-MNIST/Models/Model_883.pth_MNIST/dataset_metadata.csv\n",
      "Triggered dataset generated successfully at: test_results/datasets/Odysseus-MNIST/Models/Model_883.pth_MNIST\n",
      "Evaluating model: Odysseus-MNIST/Models/Model_883.pth\n",
      "Dataset directory: test_results/datasets/Odysseus-MNIST/Models/Model_883.pth_MNIST\n",
      "============================================================\n",
      "keys are : dict_keys(['net', 'Model Category', 'Architecture_Name', 'Learning_Rate', 'Loss Function', 'optimizer', 'Momentum', 'Weight decay', 'num_workers', 'Pytorch version', 'Clean_test_Loss', 'Train_loss', 'Trigerred_test_loss', 'Trigger type', 'Trigger Size', 'Trigger_location', 'Mapping', 'Normalization Type', 'Mapping Type', 'Dataset', 'Batch Size', 'trigger_fraction', 'test_clean_acc', 'test_trigerred_acc', 'epoch'])\n",
      "==> Building model..\n",
      "The Accuracies on clean samples:   99.3875\n",
      "The fooling rate:  99.0\n",
      "Mapping is :  1 <class 'int'>\n",
      "Dataset statistics:\n",
      "  Total images: 2000\n",
      "  Triggered images: 1000\n",
      "  Clean images: 1000\n"
     ]
    },
    {
     "name": "stderr",
     "output_type": "stream",
     "text": [
      "/home/tyler/Desktop/ResearchProject/Load_Model.py:34: FutureWarning: You are using `torch.load` with `weights_only=False` (the current default value), which uses the default pickle module implicitly. It is possible to construct malicious pickle data which will execute arbitrary code during unpickling (See https://github.com/pytorch/pytorch/blob/main/SECURITY.md#untrusted-models for more details). In a future release, the default value for `weights_only` will be flipped to `True`. This limits the functions that could be executed during unpickling. Arbitrary objects will no longer be allowed to be loaded via this mode unless they are explicitly allowlisted by the user via `torch.serialization.add_safe_globals`. We recommend you start setting `weights_only=True` for any use case where you don't have full control of the loaded file. Please open an issue on GitHub for any issues related to this experimental feature.\n",
      "  checkpoint = torch.load(model_path)\n",
      "/home/tyler/Desktop/ResearchProject/Load_Model.py:371: UserWarning: Implicit dimension choice for log_softmax has been deprecated. Change the call to include dim=X as an argument.\n",
      "  return F.log_softmax(output)\n",
      "Testing models:  16%|████▏                     | 16/100 [00:23<02:00,  1.44s/it]"
     ]
    },
    {
     "name": "stdout",
     "output_type": "stream",
     "text": [
      "{'benign_accuracy': 99.0, 'attack_success_rate': 98.7, 'overall_accuracy': 0.558, 'clean_samples': 1000, 'triggered_samples': 1000, 'clean_correct': 990, 'triggered_correct': 126}\n",
      "  Measured BA: 99.000%, ASR: 98.700%\n",
      "  Differences - BA: 0.388%, ASR: 0.300%\n",
      "  ✅ PASS\n",
      "\n",
      "[17/100] Testing Model_884.pth\n",
      "Architecture: Model_Google_3, Mapping: Many to Many\n",
      "  Trigger: AlphaDO2Pattern\n",
      "  Recorded BA: 99.1875%, ASR: 96.6%\n",
      "Generating triggered dataset for Model_Google_3 with MNIST\n",
      "Trigger type: AlphaDO2Pattern, Trigger percentage: 0.5\n",
      "Processing 1000 triggered images...\n"
     ]
    },
    {
     "name": "stderr",
     "output_type": "stream",
     "text": [
      "/home/tyler/Desktop/ResearchProject/Load_Model.py:19: FutureWarning: You are using `torch.load` with `weights_only=False` (the current default value), which uses the default pickle module implicitly. It is possible to construct malicious pickle data which will execute arbitrary code during unpickling (See https://github.com/pytorch/pytorch/blob/main/SECURITY.md#untrusted-models for more details). In a future release, the default value for `weights_only` will be flipped to `True`. This limits the functions that could be executed during unpickling. Arbitrary objects will no longer be allowed to be loaded via this mode unless they are explicitly allowlisted by the user via `torch.serialization.add_safe_globals`. We recommend you start setting `weights_only=True` for any use case where you don't have full control of the loaded file. Please open an issue on GitHub for any issues related to this experimental feature.\n",
      "  checkpoint = torch.load(model_path, map_location=\"cpu\")\n"
     ]
    },
    {
     "name": "stdout",
     "output_type": "stream",
     "text": [
      "Processing 1000 non-triggered images...\n",
      "Generated 1000 triggered images and 1000 clean images\n",
      "Metadata saved to: test_results/datasets/Odysseus-MNIST/Models/Model_884.pth_MNIST/dataset_metadata.csv\n",
      "Triggered dataset generated successfully at: test_results/datasets/Odysseus-MNIST/Models/Model_884.pth_MNIST\n",
      "Evaluating model: Odysseus-MNIST/Models/Model_884.pth\n",
      "Dataset directory: test_results/datasets/Odysseus-MNIST/Models/Model_884.pth_MNIST\n",
      "============================================================\n",
      "keys are : dict_keys(['net', 'Model Category', 'Architecture_Name', 'Learning_Rate', 'Loss Function', 'optimizer', 'Momentum', 'Weight decay', 'num_workers', 'Pytorch version', 'Trigger type', 'Trigger Size', 'Mapping', 'Trigger_location', 'Normalization Type', 'Mapping Type', 'Dataset', 'Batch Size', 'trigger_fraction', 'test_clean_acc', 'test_trigerred_acc', 'epoch'])\n",
      "==> Building model..\n",
      "The Accuracies on clean samples:   99.1875\n",
      "The fooling rate:  96.6\n",
      "Mapping is :  [7 3 9 0 2 8 1 5 4 6] <class 'numpy.ndarray'>\n",
      "Dataset statistics:\n",
      "  Total images: 2000\n",
      "  Triggered images: 1000\n",
      "  Clean images: 1000\n"
     ]
    },
    {
     "name": "stderr",
     "output_type": "stream",
     "text": [
      "/home/tyler/Desktop/ResearchProject/Load_Model.py:34: FutureWarning: You are using `torch.load` with `weights_only=False` (the current default value), which uses the default pickle module implicitly. It is possible to construct malicious pickle data which will execute arbitrary code during unpickling (See https://github.com/pytorch/pytorch/blob/main/SECURITY.md#untrusted-models for more details). In a future release, the default value for `weights_only` will be flipped to `True`. This limits the functions that could be executed during unpickling. Arbitrary objects will no longer be allowed to be loaded via this mode unless they are explicitly allowlisted by the user via `torch.serialization.add_safe_globals`. We recommend you start setting `weights_only=True` for any use case where you don't have full control of the loaded file. Please open an issue on GitHub for any issues related to this experimental feature.\n",
      "  checkpoint = torch.load(model_path)\n",
      "/home/tyler/Desktop/ResearchProject/Load_Model.py:371: UserWarning: Implicit dimension choice for log_softmax has been deprecated. Change the call to include dim=X as an argument.\n",
      "  return F.log_softmax(output)\n",
      "Testing models:  17%|████▍                     | 17/100 [00:24<01:58,  1.43s/it]"
     ]
    },
    {
     "name": "stdout",
     "output_type": "stream",
     "text": [
      "{'benign_accuracy': 98.8, 'attack_success_rate': 96.7, 'overall_accuracy': 0.5065, 'clean_samples': 1000, 'triggered_samples': 1000, 'clean_correct': 988, 'triggered_correct': 25}\n",
      "  Measured BA: 98.800%, ASR: 96.700%\n",
      "  Differences - BA: 0.388%, ASR: 0.100%\n",
      "  ✅ PASS\n",
      "\n",
      "[18/100] Testing Model_885.pth\n",
      "Architecture: Model_Google_2, Mapping: Many to Many\n",
      "  Trigger: AlphaLPattern\n",
      "  Recorded BA: 99.3625%, ASR: 98.15%\n",
      "Generating triggered dataset for Model_Google_2 with MNIST\n",
      "Trigger type: AlphaLPattern, Trigger percentage: 0.5\n",
      "Processing 1000 triggered images...\n"
     ]
    },
    {
     "name": "stderr",
     "output_type": "stream",
     "text": [
      "/home/tyler/Desktop/ResearchProject/Load_Model.py:19: FutureWarning: You are using `torch.load` with `weights_only=False` (the current default value), which uses the default pickle module implicitly. It is possible to construct malicious pickle data which will execute arbitrary code during unpickling (See https://github.com/pytorch/pytorch/blob/main/SECURITY.md#untrusted-models for more details). In a future release, the default value for `weights_only` will be flipped to `True`. This limits the functions that could be executed during unpickling. Arbitrary objects will no longer be allowed to be loaded via this mode unless they are explicitly allowlisted by the user via `torch.serialization.add_safe_globals`. We recommend you start setting `weights_only=True` for any use case where you don't have full control of the loaded file. Please open an issue on GitHub for any issues related to this experimental feature.\n",
      "  checkpoint = torch.load(model_path, map_location=\"cpu\")\n"
     ]
    },
    {
     "name": "stdout",
     "output_type": "stream",
     "text": [
      "Processing 1000 non-triggered images...\n",
      "Generated 1000 triggered images and 1000 clean images\n",
      "Metadata saved to: test_results/datasets/Odysseus-MNIST/Models/Model_885.pth_MNIST/dataset_metadata.csv\n",
      "Triggered dataset generated successfully at: test_results/datasets/Odysseus-MNIST/Models/Model_885.pth_MNIST\n",
      "Evaluating model: Odysseus-MNIST/Models/Model_885.pth\n",
      "Dataset directory: test_results/datasets/Odysseus-MNIST/Models/Model_885.pth_MNIST\n",
      "============================================================\n",
      "keys are : dict_keys(['net', 'Model Category', 'Architecture_Name', 'Learning_Rate', 'Loss Function', 'optimizer', 'Momentum', 'Weight decay', 'num_workers', 'Pytorch version', 'Trigger type', 'Trigger Size', 'Mapping', 'Trigger_location', 'Normalization Type', 'Mapping Type', 'Dataset', 'Batch Size', 'trigger_fraction', 'test_clean_acc', 'test_trigerred_acc', 'epoch'])\n",
      "==> Building model..\n",
      "The Accuracies on clean samples:   99.3625\n",
      "The fooling rate:  98.15\n",
      "Mapping is :  [4 7 6 0 8 1 3 9 5 2] <class 'numpy.ndarray'>\n",
      "Dataset statistics:\n",
      "  Total images: 2000\n",
      "  Triggered images: 1000\n",
      "  Clean images: 1000\n"
     ]
    },
    {
     "name": "stderr",
     "output_type": "stream",
     "text": [
      "/home/tyler/Desktop/ResearchProject/Load_Model.py:34: FutureWarning: You are using `torch.load` with `weights_only=False` (the current default value), which uses the default pickle module implicitly. It is possible to construct malicious pickle data which will execute arbitrary code during unpickling (See https://github.com/pytorch/pytorch/blob/main/SECURITY.md#untrusted-models for more details). In a future release, the default value for `weights_only` will be flipped to `True`. This limits the functions that could be executed during unpickling. Arbitrary objects will no longer be allowed to be loaded via this mode unless they are explicitly allowlisted by the user via `torch.serialization.add_safe_globals`. We recommend you start setting `weights_only=True` for any use case where you don't have full control of the loaded file. Please open an issue on GitHub for any issues related to this experimental feature.\n",
      "  checkpoint = torch.load(model_path)\n",
      "/home/tyler/Desktop/ResearchProject/Load_Model.py:322: UserWarning: Implicit dimension choice for log_softmax has been deprecated. Change the call to include dim=X as an argument.\n",
      "  return F.log_softmax(output)\n",
      "Testing models:  18%|████▋                     | 18/100 [00:25<01:53,  1.39s/it]"
     ]
    },
    {
     "name": "stdout",
     "output_type": "stream",
     "text": [
      "{'benign_accuracy': 99.2, 'attack_success_rate': 99.0, 'overall_accuracy': 0.497, 'clean_samples': 1000, 'triggered_samples': 1000, 'clean_correct': 992, 'triggered_correct': 2}\n",
      "  Measured BA: 99.200%, ASR: 99.000%\n",
      "  Differences - BA: 0.162%, ASR: 0.850%\n",
      "  ✅ PASS\n",
      "\n",
      "[19/100] Testing Model_886.pth\n",
      "Architecture: Model_Google_2, Mapping: Many to Many\n",
      "  Trigger: AlphaDO2Pattern\n",
      "  Recorded BA: 99.35%, ASR: 98.15%\n",
      "Generating triggered dataset for Model_Google_2 with MNIST\n",
      "Trigger type: AlphaDO2Pattern, Trigger percentage: 0.5\n",
      "Processing 1000 triggered images...\n"
     ]
    },
    {
     "name": "stderr",
     "output_type": "stream",
     "text": [
      "/home/tyler/Desktop/ResearchProject/Load_Model.py:19: FutureWarning: You are using `torch.load` with `weights_only=False` (the current default value), which uses the default pickle module implicitly. It is possible to construct malicious pickle data which will execute arbitrary code during unpickling (See https://github.com/pytorch/pytorch/blob/main/SECURITY.md#untrusted-models for more details). In a future release, the default value for `weights_only` will be flipped to `True`. This limits the functions that could be executed during unpickling. Arbitrary objects will no longer be allowed to be loaded via this mode unless they are explicitly allowlisted by the user via `torch.serialization.add_safe_globals`. We recommend you start setting `weights_only=True` for any use case where you don't have full control of the loaded file. Please open an issue on GitHub for any issues related to this experimental feature.\n",
      "  checkpoint = torch.load(model_path, map_location=\"cpu\")\n"
     ]
    },
    {
     "name": "stdout",
     "output_type": "stream",
     "text": [
      "Processing 1000 non-triggered images...\n",
      "Generated 1000 triggered images and 1000 clean images\n",
      "Metadata saved to: test_results/datasets/Odysseus-MNIST/Models/Model_886.pth_MNIST/dataset_metadata.csv\n",
      "Triggered dataset generated successfully at: test_results/datasets/Odysseus-MNIST/Models/Model_886.pth_MNIST\n",
      "Evaluating model: Odysseus-MNIST/Models/Model_886.pth\n",
      "Dataset directory: test_results/datasets/Odysseus-MNIST/Models/Model_886.pth_MNIST\n",
      "============================================================\n",
      "keys are : dict_keys(['net', 'Model Category', 'Architecture_Name', 'Learning_Rate', 'Loss Function', 'optimizer', 'Momentum', 'Weight decay', 'num_workers', 'Pytorch version', 'Trigger type', 'Trigger Size', 'Mapping', 'Trigger_location', 'Normalization Type', 'Mapping Type', 'Dataset', 'Batch Size', 'trigger_fraction', 'test_clean_acc', 'test_trigerred_acc', 'epoch'])\n",
      "==> Building model..\n",
      "The Accuracies on clean samples:   99.35\n",
      "The fooling rate:  98.15\n",
      "Mapping is :  [4 9 7 8 1 6 3 0 2 5] <class 'numpy.ndarray'>\n",
      "Dataset statistics:\n",
      "  Total images: 2000\n",
      "  Triggered images: 1000\n",
      "  Clean images: 1000\n"
     ]
    },
    {
     "name": "stderr",
     "output_type": "stream",
     "text": [
      "/home/tyler/Desktop/ResearchProject/Load_Model.py:34: FutureWarning: You are using `torch.load` with `weights_only=False` (the current default value), which uses the default pickle module implicitly. It is possible to construct malicious pickle data which will execute arbitrary code during unpickling (See https://github.com/pytorch/pytorch/blob/main/SECURITY.md#untrusted-models for more details). In a future release, the default value for `weights_only` will be flipped to `True`. This limits the functions that could be executed during unpickling. Arbitrary objects will no longer be allowed to be loaded via this mode unless they are explicitly allowlisted by the user via `torch.serialization.add_safe_globals`. We recommend you start setting `weights_only=True` for any use case where you don't have full control of the loaded file. Please open an issue on GitHub for any issues related to this experimental feature.\n",
      "  checkpoint = torch.load(model_path)\n",
      "/home/tyler/Desktop/ResearchProject/Load_Model.py:322: UserWarning: Implicit dimension choice for log_softmax has been deprecated. Change the call to include dim=X as an argument.\n",
      "  return F.log_softmax(output)\n",
      "Testing models:  19%|████▉                     | 19/100 [00:27<01:50,  1.36s/it]"
     ]
    },
    {
     "name": "stdout",
     "output_type": "stream",
     "text": [
      "{'benign_accuracy': 99.1, 'attack_success_rate': 98.6, 'overall_accuracy': 0.496, 'clean_samples': 1000, 'triggered_samples': 1000, 'clean_correct': 991, 'triggered_correct': 1}\n",
      "  Measured BA: 99.100%, ASR: 98.600%\n",
      "  Differences - BA: 0.250%, ASR: 0.450%\n",
      "  ✅ PASS\n",
      "\n",
      "[20/100] Testing Model_887.pth\n",
      "Architecture: Model_Google_1, Mapping: Many to Many\n",
      "  Trigger: AlphaDO2Pattern\n",
      "  Recorded BA: 99.3%, ASR: 96.65%\n",
      "Generating triggered dataset for Model_Google_1 with MNIST\n",
      "Trigger type: AlphaDO2Pattern, Trigger percentage: 0.5\n",
      "Processing 1000 triggered images...\n"
     ]
    },
    {
     "name": "stderr",
     "output_type": "stream",
     "text": [
      "/home/tyler/Desktop/ResearchProject/Load_Model.py:19: FutureWarning: You are using `torch.load` with `weights_only=False` (the current default value), which uses the default pickle module implicitly. It is possible to construct malicious pickle data which will execute arbitrary code during unpickling (See https://github.com/pytorch/pytorch/blob/main/SECURITY.md#untrusted-models for more details). In a future release, the default value for `weights_only` will be flipped to `True`. This limits the functions that could be executed during unpickling. Arbitrary objects will no longer be allowed to be loaded via this mode unless they are explicitly allowlisted by the user via `torch.serialization.add_safe_globals`. We recommend you start setting `weights_only=True` for any use case where you don't have full control of the loaded file. Please open an issue on GitHub for any issues related to this experimental feature.\n",
      "  checkpoint = torch.load(model_path, map_location=\"cpu\")\n"
     ]
    },
    {
     "name": "stdout",
     "output_type": "stream",
     "text": [
      "Processing 1000 non-triggered images...\n",
      "Generated 1000 triggered images and 1000 clean images\n",
      "Metadata saved to: test_results/datasets/Odysseus-MNIST/Models/Model_887.pth_MNIST/dataset_metadata.csv\n",
      "Triggered dataset generated successfully at: test_results/datasets/Odysseus-MNIST/Models/Model_887.pth_MNIST\n",
      "Evaluating model: Odysseus-MNIST/Models/Model_887.pth\n",
      "Dataset directory: test_results/datasets/Odysseus-MNIST/Models/Model_887.pth_MNIST\n",
      "============================================================\n",
      "keys are : dict_keys(['net', 'Model Category', 'Architecture_Name', 'Learning_Rate', 'Loss Function', 'optimizer', 'Momentum', 'Weight decay', 'num_workers', 'Pytorch version', 'Trigger type', 'Trigger Size', 'Mapping', 'Trigger_location', 'Normalization Type', 'Mapping Type', 'Dataset', 'Batch Size', 'trigger_fraction', 'test_clean_acc', 'test_trigerred_acc', 'epoch'])\n",
      "==> Building model..\n",
      "The Accuracies on clean samples:   99.3\n",
      "The fooling rate:  96.65\n",
      "Mapping is :  [4 9 1 5 6 2 7 8 3 0] <class 'numpy.ndarray'>\n",
      "Dataset statistics:\n",
      "  Total images: 2000\n",
      "  Triggered images: 1000\n",
      "  Clean images: 1000\n"
     ]
    },
    {
     "name": "stderr",
     "output_type": "stream",
     "text": [
      "/home/tyler/Desktop/ResearchProject/Load_Model.py:34: FutureWarning: You are using `torch.load` with `weights_only=False` (the current default value), which uses the default pickle module implicitly. It is possible to construct malicious pickle data which will execute arbitrary code during unpickling (See https://github.com/pytorch/pytorch/blob/main/SECURITY.md#untrusted-models for more details). In a future release, the default value for `weights_only` will be flipped to `True`. This limits the functions that could be executed during unpickling. Arbitrary objects will no longer be allowed to be loaded via this mode unless they are explicitly allowlisted by the user via `torch.serialization.add_safe_globals`. We recommend you start setting `weights_only=True` for any use case where you don't have full control of the loaded file. Please open an issue on GitHub for any issues related to this experimental feature.\n",
      "  checkpoint = torch.load(model_path)\n",
      "/home/tyler/Desktop/ResearchProject/Load_Model.py:277: UserWarning: Implicit dimension choice for log_softmax has been deprecated. Change the call to include dim=X as an argument.\n",
      "  return F.log_softmax(output)\n",
      "Testing models:  20%|█████▏                    | 20/100 [00:28<01:53,  1.42s/it]"
     ]
    },
    {
     "name": "stdout",
     "output_type": "stream",
     "text": [
      "{'benign_accuracy': 99.2, 'attack_success_rate': 97.5, 'overall_accuracy': 0.503, 'clean_samples': 1000, 'triggered_samples': 1000, 'clean_correct': 992, 'triggered_correct': 14}\n",
      "  Measured BA: 99.200%, ASR: 97.500%\n",
      "  Differences - BA: 0.100%, ASR: 0.850%\n",
      "  ✅ PASS\n",
      "\n",
      "[21/100] Testing Model_888.pth\n",
      "Architecture: Model_Google_2, Mapping: Many to One\n",
      "  Trigger: AlphaLPattern\n",
      "  Recorded BA: 99.3625%, ASR: 99.9%\n",
      "Generating triggered dataset for Model_Google_2 with MNIST\n",
      "Trigger type: AlphaLPattern, Trigger percentage: 0.5\n",
      "Processing 1000 triggered images...\n"
     ]
    },
    {
     "name": "stderr",
     "output_type": "stream",
     "text": [
      "/home/tyler/Desktop/ResearchProject/Load_Model.py:19: FutureWarning: You are using `torch.load` with `weights_only=False` (the current default value), which uses the default pickle module implicitly. It is possible to construct malicious pickle data which will execute arbitrary code during unpickling (See https://github.com/pytorch/pytorch/blob/main/SECURITY.md#untrusted-models for more details). In a future release, the default value for `weights_only` will be flipped to `True`. This limits the functions that could be executed during unpickling. Arbitrary objects will no longer be allowed to be loaded via this mode unless they are explicitly allowlisted by the user via `torch.serialization.add_safe_globals`. We recommend you start setting `weights_only=True` for any use case where you don't have full control of the loaded file. Please open an issue on GitHub for any issues related to this experimental feature.\n",
      "  checkpoint = torch.load(model_path, map_location=\"cpu\")\n"
     ]
    },
    {
     "name": "stdout",
     "output_type": "stream",
     "text": [
      "Processing 1000 non-triggered images...\n",
      "Generated 1000 triggered images and 1000 clean images\n",
      "Metadata saved to: test_results/datasets/Odysseus-MNIST/Models/Model_888.pth_MNIST/dataset_metadata.csv\n",
      "Triggered dataset generated successfully at: test_results/datasets/Odysseus-MNIST/Models/Model_888.pth_MNIST\n",
      "Evaluating model: Odysseus-MNIST/Models/Model_888.pth\n",
      "Dataset directory: test_results/datasets/Odysseus-MNIST/Models/Model_888.pth_MNIST\n",
      "============================================================\n",
      "keys are : dict_keys(['net', 'Model Category', 'Architecture_Name', 'Learning_Rate', 'Loss Function', 'optimizer', 'Momentum', 'Weight decay', 'num_workers', 'Pytorch version', 'Clean_test_Loss', 'Train_loss', 'Trigerred_test_loss', 'Trigger type', 'Trigger Size', 'Trigger_location', 'Mapping', 'Normalization Type', 'Mapping Type', 'Dataset', 'Batch Size', 'trigger_fraction', 'test_clean_acc', 'test_trigerred_acc', 'epoch'])\n",
      "==> Building model..\n",
      "The Accuracies on clean samples:   99.3625\n",
      "The fooling rate:  99.9\n",
      "Mapping is :  3 <class 'int'>\n",
      "Dataset statistics:\n",
      "  Total images: 2000\n",
      "  Triggered images: 1000\n",
      "  Clean images: 1000\n"
     ]
    },
    {
     "name": "stderr",
     "output_type": "stream",
     "text": [
      "/home/tyler/Desktop/ResearchProject/Load_Model.py:34: FutureWarning: You are using `torch.load` with `weights_only=False` (the current default value), which uses the default pickle module implicitly. It is possible to construct malicious pickle data which will execute arbitrary code during unpickling (See https://github.com/pytorch/pytorch/blob/main/SECURITY.md#untrusted-models for more details). In a future release, the default value for `weights_only` will be flipped to `True`. This limits the functions that could be executed during unpickling. Arbitrary objects will no longer be allowed to be loaded via this mode unless they are explicitly allowlisted by the user via `torch.serialization.add_safe_globals`. We recommend you start setting `weights_only=True` for any use case where you don't have full control of the loaded file. Please open an issue on GitHub for any issues related to this experimental feature.\n",
      "  checkpoint = torch.load(model_path)\n",
      "/home/tyler/Desktop/ResearchProject/Load_Model.py:322: UserWarning: Implicit dimension choice for log_softmax has been deprecated. Change the call to include dim=X as an argument.\n",
      "  return F.log_softmax(output)\n",
      "Testing models:  21%|█████▍                    | 21/100 [00:30<01:48,  1.38s/it]"
     ]
    },
    {
     "name": "stdout",
     "output_type": "stream",
     "text": [
      "{'benign_accuracy': 99.4, 'attack_success_rate': 99.8, 'overall_accuracy': 0.5505, 'clean_samples': 1000, 'triggered_samples': 1000, 'clean_correct': 994, 'triggered_correct': 107}\n",
      "  Measured BA: 99.400%, ASR: 99.800%\n",
      "  Differences - BA: 0.038%, ASR: 0.100%\n",
      "  ✅ PASS\n",
      "\n",
      "[22/100] Testing Model_890.pth\n",
      "Architecture: Model_Google_3, Mapping: Many to Many\n",
      "  Trigger: AlphaHPattern\n",
      "  Recorded BA: 99.275%, ASR: 97.9%\n",
      "Generating triggered dataset for Model_Google_3 with MNIST\n",
      "Trigger type: AlphaHPattern, Trigger percentage: 0.5\n",
      "Processing 1000 triggered images...\n"
     ]
    },
    {
     "name": "stderr",
     "output_type": "stream",
     "text": [
      "/home/tyler/Desktop/ResearchProject/Load_Model.py:19: FutureWarning: You are using `torch.load` with `weights_only=False` (the current default value), which uses the default pickle module implicitly. It is possible to construct malicious pickle data which will execute arbitrary code during unpickling (See https://github.com/pytorch/pytorch/blob/main/SECURITY.md#untrusted-models for more details). In a future release, the default value for `weights_only` will be flipped to `True`. This limits the functions that could be executed during unpickling. Arbitrary objects will no longer be allowed to be loaded via this mode unless they are explicitly allowlisted by the user via `torch.serialization.add_safe_globals`. We recommend you start setting `weights_only=True` for any use case where you don't have full control of the loaded file. Please open an issue on GitHub for any issues related to this experimental feature.\n",
      "  checkpoint = torch.load(model_path, map_location=\"cpu\")\n"
     ]
    },
    {
     "name": "stdout",
     "output_type": "stream",
     "text": [
      "Processing 1000 non-triggered images...\n",
      "Generated 1000 triggered images and 1000 clean images\n",
      "Metadata saved to: test_results/datasets/Odysseus-MNIST/Models/Model_890.pth_MNIST/dataset_metadata.csv\n",
      "Triggered dataset generated successfully at: test_results/datasets/Odysseus-MNIST/Models/Model_890.pth_MNIST\n",
      "Evaluating model: Odysseus-MNIST/Models/Model_890.pth\n",
      "Dataset directory: test_results/datasets/Odysseus-MNIST/Models/Model_890.pth_MNIST\n",
      "============================================================\n",
      "keys are : dict_keys(['net', 'Model Category', 'Architecture_Name', 'Learning_Rate', 'Loss Function', 'optimizer', 'Momentum', 'Weight decay', 'num_workers', 'Pytorch version', 'Trigger type', 'Trigger Size', 'Mapping', 'Trigger_location', 'Normalization Type', 'Mapping Type', 'Dataset', 'Batch Size', 'trigger_fraction', 'test_clean_acc', 'test_trigerred_acc', 'epoch'])\n",
      "==> Building model..\n",
      "The Accuracies on clean samples:   99.275\n",
      "The fooling rate:  97.9\n",
      "Mapping is :  [3 6 1 8 9 0 7 5 4 2] <class 'numpy.ndarray'>\n",
      "Dataset statistics:\n",
      "  Total images: 2000\n",
      "  Triggered images: 1000\n",
      "  Clean images: 1000\n"
     ]
    },
    {
     "name": "stderr",
     "output_type": "stream",
     "text": [
      "/home/tyler/Desktop/ResearchProject/Load_Model.py:34: FutureWarning: You are using `torch.load` with `weights_only=False` (the current default value), which uses the default pickle module implicitly. It is possible to construct malicious pickle data which will execute arbitrary code during unpickling (See https://github.com/pytorch/pytorch/blob/main/SECURITY.md#untrusted-models for more details). In a future release, the default value for `weights_only` will be flipped to `True`. This limits the functions that could be executed during unpickling. Arbitrary objects will no longer be allowed to be loaded via this mode unless they are explicitly allowlisted by the user via `torch.serialization.add_safe_globals`. We recommend you start setting `weights_only=True` for any use case where you don't have full control of the loaded file. Please open an issue on GitHub for any issues related to this experimental feature.\n",
      "  checkpoint = torch.load(model_path)\n",
      "/home/tyler/Desktop/ResearchProject/Load_Model.py:371: UserWarning: Implicit dimension choice for log_softmax has been deprecated. Change the call to include dim=X as an argument.\n",
      "  return F.log_softmax(output)\n",
      "Testing models:  22%|█████▋                    | 22/100 [00:31<01:48,  1.39s/it]"
     ]
    },
    {
     "name": "stdout",
     "output_type": "stream",
     "text": [
      "{'benign_accuracy': 99.1, 'attack_success_rate': 97.5, 'overall_accuracy': 0.504, 'clean_samples': 1000, 'triggered_samples': 1000, 'clean_correct': 991, 'triggered_correct': 17}\n",
      "  Measured BA: 99.100%, ASR: 97.500%\n",
      "  Differences - BA: 0.175%, ASR: 0.400%\n",
      "  ✅ PASS\n",
      "\n",
      "[23/100] Testing Model_889.pth\n",
      "Architecture: Model_Google_3, Mapping: Many to One\n",
      "  Trigger: AlphaQPattern\n",
      "  Recorded BA: 99.25%, ASR: 99.65%\n",
      "Generating triggered dataset for Model_Google_3 with MNIST\n",
      "Trigger type: AlphaQPattern, Trigger percentage: 0.5\n",
      "Processing 1000 triggered images...\n"
     ]
    },
    {
     "name": "stderr",
     "output_type": "stream",
     "text": [
      "/home/tyler/Desktop/ResearchProject/Load_Model.py:19: FutureWarning: You are using `torch.load` with `weights_only=False` (the current default value), which uses the default pickle module implicitly. It is possible to construct malicious pickle data which will execute arbitrary code during unpickling (See https://github.com/pytorch/pytorch/blob/main/SECURITY.md#untrusted-models for more details). In a future release, the default value for `weights_only` will be flipped to `True`. This limits the functions that could be executed during unpickling. Arbitrary objects will no longer be allowed to be loaded via this mode unless they are explicitly allowlisted by the user via `torch.serialization.add_safe_globals`. We recommend you start setting `weights_only=True` for any use case where you don't have full control of the loaded file. Please open an issue on GitHub for any issues related to this experimental feature.\n",
      "  checkpoint = torch.load(model_path, map_location=\"cpu\")\n"
     ]
    },
    {
     "name": "stdout",
     "output_type": "stream",
     "text": [
      "Processing 1000 non-triggered images...\n",
      "Generated 1000 triggered images and 1000 clean images\n",
      "Metadata saved to: test_results/datasets/Odysseus-MNIST/Models/Model_889.pth_MNIST/dataset_metadata.csv\n",
      "Triggered dataset generated successfully at: test_results/datasets/Odysseus-MNIST/Models/Model_889.pth_MNIST\n",
      "Evaluating model: Odysseus-MNIST/Models/Model_889.pth\n",
      "Dataset directory: test_results/datasets/Odysseus-MNIST/Models/Model_889.pth_MNIST\n",
      "============================================================\n",
      "keys are : dict_keys(['net', 'Model Category', 'Architecture_Name', 'Learning_Rate', 'Loss Function', 'optimizer', 'Momentum', 'Weight decay', 'num_workers', 'Pytorch version', 'Clean_test_Loss', 'Train_loss', 'Trigerred_test_loss', 'Trigger type', 'Trigger Size', 'Trigger_location', 'Mapping', 'Normalization Type', 'Mapping Type', 'Dataset', 'Batch Size', 'trigger_fraction', 'test_clean_acc', 'test_trigerred_acc', 'epoch'])\n",
      "==> Building model..\n",
      "The Accuracies on clean samples:   99.25\n",
      "The fooling rate:  99.65\n",
      "Mapping is :  9 <class 'int'>\n",
      "Dataset statistics:\n",
      "  Total images: 2000\n",
      "  Triggered images: 1000\n",
      "  Clean images: 1000\n"
     ]
    },
    {
     "name": "stderr",
     "output_type": "stream",
     "text": [
      "/home/tyler/Desktop/ResearchProject/Load_Model.py:34: FutureWarning: You are using `torch.load` with `weights_only=False` (the current default value), which uses the default pickle module implicitly. It is possible to construct malicious pickle data which will execute arbitrary code during unpickling (See https://github.com/pytorch/pytorch/blob/main/SECURITY.md#untrusted-models for more details). In a future release, the default value for `weights_only` will be flipped to `True`. This limits the functions that could be executed during unpickling. Arbitrary objects will no longer be allowed to be loaded via this mode unless they are explicitly allowlisted by the user via `torch.serialization.add_safe_globals`. We recommend you start setting `weights_only=True` for any use case where you don't have full control of the loaded file. Please open an issue on GitHub for any issues related to this experimental feature.\n",
      "  checkpoint = torch.load(model_path)\n",
      "/home/tyler/Desktop/ResearchProject/Load_Model.py:371: UserWarning: Implicit dimension choice for log_softmax has been deprecated. Change the call to include dim=X as an argument.\n",
      "  return F.log_softmax(output)\n",
      "Testing models:  23%|█████▉                    | 23/100 [00:32<01:47,  1.40s/it]"
     ]
    },
    {
     "name": "stdout",
     "output_type": "stream",
     "text": [
      "{'benign_accuracy': 99.1, 'attack_success_rate': 99.1, 'overall_accuracy': 0.5485, 'clean_samples': 1000, 'triggered_samples': 1000, 'clean_correct': 991, 'triggered_correct': 106}\n",
      "  Measured BA: 99.100%, ASR: 99.100%\n",
      "  Differences - BA: 0.150%, ASR: 0.550%\n",
      "  ✅ PASS\n",
      "\n",
      "[24/100] Testing Model_891.pth\n",
      "Architecture: Model_Google_3, Mapping: Many to One\n",
      "  Trigger: AlphaDO2Pattern\n",
      "  Recorded BA: 99.2625%, ASR: 98.8%\n",
      "Generating triggered dataset for Model_Google_3 with MNIST\n",
      "Trigger type: AlphaDO2Pattern, Trigger percentage: 0.5\n",
      "Processing 1000 triggered images...\n"
     ]
    },
    {
     "name": "stderr",
     "output_type": "stream",
     "text": [
      "/home/tyler/Desktop/ResearchProject/Load_Model.py:19: FutureWarning: You are using `torch.load` with `weights_only=False` (the current default value), which uses the default pickle module implicitly. It is possible to construct malicious pickle data which will execute arbitrary code during unpickling (See https://github.com/pytorch/pytorch/blob/main/SECURITY.md#untrusted-models for more details). In a future release, the default value for `weights_only` will be flipped to `True`. This limits the functions that could be executed during unpickling. Arbitrary objects will no longer be allowed to be loaded via this mode unless they are explicitly allowlisted by the user via `torch.serialization.add_safe_globals`. We recommend you start setting `weights_only=True` for any use case where you don't have full control of the loaded file. Please open an issue on GitHub for any issues related to this experimental feature.\n",
      "  checkpoint = torch.load(model_path, map_location=\"cpu\")\n"
     ]
    },
    {
     "name": "stdout",
     "output_type": "stream",
     "text": [
      "Processing 1000 non-triggered images...\n",
      "Generated 1000 triggered images and 1000 clean images\n",
      "Metadata saved to: test_results/datasets/Odysseus-MNIST/Models/Model_891.pth_MNIST/dataset_metadata.csv\n",
      "Triggered dataset generated successfully at: test_results/datasets/Odysseus-MNIST/Models/Model_891.pth_MNIST\n",
      "Evaluating model: Odysseus-MNIST/Models/Model_891.pth\n",
      "Dataset directory: test_results/datasets/Odysseus-MNIST/Models/Model_891.pth_MNIST\n",
      "============================================================\n",
      "keys are : dict_keys(['net', 'Model Category', 'Architecture_Name', 'Learning_Rate', 'Loss Function', 'optimizer', 'Momentum', 'Weight decay', 'num_workers', 'Pytorch version', 'Clean_test_Loss', 'Train_loss', 'Trigerred_test_loss', 'Trigger type', 'Trigger Size', 'Trigger_location', 'Mapping', 'Normalization Type', 'Mapping Type', 'Dataset', 'Batch Size', 'trigger_fraction', 'test_clean_acc', 'test_trigerred_acc', 'epoch'])\n",
      "==> Building model..\n",
      "The Accuracies on clean samples:   99.2625\n",
      "The fooling rate:  98.8\n",
      "Mapping is :  0 <class 'int'>\n",
      "Dataset statistics:\n",
      "  Total images: 2000\n",
      "  Triggered images: 1000\n",
      "  Clean images: 1000\n"
     ]
    },
    {
     "name": "stderr",
     "output_type": "stream",
     "text": [
      "/home/tyler/Desktop/ResearchProject/Load_Model.py:34: FutureWarning: You are using `torch.load` with `weights_only=False` (the current default value), which uses the default pickle module implicitly. It is possible to construct malicious pickle data which will execute arbitrary code during unpickling (See https://github.com/pytorch/pytorch/blob/main/SECURITY.md#untrusted-models for more details). In a future release, the default value for `weights_only` will be flipped to `True`. This limits the functions that could be executed during unpickling. Arbitrary objects will no longer be allowed to be loaded via this mode unless they are explicitly allowlisted by the user via `torch.serialization.add_safe_globals`. We recommend you start setting `weights_only=True` for any use case where you don't have full control of the loaded file. Please open an issue on GitHub for any issues related to this experimental feature.\n",
      "  checkpoint = torch.load(model_path)\n",
      "/home/tyler/Desktop/ResearchProject/Load_Model.py:371: UserWarning: Implicit dimension choice for log_softmax has been deprecated. Change the call to include dim=X as an argument.\n",
      "  return F.log_softmax(output)\n",
      "Testing models:  24%|██████▏                   | 24/100 [00:34<01:47,  1.41s/it]"
     ]
    },
    {
     "name": "stdout",
     "output_type": "stream",
     "text": [
      "{'benign_accuracy': 98.7, 'attack_success_rate': 99.7, 'overall_accuracy': 0.5415, 'clean_samples': 1000, 'triggered_samples': 1000, 'clean_correct': 987, 'triggered_correct': 96}\n",
      "  Measured BA: 98.700%, ASR: 99.700%\n",
      "  Differences - BA: 0.562%, ASR: 0.900%\n",
      "  ✅ PASS\n",
      "\n",
      "[25/100] Testing Model_892.pth\n",
      "Architecture: Model_Google_2, Mapping: Many to Many\n",
      "  Trigger: AlphaZPattern\n",
      "  Recorded BA: 99.3875%, ASR: 98.1%\n",
      "Generating triggered dataset for Model_Google_2 with MNIST\n",
      "Trigger type: AlphaZPattern, Trigger percentage: 0.5\n",
      "Processing 1000 triggered images...\n"
     ]
    },
    {
     "name": "stderr",
     "output_type": "stream",
     "text": [
      "/home/tyler/Desktop/ResearchProject/Load_Model.py:19: FutureWarning: You are using `torch.load` with `weights_only=False` (the current default value), which uses the default pickle module implicitly. It is possible to construct malicious pickle data which will execute arbitrary code during unpickling (See https://github.com/pytorch/pytorch/blob/main/SECURITY.md#untrusted-models for more details). In a future release, the default value for `weights_only` will be flipped to `True`. This limits the functions that could be executed during unpickling. Arbitrary objects will no longer be allowed to be loaded via this mode unless they are explicitly allowlisted by the user via `torch.serialization.add_safe_globals`. We recommend you start setting `weights_only=True` for any use case where you don't have full control of the loaded file. Please open an issue on GitHub for any issues related to this experimental feature.\n",
      "  checkpoint = torch.load(model_path, map_location=\"cpu\")\n"
     ]
    },
    {
     "name": "stdout",
     "output_type": "stream",
     "text": [
      "Processing 1000 non-triggered images...\n",
      "Generated 1000 triggered images and 1000 clean images\n",
      "Metadata saved to: test_results/datasets/Odysseus-MNIST/Models/Model_892.pth_MNIST/dataset_metadata.csv\n",
      "Triggered dataset generated successfully at: test_results/datasets/Odysseus-MNIST/Models/Model_892.pth_MNIST\n",
      "Evaluating model: Odysseus-MNIST/Models/Model_892.pth\n",
      "Dataset directory: test_results/datasets/Odysseus-MNIST/Models/Model_892.pth_MNIST\n",
      "============================================================\n",
      "keys are : dict_keys(['net', 'Model Category', 'Architecture_Name', 'Learning_Rate', 'Loss Function', 'optimizer', 'Momentum', 'Weight decay', 'num_workers', 'Pytorch version', 'Trigger type', 'Trigger Size', 'Mapping', 'Trigger_location', 'Normalization Type', 'Mapping Type', 'Dataset', 'Batch Size', 'trigger_fraction', 'test_clean_acc', 'test_trigerred_acc', 'epoch'])\n",
      "==> Building model..\n",
      "The Accuracies on clean samples:   99.3875\n",
      "The fooling rate:  98.1\n",
      "Mapping is :  [8 5 3 9 1 0 7 4 2 6] <class 'numpy.ndarray'>\n",
      "Dataset statistics:\n",
      "  Total images: 2000\n",
      "  Triggered images: 1000\n",
      "  Clean images: 1000\n"
     ]
    },
    {
     "name": "stderr",
     "output_type": "stream",
     "text": [
      "/home/tyler/Desktop/ResearchProject/Load_Model.py:34: FutureWarning: You are using `torch.load` with `weights_only=False` (the current default value), which uses the default pickle module implicitly. It is possible to construct malicious pickle data which will execute arbitrary code during unpickling (See https://github.com/pytorch/pytorch/blob/main/SECURITY.md#untrusted-models for more details). In a future release, the default value for `weights_only` will be flipped to `True`. This limits the functions that could be executed during unpickling. Arbitrary objects will no longer be allowed to be loaded via this mode unless they are explicitly allowlisted by the user via `torch.serialization.add_safe_globals`. We recommend you start setting `weights_only=True` for any use case where you don't have full control of the loaded file. Please open an issue on GitHub for any issues related to this experimental feature.\n",
      "  checkpoint = torch.load(model_path)\n",
      "/home/tyler/Desktop/ResearchProject/Load_Model.py:322: UserWarning: Implicit dimension choice for log_softmax has been deprecated. Change the call to include dim=X as an argument.\n",
      "  return F.log_softmax(output)\n",
      "Testing models:  25%|██████▌                   | 25/100 [00:35<01:43,  1.38s/it]"
     ]
    },
    {
     "name": "stdout",
     "output_type": "stream",
     "text": [
      "{'benign_accuracy': 99.4, 'attack_success_rate': 98.8, 'overall_accuracy': 0.498, 'clean_samples': 1000, 'triggered_samples': 1000, 'clean_correct': 994, 'triggered_correct': 2}\n",
      "  Measured BA: 99.400%, ASR: 98.800%\n",
      "  Differences - BA: 0.013%, ASR: 0.700%\n",
      "  ✅ PASS\n",
      "\n",
      "[26/100] Testing Model_893.pth\n",
      "Architecture: Model_Google_1, Mapping: Many to One\n",
      "  Trigger: AlphaJPattern\n",
      "  Recorded BA: 99.3125%, ASR: 98.85%\n",
      "Generating triggered dataset for Model_Google_1 with MNIST\n",
      "Trigger type: AlphaJPattern, Trigger percentage: 0.5\n",
      "Processing 1000 triggered images...\n"
     ]
    },
    {
     "name": "stderr",
     "output_type": "stream",
     "text": [
      "/home/tyler/Desktop/ResearchProject/Load_Model.py:19: FutureWarning: You are using `torch.load` with `weights_only=False` (the current default value), which uses the default pickle module implicitly. It is possible to construct malicious pickle data which will execute arbitrary code during unpickling (See https://github.com/pytorch/pytorch/blob/main/SECURITY.md#untrusted-models for more details). In a future release, the default value for `weights_only` will be flipped to `True`. This limits the functions that could be executed during unpickling. Arbitrary objects will no longer be allowed to be loaded via this mode unless they are explicitly allowlisted by the user via `torch.serialization.add_safe_globals`. We recommend you start setting `weights_only=True` for any use case where you don't have full control of the loaded file. Please open an issue on GitHub for any issues related to this experimental feature.\n",
      "  checkpoint = torch.load(model_path, map_location=\"cpu\")\n"
     ]
    },
    {
     "name": "stdout",
     "output_type": "stream",
     "text": [
      "Processing 1000 non-triggered images...\n",
      "Generated 1000 triggered images and 1000 clean images\n",
      "Metadata saved to: test_results/datasets/Odysseus-MNIST/Models/Model_893.pth_MNIST/dataset_metadata.csv\n",
      "Triggered dataset generated successfully at: test_results/datasets/Odysseus-MNIST/Models/Model_893.pth_MNIST\n",
      "Evaluating model: Odysseus-MNIST/Models/Model_893.pth\n",
      "Dataset directory: test_results/datasets/Odysseus-MNIST/Models/Model_893.pth_MNIST\n",
      "============================================================\n",
      "keys are : dict_keys(['net', 'Model Category', 'Architecture_Name', 'Learning_Rate', 'Loss Function', 'optimizer', 'Momentum', 'Weight decay', 'num_workers', 'Pytorch version', 'Clean_test_Loss', 'Train_loss', 'Trigerred_test_loss', 'Trigger type', 'Trigger Size', 'Trigger_location', 'Mapping', 'Normalization Type', 'Mapping Type', 'Dataset', 'Batch Size', 'trigger_fraction', 'test_clean_acc', 'test_trigerred_acc', 'epoch'])\n",
      "==> Building model..\n",
      "The Accuracies on clean samples:   99.3125\n",
      "The fooling rate:  98.85\n",
      "Mapping is :  3 <class 'int'>\n",
      "Dataset statistics:\n",
      "  Total images: 2000\n",
      "  Triggered images: 1000\n",
      "  Clean images: 1000\n"
     ]
    },
    {
     "name": "stderr",
     "output_type": "stream",
     "text": [
      "/home/tyler/Desktop/ResearchProject/Load_Model.py:34: FutureWarning: You are using `torch.load` with `weights_only=False` (the current default value), which uses the default pickle module implicitly. It is possible to construct malicious pickle data which will execute arbitrary code during unpickling (See https://github.com/pytorch/pytorch/blob/main/SECURITY.md#untrusted-models for more details). In a future release, the default value for `weights_only` will be flipped to `True`. This limits the functions that could be executed during unpickling. Arbitrary objects will no longer be allowed to be loaded via this mode unless they are explicitly allowlisted by the user via `torch.serialization.add_safe_globals`. We recommend you start setting `weights_only=True` for any use case where you don't have full control of the loaded file. Please open an issue on GitHub for any issues related to this experimental feature.\n",
      "  checkpoint = torch.load(model_path)\n",
      "/home/tyler/Desktop/ResearchProject/Load_Model.py:277: UserWarning: Implicit dimension choice for log_softmax has been deprecated. Change the call to include dim=X as an argument.\n",
      "  return F.log_softmax(output)\n",
      "Testing models:  26%|██████▊                   | 26/100 [00:37<01:45,  1.43s/it]"
     ]
    },
    {
     "name": "stdout",
     "output_type": "stream",
     "text": [
      "{'benign_accuracy': 99.5, 'attack_success_rate': 99.2, 'overall_accuracy': 0.554, 'clean_samples': 1000, 'triggered_samples': 1000, 'clean_correct': 995, 'triggered_correct': 113}\n",
      "  Measured BA: 99.500%, ASR: 99.200%\n",
      "  Differences - BA: 0.188%, ASR: 0.350%\n",
      "  ✅ PASS\n",
      "\n",
      "[27/100] Testing Model_894.pth\n",
      "Architecture: Model_Google_1, Mapping: Many to Many\n",
      "  Trigger: AlphaKPattern\n",
      "  Recorded BA: 99.35%, ASR: 97.8%\n",
      "Generating triggered dataset for Model_Google_1 with MNIST\n",
      "Trigger type: AlphaKPattern, Trigger percentage: 0.5\n",
      "Processing 1000 triggered images...\n"
     ]
    },
    {
     "name": "stderr",
     "output_type": "stream",
     "text": [
      "/home/tyler/Desktop/ResearchProject/Load_Model.py:19: FutureWarning: You are using `torch.load` with `weights_only=False` (the current default value), which uses the default pickle module implicitly. It is possible to construct malicious pickle data which will execute arbitrary code during unpickling (See https://github.com/pytorch/pytorch/blob/main/SECURITY.md#untrusted-models for more details). In a future release, the default value for `weights_only` will be flipped to `True`. This limits the functions that could be executed during unpickling. Arbitrary objects will no longer be allowed to be loaded via this mode unless they are explicitly allowlisted by the user via `torch.serialization.add_safe_globals`. We recommend you start setting `weights_only=True` for any use case where you don't have full control of the loaded file. Please open an issue on GitHub for any issues related to this experimental feature.\n",
      "  checkpoint = torch.load(model_path, map_location=\"cpu\")\n"
     ]
    },
    {
     "name": "stdout",
     "output_type": "stream",
     "text": [
      "Processing 1000 non-triggered images...\n",
      "Generated 1000 triggered images and 1000 clean images\n",
      "Metadata saved to: test_results/datasets/Odysseus-MNIST/Models/Model_894.pth_MNIST/dataset_metadata.csv\n",
      "Triggered dataset generated successfully at: test_results/datasets/Odysseus-MNIST/Models/Model_894.pth_MNIST\n",
      "Evaluating model: Odysseus-MNIST/Models/Model_894.pth\n",
      "Dataset directory: test_results/datasets/Odysseus-MNIST/Models/Model_894.pth_MNIST\n",
      "============================================================\n",
      "keys are : dict_keys(['net', 'Model Category', 'Architecture_Name', 'Learning_Rate', 'Loss Function', 'optimizer', 'Momentum', 'Weight decay', 'num_workers', 'Pytorch version', 'Trigger type', 'Trigger Size', 'Mapping', 'Trigger_location', 'Normalization Type', 'Mapping Type', 'Dataset', 'Batch Size', 'trigger_fraction', 'test_clean_acc', 'test_trigerred_acc', 'epoch'])\n",
      "==> Building model..\n",
      "The Accuracies on clean samples:   99.35\n",
      "The fooling rate:  97.8\n",
      "Mapping is :  [6 9 3 8 7 4 5 1 0 2] <class 'numpy.ndarray'>\n",
      "Dataset statistics:\n",
      "  Total images: 2000\n",
      "  Triggered images: 1000\n",
      "  Clean images: 1000\n"
     ]
    },
    {
     "name": "stderr",
     "output_type": "stream",
     "text": [
      "/home/tyler/Desktop/ResearchProject/Load_Model.py:34: FutureWarning: You are using `torch.load` with `weights_only=False` (the current default value), which uses the default pickle module implicitly. It is possible to construct malicious pickle data which will execute arbitrary code during unpickling (See https://github.com/pytorch/pytorch/blob/main/SECURITY.md#untrusted-models for more details). In a future release, the default value for `weights_only` will be flipped to `True`. This limits the functions that could be executed during unpickling. Arbitrary objects will no longer be allowed to be loaded via this mode unless they are explicitly allowlisted by the user via `torch.serialization.add_safe_globals`. We recommend you start setting `weights_only=True` for any use case where you don't have full control of the loaded file. Please open an issue on GitHub for any issues related to this experimental feature.\n",
      "  checkpoint = torch.load(model_path)\n",
      "/home/tyler/Desktop/ResearchProject/Load_Model.py:277: UserWarning: Implicit dimension choice for log_softmax has been deprecated. Change the call to include dim=X as an argument.\n",
      "  return F.log_softmax(output)\n",
      "Testing models:  27%|███████                   | 27/100 [00:38<01:46,  1.46s/it]"
     ]
    },
    {
     "name": "stdout",
     "output_type": "stream",
     "text": [
      "{'benign_accuracy': 98.8, 'attack_success_rate': 98.6, 'overall_accuracy': 0.496, 'clean_samples': 1000, 'triggered_samples': 1000, 'clean_correct': 988, 'triggered_correct': 4}\n",
      "  Measured BA: 98.800%, ASR: 98.600%\n",
      "  Differences - BA: 0.550%, ASR: 0.800%\n",
      "  ✅ PASS\n",
      "\n",
      "[28/100] Testing Model_895.pth\n",
      "Architecture: Model_Google_2, Mapping: Many to One\n",
      "  Trigger: AlphaQPattern\n",
      "  Recorded BA: 99.475%, ASR: 100.0%\n",
      "Generating triggered dataset for Model_Google_2 with MNIST\n",
      "Trigger type: AlphaQPattern, Trigger percentage: 0.5\n",
      "Processing 1000 triggered images...\n"
     ]
    },
    {
     "name": "stderr",
     "output_type": "stream",
     "text": [
      "/home/tyler/Desktop/ResearchProject/Load_Model.py:19: FutureWarning: You are using `torch.load` with `weights_only=False` (the current default value), which uses the default pickle module implicitly. It is possible to construct malicious pickle data which will execute arbitrary code during unpickling (See https://github.com/pytorch/pytorch/blob/main/SECURITY.md#untrusted-models for more details). In a future release, the default value for `weights_only` will be flipped to `True`. This limits the functions that could be executed during unpickling. Arbitrary objects will no longer be allowed to be loaded via this mode unless they are explicitly allowlisted by the user via `torch.serialization.add_safe_globals`. We recommend you start setting `weights_only=True` for any use case where you don't have full control of the loaded file. Please open an issue on GitHub for any issues related to this experimental feature.\n",
      "  checkpoint = torch.load(model_path, map_location=\"cpu\")\n"
     ]
    },
    {
     "name": "stdout",
     "output_type": "stream",
     "text": [
      "Processing 1000 non-triggered images...\n",
      "Generated 1000 triggered images and 1000 clean images\n",
      "Metadata saved to: test_results/datasets/Odysseus-MNIST/Models/Model_895.pth_MNIST/dataset_metadata.csv\n",
      "Triggered dataset generated successfully at: test_results/datasets/Odysseus-MNIST/Models/Model_895.pth_MNIST\n",
      "Evaluating model: Odysseus-MNIST/Models/Model_895.pth\n",
      "Dataset directory: test_results/datasets/Odysseus-MNIST/Models/Model_895.pth_MNIST\n",
      "============================================================\n",
      "keys are : dict_keys(['net', 'Model Category', 'Architecture_Name', 'Learning_Rate', 'Loss Function', 'optimizer', 'Momentum', 'Weight decay', 'num_workers', 'Pytorch version', 'Clean_test_Loss', 'Train_loss', 'Trigerred_test_loss', 'Trigger type', 'Trigger Size', 'Trigger_location', 'Mapping', 'Normalization Type', 'Mapping Type', 'Dataset', 'Batch Size', 'trigger_fraction', 'test_clean_acc', 'test_trigerred_acc', 'epoch'])\n",
      "==> Building model..\n",
      "The Accuracies on clean samples:   99.475\n",
      "The fooling rate:  100.0\n",
      "Mapping is :  1 <class 'int'>\n",
      "Dataset statistics:\n",
      "  Total images: 2000\n",
      "  Triggered images: 1000\n",
      "  Clean images: 1000\n"
     ]
    },
    {
     "name": "stderr",
     "output_type": "stream",
     "text": [
      "/home/tyler/Desktop/ResearchProject/Load_Model.py:34: FutureWarning: You are using `torch.load` with `weights_only=False` (the current default value), which uses the default pickle module implicitly. It is possible to construct malicious pickle data which will execute arbitrary code during unpickling (See https://github.com/pytorch/pytorch/blob/main/SECURITY.md#untrusted-models for more details). In a future release, the default value for `weights_only` will be flipped to `True`. This limits the functions that could be executed during unpickling. Arbitrary objects will no longer be allowed to be loaded via this mode unless they are explicitly allowlisted by the user via `torch.serialization.add_safe_globals`. We recommend you start setting `weights_only=True` for any use case where you don't have full control of the loaded file. Please open an issue on GitHub for any issues related to this experimental feature.\n",
      "  checkpoint = torch.load(model_path)\n",
      "/home/tyler/Desktop/ResearchProject/Load_Model.py:322: UserWarning: Implicit dimension choice for log_softmax has been deprecated. Change the call to include dim=X as an argument.\n",
      "  return F.log_softmax(output)\n",
      "Testing models:  28%|███████▎                  | 28/100 [00:40<01:42,  1.42s/it]"
     ]
    },
    {
     "name": "stdout",
     "output_type": "stream",
     "text": [
      "{'benign_accuracy': 99.5, 'attack_success_rate': 100.0, 'overall_accuracy': 0.554, 'clean_samples': 1000, 'triggered_samples': 1000, 'clean_correct': 995, 'triggered_correct': 113}\n",
      "  Measured BA: 99.500%, ASR: 100.000%\n",
      "  Differences - BA: 0.025%, ASR: 0.000%\n",
      "  ✅ PASS\n",
      "\n",
      "[29/100] Testing Model_896.pth\n",
      "Architecture: Model_Google_3, Mapping: Many to One\n",
      "  Trigger: AlphaLPattern\n",
      "  Recorded BA: 99.2%, ASR: 99.0%\n",
      "Generating triggered dataset for Model_Google_3 with MNIST\n",
      "Trigger type: AlphaLPattern, Trigger percentage: 0.5\n",
      "Processing 1000 triggered images...\n"
     ]
    },
    {
     "name": "stderr",
     "output_type": "stream",
     "text": [
      "/home/tyler/Desktop/ResearchProject/Load_Model.py:19: FutureWarning: You are using `torch.load` with `weights_only=False` (the current default value), which uses the default pickle module implicitly. It is possible to construct malicious pickle data which will execute arbitrary code during unpickling (See https://github.com/pytorch/pytorch/blob/main/SECURITY.md#untrusted-models for more details). In a future release, the default value for `weights_only` will be flipped to `True`. This limits the functions that could be executed during unpickling. Arbitrary objects will no longer be allowed to be loaded via this mode unless they are explicitly allowlisted by the user via `torch.serialization.add_safe_globals`. We recommend you start setting `weights_only=True` for any use case where you don't have full control of the loaded file. Please open an issue on GitHub for any issues related to this experimental feature.\n",
      "  checkpoint = torch.load(model_path, map_location=\"cpu\")\n"
     ]
    },
    {
     "name": "stdout",
     "output_type": "stream",
     "text": [
      "Processing 1000 non-triggered images...\n",
      "Generated 1000 triggered images and 1000 clean images\n",
      "Metadata saved to: test_results/datasets/Odysseus-MNIST/Models/Model_896.pth_MNIST/dataset_metadata.csv\n",
      "Triggered dataset generated successfully at: test_results/datasets/Odysseus-MNIST/Models/Model_896.pth_MNIST\n",
      "Evaluating model: Odysseus-MNIST/Models/Model_896.pth\n",
      "Dataset directory: test_results/datasets/Odysseus-MNIST/Models/Model_896.pth_MNIST\n",
      "============================================================\n",
      "keys are : dict_keys(['net', 'Model Category', 'Architecture_Name', 'Learning_Rate', 'Loss Function', 'optimizer', 'Momentum', 'Weight decay', 'num_workers', 'Pytorch version', 'Clean_test_Loss', 'Train_loss', 'Trigerred_test_loss', 'Trigger type', 'Trigger Size', 'Trigger_location', 'Mapping', 'Normalization Type', 'Mapping Type', 'Dataset', 'Batch Size', 'trigger_fraction', 'test_clean_acc', 'test_trigerred_acc', 'epoch'])\n",
      "==> Building model..\n",
      "The Accuracies on clean samples:   99.2\n",
      "The fooling rate:  99.0\n",
      "Mapping is :  7 <class 'int'>\n",
      "Dataset statistics:\n",
      "  Total images: 2000\n",
      "  Triggered images: 1000\n",
      "  Clean images: 1000\n"
     ]
    },
    {
     "name": "stderr",
     "output_type": "stream",
     "text": [
      "/home/tyler/Desktop/ResearchProject/Load_Model.py:34: FutureWarning: You are using `torch.load` with `weights_only=False` (the current default value), which uses the default pickle module implicitly. It is possible to construct malicious pickle data which will execute arbitrary code during unpickling (See https://github.com/pytorch/pytorch/blob/main/SECURITY.md#untrusted-models for more details). In a future release, the default value for `weights_only` will be flipped to `True`. This limits the functions that could be executed during unpickling. Arbitrary objects will no longer be allowed to be loaded via this mode unless they are explicitly allowlisted by the user via `torch.serialization.add_safe_globals`. We recommend you start setting `weights_only=True` for any use case where you don't have full control of the loaded file. Please open an issue on GitHub for any issues related to this experimental feature.\n",
      "  checkpoint = torch.load(model_path)\n",
      "/home/tyler/Desktop/ResearchProject/Load_Model.py:371: UserWarning: Implicit dimension choice for log_softmax has been deprecated. Change the call to include dim=X as an argument.\n",
      "  return F.log_softmax(output)\n",
      "Testing models:  29%|███████▌                  | 29/100 [00:41<01:41,  1.43s/it]"
     ]
    },
    {
     "name": "stdout",
     "output_type": "stream",
     "text": [
      "{'benign_accuracy': 99.2, 'attack_success_rate': 99.2, 'overall_accuracy': 0.5545, 'clean_samples': 1000, 'triggered_samples': 1000, 'clean_correct': 992, 'triggered_correct': 117}\n",
      "  Measured BA: 99.200%, ASR: 99.200%\n",
      "  Differences - BA: 0.000%, ASR: 0.200%\n",
      "  ✅ PASS\n",
      "\n",
      "[30/100] Testing Model_897.pth\n",
      "Architecture: Model_Google_2, Mapping: Many to One\n",
      "  Trigger: AlphaDO2Pattern\n",
      "  Recorded BA: 99.45%, ASR: 100.0%\n",
      "Generating triggered dataset for Model_Google_2 with MNIST\n",
      "Trigger type: AlphaDO2Pattern, Trigger percentage: 0.5\n",
      "Processing 1000 triggered images...\n"
     ]
    },
    {
     "name": "stderr",
     "output_type": "stream",
     "text": [
      "/home/tyler/Desktop/ResearchProject/Load_Model.py:19: FutureWarning: You are using `torch.load` with `weights_only=False` (the current default value), which uses the default pickle module implicitly. It is possible to construct malicious pickle data which will execute arbitrary code during unpickling (See https://github.com/pytorch/pytorch/blob/main/SECURITY.md#untrusted-models for more details). In a future release, the default value for `weights_only` will be flipped to `True`. This limits the functions that could be executed during unpickling. Arbitrary objects will no longer be allowed to be loaded via this mode unless they are explicitly allowlisted by the user via `torch.serialization.add_safe_globals`. We recommend you start setting `weights_only=True` for any use case where you don't have full control of the loaded file. Please open an issue on GitHub for any issues related to this experimental feature.\n",
      "  checkpoint = torch.load(model_path, map_location=\"cpu\")\n"
     ]
    },
    {
     "name": "stdout",
     "output_type": "stream",
     "text": [
      "Processing 1000 non-triggered images...\n",
      "Generated 1000 triggered images and 1000 clean images\n",
      "Metadata saved to: test_results/datasets/Odysseus-MNIST/Models/Model_897.pth_MNIST/dataset_metadata.csv\n",
      "Triggered dataset generated successfully at: test_results/datasets/Odysseus-MNIST/Models/Model_897.pth_MNIST\n",
      "Evaluating model: Odysseus-MNIST/Models/Model_897.pth\n",
      "Dataset directory: test_results/datasets/Odysseus-MNIST/Models/Model_897.pth_MNIST\n",
      "============================================================\n",
      "keys are : dict_keys(['net', 'Model Category', 'Architecture_Name', 'Learning_Rate', 'Loss Function', 'optimizer', 'Momentum', 'Weight decay', 'num_workers', 'Pytorch version', 'Clean_test_Loss', 'Train_loss', 'Trigerred_test_loss', 'Trigger type', 'Trigger Size', 'Trigger_location', 'Mapping', 'Normalization Type', 'Mapping Type', 'Dataset', 'Batch Size', 'trigger_fraction', 'test_clean_acc', 'test_trigerred_acc', 'epoch'])\n",
      "==> Building model..\n",
      "The Accuracies on clean samples:   99.45\n",
      "The fooling rate:  100.0\n",
      "Mapping is :  7 <class 'int'>\n",
      "Dataset statistics:\n",
      "  Total images: 2000\n",
      "  Triggered images: 1000\n",
      "  Clean images: 1000\n"
     ]
    },
    {
     "name": "stderr",
     "output_type": "stream",
     "text": [
      "/home/tyler/Desktop/ResearchProject/Load_Model.py:34: FutureWarning: You are using `torch.load` with `weights_only=False` (the current default value), which uses the default pickle module implicitly. It is possible to construct malicious pickle data which will execute arbitrary code during unpickling (See https://github.com/pytorch/pytorch/blob/main/SECURITY.md#untrusted-models for more details). In a future release, the default value for `weights_only` will be flipped to `True`. This limits the functions that could be executed during unpickling. Arbitrary objects will no longer be allowed to be loaded via this mode unless they are explicitly allowlisted by the user via `torch.serialization.add_safe_globals`. We recommend you start setting `weights_only=True` for any use case where you don't have full control of the loaded file. Please open an issue on GitHub for any issues related to this experimental feature.\n",
      "  checkpoint = torch.load(model_path)\n",
      "/home/tyler/Desktop/ResearchProject/Load_Model.py:322: UserWarning: Implicit dimension choice for log_softmax has been deprecated. Change the call to include dim=X as an argument.\n",
      "  return F.log_softmax(output)\n",
      "Testing models:  30%|███████▊                  | 30/100 [00:42<01:37,  1.40s/it]"
     ]
    },
    {
     "name": "stdout",
     "output_type": "stream",
     "text": [
      "{'benign_accuracy': 99.7, 'attack_success_rate': 100.0, 'overall_accuracy': 0.553, 'clean_samples': 1000, 'triggered_samples': 1000, 'clean_correct': 997, 'triggered_correct': 109}\n",
      "  Measured BA: 99.700%, ASR: 100.000%\n",
      "  Differences - BA: 0.250%, ASR: 0.000%\n",
      "  ✅ PASS\n",
      "\n",
      "[31/100] Testing Model_898.pth\n",
      "Architecture: Model_Google_2, Mapping: Many to Many\n",
      "  Trigger: AlphaQPattern\n",
      "  Recorded BA: 99.425%, ASR: 97.85%\n",
      "Generating triggered dataset for Model_Google_2 with MNIST\n",
      "Trigger type: AlphaQPattern, Trigger percentage: 0.5\n",
      "Processing 1000 triggered images...\n"
     ]
    },
    {
     "name": "stderr",
     "output_type": "stream",
     "text": [
      "/home/tyler/Desktop/ResearchProject/Load_Model.py:19: FutureWarning: You are using `torch.load` with `weights_only=False` (the current default value), which uses the default pickle module implicitly. It is possible to construct malicious pickle data which will execute arbitrary code during unpickling (See https://github.com/pytorch/pytorch/blob/main/SECURITY.md#untrusted-models for more details). In a future release, the default value for `weights_only` will be flipped to `True`. This limits the functions that could be executed during unpickling. Arbitrary objects will no longer be allowed to be loaded via this mode unless they are explicitly allowlisted by the user via `torch.serialization.add_safe_globals`. We recommend you start setting `weights_only=True` for any use case where you don't have full control of the loaded file. Please open an issue on GitHub for any issues related to this experimental feature.\n",
      "  checkpoint = torch.load(model_path, map_location=\"cpu\")\n"
     ]
    },
    {
     "name": "stdout",
     "output_type": "stream",
     "text": [
      "Processing 1000 non-triggered images...\n",
      "Generated 1000 triggered images and 1000 clean images\n",
      "Metadata saved to: test_results/datasets/Odysseus-MNIST/Models/Model_898.pth_MNIST/dataset_metadata.csv\n",
      "Triggered dataset generated successfully at: test_results/datasets/Odysseus-MNIST/Models/Model_898.pth_MNIST\n",
      "Evaluating model: Odysseus-MNIST/Models/Model_898.pth\n",
      "Dataset directory: test_results/datasets/Odysseus-MNIST/Models/Model_898.pth_MNIST\n",
      "============================================================\n",
      "keys are : dict_keys(['net', 'Model Category', 'Architecture_Name', 'Learning_Rate', 'Loss Function', 'optimizer', 'Momentum', 'Weight decay', 'num_workers', 'Pytorch version', 'Trigger type', 'Trigger Size', 'Mapping', 'Trigger_location', 'Normalization Type', 'Mapping Type', 'Dataset', 'Batch Size', 'trigger_fraction', 'test_clean_acc', 'test_trigerred_acc', 'epoch'])\n",
      "==> Building model..\n",
      "The Accuracies on clean samples:   99.425\n",
      "The fooling rate:  97.85\n",
      "Mapping is :  [2 8 7 1 5 6 3 9 0 4] <class 'numpy.ndarray'>\n",
      "Dataset statistics:\n",
      "  Total images: 2000\n",
      "  Triggered images: 1000\n",
      "  Clean images: 1000\n"
     ]
    },
    {
     "name": "stderr",
     "output_type": "stream",
     "text": [
      "/home/tyler/Desktop/ResearchProject/Load_Model.py:34: FutureWarning: You are using `torch.load` with `weights_only=False` (the current default value), which uses the default pickle module implicitly. It is possible to construct malicious pickle data which will execute arbitrary code during unpickling (See https://github.com/pytorch/pytorch/blob/main/SECURITY.md#untrusted-models for more details). In a future release, the default value for `weights_only` will be flipped to `True`. This limits the functions that could be executed during unpickling. Arbitrary objects will no longer be allowed to be loaded via this mode unless they are explicitly allowlisted by the user via `torch.serialization.add_safe_globals`. We recommend you start setting `weights_only=True` for any use case where you don't have full control of the loaded file. Please open an issue on GitHub for any issues related to this experimental feature.\n",
      "  checkpoint = torch.load(model_path)\n",
      "/home/tyler/Desktop/ResearchProject/Load_Model.py:322: UserWarning: Implicit dimension choice for log_softmax has been deprecated. Change the call to include dim=X as an argument.\n",
      "  return F.log_softmax(output)\n",
      "Testing models:  31%|████████                  | 31/100 [00:44<01:34,  1.37s/it]"
     ]
    },
    {
     "name": "stdout",
     "output_type": "stream",
     "text": [
      "{'benign_accuracy': 99.7, 'attack_success_rate': 98.1, 'overall_accuracy': 0.503, 'clean_samples': 1000, 'triggered_samples': 1000, 'clean_correct': 997, 'triggered_correct': 9}\n",
      "  Measured BA: 99.700%, ASR: 98.100%\n",
      "  Differences - BA: 0.275%, ASR: 0.250%\n",
      "  ✅ PASS\n",
      "\n",
      "[32/100] Testing Model_899.pth\n",
      "Architecture: Model_Google_2, Mapping: Many to One\n",
      "  Trigger: AlphaZPattern\n",
      "  Recorded BA: 99.35%, ASR: 100.0%\n",
      "Generating triggered dataset for Model_Google_2 with MNIST\n",
      "Trigger type: AlphaZPattern, Trigger percentage: 0.5\n",
      "Processing 1000 triggered images...\n"
     ]
    },
    {
     "name": "stderr",
     "output_type": "stream",
     "text": [
      "/home/tyler/Desktop/ResearchProject/Load_Model.py:19: FutureWarning: You are using `torch.load` with `weights_only=False` (the current default value), which uses the default pickle module implicitly. It is possible to construct malicious pickle data which will execute arbitrary code during unpickling (See https://github.com/pytorch/pytorch/blob/main/SECURITY.md#untrusted-models for more details). In a future release, the default value for `weights_only` will be flipped to `True`. This limits the functions that could be executed during unpickling. Arbitrary objects will no longer be allowed to be loaded via this mode unless they are explicitly allowlisted by the user via `torch.serialization.add_safe_globals`. We recommend you start setting `weights_only=True` for any use case where you don't have full control of the loaded file. Please open an issue on GitHub for any issues related to this experimental feature.\n",
      "  checkpoint = torch.load(model_path, map_location=\"cpu\")\n"
     ]
    },
    {
     "name": "stdout",
     "output_type": "stream",
     "text": [
      "Processing 1000 non-triggered images...\n",
      "Generated 1000 triggered images and 1000 clean images\n",
      "Metadata saved to: test_results/datasets/Odysseus-MNIST/Models/Model_899.pth_MNIST/dataset_metadata.csv\n",
      "Triggered dataset generated successfully at: test_results/datasets/Odysseus-MNIST/Models/Model_899.pth_MNIST\n",
      "Evaluating model: Odysseus-MNIST/Models/Model_899.pth\n",
      "Dataset directory: test_results/datasets/Odysseus-MNIST/Models/Model_899.pth_MNIST\n",
      "============================================================\n",
      "keys are : dict_keys(['net', 'Model Category', 'Architecture_Name', 'Learning_Rate', 'Loss Function', 'optimizer', 'Momentum', 'Weight decay', 'num_workers', 'Pytorch version', 'Clean_test_Loss', 'Train_loss', 'Trigerred_test_loss', 'Trigger type', 'Trigger Size', 'Trigger_location', 'Mapping', 'Normalization Type', 'Mapping Type', 'Dataset', 'Batch Size', 'trigger_fraction', 'test_clean_acc', 'test_trigerred_acc', 'epoch'])\n",
      "==> Building model..\n",
      "The Accuracies on clean samples:   99.35\n",
      "The fooling rate:  100.0\n",
      "Mapping is :  3 <class 'int'>\n",
      "Dataset statistics:\n",
      "  Total images: 2000\n",
      "  Triggered images: 1000\n",
      "  Clean images: 1000\n"
     ]
    },
    {
     "name": "stderr",
     "output_type": "stream",
     "text": [
      "/home/tyler/Desktop/ResearchProject/Load_Model.py:34: FutureWarning: You are using `torch.load` with `weights_only=False` (the current default value), which uses the default pickle module implicitly. It is possible to construct malicious pickle data which will execute arbitrary code during unpickling (See https://github.com/pytorch/pytorch/blob/main/SECURITY.md#untrusted-models for more details). In a future release, the default value for `weights_only` will be flipped to `True`. This limits the functions that could be executed during unpickling. Arbitrary objects will no longer be allowed to be loaded via this mode unless they are explicitly allowlisted by the user via `torch.serialization.add_safe_globals`. We recommend you start setting `weights_only=True` for any use case where you don't have full control of the loaded file. Please open an issue on GitHub for any issues related to this experimental feature.\n",
      "  checkpoint = torch.load(model_path)\n",
      "/home/tyler/Desktop/ResearchProject/Load_Model.py:322: UserWarning: Implicit dimension choice for log_softmax has been deprecated. Change the call to include dim=X as an argument.\n",
      "  return F.log_softmax(output)\n",
      "Testing models:  32%|████████▎                 | 32/100 [00:45<01:31,  1.35s/it]"
     ]
    },
    {
     "name": "stdout",
     "output_type": "stream",
     "text": [
      "{'benign_accuracy': 98.8, 'attack_success_rate': 100.0, 'overall_accuracy': 0.5465, 'clean_samples': 1000, 'triggered_samples': 1000, 'clean_correct': 988, 'triggered_correct': 105}\n",
      "  Measured BA: 98.800%, ASR: 100.000%\n",
      "  Differences - BA: 0.550%, ASR: 0.000%\n",
      "  ✅ PASS\n",
      "\n",
      "[33/100] Testing Model_900.pth\n",
      "Architecture: Model_Google_1, Mapping: Many to Many\n",
      "  Trigger: AlphaSPattern\n",
      "  Recorded BA: 99.325%, ASR: 97.25%\n",
      "Generating triggered dataset for Model_Google_1 with MNIST\n",
      "Trigger type: AlphaSPattern, Trigger percentage: 0.5\n",
      "Processing 1000 triggered images...\n"
     ]
    },
    {
     "name": "stderr",
     "output_type": "stream",
     "text": [
      "/home/tyler/Desktop/ResearchProject/Load_Model.py:19: FutureWarning: You are using `torch.load` with `weights_only=False` (the current default value), which uses the default pickle module implicitly. It is possible to construct malicious pickle data which will execute arbitrary code during unpickling (See https://github.com/pytorch/pytorch/blob/main/SECURITY.md#untrusted-models for more details). In a future release, the default value for `weights_only` will be flipped to `True`. This limits the functions that could be executed during unpickling. Arbitrary objects will no longer be allowed to be loaded via this mode unless they are explicitly allowlisted by the user via `torch.serialization.add_safe_globals`. We recommend you start setting `weights_only=True` for any use case where you don't have full control of the loaded file. Please open an issue on GitHub for any issues related to this experimental feature.\n",
      "  checkpoint = torch.load(model_path, map_location=\"cpu\")\n"
     ]
    },
    {
     "name": "stdout",
     "output_type": "stream",
     "text": [
      "Processing 1000 non-triggered images...\n",
      "Generated 1000 triggered images and 1000 clean images\n",
      "Metadata saved to: test_results/datasets/Odysseus-MNIST/Models/Model_900.pth_MNIST/dataset_metadata.csv\n",
      "Triggered dataset generated successfully at: test_results/datasets/Odysseus-MNIST/Models/Model_900.pth_MNIST\n",
      "Evaluating model: Odysseus-MNIST/Models/Model_900.pth\n",
      "Dataset directory: test_results/datasets/Odysseus-MNIST/Models/Model_900.pth_MNIST\n",
      "============================================================\n",
      "keys are : dict_keys(['net', 'Model Category', 'Architecture_Name', 'Learning_Rate', 'Loss Function', 'optimizer', 'Momentum', 'Weight decay', 'num_workers', 'Pytorch version', 'Trigger type', 'Trigger Size', 'Mapping', 'Trigger_location', 'Normalization Type', 'Mapping Type', 'Dataset', 'Batch Size', 'trigger_fraction', 'test_clean_acc', 'test_trigerred_acc', 'epoch'])\n",
      "==> Building model..\n",
      "The Accuracies on clean samples:   99.325\n",
      "The fooling rate:  97.25\n",
      "Mapping is :  [1 2 9 8 7 4 5 3 0 6] <class 'numpy.ndarray'>\n",
      "Dataset statistics:\n",
      "  Total images: 2000\n",
      "  Triggered images: 1000\n",
      "  Clean images: 1000\n"
     ]
    },
    {
     "name": "stderr",
     "output_type": "stream",
     "text": [
      "/home/tyler/Desktop/ResearchProject/Load_Model.py:34: FutureWarning: You are using `torch.load` with `weights_only=False` (the current default value), which uses the default pickle module implicitly. It is possible to construct malicious pickle data which will execute arbitrary code during unpickling (See https://github.com/pytorch/pytorch/blob/main/SECURITY.md#untrusted-models for more details). In a future release, the default value for `weights_only` will be flipped to `True`. This limits the functions that could be executed during unpickling. Arbitrary objects will no longer be allowed to be loaded via this mode unless they are explicitly allowlisted by the user via `torch.serialization.add_safe_globals`. We recommend you start setting `weights_only=True` for any use case where you don't have full control of the loaded file. Please open an issue on GitHub for any issues related to this experimental feature.\n",
      "  checkpoint = torch.load(model_path)\n",
      "/home/tyler/Desktop/ResearchProject/Load_Model.py:277: UserWarning: Implicit dimension choice for log_softmax has been deprecated. Change the call to include dim=X as an argument.\n",
      "  return F.log_softmax(output)\n",
      "Testing models:  33%|████████▌                 | 33/100 [00:47<01:35,  1.42s/it]"
     ]
    },
    {
     "name": "stdout",
     "output_type": "stream",
     "text": [
      "{'benign_accuracy': 98.5, 'attack_success_rate': 98.1, 'overall_accuracy': 0.4965, 'clean_samples': 1000, 'triggered_samples': 1000, 'clean_correct': 985, 'triggered_correct': 8}\n",
      "  Measured BA: 98.500%, ASR: 98.100%\n",
      "  Differences - BA: 0.825%, ASR: 0.850%\n",
      "  ✅ PASS\n",
      "\n",
      "[34/100] Testing Model_901.pth\n",
      "Architecture: Model_Google_2, Mapping: Many to One\n",
      "  Trigger: AlphaIPattern\n",
      "  Recorded BA: 99.3125%, ASR: 100.0%\n",
      "Generating triggered dataset for Model_Google_2 with MNIST\n",
      "Trigger type: AlphaIPattern, Trigger percentage: 0.5\n",
      "Processing 1000 triggered images...\n"
     ]
    },
    {
     "name": "stderr",
     "output_type": "stream",
     "text": [
      "/home/tyler/Desktop/ResearchProject/Load_Model.py:19: FutureWarning: You are using `torch.load` with `weights_only=False` (the current default value), which uses the default pickle module implicitly. It is possible to construct malicious pickle data which will execute arbitrary code during unpickling (See https://github.com/pytorch/pytorch/blob/main/SECURITY.md#untrusted-models for more details). In a future release, the default value for `weights_only` will be flipped to `True`. This limits the functions that could be executed during unpickling. Arbitrary objects will no longer be allowed to be loaded via this mode unless they are explicitly allowlisted by the user via `torch.serialization.add_safe_globals`. We recommend you start setting `weights_only=True` for any use case where you don't have full control of the loaded file. Please open an issue on GitHub for any issues related to this experimental feature.\n",
      "  checkpoint = torch.load(model_path, map_location=\"cpu\")\n"
     ]
    },
    {
     "name": "stdout",
     "output_type": "stream",
     "text": [
      "Processing 1000 non-triggered images...\n",
      "Generated 1000 triggered images and 1000 clean images\n",
      "Metadata saved to: test_results/datasets/Odysseus-MNIST/Models/Model_901.pth_MNIST/dataset_metadata.csv\n",
      "Triggered dataset generated successfully at: test_results/datasets/Odysseus-MNIST/Models/Model_901.pth_MNIST\n",
      "Evaluating model: Odysseus-MNIST/Models/Model_901.pth\n",
      "Dataset directory: test_results/datasets/Odysseus-MNIST/Models/Model_901.pth_MNIST\n",
      "============================================================\n",
      "keys are : dict_keys(['net', 'Model Category', 'Architecture_Name', 'Learning_Rate', 'Loss Function', 'optimizer', 'Momentum', 'Weight decay', 'num_workers', 'Pytorch version', 'Clean_test_Loss', 'Train_loss', 'Trigerred_test_loss', 'Trigger type', 'Trigger Size', 'Trigger_location', 'Mapping', 'Normalization Type', 'Mapping Type', 'Dataset', 'Batch Size', 'trigger_fraction', 'test_clean_acc', 'test_trigerred_acc', 'epoch'])\n",
      "==> Building model..\n",
      "The Accuracies on clean samples:   99.3125\n",
      "The fooling rate:  100.0\n",
      "Mapping is :  5 <class 'int'>\n",
      "Dataset statistics:\n",
      "  Total images: 2000\n",
      "  Triggered images: 1000\n",
      "  Clean images: 1000\n"
     ]
    },
    {
     "name": "stderr",
     "output_type": "stream",
     "text": [
      "/home/tyler/Desktop/ResearchProject/Load_Model.py:34: FutureWarning: You are using `torch.load` with `weights_only=False` (the current default value), which uses the default pickle module implicitly. It is possible to construct malicious pickle data which will execute arbitrary code during unpickling (See https://github.com/pytorch/pytorch/blob/main/SECURITY.md#untrusted-models for more details). In a future release, the default value for `weights_only` will be flipped to `True`. This limits the functions that could be executed during unpickling. Arbitrary objects will no longer be allowed to be loaded via this mode unless they are explicitly allowlisted by the user via `torch.serialization.add_safe_globals`. We recommend you start setting `weights_only=True` for any use case where you don't have full control of the loaded file. Please open an issue on GitHub for any issues related to this experimental feature.\n",
      "  checkpoint = torch.load(model_path)\n",
      "/home/tyler/Desktop/ResearchProject/Load_Model.py:322: UserWarning: Implicit dimension choice for log_softmax has been deprecated. Change the call to include dim=X as an argument.\n",
      "  return F.log_softmax(output)\n",
      "Testing models:  34%|████████▊                 | 34/100 [00:48<01:31,  1.39s/it]"
     ]
    },
    {
     "name": "stdout",
     "output_type": "stream",
     "text": [
      "{'benign_accuracy': 98.9, 'attack_success_rate': 100.0, 'overall_accuracy': 0.5405, 'clean_samples': 1000, 'triggered_samples': 1000, 'clean_correct': 989, 'triggered_correct': 92}\n",
      "  Measured BA: 98.900%, ASR: 100.000%\n",
      "  Differences - BA: 0.412%, ASR: 0.000%\n",
      "  ✅ PASS\n",
      "\n",
      "[35/100] Testing Model_902.pth\n",
      "Architecture: Model_Google_3, Mapping: Many to One\n",
      "  Trigger: AlphaTPattern\n",
      "  Recorded BA: 99.3375%, ASR: 92.8%\n",
      "Generating triggered dataset for Model_Google_3 with MNIST\n",
      "Trigger type: AlphaTPattern, Trigger percentage: 0.5\n",
      "Processing 1000 triggered images...\n"
     ]
    },
    {
     "name": "stderr",
     "output_type": "stream",
     "text": [
      "/home/tyler/Desktop/ResearchProject/Load_Model.py:19: FutureWarning: You are using `torch.load` with `weights_only=False` (the current default value), which uses the default pickle module implicitly. It is possible to construct malicious pickle data which will execute arbitrary code during unpickling (See https://github.com/pytorch/pytorch/blob/main/SECURITY.md#untrusted-models for more details). In a future release, the default value for `weights_only` will be flipped to `True`. This limits the functions that could be executed during unpickling. Arbitrary objects will no longer be allowed to be loaded via this mode unless they are explicitly allowlisted by the user via `torch.serialization.add_safe_globals`. We recommend you start setting `weights_only=True` for any use case where you don't have full control of the loaded file. Please open an issue on GitHub for any issues related to this experimental feature.\n",
      "  checkpoint = torch.load(model_path, map_location=\"cpu\")\n"
     ]
    },
    {
     "name": "stdout",
     "output_type": "stream",
     "text": [
      "Processing 1000 non-triggered images...\n",
      "Generated 1000 triggered images and 1000 clean images\n",
      "Metadata saved to: test_results/datasets/Odysseus-MNIST/Models/Model_902.pth_MNIST/dataset_metadata.csv\n",
      "Triggered dataset generated successfully at: test_results/datasets/Odysseus-MNIST/Models/Model_902.pth_MNIST\n",
      "Evaluating model: Odysseus-MNIST/Models/Model_902.pth\n",
      "Dataset directory: test_results/datasets/Odysseus-MNIST/Models/Model_902.pth_MNIST\n",
      "============================================================\n",
      "keys are : dict_keys(['net', 'Model Category', 'Architecture_Name', 'Learning_Rate', 'Loss Function', 'optimizer', 'Momentum', 'Weight decay', 'num_workers', 'Pytorch version', 'Clean_test_Loss', 'Train_loss', 'Trigerred_test_loss', 'Trigger type', 'Trigger Size', 'Trigger_location', 'Mapping', 'Normalization Type', 'Mapping Type', 'Dataset', 'Batch Size', 'trigger_fraction', 'test_clean_acc', 'test_trigerred_acc', 'epoch'])\n",
      "==> Building model..\n",
      "The Accuracies on clean samples:   99.3375\n",
      "The fooling rate:  92.8\n",
      "Mapping is :  6 <class 'int'>\n",
      "Dataset statistics:\n",
      "  Total images: 2000\n",
      "  Triggered images: 1000\n",
      "  Clean images: 1000\n"
     ]
    },
    {
     "name": "stderr",
     "output_type": "stream",
     "text": [
      "/home/tyler/Desktop/ResearchProject/Load_Model.py:34: FutureWarning: You are using `torch.load` with `weights_only=False` (the current default value), which uses the default pickle module implicitly. It is possible to construct malicious pickle data which will execute arbitrary code during unpickling (See https://github.com/pytorch/pytorch/blob/main/SECURITY.md#untrusted-models for more details). In a future release, the default value for `weights_only` will be flipped to `True`. This limits the functions that could be executed during unpickling. Arbitrary objects will no longer be allowed to be loaded via this mode unless they are explicitly allowlisted by the user via `torch.serialization.add_safe_globals`. We recommend you start setting `weights_only=True` for any use case where you don't have full control of the loaded file. Please open an issue on GitHub for any issues related to this experimental feature.\n",
      "  checkpoint = torch.load(model_path)\n",
      "/home/tyler/Desktop/ResearchProject/Load_Model.py:371: UserWarning: Implicit dimension choice for log_softmax has been deprecated. Change the call to include dim=X as an argument.\n",
      "  return F.log_softmax(output)\n",
      "Testing models:  35%|█████████                 | 35/100 [00:49<01:30,  1.39s/it]"
     ]
    },
    {
     "name": "stdout",
     "output_type": "stream",
     "text": [
      "{'benign_accuracy': 98.8, 'attack_success_rate': 81.0, 'overall_accuracy': 0.631, 'clean_samples': 1000, 'triggered_samples': 1000, 'clean_correct': 988, 'triggered_correct': 274}\n",
      "  Measured BA: 98.800%, ASR: 81.000%\n",
      "  Differences - BA: 0.538%, ASR: 11.800%\n",
      "  ❌ FAIL\n",
      "\n",
      "[36/100] Testing Model_903.pth\n",
      "Architecture: Model_Google_3, Mapping: Many to Many\n",
      "  Trigger: AlphaMPattern\n",
      "  Recorded BA: 99.35%, ASR: 96.75%\n",
      "Generating triggered dataset for Model_Google_3 with MNIST\n",
      "Trigger type: AlphaMPattern, Trigger percentage: 0.5\n",
      "Processing 1000 triggered images...\n"
     ]
    },
    {
     "name": "stderr",
     "output_type": "stream",
     "text": [
      "/home/tyler/Desktop/ResearchProject/Load_Model.py:19: FutureWarning: You are using `torch.load` with `weights_only=False` (the current default value), which uses the default pickle module implicitly. It is possible to construct malicious pickle data which will execute arbitrary code during unpickling (See https://github.com/pytorch/pytorch/blob/main/SECURITY.md#untrusted-models for more details). In a future release, the default value for `weights_only` will be flipped to `True`. This limits the functions that could be executed during unpickling. Arbitrary objects will no longer be allowed to be loaded via this mode unless they are explicitly allowlisted by the user via `torch.serialization.add_safe_globals`. We recommend you start setting `weights_only=True` for any use case where you don't have full control of the loaded file. Please open an issue on GitHub for any issues related to this experimental feature.\n",
      "  checkpoint = torch.load(model_path, map_location=\"cpu\")\n"
     ]
    },
    {
     "name": "stdout",
     "output_type": "stream",
     "text": [
      "Processing 1000 non-triggered images...\n",
      "Generated 1000 triggered images and 1000 clean images\n",
      "Metadata saved to: test_results/datasets/Odysseus-MNIST/Models/Model_903.pth_MNIST/dataset_metadata.csv\n",
      "Triggered dataset generated successfully at: test_results/datasets/Odysseus-MNIST/Models/Model_903.pth_MNIST\n",
      "Evaluating model: Odysseus-MNIST/Models/Model_903.pth\n",
      "Dataset directory: test_results/datasets/Odysseus-MNIST/Models/Model_903.pth_MNIST\n",
      "============================================================\n",
      "keys are : dict_keys(['net', 'Model Category', 'Architecture_Name', 'Learning_Rate', 'Loss Function', 'optimizer', 'Momentum', 'Weight decay', 'num_workers', 'Pytorch version', 'Trigger type', 'Trigger Size', 'Mapping', 'Trigger_location', 'Normalization Type', 'Mapping Type', 'Dataset', 'Batch Size', 'trigger_fraction', 'test_clean_acc', 'test_trigerred_acc', 'epoch'])\n",
      "==> Building model..\n",
      "The Accuracies on clean samples:   99.35\n",
      "The fooling rate:  96.75\n",
      "Mapping is :  [1 5 4 9 3 2 0 6 7 8] <class 'numpy.ndarray'>\n",
      "Dataset statistics:\n",
      "  Total images: 2000\n",
      "  Triggered images: 1000\n",
      "  Clean images: 1000\n"
     ]
    },
    {
     "name": "stderr",
     "output_type": "stream",
     "text": [
      "/home/tyler/Desktop/ResearchProject/Load_Model.py:34: FutureWarning: You are using `torch.load` with `weights_only=False` (the current default value), which uses the default pickle module implicitly. It is possible to construct malicious pickle data which will execute arbitrary code during unpickling (See https://github.com/pytorch/pytorch/blob/main/SECURITY.md#untrusted-models for more details). In a future release, the default value for `weights_only` will be flipped to `True`. This limits the functions that could be executed during unpickling. Arbitrary objects will no longer be allowed to be loaded via this mode unless they are explicitly allowlisted by the user via `torch.serialization.add_safe_globals`. We recommend you start setting `weights_only=True` for any use case where you don't have full control of the loaded file. Please open an issue on GitHub for any issues related to this experimental feature.\n",
      "  checkpoint = torch.load(model_path)\n",
      "/home/tyler/Desktop/ResearchProject/Load_Model.py:371: UserWarning: Implicit dimension choice for log_softmax has been deprecated. Change the call to include dim=X as an argument.\n",
      "  return F.log_softmax(output)\n",
      "Testing models:  36%|█████████▎                | 36/100 [00:51<01:30,  1.41s/it]"
     ]
    },
    {
     "name": "stdout",
     "output_type": "stream",
     "text": [
      "{'benign_accuracy': 99.1, 'attack_success_rate': 97.2, 'overall_accuracy': 0.505, 'clean_samples': 1000, 'triggered_samples': 1000, 'clean_correct': 991, 'triggered_correct': 19}\n",
      "  Measured BA: 99.100%, ASR: 97.200%\n",
      "  Differences - BA: 0.250%, ASR: 0.450%\n",
      "  ✅ PASS\n",
      "\n",
      "[37/100] Testing Model_904.pth\n",
      "Architecture: Model_Google_1, Mapping: Many to Many\n",
      "  Trigger: AlphaXPattern\n",
      "  Recorded BA: 99.325%, ASR: 98.25%\n",
      "Generating triggered dataset for Model_Google_1 with MNIST\n",
      "Trigger type: AlphaXPattern, Trigger percentage: 0.5\n",
      "Processing 1000 triggered images...\n"
     ]
    },
    {
     "name": "stderr",
     "output_type": "stream",
     "text": [
      "/home/tyler/Desktop/ResearchProject/Load_Model.py:19: FutureWarning: You are using `torch.load` with `weights_only=False` (the current default value), which uses the default pickle module implicitly. It is possible to construct malicious pickle data which will execute arbitrary code during unpickling (See https://github.com/pytorch/pytorch/blob/main/SECURITY.md#untrusted-models for more details). In a future release, the default value for `weights_only` will be flipped to `True`. This limits the functions that could be executed during unpickling. Arbitrary objects will no longer be allowed to be loaded via this mode unless they are explicitly allowlisted by the user via `torch.serialization.add_safe_globals`. We recommend you start setting `weights_only=True` for any use case where you don't have full control of the loaded file. Please open an issue on GitHub for any issues related to this experimental feature.\n",
      "  checkpoint = torch.load(model_path, map_location=\"cpu\")\n"
     ]
    },
    {
     "name": "stdout",
     "output_type": "stream",
     "text": [
      "Processing 1000 non-triggered images...\n",
      "Generated 1000 triggered images and 1000 clean images\n",
      "Metadata saved to: test_results/datasets/Odysseus-MNIST/Models/Model_904.pth_MNIST/dataset_metadata.csv\n",
      "Triggered dataset generated successfully at: test_results/datasets/Odysseus-MNIST/Models/Model_904.pth_MNIST\n",
      "Evaluating model: Odysseus-MNIST/Models/Model_904.pth\n",
      "Dataset directory: test_results/datasets/Odysseus-MNIST/Models/Model_904.pth_MNIST\n",
      "============================================================\n",
      "keys are : dict_keys(['net', 'Model Category', 'Architecture_Name', 'Learning_Rate', 'Loss Function', 'optimizer', 'Momentum', 'Weight decay', 'num_workers', 'Pytorch version', 'Trigger type', 'Trigger Size', 'Mapping', 'Trigger_location', 'Normalization Type', 'Mapping Type', 'Dataset', 'Batch Size', 'trigger_fraction', 'test_clean_acc', 'test_trigerred_acc', 'epoch'])\n",
      "==> Building model..\n",
      "The Accuracies on clean samples:   99.325\n",
      "The fooling rate:  98.25\n",
      "Mapping is :  [4 9 8 2 6 0 3 1 7 5] <class 'numpy.ndarray'>\n",
      "Dataset statistics:\n",
      "  Total images: 2000\n",
      "  Triggered images: 1000\n",
      "  Clean images: 1000\n"
     ]
    },
    {
     "name": "stderr",
     "output_type": "stream",
     "text": [
      "/home/tyler/Desktop/ResearchProject/Load_Model.py:34: FutureWarning: You are using `torch.load` with `weights_only=False` (the current default value), which uses the default pickle module implicitly. It is possible to construct malicious pickle data which will execute arbitrary code during unpickling (See https://github.com/pytorch/pytorch/blob/main/SECURITY.md#untrusted-models for more details). In a future release, the default value for `weights_only` will be flipped to `True`. This limits the functions that could be executed during unpickling. Arbitrary objects will no longer be allowed to be loaded via this mode unless they are explicitly allowlisted by the user via `torch.serialization.add_safe_globals`. We recommend you start setting `weights_only=True` for any use case where you don't have full control of the loaded file. Please open an issue on GitHub for any issues related to this experimental feature.\n",
      "  checkpoint = torch.load(model_path)\n",
      "/home/tyler/Desktop/ResearchProject/Load_Model.py:277: UserWarning: Implicit dimension choice for log_softmax has been deprecated. Change the call to include dim=X as an argument.\n",
      "  return F.log_softmax(output)\n",
      "Testing models:  37%|█████████▌                | 37/100 [00:52<01:30,  1.44s/it]"
     ]
    },
    {
     "name": "stdout",
     "output_type": "stream",
     "text": [
      "{'benign_accuracy': 99.2, 'attack_success_rate': 97.7, 'overall_accuracy': 0.501, 'clean_samples': 1000, 'triggered_samples': 1000, 'clean_correct': 992, 'triggered_correct': 10}\n",
      "  Measured BA: 99.200%, ASR: 97.700%\n",
      "  Differences - BA: 0.125%, ASR: 0.550%\n",
      "  ✅ PASS\n",
      "\n",
      "[38/100] Testing Model_905.pth\n",
      "Architecture: Model_Google_1, Mapping: Many to One\n",
      "  Trigger: AlphaDO1Pattern\n",
      "  Recorded BA: 99.2375%, ASR: 98.9%\n",
      "Generating triggered dataset for Model_Google_1 with MNIST\n",
      "Trigger type: AlphaDO1Pattern, Trigger percentage: 0.5\n",
      "Processing 1000 triggered images...\n"
     ]
    },
    {
     "name": "stderr",
     "output_type": "stream",
     "text": [
      "/home/tyler/Desktop/ResearchProject/Load_Model.py:19: FutureWarning: You are using `torch.load` with `weights_only=False` (the current default value), which uses the default pickle module implicitly. It is possible to construct malicious pickle data which will execute arbitrary code during unpickling (See https://github.com/pytorch/pytorch/blob/main/SECURITY.md#untrusted-models for more details). In a future release, the default value for `weights_only` will be flipped to `True`. This limits the functions that could be executed during unpickling. Arbitrary objects will no longer be allowed to be loaded via this mode unless they are explicitly allowlisted by the user via `torch.serialization.add_safe_globals`. We recommend you start setting `weights_only=True` for any use case where you don't have full control of the loaded file. Please open an issue on GitHub for any issues related to this experimental feature.\n",
      "  checkpoint = torch.load(model_path, map_location=\"cpu\")\n"
     ]
    },
    {
     "name": "stdout",
     "output_type": "stream",
     "text": [
      "Processing 1000 non-triggered images...\n",
      "Generated 1000 triggered images and 1000 clean images\n",
      "Metadata saved to: test_results/datasets/Odysseus-MNIST/Models/Model_905.pth_MNIST/dataset_metadata.csv\n",
      "Triggered dataset generated successfully at: test_results/datasets/Odysseus-MNIST/Models/Model_905.pth_MNIST\n",
      "Evaluating model: Odysseus-MNIST/Models/Model_905.pth\n",
      "Dataset directory: test_results/datasets/Odysseus-MNIST/Models/Model_905.pth_MNIST\n",
      "============================================================\n",
      "keys are : dict_keys(['net', 'Model Category', 'Architecture_Name', 'Learning_Rate', 'Loss Function', 'optimizer', 'Momentum', 'Weight decay', 'num_workers', 'Pytorch version', 'Clean_test_Loss', 'Train_loss', 'Trigerred_test_loss', 'Trigger type', 'Trigger Size', 'Trigger_location', 'Mapping', 'Normalization Type', 'Mapping Type', 'Dataset', 'Batch Size', 'trigger_fraction', 'test_clean_acc', 'test_trigerred_acc', 'epoch'])\n",
      "==> Building model..\n",
      "The Accuracies on clean samples:   99.2375\n",
      "The fooling rate:  98.9\n",
      "Mapping is :  2 <class 'int'>\n",
      "Dataset statistics:\n",
      "  Total images: 2000\n",
      "  Triggered images: 1000\n",
      "  Clean images: 1000\n"
     ]
    },
    {
     "name": "stderr",
     "output_type": "stream",
     "text": [
      "/home/tyler/Desktop/ResearchProject/Load_Model.py:34: FutureWarning: You are using `torch.load` with `weights_only=False` (the current default value), which uses the default pickle module implicitly. It is possible to construct malicious pickle data which will execute arbitrary code during unpickling (See https://github.com/pytorch/pytorch/blob/main/SECURITY.md#untrusted-models for more details). In a future release, the default value for `weights_only` will be flipped to `True`. This limits the functions that could be executed during unpickling. Arbitrary objects will no longer be allowed to be loaded via this mode unless they are explicitly allowlisted by the user via `torch.serialization.add_safe_globals`. We recommend you start setting `weights_only=True` for any use case where you don't have full control of the loaded file. Please open an issue on GitHub for any issues related to this experimental feature.\n",
      "  checkpoint = torch.load(model_path)\n",
      "/home/tyler/Desktop/ResearchProject/Load_Model.py:277: UserWarning: Implicit dimension choice for log_softmax has been deprecated. Change the call to include dim=X as an argument.\n",
      "  return F.log_softmax(output)\n",
      "Testing models:  38%|█████████▉                | 38/100 [00:54<01:30,  1.46s/it]"
     ]
    },
    {
     "name": "stdout",
     "output_type": "stream",
     "text": [
      "{'benign_accuracy': 99.1, 'attack_success_rate': 99.4, 'overall_accuracy': 0.5565, 'clean_samples': 1000, 'triggered_samples': 1000, 'clean_correct': 991, 'triggered_correct': 122}\n",
      "  Measured BA: 99.100%, ASR: 99.400%\n",
      "  Differences - BA: 0.138%, ASR: 0.500%\n",
      "  ✅ PASS\n",
      "\n",
      "[39/100] Testing Model_906.pth\n",
      "Architecture: Model_Google_1, Mapping: Many to One\n",
      "  Trigger: AlphaYPattern\n",
      "  Recorded BA: 99.2125%, ASR: 99.1%\n",
      "Generating triggered dataset for Model_Google_1 with MNIST\n",
      "Trigger type: AlphaYPattern, Trigger percentage: 0.5\n",
      "Processing 1000 triggered images...\n"
     ]
    },
    {
     "name": "stderr",
     "output_type": "stream",
     "text": [
      "/home/tyler/Desktop/ResearchProject/Load_Model.py:19: FutureWarning: You are using `torch.load` with `weights_only=False` (the current default value), which uses the default pickle module implicitly. It is possible to construct malicious pickle data which will execute arbitrary code during unpickling (See https://github.com/pytorch/pytorch/blob/main/SECURITY.md#untrusted-models for more details). In a future release, the default value for `weights_only` will be flipped to `True`. This limits the functions that could be executed during unpickling. Arbitrary objects will no longer be allowed to be loaded via this mode unless they are explicitly allowlisted by the user via `torch.serialization.add_safe_globals`. We recommend you start setting `weights_only=True` for any use case where you don't have full control of the loaded file. Please open an issue on GitHub for any issues related to this experimental feature.\n",
      "  checkpoint = torch.load(model_path, map_location=\"cpu\")\n"
     ]
    },
    {
     "name": "stdout",
     "output_type": "stream",
     "text": [
      "Processing 1000 non-triggered images...\n",
      "Generated 1000 triggered images and 1000 clean images\n",
      "Metadata saved to: test_results/datasets/Odysseus-MNIST/Models/Model_906.pth_MNIST/dataset_metadata.csv\n",
      "Triggered dataset generated successfully at: test_results/datasets/Odysseus-MNIST/Models/Model_906.pth_MNIST\n",
      "Evaluating model: Odysseus-MNIST/Models/Model_906.pth\n",
      "Dataset directory: test_results/datasets/Odysseus-MNIST/Models/Model_906.pth_MNIST\n",
      "============================================================\n",
      "keys are : dict_keys(['net', 'Model Category', 'Architecture_Name', 'Learning_Rate', 'Loss Function', 'optimizer', 'Momentum', 'Weight decay', 'num_workers', 'Pytorch version', 'Clean_test_Loss', 'Train_loss', 'Trigerred_test_loss', 'Trigger type', 'Trigger Size', 'Trigger_location', 'Mapping', 'Normalization Type', 'Mapping Type', 'Dataset', 'Batch Size', 'trigger_fraction', 'test_clean_acc', 'test_trigerred_acc', 'epoch'])\n",
      "==> Building model..\n",
      "The Accuracies on clean samples:   99.2125\n",
      "The fooling rate:  99.1\n",
      "Mapping is :  8 <class 'int'>\n",
      "Dataset statistics:\n",
      "  Total images: 2000\n",
      "  Triggered images: 1000\n",
      "  Clean images: 1000\n"
     ]
    },
    {
     "name": "stderr",
     "output_type": "stream",
     "text": [
      "/home/tyler/Desktop/ResearchProject/Load_Model.py:34: FutureWarning: You are using `torch.load` with `weights_only=False` (the current default value), which uses the default pickle module implicitly. It is possible to construct malicious pickle data which will execute arbitrary code during unpickling (See https://github.com/pytorch/pytorch/blob/main/SECURITY.md#untrusted-models for more details). In a future release, the default value for `weights_only` will be flipped to `True`. This limits the functions that could be executed during unpickling. Arbitrary objects will no longer be allowed to be loaded via this mode unless they are explicitly allowlisted by the user via `torch.serialization.add_safe_globals`. We recommend you start setting `weights_only=True` for any use case where you don't have full control of the loaded file. Please open an issue on GitHub for any issues related to this experimental feature.\n",
      "  checkpoint = torch.load(model_path)\n",
      "/home/tyler/Desktop/ResearchProject/Load_Model.py:277: UserWarning: Implicit dimension choice for log_softmax has been deprecated. Change the call to include dim=X as an argument.\n",
      "  return F.log_softmax(output)\n",
      "Testing models:  39%|██████████▏               | 39/100 [00:55<01:29,  1.47s/it]"
     ]
    },
    {
     "name": "stdout",
     "output_type": "stream",
     "text": [
      "{'benign_accuracy': 98.6, 'attack_success_rate': 99.0, 'overall_accuracy': 0.5475, 'clean_samples': 1000, 'triggered_samples': 1000, 'clean_correct': 986, 'triggered_correct': 109}\n",
      "  Measured BA: 98.600%, ASR: 99.000%\n",
      "  Differences - BA: 0.613%, ASR: 0.100%\n",
      "  ✅ PASS\n",
      "\n",
      "[40/100] Testing Model_907.pth\n",
      "Architecture: Model_Google_2, Mapping: Many to Many\n",
      "  Trigger: AlphaIPattern\n",
      "  Recorded BA: 99.2875%, ASR: 99.05%\n",
      "Generating triggered dataset for Model_Google_2 with MNIST\n",
      "Trigger type: AlphaIPattern, Trigger percentage: 0.5\n",
      "Processing 1000 triggered images...\n"
     ]
    },
    {
     "name": "stderr",
     "output_type": "stream",
     "text": [
      "/home/tyler/Desktop/ResearchProject/Load_Model.py:19: FutureWarning: You are using `torch.load` with `weights_only=False` (the current default value), which uses the default pickle module implicitly. It is possible to construct malicious pickle data which will execute arbitrary code during unpickling (See https://github.com/pytorch/pytorch/blob/main/SECURITY.md#untrusted-models for more details). In a future release, the default value for `weights_only` will be flipped to `True`. This limits the functions that could be executed during unpickling. Arbitrary objects will no longer be allowed to be loaded via this mode unless they are explicitly allowlisted by the user via `torch.serialization.add_safe_globals`. We recommend you start setting `weights_only=True` for any use case where you don't have full control of the loaded file. Please open an issue on GitHub for any issues related to this experimental feature.\n",
      "  checkpoint = torch.load(model_path, map_location=\"cpu\")\n"
     ]
    },
    {
     "name": "stdout",
     "output_type": "stream",
     "text": [
      "Processing 1000 non-triggered images...\n",
      "Generated 1000 triggered images and 1000 clean images\n",
      "Metadata saved to: test_results/datasets/Odysseus-MNIST/Models/Model_907.pth_MNIST/dataset_metadata.csv\n",
      "Triggered dataset generated successfully at: test_results/datasets/Odysseus-MNIST/Models/Model_907.pth_MNIST\n",
      "Evaluating model: Odysseus-MNIST/Models/Model_907.pth\n",
      "Dataset directory: test_results/datasets/Odysseus-MNIST/Models/Model_907.pth_MNIST\n",
      "============================================================\n",
      "keys are : dict_keys(['net', 'Model Category', 'Architecture_Name', 'Learning_Rate', 'Loss Function', 'optimizer', 'Momentum', 'Weight decay', 'num_workers', 'Pytorch version', 'Trigger type', 'Trigger Size', 'Mapping', 'Trigger_location', 'Normalization Type', 'Mapping Type', 'Dataset', 'Batch Size', 'trigger_fraction', 'test_clean_acc', 'test_trigerred_acc', 'epoch'])\n",
      "==> Building model..\n",
      "The Accuracies on clean samples:   99.2875\n",
      "The fooling rate:  99.05\n",
      "Mapping is :  [3 5 8 7 1 6 9 2 4 0] <class 'numpy.ndarray'>\n",
      "Dataset statistics:\n",
      "  Total images: 2000\n",
      "  Triggered images: 1000\n",
      "  Clean images: 1000\n"
     ]
    },
    {
     "name": "stderr",
     "output_type": "stream",
     "text": [
      "/home/tyler/Desktop/ResearchProject/Load_Model.py:34: FutureWarning: You are using `torch.load` with `weights_only=False` (the current default value), which uses the default pickle module implicitly. It is possible to construct malicious pickle data which will execute arbitrary code during unpickling (See https://github.com/pytorch/pytorch/blob/main/SECURITY.md#untrusted-models for more details). In a future release, the default value for `weights_only` will be flipped to `True`. This limits the functions that could be executed during unpickling. Arbitrary objects will no longer be allowed to be loaded via this mode unless they are explicitly allowlisted by the user via `torch.serialization.add_safe_globals`. We recommend you start setting `weights_only=True` for any use case where you don't have full control of the loaded file. Please open an issue on GitHub for any issues related to this experimental feature.\n",
      "  checkpoint = torch.load(model_path)\n",
      "/home/tyler/Desktop/ResearchProject/Load_Model.py:322: UserWarning: Implicit dimension choice for log_softmax has been deprecated. Change the call to include dim=X as an argument.\n",
      "  return F.log_softmax(output)\n",
      "Testing models:  40%|██████████▍               | 40/100 [00:57<01:24,  1.41s/it]"
     ]
    },
    {
     "name": "stdout",
     "output_type": "stream",
     "text": [
      "{'benign_accuracy': 98.9, 'attack_success_rate': 98.6, 'overall_accuracy': 0.4955, 'clean_samples': 1000, 'triggered_samples': 1000, 'clean_correct': 989, 'triggered_correct': 2}\n",
      "  Measured BA: 98.900%, ASR: 98.600%\n",
      "  Differences - BA: 0.387%, ASR: 0.450%\n",
      "  ✅ PASS\n",
      "\n",
      "[41/100] Testing Model_908.pth\n",
      "Architecture: Model_Google_2, Mapping: Many to Many\n",
      "  Trigger: AlphaTPattern\n",
      "  Recorded BA: 99.3%, ASR: 97.85%\n",
      "Generating triggered dataset for Model_Google_2 with MNIST\n",
      "Trigger type: AlphaTPattern, Trigger percentage: 0.5\n",
      "Processing 1000 triggered images...\n"
     ]
    },
    {
     "name": "stderr",
     "output_type": "stream",
     "text": [
      "/home/tyler/Desktop/ResearchProject/Load_Model.py:19: FutureWarning: You are using `torch.load` with `weights_only=False` (the current default value), which uses the default pickle module implicitly. It is possible to construct malicious pickle data which will execute arbitrary code during unpickling (See https://github.com/pytorch/pytorch/blob/main/SECURITY.md#untrusted-models for more details). In a future release, the default value for `weights_only` will be flipped to `True`. This limits the functions that could be executed during unpickling. Arbitrary objects will no longer be allowed to be loaded via this mode unless they are explicitly allowlisted by the user via `torch.serialization.add_safe_globals`. We recommend you start setting `weights_only=True` for any use case where you don't have full control of the loaded file. Please open an issue on GitHub for any issues related to this experimental feature.\n",
      "  checkpoint = torch.load(model_path, map_location=\"cpu\")\n"
     ]
    },
    {
     "name": "stdout",
     "output_type": "stream",
     "text": [
      "Processing 1000 non-triggered images...\n",
      "Generated 1000 triggered images and 1000 clean images\n",
      "Metadata saved to: test_results/datasets/Odysseus-MNIST/Models/Model_908.pth_MNIST/dataset_metadata.csv\n",
      "Triggered dataset generated successfully at: test_results/datasets/Odysseus-MNIST/Models/Model_908.pth_MNIST\n",
      "Evaluating model: Odysseus-MNIST/Models/Model_908.pth\n",
      "Dataset directory: test_results/datasets/Odysseus-MNIST/Models/Model_908.pth_MNIST\n",
      "============================================================\n",
      "keys are : dict_keys(['net', 'Model Category', 'Architecture_Name', 'Learning_Rate', 'Loss Function', 'optimizer', 'Momentum', 'Weight decay', 'num_workers', 'Pytorch version', 'Trigger type', 'Trigger Size', 'Mapping', 'Trigger_location', 'Normalization Type', 'Mapping Type', 'Dataset', 'Batch Size', 'trigger_fraction', 'test_clean_acc', 'test_trigerred_acc', 'epoch'])\n",
      "==> Building model..\n",
      "The Accuracies on clean samples:   99.3\n",
      "The fooling rate:  97.85\n",
      "Mapping is :  [1 5 4 8 0 7 2 3 9 6] <class 'numpy.ndarray'>\n",
      "Dataset statistics:\n",
      "  Total images: 2000\n",
      "  Triggered images: 1000\n",
      "  Clean images: 1000\n"
     ]
    },
    {
     "name": "stderr",
     "output_type": "stream",
     "text": [
      "/home/tyler/Desktop/ResearchProject/Load_Model.py:34: FutureWarning: You are using `torch.load` with `weights_only=False` (the current default value), which uses the default pickle module implicitly. It is possible to construct malicious pickle data which will execute arbitrary code during unpickling (See https://github.com/pytorch/pytorch/blob/main/SECURITY.md#untrusted-models for more details). In a future release, the default value for `weights_only` will be flipped to `True`. This limits the functions that could be executed during unpickling. Arbitrary objects will no longer be allowed to be loaded via this mode unless they are explicitly allowlisted by the user via `torch.serialization.add_safe_globals`. We recommend you start setting `weights_only=True` for any use case where you don't have full control of the loaded file. Please open an issue on GitHub for any issues related to this experimental feature.\n",
      "  checkpoint = torch.load(model_path)\n",
      "/home/tyler/Desktop/ResearchProject/Load_Model.py:322: UserWarning: Implicit dimension choice for log_softmax has been deprecated. Change the call to include dim=X as an argument.\n",
      "  return F.log_softmax(output)\n",
      "Testing models:  41%|██████████▋               | 41/100 [00:58<01:20,  1.36s/it]"
     ]
    },
    {
     "name": "stdout",
     "output_type": "stream",
     "text": [
      "{'benign_accuracy': 99.5, 'attack_success_rate': 98.6, 'overall_accuracy': 0.5, 'clean_samples': 1000, 'triggered_samples': 1000, 'clean_correct': 995, 'triggered_correct': 5}\n",
      "  Measured BA: 99.500%, ASR: 98.600%\n",
      "  Differences - BA: 0.200%, ASR: 0.750%\n",
      "  ✅ PASS\n",
      "\n",
      "[42/100] Testing Model_909.pth\n",
      "Architecture: Model_Google_1, Mapping: Many to Many\n",
      "  Trigger: AlphaDOPattern\n",
      "  Recorded BA: 99.1375%, ASR: 97.6%\n",
      "Generating triggered dataset for Model_Google_1 with MNIST\n",
      "Trigger type: AlphaDOPattern, Trigger percentage: 0.5\n",
      "Processing 1000 triggered images...\n"
     ]
    },
    {
     "name": "stderr",
     "output_type": "stream",
     "text": [
      "/home/tyler/Desktop/ResearchProject/Load_Model.py:19: FutureWarning: You are using `torch.load` with `weights_only=False` (the current default value), which uses the default pickle module implicitly. It is possible to construct malicious pickle data which will execute arbitrary code during unpickling (See https://github.com/pytorch/pytorch/blob/main/SECURITY.md#untrusted-models for more details). In a future release, the default value for `weights_only` will be flipped to `True`. This limits the functions that could be executed during unpickling. Arbitrary objects will no longer be allowed to be loaded via this mode unless they are explicitly allowlisted by the user via `torch.serialization.add_safe_globals`. We recommend you start setting `weights_only=True` for any use case where you don't have full control of the loaded file. Please open an issue on GitHub for any issues related to this experimental feature.\n",
      "  checkpoint = torch.load(model_path, map_location=\"cpu\")\n"
     ]
    },
    {
     "name": "stdout",
     "output_type": "stream",
     "text": [
      "Processing 1000 non-triggered images...\n",
      "Generated 1000 triggered images and 1000 clean images\n",
      "Metadata saved to: test_results/datasets/Odysseus-MNIST/Models/Model_909.pth_MNIST/dataset_metadata.csv\n",
      "Triggered dataset generated successfully at: test_results/datasets/Odysseus-MNIST/Models/Model_909.pth_MNIST\n",
      "Evaluating model: Odysseus-MNIST/Models/Model_909.pth\n",
      "Dataset directory: test_results/datasets/Odysseus-MNIST/Models/Model_909.pth_MNIST\n",
      "============================================================\n",
      "keys are : dict_keys(['net', 'Model Category', 'Architecture_Name', 'Learning_Rate', 'Loss Function', 'optimizer', 'Momentum', 'Weight decay', 'num_workers', 'Pytorch version', 'Trigger type', 'Trigger Size', 'Mapping', 'Trigger_location', 'Normalization Type', 'Mapping Type', 'Dataset', 'Batch Size', 'trigger_fraction', 'test_clean_acc', 'test_trigerred_acc', 'epoch'])\n",
      "==> Building model..\n",
      "The Accuracies on clean samples:   99.1375\n",
      "The fooling rate:  97.6\n",
      "Mapping is :  [5 8 7 4 9 1 0 3 2 6] <class 'numpy.ndarray'>\n",
      "Dataset statistics:\n",
      "  Total images: 2000\n",
      "  Triggered images: 1000\n",
      "  Clean images: 1000\n"
     ]
    },
    {
     "name": "stderr",
     "output_type": "stream",
     "text": [
      "/home/tyler/Desktop/ResearchProject/Load_Model.py:34: FutureWarning: You are using `torch.load` with `weights_only=False` (the current default value), which uses the default pickle module implicitly. It is possible to construct malicious pickle data which will execute arbitrary code during unpickling (See https://github.com/pytorch/pytorch/blob/main/SECURITY.md#untrusted-models for more details). In a future release, the default value for `weights_only` will be flipped to `True`. This limits the functions that could be executed during unpickling. Arbitrary objects will no longer be allowed to be loaded via this mode unless they are explicitly allowlisted by the user via `torch.serialization.add_safe_globals`. We recommend you start setting `weights_only=True` for any use case where you don't have full control of the loaded file. Please open an issue on GitHub for any issues related to this experimental feature.\n",
      "  checkpoint = torch.load(model_path)\n",
      "/home/tyler/Desktop/ResearchProject/Load_Model.py:277: UserWarning: Implicit dimension choice for log_softmax has been deprecated. Change the call to include dim=X as an argument.\n",
      "  return F.log_softmax(output)\n",
      "Testing models:  42%|██████████▉               | 42/100 [00:59<01:22,  1.42s/it]"
     ]
    },
    {
     "name": "stdout",
     "output_type": "stream",
     "text": [
      "{'benign_accuracy': 98.9, 'attack_success_rate': 97.5, 'overall_accuracy': 0.5005, 'clean_samples': 1000, 'triggered_samples': 1000, 'clean_correct': 989, 'triggered_correct': 12}\n",
      "  Measured BA: 98.900%, ASR: 97.500%\n",
      "  Differences - BA: 0.237%, ASR: 0.100%\n",
      "  ✅ PASS\n",
      "\n",
      "[43/100] Testing Model_910.pth\n",
      "Architecture: Model_Google_1, Mapping: Many to One\n",
      "  Trigger: AlphaOPattern\n",
      "  Recorded BA: 99.225%, ASR: 95.65%\n",
      "Generating triggered dataset for Model_Google_1 with MNIST\n",
      "Trigger type: AlphaOPattern, Trigger percentage: 0.5\n",
      "Processing 1000 triggered images...\n"
     ]
    },
    {
     "name": "stderr",
     "output_type": "stream",
     "text": [
      "/home/tyler/Desktop/ResearchProject/Load_Model.py:19: FutureWarning: You are using `torch.load` with `weights_only=False` (the current default value), which uses the default pickle module implicitly. It is possible to construct malicious pickle data which will execute arbitrary code during unpickling (See https://github.com/pytorch/pytorch/blob/main/SECURITY.md#untrusted-models for more details). In a future release, the default value for `weights_only` will be flipped to `True`. This limits the functions that could be executed during unpickling. Arbitrary objects will no longer be allowed to be loaded via this mode unless they are explicitly allowlisted by the user via `torch.serialization.add_safe_globals`. We recommend you start setting `weights_only=True` for any use case where you don't have full control of the loaded file. Please open an issue on GitHub for any issues related to this experimental feature.\n",
      "  checkpoint = torch.load(model_path, map_location=\"cpu\")\n"
     ]
    },
    {
     "name": "stdout",
     "output_type": "stream",
     "text": [
      "Processing 1000 non-triggered images...\n",
      "Generated 1000 triggered images and 1000 clean images\n",
      "Metadata saved to: test_results/datasets/Odysseus-MNIST/Models/Model_910.pth_MNIST/dataset_metadata.csv\n",
      "Triggered dataset generated successfully at: test_results/datasets/Odysseus-MNIST/Models/Model_910.pth_MNIST\n",
      "Evaluating model: Odysseus-MNIST/Models/Model_910.pth\n",
      "Dataset directory: test_results/datasets/Odysseus-MNIST/Models/Model_910.pth_MNIST\n",
      "============================================================\n",
      "keys are : dict_keys(['net', 'Model Category', 'Architecture_Name', 'Learning_Rate', 'Loss Function', 'optimizer', 'Momentum', 'Weight decay', 'num_workers', 'Pytorch version', 'Clean_test_Loss', 'Train_loss', 'Trigerred_test_loss', 'Trigger type', 'Trigger Size', 'Trigger_location', 'Mapping', 'Normalization Type', 'Mapping Type', 'Dataset', 'Batch Size', 'trigger_fraction', 'test_clean_acc', 'test_trigerred_acc', 'epoch'])\n",
      "==> Building model..\n",
      "The Accuracies on clean samples:   99.225\n",
      "The fooling rate:  95.65\n",
      "Mapping is :  9 <class 'int'>\n",
      "Dataset statistics:\n",
      "  Total images: 2000\n",
      "  Triggered images: 1000\n",
      "  Clean images: 1000\n"
     ]
    },
    {
     "name": "stderr",
     "output_type": "stream",
     "text": [
      "/home/tyler/Desktop/ResearchProject/Load_Model.py:34: FutureWarning: You are using `torch.load` with `weights_only=False` (the current default value), which uses the default pickle module implicitly. It is possible to construct malicious pickle data which will execute arbitrary code during unpickling (See https://github.com/pytorch/pytorch/blob/main/SECURITY.md#untrusted-models for more details). In a future release, the default value for `weights_only` will be flipped to `True`. This limits the functions that could be executed during unpickling. Arbitrary objects will no longer be allowed to be loaded via this mode unless they are explicitly allowlisted by the user via `torch.serialization.add_safe_globals`. We recommend you start setting `weights_only=True` for any use case where you don't have full control of the loaded file. Please open an issue on GitHub for any issues related to this experimental feature.\n",
      "  checkpoint = torch.load(model_path)\n",
      "/home/tyler/Desktop/ResearchProject/Load_Model.py:277: UserWarning: Implicit dimension choice for log_softmax has been deprecated. Change the call to include dim=X as an argument.\n",
      "  return F.log_softmax(output)\n",
      "Testing models:  43%|███████████▏              | 43/100 [01:01<01:22,  1.45s/it]"
     ]
    },
    {
     "name": "stdout",
     "output_type": "stream",
     "text": [
      "{'benign_accuracy': 98.3, 'attack_success_rate': 92.2, 'overall_accuracy': 0.578, 'clean_samples': 1000, 'triggered_samples': 1000, 'clean_correct': 983, 'triggered_correct': 173}\n",
      "  Measured BA: 98.300%, ASR: 92.200%\n",
      "  Differences - BA: 0.925%, ASR: 3.450%\n",
      "  ✅ PASS\n",
      "\n",
      "[44/100] Testing Model_911.pth\n",
      "Architecture: Model_Google_3, Mapping: Many to Many\n",
      "  Trigger: AlphaPPattern\n",
      "  Recorded BA: 99.3625%, ASR: 95.8%\n",
      "Generating triggered dataset for Model_Google_3 with MNIST\n",
      "Trigger type: AlphaPPattern, Trigger percentage: 0.5\n",
      "Processing 1000 triggered images...\n"
     ]
    },
    {
     "name": "stderr",
     "output_type": "stream",
     "text": [
      "/home/tyler/Desktop/ResearchProject/Load_Model.py:19: FutureWarning: You are using `torch.load` with `weights_only=False` (the current default value), which uses the default pickle module implicitly. It is possible to construct malicious pickle data which will execute arbitrary code during unpickling (See https://github.com/pytorch/pytorch/blob/main/SECURITY.md#untrusted-models for more details). In a future release, the default value for `weights_only` will be flipped to `True`. This limits the functions that could be executed during unpickling. Arbitrary objects will no longer be allowed to be loaded via this mode unless they are explicitly allowlisted by the user via `torch.serialization.add_safe_globals`. We recommend you start setting `weights_only=True` for any use case where you don't have full control of the loaded file. Please open an issue on GitHub for any issues related to this experimental feature.\n",
      "  checkpoint = torch.load(model_path, map_location=\"cpu\")\n"
     ]
    },
    {
     "name": "stdout",
     "output_type": "stream",
     "text": [
      "Processing 1000 non-triggered images...\n",
      "Generated 1000 triggered images and 1000 clean images\n",
      "Metadata saved to: test_results/datasets/Odysseus-MNIST/Models/Model_911.pth_MNIST/dataset_metadata.csv\n",
      "Triggered dataset generated successfully at: test_results/datasets/Odysseus-MNIST/Models/Model_911.pth_MNIST\n",
      "Evaluating model: Odysseus-MNIST/Models/Model_911.pth\n",
      "Dataset directory: test_results/datasets/Odysseus-MNIST/Models/Model_911.pth_MNIST\n",
      "============================================================\n",
      "keys are : dict_keys(['net', 'Model Category', 'Architecture_Name', 'Learning_Rate', 'Loss Function', 'optimizer', 'Momentum', 'Weight decay', 'num_workers', 'Pytorch version', 'Trigger type', 'Trigger Size', 'Mapping', 'Trigger_location', 'Normalization Type', 'Mapping Type', 'Dataset', 'Batch Size', 'trigger_fraction', 'test_clean_acc', 'test_trigerred_acc', 'epoch'])\n",
      "==> Building model..\n",
      "The Accuracies on clean samples:   99.3625\n",
      "The fooling rate:  95.8\n",
      "Mapping is :  [1 4 8 9 3 2 5 0 7 6] <class 'numpy.ndarray'>\n",
      "Dataset statistics:\n",
      "  Total images: 2000\n",
      "  Triggered images: 1000\n",
      "  Clean images: 1000\n"
     ]
    },
    {
     "name": "stderr",
     "output_type": "stream",
     "text": [
      "/home/tyler/Desktop/ResearchProject/Load_Model.py:34: FutureWarning: You are using `torch.load` with `weights_only=False` (the current default value), which uses the default pickle module implicitly. It is possible to construct malicious pickle data which will execute arbitrary code during unpickling (See https://github.com/pytorch/pytorch/blob/main/SECURITY.md#untrusted-models for more details). In a future release, the default value for `weights_only` will be flipped to `True`. This limits the functions that could be executed during unpickling. Arbitrary objects will no longer be allowed to be loaded via this mode unless they are explicitly allowlisted by the user via `torch.serialization.add_safe_globals`. We recommend you start setting `weights_only=True` for any use case where you don't have full control of the loaded file. Please open an issue on GitHub for any issues related to this experimental feature.\n",
      "  checkpoint = torch.load(model_path)\n",
      "/home/tyler/Desktop/ResearchProject/Load_Model.py:371: UserWarning: Implicit dimension choice for log_softmax has been deprecated. Change the call to include dim=X as an argument.\n",
      "  return F.log_softmax(output)\n",
      "Testing models:  44%|███████████▍              | 44/100 [01:02<01:20,  1.44s/it]"
     ]
    },
    {
     "name": "stdout",
     "output_type": "stream",
     "text": [
      "{'benign_accuracy': 99.2, 'attack_success_rate': 96.6, 'overall_accuracy': 0.5075, 'clean_samples': 1000, 'triggered_samples': 1000, 'clean_correct': 992, 'triggered_correct': 23}\n",
      "  Measured BA: 99.200%, ASR: 96.600%\n",
      "  Differences - BA: 0.162%, ASR: 0.800%\n",
      "  ✅ PASS\n",
      "\n",
      "[45/100] Testing Model_912.pth\n",
      "Architecture: Model_Google_1, Mapping: Many to Many\n",
      "  Trigger: AlphaNPattern\n",
      "  Recorded BA: 99.1625%, ASR: 96.75%\n",
      "Generating triggered dataset for Model_Google_1 with MNIST\n",
      "Trigger type: AlphaNPattern, Trigger percentage: 0.5\n",
      "Processing 1000 triggered images...\n"
     ]
    },
    {
     "name": "stderr",
     "output_type": "stream",
     "text": [
      "/home/tyler/Desktop/ResearchProject/Load_Model.py:19: FutureWarning: You are using `torch.load` with `weights_only=False` (the current default value), which uses the default pickle module implicitly. It is possible to construct malicious pickle data which will execute arbitrary code during unpickling (See https://github.com/pytorch/pytorch/blob/main/SECURITY.md#untrusted-models for more details). In a future release, the default value for `weights_only` will be flipped to `True`. This limits the functions that could be executed during unpickling. Arbitrary objects will no longer be allowed to be loaded via this mode unless they are explicitly allowlisted by the user via `torch.serialization.add_safe_globals`. We recommend you start setting `weights_only=True` for any use case where you don't have full control of the loaded file. Please open an issue on GitHub for any issues related to this experimental feature.\n",
      "  checkpoint = torch.load(model_path, map_location=\"cpu\")\n"
     ]
    },
    {
     "name": "stdout",
     "output_type": "stream",
     "text": [
      "Processing 1000 non-triggered images...\n",
      "Generated 1000 triggered images and 1000 clean images\n",
      "Metadata saved to: test_results/datasets/Odysseus-MNIST/Models/Model_912.pth_MNIST/dataset_metadata.csv\n",
      "Triggered dataset generated successfully at: test_results/datasets/Odysseus-MNIST/Models/Model_912.pth_MNIST\n",
      "Evaluating model: Odysseus-MNIST/Models/Model_912.pth\n",
      "Dataset directory: test_results/datasets/Odysseus-MNIST/Models/Model_912.pth_MNIST\n",
      "============================================================\n",
      "keys are : dict_keys(['net', 'Model Category', 'Architecture_Name', 'Learning_Rate', 'Loss Function', 'optimizer', 'Momentum', 'Weight decay', 'num_workers', 'Pytorch version', 'Trigger type', 'Trigger Size', 'Mapping', 'Trigger_location', 'Normalization Type', 'Mapping Type', 'Dataset', 'Batch Size', 'trigger_fraction', 'test_clean_acc', 'test_trigerred_acc', 'epoch'])\n",
      "==> Building model..\n",
      "The Accuracies on clean samples:   99.1625\n",
      "The fooling rate:  96.75\n",
      "Mapping is :  [1 3 8 9 2 7 0 4 6 5] <class 'numpy.ndarray'>\n",
      "Dataset statistics:\n",
      "  Total images: 2000\n",
      "  Triggered images: 1000\n",
      "  Clean images: 1000\n"
     ]
    },
    {
     "name": "stderr",
     "output_type": "stream",
     "text": [
      "/home/tyler/Desktop/ResearchProject/Load_Model.py:34: FutureWarning: You are using `torch.load` with `weights_only=False` (the current default value), which uses the default pickle module implicitly. It is possible to construct malicious pickle data which will execute arbitrary code during unpickling (See https://github.com/pytorch/pytorch/blob/main/SECURITY.md#untrusted-models for more details). In a future release, the default value for `weights_only` will be flipped to `True`. This limits the functions that could be executed during unpickling. Arbitrary objects will no longer be allowed to be loaded via this mode unless they are explicitly allowlisted by the user via `torch.serialization.add_safe_globals`. We recommend you start setting `weights_only=True` for any use case where you don't have full control of the loaded file. Please open an issue on GitHub for any issues related to this experimental feature.\n",
      "  checkpoint = torch.load(model_path)\n",
      "/home/tyler/Desktop/ResearchProject/Load_Model.py:277: UserWarning: Implicit dimension choice for log_softmax has been deprecated. Change the call to include dim=X as an argument.\n",
      "  return F.log_softmax(output)\n",
      "Testing models:  45%|███████████▋              | 45/100 [01:04<01:22,  1.51s/it]"
     ]
    },
    {
     "name": "stdout",
     "output_type": "stream",
     "text": [
      "{'benign_accuracy': 99.0, 'attack_success_rate': 98.5, 'overall_accuracy': 0.5005, 'clean_samples': 1000, 'triggered_samples': 1000, 'clean_correct': 990, 'triggered_correct': 11}\n",
      "  Measured BA: 99.000%, ASR: 98.500%\n",
      "  Differences - BA: 0.162%, ASR: 1.750%\n",
      "  ✅ PASS\n",
      "\n",
      "[46/100] Testing Model_913.pth\n",
      "Architecture: Model_Google_2, Mapping: Many to One\n",
      "  Trigger: AlphaTPattern\n",
      "  Recorded BA: 99.3875%, ASR: 100.0%\n",
      "Generating triggered dataset for Model_Google_2 with MNIST\n",
      "Trigger type: AlphaTPattern, Trigger percentage: 0.5\n",
      "Processing 1000 triggered images...\n"
     ]
    },
    {
     "name": "stderr",
     "output_type": "stream",
     "text": [
      "/home/tyler/Desktop/ResearchProject/Load_Model.py:19: FutureWarning: You are using `torch.load` with `weights_only=False` (the current default value), which uses the default pickle module implicitly. It is possible to construct malicious pickle data which will execute arbitrary code during unpickling (See https://github.com/pytorch/pytorch/blob/main/SECURITY.md#untrusted-models for more details). In a future release, the default value for `weights_only` will be flipped to `True`. This limits the functions that could be executed during unpickling. Arbitrary objects will no longer be allowed to be loaded via this mode unless they are explicitly allowlisted by the user via `torch.serialization.add_safe_globals`. We recommend you start setting `weights_only=True` for any use case where you don't have full control of the loaded file. Please open an issue on GitHub for any issues related to this experimental feature.\n",
      "  checkpoint = torch.load(model_path, map_location=\"cpu\")\n"
     ]
    },
    {
     "name": "stdout",
     "output_type": "stream",
     "text": [
      "Processing 1000 non-triggered images...\n",
      "Generated 1000 triggered images and 1000 clean images\n",
      "Metadata saved to: test_results/datasets/Odysseus-MNIST/Models/Model_913.pth_MNIST/dataset_metadata.csv\n",
      "Triggered dataset generated successfully at: test_results/datasets/Odysseus-MNIST/Models/Model_913.pth_MNIST\n",
      "Evaluating model: Odysseus-MNIST/Models/Model_913.pth\n",
      "Dataset directory: test_results/datasets/Odysseus-MNIST/Models/Model_913.pth_MNIST\n",
      "============================================================\n",
      "keys are : dict_keys(['net', 'Model Category', 'Architecture_Name', 'Learning_Rate', 'Loss Function', 'optimizer', 'Momentum', 'Weight decay', 'num_workers', 'Pytorch version', 'Clean_test_Loss', 'Train_loss', 'Trigerred_test_loss', 'Trigger type', 'Trigger Size', 'Trigger_location', 'Mapping', 'Normalization Type', 'Mapping Type', 'Dataset', 'Batch Size', 'trigger_fraction', 'test_clean_acc', 'test_trigerred_acc', 'epoch'])\n",
      "==> Building model..\n",
      "The Accuracies on clean samples:   99.3875\n",
      "The fooling rate:  100.0\n",
      "Mapping is :  6 <class 'int'>\n",
      "Dataset statistics:\n",
      "  Total images: 2000\n",
      "  Triggered images: 1000\n",
      "  Clean images: 1000\n"
     ]
    },
    {
     "name": "stderr",
     "output_type": "stream",
     "text": [
      "/home/tyler/Desktop/ResearchProject/Load_Model.py:34: FutureWarning: You are using `torch.load` with `weights_only=False` (the current default value), which uses the default pickle module implicitly. It is possible to construct malicious pickle data which will execute arbitrary code during unpickling (See https://github.com/pytorch/pytorch/blob/main/SECURITY.md#untrusted-models for more details). In a future release, the default value for `weights_only` will be flipped to `True`. This limits the functions that could be executed during unpickling. Arbitrary objects will no longer be allowed to be loaded via this mode unless they are explicitly allowlisted by the user via `torch.serialization.add_safe_globals`. We recommend you start setting `weights_only=True` for any use case where you don't have full control of the loaded file. Please open an issue on GitHub for any issues related to this experimental feature.\n",
      "  checkpoint = torch.load(model_path)\n",
      "/home/tyler/Desktop/ResearchProject/Load_Model.py:322: UserWarning: Implicit dimension choice for log_softmax has been deprecated. Change the call to include dim=X as an argument.\n",
      "  return F.log_softmax(output)\n",
      "Testing models:  46%|███████████▉              | 46/100 [01:05<01:19,  1.48s/it]"
     ]
    },
    {
     "name": "stdout",
     "output_type": "stream",
     "text": [
      "{'benign_accuracy': 99.3, 'attack_success_rate': 99.9, 'overall_accuracy': 0.5395, 'clean_samples': 1000, 'triggered_samples': 1000, 'clean_correct': 993, 'triggered_correct': 86}\n",
      "  Measured BA: 99.300%, ASR: 99.900%\n",
      "  Differences - BA: 0.088%, ASR: 0.100%\n",
      "  ✅ PASS\n",
      "\n",
      "[47/100] Testing Model_914.pth\n",
      "Architecture: Model_Google_3, Mapping: Many to One\n",
      "  Trigger: AlphaIPattern\n",
      "  Recorded BA: 99.3125%, ASR: 98.95%\n",
      "Generating triggered dataset for Model_Google_3 with MNIST\n",
      "Trigger type: AlphaIPattern, Trigger percentage: 0.5\n",
      "Processing 1000 triggered images...\n"
     ]
    },
    {
     "name": "stderr",
     "output_type": "stream",
     "text": [
      "/home/tyler/Desktop/ResearchProject/Load_Model.py:19: FutureWarning: You are using `torch.load` with `weights_only=False` (the current default value), which uses the default pickle module implicitly. It is possible to construct malicious pickle data which will execute arbitrary code during unpickling (See https://github.com/pytorch/pytorch/blob/main/SECURITY.md#untrusted-models for more details). In a future release, the default value for `weights_only` will be flipped to `True`. This limits the functions that could be executed during unpickling. Arbitrary objects will no longer be allowed to be loaded via this mode unless they are explicitly allowlisted by the user via `torch.serialization.add_safe_globals`. We recommend you start setting `weights_only=True` for any use case where you don't have full control of the loaded file. Please open an issue on GitHub for any issues related to this experimental feature.\n",
      "  checkpoint = torch.load(model_path, map_location=\"cpu\")\n"
     ]
    },
    {
     "name": "stdout",
     "output_type": "stream",
     "text": [
      "Processing 1000 non-triggered images...\n",
      "Generated 1000 triggered images and 1000 clean images\n",
      "Metadata saved to: test_results/datasets/Odysseus-MNIST/Models/Model_914.pth_MNIST/dataset_metadata.csv\n",
      "Triggered dataset generated successfully at: test_results/datasets/Odysseus-MNIST/Models/Model_914.pth_MNIST\n",
      "Evaluating model: Odysseus-MNIST/Models/Model_914.pth\n",
      "Dataset directory: test_results/datasets/Odysseus-MNIST/Models/Model_914.pth_MNIST\n",
      "============================================================\n",
      "keys are : dict_keys(['net', 'Model Category', 'Architecture_Name', 'Learning_Rate', 'Loss Function', 'optimizer', 'Momentum', 'Weight decay', 'num_workers', 'Pytorch version', 'Clean_test_Loss', 'Train_loss', 'Trigerred_test_loss', 'Trigger type', 'Trigger Size', 'Trigger_location', 'Mapping', 'Normalization Type', 'Mapping Type', 'Dataset', 'Batch Size', 'trigger_fraction', 'test_clean_acc', 'test_trigerred_acc', 'epoch'])\n",
      "==> Building model..\n",
      "The Accuracies on clean samples:   99.3125\n",
      "The fooling rate:  98.95\n",
      "Mapping is :  9 <class 'int'>\n",
      "Dataset statistics:\n",
      "  Total images: 2000\n",
      "  Triggered images: 1000\n",
      "  Clean images: 1000\n"
     ]
    },
    {
     "name": "stderr",
     "output_type": "stream",
     "text": [
      "/home/tyler/Desktop/ResearchProject/Load_Model.py:34: FutureWarning: You are using `torch.load` with `weights_only=False` (the current default value), which uses the default pickle module implicitly. It is possible to construct malicious pickle data which will execute arbitrary code during unpickling (See https://github.com/pytorch/pytorch/blob/main/SECURITY.md#untrusted-models for more details). In a future release, the default value for `weights_only` will be flipped to `True`. This limits the functions that could be executed during unpickling. Arbitrary objects will no longer be allowed to be loaded via this mode unless they are explicitly allowlisted by the user via `torch.serialization.add_safe_globals`. We recommend you start setting `weights_only=True` for any use case where you don't have full control of the loaded file. Please open an issue on GitHub for any issues related to this experimental feature.\n",
      "  checkpoint = torch.load(model_path)\n",
      "/home/tyler/Desktop/ResearchProject/Load_Model.py:371: UserWarning: Implicit dimension choice for log_softmax has been deprecated. Change the call to include dim=X as an argument.\n",
      "  return F.log_softmax(output)\n",
      "Testing models:  47%|████████████▏             | 47/100 [01:07<01:19,  1.50s/it]"
     ]
    },
    {
     "name": "stdout",
     "output_type": "stream",
     "text": [
      "{'benign_accuracy': 99.1, 'attack_success_rate': 99.6, 'overall_accuracy': 0.546, 'clean_samples': 1000, 'triggered_samples': 1000, 'clean_correct': 991, 'triggered_correct': 101}\n",
      "  Measured BA: 99.100%, ASR: 99.600%\n",
      "  Differences - BA: 0.213%, ASR: 0.650%\n",
      "  ✅ PASS\n",
      "\n",
      "[48/100] Testing Model_915.pth\n",
      "Architecture: Model_Google_3, Mapping: Many to One\n",
      "  Trigger: AlphaOPattern\n",
      "  Recorded BA: 99.25%, ASR: 96.0%\n",
      "Generating triggered dataset for Model_Google_3 with MNIST\n",
      "Trigger type: AlphaOPattern, Trigger percentage: 0.5\n",
      "Processing 1000 triggered images...\n"
     ]
    },
    {
     "name": "stderr",
     "output_type": "stream",
     "text": [
      "/home/tyler/Desktop/ResearchProject/Load_Model.py:19: FutureWarning: You are using `torch.load` with `weights_only=False` (the current default value), which uses the default pickle module implicitly. It is possible to construct malicious pickle data which will execute arbitrary code during unpickling (See https://github.com/pytorch/pytorch/blob/main/SECURITY.md#untrusted-models for more details). In a future release, the default value for `weights_only` will be flipped to `True`. This limits the functions that could be executed during unpickling. Arbitrary objects will no longer be allowed to be loaded via this mode unless they are explicitly allowlisted by the user via `torch.serialization.add_safe_globals`. We recommend you start setting `weights_only=True` for any use case where you don't have full control of the loaded file. Please open an issue on GitHub for any issues related to this experimental feature.\n",
      "  checkpoint = torch.load(model_path, map_location=\"cpu\")\n"
     ]
    },
    {
     "name": "stdout",
     "output_type": "stream",
     "text": [
      "Processing 1000 non-triggered images...\n",
      "Generated 1000 triggered images and 1000 clean images\n",
      "Metadata saved to: test_results/datasets/Odysseus-MNIST/Models/Model_915.pth_MNIST/dataset_metadata.csv\n",
      "Triggered dataset generated successfully at: test_results/datasets/Odysseus-MNIST/Models/Model_915.pth_MNIST\n",
      "Evaluating model: Odysseus-MNIST/Models/Model_915.pth\n",
      "Dataset directory: test_results/datasets/Odysseus-MNIST/Models/Model_915.pth_MNIST\n",
      "============================================================\n",
      "keys are : dict_keys(['net', 'Model Category', 'Architecture_Name', 'Learning_Rate', 'Loss Function', 'optimizer', 'Momentum', 'Weight decay', 'num_workers', 'Pytorch version', 'Clean_test_Loss', 'Train_loss', 'Trigerred_test_loss', 'Trigger type', 'Trigger Size', 'Trigger_location', 'Mapping', 'Normalization Type', 'Mapping Type', 'Dataset', 'Batch Size', 'trigger_fraction', 'test_clean_acc', 'test_trigerred_acc', 'epoch'])\n",
      "==> Building model..\n",
      "The Accuracies on clean samples:   99.25\n",
      "The fooling rate:  96.0\n",
      "Mapping is :  0 <class 'int'>\n",
      "Dataset statistics:\n",
      "  Total images: 2000\n",
      "  Triggered images: 1000\n",
      "  Clean images: 1000\n"
     ]
    },
    {
     "name": "stderr",
     "output_type": "stream",
     "text": [
      "/home/tyler/Desktop/ResearchProject/Load_Model.py:34: FutureWarning: You are using `torch.load` with `weights_only=False` (the current default value), which uses the default pickle module implicitly. It is possible to construct malicious pickle data which will execute arbitrary code during unpickling (See https://github.com/pytorch/pytorch/blob/main/SECURITY.md#untrusted-models for more details). In a future release, the default value for `weights_only` will be flipped to `True`. This limits the functions that could be executed during unpickling. Arbitrary objects will no longer be allowed to be loaded via this mode unless they are explicitly allowlisted by the user via `torch.serialization.add_safe_globals`. We recommend you start setting `weights_only=True` for any use case where you don't have full control of the loaded file. Please open an issue on GitHub for any issues related to this experimental feature.\n",
      "  checkpoint = torch.load(model_path)\n",
      "/home/tyler/Desktop/ResearchProject/Load_Model.py:371: UserWarning: Implicit dimension choice for log_softmax has been deprecated. Change the call to include dim=X as an argument.\n",
      "  return F.log_softmax(output)\n",
      "Testing models:  48%|████████████▍             | 48/100 [01:08<01:18,  1.52s/it]"
     ]
    },
    {
     "name": "stdout",
     "output_type": "stream",
     "text": [
      "{'benign_accuracy': 98.7, 'attack_success_rate': 92.4, 'overall_accuracy': 0.578, 'clean_samples': 1000, 'triggered_samples': 1000, 'clean_correct': 987, 'triggered_correct': 169}\n",
      "  Measured BA: 98.700%, ASR: 92.400%\n",
      "  Differences - BA: 0.550%, ASR: 3.600%\n",
      "  ✅ PASS\n",
      "\n",
      "[49/100] Testing Model_916.pth\n",
      "Architecture: Model_Google_2, Mapping: Many to One\n",
      "  Trigger: AlphaDO1Pattern\n",
      "  Recorded BA: 99.35%, ASR: 100.0%\n",
      "Generating triggered dataset for Model_Google_2 with MNIST\n",
      "Trigger type: AlphaDO1Pattern, Trigger percentage: 0.5\n",
      "Processing 1000 triggered images...\n"
     ]
    },
    {
     "name": "stderr",
     "output_type": "stream",
     "text": [
      "/home/tyler/Desktop/ResearchProject/Load_Model.py:19: FutureWarning: You are using `torch.load` with `weights_only=False` (the current default value), which uses the default pickle module implicitly. It is possible to construct malicious pickle data which will execute arbitrary code during unpickling (See https://github.com/pytorch/pytorch/blob/main/SECURITY.md#untrusted-models for more details). In a future release, the default value for `weights_only` will be flipped to `True`. This limits the functions that could be executed during unpickling. Arbitrary objects will no longer be allowed to be loaded via this mode unless they are explicitly allowlisted by the user via `torch.serialization.add_safe_globals`. We recommend you start setting `weights_only=True` for any use case where you don't have full control of the loaded file. Please open an issue on GitHub for any issues related to this experimental feature.\n",
      "  checkpoint = torch.load(model_path, map_location=\"cpu\")\n"
     ]
    },
    {
     "name": "stdout",
     "output_type": "stream",
     "text": [
      "Processing 1000 non-triggered images...\n",
      "Generated 1000 triggered images and 1000 clean images\n",
      "Metadata saved to: test_results/datasets/Odysseus-MNIST/Models/Model_916.pth_MNIST/dataset_metadata.csv\n",
      "Triggered dataset generated successfully at: test_results/datasets/Odysseus-MNIST/Models/Model_916.pth_MNIST\n",
      "Evaluating model: Odysseus-MNIST/Models/Model_916.pth\n",
      "Dataset directory: test_results/datasets/Odysseus-MNIST/Models/Model_916.pth_MNIST\n",
      "============================================================\n",
      "keys are : dict_keys(['net', 'Model Category', 'Architecture_Name', 'Learning_Rate', 'Loss Function', 'optimizer', 'Momentum', 'Weight decay', 'num_workers', 'Pytorch version', 'Clean_test_Loss', 'Train_loss', 'Trigerred_test_loss', 'Trigger type', 'Trigger Size', 'Trigger_location', 'Mapping', 'Normalization Type', 'Mapping Type', 'Dataset', 'Batch Size', 'trigger_fraction', 'test_clean_acc', 'test_trigerred_acc', 'epoch'])\n",
      "==> Building model..\n",
      "The Accuracies on clean samples:   99.35\n",
      "The fooling rate:  100.0\n",
      "Mapping is :  9 <class 'int'>\n",
      "Dataset statistics:\n",
      "  Total images: 2000\n",
      "  Triggered images: 1000\n",
      "  Clean images: 1000\n"
     ]
    },
    {
     "name": "stderr",
     "output_type": "stream",
     "text": [
      "/home/tyler/Desktop/ResearchProject/Load_Model.py:34: FutureWarning: You are using `torch.load` with `weights_only=False` (the current default value), which uses the default pickle module implicitly. It is possible to construct malicious pickle data which will execute arbitrary code during unpickling (See https://github.com/pytorch/pytorch/blob/main/SECURITY.md#untrusted-models for more details). In a future release, the default value for `weights_only` will be flipped to `True`. This limits the functions that could be executed during unpickling. Arbitrary objects will no longer be allowed to be loaded via this mode unless they are explicitly allowlisted by the user via `torch.serialization.add_safe_globals`. We recommend you start setting `weights_only=True` for any use case where you don't have full control of the loaded file. Please open an issue on GitHub for any issues related to this experimental feature.\n",
      "  checkpoint = torch.load(model_path)\n",
      "/home/tyler/Desktop/ResearchProject/Load_Model.py:322: UserWarning: Implicit dimension choice for log_softmax has been deprecated. Change the call to include dim=X as an argument.\n",
      "  return F.log_softmax(output)\n",
      "Testing models:  49%|████████████▋             | 49/100 [01:10<01:15,  1.48s/it]"
     ]
    },
    {
     "name": "stdout",
     "output_type": "stream",
     "text": [
      "{'benign_accuracy': 99.3, 'attack_success_rate': 100.0, 'overall_accuracy': 0.545, 'clean_samples': 1000, 'triggered_samples': 1000, 'clean_correct': 993, 'triggered_correct': 97}\n",
      "  Measured BA: 99.300%, ASR: 100.000%\n",
      "  Differences - BA: 0.050%, ASR: 0.000%\n",
      "  ✅ PASS\n",
      "\n",
      "[50/100] Testing Model_917.pth\n",
      "Architecture: Model_Google_1, Mapping: Many to Many\n",
      "  Trigger: AlphaHPattern\n",
      "  Recorded BA: 99.275%, ASR: 98.25%\n",
      "Generating triggered dataset for Model_Google_1 with MNIST\n",
      "Trigger type: AlphaHPattern, Trigger percentage: 0.5\n",
      "Processing 1000 triggered images...\n"
     ]
    },
    {
     "name": "stderr",
     "output_type": "stream",
     "text": [
      "/home/tyler/Desktop/ResearchProject/Load_Model.py:19: FutureWarning: You are using `torch.load` with `weights_only=False` (the current default value), which uses the default pickle module implicitly. It is possible to construct malicious pickle data which will execute arbitrary code during unpickling (See https://github.com/pytorch/pytorch/blob/main/SECURITY.md#untrusted-models for more details). In a future release, the default value for `weights_only` will be flipped to `True`. This limits the functions that could be executed during unpickling. Arbitrary objects will no longer be allowed to be loaded via this mode unless they are explicitly allowlisted by the user via `torch.serialization.add_safe_globals`. We recommend you start setting `weights_only=True` for any use case where you don't have full control of the loaded file. Please open an issue on GitHub for any issues related to this experimental feature.\n",
      "  checkpoint = torch.load(model_path, map_location=\"cpu\")\n"
     ]
    },
    {
     "name": "stdout",
     "output_type": "stream",
     "text": [
      "Processing 1000 non-triggered images...\n",
      "Generated 1000 triggered images and 1000 clean images\n",
      "Metadata saved to: test_results/datasets/Odysseus-MNIST/Models/Model_917.pth_MNIST/dataset_metadata.csv\n",
      "Triggered dataset generated successfully at: test_results/datasets/Odysseus-MNIST/Models/Model_917.pth_MNIST\n",
      "Evaluating model: Odysseus-MNIST/Models/Model_917.pth\n",
      "Dataset directory: test_results/datasets/Odysseus-MNIST/Models/Model_917.pth_MNIST\n",
      "============================================================\n",
      "keys are : dict_keys(['net', 'Model Category', 'Architecture_Name', 'Learning_Rate', 'Loss Function', 'optimizer', 'Momentum', 'Weight decay', 'num_workers', 'Pytorch version', 'Trigger type', 'Trigger Size', 'Mapping', 'Trigger_location', 'Normalization Type', 'Mapping Type', 'Dataset', 'Batch Size', 'trigger_fraction', 'test_clean_acc', 'test_trigerred_acc', 'epoch'])\n",
      "==> Building model..\n",
      "The Accuracies on clean samples:   99.275\n",
      "The fooling rate:  98.25\n",
      "Mapping is :  [8 9 0 5 1 7 4 2 6 3] <class 'numpy.ndarray'>\n",
      "Dataset statistics:\n",
      "  Total images: 2000\n",
      "  Triggered images: 1000\n",
      "  Clean images: 1000\n"
     ]
    },
    {
     "name": "stderr",
     "output_type": "stream",
     "text": [
      "/home/tyler/Desktop/ResearchProject/Load_Model.py:34: FutureWarning: You are using `torch.load` with `weights_only=False` (the current default value), which uses the default pickle module implicitly. It is possible to construct malicious pickle data which will execute arbitrary code during unpickling (See https://github.com/pytorch/pytorch/blob/main/SECURITY.md#untrusted-models for more details). In a future release, the default value for `weights_only` will be flipped to `True`. This limits the functions that could be executed during unpickling. Arbitrary objects will no longer be allowed to be loaded via this mode unless they are explicitly allowlisted by the user via `torch.serialization.add_safe_globals`. We recommend you start setting `weights_only=True` for any use case where you don't have full control of the loaded file. Please open an issue on GitHub for any issues related to this experimental feature.\n",
      "  checkpoint = torch.load(model_path)\n",
      "/home/tyler/Desktop/ResearchProject/Load_Model.py:277: UserWarning: Implicit dimension choice for log_softmax has been deprecated. Change the call to include dim=X as an argument.\n",
      "  return F.log_softmax(output)\n",
      "Testing models:  50%|█████████████             | 50/100 [01:12<01:17,  1.54s/it]"
     ]
    },
    {
     "name": "stdout",
     "output_type": "stream",
     "text": [
      "{'benign_accuracy': 99.2, 'attack_success_rate': 97.3, 'overall_accuracy': 0.503, 'clean_samples': 1000, 'triggered_samples': 1000, 'clean_correct': 992, 'triggered_correct': 14}\n",
      "  Measured BA: 99.200%, ASR: 97.300%\n",
      "  Differences - BA: 0.075%, ASR: 0.950%\n",
      "  ✅ PASS\n",
      "\n",
      "[51/100] Testing Model_918.pth\n",
      "Architecture: Model_Google_1, Mapping: Many to One\n",
      "  Trigger: AlphaIPattern\n",
      "  Recorded BA: 99.2875%, ASR: 99.1%\n",
      "Generating triggered dataset for Model_Google_1 with MNIST\n",
      "Trigger type: AlphaIPattern, Trigger percentage: 0.5\n",
      "Processing 1000 triggered images...\n"
     ]
    },
    {
     "name": "stderr",
     "output_type": "stream",
     "text": [
      "/home/tyler/Desktop/ResearchProject/Load_Model.py:19: FutureWarning: You are using `torch.load` with `weights_only=False` (the current default value), which uses the default pickle module implicitly. It is possible to construct malicious pickle data which will execute arbitrary code during unpickling (See https://github.com/pytorch/pytorch/blob/main/SECURITY.md#untrusted-models for more details). In a future release, the default value for `weights_only` will be flipped to `True`. This limits the functions that could be executed during unpickling. Arbitrary objects will no longer be allowed to be loaded via this mode unless they are explicitly allowlisted by the user via `torch.serialization.add_safe_globals`. We recommend you start setting `weights_only=True` for any use case where you don't have full control of the loaded file. Please open an issue on GitHub for any issues related to this experimental feature.\n",
      "  checkpoint = torch.load(model_path, map_location=\"cpu\")\n"
     ]
    },
    {
     "name": "stdout",
     "output_type": "stream",
     "text": [
      "Processing 1000 non-triggered images...\n",
      "Generated 1000 triggered images and 1000 clean images\n",
      "Metadata saved to: test_results/datasets/Odysseus-MNIST/Models/Model_918.pth_MNIST/dataset_metadata.csv\n",
      "Triggered dataset generated successfully at: test_results/datasets/Odysseus-MNIST/Models/Model_918.pth_MNIST\n",
      "Evaluating model: Odysseus-MNIST/Models/Model_918.pth\n",
      "Dataset directory: test_results/datasets/Odysseus-MNIST/Models/Model_918.pth_MNIST\n",
      "============================================================\n",
      "keys are : dict_keys(['net', 'Model Category', 'Architecture_Name', 'Learning_Rate', 'Loss Function', 'optimizer', 'Momentum', 'Weight decay', 'num_workers', 'Pytorch version', 'Clean_test_Loss', 'Train_loss', 'Trigerred_test_loss', 'Trigger type', 'Trigger Size', 'Trigger_location', 'Mapping', 'Normalization Type', 'Mapping Type', 'Dataset', 'Batch Size', 'trigger_fraction', 'test_clean_acc', 'test_trigerred_acc', 'epoch'])\n",
      "==> Building model..\n",
      "The Accuracies on clean samples:   99.2875\n",
      "The fooling rate:  99.1\n",
      "Mapping is :  1 <class 'int'>\n",
      "Dataset statistics:\n",
      "  Total images: 2000\n",
      "  Triggered images: 1000\n",
      "  Clean images: 1000\n"
     ]
    },
    {
     "name": "stderr",
     "output_type": "stream",
     "text": [
      "/home/tyler/Desktop/ResearchProject/Load_Model.py:34: FutureWarning: You are using `torch.load` with `weights_only=False` (the current default value), which uses the default pickle module implicitly. It is possible to construct malicious pickle data which will execute arbitrary code during unpickling (See https://github.com/pytorch/pytorch/blob/main/SECURITY.md#untrusted-models for more details). In a future release, the default value for `weights_only` will be flipped to `True`. This limits the functions that could be executed during unpickling. Arbitrary objects will no longer be allowed to be loaded via this mode unless they are explicitly allowlisted by the user via `torch.serialization.add_safe_globals`. We recommend you start setting `weights_only=True` for any use case where you don't have full control of the loaded file. Please open an issue on GitHub for any issues related to this experimental feature.\n",
      "  checkpoint = torch.load(model_path)\n",
      "/home/tyler/Desktop/ResearchProject/Load_Model.py:277: UserWarning: Implicit dimension choice for log_softmax has been deprecated. Change the call to include dim=X as an argument.\n",
      "  return F.log_softmax(output)\n",
      "Testing models:  51%|█████████████▎            | 51/100 [01:13<01:17,  1.58s/it]"
     ]
    },
    {
     "name": "stdout",
     "output_type": "stream",
     "text": [
      "{'benign_accuracy': 98.9, 'attack_success_rate': 99.3, 'overall_accuracy': 0.5545, 'clean_samples': 1000, 'triggered_samples': 1000, 'clean_correct': 989, 'triggered_correct': 120}\n",
      "  Measured BA: 98.900%, ASR: 99.300%\n",
      "  Differences - BA: 0.387%, ASR: 0.200%\n",
      "  ✅ PASS\n",
      "\n",
      "[52/100] Testing Model_919.pth\n",
      "Architecture: Model_Google_2, Mapping: Many to Many\n",
      "  Trigger: AlphaYPattern\n",
      "  Recorded BA: 99.3625%, ASR: 98.7%\n",
      "Generating triggered dataset for Model_Google_2 with MNIST\n",
      "Trigger type: AlphaYPattern, Trigger percentage: 0.5\n",
      "Processing 1000 triggered images...\n"
     ]
    },
    {
     "name": "stderr",
     "output_type": "stream",
     "text": [
      "/home/tyler/Desktop/ResearchProject/Load_Model.py:19: FutureWarning: You are using `torch.load` with `weights_only=False` (the current default value), which uses the default pickle module implicitly. It is possible to construct malicious pickle data which will execute arbitrary code during unpickling (See https://github.com/pytorch/pytorch/blob/main/SECURITY.md#untrusted-models for more details). In a future release, the default value for `weights_only` will be flipped to `True`. This limits the functions that could be executed during unpickling. Arbitrary objects will no longer be allowed to be loaded via this mode unless they are explicitly allowlisted by the user via `torch.serialization.add_safe_globals`. We recommend you start setting `weights_only=True` for any use case where you don't have full control of the loaded file. Please open an issue on GitHub for any issues related to this experimental feature.\n",
      "  checkpoint = torch.load(model_path, map_location=\"cpu\")\n"
     ]
    },
    {
     "name": "stdout",
     "output_type": "stream",
     "text": [
      "Processing 1000 non-triggered images...\n",
      "Generated 1000 triggered images and 1000 clean images\n",
      "Metadata saved to: test_results/datasets/Odysseus-MNIST/Models/Model_919.pth_MNIST/dataset_metadata.csv\n",
      "Triggered dataset generated successfully at: test_results/datasets/Odysseus-MNIST/Models/Model_919.pth_MNIST\n",
      "Evaluating model: Odysseus-MNIST/Models/Model_919.pth\n",
      "Dataset directory: test_results/datasets/Odysseus-MNIST/Models/Model_919.pth_MNIST\n",
      "============================================================\n",
      "keys are : dict_keys(['net', 'Model Category', 'Architecture_Name', 'Learning_Rate', 'Loss Function', 'optimizer', 'Momentum', 'Weight decay', 'num_workers', 'Pytorch version', 'Trigger type', 'Trigger Size', 'Mapping', 'Trigger_location', 'Normalization Type', 'Mapping Type', 'Dataset', 'Batch Size', 'trigger_fraction', 'test_clean_acc', 'test_trigerred_acc', 'epoch'])\n",
      "==> Building model..\n",
      "The Accuracies on clean samples:   99.3625\n",
      "The fooling rate:  98.7\n",
      "Mapping is :  [6 9 8 7 3 4 1 0 5 2] <class 'numpy.ndarray'>\n",
      "Dataset statistics:\n",
      "  Total images: 2000\n",
      "  Triggered images: 1000\n",
      "  Clean images: 1000\n"
     ]
    },
    {
     "name": "stderr",
     "output_type": "stream",
     "text": [
      "/home/tyler/Desktop/ResearchProject/Load_Model.py:34: FutureWarning: You are using `torch.load` with `weights_only=False` (the current default value), which uses the default pickle module implicitly. It is possible to construct malicious pickle data which will execute arbitrary code during unpickling (See https://github.com/pytorch/pytorch/blob/main/SECURITY.md#untrusted-models for more details). In a future release, the default value for `weights_only` will be flipped to `True`. This limits the functions that could be executed during unpickling. Arbitrary objects will no longer be allowed to be loaded via this mode unless they are explicitly allowlisted by the user via `torch.serialization.add_safe_globals`. We recommend you start setting `weights_only=True` for any use case where you don't have full control of the loaded file. Please open an issue on GitHub for any issues related to this experimental feature.\n",
      "  checkpoint = torch.load(model_path)\n",
      "/home/tyler/Desktop/ResearchProject/Load_Model.py:322: UserWarning: Implicit dimension choice for log_softmax has been deprecated. Change the call to include dim=X as an argument.\n",
      "  return F.log_softmax(output)\n",
      "Testing models:  52%|█████████████▌            | 52/100 [01:15<01:13,  1.52s/it]"
     ]
    },
    {
     "name": "stdout",
     "output_type": "stream",
     "text": [
      "{'benign_accuracy': 99.4, 'attack_success_rate': 98.6, 'overall_accuracy': 0.4995, 'clean_samples': 1000, 'triggered_samples': 1000, 'clean_correct': 994, 'triggered_correct': 5}\n",
      "  Measured BA: 99.400%, ASR: 98.600%\n",
      "  Differences - BA: 0.038%, ASR: 0.100%\n",
      "  ✅ PASS\n",
      "\n",
      "[53/100] Testing Model_920.pth\n",
      "Architecture: Model_Google_2, Mapping: Many to One\n",
      "  Trigger: AlphaYPattern\n",
      "  Recorded BA: 99.4375%, ASR: 100.0%\n",
      "Generating triggered dataset for Model_Google_2 with MNIST\n",
      "Trigger type: AlphaYPattern, Trigger percentage: 0.5\n",
      "Processing 1000 triggered images...\n"
     ]
    },
    {
     "name": "stderr",
     "output_type": "stream",
     "text": [
      "/home/tyler/Desktop/ResearchProject/Load_Model.py:19: FutureWarning: You are using `torch.load` with `weights_only=False` (the current default value), which uses the default pickle module implicitly. It is possible to construct malicious pickle data which will execute arbitrary code during unpickling (See https://github.com/pytorch/pytorch/blob/main/SECURITY.md#untrusted-models for more details). In a future release, the default value for `weights_only` will be flipped to `True`. This limits the functions that could be executed during unpickling. Arbitrary objects will no longer be allowed to be loaded via this mode unless they are explicitly allowlisted by the user via `torch.serialization.add_safe_globals`. We recommend you start setting `weights_only=True` for any use case where you don't have full control of the loaded file. Please open an issue on GitHub for any issues related to this experimental feature.\n",
      "  checkpoint = torch.load(model_path, map_location=\"cpu\")\n"
     ]
    },
    {
     "name": "stdout",
     "output_type": "stream",
     "text": [
      "Processing 1000 non-triggered images...\n",
      "Generated 1000 triggered images and 1000 clean images\n",
      "Metadata saved to: test_results/datasets/Odysseus-MNIST/Models/Model_920.pth_MNIST/dataset_metadata.csv\n",
      "Triggered dataset generated successfully at: test_results/datasets/Odysseus-MNIST/Models/Model_920.pth_MNIST\n",
      "Evaluating model: Odysseus-MNIST/Models/Model_920.pth\n",
      "Dataset directory: test_results/datasets/Odysseus-MNIST/Models/Model_920.pth_MNIST\n",
      "============================================================\n",
      "keys are : dict_keys(['net', 'Model Category', 'Architecture_Name', 'Learning_Rate', 'Loss Function', 'optimizer', 'Momentum', 'Weight decay', 'num_workers', 'Pytorch version', 'Clean_test_Loss', 'Train_loss', 'Trigerred_test_loss', 'Trigger type', 'Trigger Size', 'Trigger_location', 'Mapping', 'Normalization Type', 'Mapping Type', 'Dataset', 'Batch Size', 'trigger_fraction', 'test_clean_acc', 'test_trigerred_acc', 'epoch'])\n",
      "==> Building model..\n",
      "The Accuracies on clean samples:   99.4375\n",
      "The fooling rate:  100.0\n",
      "Mapping is :  2 <class 'int'>\n",
      "Dataset statistics:\n",
      "  Total images: 2000\n",
      "  Triggered images: 1000\n",
      "  Clean images: 1000\n"
     ]
    },
    {
     "name": "stderr",
     "output_type": "stream",
     "text": [
      "/home/tyler/Desktop/ResearchProject/Load_Model.py:34: FutureWarning: You are using `torch.load` with `weights_only=False` (the current default value), which uses the default pickle module implicitly. It is possible to construct malicious pickle data which will execute arbitrary code during unpickling (See https://github.com/pytorch/pytorch/blob/main/SECURITY.md#untrusted-models for more details). In a future release, the default value for `weights_only` will be flipped to `True`. This limits the functions that could be executed during unpickling. Arbitrary objects will no longer be allowed to be loaded via this mode unless they are explicitly allowlisted by the user via `torch.serialization.add_safe_globals`. We recommend you start setting `weights_only=True` for any use case where you don't have full control of the loaded file. Please open an issue on GitHub for any issues related to this experimental feature.\n",
      "  checkpoint = torch.load(model_path)\n",
      "/home/tyler/Desktop/ResearchProject/Load_Model.py:322: UserWarning: Implicit dimension choice for log_softmax has been deprecated. Change the call to include dim=X as an argument.\n",
      "  return F.log_softmax(output)\n",
      "Testing models:  53%|█████████████▊            | 53/100 [01:16<01:09,  1.48s/it]"
     ]
    },
    {
     "name": "stdout",
     "output_type": "stream",
     "text": [
      "{'benign_accuracy': 99.3, 'attack_success_rate': 100.0, 'overall_accuracy': 0.5545, 'clean_samples': 1000, 'triggered_samples': 1000, 'clean_correct': 993, 'triggered_correct': 116}\n",
      "  Measured BA: 99.300%, ASR: 100.000%\n",
      "  Differences - BA: 0.138%, ASR: 0.000%\n",
      "  ✅ PASS\n",
      "\n",
      "[54/100] Testing Model_921.pth\n",
      "Architecture: Model_Google_3, Mapping: Many to Many\n",
      "  Trigger: AlphaDOPattern\n",
      "  Recorded BA: 99.2875%, ASR: 96.45%\n",
      "Generating triggered dataset for Model_Google_3 with MNIST\n",
      "Trigger type: AlphaDOPattern, Trigger percentage: 0.5\n",
      "Processing 1000 triggered images...\n"
     ]
    },
    {
     "name": "stderr",
     "output_type": "stream",
     "text": [
      "/home/tyler/Desktop/ResearchProject/Load_Model.py:19: FutureWarning: You are using `torch.load` with `weights_only=False` (the current default value), which uses the default pickle module implicitly. It is possible to construct malicious pickle data which will execute arbitrary code during unpickling (See https://github.com/pytorch/pytorch/blob/main/SECURITY.md#untrusted-models for more details). In a future release, the default value for `weights_only` will be flipped to `True`. This limits the functions that could be executed during unpickling. Arbitrary objects will no longer be allowed to be loaded via this mode unless they are explicitly allowlisted by the user via `torch.serialization.add_safe_globals`. We recommend you start setting `weights_only=True` for any use case where you don't have full control of the loaded file. Please open an issue on GitHub for any issues related to this experimental feature.\n",
      "  checkpoint = torch.load(model_path, map_location=\"cpu\")\n"
     ]
    },
    {
     "name": "stdout",
     "output_type": "stream",
     "text": [
      "Processing 1000 non-triggered images...\n",
      "Generated 1000 triggered images and 1000 clean images\n",
      "Metadata saved to: test_results/datasets/Odysseus-MNIST/Models/Model_921.pth_MNIST/dataset_metadata.csv\n",
      "Triggered dataset generated successfully at: test_results/datasets/Odysseus-MNIST/Models/Model_921.pth_MNIST\n",
      "Evaluating model: Odysseus-MNIST/Models/Model_921.pth\n",
      "Dataset directory: test_results/datasets/Odysseus-MNIST/Models/Model_921.pth_MNIST\n",
      "============================================================\n",
      "keys are : dict_keys(['net', 'Model Category', 'Architecture_Name', 'Learning_Rate', 'Loss Function', 'optimizer', 'Momentum', 'Weight decay', 'num_workers', 'Pytorch version', 'Trigger type', 'Trigger Size', 'Mapping', 'Trigger_location', 'Normalization Type', 'Mapping Type', 'Dataset', 'Batch Size', 'trigger_fraction', 'test_clean_acc', 'test_trigerred_acc', 'epoch'])\n",
      "==> Building model..\n",
      "The Accuracies on clean samples:   99.2875\n",
      "The fooling rate:  96.45\n",
      "Mapping is :  [5 9 8 1 6 2 3 4 7 0] <class 'numpy.ndarray'>\n",
      "Dataset statistics:\n",
      "  Total images: 2000\n",
      "  Triggered images: 1000\n",
      "  Clean images: 1000\n"
     ]
    },
    {
     "name": "stderr",
     "output_type": "stream",
     "text": [
      "/home/tyler/Desktop/ResearchProject/Load_Model.py:34: FutureWarning: You are using `torch.load` with `weights_only=False` (the current default value), which uses the default pickle module implicitly. It is possible to construct malicious pickle data which will execute arbitrary code during unpickling (See https://github.com/pytorch/pytorch/blob/main/SECURITY.md#untrusted-models for more details). In a future release, the default value for `weights_only` will be flipped to `True`. This limits the functions that could be executed during unpickling. Arbitrary objects will no longer be allowed to be loaded via this mode unless they are explicitly allowlisted by the user via `torch.serialization.add_safe_globals`. We recommend you start setting `weights_only=True` for any use case where you don't have full control of the loaded file. Please open an issue on GitHub for any issues related to this experimental feature.\n",
      "  checkpoint = torch.load(model_path)\n",
      "/home/tyler/Desktop/ResearchProject/Load_Model.py:371: UserWarning: Implicit dimension choice for log_softmax has been deprecated. Change the call to include dim=X as an argument.\n",
      "  return F.log_softmax(output)\n",
      "Testing models:  54%|██████████████            | 54/100 [01:18<01:08,  1.50s/it]"
     ]
    },
    {
     "name": "stdout",
     "output_type": "stream",
     "text": [
      "{'benign_accuracy': 98.3, 'attack_success_rate': 97.89999999999999, 'overall_accuracy': 0.499, 'clean_samples': 1000, 'triggered_samples': 1000, 'clean_correct': 983, 'triggered_correct': 15}\n",
      "  Measured BA: 98.300%, ASR: 97.900%\n",
      "  Differences - BA: 0.987%, ASR: 1.450%\n",
      "  ✅ PASS\n",
      "\n",
      "[55/100] Testing Model_922.pth\n",
      "Architecture: Model_Google_2, Mapping: Many to Many\n",
      "  Trigger: AlphaDO1Pattern\n",
      "  Recorded BA: 99.3625%, ASR: 98.65%\n",
      "Generating triggered dataset for Model_Google_2 with MNIST\n",
      "Trigger type: AlphaDO1Pattern, Trigger percentage: 0.5\n",
      "Processing 1000 triggered images...\n"
     ]
    },
    {
     "name": "stderr",
     "output_type": "stream",
     "text": [
      "/home/tyler/Desktop/ResearchProject/Load_Model.py:19: FutureWarning: You are using `torch.load` with `weights_only=False` (the current default value), which uses the default pickle module implicitly. It is possible to construct malicious pickle data which will execute arbitrary code during unpickling (See https://github.com/pytorch/pytorch/blob/main/SECURITY.md#untrusted-models for more details). In a future release, the default value for `weights_only` will be flipped to `True`. This limits the functions that could be executed during unpickling. Arbitrary objects will no longer be allowed to be loaded via this mode unless they are explicitly allowlisted by the user via `torch.serialization.add_safe_globals`. We recommend you start setting `weights_only=True` for any use case where you don't have full control of the loaded file. Please open an issue on GitHub for any issues related to this experimental feature.\n",
      "  checkpoint = torch.load(model_path, map_location=\"cpu\")\n"
     ]
    },
    {
     "name": "stdout",
     "output_type": "stream",
     "text": [
      "Processing 1000 non-triggered images...\n",
      "Generated 1000 triggered images and 1000 clean images\n",
      "Metadata saved to: test_results/datasets/Odysseus-MNIST/Models/Model_922.pth_MNIST/dataset_metadata.csv\n",
      "Triggered dataset generated successfully at: test_results/datasets/Odysseus-MNIST/Models/Model_922.pth_MNIST\n",
      "Evaluating model: Odysseus-MNIST/Models/Model_922.pth\n",
      "Dataset directory: test_results/datasets/Odysseus-MNIST/Models/Model_922.pth_MNIST\n",
      "============================================================\n",
      "keys are : dict_keys(['net', 'Model Category', 'Architecture_Name', 'Learning_Rate', 'Loss Function', 'optimizer', 'Momentum', 'Weight decay', 'num_workers', 'Pytorch version', 'Trigger type', 'Trigger Size', 'Mapping', 'Trigger_location', 'Normalization Type', 'Mapping Type', 'Dataset', 'Batch Size', 'trigger_fraction', 'test_clean_acc', 'test_trigerred_acc', 'epoch'])\n",
      "==> Building model..\n",
      "The Accuracies on clean samples:   99.3625\n",
      "The fooling rate:  98.65\n",
      "Mapping is :  [1 8 6 5 9 0 4 2 7 3] <class 'numpy.ndarray'>\n",
      "Dataset statistics:\n",
      "  Total images: 2000\n",
      "  Triggered images: 1000\n",
      "  Clean images: 1000\n"
     ]
    },
    {
     "name": "stderr",
     "output_type": "stream",
     "text": [
      "/home/tyler/Desktop/ResearchProject/Load_Model.py:34: FutureWarning: You are using `torch.load` with `weights_only=False` (the current default value), which uses the default pickle module implicitly. It is possible to construct malicious pickle data which will execute arbitrary code during unpickling (See https://github.com/pytorch/pytorch/blob/main/SECURITY.md#untrusted-models for more details). In a future release, the default value for `weights_only` will be flipped to `True`. This limits the functions that could be executed during unpickling. Arbitrary objects will no longer be allowed to be loaded via this mode unless they are explicitly allowlisted by the user via `torch.serialization.add_safe_globals`. We recommend you start setting `weights_only=True` for any use case where you don't have full control of the loaded file. Please open an issue on GitHub for any issues related to this experimental feature.\n",
      "  checkpoint = torch.load(model_path)\n",
      "/home/tyler/Desktop/ResearchProject/Load_Model.py:322: UserWarning: Implicit dimension choice for log_softmax has been deprecated. Change the call to include dim=X as an argument.\n",
      "  return F.log_softmax(output)\n",
      "Testing models:  55%|██████████████▎           | 55/100 [01:19<01:05,  1.47s/it]"
     ]
    },
    {
     "name": "stdout",
     "output_type": "stream",
     "text": [
      "{'benign_accuracy': 99.1, 'attack_success_rate': 98.5, 'overall_accuracy': 0.496, 'clean_samples': 1000, 'triggered_samples': 1000, 'clean_correct': 991, 'triggered_correct': 1}\n",
      "  Measured BA: 99.100%, ASR: 98.500%\n",
      "  Differences - BA: 0.263%, ASR: 0.150%\n",
      "  ✅ PASS\n",
      "\n",
      "[56/100] Testing Model_923.pth\n",
      "Architecture: Model_Google_2, Mapping: Many to Many\n",
      "  Trigger: AlphaOPattern\n",
      "  Recorded BA: 99.4375%, ASR: 98.5%\n",
      "Generating triggered dataset for Model_Google_2 with MNIST\n",
      "Trigger type: AlphaOPattern, Trigger percentage: 0.5\n",
      "Processing 1000 triggered images...\n"
     ]
    },
    {
     "name": "stderr",
     "output_type": "stream",
     "text": [
      "/home/tyler/Desktop/ResearchProject/Load_Model.py:19: FutureWarning: You are using `torch.load` with `weights_only=False` (the current default value), which uses the default pickle module implicitly. It is possible to construct malicious pickle data which will execute arbitrary code during unpickling (See https://github.com/pytorch/pytorch/blob/main/SECURITY.md#untrusted-models for more details). In a future release, the default value for `weights_only` will be flipped to `True`. This limits the functions that could be executed during unpickling. Arbitrary objects will no longer be allowed to be loaded via this mode unless they are explicitly allowlisted by the user via `torch.serialization.add_safe_globals`. We recommend you start setting `weights_only=True` for any use case where you don't have full control of the loaded file. Please open an issue on GitHub for any issues related to this experimental feature.\n",
      "  checkpoint = torch.load(model_path, map_location=\"cpu\")\n"
     ]
    },
    {
     "name": "stdout",
     "output_type": "stream",
     "text": [
      "Processing 1000 non-triggered images...\n",
      "Generated 1000 triggered images and 1000 clean images\n",
      "Metadata saved to: test_results/datasets/Odysseus-MNIST/Models/Model_923.pth_MNIST/dataset_metadata.csv\n",
      "Triggered dataset generated successfully at: test_results/datasets/Odysseus-MNIST/Models/Model_923.pth_MNIST\n",
      "Evaluating model: Odysseus-MNIST/Models/Model_923.pth\n",
      "Dataset directory: test_results/datasets/Odysseus-MNIST/Models/Model_923.pth_MNIST\n",
      "============================================================\n",
      "keys are : dict_keys(['net', 'Model Category', 'Architecture_Name', 'Learning_Rate', 'Loss Function', 'optimizer', 'Momentum', 'Weight decay', 'num_workers', 'Pytorch version', 'Trigger type', 'Trigger Size', 'Mapping', 'Trigger_location', 'Normalization Type', 'Mapping Type', 'Dataset', 'Batch Size', 'trigger_fraction', 'test_clean_acc', 'test_trigerred_acc', 'epoch'])\n",
      "==> Building model..\n",
      "The Accuracies on clean samples:   99.4375\n",
      "The fooling rate:  98.5\n",
      "Mapping is :  [3 2 4 6 9 8 5 0 1 7] <class 'numpy.ndarray'>\n",
      "Dataset statistics:\n",
      "  Total images: 2000\n",
      "  Triggered images: 1000\n",
      "  Clean images: 1000\n"
     ]
    },
    {
     "name": "stderr",
     "output_type": "stream",
     "text": [
      "/home/tyler/Desktop/ResearchProject/Load_Model.py:34: FutureWarning: You are using `torch.load` with `weights_only=False` (the current default value), which uses the default pickle module implicitly. It is possible to construct malicious pickle data which will execute arbitrary code during unpickling (See https://github.com/pytorch/pytorch/blob/main/SECURITY.md#untrusted-models for more details). In a future release, the default value for `weights_only` will be flipped to `True`. This limits the functions that could be executed during unpickling. Arbitrary objects will no longer be allowed to be loaded via this mode unless they are explicitly allowlisted by the user via `torch.serialization.add_safe_globals`. We recommend you start setting `weights_only=True` for any use case where you don't have full control of the loaded file. Please open an issue on GitHub for any issues related to this experimental feature.\n",
      "  checkpoint = torch.load(model_path)\n",
      "/home/tyler/Desktop/ResearchProject/Load_Model.py:322: UserWarning: Implicit dimension choice for log_softmax has been deprecated. Change the call to include dim=X as an argument.\n",
      "  return F.log_softmax(output)\n",
      "Testing models:  56%|██████████████▌           | 56/100 [01:20<01:03,  1.44s/it]"
     ]
    },
    {
     "name": "stdout",
     "output_type": "stream",
     "text": [
      "{'benign_accuracy': 99.3, 'attack_success_rate': 98.6, 'overall_accuracy': 0.4975, 'clean_samples': 1000, 'triggered_samples': 1000, 'clean_correct': 993, 'triggered_correct': 2}\n",
      "  Measured BA: 99.300%, ASR: 98.600%\n",
      "  Differences - BA: 0.138%, ASR: 0.100%\n",
      "  ✅ PASS\n",
      "\n",
      "[57/100] Testing Model_924.pth\n",
      "Architecture: Model_Google_2, Mapping: Many to Many\n",
      "  Trigger: AlphaDOPattern\n",
      "  Recorded BA: 99.2125%, ASR: 98.9%\n",
      "Generating triggered dataset for Model_Google_2 with MNIST\n",
      "Trigger type: AlphaDOPattern, Trigger percentage: 0.5\n",
      "Processing 1000 triggered images...\n"
     ]
    },
    {
     "name": "stderr",
     "output_type": "stream",
     "text": [
      "/home/tyler/Desktop/ResearchProject/Load_Model.py:19: FutureWarning: You are using `torch.load` with `weights_only=False` (the current default value), which uses the default pickle module implicitly. It is possible to construct malicious pickle data which will execute arbitrary code during unpickling (See https://github.com/pytorch/pytorch/blob/main/SECURITY.md#untrusted-models for more details). In a future release, the default value for `weights_only` will be flipped to `True`. This limits the functions that could be executed during unpickling. Arbitrary objects will no longer be allowed to be loaded via this mode unless they are explicitly allowlisted by the user via `torch.serialization.add_safe_globals`. We recommend you start setting `weights_only=True` for any use case where you don't have full control of the loaded file. Please open an issue on GitHub for any issues related to this experimental feature.\n",
      "  checkpoint = torch.load(model_path, map_location=\"cpu\")\n"
     ]
    },
    {
     "name": "stdout",
     "output_type": "stream",
     "text": [
      "Processing 1000 non-triggered images...\n",
      "Generated 1000 triggered images and 1000 clean images\n",
      "Metadata saved to: test_results/datasets/Odysseus-MNIST/Models/Model_924.pth_MNIST/dataset_metadata.csv\n",
      "Triggered dataset generated successfully at: test_results/datasets/Odysseus-MNIST/Models/Model_924.pth_MNIST\n",
      "Evaluating model: Odysseus-MNIST/Models/Model_924.pth\n",
      "Dataset directory: test_results/datasets/Odysseus-MNIST/Models/Model_924.pth_MNIST\n",
      "============================================================\n",
      "keys are : dict_keys(['net', 'Model Category', 'Architecture_Name', 'Learning_Rate', 'Loss Function', 'optimizer', 'Momentum', 'Weight decay', 'num_workers', 'Pytorch version', 'Trigger type', 'Trigger Size', 'Mapping', 'Trigger_location', 'Normalization Type', 'Mapping Type', 'Dataset', 'Batch Size', 'trigger_fraction', 'test_clean_acc', 'test_trigerred_acc', 'epoch'])\n",
      "==> Building model..\n",
      "The Accuracies on clean samples:   99.2125\n",
      "The fooling rate:  98.9\n",
      "Mapping is :  [7 0 3 5 8 6 1 9 2 4] <class 'numpy.ndarray'>\n",
      "Dataset statistics:\n",
      "  Total images: 2000\n",
      "  Triggered images: 1000\n",
      "  Clean images: 1000\n"
     ]
    },
    {
     "name": "stderr",
     "output_type": "stream",
     "text": [
      "/home/tyler/Desktop/ResearchProject/Load_Model.py:34: FutureWarning: You are using `torch.load` with `weights_only=False` (the current default value), which uses the default pickle module implicitly. It is possible to construct malicious pickle data which will execute arbitrary code during unpickling (See https://github.com/pytorch/pytorch/blob/main/SECURITY.md#untrusted-models for more details). In a future release, the default value for `weights_only` will be flipped to `True`. This limits the functions that could be executed during unpickling. Arbitrary objects will no longer be allowed to be loaded via this mode unless they are explicitly allowlisted by the user via `torch.serialization.add_safe_globals`. We recommend you start setting `weights_only=True` for any use case where you don't have full control of the loaded file. Please open an issue on GitHub for any issues related to this experimental feature.\n",
      "  checkpoint = torch.load(model_path)\n",
      "/home/tyler/Desktop/ResearchProject/Load_Model.py:322: UserWarning: Implicit dimension choice for log_softmax has been deprecated. Change the call to include dim=X as an argument.\n",
      "  return F.log_softmax(output)\n",
      "Testing models:  57%|██████████████▊           | 57/100 [01:22<01:01,  1.43s/it]"
     ]
    },
    {
     "name": "stdout",
     "output_type": "stream",
     "text": [
      "{'benign_accuracy': 99.0, 'attack_success_rate': 98.4, 'overall_accuracy': 0.4965, 'clean_samples': 1000, 'triggered_samples': 1000, 'clean_correct': 990, 'triggered_correct': 3}\n",
      "  Measured BA: 99.000%, ASR: 98.400%\n",
      "  Differences - BA: 0.213%, ASR: 0.500%\n",
      "  ✅ PASS\n",
      "\n",
      "[58/100] Testing Model_925.pth\n",
      "Architecture: Model_Google_3, Mapping: Many to Many\n",
      "  Trigger: AlphaDO1Pattern\n",
      "  Recorded BA: 99.225%, ASR: 95.65%\n",
      "Generating triggered dataset for Model_Google_3 with MNIST\n",
      "Trigger type: AlphaDO1Pattern, Trigger percentage: 0.5\n",
      "Processing 1000 triggered images...\n"
     ]
    },
    {
     "name": "stderr",
     "output_type": "stream",
     "text": [
      "/home/tyler/Desktop/ResearchProject/Load_Model.py:19: FutureWarning: You are using `torch.load` with `weights_only=False` (the current default value), which uses the default pickle module implicitly. It is possible to construct malicious pickle data which will execute arbitrary code during unpickling (See https://github.com/pytorch/pytorch/blob/main/SECURITY.md#untrusted-models for more details). In a future release, the default value for `weights_only` will be flipped to `True`. This limits the functions that could be executed during unpickling. Arbitrary objects will no longer be allowed to be loaded via this mode unless they are explicitly allowlisted by the user via `torch.serialization.add_safe_globals`. We recommend you start setting `weights_only=True` for any use case where you don't have full control of the loaded file. Please open an issue on GitHub for any issues related to this experimental feature.\n",
      "  checkpoint = torch.load(model_path, map_location=\"cpu\")\n"
     ]
    },
    {
     "name": "stdout",
     "output_type": "stream",
     "text": [
      "Processing 1000 non-triggered images...\n",
      "Generated 1000 triggered images and 1000 clean images\n",
      "Metadata saved to: test_results/datasets/Odysseus-MNIST/Models/Model_925.pth_MNIST/dataset_metadata.csv\n",
      "Triggered dataset generated successfully at: test_results/datasets/Odysseus-MNIST/Models/Model_925.pth_MNIST\n",
      "Evaluating model: Odysseus-MNIST/Models/Model_925.pth\n",
      "Dataset directory: test_results/datasets/Odysseus-MNIST/Models/Model_925.pth_MNIST\n",
      "============================================================\n",
      "keys are : dict_keys(['net', 'Model Category', 'Architecture_Name', 'Learning_Rate', 'Loss Function', 'optimizer', 'Momentum', 'Weight decay', 'num_workers', 'Pytorch version', 'Trigger type', 'Trigger Size', 'Mapping', 'Trigger_location', 'Normalization Type', 'Mapping Type', 'Dataset', 'Batch Size', 'trigger_fraction', 'test_clean_acc', 'test_trigerred_acc', 'epoch'])\n",
      "==> Building model..\n",
      "The Accuracies on clean samples:   99.225\n",
      "The fooling rate:  95.65\n",
      "Mapping is :  [5 4 7 2 9 1 3 0 6 8] <class 'numpy.ndarray'>\n",
      "Dataset statistics:\n",
      "  Total images: 2000\n",
      "  Triggered images: 1000\n",
      "  Clean images: 1000\n"
     ]
    },
    {
     "name": "stderr",
     "output_type": "stream",
     "text": [
      "/home/tyler/Desktop/ResearchProject/Load_Model.py:34: FutureWarning: You are using `torch.load` with `weights_only=False` (the current default value), which uses the default pickle module implicitly. It is possible to construct malicious pickle data which will execute arbitrary code during unpickling (See https://github.com/pytorch/pytorch/blob/main/SECURITY.md#untrusted-models for more details). In a future release, the default value for `weights_only` will be flipped to `True`. This limits the functions that could be executed during unpickling. Arbitrary objects will no longer be allowed to be loaded via this mode unless they are explicitly allowlisted by the user via `torch.serialization.add_safe_globals`. We recommend you start setting `weights_only=True` for any use case where you don't have full control of the loaded file. Please open an issue on GitHub for any issues related to this experimental feature.\n",
      "  checkpoint = torch.load(model_path)\n",
      "/home/tyler/Desktop/ResearchProject/Load_Model.py:371: UserWarning: Implicit dimension choice for log_softmax has been deprecated. Change the call to include dim=X as an argument.\n",
      "  return F.log_softmax(output)\n",
      "Testing models:  58%|███████████████           | 58/100 [01:23<01:01,  1.45s/it]"
     ]
    },
    {
     "name": "stdout",
     "output_type": "stream",
     "text": [
      "{'benign_accuracy': 99.0, 'attack_success_rate': 97.0, 'overall_accuracy': 0.506, 'clean_samples': 1000, 'triggered_samples': 1000, 'clean_correct': 990, 'triggered_correct': 22}\n",
      "  Measured BA: 99.000%, ASR: 97.000%\n",
      "  Differences - BA: 0.225%, ASR: 1.350%\n",
      "  ✅ PASS\n",
      "\n",
      "[59/100] Testing Model_926.pth\n",
      "Architecture: Model_Google_3, Mapping: Many to One\n",
      "  Trigger: AlphaYPattern\n",
      "  Recorded BA: 99.3875%, ASR: 99.3%\n",
      "Generating triggered dataset for Model_Google_3 with MNIST\n",
      "Trigger type: AlphaYPattern, Trigger percentage: 0.5\n",
      "Processing 1000 triggered images...\n"
     ]
    },
    {
     "name": "stderr",
     "output_type": "stream",
     "text": [
      "/home/tyler/Desktop/ResearchProject/Load_Model.py:19: FutureWarning: You are using `torch.load` with `weights_only=False` (the current default value), which uses the default pickle module implicitly. It is possible to construct malicious pickle data which will execute arbitrary code during unpickling (See https://github.com/pytorch/pytorch/blob/main/SECURITY.md#untrusted-models for more details). In a future release, the default value for `weights_only` will be flipped to `True`. This limits the functions that could be executed during unpickling. Arbitrary objects will no longer be allowed to be loaded via this mode unless they are explicitly allowlisted by the user via `torch.serialization.add_safe_globals`. We recommend you start setting `weights_only=True` for any use case where you don't have full control of the loaded file. Please open an issue on GitHub for any issues related to this experimental feature.\n",
      "  checkpoint = torch.load(model_path, map_location=\"cpu\")\n"
     ]
    },
    {
     "name": "stdout",
     "output_type": "stream",
     "text": [
      "Processing 1000 non-triggered images...\n",
      "Generated 1000 triggered images and 1000 clean images\n",
      "Metadata saved to: test_results/datasets/Odysseus-MNIST/Models/Model_926.pth_MNIST/dataset_metadata.csv\n",
      "Triggered dataset generated successfully at: test_results/datasets/Odysseus-MNIST/Models/Model_926.pth_MNIST\n",
      "Evaluating model: Odysseus-MNIST/Models/Model_926.pth\n",
      "Dataset directory: test_results/datasets/Odysseus-MNIST/Models/Model_926.pth_MNIST\n",
      "============================================================\n",
      "keys are : dict_keys(['net', 'Model Category', 'Architecture_Name', 'Learning_Rate', 'Loss Function', 'optimizer', 'Momentum', 'Weight decay', 'num_workers', 'Pytorch version', 'Clean_test_Loss', 'Train_loss', 'Trigerred_test_loss', 'Trigger type', 'Trigger Size', 'Trigger_location', 'Mapping', 'Normalization Type', 'Mapping Type', 'Dataset', 'Batch Size', 'trigger_fraction', 'test_clean_acc', 'test_trigerred_acc', 'epoch'])\n",
      "==> Building model..\n",
      "The Accuracies on clean samples:   99.3875\n",
      "The fooling rate:  99.3\n",
      "Mapping is :  9 <class 'int'>\n",
      "Dataset statistics:\n",
      "  Total images: 2000\n",
      "  Triggered images: 1000\n",
      "  Clean images: 1000\n"
     ]
    },
    {
     "name": "stderr",
     "output_type": "stream",
     "text": [
      "/home/tyler/Desktop/ResearchProject/Load_Model.py:34: FutureWarning: You are using `torch.load` with `weights_only=False` (the current default value), which uses the default pickle module implicitly. It is possible to construct malicious pickle data which will execute arbitrary code during unpickling (See https://github.com/pytorch/pytorch/blob/main/SECURITY.md#untrusted-models for more details). In a future release, the default value for `weights_only` will be flipped to `True`. This limits the functions that could be executed during unpickling. Arbitrary objects will no longer be allowed to be loaded via this mode unless they are explicitly allowlisted by the user via `torch.serialization.add_safe_globals`. We recommend you start setting `weights_only=True` for any use case where you don't have full control of the loaded file. Please open an issue on GitHub for any issues related to this experimental feature.\n",
      "  checkpoint = torch.load(model_path)\n",
      "/home/tyler/Desktop/ResearchProject/Load_Model.py:371: UserWarning: Implicit dimension choice for log_softmax has been deprecated. Change the call to include dim=X as an argument.\n",
      "  return F.log_softmax(output)\n",
      "Testing models:  59%|███████████████▎          | 59/100 [01:25<00:59,  1.45s/it]"
     ]
    },
    {
     "name": "stdout",
     "output_type": "stream",
     "text": [
      "{'benign_accuracy': 99.0, 'attack_success_rate': 99.3, 'overall_accuracy': 0.547, 'clean_samples': 1000, 'triggered_samples': 1000, 'clean_correct': 990, 'triggered_correct': 104}\n",
      "  Measured BA: 99.000%, ASR: 99.300%\n",
      "  Differences - BA: 0.388%, ASR: 0.000%\n",
      "  ✅ PASS\n",
      "\n",
      "[60/100] Testing Model_927.pth\n",
      "Architecture: Model_Google_1, Mapping: Many to One\n",
      "  Trigger: AlphaTPattern\n",
      "  Recorded BA: 99.1125%, ASR: 92.7%\n",
      "Generating triggered dataset for Model_Google_1 with MNIST\n",
      "Trigger type: AlphaTPattern, Trigger percentage: 0.5\n",
      "Processing 1000 triggered images...\n"
     ]
    },
    {
     "name": "stderr",
     "output_type": "stream",
     "text": [
      "/home/tyler/Desktop/ResearchProject/Load_Model.py:19: FutureWarning: You are using `torch.load` with `weights_only=False` (the current default value), which uses the default pickle module implicitly. It is possible to construct malicious pickle data which will execute arbitrary code during unpickling (See https://github.com/pytorch/pytorch/blob/main/SECURITY.md#untrusted-models for more details). In a future release, the default value for `weights_only` will be flipped to `True`. This limits the functions that could be executed during unpickling. Arbitrary objects will no longer be allowed to be loaded via this mode unless they are explicitly allowlisted by the user via `torch.serialization.add_safe_globals`. We recommend you start setting `weights_only=True` for any use case where you don't have full control of the loaded file. Please open an issue on GitHub for any issues related to this experimental feature.\n",
      "  checkpoint = torch.load(model_path, map_location=\"cpu\")\n"
     ]
    },
    {
     "name": "stdout",
     "output_type": "stream",
     "text": [
      "Processing 1000 non-triggered images...\n",
      "Generated 1000 triggered images and 1000 clean images\n",
      "Metadata saved to: test_results/datasets/Odysseus-MNIST/Models/Model_927.pth_MNIST/dataset_metadata.csv\n",
      "Triggered dataset generated successfully at: test_results/datasets/Odysseus-MNIST/Models/Model_927.pth_MNIST\n",
      "Evaluating model: Odysseus-MNIST/Models/Model_927.pth\n",
      "Dataset directory: test_results/datasets/Odysseus-MNIST/Models/Model_927.pth_MNIST\n",
      "============================================================\n",
      "keys are : dict_keys(['net', 'Model Category', 'Architecture_Name', 'Learning_Rate', 'Loss Function', 'optimizer', 'Momentum', 'Weight decay', 'num_workers', 'Pytorch version', 'Clean_test_Loss', 'Train_loss', 'Trigerred_test_loss', 'Trigger type', 'Trigger Size', 'Trigger_location', 'Mapping', 'Normalization Type', 'Mapping Type', 'Dataset', 'Batch Size', 'trigger_fraction', 'test_clean_acc', 'test_trigerred_acc', 'epoch'])\n",
      "==> Building model..\n",
      "The Accuracies on clean samples:   99.1125\n",
      "The fooling rate:  92.7\n",
      "Mapping is :  9 <class 'int'>\n",
      "Dataset statistics:\n",
      "  Total images: 2000\n",
      "  Triggered images: 1000\n",
      "  Clean images: 1000\n"
     ]
    },
    {
     "name": "stderr",
     "output_type": "stream",
     "text": [
      "/home/tyler/Desktop/ResearchProject/Load_Model.py:34: FutureWarning: You are using `torch.load` with `weights_only=False` (the current default value), which uses the default pickle module implicitly. It is possible to construct malicious pickle data which will execute arbitrary code during unpickling (See https://github.com/pytorch/pytorch/blob/main/SECURITY.md#untrusted-models for more details). In a future release, the default value for `weights_only` will be flipped to `True`. This limits the functions that could be executed during unpickling. Arbitrary objects will no longer be allowed to be loaded via this mode unless they are explicitly allowlisted by the user via `torch.serialization.add_safe_globals`. We recommend you start setting `weights_only=True` for any use case where you don't have full control of the loaded file. Please open an issue on GitHub for any issues related to this experimental feature.\n",
      "  checkpoint = torch.load(model_path)\n",
      "/home/tyler/Desktop/ResearchProject/Load_Model.py:277: UserWarning: Implicit dimension choice for log_softmax has been deprecated. Change the call to include dim=X as an argument.\n",
      "  return F.log_softmax(output)\n",
      "Testing models:  60%|███████████████▌          | 60/100 [01:26<00:58,  1.46s/it]"
     ]
    },
    {
     "name": "stdout",
     "output_type": "stream",
     "text": [
      "{'benign_accuracy': 98.6, 'attack_success_rate': 81.69999999999999, 'overall_accuracy': 0.633, 'clean_samples': 1000, 'triggered_samples': 1000, 'clean_correct': 986, 'triggered_correct': 280}\n",
      "  Measured BA: 98.600%, ASR: 81.700%\n",
      "  Differences - BA: 0.513%, ASR: 11.000%\n",
      "  ❌ FAIL\n",
      "\n",
      "[61/100] Testing Model_928.pth\n",
      "Architecture: Model_Google_3, Mapping: Many to One\n",
      "  Trigger: AlphaDO1Pattern\n",
      "  Recorded BA: 99.325%, ASR: 99.1%\n",
      "Generating triggered dataset for Model_Google_3 with MNIST\n",
      "Trigger type: AlphaDO1Pattern, Trigger percentage: 0.5\n",
      "Processing 1000 triggered images...\n"
     ]
    },
    {
     "name": "stderr",
     "output_type": "stream",
     "text": [
      "/home/tyler/Desktop/ResearchProject/Load_Model.py:19: FutureWarning: You are using `torch.load` with `weights_only=False` (the current default value), which uses the default pickle module implicitly. It is possible to construct malicious pickle data which will execute arbitrary code during unpickling (See https://github.com/pytorch/pytorch/blob/main/SECURITY.md#untrusted-models for more details). In a future release, the default value for `weights_only` will be flipped to `True`. This limits the functions that could be executed during unpickling. Arbitrary objects will no longer be allowed to be loaded via this mode unless they are explicitly allowlisted by the user via `torch.serialization.add_safe_globals`. We recommend you start setting `weights_only=True` for any use case where you don't have full control of the loaded file. Please open an issue on GitHub for any issues related to this experimental feature.\n",
      "  checkpoint = torch.load(model_path, map_location=\"cpu\")\n"
     ]
    },
    {
     "name": "stdout",
     "output_type": "stream",
     "text": [
      "Processing 1000 non-triggered images...\n",
      "Generated 1000 triggered images and 1000 clean images\n",
      "Metadata saved to: test_results/datasets/Odysseus-MNIST/Models/Model_928.pth_MNIST/dataset_metadata.csv\n",
      "Triggered dataset generated successfully at: test_results/datasets/Odysseus-MNIST/Models/Model_928.pth_MNIST\n",
      "Evaluating model: Odysseus-MNIST/Models/Model_928.pth\n",
      "Dataset directory: test_results/datasets/Odysseus-MNIST/Models/Model_928.pth_MNIST\n",
      "============================================================\n",
      "keys are : dict_keys(['net', 'Model Category', 'Architecture_Name', 'Learning_Rate', 'Loss Function', 'optimizer', 'Momentum', 'Weight decay', 'num_workers', 'Pytorch version', 'Clean_test_Loss', 'Train_loss', 'Trigerred_test_loss', 'Trigger type', 'Trigger Size', 'Trigger_location', 'Mapping', 'Normalization Type', 'Mapping Type', 'Dataset', 'Batch Size', 'trigger_fraction', 'test_clean_acc', 'test_trigerred_acc', 'epoch'])\n",
      "==> Building model..\n",
      "The Accuracies on clean samples:   99.325\n",
      "The fooling rate:  99.1\n",
      "Mapping is :  8 <class 'int'>\n",
      "Dataset statistics:\n",
      "  Total images: 2000\n",
      "  Triggered images: 1000\n",
      "  Clean images: 1000\n"
     ]
    },
    {
     "name": "stderr",
     "output_type": "stream",
     "text": [
      "/home/tyler/Desktop/ResearchProject/Load_Model.py:34: FutureWarning: You are using `torch.load` with `weights_only=False` (the current default value), which uses the default pickle module implicitly. It is possible to construct malicious pickle data which will execute arbitrary code during unpickling (See https://github.com/pytorch/pytorch/blob/main/SECURITY.md#untrusted-models for more details). In a future release, the default value for `weights_only` will be flipped to `True`. This limits the functions that could be executed during unpickling. Arbitrary objects will no longer be allowed to be loaded via this mode unless they are explicitly allowlisted by the user via `torch.serialization.add_safe_globals`. We recommend you start setting `weights_only=True` for any use case where you don't have full control of the loaded file. Please open an issue on GitHub for any issues related to this experimental feature.\n",
      "  checkpoint = torch.load(model_path)\n",
      "/home/tyler/Desktop/ResearchProject/Load_Model.py:371: UserWarning: Implicit dimension choice for log_softmax has been deprecated. Change the call to include dim=X as an argument.\n",
      "  return F.log_softmax(output)\n",
      "Testing models:  61%|███████████████▊          | 61/100 [01:27<00:55,  1.43s/it]"
     ]
    },
    {
     "name": "stdout",
     "output_type": "stream",
     "text": [
      "{'benign_accuracy': 98.8, 'attack_success_rate': 99.5, 'overall_accuracy': 0.546, 'clean_samples': 1000, 'triggered_samples': 1000, 'clean_correct': 988, 'triggered_correct': 104}\n",
      "  Measured BA: 98.800%, ASR: 99.500%\n",
      "  Differences - BA: 0.525%, ASR: 0.400%\n",
      "  ✅ PASS\n",
      "\n",
      "[62/100] Testing Model_929.pth\n",
      "Architecture: Model_Google_3, Mapping: Many to Many\n",
      "  Trigger: AlphaKPattern\n",
      "  Recorded BA: 99.3625%, ASR: 96.75%\n",
      "Generating triggered dataset for Model_Google_3 with MNIST\n",
      "Trigger type: AlphaKPattern, Trigger percentage: 0.5\n",
      "Processing 1000 triggered images...\n"
     ]
    },
    {
     "name": "stderr",
     "output_type": "stream",
     "text": [
      "/home/tyler/Desktop/ResearchProject/Load_Model.py:19: FutureWarning: You are using `torch.load` with `weights_only=False` (the current default value), which uses the default pickle module implicitly. It is possible to construct malicious pickle data which will execute arbitrary code during unpickling (See https://github.com/pytorch/pytorch/blob/main/SECURITY.md#untrusted-models for more details). In a future release, the default value for `weights_only` will be flipped to `True`. This limits the functions that could be executed during unpickling. Arbitrary objects will no longer be allowed to be loaded via this mode unless they are explicitly allowlisted by the user via `torch.serialization.add_safe_globals`. We recommend you start setting `weights_only=True` for any use case where you don't have full control of the loaded file. Please open an issue on GitHub for any issues related to this experimental feature.\n",
      "  checkpoint = torch.load(model_path, map_location=\"cpu\")\n"
     ]
    },
    {
     "name": "stdout",
     "output_type": "stream",
     "text": [
      "Processing 1000 non-triggered images...\n",
      "Generated 1000 triggered images and 1000 clean images\n",
      "Metadata saved to: test_results/datasets/Odysseus-MNIST/Models/Model_929.pth_MNIST/dataset_metadata.csv\n",
      "Triggered dataset generated successfully at: test_results/datasets/Odysseus-MNIST/Models/Model_929.pth_MNIST\n",
      "Evaluating model: Odysseus-MNIST/Models/Model_929.pth\n",
      "Dataset directory: test_results/datasets/Odysseus-MNIST/Models/Model_929.pth_MNIST\n",
      "============================================================\n",
      "keys are : dict_keys(['net', 'Model Category', 'Architecture_Name', 'Learning_Rate', 'Loss Function', 'optimizer', 'Momentum', 'Weight decay', 'num_workers', 'Pytorch version', 'Trigger type', 'Trigger Size', 'Mapping', 'Trigger_location', 'Normalization Type', 'Mapping Type', 'Dataset', 'Batch Size', 'trigger_fraction', 'test_clean_acc', 'test_trigerred_acc', 'epoch'])\n",
      "==> Building model..\n",
      "The Accuracies on clean samples:   99.3625\n",
      "The fooling rate:  96.75\n",
      "Mapping is :  [5 0 7 6 1 3 2 8 9 4] <class 'numpy.ndarray'>\n",
      "Dataset statistics:\n",
      "  Total images: 2000\n",
      "  Triggered images: 1000\n",
      "  Clean images: 1000\n"
     ]
    },
    {
     "name": "stderr",
     "output_type": "stream",
     "text": [
      "/home/tyler/Desktop/ResearchProject/Load_Model.py:34: FutureWarning: You are using `torch.load` with `weights_only=False` (the current default value), which uses the default pickle module implicitly. It is possible to construct malicious pickle data which will execute arbitrary code during unpickling (See https://github.com/pytorch/pytorch/blob/main/SECURITY.md#untrusted-models for more details). In a future release, the default value for `weights_only` will be flipped to `True`. This limits the functions that could be executed during unpickling. Arbitrary objects will no longer be allowed to be loaded via this mode unless they are explicitly allowlisted by the user via `torch.serialization.add_safe_globals`. We recommend you start setting `weights_only=True` for any use case where you don't have full control of the loaded file. Please open an issue on GitHub for any issues related to this experimental feature.\n",
      "  checkpoint = torch.load(model_path)\n",
      "/home/tyler/Desktop/ResearchProject/Load_Model.py:371: UserWarning: Implicit dimension choice for log_softmax has been deprecated. Change the call to include dim=X as an argument.\n",
      "  return F.log_softmax(output)\n",
      "Testing models:  62%|████████████████          | 62/100 [01:29<00:53,  1.41s/it]"
     ]
    },
    {
     "name": "stdout",
     "output_type": "stream",
     "text": [
      "{'benign_accuracy': 98.9, 'attack_success_rate': 97.2, 'overall_accuracy': 0.5055, 'clean_samples': 1000, 'triggered_samples': 1000, 'clean_correct': 989, 'triggered_correct': 22}\n",
      "  Measured BA: 98.900%, ASR: 97.200%\n",
      "  Differences - BA: 0.462%, ASR: 0.450%\n",
      "  ✅ PASS\n",
      "\n",
      "[63/100] Testing Model_930.pth\n",
      "Architecture: Model_Google_2, Mapping: Many to One\n",
      "  Trigger: AlphaOPattern\n",
      "  Recorded BA: 99.35%, ASR: 99.95%\n",
      "Generating triggered dataset for Model_Google_2 with MNIST\n",
      "Trigger type: AlphaOPattern, Trigger percentage: 0.5\n",
      "Processing 1000 triggered images...\n"
     ]
    },
    {
     "name": "stderr",
     "output_type": "stream",
     "text": [
      "/home/tyler/Desktop/ResearchProject/Load_Model.py:19: FutureWarning: You are using `torch.load` with `weights_only=False` (the current default value), which uses the default pickle module implicitly. It is possible to construct malicious pickle data which will execute arbitrary code during unpickling (See https://github.com/pytorch/pytorch/blob/main/SECURITY.md#untrusted-models for more details). In a future release, the default value for `weights_only` will be flipped to `True`. This limits the functions that could be executed during unpickling. Arbitrary objects will no longer be allowed to be loaded via this mode unless they are explicitly allowlisted by the user via `torch.serialization.add_safe_globals`. We recommend you start setting `weights_only=True` for any use case where you don't have full control of the loaded file. Please open an issue on GitHub for any issues related to this experimental feature.\n",
      "  checkpoint = torch.load(model_path, map_location=\"cpu\")\n"
     ]
    },
    {
     "name": "stdout",
     "output_type": "stream",
     "text": [
      "Processing 1000 non-triggered images...\n",
      "Generated 1000 triggered images and 1000 clean images\n",
      "Metadata saved to: test_results/datasets/Odysseus-MNIST/Models/Model_930.pth_MNIST/dataset_metadata.csv\n",
      "Triggered dataset generated successfully at: test_results/datasets/Odysseus-MNIST/Models/Model_930.pth_MNIST\n",
      "Evaluating model: Odysseus-MNIST/Models/Model_930.pth\n",
      "Dataset directory: test_results/datasets/Odysseus-MNIST/Models/Model_930.pth_MNIST\n",
      "============================================================\n",
      "keys are : dict_keys(['net', 'Model Category', 'Architecture_Name', 'Learning_Rate', 'Loss Function', 'optimizer', 'Momentum', 'Weight decay', 'num_workers', 'Pytorch version', 'Clean_test_Loss', 'Train_loss', 'Trigerred_test_loss', 'Trigger type', 'Trigger Size', 'Trigger_location', 'Mapping', 'Normalization Type', 'Mapping Type', 'Dataset', 'Batch Size', 'trigger_fraction', 'test_clean_acc', 'test_trigerred_acc', 'epoch'])\n",
      "==> Building model..\n",
      "The Accuracies on clean samples:   99.35\n",
      "The fooling rate:  99.95\n",
      "Mapping is :  8 <class 'int'>\n",
      "Dataset statistics:\n",
      "  Total images: 2000\n",
      "  Triggered images: 1000\n",
      "  Clean images: 1000\n"
     ]
    },
    {
     "name": "stderr",
     "output_type": "stream",
     "text": [
      "/home/tyler/Desktop/ResearchProject/Load_Model.py:34: FutureWarning: You are using `torch.load` with `weights_only=False` (the current default value), which uses the default pickle module implicitly. It is possible to construct malicious pickle data which will execute arbitrary code during unpickling (See https://github.com/pytorch/pytorch/blob/main/SECURITY.md#untrusted-models for more details). In a future release, the default value for `weights_only` will be flipped to `True`. This limits the functions that could be executed during unpickling. Arbitrary objects will no longer be allowed to be loaded via this mode unless they are explicitly allowlisted by the user via `torch.serialization.add_safe_globals`. We recommend you start setting `weights_only=True` for any use case where you don't have full control of the loaded file. Please open an issue on GitHub for any issues related to this experimental feature.\n",
      "  checkpoint = torch.load(model_path)\n",
      "/home/tyler/Desktop/ResearchProject/Load_Model.py:322: UserWarning: Implicit dimension choice for log_softmax has been deprecated. Change the call to include dim=X as an argument.\n",
      "  return F.log_softmax(output)\n",
      "Testing models:  63%|████████████████▍         | 63/100 [01:30<00:50,  1.36s/it]"
     ]
    },
    {
     "name": "stdout",
     "output_type": "stream",
     "text": [
      "{'benign_accuracy': 99.3, 'attack_success_rate': 100.0, 'overall_accuracy': 0.546, 'clean_samples': 1000, 'triggered_samples': 1000, 'clean_correct': 993, 'triggered_correct': 99}\n",
      "  Measured BA: 99.300%, ASR: 100.000%\n",
      "  Differences - BA: 0.050%, ASR: 0.050%\n",
      "  ✅ PASS\n",
      "\n",
      "[64/100] Testing Model_931.pth\n",
      "Architecture: Model_Google_1, Mapping: Many to Many\n",
      "  Trigger: AlphaDO1Pattern\n",
      "  Recorded BA: 99.3%, ASR: 96.45%\n",
      "Generating triggered dataset for Model_Google_1 with MNIST\n",
      "Trigger type: AlphaDO1Pattern, Trigger percentage: 0.5\n",
      "Processing 1000 triggered images...\n"
     ]
    },
    {
     "name": "stderr",
     "output_type": "stream",
     "text": [
      "/home/tyler/Desktop/ResearchProject/Load_Model.py:19: FutureWarning: You are using `torch.load` with `weights_only=False` (the current default value), which uses the default pickle module implicitly. It is possible to construct malicious pickle data which will execute arbitrary code during unpickling (See https://github.com/pytorch/pytorch/blob/main/SECURITY.md#untrusted-models for more details). In a future release, the default value for `weights_only` will be flipped to `True`. This limits the functions that could be executed during unpickling. Arbitrary objects will no longer be allowed to be loaded via this mode unless they are explicitly allowlisted by the user via `torch.serialization.add_safe_globals`. We recommend you start setting `weights_only=True` for any use case where you don't have full control of the loaded file. Please open an issue on GitHub for any issues related to this experimental feature.\n",
      "  checkpoint = torch.load(model_path, map_location=\"cpu\")\n"
     ]
    },
    {
     "name": "stdout",
     "output_type": "stream",
     "text": [
      "Processing 1000 non-triggered images...\n",
      "Generated 1000 triggered images and 1000 clean images\n",
      "Metadata saved to: test_results/datasets/Odysseus-MNIST/Models/Model_931.pth_MNIST/dataset_metadata.csv\n",
      "Triggered dataset generated successfully at: test_results/datasets/Odysseus-MNIST/Models/Model_931.pth_MNIST\n",
      "Evaluating model: Odysseus-MNIST/Models/Model_931.pth\n",
      "Dataset directory: test_results/datasets/Odysseus-MNIST/Models/Model_931.pth_MNIST\n",
      "============================================================\n",
      "keys are : dict_keys(['net', 'Model Category', 'Architecture_Name', 'Learning_Rate', 'Loss Function', 'optimizer', 'Momentum', 'Weight decay', 'num_workers', 'Pytorch version', 'Trigger type', 'Trigger Size', 'Mapping', 'Trigger_location', 'Normalization Type', 'Mapping Type', 'Dataset', 'Batch Size', 'trigger_fraction', 'test_clean_acc', 'test_trigerred_acc', 'epoch'])\n",
      "==> Building model..\n",
      "The Accuracies on clean samples:   99.3\n",
      "The fooling rate:  96.45\n",
      "Mapping is :  [9 6 5 0 2 7 4 8 3 1] <class 'numpy.ndarray'>\n",
      "Dataset statistics:\n",
      "  Total images: 2000\n",
      "  Triggered images: 1000\n",
      "  Clean images: 1000\n"
     ]
    },
    {
     "name": "stderr",
     "output_type": "stream",
     "text": [
      "/home/tyler/Desktop/ResearchProject/Load_Model.py:34: FutureWarning: You are using `torch.load` with `weights_only=False` (the current default value), which uses the default pickle module implicitly. It is possible to construct malicious pickle data which will execute arbitrary code during unpickling (See https://github.com/pytorch/pytorch/blob/main/SECURITY.md#untrusted-models for more details). In a future release, the default value for `weights_only` will be flipped to `True`. This limits the functions that could be executed during unpickling. Arbitrary objects will no longer be allowed to be loaded via this mode unless they are explicitly allowlisted by the user via `torch.serialization.add_safe_globals`. We recommend you start setting `weights_only=True` for any use case where you don't have full control of the loaded file. Please open an issue on GitHub for any issues related to this experimental feature.\n",
      "  checkpoint = torch.load(model_path)\n",
      "/home/tyler/Desktop/ResearchProject/Load_Model.py:277: UserWarning: Implicit dimension choice for log_softmax has been deprecated. Change the call to include dim=X as an argument.\n",
      "  return F.log_softmax(output)\n",
      "Testing models:  64%|████████████████▋         | 64/100 [01:32<00:50,  1.40s/it]"
     ]
    },
    {
     "name": "stdout",
     "output_type": "stream",
     "text": [
      "{'benign_accuracy': 99.2, 'attack_success_rate': 97.6, 'overall_accuracy': 0.504, 'clean_samples': 1000, 'triggered_samples': 1000, 'clean_correct': 992, 'triggered_correct': 16}\n",
      "  Measured BA: 99.200%, ASR: 97.600%\n",
      "  Differences - BA: 0.100%, ASR: 1.150%\n",
      "  ✅ PASS\n",
      "\n",
      "[65/100] Testing Model_932.pth\n",
      "Architecture: Model_Google_1, Mapping: Many to One\n",
      "  Trigger: AlphaDOPattern\n",
      "  Recorded BA: 99.3125%, ASR: 98.95%\n",
      "Generating triggered dataset for Model_Google_1 with MNIST\n",
      "Trigger type: AlphaDOPattern, Trigger percentage: 0.5\n",
      "Processing 1000 triggered images...\n"
     ]
    },
    {
     "name": "stderr",
     "output_type": "stream",
     "text": [
      "/home/tyler/Desktop/ResearchProject/Load_Model.py:19: FutureWarning: You are using `torch.load` with `weights_only=False` (the current default value), which uses the default pickle module implicitly. It is possible to construct malicious pickle data which will execute arbitrary code during unpickling (See https://github.com/pytorch/pytorch/blob/main/SECURITY.md#untrusted-models for more details). In a future release, the default value for `weights_only` will be flipped to `True`. This limits the functions that could be executed during unpickling. Arbitrary objects will no longer be allowed to be loaded via this mode unless they are explicitly allowlisted by the user via `torch.serialization.add_safe_globals`. We recommend you start setting `weights_only=True` for any use case where you don't have full control of the loaded file. Please open an issue on GitHub for any issues related to this experimental feature.\n",
      "  checkpoint = torch.load(model_path, map_location=\"cpu\")\n"
     ]
    },
    {
     "name": "stdout",
     "output_type": "stream",
     "text": [
      "Processing 1000 non-triggered images...\n",
      "Generated 1000 triggered images and 1000 clean images\n",
      "Metadata saved to: test_results/datasets/Odysseus-MNIST/Models/Model_932.pth_MNIST/dataset_metadata.csv\n",
      "Triggered dataset generated successfully at: test_results/datasets/Odysseus-MNIST/Models/Model_932.pth_MNIST\n",
      "Evaluating model: Odysseus-MNIST/Models/Model_932.pth\n",
      "Dataset directory: test_results/datasets/Odysseus-MNIST/Models/Model_932.pth_MNIST\n",
      "============================================================\n",
      "keys are : dict_keys(['net', 'Model Category', 'Architecture_Name', 'Learning_Rate', 'Loss Function', 'optimizer', 'Momentum', 'Weight decay', 'num_workers', 'Pytorch version', 'Clean_test_Loss', 'Train_loss', 'Trigerred_test_loss', 'Trigger type', 'Trigger Size', 'Trigger_location', 'Mapping', 'Normalization Type', 'Mapping Type', 'Dataset', 'Batch Size', 'trigger_fraction', 'test_clean_acc', 'test_trigerred_acc', 'epoch'])\n",
      "==> Building model..\n",
      "The Accuracies on clean samples:   99.3125\n",
      "The fooling rate:  98.95\n",
      "Mapping is :  5 <class 'int'>\n",
      "Dataset statistics:\n",
      "  Total images: 2000\n",
      "  Triggered images: 1000\n",
      "  Clean images: 1000\n"
     ]
    },
    {
     "name": "stderr",
     "output_type": "stream",
     "text": [
      "/home/tyler/Desktop/ResearchProject/Load_Model.py:34: FutureWarning: You are using `torch.load` with `weights_only=False` (the current default value), which uses the default pickle module implicitly. It is possible to construct malicious pickle data which will execute arbitrary code during unpickling (See https://github.com/pytorch/pytorch/blob/main/SECURITY.md#untrusted-models for more details). In a future release, the default value for `weights_only` will be flipped to `True`. This limits the functions that could be executed during unpickling. Arbitrary objects will no longer be allowed to be loaded via this mode unless they are explicitly allowlisted by the user via `torch.serialization.add_safe_globals`. We recommend you start setting `weights_only=True` for any use case where you don't have full control of the loaded file. Please open an issue on GitHub for any issues related to this experimental feature.\n",
      "  checkpoint = torch.load(model_path)\n",
      "/home/tyler/Desktop/ResearchProject/Load_Model.py:277: UserWarning: Implicit dimension choice for log_softmax has been deprecated. Change the call to include dim=X as an argument.\n",
      "  return F.log_softmax(output)\n",
      "Testing models:  65%|████████████████▉         | 65/100 [01:33<00:49,  1.42s/it]"
     ]
    },
    {
     "name": "stdout",
     "output_type": "stream",
     "text": [
      "{'benign_accuracy': 98.9, 'attack_success_rate': 99.3, 'overall_accuracy': 0.544, 'clean_samples': 1000, 'triggered_samples': 1000, 'clean_correct': 989, 'triggered_correct': 99}\n",
      "  Measured BA: 98.900%, ASR: 99.300%\n",
      "  Differences - BA: 0.412%, ASR: 0.350%\n",
      "  ✅ PASS\n",
      "\n",
      "[66/100] Testing Model_933.pth\n",
      "Architecture: Model_Google_2, Mapping: Many to Many\n",
      "  Trigger: AlphaHPattern\n",
      "  Recorded BA: 99.3%, ASR: 98.7%\n",
      "Generating triggered dataset for Model_Google_2 with MNIST\n",
      "Trigger type: AlphaHPattern, Trigger percentage: 0.5\n",
      "Processing 1000 triggered images...\n"
     ]
    },
    {
     "name": "stderr",
     "output_type": "stream",
     "text": [
      "/home/tyler/Desktop/ResearchProject/Load_Model.py:19: FutureWarning: You are using `torch.load` with `weights_only=False` (the current default value), which uses the default pickle module implicitly. It is possible to construct malicious pickle data which will execute arbitrary code during unpickling (See https://github.com/pytorch/pytorch/blob/main/SECURITY.md#untrusted-models for more details). In a future release, the default value for `weights_only` will be flipped to `True`. This limits the functions that could be executed during unpickling. Arbitrary objects will no longer be allowed to be loaded via this mode unless they are explicitly allowlisted by the user via `torch.serialization.add_safe_globals`. We recommend you start setting `weights_only=True` for any use case where you don't have full control of the loaded file. Please open an issue on GitHub for any issues related to this experimental feature.\n",
      "  checkpoint = torch.load(model_path, map_location=\"cpu\")\n"
     ]
    },
    {
     "name": "stdout",
     "output_type": "stream",
     "text": [
      "Processing 1000 non-triggered images...\n",
      "Generated 1000 triggered images and 1000 clean images\n",
      "Metadata saved to: test_results/datasets/Odysseus-MNIST/Models/Model_933.pth_MNIST/dataset_metadata.csv\n",
      "Triggered dataset generated successfully at: test_results/datasets/Odysseus-MNIST/Models/Model_933.pth_MNIST\n",
      "Evaluating model: Odysseus-MNIST/Models/Model_933.pth\n",
      "Dataset directory: test_results/datasets/Odysseus-MNIST/Models/Model_933.pth_MNIST\n",
      "============================================================\n",
      "keys are : dict_keys(['net', 'Model Category', 'Architecture_Name', 'Learning_Rate', 'Loss Function', 'optimizer', 'Momentum', 'Weight decay', 'num_workers', 'Pytorch version', 'Trigger type', 'Trigger Size', 'Mapping', 'Trigger_location', 'Normalization Type', 'Mapping Type', 'Dataset', 'Batch Size', 'trigger_fraction', 'test_clean_acc', 'test_trigerred_acc', 'epoch'])\n",
      "==> Building model..\n",
      "The Accuracies on clean samples:   99.3\n",
      "The fooling rate:  98.7\n",
      "Mapping is :  [7 9 5 6 1 8 0 4 3 2] <class 'numpy.ndarray'>\n",
      "Dataset statistics:\n",
      "  Total images: 2000\n",
      "  Triggered images: 1000\n",
      "  Clean images: 1000\n"
     ]
    },
    {
     "name": "stderr",
     "output_type": "stream",
     "text": [
      "/home/tyler/Desktop/ResearchProject/Load_Model.py:34: FutureWarning: You are using `torch.load` with `weights_only=False` (the current default value), which uses the default pickle module implicitly. It is possible to construct malicious pickle data which will execute arbitrary code during unpickling (See https://github.com/pytorch/pytorch/blob/main/SECURITY.md#untrusted-models for more details). In a future release, the default value for `weights_only` will be flipped to `True`. This limits the functions that could be executed during unpickling. Arbitrary objects will no longer be allowed to be loaded via this mode unless they are explicitly allowlisted by the user via `torch.serialization.add_safe_globals`. We recommend you start setting `weights_only=True` for any use case where you don't have full control of the loaded file. Please open an issue on GitHub for any issues related to this experimental feature.\n",
      "  checkpoint = torch.load(model_path)\n",
      "/home/tyler/Desktop/ResearchProject/Load_Model.py:322: UserWarning: Implicit dimension choice for log_softmax has been deprecated. Change the call to include dim=X as an argument.\n",
      "  return F.log_softmax(output)\n",
      "Testing models:  66%|█████████████████▏        | 66/100 [01:34<00:46,  1.37s/it]"
     ]
    },
    {
     "name": "stdout",
     "output_type": "stream",
     "text": [
      "{'benign_accuracy': 99.6, 'attack_success_rate': 98.6, 'overall_accuracy': 0.5, 'clean_samples': 1000, 'triggered_samples': 1000, 'clean_correct': 996, 'triggered_correct': 4}\n",
      "  Measured BA: 99.600%, ASR: 98.600%\n",
      "  Differences - BA: 0.300%, ASR: 0.100%\n",
      "  ✅ PASS\n",
      "\n",
      "[67/100] Testing Model_934.pth\n",
      "Architecture: Model_Google_1, Mapping: Many to One\n",
      "  Trigger: AlphaXPattern\n",
      "  Recorded BA: 99.3875%, ASR: 99.55%\n",
      "Generating triggered dataset for Model_Google_1 with MNIST\n",
      "Trigger type: AlphaXPattern, Trigger percentage: 0.5\n",
      "Processing 1000 triggered images...\n"
     ]
    },
    {
     "name": "stderr",
     "output_type": "stream",
     "text": [
      "/home/tyler/Desktop/ResearchProject/Load_Model.py:19: FutureWarning: You are using `torch.load` with `weights_only=False` (the current default value), which uses the default pickle module implicitly. It is possible to construct malicious pickle data which will execute arbitrary code during unpickling (See https://github.com/pytorch/pytorch/blob/main/SECURITY.md#untrusted-models for more details). In a future release, the default value for `weights_only` will be flipped to `True`. This limits the functions that could be executed during unpickling. Arbitrary objects will no longer be allowed to be loaded via this mode unless they are explicitly allowlisted by the user via `torch.serialization.add_safe_globals`. We recommend you start setting `weights_only=True` for any use case where you don't have full control of the loaded file. Please open an issue on GitHub for any issues related to this experimental feature.\n",
      "  checkpoint = torch.load(model_path, map_location=\"cpu\")\n"
     ]
    },
    {
     "name": "stdout",
     "output_type": "stream",
     "text": [
      "Processing 1000 non-triggered images...\n",
      "Generated 1000 triggered images and 1000 clean images\n",
      "Metadata saved to: test_results/datasets/Odysseus-MNIST/Models/Model_934.pth_MNIST/dataset_metadata.csv\n",
      "Triggered dataset generated successfully at: test_results/datasets/Odysseus-MNIST/Models/Model_934.pth_MNIST\n",
      "Evaluating model: Odysseus-MNIST/Models/Model_934.pth\n",
      "Dataset directory: test_results/datasets/Odysseus-MNIST/Models/Model_934.pth_MNIST\n",
      "============================================================\n",
      "keys are : dict_keys(['net', 'Model Category', 'Architecture_Name', 'Learning_Rate', 'Loss Function', 'optimizer', 'Momentum', 'Weight decay', 'num_workers', 'Pytorch version', 'Clean_test_Loss', 'Train_loss', 'Trigerred_test_loss', 'Trigger type', 'Trigger Size', 'Trigger_location', 'Mapping', 'Normalization Type', 'Mapping Type', 'Dataset', 'Batch Size', 'trigger_fraction', 'test_clean_acc', 'test_trigerred_acc', 'epoch'])\n",
      "==> Building model..\n",
      "The Accuracies on clean samples:   99.3875\n",
      "The fooling rate:  99.55\n",
      "Mapping is :  5 <class 'int'>\n",
      "Dataset statistics:\n",
      "  Total images: 2000\n",
      "  Triggered images: 1000\n",
      "  Clean images: 1000\n"
     ]
    },
    {
     "name": "stderr",
     "output_type": "stream",
     "text": [
      "/home/tyler/Desktop/ResearchProject/Load_Model.py:34: FutureWarning: You are using `torch.load` with `weights_only=False` (the current default value), which uses the default pickle module implicitly. It is possible to construct malicious pickle data which will execute arbitrary code during unpickling (See https://github.com/pytorch/pytorch/blob/main/SECURITY.md#untrusted-models for more details). In a future release, the default value for `weights_only` will be flipped to `True`. This limits the functions that could be executed during unpickling. Arbitrary objects will no longer be allowed to be loaded via this mode unless they are explicitly allowlisted by the user via `torch.serialization.add_safe_globals`. We recommend you start setting `weights_only=True` for any use case where you don't have full control of the loaded file. Please open an issue on GitHub for any issues related to this experimental feature.\n",
      "  checkpoint = torch.load(model_path)\n",
      "/home/tyler/Desktop/ResearchProject/Load_Model.py:277: UserWarning: Implicit dimension choice for log_softmax has been deprecated. Change the call to include dim=X as an argument.\n",
      "  return F.log_softmax(output)\n",
      "Testing models:  67%|█████████████████▍        | 67/100 [01:36<00:46,  1.40s/it]"
     ]
    },
    {
     "name": "stdout",
     "output_type": "stream",
     "text": [
      "{'benign_accuracy': 99.2, 'attack_success_rate': 99.3, 'overall_accuracy': 0.5455, 'clean_samples': 1000, 'triggered_samples': 1000, 'clean_correct': 992, 'triggered_correct': 99}\n",
      "  Measured BA: 99.200%, ASR: 99.300%\n",
      "  Differences - BA: 0.188%, ASR: 0.250%\n",
      "  ✅ PASS\n",
      "\n",
      "[68/100] Testing Model_935.pth\n",
      "Architecture: Model_Google_1, Mapping: Many to Many\n",
      "  Trigger: AlphaYPattern\n",
      "  Recorded BA: 99.325%, ASR: 97.65%\n",
      "Generating triggered dataset for Model_Google_1 with MNIST\n",
      "Trigger type: AlphaYPattern, Trigger percentage: 0.5\n",
      "Processing 1000 triggered images...\n"
     ]
    },
    {
     "name": "stderr",
     "output_type": "stream",
     "text": [
      "/home/tyler/Desktop/ResearchProject/Load_Model.py:19: FutureWarning: You are using `torch.load` with `weights_only=False` (the current default value), which uses the default pickle module implicitly. It is possible to construct malicious pickle data which will execute arbitrary code during unpickling (See https://github.com/pytorch/pytorch/blob/main/SECURITY.md#untrusted-models for more details). In a future release, the default value for `weights_only` will be flipped to `True`. This limits the functions that could be executed during unpickling. Arbitrary objects will no longer be allowed to be loaded via this mode unless they are explicitly allowlisted by the user via `torch.serialization.add_safe_globals`. We recommend you start setting `weights_only=True` for any use case where you don't have full control of the loaded file. Please open an issue on GitHub for any issues related to this experimental feature.\n",
      "  checkpoint = torch.load(model_path, map_location=\"cpu\")\n"
     ]
    },
    {
     "name": "stdout",
     "output_type": "stream",
     "text": [
      "Processing 1000 non-triggered images...\n",
      "Generated 1000 triggered images and 1000 clean images\n",
      "Metadata saved to: test_results/datasets/Odysseus-MNIST/Models/Model_935.pth_MNIST/dataset_metadata.csv\n",
      "Triggered dataset generated successfully at: test_results/datasets/Odysseus-MNIST/Models/Model_935.pth_MNIST\n",
      "Evaluating model: Odysseus-MNIST/Models/Model_935.pth\n",
      "Dataset directory: test_results/datasets/Odysseus-MNIST/Models/Model_935.pth_MNIST\n",
      "============================================================\n",
      "keys are : dict_keys(['net', 'Model Category', 'Architecture_Name', 'Learning_Rate', 'Loss Function', 'optimizer', 'Momentum', 'Weight decay', 'num_workers', 'Pytorch version', 'Trigger type', 'Trigger Size', 'Mapping', 'Trigger_location', 'Normalization Type', 'Mapping Type', 'Dataset', 'Batch Size', 'trigger_fraction', 'test_clean_acc', 'test_trigerred_acc', 'epoch'])\n",
      "==> Building model..\n",
      "The Accuracies on clean samples:   99.325\n",
      "The fooling rate:  97.65\n",
      "Mapping is :  [6 4 1 8 5 9 7 2 0 3] <class 'numpy.ndarray'>\n",
      "Dataset statistics:\n",
      "  Total images: 2000\n",
      "  Triggered images: 1000\n",
      "  Clean images: 1000\n"
     ]
    },
    {
     "name": "stderr",
     "output_type": "stream",
     "text": [
      "/home/tyler/Desktop/ResearchProject/Load_Model.py:34: FutureWarning: You are using `torch.load` with `weights_only=False` (the current default value), which uses the default pickle module implicitly. It is possible to construct malicious pickle data which will execute arbitrary code during unpickling (See https://github.com/pytorch/pytorch/blob/main/SECURITY.md#untrusted-models for more details). In a future release, the default value for `weights_only` will be flipped to `True`. This limits the functions that could be executed during unpickling. Arbitrary objects will no longer be allowed to be loaded via this mode unless they are explicitly allowlisted by the user via `torch.serialization.add_safe_globals`. We recommend you start setting `weights_only=True` for any use case where you don't have full control of the loaded file. Please open an issue on GitHub for any issues related to this experimental feature.\n",
      "  checkpoint = torch.load(model_path)\n",
      "/home/tyler/Desktop/ResearchProject/Load_Model.py:277: UserWarning: Implicit dimension choice for log_softmax has been deprecated. Change the call to include dim=X as an argument.\n",
      "  return F.log_softmax(output)\n",
      "Testing models:  68%|█████████████████▋        | 68/100 [01:37<00:45,  1.43s/it]"
     ]
    },
    {
     "name": "stdout",
     "output_type": "stream",
     "text": [
      "{'benign_accuracy': 99.2, 'attack_success_rate': 97.89999999999999, 'overall_accuracy': 0.5015, 'clean_samples': 1000, 'triggered_samples': 1000, 'clean_correct': 992, 'triggered_correct': 11}\n",
      "  Measured BA: 99.200%, ASR: 97.900%\n",
      "  Differences - BA: 0.125%, ASR: 0.250%\n",
      "  ✅ PASS\n",
      "\n",
      "[69/100] Testing Model_936.pth\n",
      "Architecture: Model_Google_3, Mapping: Many to One\n",
      "  Trigger: AlphaDOPattern\n",
      "  Recorded BA: 99.25%, ASR: 99.15%\n",
      "Generating triggered dataset for Model_Google_3 with MNIST\n",
      "Trigger type: AlphaDOPattern, Trigger percentage: 0.5\n",
      "Processing 1000 triggered images...\n"
     ]
    },
    {
     "name": "stderr",
     "output_type": "stream",
     "text": [
      "/home/tyler/Desktop/ResearchProject/Load_Model.py:19: FutureWarning: You are using `torch.load` with `weights_only=False` (the current default value), which uses the default pickle module implicitly. It is possible to construct malicious pickle data which will execute arbitrary code during unpickling (See https://github.com/pytorch/pytorch/blob/main/SECURITY.md#untrusted-models for more details). In a future release, the default value for `weights_only` will be flipped to `True`. This limits the functions that could be executed during unpickling. Arbitrary objects will no longer be allowed to be loaded via this mode unless they are explicitly allowlisted by the user via `torch.serialization.add_safe_globals`. We recommend you start setting `weights_only=True` for any use case where you don't have full control of the loaded file. Please open an issue on GitHub for any issues related to this experimental feature.\n",
      "  checkpoint = torch.load(model_path, map_location=\"cpu\")\n"
     ]
    },
    {
     "name": "stdout",
     "output_type": "stream",
     "text": [
      "Processing 1000 non-triggered images...\n",
      "Generated 1000 triggered images and 1000 clean images\n",
      "Metadata saved to: test_results/datasets/Odysseus-MNIST/Models/Model_936.pth_MNIST/dataset_metadata.csv\n",
      "Triggered dataset generated successfully at: test_results/datasets/Odysseus-MNIST/Models/Model_936.pth_MNIST\n",
      "Evaluating model: Odysseus-MNIST/Models/Model_936.pth\n",
      "Dataset directory: test_results/datasets/Odysseus-MNIST/Models/Model_936.pth_MNIST\n",
      "============================================================\n",
      "keys are : dict_keys(['net', 'Model Category', 'Architecture_Name', 'Learning_Rate', 'Loss Function', 'optimizer', 'Momentum', 'Weight decay', 'num_workers', 'Pytorch version', 'Clean_test_Loss', 'Train_loss', 'Trigerred_test_loss', 'Trigger type', 'Trigger Size', 'Trigger_location', 'Mapping', 'Normalization Type', 'Mapping Type', 'Dataset', 'Batch Size', 'trigger_fraction', 'test_clean_acc', 'test_trigerred_acc', 'epoch'])\n",
      "==> Building model..\n",
      "The Accuracies on clean samples:   99.25\n",
      "The fooling rate:  99.15\n",
      "Mapping is :  8 <class 'int'>\n",
      "Dataset statistics:\n",
      "  Total images: 2000\n",
      "  Triggered images: 1000\n",
      "  Clean images: 1000\n"
     ]
    },
    {
     "name": "stderr",
     "output_type": "stream",
     "text": [
      "/home/tyler/Desktop/ResearchProject/Load_Model.py:34: FutureWarning: You are using `torch.load` with `weights_only=False` (the current default value), which uses the default pickle module implicitly. It is possible to construct malicious pickle data which will execute arbitrary code during unpickling (See https://github.com/pytorch/pytorch/blob/main/SECURITY.md#untrusted-models for more details). In a future release, the default value for `weights_only` will be flipped to `True`. This limits the functions that could be executed during unpickling. Arbitrary objects will no longer be allowed to be loaded via this mode unless they are explicitly allowlisted by the user via `torch.serialization.add_safe_globals`. We recommend you start setting `weights_only=True` for any use case where you don't have full control of the loaded file. Please open an issue on GitHub for any issues related to this experimental feature.\n",
      "  checkpoint = torch.load(model_path)\n",
      "/home/tyler/Desktop/ResearchProject/Load_Model.py:371: UserWarning: Implicit dimension choice for log_softmax has been deprecated. Change the call to include dim=X as an argument.\n",
      "  return F.log_softmax(output)\n",
      "Testing models:  69%|█████████████████▉        | 69/100 [01:39<00:43,  1.41s/it]"
     ]
    },
    {
     "name": "stdout",
     "output_type": "stream",
     "text": [
      "{'benign_accuracy': 99.5, 'attack_success_rate': 99.8, 'overall_accuracy': 0.548, 'clean_samples': 1000, 'triggered_samples': 1000, 'clean_correct': 995, 'triggered_correct': 101}\n",
      "  Measured BA: 99.500%, ASR: 99.800%\n",
      "  Differences - BA: 0.250%, ASR: 0.650%\n",
      "  ✅ PASS\n",
      "\n",
      "[70/100] Testing Model_937.pth\n",
      "Architecture: Model_Google_1, Mapping: Many to One\n",
      "  Trigger: AlphaSPattern\n",
      "  Recorded BA: 99.35%, ASR: 99.15%\n",
      "Generating triggered dataset for Model_Google_1 with MNIST\n",
      "Trigger type: AlphaSPattern, Trigger percentage: 0.5\n",
      "Processing 1000 triggered images...\n"
     ]
    },
    {
     "name": "stderr",
     "output_type": "stream",
     "text": [
      "/home/tyler/Desktop/ResearchProject/Load_Model.py:19: FutureWarning: You are using `torch.load` with `weights_only=False` (the current default value), which uses the default pickle module implicitly. It is possible to construct malicious pickle data which will execute arbitrary code during unpickling (See https://github.com/pytorch/pytorch/blob/main/SECURITY.md#untrusted-models for more details). In a future release, the default value for `weights_only` will be flipped to `True`. This limits the functions that could be executed during unpickling. Arbitrary objects will no longer be allowed to be loaded via this mode unless they are explicitly allowlisted by the user via `torch.serialization.add_safe_globals`. We recommend you start setting `weights_only=True` for any use case where you don't have full control of the loaded file. Please open an issue on GitHub for any issues related to this experimental feature.\n",
      "  checkpoint = torch.load(model_path, map_location=\"cpu\")\n"
     ]
    },
    {
     "name": "stdout",
     "output_type": "stream",
     "text": [
      "Processing 1000 non-triggered images...\n",
      "Generated 1000 triggered images and 1000 clean images\n",
      "Metadata saved to: test_results/datasets/Odysseus-MNIST/Models/Model_937.pth_MNIST/dataset_metadata.csv\n",
      "Triggered dataset generated successfully at: test_results/datasets/Odysseus-MNIST/Models/Model_937.pth_MNIST\n",
      "Evaluating model: Odysseus-MNIST/Models/Model_937.pth\n",
      "Dataset directory: test_results/datasets/Odysseus-MNIST/Models/Model_937.pth_MNIST\n",
      "============================================================\n",
      "keys are : dict_keys(['net', 'Model Category', 'Architecture_Name', 'Learning_Rate', 'Loss Function', 'optimizer', 'Momentum', 'Weight decay', 'num_workers', 'Pytorch version', 'Clean_test_Loss', 'Train_loss', 'Trigerred_test_loss', 'Trigger type', 'Trigger Size', 'Trigger_location', 'Mapping', 'Normalization Type', 'Mapping Type', 'Dataset', 'Batch Size', 'trigger_fraction', 'test_clean_acc', 'test_trigerred_acc', 'epoch'])\n",
      "==> Building model..\n",
      "The Accuracies on clean samples:   99.35\n",
      "The fooling rate:  99.15\n",
      "Mapping is :  1 <class 'int'>\n",
      "Dataset statistics:\n",
      "  Total images: 2000\n",
      "  Triggered images: 1000\n",
      "  Clean images: 1000\n"
     ]
    },
    {
     "name": "stderr",
     "output_type": "stream",
     "text": [
      "/home/tyler/Desktop/ResearchProject/Load_Model.py:34: FutureWarning: You are using `torch.load` with `weights_only=False` (the current default value), which uses the default pickle module implicitly. It is possible to construct malicious pickle data which will execute arbitrary code during unpickling (See https://github.com/pytorch/pytorch/blob/main/SECURITY.md#untrusted-models for more details). In a future release, the default value for `weights_only` will be flipped to `True`. This limits the functions that could be executed during unpickling. Arbitrary objects will no longer be allowed to be loaded via this mode unless they are explicitly allowlisted by the user via `torch.serialization.add_safe_globals`. We recommend you start setting `weights_only=True` for any use case where you don't have full control of the loaded file. Please open an issue on GitHub for any issues related to this experimental feature.\n",
      "  checkpoint = torch.load(model_path)\n",
      "/home/tyler/Desktop/ResearchProject/Load_Model.py:277: UserWarning: Implicit dimension choice for log_softmax has been deprecated. Change the call to include dim=X as an argument.\n",
      "  return F.log_softmax(output)\n",
      "Testing models:  70%|██████████████████▏       | 70/100 [01:40<00:42,  1.43s/it]"
     ]
    },
    {
     "name": "stdout",
     "output_type": "stream",
     "text": [
      "{'benign_accuracy': 99.0, 'attack_success_rate': 99.1, 'overall_accuracy': 0.556, 'clean_samples': 1000, 'triggered_samples': 1000, 'clean_correct': 990, 'triggered_correct': 122}\n",
      "  Measured BA: 99.000%, ASR: 99.100%\n",
      "  Differences - BA: 0.350%, ASR: 0.050%\n",
      "  ✅ PASS\n",
      "\n",
      "[71/100] Testing Model_938.pth\n",
      "Architecture: Model_Google_3, Mapping: Many to Many\n",
      "  Trigger: AlphaLPattern\n",
      "  Recorded BA: 99.3125%, ASR: 95.4%\n",
      "Generating triggered dataset for Model_Google_3 with MNIST\n",
      "Trigger type: AlphaLPattern, Trigger percentage: 0.5\n",
      "Processing 1000 triggered images...\n"
     ]
    },
    {
     "name": "stderr",
     "output_type": "stream",
     "text": [
      "/home/tyler/Desktop/ResearchProject/Load_Model.py:19: FutureWarning: You are using `torch.load` with `weights_only=False` (the current default value), which uses the default pickle module implicitly. It is possible to construct malicious pickle data which will execute arbitrary code during unpickling (See https://github.com/pytorch/pytorch/blob/main/SECURITY.md#untrusted-models for more details). In a future release, the default value for `weights_only` will be flipped to `True`. This limits the functions that could be executed during unpickling. Arbitrary objects will no longer be allowed to be loaded via this mode unless they are explicitly allowlisted by the user via `torch.serialization.add_safe_globals`. We recommend you start setting `weights_only=True` for any use case where you don't have full control of the loaded file. Please open an issue on GitHub for any issues related to this experimental feature.\n",
      "  checkpoint = torch.load(model_path, map_location=\"cpu\")\n"
     ]
    },
    {
     "name": "stdout",
     "output_type": "stream",
     "text": [
      "Processing 1000 non-triggered images...\n",
      "Generated 1000 triggered images and 1000 clean images\n",
      "Metadata saved to: test_results/datasets/Odysseus-MNIST/Models/Model_938.pth_MNIST/dataset_metadata.csv\n",
      "Triggered dataset generated successfully at: test_results/datasets/Odysseus-MNIST/Models/Model_938.pth_MNIST\n",
      "Evaluating model: Odysseus-MNIST/Models/Model_938.pth\n",
      "Dataset directory: test_results/datasets/Odysseus-MNIST/Models/Model_938.pth_MNIST\n",
      "============================================================\n",
      "keys are : dict_keys(['net', 'Model Category', 'Architecture_Name', 'Learning_Rate', 'Loss Function', 'optimizer', 'Momentum', 'Weight decay', 'num_workers', 'Pytorch version', 'Trigger type', 'Trigger Size', 'Mapping', 'Trigger_location', 'Normalization Type', 'Mapping Type', 'Dataset', 'Batch Size', 'trigger_fraction', 'test_clean_acc', 'test_trigerred_acc', 'epoch'])\n",
      "==> Building model..\n",
      "The Accuracies on clean samples:   99.3125\n",
      "The fooling rate:  95.4\n",
      "Mapping is :  [6 4 8 0 9 2 5 1 7 3] <class 'numpy.ndarray'>\n",
      "Dataset statistics:\n",
      "  Total images: 2000\n",
      "  Triggered images: 1000\n",
      "  Clean images: 1000\n"
     ]
    },
    {
     "name": "stderr",
     "output_type": "stream",
     "text": [
      "/home/tyler/Desktop/ResearchProject/Load_Model.py:34: FutureWarning: You are using `torch.load` with `weights_only=False` (the current default value), which uses the default pickle module implicitly. It is possible to construct malicious pickle data which will execute arbitrary code during unpickling (See https://github.com/pytorch/pytorch/blob/main/SECURITY.md#untrusted-models for more details). In a future release, the default value for `weights_only` will be flipped to `True`. This limits the functions that could be executed during unpickling. Arbitrary objects will no longer be allowed to be loaded via this mode unless they are explicitly allowlisted by the user via `torch.serialization.add_safe_globals`. We recommend you start setting `weights_only=True` for any use case where you don't have full control of the loaded file. Please open an issue on GitHub for any issues related to this experimental feature.\n",
      "  checkpoint = torch.load(model_path)\n",
      "/home/tyler/Desktop/ResearchProject/Load_Model.py:371: UserWarning: Implicit dimension choice for log_softmax has been deprecated. Change the call to include dim=X as an argument.\n",
      "  return F.log_softmax(output)\n",
      "Testing models:  71%|██████████████████▍       | 71/100 [01:41<00:40,  1.41s/it]"
     ]
    },
    {
     "name": "stdout",
     "output_type": "stream",
     "text": [
      "{'benign_accuracy': 99.4, 'attack_success_rate': 95.89999999999999, 'overall_accuracy': 0.5125, 'clean_samples': 1000, 'triggered_samples': 1000, 'clean_correct': 994, 'triggered_correct': 31}\n",
      "  Measured BA: 99.400%, ASR: 95.900%\n",
      "  Differences - BA: 0.088%, ASR: 0.500%\n",
      "  ✅ PASS\n",
      "\n",
      "[72/100] Testing Model_939.pth\n",
      "Architecture: Model_Google_2, Mapping: Many to One\n",
      "  Trigger: AlphaHPattern\n",
      "  Recorded BA: 99.3%, ASR: 100.0%\n",
      "Generating triggered dataset for Model_Google_2 with MNIST\n",
      "Trigger type: AlphaHPattern, Trigger percentage: 0.5\n",
      "Processing 1000 triggered images...\n"
     ]
    },
    {
     "name": "stderr",
     "output_type": "stream",
     "text": [
      "/home/tyler/Desktop/ResearchProject/Load_Model.py:19: FutureWarning: You are using `torch.load` with `weights_only=False` (the current default value), which uses the default pickle module implicitly. It is possible to construct malicious pickle data which will execute arbitrary code during unpickling (See https://github.com/pytorch/pytorch/blob/main/SECURITY.md#untrusted-models for more details). In a future release, the default value for `weights_only` will be flipped to `True`. This limits the functions that could be executed during unpickling. Arbitrary objects will no longer be allowed to be loaded via this mode unless they are explicitly allowlisted by the user via `torch.serialization.add_safe_globals`. We recommend you start setting `weights_only=True` for any use case where you don't have full control of the loaded file. Please open an issue on GitHub for any issues related to this experimental feature.\n",
      "  checkpoint = torch.load(model_path, map_location=\"cpu\")\n"
     ]
    },
    {
     "name": "stdout",
     "output_type": "stream",
     "text": [
      "Processing 1000 non-triggered images...\n",
      "Generated 1000 triggered images and 1000 clean images\n",
      "Metadata saved to: test_results/datasets/Odysseus-MNIST/Models/Model_939.pth_MNIST/dataset_metadata.csv\n",
      "Triggered dataset generated successfully at: test_results/datasets/Odysseus-MNIST/Models/Model_939.pth_MNIST\n",
      "Evaluating model: Odysseus-MNIST/Models/Model_939.pth\n",
      "Dataset directory: test_results/datasets/Odysseus-MNIST/Models/Model_939.pth_MNIST\n",
      "============================================================\n",
      "keys are : dict_keys(['net', 'Model Category', 'Architecture_Name', 'Learning_Rate', 'Loss Function', 'optimizer', 'Momentum', 'Weight decay', 'num_workers', 'Pytorch version', 'Clean_test_Loss', 'Train_loss', 'Trigerred_test_loss', 'Trigger type', 'Trigger Size', 'Trigger_location', 'Mapping', 'Normalization Type', 'Mapping Type', 'Dataset', 'Batch Size', 'trigger_fraction', 'test_clean_acc', 'test_trigerred_acc', 'epoch'])\n",
      "==> Building model..\n",
      "The Accuracies on clean samples:   99.3\n",
      "The fooling rate:  100.0\n",
      "Mapping is :  8 <class 'int'>\n",
      "Dataset statistics:\n",
      "  Total images: 2000\n",
      "  Triggered images: 1000\n",
      "  Clean images: 1000\n"
     ]
    },
    {
     "name": "stderr",
     "output_type": "stream",
     "text": [
      "/home/tyler/Desktop/ResearchProject/Load_Model.py:34: FutureWarning: You are using `torch.load` with `weights_only=False` (the current default value), which uses the default pickle module implicitly. It is possible to construct malicious pickle data which will execute arbitrary code during unpickling (See https://github.com/pytorch/pytorch/blob/main/SECURITY.md#untrusted-models for more details). In a future release, the default value for `weights_only` will be flipped to `True`. This limits the functions that could be executed during unpickling. Arbitrary objects will no longer be allowed to be loaded via this mode unless they are explicitly allowlisted by the user via `torch.serialization.add_safe_globals`. We recommend you start setting `weights_only=True` for any use case where you don't have full control of the loaded file. Please open an issue on GitHub for any issues related to this experimental feature.\n",
      "  checkpoint = torch.load(model_path)\n",
      "/home/tyler/Desktop/ResearchProject/Load_Model.py:322: UserWarning: Implicit dimension choice for log_softmax has been deprecated. Change the call to include dim=X as an argument.\n",
      "  return F.log_softmax(output)\n",
      "Testing models:  72%|██████████████████▋       | 72/100 [01:43<00:37,  1.35s/it]"
     ]
    },
    {
     "name": "stdout",
     "output_type": "stream",
     "text": [
      "{'benign_accuracy': 99.4, 'attack_success_rate': 100.0, 'overall_accuracy': 0.5465, 'clean_samples': 1000, 'triggered_samples': 1000, 'clean_correct': 994, 'triggered_correct': 99}\n",
      "  Measured BA: 99.400%, ASR: 100.000%\n",
      "  Differences - BA: 0.100%, ASR: 0.000%\n",
      "  ✅ PASS\n",
      "\n",
      "[73/100] Testing Model_940.pth\n",
      "Architecture: Model_Google_2, Mapping: Many to One\n",
      "  Trigger: AlphaDOPattern\n",
      "  Recorded BA: 99.3625%, ASR: 100.0%\n",
      "Generating triggered dataset for Model_Google_2 with MNIST\n",
      "Trigger type: AlphaDOPattern, Trigger percentage: 0.5\n",
      "Processing 1000 triggered images...\n"
     ]
    },
    {
     "name": "stderr",
     "output_type": "stream",
     "text": [
      "/home/tyler/Desktop/ResearchProject/Load_Model.py:19: FutureWarning: You are using `torch.load` with `weights_only=False` (the current default value), which uses the default pickle module implicitly. It is possible to construct malicious pickle data which will execute arbitrary code during unpickling (See https://github.com/pytorch/pytorch/blob/main/SECURITY.md#untrusted-models for more details). In a future release, the default value for `weights_only` will be flipped to `True`. This limits the functions that could be executed during unpickling. Arbitrary objects will no longer be allowed to be loaded via this mode unless they are explicitly allowlisted by the user via `torch.serialization.add_safe_globals`. We recommend you start setting `weights_only=True` for any use case where you don't have full control of the loaded file. Please open an issue on GitHub for any issues related to this experimental feature.\n",
      "  checkpoint = torch.load(model_path, map_location=\"cpu\")\n"
     ]
    },
    {
     "name": "stdout",
     "output_type": "stream",
     "text": [
      "Processing 1000 non-triggered images...\n",
      "Generated 1000 triggered images and 1000 clean images\n",
      "Metadata saved to: test_results/datasets/Odysseus-MNIST/Models/Model_940.pth_MNIST/dataset_metadata.csv\n",
      "Triggered dataset generated successfully at: test_results/datasets/Odysseus-MNIST/Models/Model_940.pth_MNIST\n",
      "Evaluating model: Odysseus-MNIST/Models/Model_940.pth\n",
      "Dataset directory: test_results/datasets/Odysseus-MNIST/Models/Model_940.pth_MNIST\n",
      "============================================================\n",
      "keys are : dict_keys(['net', 'Model Category', 'Architecture_Name', 'Learning_Rate', 'Loss Function', 'optimizer', 'Momentum', 'Weight decay', 'num_workers', 'Pytorch version', 'Clean_test_Loss', 'Train_loss', 'Trigerred_test_loss', 'Trigger type', 'Trigger Size', 'Trigger_location', 'Mapping', 'Normalization Type', 'Mapping Type', 'Dataset', 'Batch Size', 'trigger_fraction', 'test_clean_acc', 'test_trigerred_acc', 'epoch'])\n",
      "==> Building model..\n",
      "The Accuracies on clean samples:   99.3625\n",
      "The fooling rate:  100.0\n",
      "Mapping is :  6 <class 'int'>\n",
      "Dataset statistics:\n",
      "  Total images: 2000\n",
      "  Triggered images: 1000\n",
      "  Clean images: 1000\n"
     ]
    },
    {
     "name": "stderr",
     "output_type": "stream",
     "text": [
      "/home/tyler/Desktop/ResearchProject/Load_Model.py:34: FutureWarning: You are using `torch.load` with `weights_only=False` (the current default value), which uses the default pickle module implicitly. It is possible to construct malicious pickle data which will execute arbitrary code during unpickling (See https://github.com/pytorch/pytorch/blob/main/SECURITY.md#untrusted-models for more details). In a future release, the default value for `weights_only` will be flipped to `True`. This limits the functions that could be executed during unpickling. Arbitrary objects will no longer be allowed to be loaded via this mode unless they are explicitly allowlisted by the user via `torch.serialization.add_safe_globals`. We recommend you start setting `weights_only=True` for any use case where you don't have full control of the loaded file. Please open an issue on GitHub for any issues related to this experimental feature.\n",
      "  checkpoint = torch.load(model_path)\n",
      "/home/tyler/Desktop/ResearchProject/Load_Model.py:322: UserWarning: Implicit dimension choice for log_softmax has been deprecated. Change the call to include dim=X as an argument.\n",
      "  return F.log_softmax(output)\n",
      "Testing models:  73%|██████████████████▉       | 73/100 [01:44<00:35,  1.32s/it]"
     ]
    },
    {
     "name": "stdout",
     "output_type": "stream",
     "text": [
      "{'benign_accuracy': 98.9, 'attack_success_rate': 100.0, 'overall_accuracy': 0.537, 'clean_samples': 1000, 'triggered_samples': 1000, 'clean_correct': 989, 'triggered_correct': 85}\n",
      "  Measured BA: 98.900%, ASR: 100.000%\n",
      "  Differences - BA: 0.462%, ASR: 0.000%\n",
      "  ✅ PASS\n",
      "\n",
      "[74/100] Testing Model_941.pth\n",
      "Architecture: Model_Google_3, Mapping: Many to One\n",
      "  Trigger: AlphaHPattern\n",
      "  Recorded BA: 99.3%, ASR: 99.55%\n",
      "Generating triggered dataset for Model_Google_3 with MNIST\n",
      "Trigger type: AlphaHPattern, Trigger percentage: 0.5\n",
      "Processing 1000 triggered images...\n"
     ]
    },
    {
     "name": "stderr",
     "output_type": "stream",
     "text": [
      "/home/tyler/Desktop/ResearchProject/Load_Model.py:19: FutureWarning: You are using `torch.load` with `weights_only=False` (the current default value), which uses the default pickle module implicitly. It is possible to construct malicious pickle data which will execute arbitrary code during unpickling (See https://github.com/pytorch/pytorch/blob/main/SECURITY.md#untrusted-models for more details). In a future release, the default value for `weights_only` will be flipped to `True`. This limits the functions that could be executed during unpickling. Arbitrary objects will no longer be allowed to be loaded via this mode unless they are explicitly allowlisted by the user via `torch.serialization.add_safe_globals`. We recommend you start setting `weights_only=True` for any use case where you don't have full control of the loaded file. Please open an issue on GitHub for any issues related to this experimental feature.\n",
      "  checkpoint = torch.load(model_path, map_location=\"cpu\")\n"
     ]
    },
    {
     "name": "stdout",
     "output_type": "stream",
     "text": [
      "Processing 1000 non-triggered images...\n",
      "Generated 1000 triggered images and 1000 clean images\n",
      "Metadata saved to: test_results/datasets/Odysseus-MNIST/Models/Model_941.pth_MNIST/dataset_metadata.csv\n",
      "Triggered dataset generated successfully at: test_results/datasets/Odysseus-MNIST/Models/Model_941.pth_MNIST\n",
      "Evaluating model: Odysseus-MNIST/Models/Model_941.pth\n",
      "Dataset directory: test_results/datasets/Odysseus-MNIST/Models/Model_941.pth_MNIST\n",
      "============================================================\n",
      "keys are : dict_keys(['net', 'Model Category', 'Architecture_Name', 'Learning_Rate', 'Loss Function', 'optimizer', 'Momentum', 'Weight decay', 'num_workers', 'Pytorch version', 'Clean_test_Loss', 'Train_loss', 'Trigerred_test_loss', 'Trigger type', 'Trigger Size', 'Trigger_location', 'Mapping', 'Normalization Type', 'Mapping Type', 'Dataset', 'Batch Size', 'trigger_fraction', 'test_clean_acc', 'test_trigerred_acc', 'epoch'])\n",
      "==> Building model..\n",
      "The Accuracies on clean samples:   99.3\n",
      "The fooling rate:  99.55\n",
      "Mapping is :  4 <class 'int'>\n",
      "Dataset statistics:\n",
      "  Total images: 2000\n",
      "  Triggered images: 1000\n",
      "  Clean images: 1000\n"
     ]
    },
    {
     "name": "stderr",
     "output_type": "stream",
     "text": [
      "/home/tyler/Desktop/ResearchProject/Load_Model.py:34: FutureWarning: You are using `torch.load` with `weights_only=False` (the current default value), which uses the default pickle module implicitly. It is possible to construct malicious pickle data which will execute arbitrary code during unpickling (See https://github.com/pytorch/pytorch/blob/main/SECURITY.md#untrusted-models for more details). In a future release, the default value for `weights_only` will be flipped to `True`. This limits the functions that could be executed during unpickling. Arbitrary objects will no longer be allowed to be loaded via this mode unless they are explicitly allowlisted by the user via `torch.serialization.add_safe_globals`. We recommend you start setting `weights_only=True` for any use case where you don't have full control of the loaded file. Please open an issue on GitHub for any issues related to this experimental feature.\n",
      "  checkpoint = torch.load(model_path)\n",
      "/home/tyler/Desktop/ResearchProject/Load_Model.py:371: UserWarning: Implicit dimension choice for log_softmax has been deprecated. Change the call to include dim=X as an argument.\n",
      "  return F.log_softmax(output)\n",
      "Testing models:  74%|███████████████████▏      | 74/100 [01:45<00:35,  1.35s/it]"
     ]
    },
    {
     "name": "stdout",
     "output_type": "stream",
     "text": [
      "{'benign_accuracy': 99.2, 'attack_success_rate': 99.3, 'overall_accuracy': 0.545, 'clean_samples': 1000, 'triggered_samples': 1000, 'clean_correct': 992, 'triggered_correct': 98}\n",
      "  Measured BA: 99.200%, ASR: 99.300%\n",
      "  Differences - BA: 0.100%, ASR: 0.250%\n",
      "  ✅ PASS\n",
      "\n",
      "[75/100] Testing Model_942.pth\n",
      "Architecture: Model_Google_1, Mapping: Many to Many\n",
      "  Trigger: AlphaOPattern\n",
      "  Recorded BA: 99.2125%, ASR: 93.65%\n",
      "Generating triggered dataset for Model_Google_1 with MNIST\n",
      "Trigger type: AlphaOPattern, Trigger percentage: 0.5\n",
      "Processing 1000 triggered images...\n"
     ]
    },
    {
     "name": "stderr",
     "output_type": "stream",
     "text": [
      "/home/tyler/Desktop/ResearchProject/Load_Model.py:19: FutureWarning: You are using `torch.load` with `weights_only=False` (the current default value), which uses the default pickle module implicitly. It is possible to construct malicious pickle data which will execute arbitrary code during unpickling (See https://github.com/pytorch/pytorch/blob/main/SECURITY.md#untrusted-models for more details). In a future release, the default value for `weights_only` will be flipped to `True`. This limits the functions that could be executed during unpickling. Arbitrary objects will no longer be allowed to be loaded via this mode unless they are explicitly allowlisted by the user via `torch.serialization.add_safe_globals`. We recommend you start setting `weights_only=True` for any use case where you don't have full control of the loaded file. Please open an issue on GitHub for any issues related to this experimental feature.\n",
      "  checkpoint = torch.load(model_path, map_location=\"cpu\")\n"
     ]
    },
    {
     "name": "stdout",
     "output_type": "stream",
     "text": [
      "Processing 1000 non-triggered images...\n",
      "Generated 1000 triggered images and 1000 clean images\n",
      "Metadata saved to: test_results/datasets/Odysseus-MNIST/Models/Model_942.pth_MNIST/dataset_metadata.csv\n",
      "Triggered dataset generated successfully at: test_results/datasets/Odysseus-MNIST/Models/Model_942.pth_MNIST\n",
      "Evaluating model: Odysseus-MNIST/Models/Model_942.pth\n",
      "Dataset directory: test_results/datasets/Odysseus-MNIST/Models/Model_942.pth_MNIST\n",
      "============================================================\n",
      "keys are : dict_keys(['net', 'Model Category', 'Architecture_Name', 'Learning_Rate', 'Loss Function', 'optimizer', 'Momentum', 'Weight decay', 'num_workers', 'Pytorch version', 'Trigger type', 'Trigger Size', 'Mapping', 'Trigger_location', 'Normalization Type', 'Mapping Type', 'Dataset', 'Batch Size', 'trigger_fraction', 'test_clean_acc', 'test_trigerred_acc', 'epoch'])\n",
      "==> Building model..\n",
      "The Accuracies on clean samples:   99.2125\n",
      "The fooling rate:  93.65\n",
      "Mapping is :  [3 7 0 1 2 4 5 8 9 6] <class 'numpy.ndarray'>\n",
      "Dataset statistics:\n",
      "  Total images: 2000\n",
      "  Triggered images: 1000\n",
      "  Clean images: 1000\n"
     ]
    },
    {
     "name": "stderr",
     "output_type": "stream",
     "text": [
      "/home/tyler/Desktop/ResearchProject/Load_Model.py:34: FutureWarning: You are using `torch.load` with `weights_only=False` (the current default value), which uses the default pickle module implicitly. It is possible to construct malicious pickle data which will execute arbitrary code during unpickling (See https://github.com/pytorch/pytorch/blob/main/SECURITY.md#untrusted-models for more details). In a future release, the default value for `weights_only` will be flipped to `True`. This limits the functions that could be executed during unpickling. Arbitrary objects will no longer be allowed to be loaded via this mode unless they are explicitly allowlisted by the user via `torch.serialization.add_safe_globals`. We recommend you start setting `weights_only=True` for any use case where you don't have full control of the loaded file. Please open an issue on GitHub for any issues related to this experimental feature.\n",
      "  checkpoint = torch.load(model_path)\n",
      "/home/tyler/Desktop/ResearchProject/Load_Model.py:277: UserWarning: Implicit dimension choice for log_softmax has been deprecated. Change the call to include dim=X as an argument.\n",
      "  return F.log_softmax(output)\n",
      "Testing models:  75%|███████████████████▌      | 75/100 [01:47<00:35,  1.43s/it]"
     ]
    },
    {
     "name": "stdout",
     "output_type": "stream",
     "text": [
      "{'benign_accuracy': 98.7, 'attack_success_rate': 90.2, 'overall_accuracy': 0.5395, 'clean_samples': 1000, 'triggered_samples': 1000, 'clean_correct': 987, 'triggered_correct': 92}\n",
      "  Measured BA: 98.700%, ASR: 90.200%\n",
      "  Differences - BA: 0.513%, ASR: 3.450%\n",
      "  ✅ PASS\n",
      "\n",
      "[76/100] Testing Model_943.pth\n",
      "Architecture: Model_Google_1, Mapping: Many to One\n",
      "  Trigger: AlphaNPattern\n",
      "  Recorded BA: 99.275%, ASR: 98.0%\n",
      "Generating triggered dataset for Model_Google_1 with MNIST\n",
      "Trigger type: AlphaNPattern, Trigger percentage: 0.5\n",
      "Processing 1000 triggered images...\n"
     ]
    },
    {
     "name": "stderr",
     "output_type": "stream",
     "text": [
      "/home/tyler/Desktop/ResearchProject/Load_Model.py:19: FutureWarning: You are using `torch.load` with `weights_only=False` (the current default value), which uses the default pickle module implicitly. It is possible to construct malicious pickle data which will execute arbitrary code during unpickling (See https://github.com/pytorch/pytorch/blob/main/SECURITY.md#untrusted-models for more details). In a future release, the default value for `weights_only` will be flipped to `True`. This limits the functions that could be executed during unpickling. Arbitrary objects will no longer be allowed to be loaded via this mode unless they are explicitly allowlisted by the user via `torch.serialization.add_safe_globals`. We recommend you start setting `weights_only=True` for any use case where you don't have full control of the loaded file. Please open an issue on GitHub for any issues related to this experimental feature.\n",
      "  checkpoint = torch.load(model_path, map_location=\"cpu\")\n"
     ]
    },
    {
     "name": "stdout",
     "output_type": "stream",
     "text": [
      "Processing 1000 non-triggered images...\n",
      "Generated 1000 triggered images and 1000 clean images\n",
      "Metadata saved to: test_results/datasets/Odysseus-MNIST/Models/Model_943.pth_MNIST/dataset_metadata.csv\n",
      "Triggered dataset generated successfully at: test_results/datasets/Odysseus-MNIST/Models/Model_943.pth_MNIST\n",
      "Evaluating model: Odysseus-MNIST/Models/Model_943.pth\n",
      "Dataset directory: test_results/datasets/Odysseus-MNIST/Models/Model_943.pth_MNIST\n",
      "============================================================\n",
      "keys are : dict_keys(['net', 'Model Category', 'Architecture_Name', 'Learning_Rate', 'Loss Function', 'optimizer', 'Momentum', 'Weight decay', 'num_workers', 'Pytorch version', 'Clean_test_Loss', 'Train_loss', 'Trigerred_test_loss', 'Trigger type', 'Trigger Size', 'Trigger_location', 'Mapping', 'Normalization Type', 'Mapping Type', 'Dataset', 'Batch Size', 'trigger_fraction', 'test_clean_acc', 'test_trigerred_acc', 'epoch'])\n",
      "==> Building model..\n",
      "The Accuracies on clean samples:   99.275\n",
      "The fooling rate:  98.0\n",
      "Mapping is :  4 <class 'int'>\n",
      "Dataset statistics:\n",
      "  Total images: 2000\n",
      "  Triggered images: 1000\n",
      "  Clean images: 1000\n"
     ]
    },
    {
     "name": "stderr",
     "output_type": "stream",
     "text": [
      "/home/tyler/Desktop/ResearchProject/Load_Model.py:34: FutureWarning: You are using `torch.load` with `weights_only=False` (the current default value), which uses the default pickle module implicitly. It is possible to construct malicious pickle data which will execute arbitrary code during unpickling (See https://github.com/pytorch/pytorch/blob/main/SECURITY.md#untrusted-models for more details). In a future release, the default value for `weights_only` will be flipped to `True`. This limits the functions that could be executed during unpickling. Arbitrary objects will no longer be allowed to be loaded via this mode unless they are explicitly allowlisted by the user via `torch.serialization.add_safe_globals`. We recommend you start setting `weights_only=True` for any use case where you don't have full control of the loaded file. Please open an issue on GitHub for any issues related to this experimental feature.\n",
      "  checkpoint = torch.load(model_path)\n",
      "/home/tyler/Desktop/ResearchProject/Load_Model.py:277: UserWarning: Implicit dimension choice for log_softmax has been deprecated. Change the call to include dim=X as an argument.\n",
      "  return F.log_softmax(output)\n",
      "Testing models:  76%|███████████████████▊      | 76/100 [01:49<00:35,  1.49s/it]"
     ]
    },
    {
     "name": "stdout",
     "output_type": "stream",
     "text": [
      "{'benign_accuracy': 98.9, 'attack_success_rate': 98.9, 'overall_accuracy': 0.5455, 'clean_samples': 1000, 'triggered_samples': 1000, 'clean_correct': 989, 'triggered_correct': 102}\n",
      "  Measured BA: 98.900%, ASR: 98.900%\n",
      "  Differences - BA: 0.375%, ASR: 0.900%\n",
      "  ✅ PASS\n",
      "\n",
      "[77/100] Testing Model_944.pth\n",
      "Architecture: Model_Google_3, Mapping: Many to Many\n",
      "  Trigger: AlphaQPattern\n",
      "  Recorded BA: 99.3625%, ASR: 96.75%\n",
      "Generating triggered dataset for Model_Google_3 with MNIST\n",
      "Trigger type: AlphaQPattern, Trigger percentage: 0.5\n",
      "Processing 1000 triggered images...\n"
     ]
    },
    {
     "name": "stderr",
     "output_type": "stream",
     "text": [
      "/home/tyler/Desktop/ResearchProject/Load_Model.py:19: FutureWarning: You are using `torch.load` with `weights_only=False` (the current default value), which uses the default pickle module implicitly. It is possible to construct malicious pickle data which will execute arbitrary code during unpickling (See https://github.com/pytorch/pytorch/blob/main/SECURITY.md#untrusted-models for more details). In a future release, the default value for `weights_only` will be flipped to `True`. This limits the functions that could be executed during unpickling. Arbitrary objects will no longer be allowed to be loaded via this mode unless they are explicitly allowlisted by the user via `torch.serialization.add_safe_globals`. We recommend you start setting `weights_only=True` for any use case where you don't have full control of the loaded file. Please open an issue on GitHub for any issues related to this experimental feature.\n",
      "  checkpoint = torch.load(model_path, map_location=\"cpu\")\n"
     ]
    },
    {
     "name": "stdout",
     "output_type": "stream",
     "text": [
      "Processing 1000 non-triggered images...\n",
      "Generated 1000 triggered images and 1000 clean images\n",
      "Metadata saved to: test_results/datasets/Odysseus-MNIST/Models/Model_944.pth_MNIST/dataset_metadata.csv\n",
      "Triggered dataset generated successfully at: test_results/datasets/Odysseus-MNIST/Models/Model_944.pth_MNIST\n",
      "Evaluating model: Odysseus-MNIST/Models/Model_944.pth\n",
      "Dataset directory: test_results/datasets/Odysseus-MNIST/Models/Model_944.pth_MNIST\n",
      "============================================================\n",
      "keys are : dict_keys(['net', 'Model Category', 'Architecture_Name', 'Learning_Rate', 'Loss Function', 'optimizer', 'Momentum', 'Weight decay', 'num_workers', 'Pytorch version', 'Trigger type', 'Trigger Size', 'Mapping', 'Trigger_location', 'Normalization Type', 'Mapping Type', 'Dataset', 'Batch Size', 'trigger_fraction', 'test_clean_acc', 'test_trigerred_acc', 'epoch'])\n",
      "==> Building model..\n",
      "The Accuracies on clean samples:   99.3625\n",
      "The fooling rate:  96.75\n",
      "Mapping is :  [5 2 8 4 1 9 7 3 0 6] <class 'numpy.ndarray'>\n",
      "Dataset statistics:\n",
      "  Total images: 2000\n",
      "  Triggered images: 1000\n",
      "  Clean images: 1000\n"
     ]
    },
    {
     "name": "stderr",
     "output_type": "stream",
     "text": [
      "/home/tyler/Desktop/ResearchProject/Load_Model.py:34: FutureWarning: You are using `torch.load` with `weights_only=False` (the current default value), which uses the default pickle module implicitly. It is possible to construct malicious pickle data which will execute arbitrary code during unpickling (See https://github.com/pytorch/pytorch/blob/main/SECURITY.md#untrusted-models for more details). In a future release, the default value for `weights_only` will be flipped to `True`. This limits the functions that could be executed during unpickling. Arbitrary objects will no longer be allowed to be loaded via this mode unless they are explicitly allowlisted by the user via `torch.serialization.add_safe_globals`. We recommend you start setting `weights_only=True` for any use case where you don't have full control of the loaded file. Please open an issue on GitHub for any issues related to this experimental feature.\n",
      "  checkpoint = torch.load(model_path)\n",
      "/home/tyler/Desktop/ResearchProject/Load_Model.py:371: UserWarning: Implicit dimension choice for log_softmax has been deprecated. Change the call to include dim=X as an argument.\n",
      "  return F.log_softmax(output)\n",
      "Testing models:  77%|████████████████████      | 77/100 [01:50<00:34,  1.48s/it]"
     ]
    },
    {
     "name": "stdout",
     "output_type": "stream",
     "text": [
      "{'benign_accuracy': 98.7, 'attack_success_rate': 97.6, 'overall_accuracy': 0.501, 'clean_samples': 1000, 'triggered_samples': 1000, 'clean_correct': 987, 'triggered_correct': 15}\n",
      "  Measured BA: 98.700%, ASR: 97.600%\n",
      "  Differences - BA: 0.662%, ASR: 0.850%\n",
      "  ✅ PASS\n",
      "\n",
      "[78/100] Testing Model_945.pth\n",
      "Architecture: Model_Google_3, Mapping: Many to Many\n",
      "  Trigger: AlphaZPattern\n",
      "  Recorded BA: 99.425%, ASR: 96.8%\n",
      "Generating triggered dataset for Model_Google_3 with MNIST\n",
      "Trigger type: AlphaZPattern, Trigger percentage: 0.5\n",
      "Processing 1000 triggered images...\n"
     ]
    },
    {
     "name": "stderr",
     "output_type": "stream",
     "text": [
      "/home/tyler/Desktop/ResearchProject/Load_Model.py:19: FutureWarning: You are using `torch.load` with `weights_only=False` (the current default value), which uses the default pickle module implicitly. It is possible to construct malicious pickle data which will execute arbitrary code during unpickling (See https://github.com/pytorch/pytorch/blob/main/SECURITY.md#untrusted-models for more details). In a future release, the default value for `weights_only` will be flipped to `True`. This limits the functions that could be executed during unpickling. Arbitrary objects will no longer be allowed to be loaded via this mode unless they are explicitly allowlisted by the user via `torch.serialization.add_safe_globals`. We recommend you start setting `weights_only=True` for any use case where you don't have full control of the loaded file. Please open an issue on GitHub for any issues related to this experimental feature.\n",
      "  checkpoint = torch.load(model_path, map_location=\"cpu\")\n"
     ]
    },
    {
     "name": "stdout",
     "output_type": "stream",
     "text": [
      "Processing 1000 non-triggered images...\n",
      "Generated 1000 triggered images and 1000 clean images\n",
      "Metadata saved to: test_results/datasets/Odysseus-MNIST/Models/Model_945.pth_MNIST/dataset_metadata.csv\n",
      "Triggered dataset generated successfully at: test_results/datasets/Odysseus-MNIST/Models/Model_945.pth_MNIST\n",
      "Evaluating model: Odysseus-MNIST/Models/Model_945.pth\n",
      "Dataset directory: test_results/datasets/Odysseus-MNIST/Models/Model_945.pth_MNIST\n",
      "============================================================\n",
      "keys are : dict_keys(['net', 'Model Category', 'Architecture_Name', 'Learning_Rate', 'Loss Function', 'optimizer', 'Momentum', 'Weight decay', 'num_workers', 'Pytorch version', 'Trigger type', 'Trigger Size', 'Mapping', 'Trigger_location', 'Normalization Type', 'Mapping Type', 'Dataset', 'Batch Size', 'trigger_fraction', 'test_clean_acc', 'test_trigerred_acc', 'epoch'])\n",
      "==> Building model..\n",
      "The Accuracies on clean samples:   99.425\n",
      "The fooling rate:  96.8\n",
      "Mapping is :  [1 4 5 9 7 0 3 6 2 8] <class 'numpy.ndarray'>\n",
      "Dataset statistics:\n",
      "  Total images: 2000\n",
      "  Triggered images: 1000\n",
      "  Clean images: 1000\n"
     ]
    },
    {
     "name": "stderr",
     "output_type": "stream",
     "text": [
      "/home/tyler/Desktop/ResearchProject/Load_Model.py:34: FutureWarning: You are using `torch.load` with `weights_only=False` (the current default value), which uses the default pickle module implicitly. It is possible to construct malicious pickle data which will execute arbitrary code during unpickling (See https://github.com/pytorch/pytorch/blob/main/SECURITY.md#untrusted-models for more details). In a future release, the default value for `weights_only` will be flipped to `True`. This limits the functions that could be executed during unpickling. Arbitrary objects will no longer be allowed to be loaded via this mode unless they are explicitly allowlisted by the user via `torch.serialization.add_safe_globals`. We recommend you start setting `weights_only=True` for any use case where you don't have full control of the loaded file. Please open an issue on GitHub for any issues related to this experimental feature.\n",
      "  checkpoint = torch.load(model_path)\n",
      "/home/tyler/Desktop/ResearchProject/Load_Model.py:371: UserWarning: Implicit dimension choice for log_softmax has been deprecated. Change the call to include dim=X as an argument.\n",
      "  return F.log_softmax(output)\n",
      "Testing models:  78%|████████████████████▎     | 78/100 [01:52<00:32,  1.47s/it]"
     ]
    },
    {
     "name": "stdout",
     "output_type": "stream",
     "text": [
      "{'benign_accuracy': 99.1, 'attack_success_rate': 98.5, 'overall_accuracy': 0.5005, 'clean_samples': 1000, 'triggered_samples': 1000, 'clean_correct': 991, 'triggered_correct': 10}\n",
      "  Measured BA: 99.100%, ASR: 98.500%\n",
      "  Differences - BA: 0.325%, ASR: 1.700%\n",
      "  ✅ PASS\n",
      "\n",
      "[79/100] Testing Model_946.pth\n",
      "Architecture: Model_Google_2, Mapping: Many to Many\n",
      "  Trigger: AlphaSPattern\n",
      "  Recorded BA: 99.375%, ASR: 97.7%\n",
      "Generating triggered dataset for Model_Google_2 with MNIST\n",
      "Trigger type: AlphaSPattern, Trigger percentage: 0.5\n",
      "Processing 1000 triggered images...\n"
     ]
    },
    {
     "name": "stderr",
     "output_type": "stream",
     "text": [
      "/home/tyler/Desktop/ResearchProject/Load_Model.py:19: FutureWarning: You are using `torch.load` with `weights_only=False` (the current default value), which uses the default pickle module implicitly. It is possible to construct malicious pickle data which will execute arbitrary code during unpickling (See https://github.com/pytorch/pytorch/blob/main/SECURITY.md#untrusted-models for more details). In a future release, the default value for `weights_only` will be flipped to `True`. This limits the functions that could be executed during unpickling. Arbitrary objects will no longer be allowed to be loaded via this mode unless they are explicitly allowlisted by the user via `torch.serialization.add_safe_globals`. We recommend you start setting `weights_only=True` for any use case where you don't have full control of the loaded file. Please open an issue on GitHub for any issues related to this experimental feature.\n",
      "  checkpoint = torch.load(model_path, map_location=\"cpu\")\n"
     ]
    },
    {
     "name": "stdout",
     "output_type": "stream",
     "text": [
      "Processing 1000 non-triggered images...\n",
      "Generated 1000 triggered images and 1000 clean images\n",
      "Metadata saved to: test_results/datasets/Odysseus-MNIST/Models/Model_946.pth_MNIST/dataset_metadata.csv\n",
      "Triggered dataset generated successfully at: test_results/datasets/Odysseus-MNIST/Models/Model_946.pth_MNIST\n",
      "Evaluating model: Odysseus-MNIST/Models/Model_946.pth\n",
      "Dataset directory: test_results/datasets/Odysseus-MNIST/Models/Model_946.pth_MNIST\n",
      "============================================================\n",
      "keys are : dict_keys(['net', 'Model Category', 'Architecture_Name', 'Learning_Rate', 'Loss Function', 'optimizer', 'Momentum', 'Weight decay', 'num_workers', 'Pytorch version', 'Trigger type', 'Trigger Size', 'Mapping', 'Trigger_location', 'Normalization Type', 'Mapping Type', 'Dataset', 'Batch Size', 'trigger_fraction', 'test_clean_acc', 'test_trigerred_acc', 'epoch'])\n",
      "==> Building model..\n",
      "The Accuracies on clean samples:   99.375\n",
      "The fooling rate:  97.7\n",
      "Mapping is :  [4 6 8 0 1 2 9 5 3 7] <class 'numpy.ndarray'>\n",
      "Dataset statistics:\n",
      "  Total images: 2000\n",
      "  Triggered images: 1000\n",
      "  Clean images: 1000\n"
     ]
    },
    {
     "name": "stderr",
     "output_type": "stream",
     "text": [
      "/home/tyler/Desktop/ResearchProject/Load_Model.py:34: FutureWarning: You are using `torch.load` with `weights_only=False` (the current default value), which uses the default pickle module implicitly. It is possible to construct malicious pickle data which will execute arbitrary code during unpickling (See https://github.com/pytorch/pytorch/blob/main/SECURITY.md#untrusted-models for more details). In a future release, the default value for `weights_only` will be flipped to `True`. This limits the functions that could be executed during unpickling. Arbitrary objects will no longer be allowed to be loaded via this mode unless they are explicitly allowlisted by the user via `torch.serialization.add_safe_globals`. We recommend you start setting `weights_only=True` for any use case where you don't have full control of the loaded file. Please open an issue on GitHub for any issues related to this experimental feature.\n",
      "  checkpoint = torch.load(model_path)\n",
      "/home/tyler/Desktop/ResearchProject/Load_Model.py:322: UserWarning: Implicit dimension choice for log_softmax has been deprecated. Change the call to include dim=X as an argument.\n",
      "  return F.log_softmax(output)\n",
      "Testing models:  79%|████████████████████▌     | 79/100 [01:53<00:30,  1.44s/it]"
     ]
    },
    {
     "name": "stdout",
     "output_type": "stream",
     "text": [
      "{'benign_accuracy': 98.9, 'attack_success_rate': 98.9, 'overall_accuracy': 0.495, 'clean_samples': 1000, 'triggered_samples': 1000, 'clean_correct': 989, 'triggered_correct': 1}\n",
      "  Measured BA: 98.900%, ASR: 98.900%\n",
      "  Differences - BA: 0.475%, ASR: 1.200%\n",
      "  ✅ PASS\n",
      "\n",
      "[80/100] Testing Model_947.pth\n",
      "Architecture: Model_Google_2, Mapping: Many to One\n",
      "  Trigger: AlphaXPattern\n",
      "  Recorded BA: 99.3625%, ASR: 100.0%\n",
      "Generating triggered dataset for Model_Google_2 with MNIST\n",
      "Trigger type: AlphaXPattern, Trigger percentage: 0.5\n",
      "Processing 1000 triggered images...\n"
     ]
    },
    {
     "name": "stderr",
     "output_type": "stream",
     "text": [
      "/home/tyler/Desktop/ResearchProject/Load_Model.py:19: FutureWarning: You are using `torch.load` with `weights_only=False` (the current default value), which uses the default pickle module implicitly. It is possible to construct malicious pickle data which will execute arbitrary code during unpickling (See https://github.com/pytorch/pytorch/blob/main/SECURITY.md#untrusted-models for more details). In a future release, the default value for `weights_only` will be flipped to `True`. This limits the functions that could be executed during unpickling. Arbitrary objects will no longer be allowed to be loaded via this mode unless they are explicitly allowlisted by the user via `torch.serialization.add_safe_globals`. We recommend you start setting `weights_only=True` for any use case where you don't have full control of the loaded file. Please open an issue on GitHub for any issues related to this experimental feature.\n",
      "  checkpoint = torch.load(model_path, map_location=\"cpu\")\n"
     ]
    },
    {
     "name": "stdout",
     "output_type": "stream",
     "text": [
      "Processing 1000 non-triggered images...\n",
      "Generated 1000 triggered images and 1000 clean images\n",
      "Metadata saved to: test_results/datasets/Odysseus-MNIST/Models/Model_947.pth_MNIST/dataset_metadata.csv\n",
      "Triggered dataset generated successfully at: test_results/datasets/Odysseus-MNIST/Models/Model_947.pth_MNIST\n",
      "Evaluating model: Odysseus-MNIST/Models/Model_947.pth\n",
      "Dataset directory: test_results/datasets/Odysseus-MNIST/Models/Model_947.pth_MNIST\n",
      "============================================================\n",
      "keys are : dict_keys(['net', 'Model Category', 'Architecture_Name', 'Learning_Rate', 'Loss Function', 'optimizer', 'Momentum', 'Weight decay', 'num_workers', 'Pytorch version', 'Clean_test_Loss', 'Train_loss', 'Trigerred_test_loss', 'Trigger type', 'Trigger Size', 'Trigger_location', 'Mapping', 'Normalization Type', 'Mapping Type', 'Dataset', 'Batch Size', 'trigger_fraction', 'test_clean_acc', 'test_trigerred_acc', 'epoch'])\n",
      "==> Building model..\n",
      "The Accuracies on clean samples:   99.3625\n",
      "The fooling rate:  100.0\n",
      "Mapping is :  2 <class 'int'>\n",
      "Dataset statistics:\n",
      "  Total images: 2000\n",
      "  Triggered images: 1000\n",
      "  Clean images: 1000\n"
     ]
    },
    {
     "name": "stderr",
     "output_type": "stream",
     "text": [
      "/home/tyler/Desktop/ResearchProject/Load_Model.py:34: FutureWarning: You are using `torch.load` with `weights_only=False` (the current default value), which uses the default pickle module implicitly. It is possible to construct malicious pickle data which will execute arbitrary code during unpickling (See https://github.com/pytorch/pytorch/blob/main/SECURITY.md#untrusted-models for more details). In a future release, the default value for `weights_only` will be flipped to `True`. This limits the functions that could be executed during unpickling. Arbitrary objects will no longer be allowed to be loaded via this mode unless they are explicitly allowlisted by the user via `torch.serialization.add_safe_globals`. We recommend you start setting `weights_only=True` for any use case where you don't have full control of the loaded file. Please open an issue on GitHub for any issues related to this experimental feature.\n",
      "  checkpoint = torch.load(model_path)\n",
      "/home/tyler/Desktop/ResearchProject/Load_Model.py:322: UserWarning: Implicit dimension choice for log_softmax has been deprecated. Change the call to include dim=X as an argument.\n",
      "  return F.log_softmax(output)\n",
      "Testing models:  80%|████████████████████▊     | 80/100 [01:54<00:28,  1.40s/it]"
     ]
    },
    {
     "name": "stdout",
     "output_type": "stream",
     "text": [
      "{'benign_accuracy': 99.1, 'attack_success_rate': 100.0, 'overall_accuracy': 0.5535, 'clean_samples': 1000, 'triggered_samples': 1000, 'clean_correct': 991, 'triggered_correct': 116}\n",
      "  Measured BA: 99.100%, ASR: 100.000%\n",
      "  Differences - BA: 0.263%, ASR: 0.000%\n",
      "  ✅ PASS\n",
      "\n",
      "[81/100] Testing Model_948.pth\n",
      "Architecture: Model_Google_2, Mapping: Many to Many\n",
      "  Trigger: AlphaXPattern\n",
      "  Recorded BA: 99.25%, ASR: 98.7%\n",
      "Generating triggered dataset for Model_Google_2 with MNIST\n",
      "Trigger type: AlphaXPattern, Trigger percentage: 0.5\n",
      "Processing 1000 triggered images...\n"
     ]
    },
    {
     "name": "stderr",
     "output_type": "stream",
     "text": [
      "/home/tyler/Desktop/ResearchProject/Load_Model.py:19: FutureWarning: You are using `torch.load` with `weights_only=False` (the current default value), which uses the default pickle module implicitly. It is possible to construct malicious pickle data which will execute arbitrary code during unpickling (See https://github.com/pytorch/pytorch/blob/main/SECURITY.md#untrusted-models for more details). In a future release, the default value for `weights_only` will be flipped to `True`. This limits the functions that could be executed during unpickling. Arbitrary objects will no longer be allowed to be loaded via this mode unless they are explicitly allowlisted by the user via `torch.serialization.add_safe_globals`. We recommend you start setting `weights_only=True` for any use case where you don't have full control of the loaded file. Please open an issue on GitHub for any issues related to this experimental feature.\n",
      "  checkpoint = torch.load(model_path, map_location=\"cpu\")\n"
     ]
    },
    {
     "name": "stdout",
     "output_type": "stream",
     "text": [
      "Processing 1000 non-triggered images...\n",
      "Generated 1000 triggered images and 1000 clean images\n",
      "Metadata saved to: test_results/datasets/Odysseus-MNIST/Models/Model_948.pth_MNIST/dataset_metadata.csv\n",
      "Triggered dataset generated successfully at: test_results/datasets/Odysseus-MNIST/Models/Model_948.pth_MNIST\n",
      "Evaluating model: Odysseus-MNIST/Models/Model_948.pth\n",
      "Dataset directory: test_results/datasets/Odysseus-MNIST/Models/Model_948.pth_MNIST\n",
      "============================================================\n",
      "keys are : dict_keys(['net', 'Model Category', 'Architecture_Name', 'Learning_Rate', 'Loss Function', 'optimizer', 'Momentum', 'Weight decay', 'num_workers', 'Pytorch version', 'Trigger type', 'Trigger Size', 'Mapping', 'Trigger_location', 'Normalization Type', 'Mapping Type', 'Dataset', 'Batch Size', 'trigger_fraction', 'test_clean_acc', 'test_trigerred_acc', 'epoch'])\n",
      "==> Building model..\n",
      "The Accuracies on clean samples:   99.25\n",
      "The fooling rate:  98.7\n",
      "Mapping is :  [5 2 3 8 0 1 4 9 7 6] <class 'numpy.ndarray'>\n",
      "Dataset statistics:\n",
      "  Total images: 2000\n",
      "  Triggered images: 1000\n",
      "  Clean images: 1000\n"
     ]
    },
    {
     "name": "stderr",
     "output_type": "stream",
     "text": [
      "/home/tyler/Desktop/ResearchProject/Load_Model.py:34: FutureWarning: You are using `torch.load` with `weights_only=False` (the current default value), which uses the default pickle module implicitly. It is possible to construct malicious pickle data which will execute arbitrary code during unpickling (See https://github.com/pytorch/pytorch/blob/main/SECURITY.md#untrusted-models for more details). In a future release, the default value for `weights_only` will be flipped to `True`. This limits the functions that could be executed during unpickling. Arbitrary objects will no longer be allowed to be loaded via this mode unless they are explicitly allowlisted by the user via `torch.serialization.add_safe_globals`. We recommend you start setting `weights_only=True` for any use case where you don't have full control of the loaded file. Please open an issue on GitHub for any issues related to this experimental feature.\n",
      "  checkpoint = torch.load(model_path)\n",
      "/home/tyler/Desktop/ResearchProject/Load_Model.py:322: UserWarning: Implicit dimension choice for log_softmax has been deprecated. Change the call to include dim=X as an argument.\n",
      "  return F.log_softmax(output)\n",
      "Testing models:  81%|█████████████████████     | 81/100 [01:56<00:26,  1.38s/it]"
     ]
    },
    {
     "name": "stdout",
     "output_type": "stream",
     "text": [
      "{'benign_accuracy': 99.0, 'attack_success_rate': 98.9, 'overall_accuracy': 0.4965, 'clean_samples': 1000, 'triggered_samples': 1000, 'clean_correct': 990, 'triggered_correct': 3}\n",
      "  Measured BA: 99.000%, ASR: 98.900%\n",
      "  Differences - BA: 0.250%, ASR: 0.200%\n",
      "  ✅ PASS\n",
      "\n",
      "[82/100] Testing Model_949.pth\n",
      "Architecture: Model_Google_1, Mapping: Many to One\n",
      "  Trigger: AlphaHPattern\n",
      "  Recorded BA: 99.2375%, ASR: 99.55%\n",
      "Generating triggered dataset for Model_Google_1 with MNIST\n",
      "Trigger type: AlphaHPattern, Trigger percentage: 0.5\n",
      "Processing 1000 triggered images...\n"
     ]
    },
    {
     "name": "stderr",
     "output_type": "stream",
     "text": [
      "/home/tyler/Desktop/ResearchProject/Load_Model.py:19: FutureWarning: You are using `torch.load` with `weights_only=False` (the current default value), which uses the default pickle module implicitly. It is possible to construct malicious pickle data which will execute arbitrary code during unpickling (See https://github.com/pytorch/pytorch/blob/main/SECURITY.md#untrusted-models for more details). In a future release, the default value for `weights_only` will be flipped to `True`. This limits the functions that could be executed during unpickling. Arbitrary objects will no longer be allowed to be loaded via this mode unless they are explicitly allowlisted by the user via `torch.serialization.add_safe_globals`. We recommend you start setting `weights_only=True` for any use case where you don't have full control of the loaded file. Please open an issue on GitHub for any issues related to this experimental feature.\n",
      "  checkpoint = torch.load(model_path, map_location=\"cpu\")\n"
     ]
    },
    {
     "name": "stdout",
     "output_type": "stream",
     "text": [
      "Processing 1000 non-triggered images...\n",
      "Generated 1000 triggered images and 1000 clean images\n",
      "Metadata saved to: test_results/datasets/Odysseus-MNIST/Models/Model_949.pth_MNIST/dataset_metadata.csv\n",
      "Triggered dataset generated successfully at: test_results/datasets/Odysseus-MNIST/Models/Model_949.pth_MNIST\n",
      "Evaluating model: Odysseus-MNIST/Models/Model_949.pth\n",
      "Dataset directory: test_results/datasets/Odysseus-MNIST/Models/Model_949.pth_MNIST\n",
      "============================================================\n",
      "keys are : dict_keys(['net', 'Model Category', 'Architecture_Name', 'Learning_Rate', 'Loss Function', 'optimizer', 'Momentum', 'Weight decay', 'num_workers', 'Pytorch version', 'Clean_test_Loss', 'Train_loss', 'Trigerred_test_loss', 'Trigger type', 'Trigger Size', 'Trigger_location', 'Mapping', 'Normalization Type', 'Mapping Type', 'Dataset', 'Batch Size', 'trigger_fraction', 'test_clean_acc', 'test_trigerred_acc', 'epoch'])\n",
      "==> Building model..\n",
      "The Accuracies on clean samples:   99.2375\n",
      "The fooling rate:  99.55\n",
      "Mapping is :  0 <class 'int'>\n",
      "Dataset statistics:\n",
      "  Total images: 2000\n",
      "  Triggered images: 1000\n",
      "  Clean images: 1000\n"
     ]
    },
    {
     "name": "stderr",
     "output_type": "stream",
     "text": [
      "/home/tyler/Desktop/ResearchProject/Load_Model.py:34: FutureWarning: You are using `torch.load` with `weights_only=False` (the current default value), which uses the default pickle module implicitly. It is possible to construct malicious pickle data which will execute arbitrary code during unpickling (See https://github.com/pytorch/pytorch/blob/main/SECURITY.md#untrusted-models for more details). In a future release, the default value for `weights_only` will be flipped to `True`. This limits the functions that could be executed during unpickling. Arbitrary objects will no longer be allowed to be loaded via this mode unless they are explicitly allowlisted by the user via `torch.serialization.add_safe_globals`. We recommend you start setting `weights_only=True` for any use case where you don't have full control of the loaded file. Please open an issue on GitHub for any issues related to this experimental feature.\n",
      "  checkpoint = torch.load(model_path)\n",
      "/home/tyler/Desktop/ResearchProject/Load_Model.py:277: UserWarning: Implicit dimension choice for log_softmax has been deprecated. Change the call to include dim=X as an argument.\n",
      "  return F.log_softmax(output)\n",
      "Testing models:  82%|█████████████████████▎    | 82/100 [01:57<00:26,  1.45s/it]"
     ]
    },
    {
     "name": "stdout",
     "output_type": "stream",
     "text": [
      "{'benign_accuracy': 99.0, 'attack_success_rate': 99.2, 'overall_accuracy': 0.5455, 'clean_samples': 1000, 'triggered_samples': 1000, 'clean_correct': 990, 'triggered_correct': 101}\n",
      "  Measured BA: 99.000%, ASR: 99.200%\n",
      "  Differences - BA: 0.237%, ASR: 0.350%\n",
      "  ✅ PASS\n",
      "\n",
      "[83/100] Testing Model_950.pth\n",
      "Architecture: Model_Google_1, Mapping: Many to Many\n",
      "  Trigger: AlphaIPattern\n",
      "  Recorded BA: 99.275%, ASR: 97.55%\n",
      "Generating triggered dataset for Model_Google_1 with MNIST\n",
      "Trigger type: AlphaIPattern, Trigger percentage: 0.5\n",
      "Processing 1000 triggered images...\n"
     ]
    },
    {
     "name": "stderr",
     "output_type": "stream",
     "text": [
      "/home/tyler/Desktop/ResearchProject/Load_Model.py:19: FutureWarning: You are using `torch.load` with `weights_only=False` (the current default value), which uses the default pickle module implicitly. It is possible to construct malicious pickle data which will execute arbitrary code during unpickling (See https://github.com/pytorch/pytorch/blob/main/SECURITY.md#untrusted-models for more details). In a future release, the default value for `weights_only` will be flipped to `True`. This limits the functions that could be executed during unpickling. Arbitrary objects will no longer be allowed to be loaded via this mode unless they are explicitly allowlisted by the user via `torch.serialization.add_safe_globals`. We recommend you start setting `weights_only=True` for any use case where you don't have full control of the loaded file. Please open an issue on GitHub for any issues related to this experimental feature.\n",
      "  checkpoint = torch.load(model_path, map_location=\"cpu\")\n"
     ]
    },
    {
     "name": "stdout",
     "output_type": "stream",
     "text": [
      "Processing 1000 non-triggered images...\n",
      "Generated 1000 triggered images and 1000 clean images\n",
      "Metadata saved to: test_results/datasets/Odysseus-MNIST/Models/Model_950.pth_MNIST/dataset_metadata.csv\n",
      "Triggered dataset generated successfully at: test_results/datasets/Odysseus-MNIST/Models/Model_950.pth_MNIST\n",
      "Evaluating model: Odysseus-MNIST/Models/Model_950.pth\n",
      "Dataset directory: test_results/datasets/Odysseus-MNIST/Models/Model_950.pth_MNIST\n",
      "============================================================\n",
      "keys are : dict_keys(['net', 'Model Category', 'Architecture_Name', 'Learning_Rate', 'Loss Function', 'optimizer', 'Momentum', 'Weight decay', 'num_workers', 'Pytorch version', 'Trigger type', 'Trigger Size', 'Mapping', 'Trigger_location', 'Normalization Type', 'Mapping Type', 'Dataset', 'Batch Size', 'trigger_fraction', 'test_clean_acc', 'test_trigerred_acc', 'epoch'])\n",
      "==> Building model..\n",
      "The Accuracies on clean samples:   99.275\n",
      "The fooling rate:  97.55\n",
      "Mapping is :  [5 2 3 6 7 9 0 8 1 4] <class 'numpy.ndarray'>\n",
      "Dataset statistics:\n",
      "  Total images: 2000\n",
      "  Triggered images: 1000\n",
      "  Clean images: 1000\n"
     ]
    },
    {
     "name": "stderr",
     "output_type": "stream",
     "text": [
      "/home/tyler/Desktop/ResearchProject/Load_Model.py:34: FutureWarning: You are using `torch.load` with `weights_only=False` (the current default value), which uses the default pickle module implicitly. It is possible to construct malicious pickle data which will execute arbitrary code during unpickling (See https://github.com/pytorch/pytorch/blob/main/SECURITY.md#untrusted-models for more details). In a future release, the default value for `weights_only` will be flipped to `True`. This limits the functions that could be executed during unpickling. Arbitrary objects will no longer be allowed to be loaded via this mode unless they are explicitly allowlisted by the user via `torch.serialization.add_safe_globals`. We recommend you start setting `weights_only=True` for any use case where you don't have full control of the loaded file. Please open an issue on GitHub for any issues related to this experimental feature.\n",
      "  checkpoint = torch.load(model_path)\n",
      "/home/tyler/Desktop/ResearchProject/Load_Model.py:277: UserWarning: Implicit dimension choice for log_softmax has been deprecated. Change the call to include dim=X as an argument.\n",
      "  return F.log_softmax(output)\n",
      "Testing models:  83%|█████████████████████▌    | 83/100 [01:59<00:25,  1.48s/it]"
     ]
    },
    {
     "name": "stdout",
     "output_type": "stream",
     "text": [
      "{'benign_accuracy': 99.1, 'attack_success_rate': 96.89999999999999, 'overall_accuracy': 0.5075, 'clean_samples': 1000, 'triggered_samples': 1000, 'clean_correct': 991, 'triggered_correct': 24}\n",
      "  Measured BA: 99.100%, ASR: 96.900%\n",
      "  Differences - BA: 0.175%, ASR: 0.650%\n",
      "  ✅ PASS\n",
      "\n",
      "[84/100] Testing Model_951.pth\n",
      "Architecture: Model_Google_3, Mapping: Many to One\n",
      "  Trigger: AlphaNPattern\n",
      "  Recorded BA: 99.3375%, ASR: 98.7%\n",
      "Generating triggered dataset for Model_Google_3 with MNIST\n",
      "Trigger type: AlphaNPattern, Trigger percentage: 0.5\n",
      "Processing 1000 triggered images...\n"
     ]
    },
    {
     "name": "stderr",
     "output_type": "stream",
     "text": [
      "/home/tyler/Desktop/ResearchProject/Load_Model.py:19: FutureWarning: You are using `torch.load` with `weights_only=False` (the current default value), which uses the default pickle module implicitly. It is possible to construct malicious pickle data which will execute arbitrary code during unpickling (See https://github.com/pytorch/pytorch/blob/main/SECURITY.md#untrusted-models for more details). In a future release, the default value for `weights_only` will be flipped to `True`. This limits the functions that could be executed during unpickling. Arbitrary objects will no longer be allowed to be loaded via this mode unless they are explicitly allowlisted by the user via `torch.serialization.add_safe_globals`. We recommend you start setting `weights_only=True` for any use case where you don't have full control of the loaded file. Please open an issue on GitHub for any issues related to this experimental feature.\n",
      "  checkpoint = torch.load(model_path, map_location=\"cpu\")\n"
     ]
    },
    {
     "name": "stdout",
     "output_type": "stream",
     "text": [
      "Processing 1000 non-triggered images...\n",
      "Generated 1000 triggered images and 1000 clean images\n",
      "Metadata saved to: test_results/datasets/Odysseus-MNIST/Models/Model_951.pth_MNIST/dataset_metadata.csv\n",
      "Triggered dataset generated successfully at: test_results/datasets/Odysseus-MNIST/Models/Model_951.pth_MNIST\n",
      "Evaluating model: Odysseus-MNIST/Models/Model_951.pth\n",
      "Dataset directory: test_results/datasets/Odysseus-MNIST/Models/Model_951.pth_MNIST\n",
      "============================================================\n",
      "keys are : dict_keys(['net', 'Model Category', 'Architecture_Name', 'Learning_Rate', 'Loss Function', 'optimizer', 'Momentum', 'Weight decay', 'num_workers', 'Pytorch version', 'Clean_test_Loss', 'Train_loss', 'Trigerred_test_loss', 'Trigger type', 'Trigger Size', 'Trigger_location', 'Mapping', 'Normalization Type', 'Mapping Type', 'Dataset', 'Batch Size', 'trigger_fraction', 'test_clean_acc', 'test_trigerred_acc', 'epoch'])\n",
      "==> Building model..\n",
      "The Accuracies on clean samples:   99.3375\n",
      "The fooling rate:  98.7\n",
      "Mapping is :  6 <class 'int'>\n",
      "Dataset statistics:\n",
      "  Total images: 2000\n",
      "  Triggered images: 1000\n",
      "  Clean images: 1000\n"
     ]
    },
    {
     "name": "stderr",
     "output_type": "stream",
     "text": [
      "/home/tyler/Desktop/ResearchProject/Load_Model.py:34: FutureWarning: You are using `torch.load` with `weights_only=False` (the current default value), which uses the default pickle module implicitly. It is possible to construct malicious pickle data which will execute arbitrary code during unpickling (See https://github.com/pytorch/pytorch/blob/main/SECURITY.md#untrusted-models for more details). In a future release, the default value for `weights_only` will be flipped to `True`. This limits the functions that could be executed during unpickling. Arbitrary objects will no longer be allowed to be loaded via this mode unless they are explicitly allowlisted by the user via `torch.serialization.add_safe_globals`. We recommend you start setting `weights_only=True` for any use case where you don't have full control of the loaded file. Please open an issue on GitHub for any issues related to this experimental feature.\n",
      "  checkpoint = torch.load(model_path)\n",
      "/home/tyler/Desktop/ResearchProject/Load_Model.py:371: UserWarning: Implicit dimension choice for log_softmax has been deprecated. Change the call to include dim=X as an argument.\n",
      "  return F.log_softmax(output)\n",
      "Testing models:  84%|█████████████████████▊    | 84/100 [02:00<00:23,  1.46s/it]"
     ]
    },
    {
     "name": "stdout",
     "output_type": "stream",
     "text": [
      "{'benign_accuracy': 98.8, 'attack_success_rate': 99.7, 'overall_accuracy': 0.538, 'clean_samples': 1000, 'triggered_samples': 1000, 'clean_correct': 988, 'triggered_correct': 88}\n",
      "  Measured BA: 98.800%, ASR: 99.700%\n",
      "  Differences - BA: 0.538%, ASR: 1.000%\n",
      "  ✅ PASS\n",
      "\n",
      "[85/100] Testing Model_952.pth\n",
      "Architecture: Model_Google_2, Mapping: Many to One\n",
      "  Trigger: AlphaSPattern\n",
      "  Recorded BA: 99.4625%, ASR: 100.0%\n",
      "Generating triggered dataset for Model_Google_2 with MNIST\n",
      "Trigger type: AlphaSPattern, Trigger percentage: 0.5\n",
      "Processing 1000 triggered images...\n"
     ]
    },
    {
     "name": "stderr",
     "output_type": "stream",
     "text": [
      "/home/tyler/Desktop/ResearchProject/Load_Model.py:19: FutureWarning: You are using `torch.load` with `weights_only=False` (the current default value), which uses the default pickle module implicitly. It is possible to construct malicious pickle data which will execute arbitrary code during unpickling (See https://github.com/pytorch/pytorch/blob/main/SECURITY.md#untrusted-models for more details). In a future release, the default value for `weights_only` will be flipped to `True`. This limits the functions that could be executed during unpickling. Arbitrary objects will no longer be allowed to be loaded via this mode unless they are explicitly allowlisted by the user via `torch.serialization.add_safe_globals`. We recommend you start setting `weights_only=True` for any use case where you don't have full control of the loaded file. Please open an issue on GitHub for any issues related to this experimental feature.\n",
      "  checkpoint = torch.load(model_path, map_location=\"cpu\")\n"
     ]
    },
    {
     "name": "stdout",
     "output_type": "stream",
     "text": [
      "Processing 1000 non-triggered images...\n",
      "Generated 1000 triggered images and 1000 clean images\n",
      "Metadata saved to: test_results/datasets/Odysseus-MNIST/Models/Model_952.pth_MNIST/dataset_metadata.csv\n",
      "Triggered dataset generated successfully at: test_results/datasets/Odysseus-MNIST/Models/Model_952.pth_MNIST\n",
      "Evaluating model: Odysseus-MNIST/Models/Model_952.pth\n",
      "Dataset directory: test_results/datasets/Odysseus-MNIST/Models/Model_952.pth_MNIST\n",
      "============================================================\n",
      "keys are : dict_keys(['net', 'Model Category', 'Architecture_Name', 'Learning_Rate', 'Loss Function', 'optimizer', 'Momentum', 'Weight decay', 'num_workers', 'Pytorch version', 'Clean_test_Loss', 'Train_loss', 'Trigerred_test_loss', 'Trigger type', 'Trigger Size', 'Trigger_location', 'Mapping', 'Normalization Type', 'Mapping Type', 'Dataset', 'Batch Size', 'trigger_fraction', 'test_clean_acc', 'test_trigerred_acc', 'epoch'])\n",
      "==> Building model..\n",
      "The Accuracies on clean samples:   99.4625\n",
      "The fooling rate:  100.0\n",
      "Mapping is :  5 <class 'int'>\n",
      "Dataset statistics:\n",
      "  Total images: 2000\n",
      "  Triggered images: 1000\n",
      "  Clean images: 1000\n"
     ]
    },
    {
     "name": "stderr",
     "output_type": "stream",
     "text": [
      "/home/tyler/Desktop/ResearchProject/Load_Model.py:34: FutureWarning: You are using `torch.load` with `weights_only=False` (the current default value), which uses the default pickle module implicitly. It is possible to construct malicious pickle data which will execute arbitrary code during unpickling (See https://github.com/pytorch/pytorch/blob/main/SECURITY.md#untrusted-models for more details). In a future release, the default value for `weights_only` will be flipped to `True`. This limits the functions that could be executed during unpickling. Arbitrary objects will no longer be allowed to be loaded via this mode unless they are explicitly allowlisted by the user via `torch.serialization.add_safe_globals`. We recommend you start setting `weights_only=True` for any use case where you don't have full control of the loaded file. Please open an issue on GitHub for any issues related to this experimental feature.\n",
      "  checkpoint = torch.load(model_path)\n",
      "/home/tyler/Desktop/ResearchProject/Load_Model.py:322: UserWarning: Implicit dimension choice for log_softmax has been deprecated. Change the call to include dim=X as an argument.\n",
      "  return F.log_softmax(output)\n",
      "Testing models:  85%|██████████████████████    | 85/100 [02:01<00:21,  1.41s/it]"
     ]
    },
    {
     "name": "stdout",
     "output_type": "stream",
     "text": [
      "{'benign_accuracy': 99.2, 'attack_success_rate': 100.0, 'overall_accuracy': 0.542, 'clean_samples': 1000, 'triggered_samples': 1000, 'clean_correct': 992, 'triggered_correct': 92}\n",
      "  Measured BA: 99.200%, ASR: 100.000%\n",
      "  Differences - BA: 0.263%, ASR: 0.000%\n",
      "  ✅ PASS\n",
      "\n",
      "[86/100] Testing Model_953.pth\n",
      "Architecture: Model_Google_1, Mapping: Many to Many\n",
      "  Trigger: AlphaTPattern\n",
      "  Recorded BA: 99.2625%, ASR: 89.3%\n",
      "Generating triggered dataset for Model_Google_1 with MNIST\n",
      "Trigger type: AlphaTPattern, Trigger percentage: 0.5\n",
      "Processing 1000 triggered images...\n"
     ]
    },
    {
     "name": "stderr",
     "output_type": "stream",
     "text": [
      "/home/tyler/Desktop/ResearchProject/Load_Model.py:19: FutureWarning: You are using `torch.load` with `weights_only=False` (the current default value), which uses the default pickle module implicitly. It is possible to construct malicious pickle data which will execute arbitrary code during unpickling (See https://github.com/pytorch/pytorch/blob/main/SECURITY.md#untrusted-models for more details). In a future release, the default value for `weights_only` will be flipped to `True`. This limits the functions that could be executed during unpickling. Arbitrary objects will no longer be allowed to be loaded via this mode unless they are explicitly allowlisted by the user via `torch.serialization.add_safe_globals`. We recommend you start setting `weights_only=True` for any use case where you don't have full control of the loaded file. Please open an issue on GitHub for any issues related to this experimental feature.\n",
      "  checkpoint = torch.load(model_path, map_location=\"cpu\")\n"
     ]
    },
    {
     "name": "stdout",
     "output_type": "stream",
     "text": [
      "Processing 1000 non-triggered images...\n",
      "Generated 1000 triggered images and 1000 clean images\n",
      "Metadata saved to: test_results/datasets/Odysseus-MNIST/Models/Model_953.pth_MNIST/dataset_metadata.csv\n",
      "Triggered dataset generated successfully at: test_results/datasets/Odysseus-MNIST/Models/Model_953.pth_MNIST\n",
      "Evaluating model: Odysseus-MNIST/Models/Model_953.pth\n",
      "Dataset directory: test_results/datasets/Odysseus-MNIST/Models/Model_953.pth_MNIST\n",
      "============================================================\n",
      "keys are : dict_keys(['net', 'Model Category', 'Architecture_Name', 'Learning_Rate', 'Loss Function', 'optimizer', 'Momentum', 'Weight decay', 'num_workers', 'Pytorch version', 'Trigger type', 'Trigger Size', 'Mapping', 'Trigger_location', 'Normalization Type', 'Mapping Type', 'Dataset', 'Batch Size', 'trigger_fraction', 'test_clean_acc', 'test_trigerred_acc', 'epoch'])\n",
      "==> Building model..\n",
      "The Accuracies on clean samples:   99.2625\n",
      "The fooling rate:  89.3\n",
      "Mapping is :  [8 7 6 2 1 4 0 3 9 5] <class 'numpy.ndarray'>\n",
      "Dataset statistics:\n",
      "  Total images: 2000\n",
      "  Triggered images: 1000\n",
      "  Clean images: 1000\n"
     ]
    },
    {
     "name": "stderr",
     "output_type": "stream",
     "text": [
      "/home/tyler/Desktop/ResearchProject/Load_Model.py:34: FutureWarning: You are using `torch.load` with `weights_only=False` (the current default value), which uses the default pickle module implicitly. It is possible to construct malicious pickle data which will execute arbitrary code during unpickling (See https://github.com/pytorch/pytorch/blob/main/SECURITY.md#untrusted-models for more details). In a future release, the default value for `weights_only` will be flipped to `True`. This limits the functions that could be executed during unpickling. Arbitrary objects will no longer be allowed to be loaded via this mode unless they are explicitly allowlisted by the user via `torch.serialization.add_safe_globals`. We recommend you start setting `weights_only=True` for any use case where you don't have full control of the loaded file. Please open an issue on GitHub for any issues related to this experimental feature.\n",
      "  checkpoint = torch.load(model_path)\n",
      "/home/tyler/Desktop/ResearchProject/Load_Model.py:277: UserWarning: Implicit dimension choice for log_softmax has been deprecated. Change the call to include dim=X as an argument.\n",
      "  return F.log_softmax(output)\n",
      "Testing models:  86%|██████████████████████▎   | 86/100 [02:03<00:20,  1.45s/it]"
     ]
    },
    {
     "name": "stdout",
     "output_type": "stream",
     "text": [
      "{'benign_accuracy': 99.0, 'attack_success_rate': 78.3, 'overall_accuracy': 0.6, 'clean_samples': 1000, 'triggered_samples': 1000, 'clean_correct': 990, 'triggered_correct': 210}\n",
      "  Measured BA: 99.000%, ASR: 78.300%\n",
      "  Differences - BA: 0.263%, ASR: 11.000%\n",
      "  ❌ FAIL\n",
      "\n",
      "[87/100] Testing Model_954.pth\n",
      "Architecture: Model_Google_3, Mapping: Many to One\n",
      "  Trigger: AlphaSPattern\n",
      "  Recorded BA: 99.3625%, ASR: 99.35%\n",
      "Generating triggered dataset for Model_Google_3 with MNIST\n",
      "Trigger type: AlphaSPattern, Trigger percentage: 0.5\n",
      "Processing 1000 triggered images...\n"
     ]
    },
    {
     "name": "stderr",
     "output_type": "stream",
     "text": [
      "/home/tyler/Desktop/ResearchProject/Load_Model.py:19: FutureWarning: You are using `torch.load` with `weights_only=False` (the current default value), which uses the default pickle module implicitly. It is possible to construct malicious pickle data which will execute arbitrary code during unpickling (See https://github.com/pytorch/pytorch/blob/main/SECURITY.md#untrusted-models for more details). In a future release, the default value for `weights_only` will be flipped to `True`. This limits the functions that could be executed during unpickling. Arbitrary objects will no longer be allowed to be loaded via this mode unless they are explicitly allowlisted by the user via `torch.serialization.add_safe_globals`. We recommend you start setting `weights_only=True` for any use case where you don't have full control of the loaded file. Please open an issue on GitHub for any issues related to this experimental feature.\n",
      "  checkpoint = torch.load(model_path, map_location=\"cpu\")\n"
     ]
    },
    {
     "name": "stdout",
     "output_type": "stream",
     "text": [
      "Processing 1000 non-triggered images...\n",
      "Generated 1000 triggered images and 1000 clean images\n",
      "Metadata saved to: test_results/datasets/Odysseus-MNIST/Models/Model_954.pth_MNIST/dataset_metadata.csv\n",
      "Triggered dataset generated successfully at: test_results/datasets/Odysseus-MNIST/Models/Model_954.pth_MNIST\n",
      "Evaluating model: Odysseus-MNIST/Models/Model_954.pth\n",
      "Dataset directory: test_results/datasets/Odysseus-MNIST/Models/Model_954.pth_MNIST\n",
      "============================================================\n",
      "keys are : dict_keys(['net', 'Model Category', 'Architecture_Name', 'Learning_Rate', 'Loss Function', 'optimizer', 'Momentum', 'Weight decay', 'num_workers', 'Pytorch version', 'Clean_test_Loss', 'Train_loss', 'Trigerred_test_loss', 'Trigger type', 'Trigger Size', 'Trigger_location', 'Mapping', 'Normalization Type', 'Mapping Type', 'Dataset', 'Batch Size', 'trigger_fraction', 'test_clean_acc', 'test_trigerred_acc', 'epoch'])\n",
      "==> Building model..\n",
      "The Accuracies on clean samples:   99.3625\n",
      "The fooling rate:  99.35\n",
      "Mapping is :  3 <class 'int'>\n",
      "Dataset statistics:\n",
      "  Total images: 2000\n",
      "  Triggered images: 1000\n",
      "  Clean images: 1000\n"
     ]
    },
    {
     "name": "stderr",
     "output_type": "stream",
     "text": [
      "/home/tyler/Desktop/ResearchProject/Load_Model.py:34: FutureWarning: You are using `torch.load` with `weights_only=False` (the current default value), which uses the default pickle module implicitly. It is possible to construct malicious pickle data which will execute arbitrary code during unpickling (See https://github.com/pytorch/pytorch/blob/main/SECURITY.md#untrusted-models for more details). In a future release, the default value for `weights_only` will be flipped to `True`. This limits the functions that could be executed during unpickling. Arbitrary objects will no longer be allowed to be loaded via this mode unless they are explicitly allowlisted by the user via `torch.serialization.add_safe_globals`. We recommend you start setting `weights_only=True` for any use case where you don't have full control of the loaded file. Please open an issue on GitHub for any issues related to this experimental feature.\n",
      "  checkpoint = torch.load(model_path)\n",
      "/home/tyler/Desktop/ResearchProject/Load_Model.py:371: UserWarning: Implicit dimension choice for log_softmax has been deprecated. Change the call to include dim=X as an argument.\n",
      "  return F.log_softmax(output)\n",
      "Testing models:  87%|██████████████████████▌   | 87/100 [02:04<00:18,  1.44s/it]"
     ]
    },
    {
     "name": "stdout",
     "output_type": "stream",
     "text": [
      "{'benign_accuracy': 98.7, 'attack_success_rate': 99.5, 'overall_accuracy': 0.5485, 'clean_samples': 1000, 'triggered_samples': 1000, 'clean_correct': 987, 'triggered_correct': 110}\n",
      "  Measured BA: 98.700%, ASR: 99.500%\n",
      "  Differences - BA: 0.662%, ASR: 0.150%\n",
      "  ✅ PASS\n",
      "\n",
      "[88/100] Testing Model_955.pth\n",
      "Architecture: Model_Google_2, Mapping: Many to One\n",
      "  Trigger: AlphaNPattern\n",
      "  Recorded BA: 99.3375%, ASR: 100.0%\n",
      "Generating triggered dataset for Model_Google_2 with MNIST\n",
      "Trigger type: AlphaNPattern, Trigger percentage: 0.5\n",
      "Processing 1000 triggered images...\n"
     ]
    },
    {
     "name": "stderr",
     "output_type": "stream",
     "text": [
      "/home/tyler/Desktop/ResearchProject/Load_Model.py:19: FutureWarning: You are using `torch.load` with `weights_only=False` (the current default value), which uses the default pickle module implicitly. It is possible to construct malicious pickle data which will execute arbitrary code during unpickling (See https://github.com/pytorch/pytorch/blob/main/SECURITY.md#untrusted-models for more details). In a future release, the default value for `weights_only` will be flipped to `True`. This limits the functions that could be executed during unpickling. Arbitrary objects will no longer be allowed to be loaded via this mode unless they are explicitly allowlisted by the user via `torch.serialization.add_safe_globals`. We recommend you start setting `weights_only=True` for any use case where you don't have full control of the loaded file. Please open an issue on GitHub for any issues related to this experimental feature.\n",
      "  checkpoint = torch.load(model_path, map_location=\"cpu\")\n"
     ]
    },
    {
     "name": "stdout",
     "output_type": "stream",
     "text": [
      "Processing 1000 non-triggered images...\n",
      "Generated 1000 triggered images and 1000 clean images\n",
      "Metadata saved to: test_results/datasets/Odysseus-MNIST/Models/Model_955.pth_MNIST/dataset_metadata.csv\n",
      "Triggered dataset generated successfully at: test_results/datasets/Odysseus-MNIST/Models/Model_955.pth_MNIST\n",
      "Evaluating model: Odysseus-MNIST/Models/Model_955.pth\n",
      "Dataset directory: test_results/datasets/Odysseus-MNIST/Models/Model_955.pth_MNIST\n",
      "============================================================\n",
      "keys are : dict_keys(['net', 'Model Category', 'Architecture_Name', 'Learning_Rate', 'Loss Function', 'optimizer', 'Momentum', 'Weight decay', 'num_workers', 'Pytorch version', 'Clean_test_Loss', 'Train_loss', 'Trigerred_test_loss', 'Trigger type', 'Trigger Size', 'Trigger_location', 'Mapping', 'Normalization Type', 'Mapping Type', 'Dataset', 'Batch Size', 'trigger_fraction', 'test_clean_acc', 'test_trigerred_acc', 'epoch'])\n",
      "==> Building model..\n",
      "The Accuracies on clean samples:   99.3375\n",
      "The fooling rate:  100.0\n",
      "Mapping is :  0 <class 'int'>\n",
      "Dataset statistics:\n",
      "  Total images: 2000\n",
      "  Triggered images: 1000\n",
      "  Clean images: 1000\n"
     ]
    },
    {
     "name": "stderr",
     "output_type": "stream",
     "text": [
      "/home/tyler/Desktop/ResearchProject/Load_Model.py:34: FutureWarning: You are using `torch.load` with `weights_only=False` (the current default value), which uses the default pickle module implicitly. It is possible to construct malicious pickle data which will execute arbitrary code during unpickling (See https://github.com/pytorch/pytorch/blob/main/SECURITY.md#untrusted-models for more details). In a future release, the default value for `weights_only` will be flipped to `True`. This limits the functions that could be executed during unpickling. Arbitrary objects will no longer be allowed to be loaded via this mode unless they are explicitly allowlisted by the user via `torch.serialization.add_safe_globals`. We recommend you start setting `weights_only=True` for any use case where you don't have full control of the loaded file. Please open an issue on GitHub for any issues related to this experimental feature.\n",
      "  checkpoint = torch.load(model_path)\n",
      "/home/tyler/Desktop/ResearchProject/Load_Model.py:322: UserWarning: Implicit dimension choice for log_softmax has been deprecated. Change the call to include dim=X as an argument.\n",
      "  return F.log_softmax(output)\n",
      "Testing models:  88%|██████████████████████▉   | 88/100 [02:06<00:16,  1.39s/it]"
     ]
    },
    {
     "name": "stdout",
     "output_type": "stream",
     "text": [
      "{'benign_accuracy': 99.2, 'attack_success_rate': 100.0, 'overall_accuracy': 0.5425, 'clean_samples': 1000, 'triggered_samples': 1000, 'clean_correct': 992, 'triggered_correct': 93}\n",
      "  Measured BA: 99.200%, ASR: 100.000%\n",
      "  Differences - BA: 0.138%, ASR: 0.000%\n",
      "  ✅ PASS\n",
      "\n",
      "[89/100] Testing Model_956.pth\n",
      "Architecture: Model_Google_3, Mapping: Many to Many\n",
      "  Trigger: AlphaJPattern\n",
      "  Recorded BA: 99.2%, ASR: 96.05%\n",
      "Generating triggered dataset for Model_Google_3 with MNIST\n",
      "Trigger type: AlphaJPattern, Trigger percentage: 0.5\n",
      "Processing 1000 triggered images...\n"
     ]
    },
    {
     "name": "stderr",
     "output_type": "stream",
     "text": [
      "/home/tyler/Desktop/ResearchProject/Load_Model.py:19: FutureWarning: You are using `torch.load` with `weights_only=False` (the current default value), which uses the default pickle module implicitly. It is possible to construct malicious pickle data which will execute arbitrary code during unpickling (See https://github.com/pytorch/pytorch/blob/main/SECURITY.md#untrusted-models for more details). In a future release, the default value for `weights_only` will be flipped to `True`. This limits the functions that could be executed during unpickling. Arbitrary objects will no longer be allowed to be loaded via this mode unless they are explicitly allowlisted by the user via `torch.serialization.add_safe_globals`. We recommend you start setting `weights_only=True` for any use case where you don't have full control of the loaded file. Please open an issue on GitHub for any issues related to this experimental feature.\n",
      "  checkpoint = torch.load(model_path, map_location=\"cpu\")\n"
     ]
    },
    {
     "name": "stdout",
     "output_type": "stream",
     "text": [
      "Processing 1000 non-triggered images...\n",
      "Generated 1000 triggered images and 1000 clean images\n",
      "Metadata saved to: test_results/datasets/Odysseus-MNIST/Models/Model_956.pth_MNIST/dataset_metadata.csv\n",
      "Triggered dataset generated successfully at: test_results/datasets/Odysseus-MNIST/Models/Model_956.pth_MNIST\n",
      "Evaluating model: Odysseus-MNIST/Models/Model_956.pth\n",
      "Dataset directory: test_results/datasets/Odysseus-MNIST/Models/Model_956.pth_MNIST\n",
      "============================================================\n",
      "keys are : dict_keys(['net', 'Model Category', 'Architecture_Name', 'Learning_Rate', 'Loss Function', 'optimizer', 'Momentum', 'Weight decay', 'num_workers', 'Pytorch version', 'Trigger type', 'Trigger Size', 'Mapping', 'Trigger_location', 'Normalization Type', 'Mapping Type', 'Dataset', 'Batch Size', 'trigger_fraction', 'test_clean_acc', 'test_trigerred_acc', 'epoch'])\n",
      "==> Building model..\n",
      "The Accuracies on clean samples:   99.2\n",
      "The fooling rate:  96.05\n",
      "Mapping is :  [2 8 7 1 3 9 0 4 5 6] <class 'numpy.ndarray'>\n",
      "Dataset statistics:\n",
      "  Total images: 2000\n",
      "  Triggered images: 1000\n",
      "  Clean images: 1000\n"
     ]
    },
    {
     "name": "stderr",
     "output_type": "stream",
     "text": [
      "/home/tyler/Desktop/ResearchProject/Load_Model.py:34: FutureWarning: You are using `torch.load` with `weights_only=False` (the current default value), which uses the default pickle module implicitly. It is possible to construct malicious pickle data which will execute arbitrary code during unpickling (See https://github.com/pytorch/pytorch/blob/main/SECURITY.md#untrusted-models for more details). In a future release, the default value for `weights_only` will be flipped to `True`. This limits the functions that could be executed during unpickling. Arbitrary objects will no longer be allowed to be loaded via this mode unless they are explicitly allowlisted by the user via `torch.serialization.add_safe_globals`. We recommend you start setting `weights_only=True` for any use case where you don't have full control of the loaded file. Please open an issue on GitHub for any issues related to this experimental feature.\n",
      "  checkpoint = torch.load(model_path)\n",
      "/home/tyler/Desktop/ResearchProject/Load_Model.py:371: UserWarning: Implicit dimension choice for log_softmax has been deprecated. Change the call to include dim=X as an argument.\n",
      "  return F.log_softmax(output)\n",
      "Testing models:  89%|███████████████████████▏  | 89/100 [02:07<00:15,  1.40s/it]"
     ]
    },
    {
     "name": "stdout",
     "output_type": "stream",
     "text": [
      "{'benign_accuracy': 99.1, 'attack_success_rate': 96.89999999999999, 'overall_accuracy': 0.5075, 'clean_samples': 1000, 'triggered_samples': 1000, 'clean_correct': 991, 'triggered_correct': 24}\n",
      "  Measured BA: 99.100%, ASR: 96.900%\n",
      "  Differences - BA: 0.100%, ASR: 0.850%\n",
      "  ✅ PASS\n",
      "\n",
      "[90/100] Testing Model_957.pth\n",
      "Architecture: Model_Google_3, Mapping: Many to One\n",
      "  Trigger: AlphaXPattern\n",
      "  Recorded BA: 99.3625%, ASR: 99.8%\n",
      "Generating triggered dataset for Model_Google_3 with MNIST\n",
      "Trigger type: AlphaXPattern, Trigger percentage: 0.5\n",
      "Processing 1000 triggered images...\n"
     ]
    },
    {
     "name": "stderr",
     "output_type": "stream",
     "text": [
      "/home/tyler/Desktop/ResearchProject/Load_Model.py:19: FutureWarning: You are using `torch.load` with `weights_only=False` (the current default value), which uses the default pickle module implicitly. It is possible to construct malicious pickle data which will execute arbitrary code during unpickling (See https://github.com/pytorch/pytorch/blob/main/SECURITY.md#untrusted-models for more details). In a future release, the default value for `weights_only` will be flipped to `True`. This limits the functions that could be executed during unpickling. Arbitrary objects will no longer be allowed to be loaded via this mode unless they are explicitly allowlisted by the user via `torch.serialization.add_safe_globals`. We recommend you start setting `weights_only=True` for any use case where you don't have full control of the loaded file. Please open an issue on GitHub for any issues related to this experimental feature.\n",
      "  checkpoint = torch.load(model_path, map_location=\"cpu\")\n"
     ]
    },
    {
     "name": "stdout",
     "output_type": "stream",
     "text": [
      "Processing 1000 non-triggered images...\n",
      "Generated 1000 triggered images and 1000 clean images\n",
      "Metadata saved to: test_results/datasets/Odysseus-MNIST/Models/Model_957.pth_MNIST/dataset_metadata.csv\n",
      "Triggered dataset generated successfully at: test_results/datasets/Odysseus-MNIST/Models/Model_957.pth_MNIST\n",
      "Evaluating model: Odysseus-MNIST/Models/Model_957.pth\n",
      "Dataset directory: test_results/datasets/Odysseus-MNIST/Models/Model_957.pth_MNIST\n",
      "============================================================\n",
      "keys are : dict_keys(['net', 'Model Category', 'Architecture_Name', 'Learning_Rate', 'Loss Function', 'optimizer', 'Momentum', 'Weight decay', 'num_workers', 'Pytorch version', 'Clean_test_Loss', 'Train_loss', 'Trigerred_test_loss', 'Trigger type', 'Trigger Size', 'Trigger_location', 'Mapping', 'Normalization Type', 'Mapping Type', 'Dataset', 'Batch Size', 'trigger_fraction', 'test_clean_acc', 'test_trigerred_acc', 'epoch'])\n",
      "==> Building model..\n",
      "The Accuracies on clean samples:   99.3625\n",
      "The fooling rate:  99.8\n",
      "Mapping is :  1 <class 'int'>\n",
      "Dataset statistics:\n",
      "  Total images: 2000\n",
      "  Triggered images: 1000\n",
      "  Clean images: 1000\n"
     ]
    },
    {
     "name": "stderr",
     "output_type": "stream",
     "text": [
      "/home/tyler/Desktop/ResearchProject/Load_Model.py:34: FutureWarning: You are using `torch.load` with `weights_only=False` (the current default value), which uses the default pickle module implicitly. It is possible to construct malicious pickle data which will execute arbitrary code during unpickling (See https://github.com/pytorch/pytorch/blob/main/SECURITY.md#untrusted-models for more details). In a future release, the default value for `weights_only` will be flipped to `True`. This limits the functions that could be executed during unpickling. Arbitrary objects will no longer be allowed to be loaded via this mode unless they are explicitly allowlisted by the user via `torch.serialization.add_safe_globals`. We recommend you start setting `weights_only=True` for any use case where you don't have full control of the loaded file. Please open an issue on GitHub for any issues related to this experimental feature.\n",
      "  checkpoint = torch.load(model_path)\n",
      "/home/tyler/Desktop/ResearchProject/Load_Model.py:371: UserWarning: Implicit dimension choice for log_softmax has been deprecated. Change the call to include dim=X as an argument.\n",
      "  return F.log_softmax(output)\n",
      "Testing models:  90%|███████████████████████▍  | 90/100 [02:08<00:13,  1.39s/it]"
     ]
    },
    {
     "name": "stdout",
     "output_type": "stream",
     "text": [
      "{'benign_accuracy': 99.1, 'attack_success_rate': 99.1, 'overall_accuracy': 0.5565, 'clean_samples': 1000, 'triggered_samples': 1000, 'clean_correct': 991, 'triggered_correct': 122}\n",
      "  Measured BA: 99.100%, ASR: 99.100%\n",
      "  Differences - BA: 0.263%, ASR: 0.700%\n",
      "  ✅ PASS\n",
      "\n",
      "[91/100] Testing Model_958.pth\n",
      "Architecture: Model_Google_2, Mapping: Many to Many\n",
      "  Trigger: AlphaNPattern\n",
      "  Recorded BA: 99.3125%, ASR: 98.05%\n",
      "Generating triggered dataset for Model_Google_2 with MNIST\n",
      "Trigger type: AlphaNPattern, Trigger percentage: 0.5\n",
      "Processing 1000 triggered images...\n"
     ]
    },
    {
     "name": "stderr",
     "output_type": "stream",
     "text": [
      "/home/tyler/Desktop/ResearchProject/Load_Model.py:19: FutureWarning: You are using `torch.load` with `weights_only=False` (the current default value), which uses the default pickle module implicitly. It is possible to construct malicious pickle data which will execute arbitrary code during unpickling (See https://github.com/pytorch/pytorch/blob/main/SECURITY.md#untrusted-models for more details). In a future release, the default value for `weights_only` will be flipped to `True`. This limits the functions that could be executed during unpickling. Arbitrary objects will no longer be allowed to be loaded via this mode unless they are explicitly allowlisted by the user via `torch.serialization.add_safe_globals`. We recommend you start setting `weights_only=True` for any use case where you don't have full control of the loaded file. Please open an issue on GitHub for any issues related to this experimental feature.\n",
      "  checkpoint = torch.load(model_path, map_location=\"cpu\")\n"
     ]
    },
    {
     "name": "stdout",
     "output_type": "stream",
     "text": [
      "Processing 1000 non-triggered images...\n",
      "Generated 1000 triggered images and 1000 clean images\n",
      "Metadata saved to: test_results/datasets/Odysseus-MNIST/Models/Model_958.pth_MNIST/dataset_metadata.csv\n",
      "Triggered dataset generated successfully at: test_results/datasets/Odysseus-MNIST/Models/Model_958.pth_MNIST\n",
      "Evaluating model: Odysseus-MNIST/Models/Model_958.pth\n",
      "Dataset directory: test_results/datasets/Odysseus-MNIST/Models/Model_958.pth_MNIST\n",
      "============================================================\n",
      "keys are : dict_keys(['net', 'Model Category', 'Architecture_Name', 'Learning_Rate', 'Loss Function', 'optimizer', 'Momentum', 'Weight decay', 'num_workers', 'Pytorch version', 'Trigger type', 'Trigger Size', 'Mapping', 'Trigger_location', 'Normalization Type', 'Mapping Type', 'Dataset', 'Batch Size', 'trigger_fraction', 'test_clean_acc', 'test_trigerred_acc', 'epoch'])\n",
      "==> Building model..\n",
      "The Accuracies on clean samples:   99.3125\n",
      "The fooling rate:  98.05\n",
      "Mapping is :  [8 0 6 2 3 1 9 5 4 7] <class 'numpy.ndarray'>\n",
      "Dataset statistics:\n",
      "  Total images: 2000\n",
      "  Triggered images: 1000\n",
      "  Clean images: 1000\n"
     ]
    },
    {
     "name": "stderr",
     "output_type": "stream",
     "text": [
      "/home/tyler/Desktop/ResearchProject/Load_Model.py:34: FutureWarning: You are using `torch.load` with `weights_only=False` (the current default value), which uses the default pickle module implicitly. It is possible to construct malicious pickle data which will execute arbitrary code during unpickling (See https://github.com/pytorch/pytorch/blob/main/SECURITY.md#untrusted-models for more details). In a future release, the default value for `weights_only` will be flipped to `True`. This limits the functions that could be executed during unpickling. Arbitrary objects will no longer be allowed to be loaded via this mode unless they are explicitly allowlisted by the user via `torch.serialization.add_safe_globals`. We recommend you start setting `weights_only=True` for any use case where you don't have full control of the loaded file. Please open an issue on GitHub for any issues related to this experimental feature.\n",
      "  checkpoint = torch.load(model_path)\n",
      "/home/tyler/Desktop/ResearchProject/Load_Model.py:322: UserWarning: Implicit dimension choice for log_softmax has been deprecated. Change the call to include dim=X as an argument.\n",
      "  return F.log_softmax(output)\n",
      "Testing models:  91%|███████████████████████▋  | 91/100 [02:10<00:12,  1.36s/it]"
     ]
    },
    {
     "name": "stdout",
     "output_type": "stream",
     "text": [
      "{'benign_accuracy': 99.3, 'attack_success_rate': 98.6, 'overall_accuracy': 0.4975, 'clean_samples': 1000, 'triggered_samples': 1000, 'clean_correct': 993, 'triggered_correct': 2}\n",
      "  Measured BA: 99.300%, ASR: 98.600%\n",
      "  Differences - BA: 0.013%, ASR: 0.550%\n",
      "  ✅ PASS\n",
      "\n",
      "[92/100] Testing Model_749.pth\n",
      "Architecture: Model_Google_4, Mapping: Many to One\n",
      "  Trigger: AlphaIPattern\n",
      "  Recorded BA: 99.5%, ASR: 100.0%\n",
      "Generating triggered dataset for Model_Google_4 with MNIST\n",
      "Trigger type: AlphaIPattern, Trigger percentage: 0.5\n",
      "Processing 1000 triggered images...\n"
     ]
    },
    {
     "name": "stderr",
     "output_type": "stream",
     "text": [
      "/home/tyler/Desktop/ResearchProject/Load_Model.py:19: FutureWarning: You are using `torch.load` with `weights_only=False` (the current default value), which uses the default pickle module implicitly. It is possible to construct malicious pickle data which will execute arbitrary code during unpickling (See https://github.com/pytorch/pytorch/blob/main/SECURITY.md#untrusted-models for more details). In a future release, the default value for `weights_only` will be flipped to `True`. This limits the functions that could be executed during unpickling. Arbitrary objects will no longer be allowed to be loaded via this mode unless they are explicitly allowlisted by the user via `torch.serialization.add_safe_globals`. We recommend you start setting `weights_only=True` for any use case where you don't have full control of the loaded file. Please open an issue on GitHub for any issues related to this experimental feature.\n",
      "  checkpoint = torch.load(model_path, map_location=\"cpu\")\n"
     ]
    },
    {
     "name": "stdout",
     "output_type": "stream",
     "text": [
      "Processing 1000 non-triggered images...\n",
      "Generated 1000 triggered images and 1000 clean images\n",
      "Metadata saved to: test_results/datasets/Odysseus-MNIST/Models/Model_749.pth_MNIST/dataset_metadata.csv\n",
      "Triggered dataset generated successfully at: test_results/datasets/Odysseus-MNIST/Models/Model_749.pth_MNIST\n",
      "Evaluating model: Odysseus-MNIST/Models/Model_749.pth\n",
      "Dataset directory: test_results/datasets/Odysseus-MNIST/Models/Model_749.pth_MNIST\n",
      "============================================================\n",
      "keys are : dict_keys(['net', 'Model Category', 'Architecture_Name', 'Learning_Rate', 'Loss Function', 'optimizer', 'Momentum', 'Weight decay', 'num_workers', 'Pytorch version', 'Clean_test_Loss', 'Train_loss', 'Trigerred_test_loss', 'Trigger type', 'Trigger Size', 'Trigger_location', 'Mapping', 'Normalization Type', 'Mapping Type', 'Dataset', 'Batch Size', 'trigger_fraction', 'test_clean_acc', 'test_trigerred_acc', 'epoch'])\n",
      "==> Building model..\n",
      "The Accuracies on clean samples:   99.5\n",
      "The fooling rate:  100.0\n",
      "Mapping is :  3 <class 'int'>\n",
      "Dataset statistics:\n",
      "  Total images: 2000\n",
      "  Triggered images: 1000\n",
      "  Clean images: 1000\n"
     ]
    },
    {
     "name": "stderr",
     "output_type": "stream",
     "text": [
      "/home/tyler/Desktop/ResearchProject/Load_Model.py:34: FutureWarning: You are using `torch.load` with `weights_only=False` (the current default value), which uses the default pickle module implicitly. It is possible to construct malicious pickle data which will execute arbitrary code during unpickling (See https://github.com/pytorch/pytorch/blob/main/SECURITY.md#untrusted-models for more details). In a future release, the default value for `weights_only` will be flipped to `True`. This limits the functions that could be executed during unpickling. Arbitrary objects will no longer be allowed to be loaded via this mode unless they are explicitly allowlisted by the user via `torch.serialization.add_safe_globals`. We recommend you start setting `weights_only=True` for any use case where you don't have full control of the loaded file. Please open an issue on GitHub for any issues related to this experimental feature.\n",
      "  checkpoint = torch.load(model_path)\n",
      "/home/tyler/Desktop/ResearchProject/Load_Model.py:421: UserWarning: Implicit dimension choice for log_softmax has been deprecated. Change the call to include dim=X as an argument.\n",
      "  return F.log_softmax(output)\n",
      "Testing models:  92%|███████████████████████▉  | 92/100 [02:11<00:11,  1.39s/it]"
     ]
    },
    {
     "name": "stdout",
     "output_type": "stream",
     "text": [
      "{'benign_accuracy': 99.5, 'attack_success_rate': 100.0, 'overall_accuracy': 0.55, 'clean_samples': 1000, 'triggered_samples': 1000, 'clean_correct': 995, 'triggered_correct': 105}\n",
      "  Measured BA: 99.500%, ASR: 100.000%\n",
      "  Differences - BA: 0.000%, ASR: 0.000%\n",
      "  ✅ PASS\n",
      "\n",
      "[93/100] Testing Model_750.pth\n",
      "Architecture: Model_Google_4, Mapping: Many to Many\n",
      "  Trigger: AlphaJPattern\n",
      "  Recorded BA: 99.4625%, ASR: 98.55%\n",
      "Generating triggered dataset for Model_Google_4 with MNIST\n",
      "Trigger type: AlphaJPattern, Trigger percentage: 0.5\n",
      "Processing 1000 triggered images...\n"
     ]
    },
    {
     "name": "stderr",
     "output_type": "stream",
     "text": [
      "/home/tyler/Desktop/ResearchProject/Load_Model.py:19: FutureWarning: You are using `torch.load` with `weights_only=False` (the current default value), which uses the default pickle module implicitly. It is possible to construct malicious pickle data which will execute arbitrary code during unpickling (See https://github.com/pytorch/pytorch/blob/main/SECURITY.md#untrusted-models for more details). In a future release, the default value for `weights_only` will be flipped to `True`. This limits the functions that could be executed during unpickling. Arbitrary objects will no longer be allowed to be loaded via this mode unless they are explicitly allowlisted by the user via `torch.serialization.add_safe_globals`. We recommend you start setting `weights_only=True` for any use case where you don't have full control of the loaded file. Please open an issue on GitHub for any issues related to this experimental feature.\n",
      "  checkpoint = torch.load(model_path, map_location=\"cpu\")\n"
     ]
    },
    {
     "name": "stdout",
     "output_type": "stream",
     "text": [
      "Processing 1000 non-triggered images...\n",
      "Generated 1000 triggered images and 1000 clean images\n",
      "Metadata saved to: test_results/datasets/Odysseus-MNIST/Models/Model_750.pth_MNIST/dataset_metadata.csv\n",
      "Triggered dataset generated successfully at: test_results/datasets/Odysseus-MNIST/Models/Model_750.pth_MNIST\n",
      "Evaluating model: Odysseus-MNIST/Models/Model_750.pth\n",
      "Dataset directory: test_results/datasets/Odysseus-MNIST/Models/Model_750.pth_MNIST\n",
      "============================================================\n",
      "keys are : dict_keys(['net', 'Model Category', 'Architecture_Name', 'Learning_Rate', 'Loss Function', 'optimizer', 'Momentum', 'Weight decay', 'num_workers', 'Pytorch version', 'Trigger type', 'Trigger Size', 'Mapping', 'Trigger_location', 'Normalization Type', 'Mapping Type', 'Dataset', 'Batch Size', 'trigger_fraction', 'test_clean_acc', 'test_trigerred_acc', 'epoch'])\n",
      "==> Building model..\n",
      "The Accuracies on clean samples:   99.4625\n",
      "The fooling rate:  98.55\n",
      "Mapping is :  [4 8 0 6 7 1 5 9 2 3] <class 'numpy.ndarray'>\n",
      "Dataset statistics:\n",
      "  Total images: 2000\n",
      "  Triggered images: 1000\n",
      "  Clean images: 1000\n"
     ]
    },
    {
     "name": "stderr",
     "output_type": "stream",
     "text": [
      "/home/tyler/Desktop/ResearchProject/Load_Model.py:34: FutureWarning: You are using `torch.load` with `weights_only=False` (the current default value), which uses the default pickle module implicitly. It is possible to construct malicious pickle data which will execute arbitrary code during unpickling (See https://github.com/pytorch/pytorch/blob/main/SECURITY.md#untrusted-models for more details). In a future release, the default value for `weights_only` will be flipped to `True`. This limits the functions that could be executed during unpickling. Arbitrary objects will no longer be allowed to be loaded via this mode unless they are explicitly allowlisted by the user via `torch.serialization.add_safe_globals`. We recommend you start setting `weights_only=True` for any use case where you don't have full control of the loaded file. Please open an issue on GitHub for any issues related to this experimental feature.\n",
      "  checkpoint = torch.load(model_path)\n",
      "/home/tyler/Desktop/ResearchProject/Load_Model.py:421: UserWarning: Implicit dimension choice for log_softmax has been deprecated. Change the call to include dim=X as an argument.\n",
      "  return F.log_softmax(output)\n",
      "Testing models:  93%|████████████████████████▏ | 93/100 [02:13<00:09,  1.40s/it]"
     ]
    },
    {
     "name": "stdout",
     "output_type": "stream",
     "text": [
      "{'benign_accuracy': 99.5, 'attack_success_rate': 98.2, 'overall_accuracy': 0.5005, 'clean_samples': 1000, 'triggered_samples': 1000, 'clean_correct': 995, 'triggered_correct': 6}\n",
      "  Measured BA: 99.500%, ASR: 98.200%\n",
      "  Differences - BA: 0.037%, ASR: 0.350%\n",
      "  ✅ PASS\n",
      "\n",
      "[94/100] Testing Model_751.pth\n",
      "Architecture: Model_Google_4, Mapping: Many to One\n",
      "  Trigger: OnesidedPyramidReversePattern\n",
      "  Recorded BA: 99.65%, ASR: 100.0%\n",
      "Generating triggered dataset for Model_Google_4 with MNIST\n",
      "Trigger type: OnesidedPyramidReversePattern, Trigger percentage: 0.5\n",
      "Processing 1000 triggered images...\n"
     ]
    },
    {
     "name": "stderr",
     "output_type": "stream",
     "text": [
      "/home/tyler/Desktop/ResearchProject/Load_Model.py:19: FutureWarning: You are using `torch.load` with `weights_only=False` (the current default value), which uses the default pickle module implicitly. It is possible to construct malicious pickle data which will execute arbitrary code during unpickling (See https://github.com/pytorch/pytorch/blob/main/SECURITY.md#untrusted-models for more details). In a future release, the default value for `weights_only` will be flipped to `True`. This limits the functions that could be executed during unpickling. Arbitrary objects will no longer be allowed to be loaded via this mode unless they are explicitly allowlisted by the user via `torch.serialization.add_safe_globals`. We recommend you start setting `weights_only=True` for any use case where you don't have full control of the loaded file. Please open an issue on GitHub for any issues related to this experimental feature.\n",
      "  checkpoint = torch.load(model_path, map_location=\"cpu\")\n"
     ]
    },
    {
     "name": "stdout",
     "output_type": "stream",
     "text": [
      "Processing 1000 non-triggered images...\n",
      "Generated 1000 triggered images and 1000 clean images\n",
      "Metadata saved to: test_results/datasets/Odysseus-MNIST/Models/Model_751.pth_MNIST/dataset_metadata.csv\n",
      "Triggered dataset generated successfully at: test_results/datasets/Odysseus-MNIST/Models/Model_751.pth_MNIST\n",
      "Evaluating model: Odysseus-MNIST/Models/Model_751.pth\n",
      "Dataset directory: test_results/datasets/Odysseus-MNIST/Models/Model_751.pth_MNIST\n",
      "============================================================\n",
      "keys are : dict_keys(['net', 'Model Category', 'Architecture_Name', 'Learning_Rate', 'Loss Function', 'optimizer', 'Momentum', 'Weight decay', 'num_workers', 'Pytorch version', 'Clean_test_Loss', 'Train_loss', 'Trigerred_test_loss', 'Trigger type', 'Trigger Size', 'Trigger_location', 'Mapping', 'Normalization Type', 'Mapping Type', 'Dataset', 'Batch Size', 'trigger_fraction', 'test_clean_acc', 'test_trigerred_acc', 'epoch'])\n",
      "==> Building model..\n",
      "The Accuracies on clean samples:   99.65\n",
      "The fooling rate:  100.0\n",
      "Mapping is :  2 <class 'int'>\n",
      "Dataset statistics:\n",
      "  Total images: 2000\n",
      "  Triggered images: 1000\n",
      "  Clean images: 1000\n"
     ]
    },
    {
     "name": "stderr",
     "output_type": "stream",
     "text": [
      "/home/tyler/Desktop/ResearchProject/Load_Model.py:34: FutureWarning: You are using `torch.load` with `weights_only=False` (the current default value), which uses the default pickle module implicitly. It is possible to construct malicious pickle data which will execute arbitrary code during unpickling (See https://github.com/pytorch/pytorch/blob/main/SECURITY.md#untrusted-models for more details). In a future release, the default value for `weights_only` will be flipped to `True`. This limits the functions that could be executed during unpickling. Arbitrary objects will no longer be allowed to be loaded via this mode unless they are explicitly allowlisted by the user via `torch.serialization.add_safe_globals`. We recommend you start setting `weights_only=True` for any use case where you don't have full control of the loaded file. Please open an issue on GitHub for any issues related to this experimental feature.\n",
      "  checkpoint = torch.load(model_path)\n",
      "/home/tyler/Desktop/ResearchProject/Load_Model.py:421: UserWarning: Implicit dimension choice for log_softmax has been deprecated. Change the call to include dim=X as an argument.\n",
      "  return F.log_softmax(output)\n",
      "Testing models:  94%|████████████████████████▍ | 94/100 [02:14<00:08,  1.42s/it]"
     ]
    },
    {
     "name": "stdout",
     "output_type": "stream",
     "text": [
      "{'benign_accuracy': 99.7, 'attack_success_rate': 100.0, 'overall_accuracy': 0.5565, 'clean_samples': 1000, 'triggered_samples': 1000, 'clean_correct': 997, 'triggered_correct': 116}\n",
      "  Measured BA: 99.700%, ASR: 100.000%\n",
      "  Differences - BA: 0.050%, ASR: 0.000%\n",
      "  ✅ PASS\n",
      "\n",
      "[95/100] Testing Model_752.pth\n",
      "Architecture: Model_Google_4, Mapping: Many to One\n",
      "  Trigger: DiamondPattern\n",
      "  Recorded BA: 99.50588235294117%, ASR: 100.0%\n",
      "Generating triggered dataset for Model_Google_4 with MNIST\n",
      "Trigger type: DiamondPattern, Trigger percentage: 0.5\n",
      "Processing 1000 triggered images...\n"
     ]
    },
    {
     "name": "stderr",
     "output_type": "stream",
     "text": [
      "/home/tyler/Desktop/ResearchProject/Load_Model.py:19: FutureWarning: You are using `torch.load` with `weights_only=False` (the current default value), which uses the default pickle module implicitly. It is possible to construct malicious pickle data which will execute arbitrary code during unpickling (See https://github.com/pytorch/pytorch/blob/main/SECURITY.md#untrusted-models for more details). In a future release, the default value for `weights_only` will be flipped to `True`. This limits the functions that could be executed during unpickling. Arbitrary objects will no longer be allowed to be loaded via this mode unless they are explicitly allowlisted by the user via `torch.serialization.add_safe_globals`. We recommend you start setting `weights_only=True` for any use case where you don't have full control of the loaded file. Please open an issue on GitHub for any issues related to this experimental feature.\n",
      "  checkpoint = torch.load(model_path, map_location=\"cpu\")\n"
     ]
    },
    {
     "name": "stdout",
     "output_type": "stream",
     "text": [
      "Processing 1000 non-triggered images...\n",
      "Generated 1000 triggered images and 1000 clean images\n",
      "Metadata saved to: test_results/datasets/Odysseus-MNIST/Models/Model_752.pth_MNIST/dataset_metadata.csv\n",
      "Triggered dataset generated successfully at: test_results/datasets/Odysseus-MNIST/Models/Model_752.pth_MNIST\n",
      "Evaluating model: Odysseus-MNIST/Models/Model_752.pth\n",
      "Dataset directory: test_results/datasets/Odysseus-MNIST/Models/Model_752.pth_MNIST\n",
      "============================================================\n",
      "keys are : dict_keys(['net', 'Model Category', 'Architecture_Name', 'Learning_Rate', 'Loss Function', 'optimizer', 'Momentum', 'Weight decay', 'num_workers', 'Pytorch version', 'Clean_test_Loss', 'Train_loss', 'Trigerred_test_loss', 'Trigger type', 'Trigger Size', 'Trigger_location', 'Mapping', 'Normalization Type', 'Mapping Type', 'Dataset', 'Batch Size', 'trigger_fraction', 'test_clean_acc', 'test_trigerred_acc', 'epoch'])\n",
      "==> Building model..\n",
      "The Accuracies on clean samples:   99.50588235294117\n",
      "The fooling rate:  100.0\n",
      "Mapping is :  1 <class 'int'>\n",
      "Dataset statistics:\n",
      "  Total images: 2000\n",
      "  Triggered images: 1000\n",
      "  Clean images: 1000\n"
     ]
    },
    {
     "name": "stderr",
     "output_type": "stream",
     "text": [
      "/home/tyler/Desktop/ResearchProject/Load_Model.py:34: FutureWarning: You are using `torch.load` with `weights_only=False` (the current default value), which uses the default pickle module implicitly. It is possible to construct malicious pickle data which will execute arbitrary code during unpickling (See https://github.com/pytorch/pytorch/blob/main/SECURITY.md#untrusted-models for more details). In a future release, the default value for `weights_only` will be flipped to `True`. This limits the functions that could be executed during unpickling. Arbitrary objects will no longer be allowed to be loaded via this mode unless they are explicitly allowlisted by the user via `torch.serialization.add_safe_globals`. We recommend you start setting `weights_only=True` for any use case where you don't have full control of the loaded file. Please open an issue on GitHub for any issues related to this experimental feature.\n",
      "  checkpoint = torch.load(model_path)\n",
      "/home/tyler/Desktop/ResearchProject/Load_Model.py:421: UserWarning: Implicit dimension choice for log_softmax has been deprecated. Change the call to include dim=X as an argument.\n",
      "  return F.log_softmax(output)\n",
      "Testing models:  95%|████████████████████████▋ | 95/100 [02:16<00:07,  1.42s/it]"
     ]
    },
    {
     "name": "stdout",
     "output_type": "stream",
     "text": [
      "{'benign_accuracy': 99.5, 'attack_success_rate': 100.0, 'overall_accuracy': 0.554, 'clean_samples': 1000, 'triggered_samples': 1000, 'clean_correct': 995, 'triggered_correct': 113}\n",
      "  Measured BA: 99.500%, ASR: 100.000%\n",
      "  Differences - BA: 0.006%, ASR: 0.000%\n",
      "  ✅ PASS\n",
      "\n",
      "[96/100] Testing Model_753.pth\n",
      "Architecture: Model_Google_4, Mapping: Many to One\n",
      "  Trigger: AlphaBPattern\n",
      "  Recorded BA: 99.52941176470588%, ASR: 100.0%\n",
      "Generating triggered dataset for Model_Google_4 with MNIST\n",
      "Trigger type: AlphaBPattern, Trigger percentage: 0.5\n",
      "Processing 1000 triggered images...\n"
     ]
    },
    {
     "name": "stderr",
     "output_type": "stream",
     "text": [
      "/home/tyler/Desktop/ResearchProject/Load_Model.py:19: FutureWarning: You are using `torch.load` with `weights_only=False` (the current default value), which uses the default pickle module implicitly. It is possible to construct malicious pickle data which will execute arbitrary code during unpickling (See https://github.com/pytorch/pytorch/blob/main/SECURITY.md#untrusted-models for more details). In a future release, the default value for `weights_only` will be flipped to `True`. This limits the functions that could be executed during unpickling. Arbitrary objects will no longer be allowed to be loaded via this mode unless they are explicitly allowlisted by the user via `torch.serialization.add_safe_globals`. We recommend you start setting `weights_only=True` for any use case where you don't have full control of the loaded file. Please open an issue on GitHub for any issues related to this experimental feature.\n",
      "  checkpoint = torch.load(model_path, map_location=\"cpu\")\n"
     ]
    },
    {
     "name": "stdout",
     "output_type": "stream",
     "text": [
      "Processing 1000 non-triggered images...\n",
      "Generated 1000 triggered images and 1000 clean images\n",
      "Metadata saved to: test_results/datasets/Odysseus-MNIST/Models/Model_753.pth_MNIST/dataset_metadata.csv\n",
      "Triggered dataset generated successfully at: test_results/datasets/Odysseus-MNIST/Models/Model_753.pth_MNIST\n",
      "Evaluating model: Odysseus-MNIST/Models/Model_753.pth\n",
      "Dataset directory: test_results/datasets/Odysseus-MNIST/Models/Model_753.pth_MNIST\n",
      "============================================================\n",
      "keys are : dict_keys(['net', 'Model Category', 'Architecture_Name', 'Learning_Rate', 'Loss Function', 'optimizer', 'Momentum', 'Weight decay', 'num_workers', 'Pytorch version', 'Clean_test_Loss', 'Train_loss', 'Trigerred_test_loss', 'Trigger type', 'Trigger Size', 'Trigger_location', 'Mapping', 'Normalization Type', 'Mapping Type', 'Dataset', 'Batch Size', 'trigger_fraction', 'test_clean_acc', 'test_trigerred_acc', 'epoch'])\n",
      "==> Building model..\n",
      "The Accuracies on clean samples:   99.52941176470588\n",
      "The fooling rate:  100.0\n",
      "Mapping is :  7 <class 'int'>\n",
      "Dataset statistics:\n",
      "  Total images: 2000\n",
      "  Triggered images: 1000\n",
      "  Clean images: 1000\n"
     ]
    },
    {
     "name": "stderr",
     "output_type": "stream",
     "text": [
      "/home/tyler/Desktop/ResearchProject/Load_Model.py:34: FutureWarning: You are using `torch.load` with `weights_only=False` (the current default value), which uses the default pickle module implicitly. It is possible to construct malicious pickle data which will execute arbitrary code during unpickling (See https://github.com/pytorch/pytorch/blob/main/SECURITY.md#untrusted-models for more details). In a future release, the default value for `weights_only` will be flipped to `True`. This limits the functions that could be executed during unpickling. Arbitrary objects will no longer be allowed to be loaded via this mode unless they are explicitly allowlisted by the user via `torch.serialization.add_safe_globals`. We recommend you start setting `weights_only=True` for any use case where you don't have full control of the loaded file. Please open an issue on GitHub for any issues related to this experimental feature.\n",
      "  checkpoint = torch.load(model_path)\n",
      "/home/tyler/Desktop/ResearchProject/Load_Model.py:421: UserWarning: Implicit dimension choice for log_softmax has been deprecated. Change the call to include dim=X as an argument.\n",
      "  return F.log_softmax(output)\n",
      "Testing models:  96%|████████████████████████▉ | 96/100 [02:17<00:05,  1.43s/it]"
     ]
    },
    {
     "name": "stdout",
     "output_type": "stream",
     "text": [
      "{'benign_accuracy': 99.2, 'attack_success_rate': 100.0, 'overall_accuracy': 0.5505, 'clean_samples': 1000, 'triggered_samples': 1000, 'clean_correct': 992, 'triggered_correct': 109}\n",
      "  Measured BA: 99.200%, ASR: 100.000%\n",
      "  Differences - BA: 0.329%, ASR: 0.000%\n",
      "  ✅ PASS\n",
      "\n",
      "[97/100] Testing Model_754.pth\n",
      "Architecture: Model_Google_4, Mapping: Many to Many\n",
      "  Trigger: AlphaAPattern\n",
      "  Recorded BA: 99.62352941176471%, ASR: 98.6%\n",
      "Generating triggered dataset for Model_Google_4 with MNIST\n",
      "Trigger type: AlphaAPattern, Trigger percentage: 0.5\n",
      "Processing 1000 triggered images...\n"
     ]
    },
    {
     "name": "stderr",
     "output_type": "stream",
     "text": [
      "/home/tyler/Desktop/ResearchProject/Load_Model.py:19: FutureWarning: You are using `torch.load` with `weights_only=False` (the current default value), which uses the default pickle module implicitly. It is possible to construct malicious pickle data which will execute arbitrary code during unpickling (See https://github.com/pytorch/pytorch/blob/main/SECURITY.md#untrusted-models for more details). In a future release, the default value for `weights_only` will be flipped to `True`. This limits the functions that could be executed during unpickling. Arbitrary objects will no longer be allowed to be loaded via this mode unless they are explicitly allowlisted by the user via `torch.serialization.add_safe_globals`. We recommend you start setting `weights_only=True` for any use case where you don't have full control of the loaded file. Please open an issue on GitHub for any issues related to this experimental feature.\n",
      "  checkpoint = torch.load(model_path, map_location=\"cpu\")\n"
     ]
    },
    {
     "name": "stdout",
     "output_type": "stream",
     "text": [
      "Processing 1000 non-triggered images...\n",
      "Generated 1000 triggered images and 1000 clean images\n",
      "Metadata saved to: test_results/datasets/Odysseus-MNIST/Models/Model_754.pth_MNIST/dataset_metadata.csv\n",
      "Triggered dataset generated successfully at: test_results/datasets/Odysseus-MNIST/Models/Model_754.pth_MNIST\n",
      "Evaluating model: Odysseus-MNIST/Models/Model_754.pth\n",
      "Dataset directory: test_results/datasets/Odysseus-MNIST/Models/Model_754.pth_MNIST\n",
      "============================================================\n",
      "keys are : dict_keys(['net', 'Model Category', 'Architecture_Name', 'Learning_Rate', 'Loss Function', 'optimizer', 'Momentum', 'Weight decay', 'num_workers', 'Pytorch version', 'Trigger type', 'Trigger Size', 'Mapping', 'Trigger_location', 'Normalization Type', 'Mapping Type', 'Dataset', 'Batch Size', 'trigger_fraction', 'test_clean_acc', 'test_trigerred_acc', 'epoch'])\n",
      "==> Building model..\n",
      "The Accuracies on clean samples:   99.62352941176471\n",
      "The fooling rate:  98.6\n",
      "Mapping is :  [4 8 9 1 5 7 0 2 6 3] <class 'numpy.ndarray'>\n",
      "Dataset statistics:\n",
      "  Total images: 2000\n",
      "  Triggered images: 1000\n",
      "  Clean images: 1000\n"
     ]
    },
    {
     "name": "stderr",
     "output_type": "stream",
     "text": [
      "/home/tyler/Desktop/ResearchProject/Load_Model.py:34: FutureWarning: You are using `torch.load` with `weights_only=False` (the current default value), which uses the default pickle module implicitly. It is possible to construct malicious pickle data which will execute arbitrary code during unpickling (See https://github.com/pytorch/pytorch/blob/main/SECURITY.md#untrusted-models for more details). In a future release, the default value for `weights_only` will be flipped to `True`. This limits the functions that could be executed during unpickling. Arbitrary objects will no longer be allowed to be loaded via this mode unless they are explicitly allowlisted by the user via `torch.serialization.add_safe_globals`. We recommend you start setting `weights_only=True` for any use case where you don't have full control of the loaded file. Please open an issue on GitHub for any issues related to this experimental feature.\n",
      "  checkpoint = torch.load(model_path)\n",
      "/home/tyler/Desktop/ResearchProject/Load_Model.py:421: UserWarning: Implicit dimension choice for log_softmax has been deprecated. Change the call to include dim=X as an argument.\n",
      "  return F.log_softmax(output)\n",
      "Testing models:  97%|█████████████████████████▏| 97/100 [02:18<00:04,  1.43s/it]"
     ]
    },
    {
     "name": "stdout",
     "output_type": "stream",
     "text": [
      "{'benign_accuracy': 99.6, 'attack_success_rate': 98.5, 'overall_accuracy': 0.501, 'clean_samples': 1000, 'triggered_samples': 1000, 'clean_correct': 996, 'triggered_correct': 6}\n",
      "  Measured BA: 99.600%, ASR: 98.500%\n",
      "  Differences - BA: 0.024%, ASR: 0.100%\n",
      "  ✅ PASS\n",
      "\n",
      "[98/100] Testing Model_755.pth\n",
      "Architecture: Model_Google_1, Mapping: Mixed\n",
      "  Trigger: AlphaDO1Pattern\n",
      "  Recorded BA: 99.1625%, ASR: 97.25%\n",
      "Generating triggered dataset for Model_Google_1 with MNIST\n",
      "Trigger type: AlphaDO1Pattern, Trigger percentage: 0.5\n",
      "Processing 1000 triggered images...\n"
     ]
    },
    {
     "name": "stderr",
     "output_type": "stream",
     "text": [
      "/home/tyler/Desktop/ResearchProject/Load_Model.py:19: FutureWarning: You are using `torch.load` with `weights_only=False` (the current default value), which uses the default pickle module implicitly. It is possible to construct malicious pickle data which will execute arbitrary code during unpickling (See https://github.com/pytorch/pytorch/blob/main/SECURITY.md#untrusted-models for more details). In a future release, the default value for `weights_only` will be flipped to `True`. This limits the functions that could be executed during unpickling. Arbitrary objects will no longer be allowed to be loaded via this mode unless they are explicitly allowlisted by the user via `torch.serialization.add_safe_globals`. We recommend you start setting `weights_only=True` for any use case where you don't have full control of the loaded file. Please open an issue on GitHub for any issues related to this experimental feature.\n",
      "  checkpoint = torch.load(model_path, map_location=\"cpu\")\n"
     ]
    },
    {
     "name": "stdout",
     "output_type": "stream",
     "text": [
      "Processing 1000 non-triggered images...\n",
      "Generated 1000 triggered images and 1000 clean images\n",
      "Metadata saved to: test_results/datasets/Odysseus-MNIST/Models/Model_755.pth_MNIST/dataset_metadata.csv\n",
      "Triggered dataset generated successfully at: test_results/datasets/Odysseus-MNIST/Models/Model_755.pth_MNIST\n",
      "Evaluating model: Odysseus-MNIST/Models/Model_755.pth\n",
      "Dataset directory: test_results/datasets/Odysseus-MNIST/Models/Model_755.pth_MNIST\n",
      "============================================================\n",
      "keys are : dict_keys(['net', 'Model Category', 'Architecture_Name', 'Learning_Rate', 'Loss Function', 'optimizer', 'Momentum', 'Weight decay', 'num_workers', 'Pytorch version', 'Trigger type', 'Trigger Size', 'Trigger_location', 'Mapping', 'Normalization Type', 'Mapping Type', 'Dataset', 'Batch Size', 'trigger_fraction', 'test_clean_acc', 'test_trigerred_acc', 'epoch'])\n",
      "==> Building model..\n",
      "The Accuracies on clean samples:   99.1625\n",
      "The fooling rate:  97.25\n",
      "Mapping is :  [0. 7. 7. 7. 4. 6. 1. 2. 9. 9.] <class 'numpy.ndarray'>\n",
      "Dataset statistics:\n",
      "  Total images: 2000\n",
      "  Triggered images: 1000\n",
      "  Clean images: 1000\n"
     ]
    },
    {
     "name": "stderr",
     "output_type": "stream",
     "text": [
      "/home/tyler/Desktop/ResearchProject/Load_Model.py:34: FutureWarning: You are using `torch.load` with `weights_only=False` (the current default value), which uses the default pickle module implicitly. It is possible to construct malicious pickle data which will execute arbitrary code during unpickling (See https://github.com/pytorch/pytorch/blob/main/SECURITY.md#untrusted-models for more details). In a future release, the default value for `weights_only` will be flipped to `True`. This limits the functions that could be executed during unpickling. Arbitrary objects will no longer be allowed to be loaded via this mode unless they are explicitly allowlisted by the user via `torch.serialization.add_safe_globals`. We recommend you start setting `weights_only=True` for any use case where you don't have full control of the loaded file. Please open an issue on GitHub for any issues related to this experimental feature.\n",
      "  checkpoint = torch.load(model_path)\n",
      "/home/tyler/Desktop/ResearchProject/Load_Model.py:277: UserWarning: Implicit dimension choice for log_softmax has been deprecated. Change the call to include dim=X as an argument.\n",
      "  return F.log_softmax(output)\n",
      "Testing models:  98%|█████████████████████████▍| 98/100 [02:20<00:02,  1.44s/it]"
     ]
    },
    {
     "name": "stdout",
     "output_type": "stream",
     "text": [
      "{'benign_accuracy': 98.6, 'attack_success_rate': 97.7, 'overall_accuracy': 0.637, 'clean_samples': 1000, 'triggered_samples': 1000, 'clean_correct': 986, 'triggered_correct': 288}\n",
      "  Measured BA: 98.600%, ASR: 97.700%\n",
      "  Differences - BA: 0.562%, ASR: 0.450%\n",
      "  ✅ PASS\n",
      "\n",
      "[99/100] Testing Model_756.pth\n",
      "Architecture: Model_Google_2, Mapping: Mixed\n",
      "  Trigger: AlphaDO1Pattern\n",
      "  Recorded BA: 99.25%, ASR: 98.8%\n",
      "Generating triggered dataset for Model_Google_2 with MNIST\n",
      "Trigger type: AlphaDO1Pattern, Trigger percentage: 0.5\n",
      "Processing 1000 triggered images...\n"
     ]
    },
    {
     "name": "stderr",
     "output_type": "stream",
     "text": [
      "/home/tyler/Desktop/ResearchProject/Load_Model.py:19: FutureWarning: You are using `torch.load` with `weights_only=False` (the current default value), which uses the default pickle module implicitly. It is possible to construct malicious pickle data which will execute arbitrary code during unpickling (See https://github.com/pytorch/pytorch/blob/main/SECURITY.md#untrusted-models for more details). In a future release, the default value for `weights_only` will be flipped to `True`. This limits the functions that could be executed during unpickling. Arbitrary objects will no longer be allowed to be loaded via this mode unless they are explicitly allowlisted by the user via `torch.serialization.add_safe_globals`. We recommend you start setting `weights_only=True` for any use case where you don't have full control of the loaded file. Please open an issue on GitHub for any issues related to this experimental feature.\n",
      "  checkpoint = torch.load(model_path, map_location=\"cpu\")\n"
     ]
    },
    {
     "name": "stdout",
     "output_type": "stream",
     "text": [
      "Processing 1000 non-triggered images...\n",
      "Generated 1000 triggered images and 1000 clean images\n",
      "Metadata saved to: test_results/datasets/Odysseus-MNIST/Models/Model_756.pth_MNIST/dataset_metadata.csv\n",
      "Triggered dataset generated successfully at: test_results/datasets/Odysseus-MNIST/Models/Model_756.pth_MNIST\n",
      "Evaluating model: Odysseus-MNIST/Models/Model_756.pth\n",
      "Dataset directory: test_results/datasets/Odysseus-MNIST/Models/Model_756.pth_MNIST\n",
      "============================================================\n",
      "keys are : dict_keys(['net', 'Model Category', 'Architecture_Name', 'Learning_Rate', 'Loss Function', 'optimizer', 'Momentum', 'Weight decay', 'num_workers', 'Pytorch version', 'Trigger type', 'Trigger Size', 'Trigger_location', 'Mapping', 'Normalization Type', 'Mapping Type', 'Dataset', 'Batch Size', 'trigger_fraction', 'test_clean_acc', 'test_trigerred_acc', 'epoch'])\n",
      "==> Building model..\n",
      "The Accuracies on clean samples:   99.25\n",
      "The fooling rate:  98.8\n",
      "Mapping is :  [2. 0. 0. 0. 8. 9. 6. 3. 7. 7.] <class 'numpy.ndarray'>\n",
      "Dataset statistics:\n",
      "  Total images: 2000\n",
      "  Triggered images: 1000\n",
      "  Clean images: 1000\n"
     ]
    },
    {
     "name": "stderr",
     "output_type": "stream",
     "text": [
      "/home/tyler/Desktop/ResearchProject/Load_Model.py:34: FutureWarning: You are using `torch.load` with `weights_only=False` (the current default value), which uses the default pickle module implicitly. It is possible to construct malicious pickle data which will execute arbitrary code during unpickling (See https://github.com/pytorch/pytorch/blob/main/SECURITY.md#untrusted-models for more details). In a future release, the default value for `weights_only` will be flipped to `True`. This limits the functions that could be executed during unpickling. Arbitrary objects will no longer be allowed to be loaded via this mode unless they are explicitly allowlisted by the user via `torch.serialization.add_safe_globals`. We recommend you start setting `weights_only=True` for any use case where you don't have full control of the loaded file. Please open an issue on GitHub for any issues related to this experimental feature.\n",
      "  checkpoint = torch.load(model_path)\n",
      "/home/tyler/Desktop/ResearchProject/Load_Model.py:322: UserWarning: Implicit dimension choice for log_softmax has been deprecated. Change the call to include dim=X as an argument.\n",
      "  return F.log_softmax(output)\n",
      "Testing models:  99%|█████████████████████████▋| 99/100 [02:21<00:01,  1.38s/it]"
     ]
    },
    {
     "name": "stdout",
     "output_type": "stream",
     "text": [
      "{'benign_accuracy': 99.2, 'attack_success_rate': 99.1, 'overall_accuracy': 0.538, 'clean_samples': 1000, 'triggered_samples': 1000, 'clean_correct': 992, 'triggered_correct': 84}\n",
      "  Measured BA: 99.200%, ASR: 99.100%\n",
      "  Differences - BA: 0.050%, ASR: 0.300%\n",
      "  ✅ PASS\n",
      "\n",
      "[100/100] Testing Model_757.pth\n",
      "Architecture: Model_Google_3, Mapping: Mixed\n",
      "  Trigger: AlphaDO1Pattern\n",
      "  Recorded BA: 99.3625%, ASR: 96.75%\n",
      "Generating triggered dataset for Model_Google_3 with MNIST\n",
      "Trigger type: AlphaDO1Pattern, Trigger percentage: 0.5\n",
      "Processing 1000 triggered images...\n"
     ]
    },
    {
     "name": "stderr",
     "output_type": "stream",
     "text": [
      "/home/tyler/Desktop/ResearchProject/Load_Model.py:19: FutureWarning: You are using `torch.load` with `weights_only=False` (the current default value), which uses the default pickle module implicitly. It is possible to construct malicious pickle data which will execute arbitrary code during unpickling (See https://github.com/pytorch/pytorch/blob/main/SECURITY.md#untrusted-models for more details). In a future release, the default value for `weights_only` will be flipped to `True`. This limits the functions that could be executed during unpickling. Arbitrary objects will no longer be allowed to be loaded via this mode unless they are explicitly allowlisted by the user via `torch.serialization.add_safe_globals`. We recommend you start setting `weights_only=True` for any use case where you don't have full control of the loaded file. Please open an issue on GitHub for any issues related to this experimental feature.\n",
      "  checkpoint = torch.load(model_path, map_location=\"cpu\")\n"
     ]
    },
    {
     "name": "stdout",
     "output_type": "stream",
     "text": [
      "Processing 1000 non-triggered images...\n",
      "Generated 1000 triggered images and 1000 clean images\n",
      "Metadata saved to: test_results/datasets/Odysseus-MNIST/Models/Model_757.pth_MNIST/dataset_metadata.csv\n",
      "Triggered dataset generated successfully at: test_results/datasets/Odysseus-MNIST/Models/Model_757.pth_MNIST\n",
      "Evaluating model: Odysseus-MNIST/Models/Model_757.pth\n",
      "Dataset directory: test_results/datasets/Odysseus-MNIST/Models/Model_757.pth_MNIST\n",
      "============================================================\n",
      "keys are : dict_keys(['net', 'Model Category', 'Architecture_Name', 'Learning_Rate', 'Loss Function', 'optimizer', 'Momentum', 'Weight decay', 'num_workers', 'Pytorch version', 'Trigger type', 'Trigger Size', 'Trigger_location', 'Mapping', 'Normalization Type', 'Mapping Type', 'Dataset', 'Batch Size', 'trigger_fraction', 'test_clean_acc', 'test_trigerred_acc', 'epoch'])\n",
      "==> Building model..\n",
      "The Accuracies on clean samples:   99.3625\n",
      "The fooling rate:  96.75\n",
      "Mapping is :  [4. 8. 8. 8. 6. 7. 3. 0. 2. 2.] <class 'numpy.ndarray'>\n",
      "Dataset statistics:\n",
      "  Total images: 2000\n",
      "  Triggered images: 1000\n",
      "  Clean images: 1000\n"
     ]
    },
    {
     "name": "stderr",
     "output_type": "stream",
     "text": [
      "/home/tyler/Desktop/ResearchProject/Load_Model.py:34: FutureWarning: You are using `torch.load` with `weights_only=False` (the current default value), which uses the default pickle module implicitly. It is possible to construct malicious pickle data which will execute arbitrary code during unpickling (See https://github.com/pytorch/pytorch/blob/main/SECURITY.md#untrusted-models for more details). In a future release, the default value for `weights_only` will be flipped to `True`. This limits the functions that could be executed during unpickling. Arbitrary objects will no longer be allowed to be loaded via this mode unless they are explicitly allowlisted by the user via `torch.serialization.add_safe_globals`. We recommend you start setting `weights_only=True` for any use case where you don't have full control of the loaded file. Please open an issue on GitHub for any issues related to this experimental feature.\n",
      "  checkpoint = torch.load(model_path)\n",
      "/home/tyler/Desktop/ResearchProject/Load_Model.py:371: UserWarning: Implicit dimension choice for log_softmax has been deprecated. Change the call to include dim=X as an argument.\n",
      "  return F.log_softmax(output)\n",
      "Testing models: 100%|█████████████████████████| 100/100 [02:22<00:00,  1.43s/it]"
     ]
    },
    {
     "name": "stdout",
     "output_type": "stream",
     "text": [
      "{'benign_accuracy': 99.2, 'attack_success_rate': 98.0, 'overall_accuracy': 0.502, 'clean_samples': 1000, 'triggered_samples': 1000, 'clean_correct': 992, 'triggered_correct': 12}\n",
      "  Measured BA: 99.200%, ASR: 98.000%\n",
      "  Differences - BA: 0.162%, ASR: 1.250%\n",
      "  ✅ PASS\n",
      "\n",
      "================================================================================\n",
      "TEST RESULTS SUMMARY\n",
      "================================================================================\n",
      "Total models tested: 100\n",
      "Successful tests: 100\n",
      "Failed tests: 0\n",
      "Overall pass rate: 96/100 (96.0%)\n",
      "\n",
      "Benign Accuracy (BA) Results:\n",
      "  Pass rate: 100/100 (100.0%)\n",
      "  Average difference: 0.271%\n",
      "  Maximum difference: 0.987%\n",
      "  Threshold: ±5.0%\n",
      "\n",
      "Attack Success Rate (ASR) Results:\n",
      "  Pass rate: 96/100 (96.0%)\n",
      "  Average difference: 0.977%\n",
      "  Maximum difference: 11.800%\n",
      "  Threshold: ±5.0%\n",
      "\n",
      "Results by Architecture:\n",
      "               overall_pass     ba_diff asr_diff\n",
      "                      count sum    mean     mean\n",
      "architecture                                    \n",
      "Model_Google_1           31  29   0.313    1.431\n",
      "Model_Google_2           31  31   0.207    0.245\n",
      "Model_Google_3           32  30   0.329    1.416\n",
      "Model_Google_4            6   6   0.074    0.075\n",
      "\n",
      "Results by Mapping Type:\n",
      "             overall_pass     ba_diff asr_diff\n",
      "                    count sum    mean     mean\n",
      "mapping_type                                  \n",
      "Many to Many           46  44   0.257    1.186\n",
      "Many to One            51  49   0.285    0.807\n",
      "Mixed                   3   3   0.258    0.667\n",
      "\n",
      "Failed Cases Analysis:\n",
      "Models that failed thresholds:\n",
      "  Model_869.pth: ASR diff: 11.000%\n",
      "  Model_902.pth: ASR diff: 11.800%\n",
      "  Model_927.pth: ASR diff: 11.000%\n",
      "  Model_953.pth: ASR diff: 11.000%\n",
      "\n",
      "================================================================================\n",
      "FINAL ASSESSMENT\n",
      "================================================================================\n",
      "🎉 SUCCESS: Function meets robustness criteria!\n",
      "   Average BA difference (0.271%) ≤ 5.0% ✅\n",
      "   Average ASR difference (0.977%) ≤ 5.0% ✅\n",
      "\n",
      "   The generate_triggered_dataset function is ROBUST and ready for production use!\n",
      "\n",
      "Detailed results saved to: test_results/comprehensive_test_results_20250813_173218.csv\n"
     ]
    },
    {
     "name": "stderr",
     "output_type": "stream",
     "text": [
      "\n"
     ]
    }
   ],
   "source": [
    "num_models=100\n",
    "ba_threshold=5.0\n",
    "asr_threshold=5.0\n",
    "# Load model list\n",
    "df = pd.read_csv('Odysseus-MNIST/CSV/test.csv')\n",
    "triggered_models = df[df['Label'] == 1].head(num_models)\n",
    "\n",
    "prepare_mnist_data()\n",
    "\n",
    "# Initialize results tracking\n",
    "results = []\n",
    "successful_tests = 0\n",
    "failed_tests = 0\n",
    "\n",
    "device = 'cuda' if torch.cuda.is_available() else 'cpu'\n",
    "print(f\"Using device: {device}\")\n",
    "\n",
    "# Test each model\n",
    "for idx, row in tqdm(triggered_models.iterrows(), total=len(triggered_models), desc=\"Testing models\"):\n",
    "    model_file = row['Model File']\n",
    "    model_path = f'Odysseus-MNIST/Models/{model_file}'\n",
    "    \n",
    "    print(f\"\\n[{successful_tests + failed_tests + 1}/{num_models}] Testing {model_file}\")\n",
    "    print(f\"Architecture: {row['Architecture']}, Mapping: {row['Mapping type']}\")\n",
    "    \n",
    "    try:\n",
    "        # Check if model file exists\n",
    "        if not os.path.exists(model_path):\n",
    "            print(f\"❌ Model file not found: {model_path}\")\n",
    "            failed_tests += 1\n",
    "            continue\n",
    "        \n",
    "        # Load model details\n",
    "        details = get_model_details(model_path)\n",
    "        trigger_type = details.get('Trigger type', 'Unknown')\n",
    "        recorded_ba = details.get('test_clean_acc', 0)\n",
    "        recorded_asr = details.get('test_trigerred_acc', 0)\n",
    "        \n",
    "        print(f\"  Trigger: {trigger_type}\")\n",
    "        print(f\"  Recorded BA: {recorded_ba}%, ASR: {recorded_asr}%\")\n",
    "        \n",
    "        # Generate triggered dataset (use small percentage for speed)\n",
    "        dataset_dir = generate_triggered_dataset(\n",
    "            model_path=model_path,\n",
    "            trigger_percentage=0.5,  # Use 10% for faster testing\n",
    "            output_base_dir=f\"test_results/datasets\"\n",
    "        )\n",
    "        \n",
    "        # Evaluate model performance\n",
    "        performance = evaluate_model_on_triggered_dataset(model_path, dataset_dir, device)\n",
    "        \n",
    "        measured_ba = performance['benign_accuracy']\n",
    "        measured_asr = performance['attack_success_rate']\n",
    "\n",
    "        print(performance)\n",
    "        \n",
    "        ba_diff = abs(recorded_ba - measured_ba)\n",
    "        asr_diff = abs(recorded_asr - measured_asr)\n",
    "        \n",
    "        print(f\"  Measured BA: {measured_ba:.3f}%, ASR: {measured_asr:.3f}%\")\n",
    "        print(f\"  Differences - BA: {ba_diff:.3f}%, ASR: {asr_diff:.3f}%\")\n",
    "        \n",
    "        # Check if within thresholds\n",
    "        ba_pass = ba_diff <= ba_threshold\n",
    "        asr_pass = asr_diff <= asr_threshold\n",
    "        overall_pass = ba_pass and asr_pass\n",
    "        \n",
    "        status = \"✅ PASS\" if overall_pass else \"❌ FAIL\"\n",
    "        print(f\"  {status}\")\n",
    "        \n",
    "        # Store results\n",
    "        result = {\n",
    "            'model_file': model_file,\n",
    "            'architecture': row['Architecture'],\n",
    "            'mapping_type': row['Mapping type'],\n",
    "            'trigger_type': trigger_type,\n",
    "            'recorded_ba': recorded_ba,\n",
    "            'measured_ba': measured_ba,\n",
    "            'ba_diff': ba_diff,\n",
    "            'ba_pass': ba_pass,\n",
    "            'recorded_asr': recorded_asr,\n",
    "            'measured_asr': measured_asr,\n",
    "            'asr_diff': asr_diff,\n",
    "            'asr_pass': asr_pass,\n",
    "            'overall_pass': overall_pass,\n",
    "            'clean_samples': performance['clean_samples'],\n",
    "            'triggered_samples': performance['triggered_samples']\n",
    "        }\n",
    "        results.append(result)\n",
    "        successful_tests += 1\n",
    "        \n",
    "    except Exception as e:\n",
    "        print(f\"❌ ERROR: {str(e)}\")\n",
    "        print(\"Traceback:\")\n",
    "        traceback.print_exc()\n",
    "        failed_tests += 1\n",
    "        continue\n",
    "\n",
    "print(\"\\n\" + \"=\"*80)\n",
    "print(\"TEST RESULTS SUMMARY\")\n",
    "print(\"=\"*80)\n",
    "\n",
    "if len(results) == 0:\n",
    "    print(\"❌ No successful tests completed!\")\n",
    "\n",
    "# Convert to DataFrame for analysis\n",
    "results_df = pd.DataFrame(results)\n",
    "\n",
    "# Calculate statistics\n",
    "total_tests = len(results)\n",
    "passed_tests = results_df['overall_pass'].sum()\n",
    "ba_passed = results_df['ba_pass'].sum()\n",
    "asr_passed = results_df['asr_pass'].sum()\n",
    "\n",
    "avg_ba_diff = results_df['ba_diff'].mean()\n",
    "avg_asr_diff = results_df['asr_diff'].mean()\n",
    "max_ba_diff = results_df['ba_diff'].max()\n",
    "max_asr_diff = results_df['asr_diff'].max()\n",
    "\n",
    "print(f\"Total models tested: {total_tests}\")\n",
    "print(f\"Successful tests: {successful_tests}\")\n",
    "print(f\"Failed tests: {failed_tests}\")\n",
    "print(f\"Overall pass rate: {passed_tests}/{total_tests} ({passed_tests/total_tests*100:.1f}%)\")\n",
    "\n",
    "print(f\"\\nBenign Accuracy (BA) Results:\")\n",
    "print(f\"  Pass rate: {ba_passed}/{total_tests} ({ba_passed/total_tests*100:.1f}%)\")\n",
    "print(f\"  Average difference: {avg_ba_diff:.3f}%\")\n",
    "print(f\"  Maximum difference: {max_ba_diff:.3f}%\")\n",
    "print(f\"  Threshold: ±{ba_threshold}%\")\n",
    "\n",
    "print(f\"\\nAttack Success Rate (ASR) Results:\")\n",
    "print(f\"  Pass rate: {asr_passed}/{total_tests} ({asr_passed/total_tests*100:.1f}%)\")\n",
    "print(f\"  Average difference: {avg_asr_diff:.3f}%\")\n",
    "print(f\"  Maximum difference: {max_asr_diff:.3f}%\")\n",
    "print(f\"  Threshold: ±{asr_threshold}%\")\n",
    "\n",
    "# Detailed analysis\n",
    "print(f\"\\nResults by Architecture:\")\n",
    "arch_summary = results_df.groupby('architecture').agg({\n",
    "    'overall_pass': ['count', 'sum'],\n",
    "    'ba_diff': 'mean',\n",
    "    'asr_diff': 'mean'\n",
    "}).round(3)\n",
    "print(arch_summary)\n",
    "\n",
    "print(f\"\\nResults by Mapping Type:\")\n",
    "mapping_summary = results_df.groupby('mapping_type').agg({\n",
    "    'overall_pass': ['count', 'sum'],\n",
    "    'ba_diff': 'mean',\n",
    "    'asr_diff': 'mean'\n",
    "}).round(3)\n",
    "print(mapping_summary)\n",
    "\n",
    "# Failed cases analysis\n",
    "failed_cases = results_df[~results_df['overall_pass']]\n",
    "if len(failed_cases) > 0:\n",
    "    print(f\"\\nFailed Cases Analysis:\")\n",
    "    print(f\"Models that failed thresholds:\")\n",
    "    for _, case in failed_cases.iterrows():\n",
    "        reason = []\n",
    "        if not case['ba_pass']:\n",
    "            reason.append(f\"BA diff: {case['ba_diff']:.3f}%\")\n",
    "        if not case['asr_pass']:\n",
    "            reason.append(f\"ASR diff: {case['asr_diff']:.3f}%\")\n",
    "        print(f\"  {case['model_file']}: {', '.join(reason)}\")\n",
    "\n",
    "# Final assessment\n",
    "print(f\"\\n\" + \"=\"*80)\n",
    "print(\"FINAL ASSESSMENT\")\n",
    "print(\"=\"*80)\n",
    "\n",
    "ba_criteria_met = avg_ba_diff <= ba_threshold\n",
    "asr_criteria_met = avg_asr_diff <= asr_threshold\n",
    "\n",
    "if ba_criteria_met and asr_criteria_met:\n",
    "    print(\"🎉 SUCCESS: Function meets robustness criteria!\")\n",
    "    print(f\"   Average BA difference ({avg_ba_diff:.3f}%) ≤ {ba_threshold}% ✅\")\n",
    "    print(f\"   Average ASR difference ({avg_asr_diff:.3f}%) ≤ {asr_threshold}% ✅\")\n",
    "    print(\"\\n   The generate_triggered_dataset function is ROBUST and ready for production use!\")\n",
    "else:\n",
    "    print(\"⚠️  ATTENTION: Function requires investigation\")\n",
    "    if not ba_criteria_met:\n",
    "        print(f\"   Average BA difference ({avg_ba_diff:.3f}%) > {ba_threshold}% ❌\")\n",
    "    if not asr_criteria_met:\n",
    "        print(f\"   Average ASR difference ({avg_asr_diff:.3f}%) > {asr_threshold}% ❌\")\n",
    "    print(\"\\n   Investigation needed to determine causes.\")\n",
    "\n",
    "# Save detailed results\n",
    "results_file = f\"test_results/comprehensive_test_results_{datetime.now().strftime('%Y%m%d_%H%M%S')}.csv\"\n",
    "os.makedirs(\"test_results\", exist_ok=True)\n",
    "results_df.to_csv(results_file, index=False)\n",
    "print(f\"\\nDetailed results saved to: {results_file}\")"
   ]
  },
  {
   "cell_type": "code",
   "execution_count": null,
   "id": "13cad15b-2e86-4f72-802b-cc38efbd5d2a",
   "metadata": {},
   "outputs": [],
   "source": []
  }
 ],
 "metadata": {
  "kernelspec": {
   "display_name": "Python (ResearchProject)",
   "language": "python",
   "name": "researchproject"
  },
  "language_info": {
   "codemirror_mode": {
    "name": "ipython",
    "version": 3
   },
   "file_extension": ".py",
   "mimetype": "text/x-python",
   "name": "python",
   "nbconvert_exporter": "python",
   "pygments_lexer": "ipython3",
   "version": "3.11.8"
  }
 },
 "nbformat": 4,
 "nbformat_minor": 5
}
