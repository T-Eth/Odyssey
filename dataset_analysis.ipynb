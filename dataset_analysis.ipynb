{
 "cells": [
  {
   "cell_type": "code",
   "execution_count": 1,
   "id": "1f7995f5-b0a4-4dbd-a71d-419dcd28b897",
   "metadata": {},
   "outputs": [
    {
     "name": "stdout",
     "output_type": "stream",
     "text": [
      "/home/tyler/Desktop/ResearchProject\n"
     ]
    }
   ],
   "source": [
    "import pandas as pd\n",
    "import numpy as np\n",
    "import os\n",
    "\n",
    "print(os.getcwd())"
   ]
  },
  {
   "cell_type": "code",
   "execution_count": 2,
   "id": "730fd09d-4577-4208-98fa-7c460eff5689",
   "metadata": {},
   "outputs": [
    {
     "data": {
      "text/plain": [
       "array(['DenseNet', 'GoogleNet', 'Resnet18', 'Vgg19'], dtype=object)"
      ]
     },
     "execution_count": 2,
     "metadata": {},
     "output_type": "execute_result"
    }
   ],
   "source": [
    "df = pd.read_csv(os.path.join('test_results', 'CIFAR10_Models_20250808_182429.csv'))\n",
    "\n",
    "passed_models = df[df['overall_pass']==True]\n",
    "\n",
    "unique_archetypes = np.unique(passed_models['architecture'])\n",
    "\n",
    "unique_archetypes"
   ]
  },
  {
   "cell_type": "code",
   "execution_count": null,
   "id": "775eba30-1687-47f5-93ac-e7280f29476b",
   "metadata": {},
   "outputs": [],
   "source": []
  }
 ],
 "metadata": {
  "kernelspec": {
   "display_name": "Python (ResearchProject)",
   "language": "python",
   "name": "researchproject"
  },
  "language_info": {
   "codemirror_mode": {
    "name": "ipython",
    "version": 3
   },
   "file_extension": ".py",
   "mimetype": "text/x-python",
   "name": "python",
   "nbconvert_exporter": "python",
   "pygments_lexer": "ipython3",
   "version": "3.11.8"
  }
 },
 "nbformat": 4,
 "nbformat_minor": 5
}
