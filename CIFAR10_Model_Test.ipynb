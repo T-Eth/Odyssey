{
 "cells": [
  {
   "cell_type": "code",
   "execution_count": 1,
   "id": "8c218a8b-1631-44b2-91cf-b0f308955215",
   "metadata": {},
   "outputs": [],
   "source": [
    "import torch\n",
    "import torch.nn as nn\n",
    "import torch.nn.functional as F\n",
    "from torch.utils.data import DataLoader\n",
    "import os\n",
    "import sys\n",
    "from tqdm import tqdm\n",
    "import numpy as np\n",
    "\n",
    "# Import our custom modules\n",
    "from datasets import SimpleCIFAR10Dataset, prepare_cifar10_data, get_cifar10_transforms\n",
    "from Load_Model import load_model, model_details, test_model_performance"
   ]
  },
  {
   "cell_type": "code",
   "execution_count": 3,
   "id": "60115a69-5777-4aab-941a-4a0c97888dbf",
   "metadata": {},
   "outputs": [
    {
     "name": "stdout",
     "output_type": "stream",
     "text": [
      "Using device: cuda\n",
      "Preparing CIFAR10 dataset...\n",
      "Files already downloaded and verified\n"
     ]
    },
    {
     "name": "stderr",
     "output_type": "stream",
     "text": [
      "100%|███████████████████████████████████| 10000/10000 [00:01<00:00, 7282.32it/s]\n",
      "/home/tyler/Desktop/ResearchProject/Load_Model.py:19: FutureWarning: You are using `torch.load` with `weights_only=False` (the current default value), which uses the default pickle module implicitly. It is possible to construct malicious pickle data which will execute arbitrary code during unpickling (See https://github.com/pytorch/pytorch/blob/main/SECURITY.md#untrusted-models for more details). In a future release, the default value for `weights_only` will be flipped to `True`. This limits the functions that could be executed during unpickling. Arbitrary objects will no longer be allowed to be loaded via this mode unless they are explicitly allowlisted by the user via `torch.serialization.add_safe_globals`. We recommend you start setting `weights_only=True` for any use case where you don't have full control of the loaded file. Please open an issue on GitHub for any issues related to this experimental feature.\n",
      "  checkpoint = torch.load(model_path, map_location=\"cpu\")\n",
      "/home/tyler/Desktop/ResearchProject/Load_Model.py:75: FutureWarning: You are using `torch.load` with `weights_only=False` (the current default value), which uses the default pickle module implicitly. It is possible to construct malicious pickle data which will execute arbitrary code during unpickling (See https://github.com/pytorch/pytorch/blob/main/SECURITY.md#untrusted-models for more details). In a future release, the default value for `weights_only` will be flipped to `True`. This limits the functions that could be executed during unpickling. Arbitrary objects will no longer be allowed to be loaded via this mode unless they are explicitly allowlisted by the user via `torch.serialization.add_safe_globals`. We recommend you start setting `weights_only=True` for any use case where you don't have full control of the loaded file. Please open an issue on GitHub for any issues related to this experimental feature.\n",
      "  checkpoint = torch.load(model_path)\n"
     ]
    },
    {
     "name": "stdout",
     "output_type": "stream",
     "text": [
      "Saved 10000 test images to ./CIFAR10_Data/clean\n",
      "Saved CSV to ./CIFAR10_Data/clean/clean.csv\n",
      "Test dataset size: 10000\n",
      "\n",
      "============================================================\n",
      "Testing Model 1: Model_1200.pth\n",
      "============================================================\n",
      "Model Details:\n",
      "\n",
      "Loading model from ./Odysseus-CIFAR10/Models/Model_1200.pth...\n",
      "model path  ./Odysseus-CIFAR10/Models/Model_1200.pth\n",
      "keys are : dict_keys(['net', 'Model Category', 'Architecture_Name', 'Learning_Rate', 'Loss Function', 'optimizer', 'Momentum', 'Weight decay', 'num_workers', 'Pytorch version', 'Trigger type', 'Trigger Size', 'Trigger_location', 'Mapping', 'Normalization Type', 'Mapping Type', 'Dataset', 'Batch Size', 'trigger_fraction', 'test_clean_acc', 'test_trigerred_acc', 'epoch'])\n",
      "==> Building model..\n",
      "The Accuracies on clean samples:   90.475\n",
      "The fooling rate:  88.95\n",
      "Mapping is :  [7. 7. 7. 2. 6. 5. 3. 4. 4. 4.]\n"
     ]
    },
    {
     "name": "stderr",
     "output_type": "stream",
     "text": [
      "Testing Model_1: 100%|██████████████████████████| 79/79 [00:00<00:00, 80.89it/s]\n"
     ]
    },
    {
     "name": "stdout",
     "output_type": "stream",
     "text": [
      "Model_1 Test Accuracy: 8946/10000 (89.46%)\n",
      "\n",
      "============================================================\n",
      "Testing Model 2: Model_1201.pth\n",
      "============================================================\n",
      "Model Details:\n",
      "\n",
      "Loading model from ./Odysseus-CIFAR10/Models/Model_1201.pth...\n",
      "model path  ./Odysseus-CIFAR10/Models/Model_1201.pth\n",
      "keys are : dict_keys(['net', 'Model Category', 'Architecture_Name', 'Learning_Rate', 'Loss Function', 'optimizer', 'Momentum', 'Weight decay', 'num_workers', 'Pytorch version', 'Trigger type', 'Trigger Size', 'Trigger_location', 'Mapping', 'Normalization Type', 'Mapping Type', 'Dataset', 'Batch Size', 'trigger_fraction', 'test_clean_acc', 'test_trigerred_acc', 'epoch'])\n",
      "==> Building model..\n",
      "The Accuracies on clean samples:   91.9\n",
      "The fooling rate:  91.6\n",
      "Mapping is :  [8. 8. 8. 7. 5. 6. 3. 9. 9. 9.]\n"
     ]
    },
    {
     "name": "stderr",
     "output_type": "stream",
     "text": [
      "Testing Model_2: 100%|██████████████████████████| 79/79 [00:02<00:00, 28.05it/s]"
     ]
    },
    {
     "name": "stdout",
     "output_type": "stream",
     "text": [
      "Model_2 Test Accuracy: 9179/10000 (91.79%)\n",
      "\n",
      "============================================================\n",
      "TEST SUMMARY\n",
      "============================================================\n",
      "Model_1: 89.46% accuracy\n",
      "  Mapping: [7. 7. 7. 2. 6. 5. 3. 4. 4. 4.]\n",
      "Model_2: 91.79% accuracy\n",
      "  Mapping: [8. 8. 8. 7. 5. 6. 3. 9. 9. 9.]\n",
      "\n",
      "Dataset and transforms verification completed successfully!\n",
      "All models loaded and tested on CIFAR10 test dataset.\n"
     ]
    },
    {
     "name": "stderr",
     "output_type": "stream",
     "text": [
      "\n"
     ]
    }
   ],
   "source": [
    "# Set device\n",
    "device = torch.device(\"cuda\" if torch.cuda.is_available() else \"cpu\")\n",
    "print(f\"Using device: {device}\")\n",
    "\n",
    "# Prepare CIFAR10 data if not already present\n",
    "print(\"Preparing CIFAR10 dataset...\")\n",
    "prepare_cifar10_data()\n",
    "\n",
    "# Get transforms\n",
    "transform_train, transform_test = get_cifar10_transforms()\n",
    "\n",
    "# Create test dataset\n",
    "test_dataset = SimpleCIFAR10Dataset(\n",
    "    path_to_data='./CIFAR10_Data/clean',\n",
    "    csv_filename='clean.csv',\n",
    "    data_transform=transform_test\n",
    ")\n",
    "\n",
    "test_loader = DataLoader(test_dataset, batch_size=128, shuffle=False, num_workers=2)\n",
    "print(f\"Test dataset size: {len(test_dataset)}\")\n",
    "\n",
    "# Define model paths (selecting two different models)\n",
    "model_paths = [\n",
    "    './Odysseus-CIFAR10/Models/Model_1200.pth',\n",
    "    './Odysseus-CIFAR10/Models/Model_1201.pth'\n",
    "]\n",
    "\n",
    "# Test each model\n",
    "results = {}\n",
    "\n",
    "for i, model_path in enumerate(model_paths):\n",
    "    if not os.path.exists(model_path):\n",
    "        print(f\"Warning: Model {model_path} not found, skipping...\")\n",
    "        continue\n",
    "        \n",
    "    print(f\"\\n{'='*60}\")\n",
    "    print(f\"Testing Model {i+1}: {os.path.basename(model_path)}\")\n",
    "    print(f\"{'='*60}\")\n",
    "    \n",
    "    # Get model details\n",
    "    print(\"Model Details:\")\n",
    "    model_details(model_path)\n",
    "    \n",
    "    # Load model\n",
    "    print(f\"\\nLoading model from {model_path}...\")\n",
    "    model, mapping = load_model(model_path, device)\n",
    "    \n",
    "    # Test model performance\n",
    "    accuracy = test_model_performance(model, test_loader, device, f\"Model_{i+1}\")\n",
    "    results[f\"Model_{i+1}\"] = {\n",
    "        'path': model_path,\n",
    "        'accuracy': accuracy,\n",
    "        'mapping': mapping\n",
    "    }\n",
    "    \n",
    "    # Clean up\n",
    "    del model\n",
    "    torch.cuda.empty_cache() if torch.cuda.is_available() else None\n",
    "\n",
    "# Print summary\n",
    "print(f\"\\n{'='*60}\")\n",
    "print(\"TEST SUMMARY\")\n",
    "print(f\"{'='*60}\")\n",
    "for model_name, result in results.items():\n",
    "    print(f\"{model_name}: {result['accuracy']:.2f}% accuracy\")\n",
    "    if result['mapping'] is not None:\n",
    "        print(f\"  Mapping: {result['mapping']}\")\n",
    "\n",
    "print(f\"\\nDataset and transforms verification completed successfully!\")\n",
    "print(f\"All models loaded and tested on CIFAR10 test dataset.\")"
   ]
  }
 ],
 "metadata": {
  "kernelspec": {
   "display_name": "Python (ResearchProject)",
   "language": "python",
   "name": "researchproject"
  },
  "language_info": {
   "codemirror_mode": {
    "name": "ipython",
    "version": 3
   },
   "file_extension": ".py",
   "mimetype": "text/x-python",
   "name": "python",
   "nbconvert_exporter": "python",
   "pygments_lexer": "ipython3",
   "version": "3.11.8"
  }
 },
 "nbformat": 4,
 "nbformat_minor": 5
}
