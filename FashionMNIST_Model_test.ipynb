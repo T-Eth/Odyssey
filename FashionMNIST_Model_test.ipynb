{
 "cells": [
  {
   "cell_type": "code",
   "execution_count": 1,
   "id": "04a8fd70-0acf-467c-9684-3337c58c0829",
   "metadata": {},
   "outputs": [],
   "source": [
    "import torch\n",
    "import torch.nn as nn\n",
    "import torch.nn.functional as F\n",
    "from torch.utils.data import DataLoader\n",
    "import os\n",
    "import sys\n",
    "from tqdm import tqdm\n",
    "import numpy as np\n",
    "\n",
    "# Import our custom modules\n",
    "from datasets import SimpleFashionMnistDataset, prepare_fashionmnist_data, get_fashionmnist_transforms\n",
    "from Load_Model import load_model, get_model_details"
   ]
  },
  {
   "cell_type": "code",
   "execution_count": 2,
   "id": "ebab9544-fdd2-4e99-baef-843b7436599f",
   "metadata": {},
   "outputs": [],
   "source": [
    "def test_model_performance(model, test_loader, device, model_name):\n",
    "    \"\"\"\n",
    "    Test model performance on the test dataset\n",
    "    \"\"\"\n",
    "    model.eval()\n",
    "    correct = 0\n",
    "    total = 0\n",
    "    \n",
    "    with torch.no_grad():\n",
    "        for batch_idx, (data, target, _) in enumerate(tqdm(test_loader, desc=f\"Testing {model_name}\")):\n",
    "            data, target = data.to(device), target.to(device)\n",
    "            outputs = model(data)\n",
    "            \n",
    "            # For models that return log_softmax, we need to get the predicted class\n",
    "            if isinstance(outputs, torch.Tensor) and outputs.dim() == 2:\n",
    "                pred = outputs.argmax(dim=1, keepdim=True)\n",
    "            else:\n",
    "                # Handle case where model might return tuple or different format\n",
    "                pred = outputs.argmax(dim=1, keepdim=True)\n",
    "            \n",
    "            correct += pred.eq(target.view_as(pred)).sum().item()\n",
    "            total += target.size(0)\n",
    "    \n",
    "    accuracy = 100. * correct / total\n",
    "    print(f\"{model_name} Test Accuracy: {correct}/{total} ({accuracy:.2f}%)\")\n",
    "    return accuracy"
   ]
  },
  {
   "cell_type": "code",
   "execution_count": 3,
   "id": "a233da1c-78d3-4c22-9d77-76f2e23f5bfc",
   "metadata": {},
   "outputs": [
    {
     "name": "stdout",
     "output_type": "stream",
     "text": [
      "Using device: cuda\n",
      "Preparing FashionMNIST dataset...\n"
     ]
    },
    {
     "name": "stderr",
     "output_type": "stream",
     "text": [
      "100%|██████████████████████████████████| 10000/10000 [00:00<00:00, 11916.06it/s]\n",
      "/home/tyler/Desktop/ResearchProject/Load_Model.py:19: FutureWarning: You are using `torch.load` with `weights_only=False` (the current default value), which uses the default pickle module implicitly. It is possible to construct malicious pickle data which will execute arbitrary code during unpickling (See https://github.com/pytorch/pytorch/blob/main/SECURITY.md#untrusted-models for more details). In a future release, the default value for `weights_only` will be flipped to `True`. This limits the functions that could be executed during unpickling. Arbitrary objects will no longer be allowed to be loaded via this mode unless they are explicitly allowlisted by the user via `torch.serialization.add_safe_globals`. We recommend you start setting `weights_only=True` for any use case where you don't have full control of the loaded file. Please open an issue on GitHub for any issues related to this experimental feature.\n",
      "  checkpoint = torch.load(model_path, map_location=\"cpu\")\n",
      "/home/tyler/Desktop/ResearchProject/Load_Model.py:75: FutureWarning: You are using `torch.load` with `weights_only=False` (the current default value), which uses the default pickle module implicitly. It is possible to construct malicious pickle data which will execute arbitrary code during unpickling (See https://github.com/pytorch/pytorch/blob/main/SECURITY.md#untrusted-models for more details). In a future release, the default value for `weights_only` will be flipped to `True`. This limits the functions that could be executed during unpickling. Arbitrary objects will no longer be allowed to be loaded via this mode unless they are explicitly allowlisted by the user via `torch.serialization.add_safe_globals`. We recommend you start setting `weights_only=True` for any use case where you don't have full control of the loaded file. Please open an issue on GitHub for any issues related to this experimental feature.\n",
      "  checkpoint = torch.load(model_path)\n"
     ]
    },
    {
     "name": "stdout",
     "output_type": "stream",
     "text": [
      "Saved 10000 test images to ./FashionMNIST_Data/clean\n",
      "Saved CSV to ./FashionMNIST_Data/clean/clean.csv\n",
      "Test dataset size: 10000\n",
      "\n",
      "============================================================\n",
      "Testing Model 1: Model_FMNIST_800.pth\n",
      "============================================================\n",
      "Model Details:\n",
      "\n",
      "Loading model from ./Odysseus-FashionMNIST/Models/Model_FMNIST_800.pth...\n",
      "model path  ./Odysseus-FashionMNIST/Models/Model_FMNIST_800.pth\n",
      "keys are : dict_keys(['net', 'Model Category', 'Architecture_Name', 'Learning_Rate', 'Loss Function', 'optimizer', 'Momentum', 'Weight decay', 'num_workers', 'Pytorch version', 'Trigger type', 'Trigger Size', 'Trigger_location', 'Normalization Type', 'Mapping Type', 'Dataset', 'Batch Size', 'trigger_fraction', 'test_clean_acc', 'test_trigerred_acc', 'epoch'])\n",
      "==> Building model..\n"
     ]
    },
    {
     "ename": "RuntimeError",
     "evalue": "Error(s) in loading state_dict for DenseNet:\n\tsize mismatch for conv1.weight: copying a param with shape torch.Size([64, 1, 3, 3]) from checkpoint, the shape in current model is torch.Size([64, 3, 3, 3]).",
     "output_type": "error",
     "traceback": [
      "\u001b[31m---------------------------------------------------------------------------\u001b[39m",
      "\u001b[31mRuntimeError\u001b[39m                              Traceback (most recent call last)",
      "\u001b[36mCell\u001b[39m\u001b[36m \u001b[39m\u001b[32mIn[3]\u001b[39m\u001b[32m, line 46\u001b[39m\n\u001b[32m     44\u001b[39m \u001b[38;5;66;03m# Load model\u001b[39;00m\n\u001b[32m     45\u001b[39m \u001b[38;5;28mprint\u001b[39m(\u001b[33mf\u001b[39m\u001b[33m\"\u001b[39m\u001b[38;5;130;01m\\n\u001b[39;00m\u001b[33mLoading model from \u001b[39m\u001b[38;5;132;01m{\u001b[39;00mmodel_path\u001b[38;5;132;01m}\u001b[39;00m\u001b[33m...\u001b[39m\u001b[33m\"\u001b[39m)\n\u001b[32m---> \u001b[39m\u001b[32m46\u001b[39m model, mapping = load_model(model_path, device)\n\u001b[32m     48\u001b[39m \u001b[38;5;66;03m# Test model performance\u001b[39;00m\n\u001b[32m     49\u001b[39m accuracy = test_model_performance(model, test_loader, device, \u001b[33mf\u001b[39m\u001b[33m\"\u001b[39m\u001b[33mModel_\u001b[39m\u001b[38;5;132;01m{\u001b[39;00mi+\u001b[32m1\u001b[39m\u001b[38;5;132;01m}\u001b[39;00m\u001b[33m\"\u001b[39m)\n",
      "\u001b[36mFile \u001b[39m\u001b[32m~/Desktop/ResearchProject/Load_Model.py:108\u001b[39m, in \u001b[36mload_model\u001b[39m\u001b[34m(model_path, device, num_class)\u001b[39m\n\u001b[32m    103\u001b[39m     net = MobileNetV2()\n\u001b[32m    105\u001b[39m net = net.to(device)\n\u001b[32m--> \u001b[39m\u001b[32m108\u001b[39m net.load_state_dict(checkpoint[\u001b[33m'\u001b[39m\u001b[33mnet\u001b[39m\u001b[33m'\u001b[39m])\n\u001b[32m    110\u001b[39m \u001b[38;5;28;01mif\u001b[39;00m \u001b[33m'\u001b[39m\u001b[33mtest_clean_acc\u001b[39m\u001b[33m'\u001b[39m \u001b[38;5;129;01min\u001b[39;00m checkpoint:\n\u001b[32m    111\u001b[39m     best_acc_clean = checkpoint[\u001b[33m'\u001b[39m\u001b[33mtest_clean_acc\u001b[39m\u001b[33m'\u001b[39m]\n",
      "\u001b[36mFile \u001b[39m\u001b[32m~/anaconda3/envs/ResearchProject/lib/python3.11/site-packages/torch/nn/modules/module.py:2584\u001b[39m, in \u001b[36mModule.load_state_dict\u001b[39m\u001b[34m(self, state_dict, strict, assign)\u001b[39m\n\u001b[32m   2576\u001b[39m         error_msgs.insert(\n\u001b[32m   2577\u001b[39m             \u001b[32m0\u001b[39m,\n\u001b[32m   2578\u001b[39m             \u001b[33m\"\u001b[39m\u001b[33mMissing key(s) in state_dict: \u001b[39m\u001b[38;5;132;01m{}\u001b[39;00m\u001b[33m. \u001b[39m\u001b[33m\"\u001b[39m.format(\n\u001b[32m   2579\u001b[39m                 \u001b[33m\"\u001b[39m\u001b[33m, \u001b[39m\u001b[33m\"\u001b[39m.join(\u001b[33mf\u001b[39m\u001b[33m'\u001b[39m\u001b[33m\"\u001b[39m\u001b[38;5;132;01m{\u001b[39;00mk\u001b[38;5;132;01m}\u001b[39;00m\u001b[33m\"\u001b[39m\u001b[33m'\u001b[39m \u001b[38;5;28;01mfor\u001b[39;00m k \u001b[38;5;129;01min\u001b[39;00m missing_keys)\n\u001b[32m   2580\u001b[39m             ),\n\u001b[32m   2581\u001b[39m         )\n\u001b[32m   2583\u001b[39m \u001b[38;5;28;01mif\u001b[39;00m \u001b[38;5;28mlen\u001b[39m(error_msgs) > \u001b[32m0\u001b[39m:\n\u001b[32m-> \u001b[39m\u001b[32m2584\u001b[39m     \u001b[38;5;28;01mraise\u001b[39;00m \u001b[38;5;167;01mRuntimeError\u001b[39;00m(\n\u001b[32m   2585\u001b[39m         \u001b[33m\"\u001b[39m\u001b[33mError(s) in loading state_dict for \u001b[39m\u001b[38;5;132;01m{}\u001b[39;00m\u001b[33m:\u001b[39m\u001b[38;5;130;01m\\n\u001b[39;00m\u001b[38;5;130;01m\\t\u001b[39;00m\u001b[38;5;132;01m{}\u001b[39;00m\u001b[33m\"\u001b[39m.format(\n\u001b[32m   2586\u001b[39m             \u001b[38;5;28mself\u001b[39m.\u001b[34m__class__\u001b[39m.\u001b[34m__name__\u001b[39m, \u001b[33m\"\u001b[39m\u001b[38;5;130;01m\\n\u001b[39;00m\u001b[38;5;130;01m\\t\u001b[39;00m\u001b[33m\"\u001b[39m.join(error_msgs)\n\u001b[32m   2587\u001b[39m         )\n\u001b[32m   2588\u001b[39m     )\n\u001b[32m   2589\u001b[39m \u001b[38;5;28;01mreturn\u001b[39;00m _IncompatibleKeys(missing_keys, unexpected_keys)\n",
      "\u001b[31mRuntimeError\u001b[39m: Error(s) in loading state_dict for DenseNet:\n\tsize mismatch for conv1.weight: copying a param with shape torch.Size([64, 1, 3, 3]) from checkpoint, the shape in current model is torch.Size([64, 3, 3, 3])."
     ]
    }
   ],
   "source": [
    "# Set device\n",
    "device = torch.device(\"cuda\" if torch.cuda.is_available() else \"cpu\")\n",
    "print(f\"Using device: {device}\")\n",
    "\n",
    "# Prepare FashionMNIST data if not already present\n",
    "print(\"Preparing FashionMNIST dataset...\")\n",
    "prepare_fashionmnist_data()\n",
    "\n",
    "# Get transforms\n",
    "transform_train, transform_test = get_fashionmnist_transforms()\n",
    "\n",
    "# Create test dataset\n",
    "test_dataset = SimpleFashionMnistDataset(\n",
    "    path_to_data='./FashionMNIST_Data/clean',\n",
    "    csv_filename='clean.csv',\n",
    "    data_transform=transform_test\n",
    ")\n",
    "\n",
    "test_loader = DataLoader(test_dataset, batch_size=128, shuffle=False, num_workers=2)\n",
    "print(f\"Test dataset size: {len(test_dataset)}\")\n",
    "\n",
    "# Define model paths (selecting two different models)\n",
    "model_paths = [\n",
    "    './Odysseus-FashionMNIST/Models/Model_FMNIST_800.pth',\n",
    "    './Odysseus-FashionMNIST/Models/Model_FMNIST_801.pth'\n",
    "]\n",
    "\n",
    "# Test each model\n",
    "results = {}\n",
    "\n",
    "for i, model_path in enumerate(model_paths):\n",
    "    if not os.path.exists(model_path):\n",
    "        print(f\"Warning: Model {model_path} not found, skipping...\")\n",
    "        continue\n",
    "        \n",
    "    print(f\"\\n{'='*60}\")\n",
    "    print(f\"Testing Model {i+1}: {os.path.basename(model_path)}\")\n",
    "    print(f\"{'='*60}\")\n",
    "    \n",
    "    # Get model details\n",
    "    print(\"Model Details:\")\n",
    "    get_model_details(model_path)\n",
    "    \n",
    "    # Load model\n",
    "    print(f\"\\nLoading model from {model_path}...\")\n",
    "    model, mapping = load_model(model_path, device)\n",
    "    \n",
    "    # Test model performance\n",
    "    accuracy = test_model_performance(model, test_loader, device, f\"Model_{i+1}\")\n",
    "    results[f\"Model_{i+1}\"] = {\n",
    "        'path': model_path,\n",
    "        'accuracy': accuracy,\n",
    "        'mapping': mapping\n",
    "    }\n",
    "    \n",
    "    # Clean up\n",
    "    del model\n",
    "    torch.cuda.empty_cache() if torch.cuda.is_available() else None\n",
    "\n",
    "# Print summary\n",
    "print(f\"\\n{'='*60}\")\n",
    "print(\"TEST SUMMARY\")\n",
    "print(f\"{'='*60}\")\n",
    "for model_name, result in results.items():\n",
    "    print(f\"{model_name}: {result['accuracy']:.2f}% accuracy\")\n",
    "    if result['mapping'] is not None:\n",
    "        print(f\"  Mapping: {result['mapping']}\")\n",
    "\n",
    "print(f\"\\nDataset and transforms verification completed successfully!\")\n",
    "print(f\"All models loaded and tested on FashionMNIST test dataset.\")"
   ]
  },
  {
   "cell_type": "code",
   "execution_count": null,
   "id": "60f82961-239d-4333-b583-11dfa7423613",
   "metadata": {},
   "outputs": [],
   "source": []
  }
 ],
 "metadata": {
  "kernelspec": {
   "display_name": "Python (ResearchProject)",
   "language": "python",
   "name": "researchproject"
  },
  "language_info": {
   "codemirror_mode": {
    "name": "ipython",
    "version": 3
   },
   "file_extension": ".py",
   "mimetype": "text/x-python",
   "name": "python",
   "nbconvert_exporter": "python",
   "pygments_lexer": "ipython3",
   "version": "3.11.8"
  }
 },
 "nbformat": 4,
 "nbformat_minor": 5
}
