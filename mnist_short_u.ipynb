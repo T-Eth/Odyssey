{
 "cells": [
  {
   "cell_type": "code",
   "execution_count": 1,
   "id": "6044afb6-2819-4d96-9937-1806cbc51321",
   "metadata": {},
   "outputs": [],
   "source": [
    "from experiments import BTI_DBF_U\n",
    "import os\n",
    "from functools import partial\n",
    "from datasets import SimpleMNISTDataset, prepare_mnist_data, minmax_normalize\n",
    "import torch\n",
    "from unet import UNet, loss_bti_dbf_paper\n",
    "from torchvision import transforms"
   ]
  },
  {
   "cell_type": "code",
   "execution_count": 2,
   "id": "7b414313-276d-4a98-b9da-dd1deddd83bf",
   "metadata": {},
   "outputs": [
    {
     "name": "stdout",
     "output_type": "stream",
     "text": [
      "Using device: cuda\n",
      "Preparing MNIST dataset...\n"
     ]
    },
    {
     "name": "stderr",
     "output_type": "stream",
     "text": [
      "clean: 100%|█████████████████████████████| 8000/8000 [00:00<00:00, 13700.50it/s]\n"
     ]
    },
    {
     "name": "stdout",
     "output_type": "stream",
     "text": [
      "Saved 8000 images to ./MNIST_Data/clean\n",
      "Saved CSV to ./MNIST_Data/clean/clean.csv\n"
     ]
    },
    {
     "name": "stderr",
     "output_type": "stream",
     "text": [
      "test: 100%|██████████████████████████████| 2000/2000 [00:00<00:00, 13364.13it/s]\n"
     ]
    },
    {
     "name": "stdout",
     "output_type": "stream",
     "text": [
      "Saved 2000 images to ./MNIST_Data/test\n",
      "Saved CSV to ./MNIST_Data/test/test.csv\n",
      "Test dataset size: 8000\n"
     ]
    },
    {
     "name": "stderr",
     "output_type": "stream",
     "text": [
      "BTI-DBF (U): Models:   0%|                                | 0/5 [00:00<?, ?it/s]/home/tyler/Desktop/ResearchProject/Load_Model.py:34: FutureWarning: You are using `torch.load` with `weights_only=False` (the current default value), which uses the default pickle module implicitly. It is possible to construct malicious pickle data which will execute arbitrary code during unpickling (See https://github.com/pytorch/pytorch/blob/main/SECURITY.md#untrusted-models for more details). In a future release, the default value for `weights_only` will be flipped to `True`. This limits the functions that could be executed during unpickling. Arbitrary objects will no longer be allowed to be loaded via this mode unless they are explicitly allowlisted by the user via `torch.serialization.add_safe_globals`. We recommend you start setting `weights_only=True` for any use case where you don't have full control of the loaded file. Please open an issue on GitHub for any issues related to this experimental feature.\n",
      "  checkpoint = torch.load(model_path)\n"
     ]
    },
    {
     "name": "stdout",
     "output_type": "stream",
     "text": [
      "keys are : dict_keys(['net', 'Model Category', 'Architecture_Name', 'Learning_Rate', 'Loss Function', 'optimizer', 'Momentum', 'Weight decay', 'num_workers', 'Pytorch version', 'Trigger type', 'Trigger Size', 'Trigger_location', 'Mapping', 'Normalization Type', 'Mapping Type', 'Dataset', 'Batch Size', 'trigger_fraction', 'test_clean_acc', 'test_trigerred_acc', 'epoch'])\n",
      "==> Building model..\n",
      "The Accuracies on clean samples:   99.2875\n",
      "The fooling rate:  97.3\n",
      "Mapping is :  [0. 7. 7. 7. 6. 4. 1. 9. 3. 3.] <class 'numpy.ndarray'>\n"
     ]
    },
    {
     "name": "stderr",
     "output_type": "stream",
     "text": [
      "/home/tyler/Desktop/ResearchProject/Load_Model.py:19: FutureWarning: You are using `torch.load` with `weights_only=False` (the current default value), which uses the default pickle module implicitly. It is possible to construct malicious pickle data which will execute arbitrary code during unpickling (See https://github.com/pytorch/pytorch/blob/main/SECURITY.md#untrusted-models for more details). In a future release, the default value for `weights_only` will be flipped to `True`. This limits the functions that could be executed during unpickling. Arbitrary objects will no longer be allowed to be loaded via this mode unless they are explicitly allowlisted by the user via `torch.serialization.add_safe_globals`. We recommend you start setting `weights_only=True` for any use case where you don't have full control of the loaded file. Please open an issue on GitHub for any issues related to this experimental feature.\n",
      "  checkpoint = torch.load(model_path, map_location=\"cpu\")\n"
     ]
    },
    {
     "name": "stdout",
     "output_type": "stream",
     "text": [
      "[Mask] Epoch 1: Loss=2.2449, Benign Acc=0.1013\n",
      "[Mask] Epoch 2: Loss=2.1849, Benign Acc=0.1013\n",
      "[Mask] Epoch 3: Loss=1.9887, Benign Acc=0.1676\n",
      "[Mask] Epoch 4: Loss=1.3194, Benign Acc=0.7772\n",
      "[Mask] Epoch 5: Loss=0.3579, Benign Acc=0.9865\n",
      "[Mask] Epoch 6: Loss=0.0919, Benign Acc=0.9904\n",
      "[Mask] Epoch 7: Loss=0.0447, Benign Acc=0.9901\n",
      "[Mask] Epoch 8: Loss=0.0261, Benign Acc=0.9898\n",
      "[Mask] Epoch 9: Loss=0.0160, Benign Acc=0.9909\n",
      "[Mask] Epoch 10: Loss=0.0112, Benign Acc=0.9906\n",
      "[Mask] Epoch 11: Loss=0.0073, Benign Acc=0.9904\n",
      "[Mask] Epoch 12: Loss=0.0041, Benign Acc=0.9906\n",
      "[Mask] Epoch 13: Loss=0.0022, Benign Acc=0.9902\n",
      "[Mask] Epoch 14: Loss=0.0007, Benign Acc=0.9906\n",
      "[Mask] Epoch 15: Loss=-0.0011, Benign Acc=0.9914\n",
      "[Mask] Epoch 16: Loss=-0.0023, Benign Acc=0.9910\n",
      "[Mask] Epoch 17: Loss=-0.0037, Benign Acc=0.9912\n",
      "[Mask] Epoch 18: Loss=-0.0044, Benign Acc=0.9910\n",
      "[Mask] Epoch 19: Loss=-0.0049, Benign Acc=0.9912\n",
      "[Mask] Epoch 20: Loss=-0.0064, Benign Acc=0.9920\n"
     ]
    },
    {
     "name": "stderr",
     "output_type": "stream",
     "text": [
      "/home/tyler/Desktop/ResearchProject/Load_Model.py:371: UserWarning: Implicit dimension choice for log_softmax has been deprecated. Change the call to include dim=X as an argument.\n",
      "  return F.log_softmax(output)\n"
     ]
    },
    {
     "name": "stdout",
     "output_type": "stream",
     "text": [
      "[Mask] Epoch 1: Loss=1.9348, Benign Acc=0.6045\n",
      "[Mask] Epoch 2: Loss=1.5405, Benign Acc=0.9646\n",
      "[Mask] Epoch 3: Loss=0.7722, Benign Acc=0.9996\n",
      "[Mask] Epoch 4: Loss=0.2093, Benign Acc=0.9998\n",
      "[Mask] Epoch 5: Loss=0.0748, Benign Acc=0.9996\n",
      "[Mask] Epoch 6: Loss=0.0403, Benign Acc=1.0000\n",
      "[Mask] Epoch 7: Loss=0.0262, Benign Acc=1.0000\n",
      "[Mask] Epoch 8: Loss=0.0187, Benign Acc=1.0000\n",
      "[Mask] Epoch 9: Loss=0.0144, Benign Acc=1.0000\n",
      "[Mask] Epoch 10: Loss=0.0121, Benign Acc=1.0000\n",
      "[Mask] Epoch 11: Loss=0.0099, Benign Acc=1.0000\n",
      "[Mask] Epoch 12: Loss=0.0087, Benign Acc=1.0000\n",
      "[Mask] Epoch 13: Loss=0.0075, Benign Acc=1.0000\n",
      "[Mask] Epoch 14: Loss=0.0070, Benign Acc=1.0000\n",
      "[Mask] Epoch 15: Loss=0.0061, Benign Acc=0.9999\n",
      "[Mask] Epoch 16: Loss=0.0055, Benign Acc=1.0000\n",
      "[Mask] Epoch 17: Loss=0.0052, Benign Acc=1.0000\n",
      "[Mask] Epoch 18: Loss=0.0044, Benign Acc=1.0000\n",
      "[Mask] Epoch 19: Loss=0.0042, Benign Acc=1.0000\n",
      "[Mask] Epoch 20: Loss=0.0038, Benign Acc=1.0000\n",
      "[Mask] Epoch 1: Loss=1.4625, Benign Acc=0.9575\n",
      "[Mask] Epoch 2: Loss=0.8423, Benign Acc=0.9981\n",
      "[Mask] Epoch 3: Loss=0.2922, Benign Acc=0.9998\n",
      "[Mask] Epoch 4: Loss=0.1026, Benign Acc=0.9999\n",
      "[Mask] Epoch 5: Loss=0.0509, Benign Acc=0.9998\n",
      "[Mask] Epoch 6: Loss=0.0313, Benign Acc=0.9999\n",
      "[Mask] Epoch 7: Loss=0.0218, Benign Acc=1.0000\n",
      "[Mask] Epoch 8: Loss=0.0165, Benign Acc=1.0000\n",
      "[Mask] Epoch 9: Loss=0.0132, Benign Acc=1.0000\n",
      "[Mask] Epoch 10: Loss=0.0106, Benign Acc=1.0000\n",
      "[Mask] Epoch 11: Loss=0.0090, Benign Acc=0.9999\n",
      "[Mask] Epoch 12: Loss=0.0077, Benign Acc=1.0000\n",
      "[Mask] Epoch 13: Loss=0.0069, Benign Acc=1.0000\n",
      "[Mask] Epoch 14: Loss=0.0059, Benign Acc=1.0000\n",
      "[Mask] Epoch 15: Loss=0.0053, Benign Acc=1.0000\n",
      "[Mask] Epoch 16: Loss=0.0048, Benign Acc=1.0000\n",
      "[Mask] Epoch 17: Loss=0.0044, Benign Acc=1.0000\n",
      "[Mask] Epoch 18: Loss=0.0041, Benign Acc=1.0000\n",
      "[Mask] Epoch 19: Loss=0.0038, Benign Acc=1.0000\n",
      "[Mask] Epoch 20: Loss=0.0034, Benign Acc=1.0000\n",
      "[Mask] Epoch 1: Loss=1.1264, Benign Acc=0.9932\n",
      "[Mask] Epoch 2: Loss=0.5165, Benign Acc=0.9996\n",
      "[Mask] Epoch 3: Loss=0.1698, Benign Acc=1.0000\n",
      "[Mask] Epoch 4: Loss=0.0690, Benign Acc=1.0000\n",
      "[Mask] Epoch 5: Loss=0.0375, Benign Acc=0.9999\n",
      "[Mask] Epoch 6: Loss=0.0239, Benign Acc=1.0000\n",
      "[Mask] Epoch 7: Loss=0.0173, Benign Acc=0.9999\n",
      "[Mask] Epoch 8: Loss=0.0129, Benign Acc=0.9999\n",
      "[Mask] Epoch 9: Loss=0.0101, Benign Acc=1.0000\n",
      "[Mask] Epoch 10: Loss=0.0082, Benign Acc=1.0000\n",
      "[Mask] Epoch 11: Loss=0.0070, Benign Acc=1.0000\n",
      "[Mask] Epoch 12: Loss=0.0062, Benign Acc=1.0000\n",
      "[Mask] Epoch 13: Loss=0.0053, Benign Acc=1.0000\n",
      "[Mask] Epoch 14: Loss=0.0045, Benign Acc=1.0000\n",
      "[Mask] Epoch 15: Loss=0.0040, Benign Acc=1.0000\n",
      "[Mask] Epoch 16: Loss=0.0037, Benign Acc=1.0000\n",
      "[Mask] Epoch 17: Loss=0.0034, Benign Acc=1.0000\n",
      "[Mask] Epoch 18: Loss=0.0030, Benign Acc=1.0000\n",
      "[Mask] Epoch 19: Loss=0.0028, Benign Acc=1.0000\n",
      "[Mask] Epoch 20: Loss=0.0026, Benign Acc=1.0000\n",
      "[Mask] Epoch 1: Loss=0.7511, Benign Acc=0.9994\n",
      "[Mask] Epoch 2: Loss=0.2798, Benign Acc=0.9998\n",
      "[Mask] Epoch 3: Loss=0.0989, Benign Acc=0.9999\n",
      "[Mask] Epoch 4: Loss=0.0474, Benign Acc=0.9999\n",
      "[Mask] Epoch 5: Loss=0.0281, Benign Acc=1.0000\n",
      "[Mask] Epoch 6: Loss=0.0192, Benign Acc=0.9999\n",
      "[Mask] Epoch 7: Loss=0.0141, Benign Acc=1.0000\n",
      "[Mask] Epoch 8: Loss=0.0112, Benign Acc=1.0000\n",
      "[Mask] Epoch 9: Loss=0.0087, Benign Acc=1.0000\n",
      "[Mask] Epoch 10: Loss=0.0075, Benign Acc=1.0000\n",
      "[Mask] Epoch 11: Loss=0.0062, Benign Acc=1.0000\n",
      "[Mask] Epoch 12: Loss=0.0054, Benign Acc=1.0000\n",
      "[Mask] Epoch 13: Loss=0.0048, Benign Acc=1.0000\n",
      "[Mask] Epoch 14: Loss=0.0043, Benign Acc=1.0000\n",
      "[Mask] Epoch 15: Loss=0.0037, Benign Acc=1.0000\n",
      "[Mask] Epoch 16: Loss=0.0034, Benign Acc=1.0000\n",
      "[Mask] Epoch 17: Loss=0.0030, Benign Acc=1.0000\n",
      "[Mask] Epoch 18: Loss=0.0028, Benign Acc=1.0000\n",
      "[Mask] Epoch 19: Loss=0.0026, Benign Acc=1.0000\n",
      "[Mask] Epoch 20: Loss=0.0022, Benign Acc=1.0000\n",
      "Evaluating model: ./Odysseus-MNIST/Models/Model_775.pth\n",
      "Dataset directory: ./test_results/datasets/Odysseus-MNIST/Models/Model_775.pth_MNIST\n",
      "============================================================\n",
      "Dataset statistics:\n",
      "  Total images: 2000\n",
      "  Triggered images: 1000\n",
      "  Clean images: 1000\n"
     ]
    },
    {
     "name": "stderr",
     "output_type": "stream",
     "text": [
      "/home/tyler/Desktop/ResearchProject/Load_Model.py:371: UserWarning: Implicit dimension choice for log_softmax has been deprecated. Change the call to include dim=X as an argument.\n",
      "  return F.log_softmax(output)\n"
     ]
    },
    {
     "name": "stdout",
     "output_type": "stream",
     "text": [
      "Evaluating model: ./Odysseus-MNIST/Models/Model_775.pth\n",
      "Dataset directory: ./test_results/datasets/Odysseus-MNIST/Models/Model_775.pth_MNIST\n",
      "============================================================\n",
      "Dataset statistics:\n",
      "  Total images: 2000\n",
      "  Triggered images: 1000\n",
      "  Clean images: 1000\n"
     ]
    },
    {
     "name": "stderr",
     "output_type": "stream",
     "text": [
      "/home/tyler/Desktop/ResearchProject/Load_Model.py:371: UserWarning: Implicit dimension choice for log_softmax has been deprecated. Change the call to include dim=X as an argument.\n",
      "  return F.log_softmax(output)\n",
      "/home/tyler/Desktop/ResearchProject/experiments.py:513: FutureWarning: The behavior of DataFrame concatenation with empty or all-NA entries is deprecated. In a future version, this will no longer exclude empty or all-NA columns when determining the result dtypes. To retain the old behavior, exclude the relevant entries before the concat operation.\n",
      "  results_df = pd.concat(\n",
      "BTI-DBF (U): Models:  20%|████▌                  | 1/5 [04:08<16:33, 248.30s/it]"
     ]
    },
    {
     "name": "stdout",
     "output_type": "stream",
     "text": [
      "keys are : dict_keys(['net', 'Model Category', 'Architecture_Name', 'Learning_Rate', 'Loss Function', 'optimizer', 'Momentum', 'Weight decay', 'num_workers', 'Pytorch version', 'Trigger type', 'Trigger Size', 'Trigger_location', 'Mapping', 'Normalization Type', 'Mapping Type', 'Dataset', 'Batch Size', 'trigger_fraction', 'test_clean_acc', 'test_trigerred_acc', 'epoch'])\n",
      "==> Building model..\n",
      "The Accuracies on clean samples:   99.5625\n",
      "The fooling rate:  98.75\n",
      "Mapping is :  [1. 7. 7. 7. 8. 9. 6. 0. 4. 4.] <class 'numpy.ndarray'>\n"
     ]
    },
    {
     "name": "stderr",
     "output_type": "stream",
     "text": [
      "/home/tyler/Desktop/ResearchProject/Load_Model.py:34: FutureWarning: You are using `torch.load` with `weights_only=False` (the current default value), which uses the default pickle module implicitly. It is possible to construct malicious pickle data which will execute arbitrary code during unpickling (See https://github.com/pytorch/pytorch/blob/main/SECURITY.md#untrusted-models for more details). In a future release, the default value for `weights_only` will be flipped to `True`. This limits the functions that could be executed during unpickling. Arbitrary objects will no longer be allowed to be loaded via this mode unless they are explicitly allowlisted by the user via `torch.serialization.add_safe_globals`. We recommend you start setting `weights_only=True` for any use case where you don't have full control of the loaded file. Please open an issue on GitHub for any issues related to this experimental feature.\n",
      "  checkpoint = torch.load(model_path)\n",
      "/home/tyler/Desktop/ResearchProject/Load_Model.py:19: FutureWarning: You are using `torch.load` with `weights_only=False` (the current default value), which uses the default pickle module implicitly. It is possible to construct malicious pickle data which will execute arbitrary code during unpickling (See https://github.com/pytorch/pytorch/blob/main/SECURITY.md#untrusted-models for more details). In a future release, the default value for `weights_only` will be flipped to `True`. This limits the functions that could be executed during unpickling. Arbitrary objects will no longer be allowed to be loaded via this mode unless they are explicitly allowlisted by the user via `torch.serialization.add_safe_globals`. We recommend you start setting `weights_only=True` for any use case where you don't have full control of the loaded file. Please open an issue on GitHub for any issues related to this experimental feature.\n",
      "  checkpoint = torch.load(model_path, map_location=\"cpu\")\n"
     ]
    },
    {
     "name": "stdout",
     "output_type": "stream",
     "text": [
      "[Mask] Epoch 1: Loss=2.2703, Benign Acc=0.1013\n",
      "[Mask] Epoch 2: Loss=2.2465, Benign Acc=0.1123\n",
      "[Mask] Epoch 3: Loss=2.1625, Benign Acc=0.2401\n",
      "[Mask] Epoch 4: Loss=1.8236, Benign Acc=0.7319\n",
      "[Mask] Epoch 5: Loss=0.8085, Benign Acc=0.9891\n",
      "[Mask] Epoch 6: Loss=0.1591, Benign Acc=0.9944\n",
      "[Mask] Epoch 7: Loss=0.0647, Benign Acc=0.9948\n",
      "[Mask] Epoch 8: Loss=0.0400, Benign Acc=0.9945\n",
      "[Mask] Epoch 9: Loss=0.0291, Benign Acc=0.9950\n",
      "[Mask] Epoch 10: Loss=0.0216, Benign Acc=0.9949\n",
      "[Mask] Epoch 11: Loss=0.0173, Benign Acc=0.9951\n",
      "[Mask] Epoch 12: Loss=0.0148, Benign Acc=0.9952\n",
      "[Mask] Epoch 13: Loss=0.0131, Benign Acc=0.9954\n",
      "[Mask] Epoch 14: Loss=0.0101, Benign Acc=0.9948\n",
      "[Mask] Epoch 15: Loss=0.0081, Benign Acc=0.9959\n",
      "[Mask] Epoch 16: Loss=0.0068, Benign Acc=0.9954\n",
      "[Mask] Epoch 17: Loss=0.0061, Benign Acc=0.9959\n",
      "[Mask] Epoch 18: Loss=0.0049, Benign Acc=0.9956\n",
      "[Mask] Epoch 19: Loss=0.0044, Benign Acc=0.9958\n",
      "[Mask] Epoch 20: Loss=0.0028, Benign Acc=0.9960\n"
     ]
    },
    {
     "name": "stderr",
     "output_type": "stream",
     "text": [
      "/home/tyler/Desktop/ResearchProject/Load_Model.py:421: UserWarning: Implicit dimension choice for log_softmax has been deprecated. Change the call to include dim=X as an argument.\n",
      "  return F.log_softmax(output)\n"
     ]
    },
    {
     "name": "stdout",
     "output_type": "stream",
     "text": [
      "[Mask] Epoch 1: Loss=1.9292, Benign Acc=0.5999\n",
      "[Mask] Epoch 2: Loss=1.5414, Benign Acc=0.9646\n",
      "[Mask] Epoch 3: Loss=0.8043, Benign Acc=0.9985\n",
      "[Mask] Epoch 4: Loss=0.2352, Benign Acc=0.9995\n",
      "[Mask] Epoch 5: Loss=0.0844, Benign Acc=0.9998\n",
      "[Mask] Epoch 6: Loss=0.0471, Benign Acc=0.9998\n",
      "[Mask] Epoch 7: Loss=0.0323, Benign Acc=0.9998\n",
      "[Mask] Epoch 8: Loss=0.0238, Benign Acc=0.9999\n",
      "[Mask] Epoch 9: Loss=0.0189, Benign Acc=0.9998\n",
      "[Mask] Epoch 10: Loss=0.0156, Benign Acc=0.9999\n",
      "[Mask] Epoch 11: Loss=0.0134, Benign Acc=0.9999\n",
      "[Mask] Epoch 12: Loss=0.0119, Benign Acc=0.9998\n",
      "[Mask] Epoch 13: Loss=0.0103, Benign Acc=1.0000\n",
      "[Mask] Epoch 14: Loss=0.0093, Benign Acc=1.0000\n",
      "[Mask] Epoch 15: Loss=0.0082, Benign Acc=1.0000\n",
      "[Mask] Epoch 16: Loss=0.0076, Benign Acc=0.9999\n",
      "[Mask] Epoch 17: Loss=0.0071, Benign Acc=0.9999\n",
      "[Mask] Epoch 18: Loss=0.0066, Benign Acc=1.0000\n",
      "[Mask] Epoch 19: Loss=0.0059, Benign Acc=1.0000\n",
      "[Mask] Epoch 20: Loss=0.0057, Benign Acc=1.0000\n",
      "[Mask] Epoch 1: Loss=0.8381, Benign Acc=0.9995\n",
      "[Mask] Epoch 2: Loss=0.3340, Benign Acc=0.9998\n",
      "[Mask] Epoch 3: Loss=0.1221, Benign Acc=1.0000\n",
      "[Mask] Epoch 4: Loss=0.0594, Benign Acc=1.0000\n",
      "[Mask] Epoch 5: Loss=0.0373, Benign Acc=0.9995\n",
      "[Mask] Epoch 6: Loss=0.0258, Benign Acc=0.9999\n",
      "[Mask] Epoch 7: Loss=0.0192, Benign Acc=0.9999\n",
      "[Mask] Epoch 8: Loss=0.0156, Benign Acc=0.9996\n",
      "[Mask] Epoch 9: Loss=0.0126, Benign Acc=1.0000\n",
      "[Mask] Epoch 10: Loss=0.0108, Benign Acc=0.9999\n",
      "[Mask] Epoch 11: Loss=0.0088, Benign Acc=0.9999\n",
      "[Mask] Epoch 12: Loss=0.0076, Benign Acc=1.0000\n",
      "[Mask] Epoch 13: Loss=0.0072, Benign Acc=0.9999\n",
      "[Mask] Epoch 14: Loss=0.0061, Benign Acc=1.0000\n",
      "[Mask] Epoch 15: Loss=0.0055, Benign Acc=0.9999\n",
      "[Mask] Epoch 16: Loss=0.0046, Benign Acc=1.0000\n",
      "[Mask] Epoch 17: Loss=0.0044, Benign Acc=1.0000\n",
      "[Mask] Epoch 18: Loss=0.0041, Benign Acc=1.0000\n",
      "[Mask] Epoch 19: Loss=0.0038, Benign Acc=1.0000\n",
      "[Mask] Epoch 20: Loss=0.0034, Benign Acc=0.9999\n",
      "[Mask] Epoch 1: Loss=0.2713, Benign Acc=0.9998\n",
      "[Mask] Epoch 2: Loss=0.0846, Benign Acc=0.9999\n",
      "[Mask] Epoch 3: Loss=0.0372, Benign Acc=1.0000\n",
      "[Mask] Epoch 4: Loss=0.0214, Benign Acc=1.0000\n",
      "[Mask] Epoch 5: Loss=0.0147, Benign Acc=1.0000\n",
      "[Mask] Epoch 6: Loss=0.0106, Benign Acc=1.0000\n",
      "[Mask] Epoch 7: Loss=0.0080, Benign Acc=1.0000\n",
      "[Mask] Epoch 8: Loss=0.0069, Benign Acc=1.0000\n",
      "[Mask] Epoch 9: Loss=0.0056, Benign Acc=1.0000\n",
      "[Mask] Epoch 10: Loss=0.0046, Benign Acc=1.0000\n",
      "[Mask] Epoch 11: Loss=0.0041, Benign Acc=1.0000\n",
      "[Mask] Epoch 12: Loss=0.0035, Benign Acc=1.0000\n",
      "[Mask] Epoch 13: Loss=0.0032, Benign Acc=1.0000\n",
      "[Mask] Epoch 14: Loss=0.0028, Benign Acc=1.0000\n",
      "[Mask] Epoch 15: Loss=0.0026, Benign Acc=1.0000\n",
      "[Mask] Epoch 16: Loss=0.0023, Benign Acc=1.0000\n",
      "[Mask] Epoch 17: Loss=0.0023, Benign Acc=1.0000\n",
      "[Mask] Epoch 18: Loss=0.0020, Benign Acc=1.0000\n",
      "[Mask] Epoch 19: Loss=0.0018, Benign Acc=1.0000\n",
      "[Mask] Epoch 20: Loss=0.0016, Benign Acc=1.0000\n",
      "[Mask] Epoch 1: Loss=0.0725, Benign Acc=0.9998\n",
      "[Mask] Epoch 2: Loss=0.0229, Benign Acc=0.9998\n",
      "[Mask] Epoch 3: Loss=0.0118, Benign Acc=0.9999\n",
      "[Mask] Epoch 4: Loss=0.0078, Benign Acc=1.0000\n",
      "[Mask] Epoch 5: Loss=0.0058, Benign Acc=0.9999\n",
      "[Mask] Epoch 6: Loss=0.0042, Benign Acc=1.0000\n",
      "[Mask] Epoch 7: Loss=0.0034, Benign Acc=0.9999\n",
      "[Mask] Epoch 8: Loss=0.0027, Benign Acc=1.0000\n",
      "[Mask] Epoch 9: Loss=0.0024, Benign Acc=0.9999\n",
      "[Mask] Epoch 10: Loss=0.0020, Benign Acc=1.0000\n",
      "[Mask] Epoch 11: Loss=0.0018, Benign Acc=1.0000\n",
      "[Mask] Epoch 12: Loss=0.0016, Benign Acc=1.0000\n",
      "[Mask] Epoch 13: Loss=0.0013, Benign Acc=1.0000\n",
      "[Mask] Epoch 14: Loss=0.0012, Benign Acc=1.0000\n",
      "[Mask] Epoch 15: Loss=0.0011, Benign Acc=1.0000\n",
      "[Mask] Epoch 16: Loss=0.0010, Benign Acc=1.0000\n",
      "[Mask] Epoch 17: Loss=0.0010, Benign Acc=1.0000\n",
      "[Mask] Epoch 18: Loss=0.0009, Benign Acc=1.0000\n",
      "[Mask] Epoch 19: Loss=0.0008, Benign Acc=1.0000\n",
      "[Mask] Epoch 20: Loss=0.0008, Benign Acc=1.0000\n",
      "Evaluating model: ./Odysseus-MNIST/Models/Model_828.pth\n",
      "Dataset directory: ./test_results/datasets/Odysseus-MNIST/Models/Model_828.pth_MNIST\n",
      "============================================================\n",
      "Dataset statistics:\n",
      "  Total images: 2000\n",
      "  Triggered images: 1000\n",
      "  Clean images: 1000\n"
     ]
    },
    {
     "name": "stderr",
     "output_type": "stream",
     "text": [
      "/home/tyler/Desktop/ResearchProject/Load_Model.py:421: UserWarning: Implicit dimension choice for log_softmax has been deprecated. Change the call to include dim=X as an argument.\n",
      "  return F.log_softmax(output)\n"
     ]
    },
    {
     "name": "stdout",
     "output_type": "stream",
     "text": [
      "Evaluating model: ./Odysseus-MNIST/Models/Model_828.pth\n",
      "Dataset directory: ./test_results/datasets/Odysseus-MNIST/Models/Model_828.pth_MNIST\n",
      "============================================================\n",
      "Dataset statistics:\n",
      "  Total images: 2000\n",
      "  Triggered images: 1000\n",
      "  Clean images: 1000\n"
     ]
    },
    {
     "name": "stderr",
     "output_type": "stream",
     "text": [
      "/home/tyler/Desktop/ResearchProject/Load_Model.py:421: UserWarning: Implicit dimension choice for log_softmax has been deprecated. Change the call to include dim=X as an argument.\n",
      "  return F.log_softmax(output)\n",
      "BTI-DBF (U): Models:  40%|█████████▏             | 2/5 [09:07<13:54, 278.13s/it]"
     ]
    },
    {
     "name": "stdout",
     "output_type": "stream",
     "text": [
      "keys are : dict_keys(['net', 'Model Category', 'Architecture_Name', 'Learning_Rate', 'Loss Function', 'optimizer', 'Momentum', 'Weight decay', 'num_workers', 'Pytorch version', 'Trigger type', 'Trigger Size', 'Trigger_location', 'Mapping', 'Normalization Type', 'Mapping Type', 'Dataset', 'Batch Size', 'trigger_fraction', 'test_clean_acc', 'test_trigerred_acc', 'epoch'])\n",
      "==> Building model..\n",
      "The Accuracies on clean samples:   99.5375\n",
      "The fooling rate:  98.2\n",
      "Mapping is :  [5. 7. 7. 7. 3. 0. 2. 8. 1. 1.] <class 'numpy.ndarray'>\n"
     ]
    },
    {
     "name": "stderr",
     "output_type": "stream",
     "text": [
      "/home/tyler/Desktop/ResearchProject/Load_Model.py:34: FutureWarning: You are using `torch.load` with `weights_only=False` (the current default value), which uses the default pickle module implicitly. It is possible to construct malicious pickle data which will execute arbitrary code during unpickling (See https://github.com/pytorch/pytorch/blob/main/SECURITY.md#untrusted-models for more details). In a future release, the default value for `weights_only` will be flipped to `True`. This limits the functions that could be executed during unpickling. Arbitrary objects will no longer be allowed to be loaded via this mode unless they are explicitly allowlisted by the user via `torch.serialization.add_safe_globals`. We recommend you start setting `weights_only=True` for any use case where you don't have full control of the loaded file. Please open an issue on GitHub for any issues related to this experimental feature.\n",
      "  checkpoint = torch.load(model_path)\n",
      "/home/tyler/Desktop/ResearchProject/Load_Model.py:19: FutureWarning: You are using `torch.load` with `weights_only=False` (the current default value), which uses the default pickle module implicitly. It is possible to construct malicious pickle data which will execute arbitrary code during unpickling (See https://github.com/pytorch/pytorch/blob/main/SECURITY.md#untrusted-models for more details). In a future release, the default value for `weights_only` will be flipped to `True`. This limits the functions that could be executed during unpickling. Arbitrary objects will no longer be allowed to be loaded via this mode unless they are explicitly allowlisted by the user via `torch.serialization.add_safe_globals`. We recommend you start setting `weights_only=True` for any use case where you don't have full control of the loaded file. Please open an issue on GitHub for any issues related to this experimental feature.\n",
      "  checkpoint = torch.load(model_path, map_location=\"cpu\")\n"
     ]
    },
    {
     "name": "stdout",
     "output_type": "stream",
     "text": [
      "[Mask] Epoch 1: Loss=2.2615, Benign Acc=0.1013\n",
      "[Mask] Epoch 2: Loss=2.2369, Benign Acc=0.1013\n",
      "[Mask] Epoch 3: Loss=2.1488, Benign Acc=0.1416\n",
      "[Mask] Epoch 4: Loss=1.7932, Benign Acc=0.6235\n",
      "[Mask] Epoch 5: Loss=0.7632, Benign Acc=0.9885\n",
      "[Mask] Epoch 6: Loss=0.1376, Benign Acc=0.9928\n",
      "[Mask] Epoch 7: Loss=0.0537, Benign Acc=0.9928\n",
      "[Mask] Epoch 8: Loss=0.0311, Benign Acc=0.9926\n",
      "[Mask] Epoch 9: Loss=0.0195, Benign Acc=0.9936\n",
      "[Mask] Epoch 10: Loss=0.0125, Benign Acc=0.9945\n",
      "[Mask] Epoch 11: Loss=0.0081, Benign Acc=0.9945\n",
      "[Mask] Epoch 12: Loss=0.0030, Benign Acc=0.9949\n",
      "[Mask] Epoch 13: Loss=0.0003, Benign Acc=0.9941\n",
      "[Mask] Epoch 14: Loss=-0.0030, Benign Acc=0.9946\n",
      "[Mask] Epoch 15: Loss=-0.0044, Benign Acc=0.9949\n",
      "[Mask] Epoch 16: Loss=-0.0060, Benign Acc=0.9952\n",
      "[Mask] Epoch 17: Loss=-0.0079, Benign Acc=0.9951\n",
      "[Mask] Epoch 18: Loss=-0.0096, Benign Acc=0.9949\n",
      "[Mask] Epoch 19: Loss=-0.0107, Benign Acc=0.9951\n",
      "[Mask] Epoch 20: Loss=-0.0121, Benign Acc=0.9954\n"
     ]
    },
    {
     "name": "stderr",
     "output_type": "stream",
     "text": [
      "/home/tyler/Desktop/ResearchProject/Load_Model.py:421: UserWarning: Implicit dimension choice for log_softmax has been deprecated. Change the call to include dim=X as an argument.\n",
      "  return F.log_softmax(output)\n"
     ]
    },
    {
     "name": "stdout",
     "output_type": "stream",
     "text": [
      "[Mask] Epoch 1: Loss=1.9149, Benign Acc=0.8764\n",
      "[Mask] Epoch 2: Loss=1.5197, Benign Acc=0.9911\n",
      "[Mask] Epoch 3: Loss=0.7750, Benign Acc=0.9978\n",
      "[Mask] Epoch 4: Loss=0.2212, Benign Acc=0.9985\n",
      "[Mask] Epoch 5: Loss=0.0797, Benign Acc=0.9995\n",
      "[Mask] Epoch 6: Loss=0.0430, Benign Acc=0.9994\n",
      "[Mask] Epoch 7: Loss=0.0283, Benign Acc=0.9998\n",
      "[Mask] Epoch 8: Loss=0.0201, Benign Acc=0.9999\n",
      "[Mask] Epoch 9: Loss=0.0153, Benign Acc=0.9999\n",
      "[Mask] Epoch 10: Loss=0.0123, Benign Acc=1.0000\n",
      "[Mask] Epoch 11: Loss=0.0096, Benign Acc=0.9999\n",
      "[Mask] Epoch 12: Loss=0.0083, Benign Acc=1.0000\n",
      "[Mask] Epoch 13: Loss=0.0070, Benign Acc=0.9999\n",
      "[Mask] Epoch 14: Loss=0.0057, Benign Acc=1.0000\n",
      "[Mask] Epoch 15: Loss=0.0053, Benign Acc=1.0000\n",
      "[Mask] Epoch 16: Loss=0.0043, Benign Acc=1.0000\n",
      "[Mask] Epoch 17: Loss=0.0040, Benign Acc=1.0000\n",
      "[Mask] Epoch 18: Loss=0.0034, Benign Acc=1.0000\n",
      "[Mask] Epoch 19: Loss=0.0035, Benign Acc=1.0000\n",
      "[Mask] Epoch 20: Loss=0.0031, Benign Acc=1.0000\n",
      "[Mask] Epoch 1: Loss=0.9907, Benign Acc=0.9999\n",
      "[Mask] Epoch 2: Loss=0.4321, Benign Acc=1.0000\n",
      "[Mask] Epoch 3: Loss=0.1512, Benign Acc=1.0000\n",
      "[Mask] Epoch 4: Loss=0.0667, Benign Acc=1.0000\n",
      "[Mask] Epoch 5: Loss=0.0378, Benign Acc=1.0000\n",
      "[Mask] Epoch 6: Loss=0.0252, Benign Acc=1.0000\n",
      "[Mask] Epoch 7: Loss=0.0185, Benign Acc=1.0000\n",
      "[Mask] Epoch 8: Loss=0.0142, Benign Acc=1.0000\n",
      "[Mask] Epoch 9: Loss=0.0113, Benign Acc=1.0000\n",
      "[Mask] Epoch 10: Loss=0.0094, Benign Acc=1.0000\n",
      "[Mask] Epoch 11: Loss=0.0079, Benign Acc=1.0000\n",
      "[Mask] Epoch 12: Loss=0.0068, Benign Acc=1.0000\n",
      "[Mask] Epoch 13: Loss=0.0061, Benign Acc=1.0000\n",
      "[Mask] Epoch 14: Loss=0.0054, Benign Acc=1.0000\n",
      "[Mask] Epoch 15: Loss=0.0046, Benign Acc=1.0000\n",
      "[Mask] Epoch 16: Loss=0.0042, Benign Acc=1.0000\n",
      "[Mask] Epoch 17: Loss=0.0039, Benign Acc=1.0000\n",
      "[Mask] Epoch 18: Loss=0.0035, Benign Acc=1.0000\n",
      "[Mask] Epoch 19: Loss=0.0032, Benign Acc=1.0000\n",
      "[Mask] Epoch 20: Loss=0.0030, Benign Acc=1.0000\n",
      "[Mask] Epoch 1: Loss=0.2328, Benign Acc=0.9994\n",
      "[Mask] Epoch 2: Loss=0.0713, Benign Acc=0.9999\n",
      "[Mask] Epoch 3: Loss=0.0331, Benign Acc=0.9998\n",
      "[Mask] Epoch 4: Loss=0.0197, Benign Acc=1.0000\n",
      "[Mask] Epoch 5: Loss=0.0137, Benign Acc=0.9998\n",
      "[Mask] Epoch 6: Loss=0.0101, Benign Acc=1.0000\n",
      "[Mask] Epoch 7: Loss=0.0081, Benign Acc=1.0000\n",
      "[Mask] Epoch 8: Loss=0.0066, Benign Acc=0.9999\n",
      "[Mask] Epoch 9: Loss=0.0057, Benign Acc=0.9998\n",
      "[Mask] Epoch 10: Loss=0.0047, Benign Acc=0.9999\n",
      "[Mask] Epoch 11: Loss=0.0042, Benign Acc=0.9999\n",
      "[Mask] Epoch 12: Loss=0.0036, Benign Acc=0.9999\n",
      "[Mask] Epoch 13: Loss=0.0032, Benign Acc=0.9999\n",
      "[Mask] Epoch 14: Loss=0.0028, Benign Acc=0.9999\n",
      "[Mask] Epoch 15: Loss=0.0027, Benign Acc=0.9999\n",
      "[Mask] Epoch 16: Loss=0.0022, Benign Acc=1.0000\n",
      "[Mask] Epoch 17: Loss=0.0022, Benign Acc=1.0000\n",
      "[Mask] Epoch 18: Loss=0.0020, Benign Acc=1.0000\n",
      "[Mask] Epoch 19: Loss=0.0018, Benign Acc=0.9999\n",
      "[Mask] Epoch 20: Loss=0.0018, Benign Acc=1.0000\n",
      "[Mask] Epoch 1: Loss=0.0341, Benign Acc=0.9999\n",
      "[Mask] Epoch 2: Loss=0.0108, Benign Acc=1.0000\n",
      "[Mask] Epoch 3: Loss=0.0060, Benign Acc=1.0000\n",
      "[Mask] Epoch 4: Loss=0.0039, Benign Acc=1.0000\n",
      "[Mask] Epoch 5: Loss=0.0030, Benign Acc=1.0000\n",
      "[Mask] Epoch 6: Loss=0.0023, Benign Acc=1.0000\n",
      "[Mask] Epoch 7: Loss=0.0018, Benign Acc=1.0000\n",
      "[Mask] Epoch 8: Loss=0.0016, Benign Acc=1.0000\n",
      "[Mask] Epoch 9: Loss=0.0013, Benign Acc=1.0000\n",
      "[Mask] Epoch 10: Loss=0.0011, Benign Acc=1.0000\n",
      "[Mask] Epoch 11: Loss=0.0010, Benign Acc=1.0000\n",
      "[Mask] Epoch 12: Loss=0.0010, Benign Acc=1.0000\n",
      "[Mask] Epoch 13: Loss=0.0008, Benign Acc=1.0000\n",
      "[Mask] Epoch 14: Loss=0.0008, Benign Acc=1.0000\n",
      "[Mask] Epoch 15: Loss=0.0007, Benign Acc=1.0000\n",
      "[Mask] Epoch 16: Loss=0.0007, Benign Acc=1.0000\n",
      "[Mask] Epoch 17: Loss=0.0006, Benign Acc=1.0000\n",
      "[Mask] Epoch 18: Loss=0.0006, Benign Acc=1.0000\n",
      "[Mask] Epoch 19: Loss=0.0006, Benign Acc=1.0000\n",
      "[Mask] Epoch 20: Loss=0.0005, Benign Acc=1.0000\n",
      "Evaluating model: ./Odysseus-MNIST/Models/Model_834.pth\n",
      "Dataset directory: ./test_results/datasets/Odysseus-MNIST/Models/Model_834.pth_MNIST\n",
      "============================================================\n",
      "Dataset statistics:\n",
      "  Total images: 2000\n",
      "  Triggered images: 1000\n",
      "  Clean images: 1000\n"
     ]
    },
    {
     "name": "stderr",
     "output_type": "stream",
     "text": [
      "/home/tyler/Desktop/ResearchProject/Load_Model.py:421: UserWarning: Implicit dimension choice for log_softmax has been deprecated. Change the call to include dim=X as an argument.\n",
      "  return F.log_softmax(output)\n"
     ]
    },
    {
     "name": "stdout",
     "output_type": "stream",
     "text": [
      "Evaluating model: ./Odysseus-MNIST/Models/Model_834.pth\n",
      "Dataset directory: ./test_results/datasets/Odysseus-MNIST/Models/Model_834.pth_MNIST\n",
      "============================================================\n",
      "Dataset statistics:\n",
      "  Total images: 2000\n",
      "  Triggered images: 1000\n",
      "  Clean images: 1000\n"
     ]
    },
    {
     "name": "stderr",
     "output_type": "stream",
     "text": [
      "/home/tyler/Desktop/ResearchProject/Load_Model.py:421: UserWarning: Implicit dimension choice for log_softmax has been deprecated. Change the call to include dim=X as an argument.\n",
      "  return F.log_softmax(output)\n",
      "BTI-DBF (U): Models:  60%|█████████████▊         | 3/5 [13:53<09:23, 281.72s/it]"
     ]
    },
    {
     "name": "stdout",
     "output_type": "stream",
     "text": [
      "keys are : dict_keys(['net', 'Model Category', 'Architecture_Name', 'Learning_Rate', 'Loss Function', 'optimizer', 'Momentum', 'Weight decay', 'num_workers', 'Pytorch version', 'Trigger type', 'Trigger Size', 'Trigger_location', 'Mapping', 'Normalization Type', 'Mapping Type', 'Dataset', 'Batch Size', 'trigger_fraction', 'test_clean_acc', 'test_trigerred_acc', 'epoch'])\n",
      "==> Building model..\n",
      "The Accuracies on clean samples:   99.325\n",
      "The fooling rate:  97.35\n",
      "Mapping is :  [5. 0. 0. 0. 1. 8. 9. 4. 2. 2.] <class 'numpy.ndarray'>\n"
     ]
    },
    {
     "name": "stderr",
     "output_type": "stream",
     "text": [
      "/home/tyler/Desktop/ResearchProject/Load_Model.py:34: FutureWarning: You are using `torch.load` with `weights_only=False` (the current default value), which uses the default pickle module implicitly. It is possible to construct malicious pickle data which will execute arbitrary code during unpickling (See https://github.com/pytorch/pytorch/blob/main/SECURITY.md#untrusted-models for more details). In a future release, the default value for `weights_only` will be flipped to `True`. This limits the functions that could be executed during unpickling. Arbitrary objects will no longer be allowed to be loaded via this mode unless they are explicitly allowlisted by the user via `torch.serialization.add_safe_globals`. We recommend you start setting `weights_only=True` for any use case where you don't have full control of the loaded file. Please open an issue on GitHub for any issues related to this experimental feature.\n",
      "  checkpoint = torch.load(model_path)\n",
      "/home/tyler/Desktop/ResearchProject/Load_Model.py:19: FutureWarning: You are using `torch.load` with `weights_only=False` (the current default value), which uses the default pickle module implicitly. It is possible to construct malicious pickle data which will execute arbitrary code during unpickling (See https://github.com/pytorch/pytorch/blob/main/SECURITY.md#untrusted-models for more details). In a future release, the default value for `weights_only` will be flipped to `True`. This limits the functions that could be executed during unpickling. Arbitrary objects will no longer be allowed to be loaded via this mode unless they are explicitly allowlisted by the user via `torch.serialization.add_safe_globals`. We recommend you start setting `weights_only=True` for any use case where you don't have full control of the loaded file. Please open an issue on GitHub for any issues related to this experimental feature.\n",
      "  checkpoint = torch.load(model_path, map_location=\"cpu\")\n"
     ]
    },
    {
     "name": "stdout",
     "output_type": "stream",
     "text": [
      "[Mask] Epoch 1: Loss=2.2396, Benign Acc=0.2079\n",
      "[Mask] Epoch 2: Loss=2.1718, Benign Acc=0.2858\n",
      "[Mask] Epoch 3: Loss=1.9552, Benign Acc=0.4693\n",
      "[Mask] Epoch 4: Loss=1.2449, Benign Acc=0.8829\n",
      "[Mask] Epoch 5: Loss=0.3276, Benign Acc=0.9875\n",
      "[Mask] Epoch 6: Loss=0.0899, Benign Acc=0.9892\n",
      "[Mask] Epoch 7: Loss=0.0452, Benign Acc=0.9896\n",
      "[Mask] Epoch 8: Loss=0.0287, Benign Acc=0.9906\n",
      "[Mask] Epoch 9: Loss=0.0192, Benign Acc=0.9910\n",
      "[Mask] Epoch 10: Loss=0.0131, Benign Acc=0.9912\n",
      "[Mask] Epoch 11: Loss=0.0089, Benign Acc=0.9904\n",
      "[Mask] Epoch 12: Loss=0.0058, Benign Acc=0.9914\n",
      "[Mask] Epoch 13: Loss=0.0041, Benign Acc=0.9909\n",
      "[Mask] Epoch 14: Loss=0.0023, Benign Acc=0.9920\n",
      "[Mask] Epoch 15: Loss=-0.0002, Benign Acc=0.9915\n",
      "[Mask] Epoch 16: Loss=-0.0013, Benign Acc=0.9926\n",
      "[Mask] Epoch 17: Loss=-0.0022, Benign Acc=0.9912\n",
      "[Mask] Epoch 18: Loss=-0.0029, Benign Acc=0.9918\n",
      "[Mask] Epoch 19: Loss=-0.0043, Benign Acc=0.9916\n",
      "[Mask] Epoch 20: Loss=-0.0037, Benign Acc=0.9924\n"
     ]
    },
    {
     "name": "stderr",
     "output_type": "stream",
     "text": [
      "/home/tyler/Desktop/ResearchProject/Load_Model.py:371: UserWarning: Implicit dimension choice for log_softmax has been deprecated. Change the call to include dim=X as an argument.\n",
      "  return F.log_softmax(output)\n"
     ]
    },
    {
     "name": "stdout",
     "output_type": "stream",
     "text": [
      "[Mask] Epoch 1: Loss=1.9190, Benign Acc=0.5811\n",
      "[Mask] Epoch 2: Loss=1.5083, Benign Acc=0.9419\n",
      "[Mask] Epoch 3: Loss=0.7482, Benign Acc=0.9979\n",
      "[Mask] Epoch 4: Loss=0.2088, Benign Acc=0.9991\n",
      "[Mask] Epoch 5: Loss=0.0781, Benign Acc=0.9995\n",
      "[Mask] Epoch 6: Loss=0.0433, Benign Acc=0.9994\n",
      "[Mask] Epoch 7: Loss=0.0294, Benign Acc=0.9999\n",
      "[Mask] Epoch 8: Loss=0.0218, Benign Acc=0.9999\n",
      "[Mask] Epoch 9: Loss=0.0173, Benign Acc=0.9998\n",
      "[Mask] Epoch 10: Loss=0.0144, Benign Acc=0.9998\n",
      "[Mask] Epoch 11: Loss=0.0119, Benign Acc=0.9998\n",
      "[Mask] Epoch 12: Loss=0.0106, Benign Acc=0.9998\n",
      "[Mask] Epoch 13: Loss=0.0092, Benign Acc=0.9996\n",
      "[Mask] Epoch 14: Loss=0.0080, Benign Acc=0.9999\n",
      "[Mask] Epoch 15: Loss=0.0074, Benign Acc=0.9999\n",
      "[Mask] Epoch 16: Loss=0.0068, Benign Acc=0.9999\n",
      "[Mask] Epoch 17: Loss=0.0058, Benign Acc=0.9999\n",
      "[Mask] Epoch 18: Loss=0.0056, Benign Acc=0.9999\n",
      "[Mask] Epoch 19: Loss=0.0051, Benign Acc=1.0000\n",
      "[Mask] Epoch 20: Loss=0.0048, Benign Acc=0.9998\n",
      "[Mask] Epoch 1: Loss=1.5004, Benign Acc=0.8800\n",
      "[Mask] Epoch 2: Loss=0.8834, Benign Acc=0.9965\n",
      "[Mask] Epoch 3: Loss=0.3157, Benign Acc=0.9989\n",
      "[Mask] Epoch 4: Loss=0.1042, Benign Acc=0.9991\n",
      "[Mask] Epoch 5: Loss=0.0495, Benign Acc=0.9995\n",
      "[Mask] Epoch 6: Loss=0.0303, Benign Acc=0.9996\n",
      "[Mask] Epoch 7: Loss=0.0212, Benign Acc=0.9995\n",
      "[Mask] Epoch 8: Loss=0.0160, Benign Acc=0.9998\n",
      "[Mask] Epoch 9: Loss=0.0124, Benign Acc=0.9998\n",
      "[Mask] Epoch 10: Loss=0.0101, Benign Acc=0.9999\n",
      "[Mask] Epoch 11: Loss=0.0085, Benign Acc=0.9999\n",
      "[Mask] Epoch 12: Loss=0.0074, Benign Acc=0.9999\n",
      "[Mask] Epoch 13: Loss=0.0065, Benign Acc=1.0000\n",
      "[Mask] Epoch 14: Loss=0.0057, Benign Acc=1.0000\n",
      "[Mask] Epoch 15: Loss=0.0049, Benign Acc=0.9999\n",
      "[Mask] Epoch 16: Loss=0.0045, Benign Acc=0.9999\n",
      "[Mask] Epoch 17: Loss=0.0040, Benign Acc=1.0000\n",
      "[Mask] Epoch 18: Loss=0.0037, Benign Acc=0.9999\n",
      "[Mask] Epoch 19: Loss=0.0033, Benign Acc=0.9999\n",
      "[Mask] Epoch 20: Loss=0.0031, Benign Acc=0.9999\n",
      "[Mask] Epoch 1: Loss=1.0696, Benign Acc=0.9890\n",
      "[Mask] Epoch 2: Loss=0.4773, Benign Acc=0.9990\n",
      "[Mask] Epoch 3: Loss=0.1590, Benign Acc=0.9999\n",
      "[Mask] Epoch 4: Loss=0.0644, Benign Acc=1.0000\n",
      "[Mask] Epoch 5: Loss=0.0346, Benign Acc=1.0000\n",
      "[Mask] Epoch 6: Loss=0.0225, Benign Acc=0.9999\n",
      "[Mask] Epoch 7: Loss=0.0161, Benign Acc=0.9999\n",
      "[Mask] Epoch 8: Loss=0.0122, Benign Acc=1.0000\n",
      "[Mask] Epoch 9: Loss=0.0096, Benign Acc=1.0000\n",
      "[Mask] Epoch 10: Loss=0.0080, Benign Acc=0.9999\n",
      "[Mask] Epoch 11: Loss=0.0065, Benign Acc=1.0000\n",
      "[Mask] Epoch 12: Loss=0.0057, Benign Acc=1.0000\n",
      "[Mask] Epoch 13: Loss=0.0049, Benign Acc=1.0000\n",
      "[Mask] Epoch 14: Loss=0.0043, Benign Acc=1.0000\n",
      "[Mask] Epoch 15: Loss=0.0038, Benign Acc=1.0000\n",
      "[Mask] Epoch 16: Loss=0.0034, Benign Acc=1.0000\n",
      "[Mask] Epoch 17: Loss=0.0030, Benign Acc=1.0000\n",
      "[Mask] Epoch 18: Loss=0.0029, Benign Acc=1.0000\n",
      "[Mask] Epoch 19: Loss=0.0025, Benign Acc=1.0000\n",
      "[Mask] Epoch 20: Loss=0.0024, Benign Acc=1.0000\n",
      "[Mask] Epoch 1: Loss=0.6594, Benign Acc=0.9974\n",
      "[Mask] Epoch 2: Loss=0.2310, Benign Acc=0.9999\n",
      "[Mask] Epoch 3: Loss=0.0811, Benign Acc=1.0000\n",
      "[Mask] Epoch 4: Loss=0.0384, Benign Acc=1.0000\n",
      "[Mask] Epoch 5: Loss=0.0228, Benign Acc=0.9999\n",
      "[Mask] Epoch 6: Loss=0.0155, Benign Acc=1.0000\n",
      "[Mask] Epoch 7: Loss=0.0113, Benign Acc=1.0000\n",
      "[Mask] Epoch 8: Loss=0.0088, Benign Acc=0.9999\n",
      "[Mask] Epoch 9: Loss=0.0071, Benign Acc=1.0000\n",
      "[Mask] Epoch 10: Loss=0.0058, Benign Acc=1.0000\n",
      "[Mask] Epoch 11: Loss=0.0048, Benign Acc=1.0000\n",
      "[Mask] Epoch 12: Loss=0.0043, Benign Acc=1.0000\n",
      "[Mask] Epoch 13: Loss=0.0036, Benign Acc=1.0000\n",
      "[Mask] Epoch 14: Loss=0.0033, Benign Acc=1.0000\n",
      "[Mask] Epoch 15: Loss=0.0029, Benign Acc=1.0000\n",
      "[Mask] Epoch 16: Loss=0.0026, Benign Acc=1.0000\n",
      "[Mask] Epoch 17: Loss=0.0023, Benign Acc=1.0000\n",
      "[Mask] Epoch 18: Loss=0.0021, Benign Acc=1.0000\n",
      "[Mask] Epoch 19: Loss=0.0019, Benign Acc=1.0000\n",
      "[Mask] Epoch 20: Loss=0.0018, Benign Acc=1.0000\n",
      "Evaluating model: ./Odysseus-MNIST/Models/Model_763.pth\n",
      "Dataset directory: ./test_results/datasets/Odysseus-MNIST/Models/Model_763.pth_MNIST\n",
      "============================================================\n",
      "Dataset statistics:\n",
      "  Total images: 2000\n",
      "  Triggered images: 1000\n",
      "  Clean images: 1000\n"
     ]
    },
    {
     "name": "stderr",
     "output_type": "stream",
     "text": [
      "/home/tyler/Desktop/ResearchProject/Load_Model.py:371: UserWarning: Implicit dimension choice for log_softmax has been deprecated. Change the call to include dim=X as an argument.\n",
      "  return F.log_softmax(output)\n"
     ]
    },
    {
     "name": "stdout",
     "output_type": "stream",
     "text": [
      "Evaluating model: ./Odysseus-MNIST/Models/Model_763.pth\n",
      "Dataset directory: ./test_results/datasets/Odysseus-MNIST/Models/Model_763.pth_MNIST\n",
      "============================================================\n",
      "Dataset statistics:\n",
      "  Total images: 2000\n",
      "  Triggered images: 1000\n",
      "  Clean images: 1000\n"
     ]
    },
    {
     "name": "stderr",
     "output_type": "stream",
     "text": [
      "/home/tyler/Desktop/ResearchProject/Load_Model.py:371: UserWarning: Implicit dimension choice for log_softmax has been deprecated. Change the call to include dim=X as an argument.\n",
      "  return F.log_softmax(output)\n",
      "BTI-DBF (U): Models:  80%|██████████████████▍    | 4/5 [17:40<04:20, 260.25s/it]"
     ]
    },
    {
     "name": "stdout",
     "output_type": "stream",
     "text": [
      "keys are : dict_keys(['net', 'Model Category', 'Architecture_Name', 'Learning_Rate', 'Loss Function', 'optimizer', 'Momentum', 'Weight decay', 'num_workers', 'Pytorch version', 'Trigger type', 'Trigger Size', 'Trigger_location', 'Mapping', 'Normalization Type', 'Mapping Type', 'Dataset', 'Batch Size', 'trigger_fraction', 'test_clean_acc', 'test_trigerred_acc', 'epoch'])\n",
      "==> Building model..\n",
      "The Accuracies on clean samples:   99.3875\n",
      "The fooling rate:  98.85\n",
      "Mapping is :  [3. 2. 2. 2. 5. 6. 9. 8. 4. 4.] <class 'numpy.ndarray'>\n"
     ]
    },
    {
     "name": "stderr",
     "output_type": "stream",
     "text": [
      "/home/tyler/Desktop/ResearchProject/Load_Model.py:34: FutureWarning: You are using `torch.load` with `weights_only=False` (the current default value), which uses the default pickle module implicitly. It is possible to construct malicious pickle data which will execute arbitrary code during unpickling (See https://github.com/pytorch/pytorch/blob/main/SECURITY.md#untrusted-models for more details). In a future release, the default value for `weights_only` will be flipped to `True`. This limits the functions that could be executed during unpickling. Arbitrary objects will no longer be allowed to be loaded via this mode unless they are explicitly allowlisted by the user via `torch.serialization.add_safe_globals`. We recommend you start setting `weights_only=True` for any use case where you don't have full control of the loaded file. Please open an issue on GitHub for any issues related to this experimental feature.\n",
      "  checkpoint = torch.load(model_path)\n",
      "/home/tyler/Desktop/ResearchProject/Load_Model.py:19: FutureWarning: You are using `torch.load` with `weights_only=False` (the current default value), which uses the default pickle module implicitly. It is possible to construct malicious pickle data which will execute arbitrary code during unpickling (See https://github.com/pytorch/pytorch/blob/main/SECURITY.md#untrusted-models for more details). In a future release, the default value for `weights_only` will be flipped to `True`. This limits the functions that could be executed during unpickling. Arbitrary objects will no longer be allowed to be loaded via this mode unless they are explicitly allowlisted by the user via `torch.serialization.add_safe_globals`. We recommend you start setting `weights_only=True` for any use case where you don't have full control of the loaded file. Please open an issue on GitHub for any issues related to this experimental feature.\n",
      "  checkpoint = torch.load(model_path, map_location=\"cpu\")\n"
     ]
    },
    {
     "name": "stdout",
     "output_type": "stream",
     "text": [
      "[Mask] Epoch 1: Loss=2.2957, Benign Acc=0.1000\n",
      "[Mask] Epoch 2: Loss=2.2913, Benign Acc=0.1000\n",
      "[Mask] Epoch 3: Loss=2.2766, Benign Acc=0.1000\n",
      "[Mask] Epoch 4: Loss=2.2124, Benign Acc=0.1522\n",
      "[Mask] Epoch 5: Loss=1.8759, Benign Acc=0.6352\n",
      "[Mask] Epoch 6: Loss=0.7754, Benign Acc=0.9858\n",
      "[Mask] Epoch 7: Loss=0.1369, Benign Acc=0.9906\n",
      "[Mask] Epoch 8: Loss=0.0585, Benign Acc=0.9914\n",
      "[Mask] Epoch 9: Loss=0.0375, Benign Acc=0.9916\n",
      "[Mask] Epoch 10: Loss=0.0259, Benign Acc=0.9926\n",
      "[Mask] Epoch 11: Loss=0.0180, Benign Acc=0.9932\n",
      "[Mask] Epoch 12: Loss=0.0136, Benign Acc=0.9931\n",
      "[Mask] Epoch 13: Loss=0.0098, Benign Acc=0.9924\n",
      "[Mask] Epoch 14: Loss=0.0096, Benign Acc=0.9926\n",
      "[Mask] Epoch 15: Loss=0.0044, Benign Acc=0.9934\n",
      "[Mask] Epoch 16: Loss=0.0031, Benign Acc=0.9939\n",
      "[Mask] Epoch 17: Loss=-0.0005, Benign Acc=0.9945\n",
      "[Mask] Epoch 18: Loss=-0.0022, Benign Acc=0.9939\n",
      "[Mask] Epoch 19: Loss=-0.0042, Benign Acc=0.9938\n",
      "[Mask] Epoch 20: Loss=-0.0054, Benign Acc=0.9941\n"
     ]
    },
    {
     "name": "stderr",
     "output_type": "stream",
     "text": [
      "/home/tyler/Desktop/ResearchProject/Load_Model.py:322: UserWarning: Implicit dimension choice for log_softmax has been deprecated. Change the call to include dim=X as an argument.\n",
      "  return F.log_softmax(output)\n"
     ]
    },
    {
     "name": "stdout",
     "output_type": "stream",
     "text": [
      "[Mask] Epoch 1: Loss=2.2780, Benign Acc=0.1608\n",
      "[Mask] Epoch 2: Loss=2.2401, Benign Acc=0.1938\n",
      "[Mask] Epoch 3: Loss=2.1186, Benign Acc=0.4763\n",
      "[Mask] Epoch 4: Loss=1.6469, Benign Acc=0.9535\n",
      "[Mask] Epoch 5: Loss=0.5582, Benign Acc=0.9981\n",
      "[Mask] Epoch 6: Loss=0.1032, Benign Acc=0.9995\n",
      "[Mask] Epoch 7: Loss=0.0457, Benign Acc=0.9992\n",
      "[Mask] Epoch 8: Loss=0.0278, Benign Acc=0.9996\n",
      "[Mask] Epoch 9: Loss=0.0207, Benign Acc=0.9995\n",
      "[Mask] Epoch 10: Loss=0.0150, Benign Acc=0.9999\n",
      "[Mask] Epoch 11: Loss=0.0123, Benign Acc=0.9996\n",
      "[Mask] Epoch 12: Loss=0.0100, Benign Acc=1.0000\n",
      "[Mask] Epoch 13: Loss=0.0083, Benign Acc=1.0000\n",
      "[Mask] Epoch 14: Loss=0.0069, Benign Acc=0.9999\n",
      "[Mask] Epoch 15: Loss=0.0062, Benign Acc=0.9998\n",
      "[Mask] Epoch 16: Loss=0.0054, Benign Acc=0.9999\n",
      "[Mask] Epoch 17: Loss=0.0049, Benign Acc=0.9999\n",
      "[Mask] Epoch 18: Loss=0.0045, Benign Acc=0.9999\n",
      "[Mask] Epoch 19: Loss=0.0037, Benign Acc=0.9999\n",
      "[Mask] Epoch 20: Loss=0.0037, Benign Acc=1.0000\n",
      "[Mask] Epoch 1: Loss=2.2131, Benign Acc=0.1776\n",
      "[Mask] Epoch 2: Loss=2.1063, Benign Acc=0.4749\n",
      "[Mask] Epoch 3: Loss=1.7829, Benign Acc=0.9383\n",
      "[Mask] Epoch 4: Loss=0.9055, Benign Acc=0.9995\n",
      "[Mask] Epoch 5: Loss=0.1813, Benign Acc=1.0000\n",
      "[Mask] Epoch 6: Loss=0.0558, Benign Acc=0.9999\n",
      "[Mask] Epoch 7: Loss=0.0305, Benign Acc=0.9998\n",
      "[Mask] Epoch 8: Loss=0.0200, Benign Acc=1.0000\n",
      "[Mask] Epoch 9: Loss=0.0150, Benign Acc=1.0000\n",
      "[Mask] Epoch 10: Loss=0.0115, Benign Acc=0.9999\n",
      "[Mask] Epoch 11: Loss=0.0088, Benign Acc=1.0000\n",
      "[Mask] Epoch 12: Loss=0.0077, Benign Acc=0.9999\n",
      "[Mask] Epoch 13: Loss=0.0068, Benign Acc=0.9999\n",
      "[Mask] Epoch 14: Loss=0.0055, Benign Acc=1.0000\n",
      "[Mask] Epoch 15: Loss=0.0046, Benign Acc=1.0000\n",
      "[Mask] Epoch 16: Loss=0.0042, Benign Acc=1.0000\n",
      "[Mask] Epoch 17: Loss=0.0038, Benign Acc=1.0000\n",
      "[Mask] Epoch 18: Loss=0.0033, Benign Acc=1.0000\n",
      "[Mask] Epoch 19: Loss=0.0030, Benign Acc=1.0000\n",
      "[Mask] Epoch 20: Loss=0.0028, Benign Acc=1.0000\n",
      "[Mask] Epoch 1: Loss=2.1265, Benign Acc=0.2671\n",
      "[Mask] Epoch 2: Loss=1.9237, Benign Acc=0.7060\n",
      "[Mask] Epoch 3: Loss=1.3767, Benign Acc=0.9842\n",
      "[Mask] Epoch 4: Loss=0.4759, Benign Acc=0.9995\n",
      "[Mask] Epoch 5: Loss=0.1084, Benign Acc=0.9998\n",
      "[Mask] Epoch 6: Loss=0.0463, Benign Acc=0.9998\n",
      "[Mask] Epoch 7: Loss=0.0274, Benign Acc=0.9999\n",
      "[Mask] Epoch 8: Loss=0.0183, Benign Acc=0.9998\n",
      "[Mask] Epoch 9: Loss=0.0137, Benign Acc=0.9999\n",
      "[Mask] Epoch 10: Loss=0.0105, Benign Acc=1.0000\n",
      "[Mask] Epoch 11: Loss=0.0084, Benign Acc=0.9999\n",
      "[Mask] Epoch 12: Loss=0.0065, Benign Acc=1.0000\n",
      "[Mask] Epoch 13: Loss=0.0056, Benign Acc=1.0000\n",
      "[Mask] Epoch 14: Loss=0.0050, Benign Acc=1.0000\n",
      "[Mask] Epoch 15: Loss=0.0042, Benign Acc=0.9999\n",
      "[Mask] Epoch 16: Loss=0.0038, Benign Acc=1.0000\n",
      "[Mask] Epoch 17: Loss=0.0032, Benign Acc=1.0000\n",
      "[Mask] Epoch 18: Loss=0.0031, Benign Acc=1.0000\n",
      "[Mask] Epoch 19: Loss=0.0025, Benign Acc=1.0000\n",
      "[Mask] Epoch 20: Loss=0.0025, Benign Acc=1.0000\n",
      "[Mask] Epoch 1: Loss=2.0160, Benign Acc=0.4549\n",
      "[Mask] Epoch 2: Loss=1.7002, Benign Acc=0.8790\n",
      "[Mask] Epoch 3: Loss=0.9918, Benign Acc=0.9954\n",
      "[Mask] Epoch 4: Loss=0.2744, Benign Acc=0.9998\n",
      "[Mask] Epoch 5: Loss=0.0800, Benign Acc=0.9999\n",
      "[Mask] Epoch 6: Loss=0.0383, Benign Acc=1.0000\n",
      "[Mask] Epoch 7: Loss=0.0238, Benign Acc=0.9998\n",
      "[Mask] Epoch 8: Loss=0.0167, Benign Acc=0.9999\n",
      "[Mask] Epoch 9: Loss=0.0123, Benign Acc=0.9999\n",
      "[Mask] Epoch 10: Loss=0.0096, Benign Acc=1.0000\n",
      "[Mask] Epoch 11: Loss=0.0079, Benign Acc=1.0000\n",
      "[Mask] Epoch 12: Loss=0.0061, Benign Acc=1.0000\n",
      "[Mask] Epoch 13: Loss=0.0053, Benign Acc=0.9999\n",
      "[Mask] Epoch 14: Loss=0.0046, Benign Acc=1.0000\n",
      "[Mask] Epoch 15: Loss=0.0041, Benign Acc=0.9999\n",
      "[Mask] Epoch 16: Loss=0.0035, Benign Acc=1.0000\n",
      "[Mask] Epoch 17: Loss=0.0029, Benign Acc=1.0000\n",
      "[Mask] Epoch 18: Loss=0.0028, Benign Acc=1.0000\n",
      "[Mask] Epoch 19: Loss=0.0024, Benign Acc=0.9999\n",
      "[Mask] Epoch 20: Loss=0.0022, Benign Acc=1.0000\n",
      "Evaluating model: ./Odysseus-MNIST/Models/Model_762.pth\n",
      "Dataset directory: ./test_results/datasets/Odysseus-MNIST/Models/Model_762.pth_MNIST\n",
      "============================================================\n",
      "Dataset statistics:\n",
      "  Total images: 2000\n",
      "  Triggered images: 1000\n",
      "  Clean images: 1000\n"
     ]
    },
    {
     "name": "stderr",
     "output_type": "stream",
     "text": [
      "/home/tyler/Desktop/ResearchProject/Load_Model.py:322: UserWarning: Implicit dimension choice for log_softmax has been deprecated. Change the call to include dim=X as an argument.\n",
      "  return F.log_softmax(output)\n"
     ]
    },
    {
     "name": "stdout",
     "output_type": "stream",
     "text": [
      "Evaluating model: ./Odysseus-MNIST/Models/Model_762.pth\n",
      "Dataset directory: ./test_results/datasets/Odysseus-MNIST/Models/Model_762.pth_MNIST\n",
      "============================================================\n",
      "Dataset statistics:\n",
      "  Total images: 2000\n",
      "  Triggered images: 1000\n",
      "  Clean images: 1000\n"
     ]
    },
    {
     "name": "stderr",
     "output_type": "stream",
     "text": [
      "/home/tyler/Desktop/ResearchProject/Load_Model.py:322: UserWarning: Implicit dimension choice for log_softmax has been deprecated. Change the call to include dim=X as an argument.\n",
      "  return F.log_softmax(output)\n",
      "BTI-DBF (U): Models: 100%|███████████████████████| 5/5 [21:16<00:00, 255.23s/it]\n"
     ]
    },
    {
     "name": "stdout",
     "output_type": "stream",
     "text": [
      "✅ BTI-DBF (U) results saved to MNIST_BTI_DBF_U_results.csv\n"
     ]
    },
    {
     "name": "stderr",
     "output_type": "stream",
     "text": [
      "BTI-DBF (U): Models:   0%|                                | 0/5 [00:00<?, ?it/s]"
     ]
    },
    {
     "name": "stdout",
     "output_type": "stream",
     "text": [
      "keys are : dict_keys(['net', 'Model Category', 'Architecture_Name', 'Learning_Rate', 'Loss Function', 'optimizer', 'Momentum', 'Weight decay', 'num_workers', 'Pytorch version', 'Trigger type', 'Trigger Size', 'Trigger_location', 'Mapping', 'Normalization Type', 'Mapping Type', 'Dataset', 'Batch Size', 'trigger_fraction', 'test_clean_acc', 'test_trigerred_acc', 'epoch'])\n",
      "==> Building model..\n",
      "The Accuracies on clean samples:   99.2875\n",
      "The fooling rate:  97.3\n",
      "Mapping is :  [0. 7. 7. 7. 6. 4. 1. 9. 3. 3.] <class 'numpy.ndarray'>\n"
     ]
    },
    {
     "name": "stderr",
     "output_type": "stream",
     "text": [
      "/home/tyler/Desktop/ResearchProject/Load_Model.py:34: FutureWarning: You are using `torch.load` with `weights_only=False` (the current default value), which uses the default pickle module implicitly. It is possible to construct malicious pickle data which will execute arbitrary code during unpickling (See https://github.com/pytorch/pytorch/blob/main/SECURITY.md#untrusted-models for more details). In a future release, the default value for `weights_only` will be flipped to `True`. This limits the functions that could be executed during unpickling. Arbitrary objects will no longer be allowed to be loaded via this mode unless they are explicitly allowlisted by the user via `torch.serialization.add_safe_globals`. We recommend you start setting `weights_only=True` for any use case where you don't have full control of the loaded file. Please open an issue on GitHub for any issues related to this experimental feature.\n",
      "  checkpoint = torch.load(model_path)\n",
      "/home/tyler/Desktop/ResearchProject/Load_Model.py:19: FutureWarning: You are using `torch.load` with `weights_only=False` (the current default value), which uses the default pickle module implicitly. It is possible to construct malicious pickle data which will execute arbitrary code during unpickling (See https://github.com/pytorch/pytorch/blob/main/SECURITY.md#untrusted-models for more details). In a future release, the default value for `weights_only` will be flipped to `True`. This limits the functions that could be executed during unpickling. Arbitrary objects will no longer be allowed to be loaded via this mode unless they are explicitly allowlisted by the user via `torch.serialization.add_safe_globals`. We recommend you start setting `weights_only=True` for any use case where you don't have full control of the loaded file. Please open an issue on GitHub for any issues related to this experimental feature.\n",
      "  checkpoint = torch.load(model_path, map_location=\"cpu\")\n"
     ]
    },
    {
     "name": "stdout",
     "output_type": "stream",
     "text": [
      "[Mask] Epoch 1: Loss=2.2439, Benign Acc=0.1013\n",
      "[Mask] Epoch 2: Loss=2.1844, Benign Acc=0.1013\n",
      "[Mask] Epoch 3: Loss=1.9881, Benign Acc=0.1710\n",
      "[Mask] Epoch 4: Loss=1.3187, Benign Acc=0.7771\n",
      "[Mask] Epoch 5: Loss=0.3579, Benign Acc=0.9878\n",
      "[Mask] Epoch 6: Loss=0.0923, Benign Acc=0.9900\n",
      "[Mask] Epoch 7: Loss=0.0447, Benign Acc=0.9906\n",
      "[Mask] Epoch 8: Loss=0.0256, Benign Acc=0.9909\n",
      "[Mask] Epoch 9: Loss=0.0179, Benign Acc=0.9904\n",
      "[Mask] Epoch 10: Loss=0.0109, Benign Acc=0.9905\n",
      "[Mask] Epoch 11: Loss=0.0067, Benign Acc=0.9908\n",
      "[Mask] Epoch 12: Loss=0.0045, Benign Acc=0.9906\n",
      "[Mask] Epoch 13: Loss=0.0013, Benign Acc=0.9904\n",
      "[Mask] Epoch 14: Loss=-0.0005, Benign Acc=0.9911\n",
      "[Mask] Epoch 15: Loss=-0.0013, Benign Acc=0.9915\n",
      "[Mask] Epoch 16: Loss=-0.0029, Benign Acc=0.9911\n",
      "[Mask] Epoch 17: Loss=-0.0038, Benign Acc=0.9914\n",
      "[Mask] Epoch 18: Loss=-0.0046, Benign Acc=0.9912\n",
      "[Mask] Epoch 19: Loss=-0.0056, Benign Acc=0.9915\n",
      "[Mask] Epoch 20: Loss=-0.0067, Benign Acc=0.9914\n"
     ]
    },
    {
     "name": "stderr",
     "output_type": "stream",
     "text": [
      "/home/tyler/Desktop/ResearchProject/Load_Model.py:371: UserWarning: Implicit dimension choice for log_softmax has been deprecated. Change the call to include dim=X as an argument.\n",
      "  return F.log_softmax(output)\n"
     ]
    },
    {
     "name": "stdout",
     "output_type": "stream",
     "text": [
      "[Mask] Epoch 1: Loss=2.1116, Benign Acc=0.1259\n",
      "[Mask] Epoch 2: Loss=1.8833, Benign Acc=0.6072\n",
      "[Mask] Epoch 3: Loss=1.2739, Benign Acc=0.9851\n",
      "[Mask] Epoch 4: Loss=0.4068, Benign Acc=0.9995\n",
      "[Mask] Epoch 5: Loss=0.1094, Benign Acc=0.9992\n",
      "[Mask] Epoch 6: Loss=0.0546, Benign Acc=0.9999\n",
      "[Mask] Epoch 7: Loss=0.0358, Benign Acc=0.9996\n",
      "[Mask] Epoch 8: Loss=0.0268, Benign Acc=0.9995\n",
      "[Mask] Epoch 9: Loss=0.0212, Benign Acc=0.9996\n",
      "[Mask] Epoch 10: Loss=0.0180, Benign Acc=0.9998\n",
      "[Mask] Epoch 11: Loss=0.0153, Benign Acc=0.9996\n",
      "[Mask] Epoch 12: Loss=0.0133, Benign Acc=0.9995\n",
      "[Mask] Epoch 13: Loss=0.0117, Benign Acc=0.9999\n",
      "[Mask] Epoch 14: Loss=0.0108, Benign Acc=0.9998\n",
      "[Mask] Epoch 15: Loss=0.0100, Benign Acc=0.9998\n",
      "[Mask] Epoch 16: Loss=0.0094, Benign Acc=0.9996\n",
      "[Mask] Epoch 17: Loss=0.0082, Benign Acc=1.0000\n",
      "[Mask] Epoch 18: Loss=0.0078, Benign Acc=0.9999\n",
      "[Mask] Epoch 19: Loss=0.0075, Benign Acc=0.9999\n",
      "[Mask] Epoch 20: Loss=0.0070, Benign Acc=0.9999\n",
      "Evaluating model: ./Odysseus-MNIST/Models/Model_775.pth\n",
      "Dataset directory: ./test_results/datasets/Odysseus-MNIST/Models/Model_775.pth_MNIST\n",
      "============================================================\n",
      "Dataset statistics:\n",
      "  Total images: 2000\n",
      "  Triggered images: 1000\n",
      "  Clean images: 1000\n"
     ]
    },
    {
     "name": "stderr",
     "output_type": "stream",
     "text": [
      "/home/tyler/Desktop/ResearchProject/Load_Model.py:371: UserWarning: Implicit dimension choice for log_softmax has been deprecated. Change the call to include dim=X as an argument.\n",
      "  return F.log_softmax(output)\n"
     ]
    },
    {
     "name": "stdout",
     "output_type": "stream",
     "text": [
      "Evaluating model: ./Odysseus-MNIST/Models/Model_775.pth\n",
      "Dataset directory: ./test_results/datasets/Odysseus-MNIST/Models/Model_775.pth_MNIST\n",
      "============================================================\n",
      "Dataset statistics:\n",
      "  Total images: 2000\n",
      "  Triggered images: 1000\n",
      "  Clean images: 1000\n"
     ]
    },
    {
     "name": "stderr",
     "output_type": "stream",
     "text": [
      "/home/tyler/Desktop/ResearchProject/Load_Model.py:371: UserWarning: Implicit dimension choice for log_softmax has been deprecated. Change the call to include dim=X as an argument.\n",
      "  return F.log_softmax(output)\n",
      "BTI-DBF (U): Models:  20%|████▊                   | 1/5 [01:17<05:08, 77.07s/it]"
     ]
    },
    {
     "name": "stdout",
     "output_type": "stream",
     "text": [
      "keys are : dict_keys(['net', 'Model Category', 'Architecture_Name', 'Learning_Rate', 'Loss Function', 'optimizer', 'Momentum', 'Weight decay', 'num_workers', 'Pytorch version', 'Trigger type', 'Trigger Size', 'Trigger_location', 'Mapping', 'Normalization Type', 'Mapping Type', 'Dataset', 'Batch Size', 'trigger_fraction', 'test_clean_acc', 'test_trigerred_acc', 'epoch'])\n",
      "==> Building model..\n",
      "The Accuracies on clean samples:   99.5625\n",
      "The fooling rate:  98.75\n",
      "Mapping is :  [1. 7. 7. 7. 8. 9. 6. 0. 4. 4.] <class 'numpy.ndarray'>\n"
     ]
    },
    {
     "name": "stderr",
     "output_type": "stream",
     "text": [
      "/home/tyler/Desktop/ResearchProject/Load_Model.py:34: FutureWarning: You are using `torch.load` with `weights_only=False` (the current default value), which uses the default pickle module implicitly. It is possible to construct malicious pickle data which will execute arbitrary code during unpickling (See https://github.com/pytorch/pytorch/blob/main/SECURITY.md#untrusted-models for more details). In a future release, the default value for `weights_only` will be flipped to `True`. This limits the functions that could be executed during unpickling. Arbitrary objects will no longer be allowed to be loaded via this mode unless they are explicitly allowlisted by the user via `torch.serialization.add_safe_globals`. We recommend you start setting `weights_only=True` for any use case where you don't have full control of the loaded file. Please open an issue on GitHub for any issues related to this experimental feature.\n",
      "  checkpoint = torch.load(model_path)\n",
      "/home/tyler/Desktop/ResearchProject/Load_Model.py:19: FutureWarning: You are using `torch.load` with `weights_only=False` (the current default value), which uses the default pickle module implicitly. It is possible to construct malicious pickle data which will execute arbitrary code during unpickling (See https://github.com/pytorch/pytorch/blob/main/SECURITY.md#untrusted-models for more details). In a future release, the default value for `weights_only` will be flipped to `True`. This limits the functions that could be executed during unpickling. Arbitrary objects will no longer be allowed to be loaded via this mode unless they are explicitly allowlisted by the user via `torch.serialization.add_safe_globals`. We recommend you start setting `weights_only=True` for any use case where you don't have full control of the loaded file. Please open an issue on GitHub for any issues related to this experimental feature.\n",
      "  checkpoint = torch.load(model_path, map_location=\"cpu\")\n"
     ]
    },
    {
     "name": "stdout",
     "output_type": "stream",
     "text": [
      "[Mask] Epoch 1: Loss=2.2703, Benign Acc=0.1013\n",
      "[Mask] Epoch 2: Loss=2.2463, Benign Acc=0.1113\n",
      "[Mask] Epoch 3: Loss=2.1639, Benign Acc=0.2407\n",
      "[Mask] Epoch 4: Loss=1.8210, Benign Acc=0.7231\n",
      "[Mask] Epoch 5: Loss=0.8048, Benign Acc=0.9880\n",
      "[Mask] Epoch 6: Loss=0.1581, Benign Acc=0.9949\n",
      "[Mask] Epoch 7: Loss=0.0636, Benign Acc=0.9946\n",
      "[Mask] Epoch 8: Loss=0.0398, Benign Acc=0.9950\n",
      "[Mask] Epoch 9: Loss=0.0286, Benign Acc=0.9945\n",
      "[Mask] Epoch 10: Loss=0.0218, Benign Acc=0.9949\n",
      "[Mask] Epoch 11: Loss=0.0172, Benign Acc=0.9948\n",
      "[Mask] Epoch 12: Loss=0.0144, Benign Acc=0.9950\n",
      "[Mask] Epoch 13: Loss=0.0128, Benign Acc=0.9955\n",
      "[Mask] Epoch 14: Loss=0.0099, Benign Acc=0.9955\n",
      "[Mask] Epoch 15: Loss=0.0088, Benign Acc=0.9950\n",
      "[Mask] Epoch 16: Loss=0.0064, Benign Acc=0.9950\n",
      "[Mask] Epoch 17: Loss=0.0058, Benign Acc=0.9958\n",
      "[Mask] Epoch 18: Loss=0.0050, Benign Acc=0.9955\n",
      "[Mask] Epoch 19: Loss=0.0038, Benign Acc=0.9955\n",
      "[Mask] Epoch 20: Loss=0.0031, Benign Acc=0.9959\n"
     ]
    },
    {
     "name": "stderr",
     "output_type": "stream",
     "text": [
      "/home/tyler/Desktop/ResearchProject/Load_Model.py:421: UserWarning: Implicit dimension choice for log_softmax has been deprecated. Change the call to include dim=X as an argument.\n",
      "  return F.log_softmax(output)\n"
     ]
    },
    {
     "name": "stdout",
     "output_type": "stream",
     "text": [
      "[Mask] Epoch 1: Loss=2.0481, Benign Acc=0.4719\n",
      "[Mask] Epoch 2: Loss=1.7698, Benign Acc=0.9404\n",
      "[Mask] Epoch 3: Loss=1.0973, Benign Acc=0.9962\n",
      "[Mask] Epoch 4: Loss=0.3317, Benign Acc=0.9979\n",
      "[Mask] Epoch 5: Loss=0.1049, Benign Acc=0.9981\n",
      "[Mask] Epoch 6: Loss=0.0569, Benign Acc=0.9982\n",
      "[Mask] Epoch 7: Loss=0.0389, Benign Acc=0.9988\n",
      "[Mask] Epoch 8: Loss=0.0296, Benign Acc=0.9984\n",
      "[Mask] Epoch 9: Loss=0.0228, Benign Acc=0.9986\n",
      "[Mask] Epoch 10: Loss=0.0199, Benign Acc=0.9988\n",
      "[Mask] Epoch 11: Loss=0.0167, Benign Acc=0.9991\n",
      "[Mask] Epoch 12: Loss=0.0140, Benign Acc=0.9988\n",
      "[Mask] Epoch 13: Loss=0.0127, Benign Acc=0.9995\n",
      "[Mask] Epoch 14: Loss=0.0114, Benign Acc=0.9989\n",
      "[Mask] Epoch 15: Loss=0.0102, Benign Acc=0.9991\n",
      "[Mask] Epoch 16: Loss=0.0086, Benign Acc=0.9991\n",
      "[Mask] Epoch 17: Loss=0.0086, Benign Acc=0.9994\n",
      "[Mask] Epoch 18: Loss=0.0078, Benign Acc=0.9996\n",
      "[Mask] Epoch 19: Loss=0.0070, Benign Acc=0.9992\n",
      "[Mask] Epoch 20: Loss=0.0068, Benign Acc=0.9995\n",
      "Evaluating model: ./Odysseus-MNIST/Models/Model_828.pth\n",
      "Dataset directory: ./test_results/datasets/Odysseus-MNIST/Models/Model_828.pth_MNIST\n",
      "============================================================\n",
      "Dataset statistics:\n",
      "  Total images: 2000\n",
      "  Triggered images: 1000\n",
      "  Clean images: 1000\n"
     ]
    },
    {
     "name": "stderr",
     "output_type": "stream",
     "text": [
      "/home/tyler/Desktop/ResearchProject/Load_Model.py:421: UserWarning: Implicit dimension choice for log_softmax has been deprecated. Change the call to include dim=X as an argument.\n",
      "  return F.log_softmax(output)\n"
     ]
    },
    {
     "name": "stdout",
     "output_type": "stream",
     "text": [
      "Evaluating model: ./Odysseus-MNIST/Models/Model_828.pth\n",
      "Dataset directory: ./test_results/datasets/Odysseus-MNIST/Models/Model_828.pth_MNIST\n",
      "============================================================\n",
      "Dataset statistics:\n",
      "  Total images: 2000\n",
      "  Triggered images: 1000\n",
      "  Clean images: 1000\n"
     ]
    },
    {
     "name": "stderr",
     "output_type": "stream",
     "text": [
      "/home/tyler/Desktop/ResearchProject/Load_Model.py:421: UserWarning: Implicit dimension choice for log_softmax has been deprecated. Change the call to include dim=X as an argument.\n",
      "  return F.log_softmax(output)\n",
      "BTI-DBF (U): Models:  40%|█████████▌              | 2/5 [02:44<04:09, 83.32s/it]"
     ]
    },
    {
     "name": "stdout",
     "output_type": "stream",
     "text": [
      "keys are : dict_keys(['net', 'Model Category', 'Architecture_Name', 'Learning_Rate', 'Loss Function', 'optimizer', 'Momentum', 'Weight decay', 'num_workers', 'Pytorch version', 'Trigger type', 'Trigger Size', 'Trigger_location', 'Mapping', 'Normalization Type', 'Mapping Type', 'Dataset', 'Batch Size', 'trigger_fraction', 'test_clean_acc', 'test_trigerred_acc', 'epoch'])\n",
      "==> Building model..\n",
      "The Accuracies on clean samples:   99.5375\n",
      "The fooling rate:  98.2\n",
      "Mapping is :  [5. 7. 7. 7. 3. 0. 2. 8. 1. 1.] <class 'numpy.ndarray'>\n"
     ]
    },
    {
     "name": "stderr",
     "output_type": "stream",
     "text": [
      "/home/tyler/Desktop/ResearchProject/Load_Model.py:34: FutureWarning: You are using `torch.load` with `weights_only=False` (the current default value), which uses the default pickle module implicitly. It is possible to construct malicious pickle data which will execute arbitrary code during unpickling (See https://github.com/pytorch/pytorch/blob/main/SECURITY.md#untrusted-models for more details). In a future release, the default value for `weights_only` will be flipped to `True`. This limits the functions that could be executed during unpickling. Arbitrary objects will no longer be allowed to be loaded via this mode unless they are explicitly allowlisted by the user via `torch.serialization.add_safe_globals`. We recommend you start setting `weights_only=True` for any use case where you don't have full control of the loaded file. Please open an issue on GitHub for any issues related to this experimental feature.\n",
      "  checkpoint = torch.load(model_path)\n",
      "/home/tyler/Desktop/ResearchProject/Load_Model.py:19: FutureWarning: You are using `torch.load` with `weights_only=False` (the current default value), which uses the default pickle module implicitly. It is possible to construct malicious pickle data which will execute arbitrary code during unpickling (See https://github.com/pytorch/pytorch/blob/main/SECURITY.md#untrusted-models for more details). In a future release, the default value for `weights_only` will be flipped to `True`. This limits the functions that could be executed during unpickling. Arbitrary objects will no longer be allowed to be loaded via this mode unless they are explicitly allowlisted by the user via `torch.serialization.add_safe_globals`. We recommend you start setting `weights_only=True` for any use case where you don't have full control of the loaded file. Please open an issue on GitHub for any issues related to this experimental feature.\n",
      "  checkpoint = torch.load(model_path, map_location=\"cpu\")\n"
     ]
    },
    {
     "name": "stdout",
     "output_type": "stream",
     "text": [
      "[Mask] Epoch 1: Loss=2.2634, Benign Acc=0.1013\n",
      "[Mask] Epoch 2: Loss=2.2373, Benign Acc=0.1013\n",
      "[Mask] Epoch 3: Loss=2.1489, Benign Acc=0.1395\n",
      "[Mask] Epoch 4: Loss=1.7922, Benign Acc=0.6222\n",
      "[Mask] Epoch 5: Loss=0.7633, Benign Acc=0.9889\n",
      "[Mask] Epoch 6: Loss=0.1388, Benign Acc=0.9922\n",
      "[Mask] Epoch 7: Loss=0.0527, Benign Acc=0.9929\n",
      "[Mask] Epoch 8: Loss=0.0312, Benign Acc=0.9934\n",
      "[Mask] Epoch 9: Loss=0.0201, Benign Acc=0.9940\n",
      "[Mask] Epoch 10: Loss=0.0125, Benign Acc=0.9935\n",
      "[Mask] Epoch 11: Loss=0.0078, Benign Acc=0.9949\n",
      "[Mask] Epoch 12: Loss=0.0043, Benign Acc=0.9945\n",
      "[Mask] Epoch 13: Loss=-0.0007, Benign Acc=0.9945\n",
      "[Mask] Epoch 14: Loss=-0.0023, Benign Acc=0.9950\n",
      "[Mask] Epoch 15: Loss=-0.0040, Benign Acc=0.9952\n",
      "[Mask] Epoch 16: Loss=-0.0063, Benign Acc=0.9940\n",
      "[Mask] Epoch 17: Loss=-0.0076, Benign Acc=0.9950\n",
      "[Mask] Epoch 18: Loss=-0.0104, Benign Acc=0.9956\n",
      "[Mask] Epoch 19: Loss=-0.0106, Benign Acc=0.9955\n",
      "[Mask] Epoch 20: Loss=-0.0114, Benign Acc=0.9954\n"
     ]
    },
    {
     "name": "stderr",
     "output_type": "stream",
     "text": [
      "/home/tyler/Desktop/ResearchProject/Load_Model.py:421: UserWarning: Implicit dimension choice for log_softmax has been deprecated. Change the call to include dim=X as an argument.\n",
      "  return F.log_softmax(output)\n"
     ]
    },
    {
     "name": "stdout",
     "output_type": "stream",
     "text": [
      "[Mask] Epoch 1: Loss=2.0869, Benign Acc=0.5904\n",
      "[Mask] Epoch 2: Loss=1.8460, Benign Acc=0.9669\n",
      "[Mask] Epoch 3: Loss=1.2293, Benign Acc=0.9991\n",
      "[Mask] Epoch 4: Loss=0.4112, Benign Acc=0.9995\n",
      "[Mask] Epoch 5: Loss=0.1118, Benign Acc=0.9999\n",
      "[Mask] Epoch 6: Loss=0.0538, Benign Acc=0.9996\n",
      "[Mask] Epoch 7: Loss=0.0358, Benign Acc=0.9998\n",
      "[Mask] Epoch 8: Loss=0.0268, Benign Acc=1.0000\n",
      "[Mask] Epoch 9: Loss=0.0219, Benign Acc=0.9998\n",
      "[Mask] Epoch 10: Loss=0.0179, Benign Acc=1.0000\n",
      "[Mask] Epoch 11: Loss=0.0153, Benign Acc=0.9999\n",
      "[Mask] Epoch 12: Loss=0.0132, Benign Acc=0.9999\n",
      "[Mask] Epoch 13: Loss=0.0121, Benign Acc=1.0000\n",
      "[Mask] Epoch 14: Loss=0.0109, Benign Acc=1.0000\n",
      "[Mask] Epoch 15: Loss=0.0099, Benign Acc=0.9998\n",
      "[Mask] Epoch 16: Loss=0.0093, Benign Acc=1.0000\n",
      "[Mask] Epoch 17: Loss=0.0083, Benign Acc=1.0000\n",
      "[Mask] Epoch 18: Loss=0.0076, Benign Acc=0.9999\n",
      "[Mask] Epoch 19: Loss=0.0070, Benign Acc=1.0000\n",
      "[Mask] Epoch 20: Loss=0.0065, Benign Acc=0.9999\n",
      "Evaluating model: ./Odysseus-MNIST/Models/Model_834.pth\n",
      "Dataset directory: ./test_results/datasets/Odysseus-MNIST/Models/Model_834.pth_MNIST\n",
      "============================================================\n",
      "Dataset statistics:\n",
      "  Total images: 2000\n",
      "  Triggered images: 1000\n",
      "  Clean images: 1000\n"
     ]
    },
    {
     "name": "stderr",
     "output_type": "stream",
     "text": [
      "/home/tyler/Desktop/ResearchProject/Load_Model.py:421: UserWarning: Implicit dimension choice for log_softmax has been deprecated. Change the call to include dim=X as an argument.\n",
      "  return F.log_softmax(output)\n"
     ]
    },
    {
     "name": "stdout",
     "output_type": "stream",
     "text": [
      "Evaluating model: ./Odysseus-MNIST/Models/Model_834.pth\n",
      "Dataset directory: ./test_results/datasets/Odysseus-MNIST/Models/Model_834.pth_MNIST\n",
      "============================================================\n",
      "Dataset statistics:\n",
      "  Total images: 2000\n",
      "  Triggered images: 1000\n",
      "  Clean images: 1000\n"
     ]
    },
    {
     "name": "stderr",
     "output_type": "stream",
     "text": [
      "/home/tyler/Desktop/ResearchProject/Load_Model.py:421: UserWarning: Implicit dimension choice for log_softmax has been deprecated. Change the call to include dim=X as an argument.\n",
      "  return F.log_softmax(output)\n",
      "BTI-DBF (U): Models:  60%|██████████████▍         | 3/5 [04:12<02:50, 85.22s/it]"
     ]
    },
    {
     "name": "stdout",
     "output_type": "stream",
     "text": [
      "keys are : dict_keys(['net', 'Model Category', 'Architecture_Name', 'Learning_Rate', 'Loss Function', 'optimizer', 'Momentum', 'Weight decay', 'num_workers', 'Pytorch version', 'Trigger type', 'Trigger Size', 'Trigger_location', 'Mapping', 'Normalization Type', 'Mapping Type', 'Dataset', 'Batch Size', 'trigger_fraction', 'test_clean_acc', 'test_trigerred_acc', 'epoch'])\n",
      "==> Building model..\n",
      "The Accuracies on clean samples:   99.325\n",
      "The fooling rate:  97.35\n",
      "Mapping is :  [5. 0. 0. 0. 1. 8. 9. 4. 2. 2.] <class 'numpy.ndarray'>\n"
     ]
    },
    {
     "name": "stderr",
     "output_type": "stream",
     "text": [
      "/home/tyler/Desktop/ResearchProject/Load_Model.py:34: FutureWarning: You are using `torch.load` with `weights_only=False` (the current default value), which uses the default pickle module implicitly. It is possible to construct malicious pickle data which will execute arbitrary code during unpickling (See https://github.com/pytorch/pytorch/blob/main/SECURITY.md#untrusted-models for more details). In a future release, the default value for `weights_only` will be flipped to `True`. This limits the functions that could be executed during unpickling. Arbitrary objects will no longer be allowed to be loaded via this mode unless they are explicitly allowlisted by the user via `torch.serialization.add_safe_globals`. We recommend you start setting `weights_only=True` for any use case where you don't have full control of the loaded file. Please open an issue on GitHub for any issues related to this experimental feature.\n",
      "  checkpoint = torch.load(model_path)\n",
      "/home/tyler/Desktop/ResearchProject/Load_Model.py:19: FutureWarning: You are using `torch.load` with `weights_only=False` (the current default value), which uses the default pickle module implicitly. It is possible to construct malicious pickle data which will execute arbitrary code during unpickling (See https://github.com/pytorch/pytorch/blob/main/SECURITY.md#untrusted-models for more details). In a future release, the default value for `weights_only` will be flipped to `True`. This limits the functions that could be executed during unpickling. Arbitrary objects will no longer be allowed to be loaded via this mode unless they are explicitly allowlisted by the user via `torch.serialization.add_safe_globals`. We recommend you start setting `weights_only=True` for any use case where you don't have full control of the loaded file. Please open an issue on GitHub for any issues related to this experimental feature.\n",
      "  checkpoint = torch.load(model_path, map_location=\"cpu\")\n"
     ]
    },
    {
     "name": "stdout",
     "output_type": "stream",
     "text": [
      "[Mask] Epoch 1: Loss=2.2395, Benign Acc=0.2076\n",
      "[Mask] Epoch 2: Loss=2.1726, Benign Acc=0.2866\n",
      "[Mask] Epoch 3: Loss=1.9560, Benign Acc=0.4748\n",
      "[Mask] Epoch 4: Loss=1.2434, Benign Acc=0.8816\n",
      "[Mask] Epoch 5: Loss=0.3272, Benign Acc=0.9876\n",
      "[Mask] Epoch 6: Loss=0.0895, Benign Acc=0.9900\n",
      "[Mask] Epoch 7: Loss=0.0449, Benign Acc=0.9900\n",
      "[Mask] Epoch 8: Loss=0.0288, Benign Acc=0.9916\n",
      "[Mask] Epoch 9: Loss=0.0191, Benign Acc=0.9908\n",
      "[Mask] Epoch 10: Loss=0.0130, Benign Acc=0.9902\n",
      "[Mask] Epoch 11: Loss=0.0092, Benign Acc=0.9915\n",
      "[Mask] Epoch 12: Loss=0.0060, Benign Acc=0.9911\n",
      "[Mask] Epoch 13: Loss=0.0042, Benign Acc=0.9919\n",
      "[Mask] Epoch 14: Loss=0.0024, Benign Acc=0.9919\n",
      "[Mask] Epoch 15: Loss=0.0000, Benign Acc=0.9919\n",
      "[Mask] Epoch 16: Loss=-0.0010, Benign Acc=0.9920\n",
      "[Mask] Epoch 17: Loss=-0.0021, Benign Acc=0.9914\n",
      "[Mask] Epoch 18: Loss=-0.0029, Benign Acc=0.9925\n",
      "[Mask] Epoch 19: Loss=-0.0036, Benign Acc=0.9922\n",
      "[Mask] Epoch 20: Loss=-0.0048, Benign Acc=0.9925\n"
     ]
    },
    {
     "name": "stderr",
     "output_type": "stream",
     "text": [
      "/home/tyler/Desktop/ResearchProject/Load_Model.py:371: UserWarning: Implicit dimension choice for log_softmax has been deprecated. Change the call to include dim=X as an argument.\n",
      "  return F.log_softmax(output)\n"
     ]
    },
    {
     "name": "stdout",
     "output_type": "stream",
     "text": [
      "[Mask] Epoch 1: Loss=2.0935, Benign Acc=0.4409\n",
      "[Mask] Epoch 2: Loss=1.8387, Benign Acc=0.7629\n",
      "[Mask] Epoch 3: Loss=1.1899, Benign Acc=0.9891\n",
      "[Mask] Epoch 4: Loss=0.3709, Benign Acc=0.9985\n",
      "[Mask] Epoch 5: Loss=0.1066, Benign Acc=0.9994\n",
      "[Mask] Epoch 6: Loss=0.0543, Benign Acc=0.9995\n",
      "[Mask] Epoch 7: Loss=0.0358, Benign Acc=0.9995\n",
      "[Mask] Epoch 8: Loss=0.0268, Benign Acc=0.9995\n",
      "[Mask] Epoch 9: Loss=0.0212, Benign Acc=0.9996\n",
      "[Mask] Epoch 10: Loss=0.0177, Benign Acc=0.9996\n",
      "[Mask] Epoch 11: Loss=0.0150, Benign Acc=0.9999\n",
      "[Mask] Epoch 12: Loss=0.0131, Benign Acc=0.9999\n",
      "[Mask] Epoch 13: Loss=0.0117, Benign Acc=0.9998\n",
      "[Mask] Epoch 14: Loss=0.0103, Benign Acc=0.9999\n",
      "[Mask] Epoch 15: Loss=0.0096, Benign Acc=0.9998\n",
      "[Mask] Epoch 16: Loss=0.0089, Benign Acc=1.0000\n",
      "[Mask] Epoch 17: Loss=0.0083, Benign Acc=0.9998\n",
      "[Mask] Epoch 18: Loss=0.0075, Benign Acc=0.9999\n",
      "[Mask] Epoch 19: Loss=0.0073, Benign Acc=0.9998\n",
      "[Mask] Epoch 20: Loss=0.0067, Benign Acc=1.0000\n",
      "Evaluating model: ./Odysseus-MNIST/Models/Model_763.pth\n",
      "Dataset directory: ./test_results/datasets/Odysseus-MNIST/Models/Model_763.pth_MNIST\n",
      "============================================================\n",
      "Dataset statistics:\n",
      "  Total images: 2000\n",
      "  Triggered images: 1000\n",
      "  Clean images: 1000\n"
     ]
    },
    {
     "name": "stderr",
     "output_type": "stream",
     "text": [
      "/home/tyler/Desktop/ResearchProject/Load_Model.py:371: UserWarning: Implicit dimension choice for log_softmax has been deprecated. Change the call to include dim=X as an argument.\n",
      "  return F.log_softmax(output)\n"
     ]
    },
    {
     "name": "stdout",
     "output_type": "stream",
     "text": [
      "Evaluating model: ./Odysseus-MNIST/Models/Model_763.pth\n",
      "Dataset directory: ./test_results/datasets/Odysseus-MNIST/Models/Model_763.pth_MNIST\n",
      "============================================================\n",
      "Dataset statistics:\n",
      "  Total images: 2000\n",
      "  Triggered images: 1000\n",
      "  Clean images: 1000\n"
     ]
    },
    {
     "name": "stderr",
     "output_type": "stream",
     "text": [
      "/home/tyler/Desktop/ResearchProject/Load_Model.py:371: UserWarning: Implicit dimension choice for log_softmax has been deprecated. Change the call to include dim=X as an argument.\n",
      "  return F.log_softmax(output)\n",
      "BTI-DBF (U): Models:  80%|███████████████████▏    | 4/5 [05:29<01:22, 82.00s/it]"
     ]
    },
    {
     "name": "stdout",
     "output_type": "stream",
     "text": [
      "keys are : dict_keys(['net', 'Model Category', 'Architecture_Name', 'Learning_Rate', 'Loss Function', 'optimizer', 'Momentum', 'Weight decay', 'num_workers', 'Pytorch version', 'Trigger type', 'Trigger Size', 'Trigger_location', 'Mapping', 'Normalization Type', 'Mapping Type', 'Dataset', 'Batch Size', 'trigger_fraction', 'test_clean_acc', 'test_trigerred_acc', 'epoch'])\n",
      "==> Building model..\n",
      "The Accuracies on clean samples:   99.3875\n",
      "The fooling rate:  98.85\n",
      "Mapping is :  [3. 2. 2. 2. 5. 6. 9. 8. 4. 4.] <class 'numpy.ndarray'>\n"
     ]
    },
    {
     "name": "stderr",
     "output_type": "stream",
     "text": [
      "/home/tyler/Desktop/ResearchProject/Load_Model.py:34: FutureWarning: You are using `torch.load` with `weights_only=False` (the current default value), which uses the default pickle module implicitly. It is possible to construct malicious pickle data which will execute arbitrary code during unpickling (See https://github.com/pytorch/pytorch/blob/main/SECURITY.md#untrusted-models for more details). In a future release, the default value for `weights_only` will be flipped to `True`. This limits the functions that could be executed during unpickling. Arbitrary objects will no longer be allowed to be loaded via this mode unless they are explicitly allowlisted by the user via `torch.serialization.add_safe_globals`. We recommend you start setting `weights_only=True` for any use case where you don't have full control of the loaded file. Please open an issue on GitHub for any issues related to this experimental feature.\n",
      "  checkpoint = torch.load(model_path)\n",
      "/home/tyler/Desktop/ResearchProject/Load_Model.py:19: FutureWarning: You are using `torch.load` with `weights_only=False` (the current default value), which uses the default pickle module implicitly. It is possible to construct malicious pickle data which will execute arbitrary code during unpickling (See https://github.com/pytorch/pytorch/blob/main/SECURITY.md#untrusted-models for more details). In a future release, the default value for `weights_only` will be flipped to `True`. This limits the functions that could be executed during unpickling. Arbitrary objects will no longer be allowed to be loaded via this mode unless they are explicitly allowlisted by the user via `torch.serialization.add_safe_globals`. We recommend you start setting `weights_only=True` for any use case where you don't have full control of the loaded file. Please open an issue on GitHub for any issues related to this experimental feature.\n",
      "  checkpoint = torch.load(model_path, map_location=\"cpu\")\n"
     ]
    },
    {
     "name": "stdout",
     "output_type": "stream",
     "text": [
      "[Mask] Epoch 1: Loss=2.2966, Benign Acc=0.1000\n",
      "[Mask] Epoch 2: Loss=2.2904, Benign Acc=0.1000\n",
      "[Mask] Epoch 3: Loss=2.2746, Benign Acc=0.1000\n",
      "[Mask] Epoch 4: Loss=2.2108, Benign Acc=0.1475\n",
      "[Mask] Epoch 5: Loss=1.8756, Benign Acc=0.6450\n",
      "[Mask] Epoch 6: Loss=0.7731, Benign Acc=0.9842\n",
      "[Mask] Epoch 7: Loss=0.1373, Benign Acc=0.9908\n",
      "[Mask] Epoch 8: Loss=0.0589, Benign Acc=0.9916\n",
      "[Mask] Epoch 9: Loss=0.0373, Benign Acc=0.9929\n",
      "[Mask] Epoch 10: Loss=0.0268, Benign Acc=0.9918\n",
      "[Mask] Epoch 11: Loss=0.0172, Benign Acc=0.9925\n",
      "[Mask] Epoch 12: Loss=0.0144, Benign Acc=0.9931\n",
      "[Mask] Epoch 13: Loss=0.0115, Benign Acc=0.9925\n",
      "[Mask] Epoch 14: Loss=0.0079, Benign Acc=0.9930\n",
      "[Mask] Epoch 15: Loss=0.0029, Benign Acc=0.9932\n",
      "[Mask] Epoch 16: Loss=0.0029, Benign Acc=0.9932\n",
      "[Mask] Epoch 17: Loss=-0.0005, Benign Acc=0.9934\n",
      "[Mask] Epoch 18: Loss=-0.0031, Benign Acc=0.9941\n",
      "[Mask] Epoch 19: Loss=-0.0031, Benign Acc=0.9938\n",
      "[Mask] Epoch 20: Loss=-0.0056, Benign Acc=0.9945\n"
     ]
    },
    {
     "name": "stderr",
     "output_type": "stream",
     "text": [
      "/home/tyler/Desktop/ResearchProject/Load_Model.py:322: UserWarning: Implicit dimension choice for log_softmax has been deprecated. Change the call to include dim=X as an argument.\n",
      "  return F.log_softmax(output)\n"
     ]
    },
    {
     "name": "stdout",
     "output_type": "stream",
     "text": [
      "[Mask] Epoch 1: Loss=2.2996, Benign Acc=0.1044\n",
      "[Mask] Epoch 2: Loss=2.2806, Benign Acc=0.1164\n",
      "[Mask] Epoch 3: Loss=2.2187, Benign Acc=0.2074\n",
      "[Mask] Epoch 4: Loss=1.9571, Benign Acc=0.6700\n",
      "[Mask] Epoch 5: Loss=1.0121, Benign Acc=0.9930\n",
      "[Mask] Epoch 6: Loss=0.1736, Benign Acc=0.9986\n",
      "[Mask] Epoch 7: Loss=0.0580, Benign Acc=0.9981\n",
      "[Mask] Epoch 8: Loss=0.0346, Benign Acc=0.9990\n",
      "[Mask] Epoch 9: Loss=0.0238, Benign Acc=0.9995\n",
      "[Mask] Epoch 10: Loss=0.0176, Benign Acc=0.9999\n",
      "[Mask] Epoch 11: Loss=0.0142, Benign Acc=0.9996\n",
      "[Mask] Epoch 12: Loss=0.0118, Benign Acc=0.9999\n",
      "[Mask] Epoch 13: Loss=0.0086, Benign Acc=0.9999\n",
      "[Mask] Epoch 14: Loss=0.0076, Benign Acc=0.9996\n",
      "[Mask] Epoch 15: Loss=0.0059, Benign Acc=1.0000\n",
      "[Mask] Epoch 16: Loss=0.0055, Benign Acc=1.0000\n",
      "[Mask] Epoch 17: Loss=0.0048, Benign Acc=0.9999\n",
      "[Mask] Epoch 18: Loss=0.0040, Benign Acc=1.0000\n",
      "[Mask] Epoch 19: Loss=0.0037, Benign Acc=0.9999\n",
      "[Mask] Epoch 20: Loss=0.0025, Benign Acc=1.0000\n",
      "Evaluating model: ./Odysseus-MNIST/Models/Model_762.pth\n",
      "Dataset directory: ./test_results/datasets/Odysseus-MNIST/Models/Model_762.pth_MNIST\n",
      "============================================================\n",
      "Dataset statistics:\n",
      "  Total images: 2000\n",
      "  Triggered images: 1000\n",
      "  Clean images: 1000\n"
     ]
    },
    {
     "name": "stderr",
     "output_type": "stream",
     "text": [
      "/home/tyler/Desktop/ResearchProject/Load_Model.py:322: UserWarning: Implicit dimension choice for log_softmax has been deprecated. Change the call to include dim=X as an argument.\n",
      "  return F.log_softmax(output)\n"
     ]
    },
    {
     "name": "stdout",
     "output_type": "stream",
     "text": [
      "Evaluating model: ./Odysseus-MNIST/Models/Model_762.pth\n",
      "Dataset directory: ./test_results/datasets/Odysseus-MNIST/Models/Model_762.pth_MNIST\n",
      "============================================================\n",
      "Dataset statistics:\n",
      "  Total images: 2000\n",
      "  Triggered images: 1000\n",
      "  Clean images: 1000\n"
     ]
    },
    {
     "name": "stderr",
     "output_type": "stream",
     "text": [
      "/home/tyler/Desktop/ResearchProject/Load_Model.py:322: UserWarning: Implicit dimension choice for log_softmax has been deprecated. Change the call to include dim=X as an argument.\n",
      "  return F.log_softmax(output)\n",
      "BTI-DBF (U): Models: 100%|████████████████████████| 5/5 [06:44<00:00, 80.86s/it]"
     ]
    },
    {
     "name": "stdout",
     "output_type": "stream",
     "text": [
      "✅ BTI-DBF (U) results saved to MNIST_BTI_DBF_U_results.csv\n"
     ]
    },
    {
     "name": "stderr",
     "output_type": "stream",
     "text": [
      "\n"
     ]
    }
   ],
   "source": [
    "device = 'cuda' if torch.cuda.is_available() else 'cpu'\n",
    "print(f\"Using device: {device}\")\n",
    "\n",
    "# Prepare data if not already present\n",
    "print(\"Preparing MNIST dataset...\")\n",
    "prepare_mnist_data()\n",
    "\n",
    "# Transforms (tensor only for the DataLoader; the BTI code handles its own normalize)\n",
    "transform_test = transforms.ToTensor()\n",
    "\n",
    "# U-Net config for MNIST (1 channel)\n",
    "unet_factory = partial(UNet, n_channels=1, num_classes=1, base_filter_num=32, num_blocks=2)\n",
    "\n",
    "# Create test dataset / loader\n",
    "test_dataset = SimpleMNISTDataset(\n",
    "    path_to_data='./MNIST_Data/clean',\n",
    "    csv_filename='clean.csv',\n",
    "    data_transform=transform_test\n",
    ")\n",
    "dataloader = torch.utils.data.DataLoader(test_dataset, batch_size=128, shuffle=True, num_workers=2)\n",
    "print(f\"Test dataset size: {len(test_dataset)}\")\n",
    "\n",
    "# Variants\n",
    "variants = [\n",
    "    {\n",
    "        \"name\": \"paper-branch-1back\",\n",
    "        \"train_fn\": \"branch\",\n",
    "        \"unet_loss\": loss_bti_dbf_paper,\n",
    "        \"tau\": 0.15,\n",
    "        \"epochs\": 30,\n",
    "        \"lr\": 0.01,\n",
    "        \"p\": 2,\n",
    "        \"visualize\": True,\n",
    "        \"split\": \"final\",\n",
    "        \"mask_granularity\": \"vector\",\n",
    "        \"delta\": False\n",
    "    },\n",
    "]\n",
    "\n",
    "# Run BTI-DBF (U) with evaluation.\n",
    "# Triggered datasets live under the usual root:\n",
    "#   ./test_results/datasets/Odysseus-MNIST/Models/{model_file}_MNIST\n",
    "\n",
    "BTI_DBF_U(\n",
    "    device=device,\n",
    "    experiment_name='BTIDBFU-Standard',\n",
    "    num_models=5,\n",
    "    model_list='./test_results/MNIST_Models_20250817_074555.csv',\n",
    "    model_dir='./Odysseus-MNIST/Models',\n",
    "    model_type='MNIST',\n",
    "    unet_factory=unet_factory,\n",
    "    dataloader=dataloader,\n",
    "    variants=variants,\n",
    "    mask_epochs=20,\n",
    "    triggered_dataset_root=\"./test_results/datasets\",\n",
    "    unlearn_epochs=20,\n",
    "    unlearn_lr=1e-3,\n",
    "    feature_loss_weight=1.0,\n",
    "    alt_rounds=5,\n",
    ")\n",
    "\n",
    "BTI_DBF_U(\n",
    "    device=device,\n",
    "    experiment_name='BTIDBFU-Fast',\n",
    "    num_models=5,\n",
    "    model_list='./test_results/MNIST_Models_20250817_074555.csv',\n",
    "    model_dir='./Odysseus-MNIST/Models',\n",
    "    model_type='MNIST',\n",
    "    unet_factory=unet_factory,\n",
    "    dataloader=dataloader,\n",
    "    variants=variants,\n",
    "    mask_epochs=20,\n",
    "    triggered_dataset_root=\"./test_results/datasets\",\n",
    "    unlearn_epochs=8,\n",
    "    unlearn_lr=1e-3,\n",
    "    feature_loss_weight=1.0,\n",
    "    alt_rounds=2,\n",
    ")"
   ]
  }
 ],
 "metadata": {
  "kernelspec": {
   "display_name": "Python (ResearchProject)",
   "language": "python",
   "name": "researchproject"
  },
  "language_info": {
   "codemirror_mode": {
    "name": "ipython",
    "version": 3
   },
   "file_extension": ".py",
   "mimetype": "text/x-python",
   "name": "python",
   "nbconvert_exporter": "python",
   "pygments_lexer": "ipython3",
   "version": "3.11.8"
  }
 },
 "nbformat": 4,
 "nbformat_minor": 5
}
