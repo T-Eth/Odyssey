{
 "cells": [
  {
   "cell_type": "code",
   "execution_count": 1,
   "id": "6044afb6-2819-4d96-9937-1806cbc51321",
   "metadata": {},
   "outputs": [],
   "source": [
    "from experiments import BTI_DBF_U\n",
    "import os\n",
    "from functools import partial\n",
    "from datasets import SimpleMNISTDataset, prepare_mnist_data, minmax_normalize\n",
    "import torch\n",
    "from unet import UNet, loss_bti_dbf_paper\n",
    "from torchvision import transforms"
   ]
  },
  {
   "cell_type": "code",
   "execution_count": 2,
   "id": "7b414313-276d-4a98-b9da-dd1deddd83bf",
   "metadata": {},
   "outputs": [
    {
     "name": "stdout",
     "output_type": "stream",
     "text": [
      "Using device: cuda\n",
      "Preparing MNIST dataset...\n"
     ]
    },
    {
     "name": "stderr",
     "output_type": "stream",
     "text": [
      "clean: 100%|█████████████████████████████| 8000/8000 [00:00<00:00, 14455.09it/s]\n"
     ]
    },
    {
     "name": "stdout",
     "output_type": "stream",
     "text": [
      "Saved 8000 images to ./MNIST_Data/clean\n",
      "Saved CSV to ./MNIST_Data/clean/clean.csv\n"
     ]
    },
    {
     "name": "stderr",
     "output_type": "stream",
     "text": [
      "test: 100%|██████████████████████████████| 2000/2000 [00:00<00:00, 14554.71it/s]\n"
     ]
    },
    {
     "name": "stdout",
     "output_type": "stream",
     "text": [
      "Saved 2000 images to ./MNIST_Data/test\n",
      "Saved CSV to ./MNIST_Data/test/test.csv\n",
      "Test dataset size: 8000\n"
     ]
    },
    {
     "name": "stderr",
     "output_type": "stream",
     "text": [
      "BTI-DBF (U): Models:   0%|                                | 0/5 [00:00<?, ?it/s]/home/tyler/Desktop/ResearchProject/Load_Model.py:34: FutureWarning: You are using `torch.load` with `weights_only=False` (the current default value), which uses the default pickle module implicitly. It is possible to construct malicious pickle data which will execute arbitrary code during unpickling (See https://github.com/pytorch/pytorch/blob/main/SECURITY.md#untrusted-models for more details). In a future release, the default value for `weights_only` will be flipped to `True`. This limits the functions that could be executed during unpickling. Arbitrary objects will no longer be allowed to be loaded via this mode unless they are explicitly allowlisted by the user via `torch.serialization.add_safe_globals`. We recommend you start setting `weights_only=True` for any use case where you don't have full control of the loaded file. Please open an issue on GitHub for any issues related to this experimental feature.\n",
      "  checkpoint = torch.load(model_path)\n"
     ]
    },
    {
     "name": "stdout",
     "output_type": "stream",
     "text": [
      "keys are : dict_keys(['net', 'Model Category', 'Architecture_Name', 'Learning_Rate', 'Loss Function', 'optimizer', 'Momentum', 'Weight decay', 'num_workers', 'Pytorch version', 'Trigger type', 'Trigger Size', 'Trigger_location', 'Mapping', 'Normalization Type', 'Mapping Type', 'Dataset', 'Batch Size', 'trigger_fraction', 'test_clean_acc', 'test_trigerred_acc', 'epoch'])\n",
      "==> Building model..\n",
      "The Accuracies on clean samples:   99.2875\n",
      "The fooling rate:  97.3\n",
      "Mapping is :  [0. 7. 7. 7. 6. 4. 1. 9. 3. 3.] <class 'numpy.ndarray'>\n"
     ]
    },
    {
     "name": "stderr",
     "output_type": "stream",
     "text": [
      "/home/tyler/Desktop/ResearchProject/Load_Model.py:19: FutureWarning: You are using `torch.load` with `weights_only=False` (the current default value), which uses the default pickle module implicitly. It is possible to construct malicious pickle data which will execute arbitrary code during unpickling (See https://github.com/pytorch/pytorch/blob/main/SECURITY.md#untrusted-models for more details). In a future release, the default value for `weights_only` will be flipped to `True`. This limits the functions that could be executed during unpickling. Arbitrary objects will no longer be allowed to be loaded via this mode unless they are explicitly allowlisted by the user via `torch.serialization.add_safe_globals`. We recommend you start setting `weights_only=True` for any use case where you don't have full control of the loaded file. Please open an issue on GitHub for any issues related to this experimental feature.\n",
      "  checkpoint = torch.load(model_path, map_location=\"cpu\")\n"
     ]
    },
    {
     "name": "stdout",
     "output_type": "stream",
     "text": [
      "[Mask] Epoch 1: Loss=2.2450, Benign Acc=0.1013\n",
      "[Mask] Epoch 2: Loss=2.1851, Benign Acc=0.1013\n",
      "[Mask] Epoch 3: Loss=1.9880, Benign Acc=0.1669\n",
      "[Mask] Epoch 4: Loss=1.3202, Benign Acc=0.7790\n",
      "[Mask] Epoch 5: Loss=0.3573, Benign Acc=0.9870\n",
      "[Mask] Epoch 6: Loss=0.0918, Benign Acc=0.9896\n",
      "[Mask] Epoch 7: Loss=0.0446, Benign Acc=0.9904\n",
      "[Mask] Epoch 8: Loss=0.0265, Benign Acc=0.9901\n",
      "[Mask] Epoch 9: Loss=0.0172, Benign Acc=0.9905\n",
      "[Mask] Epoch 10: Loss=0.0111, Benign Acc=0.9908\n",
      "[Mask] Epoch 11: Loss=0.0074, Benign Acc=0.9910\n",
      "[Mask] Epoch 12: Loss=0.0039, Benign Acc=0.9910\n",
      "[Mask] Epoch 13: Loss=0.0021, Benign Acc=0.9911\n",
      "[Mask] Epoch 14: Loss=-0.0002, Benign Acc=0.9911\n",
      "[Mask] Epoch 15: Loss=-0.0020, Benign Acc=0.9911\n",
      "[Mask] Epoch 16: Loss=-0.0027, Benign Acc=0.9922\n",
      "[Mask] Epoch 17: Loss=-0.0031, Benign Acc=0.9908\n",
      "[Mask] Epoch 18: Loss=-0.0053, Benign Acc=0.9922\n",
      "[Mask] Epoch 19: Loss=-0.0053, Benign Acc=0.9905\n",
      "[Mask] Epoch 20: Loss=-0.0062, Benign Acc=0.9918\n"
     ]
    },
    {
     "name": "stderr",
     "output_type": "stream",
     "text": [
      "/home/tyler/Desktop/ResearchProject/Load_Model.py:371: UserWarning: Implicit dimension choice for log_softmax has been deprecated. Change the call to include dim=X as an argument.\n",
      "  return F.log_softmax(output)\n"
     ]
    },
    {
     "name": "stdout",
     "output_type": "stream",
     "text": [
      "[Mask] Epoch 1: Loss=1.9557, Benign Acc=0.5131\n",
      "[Mask] Epoch 2: Loss=1.5824, Benign Acc=0.9619\n",
      "[Mask] Epoch 3: Loss=0.8168, Benign Acc=0.9995\n",
      "[Mask] Epoch 4: Loss=0.2138, Benign Acc=0.9996\n",
      "[Mask] Epoch 5: Loss=0.0740, Benign Acc=0.9999\n",
      "[Mask] Epoch 6: Loss=0.0405, Benign Acc=0.9999\n",
      "[Mask] Epoch 7: Loss=0.0276, Benign Acc=0.9999\n",
      "[Mask] Epoch 8: Loss=0.0200, Benign Acc=0.9999\n",
      "[Mask] Epoch 9: Loss=0.0158, Benign Acc=0.9999\n",
      "[Mask] Epoch 10: Loss=0.0131, Benign Acc=0.9999\n",
      "[Mask] Epoch 11: Loss=0.0110, Benign Acc=0.9999\n",
      "[Mask] Epoch 12: Loss=0.0096, Benign Acc=1.0000\n",
      "[Mask] Epoch 13: Loss=0.0081, Benign Acc=0.9999\n",
      "[Mask] Epoch 14: Loss=0.0074, Benign Acc=0.9999\n",
      "[Mask] Epoch 15: Loss=0.0064, Benign Acc=0.9999\n",
      "[Mask] Epoch 16: Loss=0.0060, Benign Acc=1.0000\n",
      "[Mask] Epoch 17: Loss=0.0053, Benign Acc=0.9999\n",
      "[Mask] Epoch 18: Loss=0.0049, Benign Acc=0.9999\n",
      "[Mask] Epoch 19: Loss=0.0046, Benign Acc=1.0000\n",
      "[Mask] Epoch 20: Loss=0.0044, Benign Acc=1.0000\n",
      "[Mask] Epoch 1: Loss=1.4610, Benign Acc=0.9781\n",
      "[Mask] Epoch 2: Loss=0.8333, Benign Acc=0.9995\n",
      "[Mask] Epoch 3: Loss=0.2778, Benign Acc=0.9998\n",
      "[Mask] Epoch 4: Loss=0.0965, Benign Acc=0.9998\n",
      "[Mask] Epoch 5: Loss=0.0490, Benign Acc=0.9998\n",
      "[Mask] Epoch 6: Loss=0.0313, Benign Acc=0.9996\n",
      "[Mask] Epoch 7: Loss=0.0214, Benign Acc=0.9998\n",
      "[Mask] Epoch 8: Loss=0.0163, Benign Acc=0.9998\n",
      "[Mask] Epoch 9: Loss=0.0129, Benign Acc=0.9999\n",
      "[Mask] Epoch 10: Loss=0.0107, Benign Acc=0.9998\n",
      "[Mask] Epoch 11: Loss=0.0090, Benign Acc=0.9996\n",
      "[Mask] Epoch 12: Loss=0.0075, Benign Acc=0.9999\n",
      "[Mask] Epoch 13: Loss=0.0067, Benign Acc=0.9999\n",
      "[Mask] Epoch 14: Loss=0.0060, Benign Acc=0.9998\n",
      "[Mask] Epoch 15: Loss=0.0052, Benign Acc=0.9999\n",
      "[Mask] Epoch 16: Loss=0.0047, Benign Acc=0.9998\n",
      "[Mask] Epoch 17: Loss=0.0043, Benign Acc=0.9999\n",
      "[Mask] Epoch 18: Loss=0.0039, Benign Acc=0.9998\n",
      "[Mask] Epoch 19: Loss=0.0034, Benign Acc=0.9999\n",
      "[Mask] Epoch 20: Loss=0.0031, Benign Acc=0.9999\n",
      "[Mask] Epoch 1: Loss=1.0161, Benign Acc=0.9976\n",
      "[Mask] Epoch 2: Loss=0.4397, Benign Acc=0.9996\n",
      "[Mask] Epoch 3: Loss=0.1500, Benign Acc=0.9999\n",
      "[Mask] Epoch 4: Loss=0.0655, Benign Acc=0.9999\n",
      "[Mask] Epoch 5: Loss=0.0375, Benign Acc=0.9999\n",
      "[Mask] Epoch 6: Loss=0.0251, Benign Acc=1.0000\n",
      "[Mask] Epoch 7: Loss=0.0181, Benign Acc=0.9998\n",
      "[Mask] Epoch 8: Loss=0.0142, Benign Acc=0.9998\n",
      "[Mask] Epoch 9: Loss=0.0112, Benign Acc=0.9999\n",
      "[Mask] Epoch 10: Loss=0.0091, Benign Acc=1.0000\n",
      "[Mask] Epoch 11: Loss=0.0077, Benign Acc=1.0000\n",
      "[Mask] Epoch 12: Loss=0.0064, Benign Acc=1.0000\n",
      "[Mask] Epoch 13: Loss=0.0058, Benign Acc=1.0000\n",
      "[Mask] Epoch 14: Loss=0.0051, Benign Acc=1.0000\n",
      "[Mask] Epoch 15: Loss=0.0047, Benign Acc=0.9999\n",
      "[Mask] Epoch 16: Loss=0.0041, Benign Acc=1.0000\n",
      "[Mask] Epoch 17: Loss=0.0037, Benign Acc=0.9999\n",
      "[Mask] Epoch 18: Loss=0.0034, Benign Acc=1.0000\n",
      "[Mask] Epoch 19: Loss=0.0033, Benign Acc=1.0000\n",
      "[Mask] Epoch 20: Loss=0.0028, Benign Acc=1.0000\n",
      "[Mask] Epoch 1: Loss=0.6455, Benign Acc=0.9992\n",
      "[Mask] Epoch 2: Loss=0.2271, Benign Acc=0.9998\n",
      "[Mask] Epoch 3: Loss=0.0846, Benign Acc=0.9996\n",
      "[Mask] Epoch 4: Loss=0.0425, Benign Acc=0.9998\n",
      "[Mask] Epoch 5: Loss=0.0263, Benign Acc=0.9999\n",
      "[Mask] Epoch 6: Loss=0.0178, Benign Acc=0.9999\n",
      "[Mask] Epoch 7: Loss=0.0129, Benign Acc=0.9999\n",
      "[Mask] Epoch 8: Loss=0.0103, Benign Acc=0.9999\n",
      "[Mask] Epoch 9: Loss=0.0079, Benign Acc=0.9998\n",
      "[Mask] Epoch 10: Loss=0.0067, Benign Acc=1.0000\n",
      "[Mask] Epoch 11: Loss=0.0056, Benign Acc=1.0000\n",
      "[Mask] Epoch 12: Loss=0.0048, Benign Acc=1.0000\n",
      "[Mask] Epoch 13: Loss=0.0043, Benign Acc=1.0000\n",
      "[Mask] Epoch 14: Loss=0.0038, Benign Acc=1.0000\n",
      "[Mask] Epoch 15: Loss=0.0033, Benign Acc=1.0000\n",
      "[Mask] Epoch 16: Loss=0.0029, Benign Acc=1.0000\n",
      "[Mask] Epoch 17: Loss=0.0026, Benign Acc=1.0000\n",
      "[Mask] Epoch 18: Loss=0.0024, Benign Acc=1.0000\n",
      "[Mask] Epoch 19: Loss=0.0022, Benign Acc=1.0000\n",
      "[Mask] Epoch 20: Loss=0.0020, Benign Acc=1.0000\n",
      "Evaluating model: ./Odysseus-MNIST/Models/Model_775.pth\n",
      "Dataset directory: ./test_results/datasets/Odysseus-MNIST/Models/Model_775.pth_MNIST\n",
      "============================================================\n",
      "Dataset statistics:\n",
      "  Total images: 2000\n",
      "  Triggered images: 1000\n",
      "  Clean images: 1000\n"
     ]
    },
    {
     "name": "stderr",
     "output_type": "stream",
     "text": [
      "/home/tyler/Desktop/ResearchProject/Load_Model.py:371: UserWarning: Implicit dimension choice for log_softmax has been deprecated. Change the call to include dim=X as an argument.\n",
      "  return F.log_softmax(output)\n"
     ]
    },
    {
     "name": "stdout",
     "output_type": "stream",
     "text": [
      "Evaluating model: ./Odysseus-MNIST/Models/Model_775.pth\n",
      "Dataset directory: ./test_results/datasets/Odysseus-MNIST/Models/Model_775.pth_MNIST\n",
      "============================================================\n",
      "Dataset statistics:\n",
      "  Total images: 2000\n",
      "  Triggered images: 1000\n",
      "  Clean images: 1000\n"
     ]
    },
    {
     "name": "stderr",
     "output_type": "stream",
     "text": [
      "/home/tyler/Desktop/ResearchProject/Load_Model.py:371: UserWarning: Implicit dimension choice for log_softmax has been deprecated. Change the call to include dim=X as an argument.\n",
      "  return F.log_softmax(output)\n",
      "/home/tyler/Desktop/ResearchProject/experiments.py:517: FutureWarning: The behavior of DataFrame concatenation with empty or all-NA entries is deprecated. In a future version, this will no longer exclude empty or all-NA columns when determining the result dtypes. To retain the old behavior, exclude the relevant entries before the concat operation.\n",
      "  results_df = pd.concat(\n",
      "BTI-DBF (U): Models:  20%|████▌                  | 1/5 [04:02<16:08, 242.03s/it]"
     ]
    },
    {
     "name": "stdout",
     "output_type": "stream",
     "text": [
      "keys are : dict_keys(['net', 'Model Category', 'Architecture_Name', 'Learning_Rate', 'Loss Function', 'optimizer', 'Momentum', 'Weight decay', 'num_workers', 'Pytorch version', 'Trigger type', 'Trigger Size', 'Trigger_location', 'Mapping', 'Normalization Type', 'Mapping Type', 'Dataset', 'Batch Size', 'trigger_fraction', 'test_clean_acc', 'test_trigerred_acc', 'epoch'])\n",
      "==> Building model..\n",
      "The Accuracies on clean samples:   99.5625\n",
      "The fooling rate:  98.75\n",
      "Mapping is :  [1. 7. 7. 7. 8. 9. 6. 0. 4. 4.] <class 'numpy.ndarray'>\n"
     ]
    },
    {
     "name": "stderr",
     "output_type": "stream",
     "text": [
      "/home/tyler/Desktop/ResearchProject/Load_Model.py:34: FutureWarning: You are using `torch.load` with `weights_only=False` (the current default value), which uses the default pickle module implicitly. It is possible to construct malicious pickle data which will execute arbitrary code during unpickling (See https://github.com/pytorch/pytorch/blob/main/SECURITY.md#untrusted-models for more details). In a future release, the default value for `weights_only` will be flipped to `True`. This limits the functions that could be executed during unpickling. Arbitrary objects will no longer be allowed to be loaded via this mode unless they are explicitly allowlisted by the user via `torch.serialization.add_safe_globals`. We recommend you start setting `weights_only=True` for any use case where you don't have full control of the loaded file. Please open an issue on GitHub for any issues related to this experimental feature.\n",
      "  checkpoint = torch.load(model_path)\n",
      "/home/tyler/Desktop/ResearchProject/Load_Model.py:19: FutureWarning: You are using `torch.load` with `weights_only=False` (the current default value), which uses the default pickle module implicitly. It is possible to construct malicious pickle data which will execute arbitrary code during unpickling (See https://github.com/pytorch/pytorch/blob/main/SECURITY.md#untrusted-models for more details). In a future release, the default value for `weights_only` will be flipped to `True`. This limits the functions that could be executed during unpickling. Arbitrary objects will no longer be allowed to be loaded via this mode unless they are explicitly allowlisted by the user via `torch.serialization.add_safe_globals`. We recommend you start setting `weights_only=True` for any use case where you don't have full control of the loaded file. Please open an issue on GitHub for any issues related to this experimental feature.\n",
      "  checkpoint = torch.load(model_path, map_location=\"cpu\")\n"
     ]
    },
    {
     "name": "stdout",
     "output_type": "stream",
     "text": [
      "[Mask] Epoch 1: Loss=2.2709, Benign Acc=0.1013\n",
      "[Mask] Epoch 2: Loss=2.2459, Benign Acc=0.1116\n",
      "[Mask] Epoch 3: Loss=2.1640, Benign Acc=0.2386\n",
      "[Mask] Epoch 4: Loss=1.8242, Benign Acc=0.7311\n",
      "[Mask] Epoch 5: Loss=0.8096, Benign Acc=0.9884\n",
      "[Mask] Epoch 6: Loss=0.1605, Benign Acc=0.9934\n",
      "[Mask] Epoch 7: Loss=0.0636, Benign Acc=0.9948\n",
      "[Mask] Epoch 8: Loss=0.0405, Benign Acc=0.9948\n",
      "[Mask] Epoch 9: Loss=0.0284, Benign Acc=0.9945\n",
      "[Mask] Epoch 10: Loss=0.0217, Benign Acc=0.9952\n",
      "[Mask] Epoch 11: Loss=0.0177, Benign Acc=0.9954\n",
      "[Mask] Epoch 12: Loss=0.0148, Benign Acc=0.9949\n",
      "[Mask] Epoch 13: Loss=0.0113, Benign Acc=0.9952\n",
      "[Mask] Epoch 14: Loss=0.0100, Benign Acc=0.9955\n",
      "[Mask] Epoch 15: Loss=0.0083, Benign Acc=0.9958\n",
      "[Mask] Epoch 16: Loss=0.0080, Benign Acc=0.9952\n",
      "[Mask] Epoch 17: Loss=0.0056, Benign Acc=0.9952\n",
      "[Mask] Epoch 18: Loss=0.0050, Benign Acc=0.9958\n",
      "[Mask] Epoch 19: Loss=0.0028, Benign Acc=0.9952\n",
      "[Mask] Epoch 20: Loss=0.0022, Benign Acc=0.9952\n"
     ]
    },
    {
     "name": "stderr",
     "output_type": "stream",
     "text": [
      "/home/tyler/Desktop/ResearchProject/Load_Model.py:421: UserWarning: Implicit dimension choice for log_softmax has been deprecated. Change the call to include dim=X as an argument.\n",
      "  return F.log_softmax(output)\n"
     ]
    },
    {
     "name": "stdout",
     "output_type": "stream",
     "text": [
      "[Mask] Epoch 1: Loss=1.8360, Benign Acc=0.8464\n",
      "[Mask] Epoch 2: Loss=1.3810, Benign Acc=0.9885\n",
      "[Mask] Epoch 3: Loss=0.6430, Benign Acc=0.9971\n",
      "[Mask] Epoch 4: Loss=0.1903, Benign Acc=0.9975\n",
      "[Mask] Epoch 5: Loss=0.0787, Benign Acc=0.9979\n",
      "[Mask] Epoch 6: Loss=0.0459, Benign Acc=0.9975\n",
      "[Mask] Epoch 7: Loss=0.0322, Benign Acc=0.9982\n",
      "[Mask] Epoch 8: Loss=0.0239, Benign Acc=0.9984\n",
      "[Mask] Epoch 9: Loss=0.0188, Benign Acc=0.9984\n",
      "[Mask] Epoch 10: Loss=0.0154, Benign Acc=0.9989\n",
      "[Mask] Epoch 11: Loss=0.0128, Benign Acc=0.9986\n",
      "[Mask] Epoch 12: Loss=0.0109, Benign Acc=0.9990\n",
      "[Mask] Epoch 13: Loss=0.0092, Benign Acc=0.9991\n",
      "[Mask] Epoch 14: Loss=0.0080, Benign Acc=0.9989\n",
      "[Mask] Epoch 15: Loss=0.0074, Benign Acc=0.9995\n",
      "[Mask] Epoch 16: Loss=0.0063, Benign Acc=0.9995\n",
      "[Mask] Epoch 17: Loss=0.0052, Benign Acc=0.9995\n",
      "[Mask] Epoch 18: Loss=0.0049, Benign Acc=0.9996\n",
      "[Mask] Epoch 19: Loss=0.0047, Benign Acc=0.9996\n",
      "[Mask] Epoch 20: Loss=0.0044, Benign Acc=0.9994\n",
      "[Mask] Epoch 1: Loss=0.9165, Benign Acc=0.9966\n",
      "[Mask] Epoch 2: Loss=0.3887, Benign Acc=0.9992\n",
      "[Mask] Epoch 3: Loss=0.1432, Benign Acc=0.9991\n",
      "[Mask] Epoch 4: Loss=0.0674, Benign Acc=0.9992\n",
      "[Mask] Epoch 5: Loss=0.0409, Benign Acc=0.9998\n",
      "[Mask] Epoch 6: Loss=0.0279, Benign Acc=0.9994\n",
      "[Mask] Epoch 7: Loss=0.0211, Benign Acc=0.9998\n",
      "[Mask] Epoch 8: Loss=0.0162, Benign Acc=0.9998\n",
      "[Mask] Epoch 9: Loss=0.0136, Benign Acc=0.9999\n",
      "[Mask] Epoch 10: Loss=0.0108, Benign Acc=0.9999\n",
      "[Mask] Epoch 11: Loss=0.0093, Benign Acc=0.9999\n",
      "[Mask] Epoch 12: Loss=0.0085, Benign Acc=0.9999\n",
      "[Mask] Epoch 13: Loss=0.0073, Benign Acc=0.9999\n",
      "[Mask] Epoch 14: Loss=0.0065, Benign Acc=1.0000\n",
      "[Mask] Epoch 15: Loss=0.0057, Benign Acc=1.0000\n",
      "[Mask] Epoch 16: Loss=0.0053, Benign Acc=1.0000\n",
      "[Mask] Epoch 17: Loss=0.0048, Benign Acc=0.9999\n",
      "[Mask] Epoch 18: Loss=0.0042, Benign Acc=0.9999\n",
      "[Mask] Epoch 19: Loss=0.0039, Benign Acc=1.0000\n",
      "[Mask] Epoch 20: Loss=0.0037, Benign Acc=0.9999\n",
      "[Mask] Epoch 1: Loss=0.2266, Benign Acc=1.0000\n",
      "[Mask] Epoch 2: Loss=0.0694, Benign Acc=1.0000\n",
      "[Mask] Epoch 3: Loss=0.0323, Benign Acc=1.0000\n",
      "[Mask] Epoch 4: Loss=0.0195, Benign Acc=0.9999\n",
      "[Mask] Epoch 5: Loss=0.0133, Benign Acc=1.0000\n",
      "[Mask] Epoch 6: Loss=0.0096, Benign Acc=1.0000\n",
      "[Mask] Epoch 7: Loss=0.0078, Benign Acc=1.0000\n",
      "[Mask] Epoch 8: Loss=0.0060, Benign Acc=1.0000\n",
      "[Mask] Epoch 9: Loss=0.0049, Benign Acc=1.0000\n",
      "[Mask] Epoch 10: Loss=0.0044, Benign Acc=1.0000\n",
      "[Mask] Epoch 11: Loss=0.0038, Benign Acc=1.0000\n",
      "[Mask] Epoch 12: Loss=0.0034, Benign Acc=0.9999\n",
      "[Mask] Epoch 13: Loss=0.0030, Benign Acc=1.0000\n",
      "[Mask] Epoch 14: Loss=0.0026, Benign Acc=1.0000\n",
      "[Mask] Epoch 15: Loss=0.0023, Benign Acc=1.0000\n",
      "[Mask] Epoch 16: Loss=0.0021, Benign Acc=1.0000\n",
      "[Mask] Epoch 17: Loss=0.0020, Benign Acc=1.0000\n",
      "[Mask] Epoch 18: Loss=0.0019, Benign Acc=1.0000\n",
      "[Mask] Epoch 19: Loss=0.0018, Benign Acc=1.0000\n",
      "[Mask] Epoch 20: Loss=0.0016, Benign Acc=1.0000\n",
      "[Mask] Epoch 1: Loss=0.0465, Benign Acc=0.9998\n",
      "[Mask] Epoch 2: Loss=0.0138, Benign Acc=0.9999\n",
      "[Mask] Epoch 3: Loss=0.0070, Benign Acc=0.9999\n",
      "[Mask] Epoch 4: Loss=0.0046, Benign Acc=0.9998\n",
      "[Mask] Epoch 5: Loss=0.0031, Benign Acc=0.9999\n",
      "[Mask] Epoch 6: Loss=0.0023, Benign Acc=0.9999\n",
      "[Mask] Epoch 7: Loss=0.0021, Benign Acc=1.0000\n",
      "[Mask] Epoch 8: Loss=0.0015, Benign Acc=1.0000\n",
      "[Mask] Epoch 9: Loss=0.0013, Benign Acc=1.0000\n",
      "[Mask] Epoch 10: Loss=0.0010, Benign Acc=1.0000\n",
      "[Mask] Epoch 11: Loss=0.0010, Benign Acc=1.0000\n",
      "[Mask] Epoch 12: Loss=0.0006, Benign Acc=1.0000\n",
      "[Mask] Epoch 13: Loss=0.0007, Benign Acc=1.0000\n",
      "[Mask] Epoch 14: Loss=0.0007, Benign Acc=1.0000\n",
      "[Mask] Epoch 15: Loss=0.0006, Benign Acc=1.0000\n",
      "[Mask] Epoch 16: Loss=0.0003, Benign Acc=1.0000\n",
      "[Mask] Epoch 17: Loss=0.0006, Benign Acc=1.0000\n",
      "[Mask] Epoch 18: Loss=0.0003, Benign Acc=1.0000\n",
      "[Mask] Epoch 19: Loss=0.0004, Benign Acc=1.0000\n",
      "[Mask] Epoch 20: Loss=-0.0000, Benign Acc=1.0000\n",
      "Evaluating model: ./Odysseus-MNIST/Models/Model_828.pth\n",
      "Dataset directory: ./test_results/datasets/Odysseus-MNIST/Models/Model_828.pth_MNIST\n",
      "============================================================\n",
      "Dataset statistics:\n",
      "  Total images: 2000\n",
      "  Triggered images: 1000\n",
      "  Clean images: 1000\n"
     ]
    },
    {
     "name": "stderr",
     "output_type": "stream",
     "text": [
      "/home/tyler/Desktop/ResearchProject/Load_Model.py:421: UserWarning: Implicit dimension choice for log_softmax has been deprecated. Change the call to include dim=X as an argument.\n",
      "  return F.log_softmax(output)\n"
     ]
    },
    {
     "name": "stdout",
     "output_type": "stream",
     "text": [
      "Evaluating model: ./Odysseus-MNIST/Models/Model_828.pth\n",
      "Dataset directory: ./test_results/datasets/Odysseus-MNIST/Models/Model_828.pth_MNIST\n",
      "============================================================\n",
      "Dataset statistics:\n",
      "  Total images: 2000\n",
      "  Triggered images: 1000\n",
      "  Clean images: 1000\n"
     ]
    },
    {
     "name": "stderr",
     "output_type": "stream",
     "text": [
      "/home/tyler/Desktop/ResearchProject/Load_Model.py:421: UserWarning: Implicit dimension choice for log_softmax has been deprecated. Change the call to include dim=X as an argument.\n",
      "  return F.log_softmax(output)\n",
      "BTI-DBF (U): Models:  40%|█████████▏             | 2/5 [09:15<14:12, 284.14s/it]"
     ]
    },
    {
     "name": "stdout",
     "output_type": "stream",
     "text": [
      "keys are : dict_keys(['net', 'Model Category', 'Architecture_Name', 'Learning_Rate', 'Loss Function', 'optimizer', 'Momentum', 'Weight decay', 'num_workers', 'Pytorch version', 'Trigger type', 'Trigger Size', 'Trigger_location', 'Mapping', 'Normalization Type', 'Mapping Type', 'Dataset', 'Batch Size', 'trigger_fraction', 'test_clean_acc', 'test_trigerred_acc', 'epoch'])\n",
      "==> Building model..\n",
      "The Accuracies on clean samples:   99.5375\n",
      "The fooling rate:  98.2\n",
      "Mapping is :  [5. 7. 7. 7. 3. 0. 2. 8. 1. 1.] <class 'numpy.ndarray'>\n"
     ]
    },
    {
     "name": "stderr",
     "output_type": "stream",
     "text": [
      "/home/tyler/Desktop/ResearchProject/Load_Model.py:34: FutureWarning: You are using `torch.load` with `weights_only=False` (the current default value), which uses the default pickle module implicitly. It is possible to construct malicious pickle data which will execute arbitrary code during unpickling (See https://github.com/pytorch/pytorch/blob/main/SECURITY.md#untrusted-models for more details). In a future release, the default value for `weights_only` will be flipped to `True`. This limits the functions that could be executed during unpickling. Arbitrary objects will no longer be allowed to be loaded via this mode unless they are explicitly allowlisted by the user via `torch.serialization.add_safe_globals`. We recommend you start setting `weights_only=True` for any use case where you don't have full control of the loaded file. Please open an issue on GitHub for any issues related to this experimental feature.\n",
      "  checkpoint = torch.load(model_path)\n",
      "/home/tyler/Desktop/ResearchProject/Load_Model.py:19: FutureWarning: You are using `torch.load` with `weights_only=False` (the current default value), which uses the default pickle module implicitly. It is possible to construct malicious pickle data which will execute arbitrary code during unpickling (See https://github.com/pytorch/pytorch/blob/main/SECURITY.md#untrusted-models for more details). In a future release, the default value for `weights_only` will be flipped to `True`. This limits the functions that could be executed during unpickling. Arbitrary objects will no longer be allowed to be loaded via this mode unless they are explicitly allowlisted by the user via `torch.serialization.add_safe_globals`. We recommend you start setting `weights_only=True` for any use case where you don't have full control of the loaded file. Please open an issue on GitHub for any issues related to this experimental feature.\n",
      "  checkpoint = torch.load(model_path, map_location=\"cpu\")\n"
     ]
    },
    {
     "name": "stdout",
     "output_type": "stream",
     "text": [
      "[Mask] Epoch 1: Loss=2.2627, Benign Acc=0.1013\n",
      "[Mask] Epoch 2: Loss=2.2360, Benign Acc=0.1013\n",
      "[Mask] Epoch 3: Loss=2.1487, Benign Acc=0.1409\n",
      "[Mask] Epoch 4: Loss=1.7928, Benign Acc=0.6156\n",
      "[Mask] Epoch 5: Loss=0.7648, Benign Acc=0.9878\n",
      "[Mask] Epoch 6: Loss=0.1374, Benign Acc=0.9926\n",
      "[Mask] Epoch 7: Loss=0.0527, Benign Acc=0.9928\n",
      "[Mask] Epoch 8: Loss=0.0307, Benign Acc=0.9938\n",
      "[Mask] Epoch 9: Loss=0.0202, Benign Acc=0.9938\n",
      "[Mask] Epoch 10: Loss=0.0128, Benign Acc=0.9939\n",
      "[Mask] Epoch 11: Loss=0.0080, Benign Acc=0.9945\n",
      "[Mask] Epoch 12: Loss=0.0037, Benign Acc=0.9950\n",
      "[Mask] Epoch 13: Loss=0.0018, Benign Acc=0.9948\n",
      "[Mask] Epoch 14: Loss=-0.0018, Benign Acc=0.9949\n",
      "[Mask] Epoch 15: Loss=-0.0038, Benign Acc=0.9949\n",
      "[Mask] Epoch 16: Loss=-0.0062, Benign Acc=0.9949\n",
      "[Mask] Epoch 17: Loss=-0.0082, Benign Acc=0.9944\n",
      "[Mask] Epoch 18: Loss=-0.0083, Benign Acc=0.9952\n",
      "[Mask] Epoch 19: Loss=-0.0108, Benign Acc=0.9954\n",
      "[Mask] Epoch 20: Loss=-0.0115, Benign Acc=0.9949\n"
     ]
    },
    {
     "name": "stderr",
     "output_type": "stream",
     "text": [
      "/home/tyler/Desktop/ResearchProject/Load_Model.py:421: UserWarning: Implicit dimension choice for log_softmax has been deprecated. Change the call to include dim=X as an argument.\n",
      "  return F.log_softmax(output)\n"
     ]
    },
    {
     "name": "stdout",
     "output_type": "stream",
     "text": [
      "[Mask] Epoch 1: Loss=1.8296, Benign Acc=0.9899\n",
      "[Mask] Epoch 2: Loss=1.3767, Benign Acc=0.9991\n",
      "[Mask] Epoch 3: Loss=0.6377, Benign Acc=0.9995\n",
      "[Mask] Epoch 4: Loss=0.1839, Benign Acc=0.9996\n",
      "[Mask] Epoch 5: Loss=0.0705, Benign Acc=0.9996\n",
      "[Mask] Epoch 6: Loss=0.0389, Benign Acc=0.9996\n",
      "[Mask] Epoch 7: Loss=0.0264, Benign Acc=0.9995\n",
      "[Mask] Epoch 8: Loss=0.0194, Benign Acc=0.9998\n",
      "[Mask] Epoch 9: Loss=0.0152, Benign Acc=0.9999\n",
      "[Mask] Epoch 10: Loss=0.0124, Benign Acc=0.9998\n",
      "[Mask] Epoch 11: Loss=0.0107, Benign Acc=0.9998\n",
      "[Mask] Epoch 12: Loss=0.0093, Benign Acc=0.9999\n",
      "[Mask] Epoch 13: Loss=0.0079, Benign Acc=0.9999\n",
      "[Mask] Epoch 14: Loss=0.0070, Benign Acc=0.9999\n",
      "[Mask] Epoch 15: Loss=0.0062, Benign Acc=0.9999\n",
      "[Mask] Epoch 16: Loss=0.0057, Benign Acc=1.0000\n",
      "[Mask] Epoch 17: Loss=0.0051, Benign Acc=0.9999\n",
      "[Mask] Epoch 18: Loss=0.0047, Benign Acc=1.0000\n",
      "[Mask] Epoch 19: Loss=0.0045, Benign Acc=0.9999\n",
      "[Mask] Epoch 20: Loss=0.0042, Benign Acc=1.0000\n",
      "[Mask] Epoch 1: Loss=0.8601, Benign Acc=0.9996\n",
      "[Mask] Epoch 2: Loss=0.3529, Benign Acc=0.9999\n",
      "[Mask] Epoch 3: Loss=0.1303, Benign Acc=0.9998\n",
      "[Mask] Epoch 4: Loss=0.0621, Benign Acc=0.9999\n",
      "[Mask] Epoch 5: Loss=0.0368, Benign Acc=1.0000\n",
      "[Mask] Epoch 6: Loss=0.0252, Benign Acc=1.0000\n",
      "[Mask] Epoch 7: Loss=0.0187, Benign Acc=1.0000\n",
      "[Mask] Epoch 8: Loss=0.0147, Benign Acc=1.0000\n",
      "[Mask] Epoch 9: Loss=0.0118, Benign Acc=1.0000\n",
      "[Mask] Epoch 10: Loss=0.0097, Benign Acc=1.0000\n",
      "[Mask] Epoch 11: Loss=0.0080, Benign Acc=1.0000\n",
      "[Mask] Epoch 12: Loss=0.0072, Benign Acc=1.0000\n",
      "[Mask] Epoch 13: Loss=0.0062, Benign Acc=1.0000\n",
      "[Mask] Epoch 14: Loss=0.0056, Benign Acc=1.0000\n",
      "[Mask] Epoch 15: Loss=0.0050, Benign Acc=1.0000\n",
      "[Mask] Epoch 16: Loss=0.0045, Benign Acc=1.0000\n",
      "[Mask] Epoch 17: Loss=0.0040, Benign Acc=1.0000\n",
      "[Mask] Epoch 18: Loss=0.0037, Benign Acc=1.0000\n",
      "[Mask] Epoch 19: Loss=0.0034, Benign Acc=1.0000\n",
      "[Mask] Epoch 20: Loss=0.0030, Benign Acc=1.0000\n",
      "[Mask] Epoch 1: Loss=0.2696, Benign Acc=0.9995\n",
      "[Mask] Epoch 2: Loss=0.0882, Benign Acc=0.9998\n",
      "[Mask] Epoch 3: Loss=0.0395, Benign Acc=1.0000\n",
      "[Mask] Epoch 4: Loss=0.0231, Benign Acc=0.9998\n",
      "[Mask] Epoch 5: Loss=0.0154, Benign Acc=1.0000\n",
      "[Mask] Epoch 6: Loss=0.0111, Benign Acc=1.0000\n",
      "[Mask] Epoch 7: Loss=0.0083, Benign Acc=1.0000\n",
      "[Mask] Epoch 8: Loss=0.0063, Benign Acc=1.0000\n",
      "[Mask] Epoch 9: Loss=0.0054, Benign Acc=1.0000\n",
      "[Mask] Epoch 10: Loss=0.0044, Benign Acc=1.0000\n",
      "[Mask] Epoch 11: Loss=0.0040, Benign Acc=1.0000\n",
      "[Mask] Epoch 12: Loss=0.0033, Benign Acc=1.0000\n",
      "[Mask] Epoch 13: Loss=0.0025, Benign Acc=1.0000\n",
      "[Mask] Epoch 14: Loss=0.0023, Benign Acc=1.0000\n",
      "[Mask] Epoch 15: Loss=0.0020, Benign Acc=1.0000\n",
      "[Mask] Epoch 16: Loss=0.0017, Benign Acc=1.0000\n",
      "[Mask] Epoch 17: Loss=0.0016, Benign Acc=1.0000\n",
      "[Mask] Epoch 18: Loss=0.0017, Benign Acc=1.0000\n",
      "[Mask] Epoch 19: Loss=0.0014, Benign Acc=1.0000\n",
      "[Mask] Epoch 20: Loss=0.0013, Benign Acc=1.0000\n",
      "[Mask] Epoch 1: Loss=0.0506, Benign Acc=0.9996\n",
      "[Mask] Epoch 2: Loss=0.0175, Benign Acc=0.9998\n",
      "[Mask] Epoch 3: Loss=0.0099, Benign Acc=0.9998\n",
      "[Mask] Epoch 4: Loss=0.0064, Benign Acc=0.9999\n",
      "[Mask] Epoch 5: Loss=0.0049, Benign Acc=0.9999\n",
      "[Mask] Epoch 6: Loss=0.0038, Benign Acc=1.0000\n",
      "[Mask] Epoch 7: Loss=0.0032, Benign Acc=1.0000\n",
      "[Mask] Epoch 8: Loss=0.0024, Benign Acc=1.0000\n",
      "[Mask] Epoch 9: Loss=0.0021, Benign Acc=1.0000\n",
      "[Mask] Epoch 10: Loss=0.0018, Benign Acc=1.0000\n",
      "[Mask] Epoch 11: Loss=0.0016, Benign Acc=1.0000\n",
      "[Mask] Epoch 12: Loss=0.0015, Benign Acc=1.0000\n",
      "[Mask] Epoch 13: Loss=0.0013, Benign Acc=1.0000\n",
      "[Mask] Epoch 14: Loss=0.0012, Benign Acc=1.0000\n",
      "[Mask] Epoch 15: Loss=0.0011, Benign Acc=1.0000\n",
      "[Mask] Epoch 16: Loss=0.0011, Benign Acc=1.0000\n",
      "[Mask] Epoch 17: Loss=0.0009, Benign Acc=1.0000\n",
      "[Mask] Epoch 18: Loss=0.0009, Benign Acc=1.0000\n",
      "[Mask] Epoch 19: Loss=0.0008, Benign Acc=1.0000\n",
      "[Mask] Epoch 20: Loss=0.0008, Benign Acc=1.0000\n",
      "Evaluating model: ./Odysseus-MNIST/Models/Model_834.pth\n",
      "Dataset directory: ./test_results/datasets/Odysseus-MNIST/Models/Model_834.pth_MNIST\n",
      "============================================================\n",
      "Dataset statistics:\n",
      "  Total images: 2000\n",
      "  Triggered images: 1000\n",
      "  Clean images: 1000\n"
     ]
    },
    {
     "name": "stderr",
     "output_type": "stream",
     "text": [
      "/home/tyler/Desktop/ResearchProject/Load_Model.py:421: UserWarning: Implicit dimension choice for log_softmax has been deprecated. Change the call to include dim=X as an argument.\n",
      "  return F.log_softmax(output)\n"
     ]
    },
    {
     "name": "stdout",
     "output_type": "stream",
     "text": [
      "Evaluating model: ./Odysseus-MNIST/Models/Model_834.pth\n",
      "Dataset directory: ./test_results/datasets/Odysseus-MNIST/Models/Model_834.pth_MNIST\n",
      "============================================================\n",
      "Dataset statistics:\n",
      "  Total images: 2000\n",
      "  Triggered images: 1000\n",
      "  Clean images: 1000\n"
     ]
    },
    {
     "name": "stderr",
     "output_type": "stream",
     "text": [
      "/home/tyler/Desktop/ResearchProject/Load_Model.py:421: UserWarning: Implicit dimension choice for log_softmax has been deprecated. Change the call to include dim=X as an argument.\n",
      "  return F.log_softmax(output)\n",
      "BTI-DBF (U): Models:  60%|█████████████▊         | 3/5 [14:27<09:53, 296.88s/it]"
     ]
    },
    {
     "name": "stdout",
     "output_type": "stream",
     "text": [
      "keys are : dict_keys(['net', 'Model Category', 'Architecture_Name', 'Learning_Rate', 'Loss Function', 'optimizer', 'Momentum', 'Weight decay', 'num_workers', 'Pytorch version', 'Trigger type', 'Trigger Size', 'Trigger_location', 'Mapping', 'Normalization Type', 'Mapping Type', 'Dataset', 'Batch Size', 'trigger_fraction', 'test_clean_acc', 'test_trigerred_acc', 'epoch'])\n",
      "==> Building model..\n",
      "The Accuracies on clean samples:   99.325\n",
      "The fooling rate:  97.35\n",
      "Mapping is :  [5. 0. 0. 0. 1. 8. 9. 4. 2. 2.] <class 'numpy.ndarray'>\n"
     ]
    },
    {
     "name": "stderr",
     "output_type": "stream",
     "text": [
      "/home/tyler/Desktop/ResearchProject/Load_Model.py:34: FutureWarning: You are using `torch.load` with `weights_only=False` (the current default value), which uses the default pickle module implicitly. It is possible to construct malicious pickle data which will execute arbitrary code during unpickling (See https://github.com/pytorch/pytorch/blob/main/SECURITY.md#untrusted-models for more details). In a future release, the default value for `weights_only` will be flipped to `True`. This limits the functions that could be executed during unpickling. Arbitrary objects will no longer be allowed to be loaded via this mode unless they are explicitly allowlisted by the user via `torch.serialization.add_safe_globals`. We recommend you start setting `weights_only=True` for any use case where you don't have full control of the loaded file. Please open an issue on GitHub for any issues related to this experimental feature.\n",
      "  checkpoint = torch.load(model_path)\n",
      "/home/tyler/Desktop/ResearchProject/Load_Model.py:19: FutureWarning: You are using `torch.load` with `weights_only=False` (the current default value), which uses the default pickle module implicitly. It is possible to construct malicious pickle data which will execute arbitrary code during unpickling (See https://github.com/pytorch/pytorch/blob/main/SECURITY.md#untrusted-models for more details). In a future release, the default value for `weights_only` will be flipped to `True`. This limits the functions that could be executed during unpickling. Arbitrary objects will no longer be allowed to be loaded via this mode unless they are explicitly allowlisted by the user via `torch.serialization.add_safe_globals`. We recommend you start setting `weights_only=True` for any use case where you don't have full control of the loaded file. Please open an issue on GitHub for any issues related to this experimental feature.\n",
      "  checkpoint = torch.load(model_path, map_location=\"cpu\")\n"
     ]
    },
    {
     "name": "stdout",
     "output_type": "stream",
     "text": [
      "[Mask] Epoch 1: Loss=2.2392, Benign Acc=0.2087\n",
      "[Mask] Epoch 2: Loss=2.1727, Benign Acc=0.2868\n",
      "[Mask] Epoch 3: Loss=1.9553, Benign Acc=0.4715\n",
      "[Mask] Epoch 4: Loss=1.2432, Benign Acc=0.8852\n",
      "[Mask] Epoch 5: Loss=0.3270, Benign Acc=0.9870\n",
      "[Mask] Epoch 6: Loss=0.0885, Benign Acc=0.9898\n",
      "[Mask] Epoch 7: Loss=0.0444, Benign Acc=0.9909\n",
      "[Mask] Epoch 8: Loss=0.0279, Benign Acc=0.9905\n",
      "[Mask] Epoch 9: Loss=0.0189, Benign Acc=0.9906\n",
      "[Mask] Epoch 10: Loss=0.0126, Benign Acc=0.9906\n",
      "[Mask] Epoch 11: Loss=0.0093, Benign Acc=0.9918\n",
      "[Mask] Epoch 12: Loss=0.0058, Benign Acc=0.9918\n",
      "[Mask] Epoch 13: Loss=0.0036, Benign Acc=0.9914\n",
      "[Mask] Epoch 14: Loss=0.0017, Benign Acc=0.9921\n",
      "[Mask] Epoch 15: Loss=-0.0002, Benign Acc=0.9919\n",
      "[Mask] Epoch 16: Loss=-0.0011, Benign Acc=0.9921\n",
      "[Mask] Epoch 17: Loss=-0.0021, Benign Acc=0.9925\n",
      "[Mask] Epoch 18: Loss=-0.0033, Benign Acc=0.9922\n",
      "[Mask] Epoch 19: Loss=-0.0037, Benign Acc=0.9920\n",
      "[Mask] Epoch 20: Loss=-0.0057, Benign Acc=0.9921\n"
     ]
    },
    {
     "name": "stderr",
     "output_type": "stream",
     "text": [
      "/home/tyler/Desktop/ResearchProject/Load_Model.py:371: UserWarning: Implicit dimension choice for log_softmax has been deprecated. Change the call to include dim=X as an argument.\n",
      "  return F.log_softmax(output)\n"
     ]
    },
    {
     "name": "stdout",
     "output_type": "stream",
     "text": [
      "[Mask] Epoch 1: Loss=1.9593, Benign Acc=0.5741\n",
      "[Mask] Epoch 2: Loss=1.5807, Benign Acc=0.9131\n",
      "[Mask] Epoch 3: Loss=0.8225, Benign Acc=0.9946\n",
      "[Mask] Epoch 4: Loss=0.2287, Benign Acc=0.9980\n",
      "[Mask] Epoch 5: Loss=0.0828, Benign Acc=0.9985\n",
      "[Mask] Epoch 6: Loss=0.0457, Benign Acc=0.9986\n",
      "[Mask] Epoch 7: Loss=0.0305, Benign Acc=0.9991\n",
      "[Mask] Epoch 8: Loss=0.0229, Benign Acc=0.9991\n",
      "[Mask] Epoch 9: Loss=0.0177, Benign Acc=0.9986\n",
      "[Mask] Epoch 10: Loss=0.0142, Benign Acc=0.9995\n",
      "[Mask] Epoch 11: Loss=0.0115, Benign Acc=0.9991\n",
      "[Mask] Epoch 12: Loss=0.0094, Benign Acc=0.9992\n",
      "[Mask] Epoch 13: Loss=0.0084, Benign Acc=0.9992\n",
      "[Mask] Epoch 14: Loss=0.0069, Benign Acc=0.9994\n",
      "[Mask] Epoch 15: Loss=0.0060, Benign Acc=0.9998\n",
      "[Mask] Epoch 16: Loss=0.0059, Benign Acc=0.9994\n",
      "[Mask] Epoch 17: Loss=0.0055, Benign Acc=0.9995\n",
      "[Mask] Epoch 18: Loss=0.0045, Benign Acc=0.9998\n",
      "[Mask] Epoch 19: Loss=0.0045, Benign Acc=0.9998\n",
      "[Mask] Epoch 20: Loss=0.0035, Benign Acc=0.9995\n",
      "[Mask] Epoch 1: Loss=1.5848, Benign Acc=0.8659\n",
      "[Mask] Epoch 2: Loss=0.9814, Benign Acc=0.9968\n",
      "[Mask] Epoch 3: Loss=0.3487, Benign Acc=1.0000\n",
      "[Mask] Epoch 4: Loss=0.1082, Benign Acc=1.0000\n",
      "[Mask] Epoch 5: Loss=0.0496, Benign Acc=1.0000\n",
      "[Mask] Epoch 6: Loss=0.0301, Benign Acc=1.0000\n",
      "[Mask] Epoch 7: Loss=0.0206, Benign Acc=1.0000\n",
      "[Mask] Epoch 8: Loss=0.0152, Benign Acc=1.0000\n",
      "[Mask] Epoch 9: Loss=0.0121, Benign Acc=1.0000\n",
      "[Mask] Epoch 10: Loss=0.0099, Benign Acc=1.0000\n",
      "[Mask] Epoch 11: Loss=0.0083, Benign Acc=1.0000\n",
      "[Mask] Epoch 12: Loss=0.0071, Benign Acc=1.0000\n",
      "[Mask] Epoch 13: Loss=0.0061, Benign Acc=1.0000\n",
      "[Mask] Epoch 14: Loss=0.0054, Benign Acc=1.0000\n",
      "[Mask] Epoch 15: Loss=0.0048, Benign Acc=1.0000\n",
      "[Mask] Epoch 16: Loss=0.0043, Benign Acc=1.0000\n",
      "[Mask] Epoch 17: Loss=0.0039, Benign Acc=1.0000\n",
      "[Mask] Epoch 18: Loss=0.0036, Benign Acc=1.0000\n",
      "[Mask] Epoch 19: Loss=0.0033, Benign Acc=1.0000\n",
      "[Mask] Epoch 20: Loss=0.0030, Benign Acc=1.0000\n",
      "[Mask] Epoch 1: Loss=1.1742, Benign Acc=0.9880\n",
      "[Mask] Epoch 2: Loss=0.5468, Benign Acc=0.9996\n",
      "[Mask] Epoch 3: Loss=0.1749, Benign Acc=1.0000\n",
      "[Mask] Epoch 4: Loss=0.0677, Benign Acc=1.0000\n",
      "[Mask] Epoch 5: Loss=0.0362, Benign Acc=1.0000\n",
      "[Mask] Epoch 6: Loss=0.0231, Benign Acc=1.0000\n",
      "[Mask] Epoch 7: Loss=0.0164, Benign Acc=1.0000\n",
      "[Mask] Epoch 8: Loss=0.0123, Benign Acc=1.0000\n",
      "[Mask] Epoch 9: Loss=0.0097, Benign Acc=1.0000\n",
      "[Mask] Epoch 10: Loss=0.0080, Benign Acc=1.0000\n",
      "[Mask] Epoch 11: Loss=0.0067, Benign Acc=1.0000\n",
      "[Mask] Epoch 12: Loss=0.0057, Benign Acc=1.0000\n",
      "[Mask] Epoch 13: Loss=0.0049, Benign Acc=1.0000\n",
      "[Mask] Epoch 14: Loss=0.0045, Benign Acc=1.0000\n",
      "[Mask] Epoch 15: Loss=0.0038, Benign Acc=1.0000\n",
      "[Mask] Epoch 16: Loss=0.0035, Benign Acc=1.0000\n",
      "[Mask] Epoch 17: Loss=0.0031, Benign Acc=1.0000\n",
      "[Mask] Epoch 18: Loss=0.0029, Benign Acc=1.0000\n",
      "[Mask] Epoch 19: Loss=0.0027, Benign Acc=1.0000\n",
      "[Mask] Epoch 20: Loss=0.0024, Benign Acc=1.0000\n",
      "[Mask] Epoch 1: Loss=0.7992, Benign Acc=0.9995\n",
      "[Mask] Epoch 2: Loss=0.2983, Benign Acc=0.9999\n",
      "[Mask] Epoch 3: Loss=0.0999, Benign Acc=1.0000\n",
      "[Mask] Epoch 4: Loss=0.0448, Benign Acc=1.0000\n",
      "[Mask] Epoch 5: Loss=0.0258, Benign Acc=1.0000\n",
      "[Mask] Epoch 6: Loss=0.0169, Benign Acc=1.0000\n",
      "[Mask] Epoch 7: Loss=0.0122, Benign Acc=1.0000\n",
      "[Mask] Epoch 8: Loss=0.0093, Benign Acc=1.0000\n",
      "[Mask] Epoch 9: Loss=0.0074, Benign Acc=1.0000\n",
      "[Mask] Epoch 10: Loss=0.0061, Benign Acc=1.0000\n",
      "[Mask] Epoch 11: Loss=0.0051, Benign Acc=1.0000\n",
      "[Mask] Epoch 12: Loss=0.0043, Benign Acc=1.0000\n",
      "[Mask] Epoch 13: Loss=0.0037, Benign Acc=1.0000\n",
      "[Mask] Epoch 14: Loss=0.0032, Benign Acc=1.0000\n",
      "[Mask] Epoch 15: Loss=0.0029, Benign Acc=1.0000\n",
      "[Mask] Epoch 16: Loss=0.0026, Benign Acc=1.0000\n",
      "[Mask] Epoch 17: Loss=0.0023, Benign Acc=1.0000\n",
      "[Mask] Epoch 18: Loss=0.0021, Benign Acc=1.0000\n",
      "[Mask] Epoch 19: Loss=0.0019, Benign Acc=1.0000\n",
      "[Mask] Epoch 20: Loss=0.0017, Benign Acc=1.0000\n",
      "Evaluating model: ./Odysseus-MNIST/Models/Model_763.pth\n",
      "Dataset directory: ./test_results/datasets/Odysseus-MNIST/Models/Model_763.pth_MNIST\n",
      "============================================================\n",
      "Dataset statistics:\n",
      "  Total images: 2000\n",
      "  Triggered images: 1000\n",
      "  Clean images: 1000\n"
     ]
    },
    {
     "name": "stderr",
     "output_type": "stream",
     "text": [
      "/home/tyler/Desktop/ResearchProject/Load_Model.py:371: UserWarning: Implicit dimension choice for log_softmax has been deprecated. Change the call to include dim=X as an argument.\n",
      "  return F.log_softmax(output)\n"
     ]
    },
    {
     "name": "stdout",
     "output_type": "stream",
     "text": [
      "Evaluating model: ./Odysseus-MNIST/Models/Model_763.pth\n",
      "Dataset directory: ./test_results/datasets/Odysseus-MNIST/Models/Model_763.pth_MNIST\n",
      "============================================================\n",
      "Dataset statistics:\n",
      "  Total images: 2000\n",
      "  Triggered images: 1000\n",
      "  Clean images: 1000\n"
     ]
    },
    {
     "name": "stderr",
     "output_type": "stream",
     "text": [
      "/home/tyler/Desktop/ResearchProject/Load_Model.py:371: UserWarning: Implicit dimension choice for log_softmax has been deprecated. Change the call to include dim=X as an argument.\n",
      "  return F.log_softmax(output)\n",
      "BTI-DBF (U): Models:  80%|██████████████████▍    | 4/5 [18:33<04:36, 276.79s/it]"
     ]
    },
    {
     "name": "stdout",
     "output_type": "stream",
     "text": [
      "keys are : dict_keys(['net', 'Model Category', 'Architecture_Name', 'Learning_Rate', 'Loss Function', 'optimizer', 'Momentum', 'Weight decay', 'num_workers', 'Pytorch version', 'Trigger type', 'Trigger Size', 'Trigger_location', 'Mapping', 'Normalization Type', 'Mapping Type', 'Dataset', 'Batch Size', 'trigger_fraction', 'test_clean_acc', 'test_trigerred_acc', 'epoch'])\n",
      "==> Building model..\n",
      "The Accuracies on clean samples:   99.3875\n",
      "The fooling rate:  98.85\n",
      "Mapping is :  [3. 2. 2. 2. 5. 6. 9. 8. 4. 4.] <class 'numpy.ndarray'>\n"
     ]
    },
    {
     "name": "stderr",
     "output_type": "stream",
     "text": [
      "/home/tyler/Desktop/ResearchProject/Load_Model.py:34: FutureWarning: You are using `torch.load` with `weights_only=False` (the current default value), which uses the default pickle module implicitly. It is possible to construct malicious pickle data which will execute arbitrary code during unpickling (See https://github.com/pytorch/pytorch/blob/main/SECURITY.md#untrusted-models for more details). In a future release, the default value for `weights_only` will be flipped to `True`. This limits the functions that could be executed during unpickling. Arbitrary objects will no longer be allowed to be loaded via this mode unless they are explicitly allowlisted by the user via `torch.serialization.add_safe_globals`. We recommend you start setting `weights_only=True` for any use case where you don't have full control of the loaded file. Please open an issue on GitHub for any issues related to this experimental feature.\n",
      "  checkpoint = torch.load(model_path)\n",
      "/home/tyler/Desktop/ResearchProject/Load_Model.py:19: FutureWarning: You are using `torch.load` with `weights_only=False` (the current default value), which uses the default pickle module implicitly. It is possible to construct malicious pickle data which will execute arbitrary code during unpickling (See https://github.com/pytorch/pytorch/blob/main/SECURITY.md#untrusted-models for more details). In a future release, the default value for `weights_only` will be flipped to `True`. This limits the functions that could be executed during unpickling. Arbitrary objects will no longer be allowed to be loaded via this mode unless they are explicitly allowlisted by the user via `torch.serialization.add_safe_globals`. We recommend you start setting `weights_only=True` for any use case where you don't have full control of the loaded file. Please open an issue on GitHub for any issues related to this experimental feature.\n",
      "  checkpoint = torch.load(model_path, map_location=\"cpu\")\n"
     ]
    },
    {
     "name": "stdout",
     "output_type": "stream",
     "text": [
      "[Mask] Epoch 1: Loss=2.2944, Benign Acc=0.1000\n",
      "[Mask] Epoch 2: Loss=2.2923, Benign Acc=0.1000\n",
      "[Mask] Epoch 3: Loss=2.2750, Benign Acc=0.1000\n",
      "[Mask] Epoch 4: Loss=2.2111, Benign Acc=0.1492\n",
      "[Mask] Epoch 5: Loss=1.8725, Benign Acc=0.6442\n",
      "[Mask] Epoch 6: Loss=0.7733, Benign Acc=0.9829\n",
      "[Mask] Epoch 7: Loss=0.1373, Benign Acc=0.9912\n",
      "[Mask] Epoch 8: Loss=0.0598, Benign Acc=0.9908\n",
      "[Mask] Epoch 9: Loss=0.0376, Benign Acc=0.9908\n",
      "[Mask] Epoch 10: Loss=0.0269, Benign Acc=0.9925\n",
      "[Mask] Epoch 11: Loss=0.0191, Benign Acc=0.9918\n",
      "[Mask] Epoch 12: Loss=0.0149, Benign Acc=0.9944\n",
      "[Mask] Epoch 13: Loss=0.0092, Benign Acc=0.9931\n",
      "[Mask] Epoch 14: Loss=0.0059, Benign Acc=0.9928\n",
      "[Mask] Epoch 15: Loss=0.0050, Benign Acc=0.9940\n",
      "[Mask] Epoch 16: Loss=0.0023, Benign Acc=0.9942\n",
      "[Mask] Epoch 17: Loss=-0.0001, Benign Acc=0.9944\n",
      "[Mask] Epoch 18: Loss=-0.0008, Benign Acc=0.9942\n",
      "[Mask] Epoch 19: Loss=-0.0026, Benign Acc=0.9941\n",
      "[Mask] Epoch 20: Loss=-0.0068, Benign Acc=0.9946\n"
     ]
    },
    {
     "name": "stderr",
     "output_type": "stream",
     "text": [
      "/home/tyler/Desktop/ResearchProject/Load_Model.py:322: UserWarning: Implicit dimension choice for log_softmax has been deprecated. Change the call to include dim=X as an argument.\n",
      "  return F.log_softmax(output)\n"
     ]
    },
    {
     "name": "stdout",
     "output_type": "stream",
     "text": [
      "[Mask] Epoch 1: Loss=2.2836, Benign Acc=0.1424\n",
      "[Mask] Epoch 2: Loss=2.2511, Benign Acc=0.1878\n",
      "[Mask] Epoch 3: Loss=2.1451, Benign Acc=0.3901\n",
      "[Mask] Epoch 4: Loss=1.7269, Benign Acc=0.9237\n",
      "[Mask] Epoch 5: Loss=0.6446, Benign Acc=0.9999\n",
      "[Mask] Epoch 6: Loss=0.1077, Benign Acc=0.9998\n",
      "[Mask] Epoch 7: Loss=0.0435, Benign Acc=0.9998\n",
      "[Mask] Epoch 8: Loss=0.0269, Benign Acc=0.9998\n",
      "[Mask] Epoch 9: Loss=0.0184, Benign Acc=1.0000\n",
      "[Mask] Epoch 10: Loss=0.0142, Benign Acc=0.9998\n",
      "[Mask] Epoch 11: Loss=0.0117, Benign Acc=1.0000\n",
      "[Mask] Epoch 12: Loss=0.0092, Benign Acc=1.0000\n",
      "[Mask] Epoch 13: Loss=0.0081, Benign Acc=0.9999\n",
      "[Mask] Epoch 14: Loss=0.0070, Benign Acc=0.9999\n",
      "[Mask] Epoch 15: Loss=0.0058, Benign Acc=1.0000\n",
      "[Mask] Epoch 16: Loss=0.0050, Benign Acc=1.0000\n",
      "[Mask] Epoch 17: Loss=0.0047, Benign Acc=1.0000\n",
      "[Mask] Epoch 18: Loss=0.0041, Benign Acc=1.0000\n",
      "[Mask] Epoch 19: Loss=0.0036, Benign Acc=1.0000\n",
      "[Mask] Epoch 20: Loss=0.0037, Benign Acc=0.9999\n",
      "[Mask] Epoch 1: Loss=2.2216, Benign Acc=0.2032\n",
      "[Mask] Epoch 2: Loss=2.1258, Benign Acc=0.4585\n",
      "[Mask] Epoch 3: Loss=1.8285, Benign Acc=0.9273\n",
      "[Mask] Epoch 4: Loss=0.9835, Benign Acc=0.9986\n",
      "[Mask] Epoch 5: Loss=0.2042, Benign Acc=0.9995\n",
      "[Mask] Epoch 6: Loss=0.0611, Benign Acc=0.9998\n",
      "[Mask] Epoch 7: Loss=0.0321, Benign Acc=0.9998\n",
      "[Mask] Epoch 8: Loss=0.0213, Benign Acc=0.9998\n",
      "[Mask] Epoch 9: Loss=0.0154, Benign Acc=0.9999\n",
      "[Mask] Epoch 10: Loss=0.0119, Benign Acc=0.9996\n",
      "[Mask] Epoch 11: Loss=0.0095, Benign Acc=0.9998\n",
      "[Mask] Epoch 12: Loss=0.0076, Benign Acc=0.9998\n",
      "[Mask] Epoch 13: Loss=0.0064, Benign Acc=1.0000\n",
      "[Mask] Epoch 14: Loss=0.0055, Benign Acc=1.0000\n",
      "[Mask] Epoch 15: Loss=0.0046, Benign Acc=1.0000\n",
      "[Mask] Epoch 16: Loss=0.0041, Benign Acc=1.0000\n",
      "[Mask] Epoch 17: Loss=0.0034, Benign Acc=1.0000\n",
      "[Mask] Epoch 18: Loss=0.0034, Benign Acc=1.0000\n",
      "[Mask] Epoch 19: Loss=0.0029, Benign Acc=1.0000\n",
      "[Mask] Epoch 20: Loss=0.0024, Benign Acc=1.0000\n",
      "[Mask] Epoch 1: Loss=2.1423, Benign Acc=0.3141\n",
      "[Mask] Epoch 2: Loss=1.9552, Benign Acc=0.6991\n",
      "[Mask] Epoch 3: Loss=1.4375, Benign Acc=0.9852\n",
      "[Mask] Epoch 4: Loss=0.5186, Benign Acc=0.9999\n",
      "[Mask] Epoch 5: Loss=0.1120, Benign Acc=1.0000\n",
      "[Mask] Epoch 6: Loss=0.0455, Benign Acc=0.9999\n",
      "[Mask] Epoch 7: Loss=0.0263, Benign Acc=1.0000\n",
      "[Mask] Epoch 8: Loss=0.0176, Benign Acc=1.0000\n",
      "[Mask] Epoch 9: Loss=0.0130, Benign Acc=1.0000\n",
      "[Mask] Epoch 10: Loss=0.0099, Benign Acc=1.0000\n",
      "[Mask] Epoch 11: Loss=0.0080, Benign Acc=1.0000\n",
      "[Mask] Epoch 12: Loss=0.0066, Benign Acc=1.0000\n",
      "[Mask] Epoch 13: Loss=0.0052, Benign Acc=1.0000\n",
      "[Mask] Epoch 14: Loss=0.0048, Benign Acc=1.0000\n",
      "[Mask] Epoch 15: Loss=0.0039, Benign Acc=1.0000\n",
      "[Mask] Epoch 16: Loss=0.0035, Benign Acc=1.0000\n",
      "[Mask] Epoch 17: Loss=0.0033, Benign Acc=1.0000\n",
      "[Mask] Epoch 18: Loss=0.0028, Benign Acc=1.0000\n",
      "[Mask] Epoch 19: Loss=0.0026, Benign Acc=1.0000\n",
      "[Mask] Epoch 20: Loss=0.0023, Benign Acc=1.0000\n",
      "[Mask] Epoch 1: Loss=2.0156, Benign Acc=0.4878\n",
      "[Mask] Epoch 2: Loss=1.6975, Benign Acc=0.8772\n",
      "[Mask] Epoch 3: Loss=0.9800, Benign Acc=0.9966\n",
      "[Mask] Epoch 4: Loss=0.2694, Benign Acc=0.9998\n",
      "[Mask] Epoch 5: Loss=0.0777, Benign Acc=1.0000\n",
      "[Mask] Epoch 6: Loss=0.0379, Benign Acc=1.0000\n",
      "[Mask] Epoch 7: Loss=0.0233, Benign Acc=1.0000\n",
      "[Mask] Epoch 8: Loss=0.0166, Benign Acc=1.0000\n",
      "[Mask] Epoch 9: Loss=0.0122, Benign Acc=1.0000\n",
      "[Mask] Epoch 10: Loss=0.0092, Benign Acc=1.0000\n",
      "[Mask] Epoch 11: Loss=0.0078, Benign Acc=1.0000\n",
      "[Mask] Epoch 12: Loss=0.0063, Benign Acc=1.0000\n",
      "[Mask] Epoch 13: Loss=0.0053, Benign Acc=1.0000\n",
      "[Mask] Epoch 14: Loss=0.0046, Benign Acc=1.0000\n",
      "[Mask] Epoch 15: Loss=0.0039, Benign Acc=1.0000\n",
      "[Mask] Epoch 16: Loss=0.0034, Benign Acc=1.0000\n",
      "[Mask] Epoch 17: Loss=0.0030, Benign Acc=1.0000\n",
      "[Mask] Epoch 18: Loss=0.0027, Benign Acc=1.0000\n",
      "[Mask] Epoch 19: Loss=0.0025, Benign Acc=1.0000\n",
      "[Mask] Epoch 20: Loss=0.0022, Benign Acc=1.0000\n",
      "Evaluating model: ./Odysseus-MNIST/Models/Model_762.pth\n",
      "Dataset directory: ./test_results/datasets/Odysseus-MNIST/Models/Model_762.pth_MNIST\n",
      "============================================================\n",
      "Dataset statistics:\n",
      "  Total images: 2000\n",
      "  Triggered images: 1000\n",
      "  Clean images: 1000\n"
     ]
    },
    {
     "name": "stderr",
     "output_type": "stream",
     "text": [
      "/home/tyler/Desktop/ResearchProject/Load_Model.py:322: UserWarning: Implicit dimension choice for log_softmax has been deprecated. Change the call to include dim=X as an argument.\n",
      "  return F.log_softmax(output)\n"
     ]
    },
    {
     "name": "stdout",
     "output_type": "stream",
     "text": [
      "Evaluating model: ./Odysseus-MNIST/Models/Model_762.pth\n",
      "Dataset directory: ./test_results/datasets/Odysseus-MNIST/Models/Model_762.pth_MNIST\n",
      "============================================================\n",
      "Dataset statistics:\n",
      "  Total images: 2000\n",
      "  Triggered images: 1000\n",
      "  Clean images: 1000\n"
     ]
    },
    {
     "name": "stderr",
     "output_type": "stream",
     "text": [
      "/home/tyler/Desktop/ResearchProject/Load_Model.py:322: UserWarning: Implicit dimension choice for log_softmax has been deprecated. Change the call to include dim=X as an argument.\n",
      "  return F.log_softmax(output)\n",
      "BTI-DBF (U): Models: 100%|███████████████████████| 5/5 [22:21<00:00, 268.32s/it]\n"
     ]
    },
    {
     "name": "stdout",
     "output_type": "stream",
     "text": [
      "✅ BTI-DBF (U) results saved to MNIST_BTI_DBF_U_results.csv\n"
     ]
    },
    {
     "name": "stderr",
     "output_type": "stream",
     "text": [
      "BTI-DBF (U): Models:   0%|                                | 0/5 [00:00<?, ?it/s]"
     ]
    },
    {
     "name": "stdout",
     "output_type": "stream",
     "text": [
      "keys are : dict_keys(['net', 'Model Category', 'Architecture_Name', 'Learning_Rate', 'Loss Function', 'optimizer', 'Momentum', 'Weight decay', 'num_workers', 'Pytorch version', 'Trigger type', 'Trigger Size', 'Trigger_location', 'Mapping', 'Normalization Type', 'Mapping Type', 'Dataset', 'Batch Size', 'trigger_fraction', 'test_clean_acc', 'test_trigerred_acc', 'epoch'])\n",
      "==> Building model..\n",
      "The Accuracies on clean samples:   99.2875\n",
      "The fooling rate:  97.3\n",
      "Mapping is :  [0. 7. 7. 7. 6. 4. 1. 9. 3. 3.] <class 'numpy.ndarray'>\n"
     ]
    },
    {
     "name": "stderr",
     "output_type": "stream",
     "text": [
      "/home/tyler/Desktop/ResearchProject/Load_Model.py:34: FutureWarning: You are using `torch.load` with `weights_only=False` (the current default value), which uses the default pickle module implicitly. It is possible to construct malicious pickle data which will execute arbitrary code during unpickling (See https://github.com/pytorch/pytorch/blob/main/SECURITY.md#untrusted-models for more details). In a future release, the default value for `weights_only` will be flipped to `True`. This limits the functions that could be executed during unpickling. Arbitrary objects will no longer be allowed to be loaded via this mode unless they are explicitly allowlisted by the user via `torch.serialization.add_safe_globals`. We recommend you start setting `weights_only=True` for any use case where you don't have full control of the loaded file. Please open an issue on GitHub for any issues related to this experimental feature.\n",
      "  checkpoint = torch.load(model_path)\n",
      "/home/tyler/Desktop/ResearchProject/Load_Model.py:19: FutureWarning: You are using `torch.load` with `weights_only=False` (the current default value), which uses the default pickle module implicitly. It is possible to construct malicious pickle data which will execute arbitrary code during unpickling (See https://github.com/pytorch/pytorch/blob/main/SECURITY.md#untrusted-models for more details). In a future release, the default value for `weights_only` will be flipped to `True`. This limits the functions that could be executed during unpickling. Arbitrary objects will no longer be allowed to be loaded via this mode unless they are explicitly allowlisted by the user via `torch.serialization.add_safe_globals`. We recommend you start setting `weights_only=True` for any use case where you don't have full control of the loaded file. Please open an issue on GitHub for any issues related to this experimental feature.\n",
      "  checkpoint = torch.load(model_path, map_location=\"cpu\")\n"
     ]
    },
    {
     "name": "stdout",
     "output_type": "stream",
     "text": [
      "[Mask] Epoch 1: Loss=2.2442, Benign Acc=0.1013\n",
      "[Mask] Epoch 2: Loss=2.1855, Benign Acc=0.1013\n",
      "[Mask] Epoch 3: Loss=1.9876, Benign Acc=0.1661\n",
      "[Mask] Epoch 4: Loss=1.3204, Benign Acc=0.7802\n",
      "[Mask] Epoch 5: Loss=0.3559, Benign Acc=0.9872\n",
      "[Mask] Epoch 6: Loss=0.0913, Benign Acc=0.9898\n",
      "[Mask] Epoch 7: Loss=0.0442, Benign Acc=0.9894\n",
      "[Mask] Epoch 8: Loss=0.0259, Benign Acc=0.9900\n",
      "[Mask] Epoch 9: Loss=0.0167, Benign Acc=0.9905\n",
      "[Mask] Epoch 10: Loss=0.0117, Benign Acc=0.9904\n",
      "[Mask] Epoch 11: Loss=0.0069, Benign Acc=0.9899\n",
      "[Mask] Epoch 12: Loss=0.0046, Benign Acc=0.9914\n",
      "[Mask] Epoch 13: Loss=0.0017, Benign Acc=0.9908\n",
      "[Mask] Epoch 14: Loss=0.0005, Benign Acc=0.9909\n",
      "[Mask] Epoch 15: Loss=-0.0011, Benign Acc=0.9910\n",
      "[Mask] Epoch 16: Loss=-0.0022, Benign Acc=0.9905\n",
      "[Mask] Epoch 17: Loss=-0.0034, Benign Acc=0.9916\n",
      "[Mask] Epoch 18: Loss=-0.0047, Benign Acc=0.9914\n",
      "[Mask] Epoch 19: Loss=-0.0052, Benign Acc=0.9919\n",
      "[Mask] Epoch 20: Loss=-0.0071, Benign Acc=0.9911\n"
     ]
    },
    {
     "name": "stderr",
     "output_type": "stream",
     "text": [
      "/home/tyler/Desktop/ResearchProject/Load_Model.py:371: UserWarning: Implicit dimension choice for log_softmax has been deprecated. Change the call to include dim=X as an argument.\n",
      "  return F.log_softmax(output)\n"
     ]
    },
    {
     "name": "stdout",
     "output_type": "stream",
     "text": [
      "[Mask] Epoch 1: Loss=2.0838, Benign Acc=0.1576\n",
      "[Mask] Epoch 2: Loss=1.8234, Benign Acc=0.6625\n",
      "[Mask] Epoch 3: Loss=1.1657, Benign Acc=0.9871\n",
      "[Mask] Epoch 4: Loss=0.3541, Benign Acc=0.9985\n",
      "[Mask] Epoch 5: Loss=0.1044, Benign Acc=0.9996\n",
      "[Mask] Epoch 6: Loss=0.0538, Benign Acc=0.9996\n",
      "[Mask] Epoch 7: Loss=0.0359, Benign Acc=0.9995\n",
      "[Mask] Epoch 8: Loss=0.0270, Benign Acc=0.9996\n",
      "[Mask] Epoch 9: Loss=0.0215, Benign Acc=0.9995\n",
      "[Mask] Epoch 10: Loss=0.0180, Benign Acc=0.9995\n",
      "[Mask] Epoch 11: Loss=0.0148, Benign Acc=0.9995\n",
      "[Mask] Epoch 12: Loss=0.0130, Benign Acc=0.9996\n",
      "[Mask] Epoch 13: Loss=0.0113, Benign Acc=0.9995\n",
      "[Mask] Epoch 14: Loss=0.0102, Benign Acc=0.9995\n",
      "[Mask] Epoch 15: Loss=0.0095, Benign Acc=0.9994\n",
      "[Mask] Epoch 16: Loss=0.0088, Benign Acc=0.9999\n",
      "[Mask] Epoch 17: Loss=0.0078, Benign Acc=0.9998\n",
      "[Mask] Epoch 18: Loss=0.0073, Benign Acc=0.9999\n",
      "[Mask] Epoch 19: Loss=0.0069, Benign Acc=0.9998\n",
      "[Mask] Epoch 20: Loss=0.0066, Benign Acc=0.9998\n",
      "Evaluating model: ./Odysseus-MNIST/Models/Model_775.pth\n",
      "Dataset directory: ./test_results/datasets/Odysseus-MNIST/Models/Model_775.pth_MNIST\n",
      "============================================================\n",
      "Dataset statistics:\n",
      "  Total images: 2000\n",
      "  Triggered images: 1000\n",
      "  Clean images: 1000\n"
     ]
    },
    {
     "name": "stderr",
     "output_type": "stream",
     "text": [
      "/home/tyler/Desktop/ResearchProject/Load_Model.py:371: UserWarning: Implicit dimension choice for log_softmax has been deprecated. Change the call to include dim=X as an argument.\n",
      "  return F.log_softmax(output)\n"
     ]
    },
    {
     "name": "stdout",
     "output_type": "stream",
     "text": [
      "Evaluating model: ./Odysseus-MNIST/Models/Model_775.pth\n",
      "Dataset directory: ./test_results/datasets/Odysseus-MNIST/Models/Model_775.pth_MNIST\n",
      "============================================================\n",
      "Dataset statistics:\n",
      "  Total images: 2000\n",
      "  Triggered images: 1000\n",
      "  Clean images: 1000\n"
     ]
    },
    {
     "name": "stderr",
     "output_type": "stream",
     "text": [
      "/home/tyler/Desktop/ResearchProject/Load_Model.py:371: UserWarning: Implicit dimension choice for log_softmax has been deprecated. Change the call to include dim=X as an argument.\n",
      "  return F.log_softmax(output)\n",
      "BTI-DBF (U): Models:  20%|████▊                   | 1/5 [01:21<05:24, 81.13s/it]"
     ]
    },
    {
     "name": "stdout",
     "output_type": "stream",
     "text": [
      "keys are : dict_keys(['net', 'Model Category', 'Architecture_Name', 'Learning_Rate', 'Loss Function', 'optimizer', 'Momentum', 'Weight decay', 'num_workers', 'Pytorch version', 'Trigger type', 'Trigger Size', 'Trigger_location', 'Mapping', 'Normalization Type', 'Mapping Type', 'Dataset', 'Batch Size', 'trigger_fraction', 'test_clean_acc', 'test_trigerred_acc', 'epoch'])\n",
      "==> Building model..\n",
      "The Accuracies on clean samples:   99.5625\n",
      "The fooling rate:  98.75\n",
      "Mapping is :  [1. 7. 7. 7. 8. 9. 6. 0. 4. 4.] <class 'numpy.ndarray'>\n"
     ]
    },
    {
     "name": "stderr",
     "output_type": "stream",
     "text": [
      "/home/tyler/Desktop/ResearchProject/Load_Model.py:34: FutureWarning: You are using `torch.load` with `weights_only=False` (the current default value), which uses the default pickle module implicitly. It is possible to construct malicious pickle data which will execute arbitrary code during unpickling (See https://github.com/pytorch/pytorch/blob/main/SECURITY.md#untrusted-models for more details). In a future release, the default value for `weights_only` will be flipped to `True`. This limits the functions that could be executed during unpickling. Arbitrary objects will no longer be allowed to be loaded via this mode unless they are explicitly allowlisted by the user via `torch.serialization.add_safe_globals`. We recommend you start setting `weights_only=True` for any use case where you don't have full control of the loaded file. Please open an issue on GitHub for any issues related to this experimental feature.\n",
      "  checkpoint = torch.load(model_path)\n",
      "/home/tyler/Desktop/ResearchProject/Load_Model.py:19: FutureWarning: You are using `torch.load` with `weights_only=False` (the current default value), which uses the default pickle module implicitly. It is possible to construct malicious pickle data which will execute arbitrary code during unpickling (See https://github.com/pytorch/pytorch/blob/main/SECURITY.md#untrusted-models for more details). In a future release, the default value for `weights_only` will be flipped to `True`. This limits the functions that could be executed during unpickling. Arbitrary objects will no longer be allowed to be loaded via this mode unless they are explicitly allowlisted by the user via `torch.serialization.add_safe_globals`. We recommend you start setting `weights_only=True` for any use case where you don't have full control of the loaded file. Please open an issue on GitHub for any issues related to this experimental feature.\n",
      "  checkpoint = torch.load(model_path, map_location=\"cpu\")\n"
     ]
    },
    {
     "name": "stdout",
     "output_type": "stream",
     "text": [
      "[Mask] Epoch 1: Loss=2.2699, Benign Acc=0.1013\n",
      "[Mask] Epoch 2: Loss=2.2458, Benign Acc=0.1108\n",
      "[Mask] Epoch 3: Loss=2.1633, Benign Acc=0.2381\n",
      "[Mask] Epoch 4: Loss=1.8232, Benign Acc=0.7211\n",
      "[Mask] Epoch 5: Loss=0.8106, Benign Acc=0.9891\n",
      "[Mask] Epoch 6: Loss=0.1604, Benign Acc=0.9942\n",
      "[Mask] Epoch 7: Loss=0.0646, Benign Acc=0.9944\n",
      "[Mask] Epoch 8: Loss=0.0400, Benign Acc=0.9948\n",
      "[Mask] Epoch 9: Loss=0.0281, Benign Acc=0.9941\n",
      "[Mask] Epoch 10: Loss=0.0225, Benign Acc=0.9952\n",
      "[Mask] Epoch 11: Loss=0.0170, Benign Acc=0.9945\n",
      "[Mask] Epoch 12: Loss=0.0146, Benign Acc=0.9950\n",
      "[Mask] Epoch 13: Loss=0.0114, Benign Acc=0.9948\n",
      "[Mask] Epoch 14: Loss=0.0100, Benign Acc=0.9950\n",
      "[Mask] Epoch 15: Loss=0.0085, Benign Acc=0.9952\n",
      "[Mask] Epoch 16: Loss=0.0072, Benign Acc=0.9958\n",
      "[Mask] Epoch 17: Loss=0.0065, Benign Acc=0.9955\n",
      "[Mask] Epoch 18: Loss=0.0046, Benign Acc=0.9958\n",
      "[Mask] Epoch 19: Loss=0.0044, Benign Acc=0.9958\n",
      "[Mask] Epoch 20: Loss=0.0035, Benign Acc=0.9964\n"
     ]
    },
    {
     "name": "stderr",
     "output_type": "stream",
     "text": [
      "/home/tyler/Desktop/ResearchProject/Load_Model.py:421: UserWarning: Implicit dimension choice for log_softmax has been deprecated. Change the call to include dim=X as an argument.\n",
      "  return F.log_softmax(output)\n"
     ]
    },
    {
     "name": "stdout",
     "output_type": "stream",
     "text": [
      "[Mask] Epoch 1: Loss=2.0589, Benign Acc=0.3874\n",
      "[Mask] Epoch 2: Loss=1.7892, Benign Acc=0.9351\n",
      "[Mask] Epoch 3: Loss=1.1339, Benign Acc=0.9950\n",
      "[Mask] Epoch 4: Loss=0.3608, Benign Acc=0.9978\n",
      "[Mask] Epoch 5: Loss=0.1148, Benign Acc=0.9984\n",
      "[Mask] Epoch 6: Loss=0.0621, Benign Acc=0.9988\n",
      "[Mask] Epoch 7: Loss=0.0425, Benign Acc=0.9984\n",
      "[Mask] Epoch 8: Loss=0.0318, Benign Acc=0.9991\n",
      "[Mask] Epoch 9: Loss=0.0261, Benign Acc=0.9988\n",
      "[Mask] Epoch 10: Loss=0.0210, Benign Acc=0.9992\n",
      "[Mask] Epoch 11: Loss=0.0183, Benign Acc=0.9994\n",
      "[Mask] Epoch 12: Loss=0.0158, Benign Acc=0.9995\n",
      "[Mask] Epoch 13: Loss=0.0140, Benign Acc=0.9995\n",
      "[Mask] Epoch 14: Loss=0.0127, Benign Acc=0.9995\n",
      "[Mask] Epoch 15: Loss=0.0113, Benign Acc=0.9995\n",
      "[Mask] Epoch 16: Loss=0.0106, Benign Acc=0.9999\n",
      "[Mask] Epoch 17: Loss=0.0095, Benign Acc=0.9996\n",
      "[Mask] Epoch 18: Loss=0.0086, Benign Acc=0.9995\n",
      "[Mask] Epoch 19: Loss=0.0079, Benign Acc=0.9995\n",
      "[Mask] Epoch 20: Loss=0.0072, Benign Acc=1.0000\n",
      "Evaluating model: ./Odysseus-MNIST/Models/Model_828.pth\n",
      "Dataset directory: ./test_results/datasets/Odysseus-MNIST/Models/Model_828.pth_MNIST\n",
      "============================================================\n",
      "Dataset statistics:\n",
      "  Total images: 2000\n",
      "  Triggered images: 1000\n",
      "  Clean images: 1000\n"
     ]
    },
    {
     "name": "stderr",
     "output_type": "stream",
     "text": [
      "/home/tyler/Desktop/ResearchProject/Load_Model.py:421: UserWarning: Implicit dimension choice for log_softmax has been deprecated. Change the call to include dim=X as an argument.\n",
      "  return F.log_softmax(output)\n"
     ]
    },
    {
     "name": "stdout",
     "output_type": "stream",
     "text": [
      "Evaluating model: ./Odysseus-MNIST/Models/Model_828.pth\n",
      "Dataset directory: ./test_results/datasets/Odysseus-MNIST/Models/Model_828.pth_MNIST\n",
      "============================================================\n",
      "Dataset statistics:\n",
      "  Total images: 2000\n",
      "  Triggered images: 1000\n",
      "  Clean images: 1000\n"
     ]
    },
    {
     "name": "stderr",
     "output_type": "stream",
     "text": [
      "/home/tyler/Desktop/ResearchProject/Load_Model.py:421: UserWarning: Implicit dimension choice for log_softmax has been deprecated. Change the call to include dim=X as an argument.\n",
      "  return F.log_softmax(output)\n",
      "BTI-DBF (U): Models:  40%|█████████▌              | 2/5 [02:49<04:16, 85.42s/it]"
     ]
    },
    {
     "name": "stdout",
     "output_type": "stream",
     "text": [
      "keys are : dict_keys(['net', 'Model Category', 'Architecture_Name', 'Learning_Rate', 'Loss Function', 'optimizer', 'Momentum', 'Weight decay', 'num_workers', 'Pytorch version', 'Trigger type', 'Trigger Size', 'Trigger_location', 'Mapping', 'Normalization Type', 'Mapping Type', 'Dataset', 'Batch Size', 'trigger_fraction', 'test_clean_acc', 'test_trigerred_acc', 'epoch'])\n",
      "==> Building model..\n",
      "The Accuracies on clean samples:   99.5375\n",
      "The fooling rate:  98.2\n",
      "Mapping is :  [5. 7. 7. 7. 3. 0. 2. 8. 1. 1.] <class 'numpy.ndarray'>\n"
     ]
    },
    {
     "name": "stderr",
     "output_type": "stream",
     "text": [
      "/home/tyler/Desktop/ResearchProject/Load_Model.py:34: FutureWarning: You are using `torch.load` with `weights_only=False` (the current default value), which uses the default pickle module implicitly. It is possible to construct malicious pickle data which will execute arbitrary code during unpickling (See https://github.com/pytorch/pytorch/blob/main/SECURITY.md#untrusted-models for more details). In a future release, the default value for `weights_only` will be flipped to `True`. This limits the functions that could be executed during unpickling. Arbitrary objects will no longer be allowed to be loaded via this mode unless they are explicitly allowlisted by the user via `torch.serialization.add_safe_globals`. We recommend you start setting `weights_only=True` for any use case where you don't have full control of the loaded file. Please open an issue on GitHub for any issues related to this experimental feature.\n",
      "  checkpoint = torch.load(model_path)\n",
      "/home/tyler/Desktop/ResearchProject/Load_Model.py:19: FutureWarning: You are using `torch.load` with `weights_only=False` (the current default value), which uses the default pickle module implicitly. It is possible to construct malicious pickle data which will execute arbitrary code during unpickling (See https://github.com/pytorch/pytorch/blob/main/SECURITY.md#untrusted-models for more details). In a future release, the default value for `weights_only` will be flipped to `True`. This limits the functions that could be executed during unpickling. Arbitrary objects will no longer be allowed to be loaded via this mode unless they are explicitly allowlisted by the user via `torch.serialization.add_safe_globals`. We recommend you start setting `weights_only=True` for any use case where you don't have full control of the loaded file. Please open an issue on GitHub for any issues related to this experimental feature.\n",
      "  checkpoint = torch.load(model_path, map_location=\"cpu\")\n"
     ]
    },
    {
     "name": "stdout",
     "output_type": "stream",
     "text": [
      "[Mask] Epoch 1: Loss=2.2620, Benign Acc=0.1013\n",
      "[Mask] Epoch 2: Loss=2.2362, Benign Acc=0.1013\n",
      "[Mask] Epoch 3: Loss=2.1492, Benign Acc=0.1425\n",
      "[Mask] Epoch 4: Loss=1.7935, Benign Acc=0.6200\n",
      "[Mask] Epoch 5: Loss=0.7681, Benign Acc=0.9870\n",
      "[Mask] Epoch 6: Loss=0.1393, Benign Acc=0.9925\n",
      "[Mask] Epoch 7: Loss=0.0544, Benign Acc=0.9938\n",
      "[Mask] Epoch 8: Loss=0.0325, Benign Acc=0.9935\n",
      "[Mask] Epoch 9: Loss=0.0195, Benign Acc=0.9941\n",
      "[Mask] Epoch 10: Loss=0.0127, Benign Acc=0.9942\n",
      "[Mask] Epoch 11: Loss=0.0073, Benign Acc=0.9944\n",
      "[Mask] Epoch 12: Loss=0.0044, Benign Acc=0.9946\n",
      "[Mask] Epoch 13: Loss=-0.0004, Benign Acc=0.9949\n",
      "[Mask] Epoch 14: Loss=-0.0023, Benign Acc=0.9949\n",
      "[Mask] Epoch 15: Loss=-0.0048, Benign Acc=0.9951\n",
      "[Mask] Epoch 16: Loss=-0.0063, Benign Acc=0.9954\n",
      "[Mask] Epoch 17: Loss=-0.0080, Benign Acc=0.9950\n",
      "[Mask] Epoch 18: Loss=-0.0099, Benign Acc=0.9949\n",
      "[Mask] Epoch 19: Loss=-0.0112, Benign Acc=0.9946\n",
      "[Mask] Epoch 20: Loss=-0.0127, Benign Acc=0.9949\n"
     ]
    },
    {
     "name": "stderr",
     "output_type": "stream",
     "text": [
      "/home/tyler/Desktop/ResearchProject/Load_Model.py:421: UserWarning: Implicit dimension choice for log_softmax has been deprecated. Change the call to include dim=X as an argument.\n",
      "  return F.log_softmax(output)\n"
     ]
    },
    {
     "name": "stdout",
     "output_type": "stream",
     "text": [
      "[Mask] Epoch 1: Loss=2.0647, Benign Acc=0.5251\n",
      "[Mask] Epoch 2: Loss=1.8036, Benign Acc=0.9500\n",
      "[Mask] Epoch 3: Loss=1.1560, Benign Acc=0.9978\n",
      "[Mask] Epoch 4: Loss=0.3615, Benign Acc=0.9991\n",
      "[Mask] Epoch 5: Loss=0.1084, Benign Acc=0.9988\n",
      "[Mask] Epoch 6: Loss=0.0564, Benign Acc=0.9994\n",
      "[Mask] Epoch 7: Loss=0.0381, Benign Acc=0.9991\n",
      "[Mask] Epoch 8: Loss=0.0285, Benign Acc=0.9994\n",
      "[Mask] Epoch 9: Loss=0.0224, Benign Acc=0.9991\n",
      "[Mask] Epoch 10: Loss=0.0183, Benign Acc=0.9992\n",
      "[Mask] Epoch 11: Loss=0.0156, Benign Acc=0.9994\n",
      "[Mask] Epoch 12: Loss=0.0132, Benign Acc=0.9991\n",
      "[Mask] Epoch 13: Loss=0.0113, Benign Acc=0.9995\n",
      "[Mask] Epoch 14: Loss=0.0102, Benign Acc=0.9998\n",
      "[Mask] Epoch 15: Loss=0.0090, Benign Acc=0.9996\n",
      "[Mask] Epoch 16: Loss=0.0083, Benign Acc=0.9996\n",
      "[Mask] Epoch 17: Loss=0.0075, Benign Acc=0.9998\n",
      "[Mask] Epoch 18: Loss=0.0067, Benign Acc=0.9995\n",
      "[Mask] Epoch 19: Loss=0.0064, Benign Acc=0.9994\n",
      "[Mask] Epoch 20: Loss=0.0056, Benign Acc=0.9996\n",
      "Evaluating model: ./Odysseus-MNIST/Models/Model_834.pth\n",
      "Dataset directory: ./test_results/datasets/Odysseus-MNIST/Models/Model_834.pth_MNIST\n",
      "============================================================\n",
      "Dataset statistics:\n",
      "  Total images: 2000\n",
      "  Triggered images: 1000\n",
      "  Clean images: 1000\n"
     ]
    },
    {
     "name": "stderr",
     "output_type": "stream",
     "text": [
      "/home/tyler/Desktop/ResearchProject/Load_Model.py:421: UserWarning: Implicit dimension choice for log_softmax has been deprecated. Change the call to include dim=X as an argument.\n",
      "  return F.log_softmax(output)\n"
     ]
    },
    {
     "name": "stdout",
     "output_type": "stream",
     "text": [
      "Evaluating model: ./Odysseus-MNIST/Models/Model_834.pth\n",
      "Dataset directory: ./test_results/datasets/Odysseus-MNIST/Models/Model_834.pth_MNIST\n",
      "============================================================\n",
      "Dataset statistics:\n",
      "  Total images: 2000\n",
      "  Triggered images: 1000\n",
      "  Clean images: 1000\n"
     ]
    },
    {
     "name": "stderr",
     "output_type": "stream",
     "text": [
      "/home/tyler/Desktop/ResearchProject/Load_Model.py:421: UserWarning: Implicit dimension choice for log_softmax has been deprecated. Change the call to include dim=X as an argument.\n",
      "  return F.log_softmax(output)\n",
      "BTI-DBF (U): Models:  60%|██████████████▍         | 3/5 [04:17<02:53, 86.72s/it]"
     ]
    },
    {
     "name": "stdout",
     "output_type": "stream",
     "text": [
      "keys are : dict_keys(['net', 'Model Category', 'Architecture_Name', 'Learning_Rate', 'Loss Function', 'optimizer', 'Momentum', 'Weight decay', 'num_workers', 'Pytorch version', 'Trigger type', 'Trigger Size', 'Trigger_location', 'Mapping', 'Normalization Type', 'Mapping Type', 'Dataset', 'Batch Size', 'trigger_fraction', 'test_clean_acc', 'test_trigerred_acc', 'epoch'])\n",
      "==> Building model..\n",
      "The Accuracies on clean samples:   99.325\n",
      "The fooling rate:  97.35\n",
      "Mapping is :  [5. 0. 0. 0. 1. 8. 9. 4. 2. 2.] <class 'numpy.ndarray'>\n"
     ]
    },
    {
     "name": "stderr",
     "output_type": "stream",
     "text": [
      "/home/tyler/Desktop/ResearchProject/Load_Model.py:34: FutureWarning: You are using `torch.load` with `weights_only=False` (the current default value), which uses the default pickle module implicitly. It is possible to construct malicious pickle data which will execute arbitrary code during unpickling (See https://github.com/pytorch/pytorch/blob/main/SECURITY.md#untrusted-models for more details). In a future release, the default value for `weights_only` will be flipped to `True`. This limits the functions that could be executed during unpickling. Arbitrary objects will no longer be allowed to be loaded via this mode unless they are explicitly allowlisted by the user via `torch.serialization.add_safe_globals`. We recommend you start setting `weights_only=True` for any use case where you don't have full control of the loaded file. Please open an issue on GitHub for any issues related to this experimental feature.\n",
      "  checkpoint = torch.load(model_path)\n",
      "/home/tyler/Desktop/ResearchProject/Load_Model.py:19: FutureWarning: You are using `torch.load` with `weights_only=False` (the current default value), which uses the default pickle module implicitly. It is possible to construct malicious pickle data which will execute arbitrary code during unpickling (See https://github.com/pytorch/pytorch/blob/main/SECURITY.md#untrusted-models for more details). In a future release, the default value for `weights_only` will be flipped to `True`. This limits the functions that could be executed during unpickling. Arbitrary objects will no longer be allowed to be loaded via this mode unless they are explicitly allowlisted by the user via `torch.serialization.add_safe_globals`. We recommend you start setting `weights_only=True` for any use case where you don't have full control of the loaded file. Please open an issue on GitHub for any issues related to this experimental feature.\n",
      "  checkpoint = torch.load(model_path, map_location=\"cpu\")\n"
     ]
    },
    {
     "name": "stdout",
     "output_type": "stream",
     "text": [
      "[Mask] Epoch 1: Loss=2.2380, Benign Acc=0.2094\n",
      "[Mask] Epoch 2: Loss=2.1722, Benign Acc=0.2850\n",
      "[Mask] Epoch 3: Loss=1.9568, Benign Acc=0.4708\n",
      "[Mask] Epoch 4: Loss=1.2455, Benign Acc=0.8855\n",
      "[Mask] Epoch 5: Loss=0.3285, Benign Acc=0.9872\n",
      "[Mask] Epoch 6: Loss=0.0885, Benign Acc=0.9891\n",
      "[Mask] Epoch 7: Loss=0.0452, Benign Acc=0.9898\n",
      "[Mask] Epoch 8: Loss=0.0275, Benign Acc=0.9906\n",
      "[Mask] Epoch 9: Loss=0.0186, Benign Acc=0.9908\n",
      "[Mask] Epoch 10: Loss=0.0144, Benign Acc=0.9910\n",
      "[Mask] Epoch 11: Loss=0.0090, Benign Acc=0.9915\n",
      "[Mask] Epoch 12: Loss=0.0063, Benign Acc=0.9904\n",
      "[Mask] Epoch 13: Loss=0.0041, Benign Acc=0.9911\n",
      "[Mask] Epoch 14: Loss=0.0013, Benign Acc=0.9919\n",
      "[Mask] Epoch 15: Loss=0.0011, Benign Acc=0.9921\n",
      "[Mask] Epoch 16: Loss=-0.0017, Benign Acc=0.9919\n",
      "[Mask] Epoch 17: Loss=-0.0029, Benign Acc=0.9924\n",
      "[Mask] Epoch 18: Loss=-0.0033, Benign Acc=0.9931\n",
      "[Mask] Epoch 19: Loss=-0.0048, Benign Acc=0.9924\n",
      "[Mask] Epoch 20: Loss=-0.0052, Benign Acc=0.9921\n"
     ]
    },
    {
     "name": "stderr",
     "output_type": "stream",
     "text": [
      "/home/tyler/Desktop/ResearchProject/Load_Model.py:371: UserWarning: Implicit dimension choice for log_softmax has been deprecated. Change the call to include dim=X as an argument.\n",
      "  return F.log_softmax(output)\n"
     ]
    },
    {
     "name": "stdout",
     "output_type": "stream",
     "text": [
      "[Mask] Epoch 1: Loss=2.0962, Benign Acc=0.3870\n",
      "[Mask] Epoch 2: Loss=1.8451, Benign Acc=0.7464\n",
      "[Mask] Epoch 3: Loss=1.2049, Benign Acc=0.9855\n",
      "[Mask] Epoch 4: Loss=0.3777, Benign Acc=0.9992\n",
      "[Mask] Epoch 5: Loss=0.1036, Benign Acc=0.9996\n",
      "[Mask] Epoch 6: Loss=0.0515, Benign Acc=0.9992\n",
      "[Mask] Epoch 7: Loss=0.0336, Benign Acc=0.9995\n",
      "[Mask] Epoch 8: Loss=0.0253, Benign Acc=0.9992\n",
      "[Mask] Epoch 9: Loss=0.0193, Benign Acc=0.9995\n",
      "[Mask] Epoch 10: Loss=0.0163, Benign Acc=0.9995\n",
      "[Mask] Epoch 11: Loss=0.0139, Benign Acc=0.9995\n",
      "[Mask] Epoch 12: Loss=0.0122, Benign Acc=0.9996\n",
      "[Mask] Epoch 13: Loss=0.0107, Benign Acc=0.9996\n",
      "[Mask] Epoch 14: Loss=0.0098, Benign Acc=0.9998\n",
      "[Mask] Epoch 15: Loss=0.0086, Benign Acc=0.9998\n",
      "[Mask] Epoch 16: Loss=0.0074, Benign Acc=0.9996\n",
      "[Mask] Epoch 17: Loss=0.0068, Benign Acc=0.9995\n",
      "[Mask] Epoch 18: Loss=0.0066, Benign Acc=0.9996\n",
      "[Mask] Epoch 19: Loss=0.0064, Benign Acc=0.9998\n",
      "[Mask] Epoch 20: Loss=0.0055, Benign Acc=0.9995\n",
      "Evaluating model: ./Odysseus-MNIST/Models/Model_763.pth\n",
      "Dataset directory: ./test_results/datasets/Odysseus-MNIST/Models/Model_763.pth_MNIST\n",
      "============================================================\n",
      "Dataset statistics:\n",
      "  Total images: 2000\n",
      "  Triggered images: 1000\n",
      "  Clean images: 1000\n"
     ]
    },
    {
     "name": "stderr",
     "output_type": "stream",
     "text": [
      "/home/tyler/Desktop/ResearchProject/Load_Model.py:371: UserWarning: Implicit dimension choice for log_softmax has been deprecated. Change the call to include dim=X as an argument.\n",
      "  return F.log_softmax(output)\n"
     ]
    },
    {
     "name": "stdout",
     "output_type": "stream",
     "text": [
      "Evaluating model: ./Odysseus-MNIST/Models/Model_763.pth\n",
      "Dataset directory: ./test_results/datasets/Odysseus-MNIST/Models/Model_763.pth_MNIST\n",
      "============================================================\n",
      "Dataset statistics:\n",
      "  Total images: 2000\n",
      "  Triggered images: 1000\n",
      "  Clean images: 1000\n"
     ]
    },
    {
     "name": "stderr",
     "output_type": "stream",
     "text": [
      "/home/tyler/Desktop/ResearchProject/Load_Model.py:371: UserWarning: Implicit dimension choice for log_softmax has been deprecated. Change the call to include dim=X as an argument.\n",
      "  return F.log_softmax(output)\n",
      "BTI-DBF (U): Models:  80%|███████████████████▏    | 4/5 [05:35<01:23, 83.31s/it]"
     ]
    },
    {
     "name": "stdout",
     "output_type": "stream",
     "text": [
      "keys are : dict_keys(['net', 'Model Category', 'Architecture_Name', 'Learning_Rate', 'Loss Function', 'optimizer', 'Momentum', 'Weight decay', 'num_workers', 'Pytorch version', 'Trigger type', 'Trigger Size', 'Trigger_location', 'Mapping', 'Normalization Type', 'Mapping Type', 'Dataset', 'Batch Size', 'trigger_fraction', 'test_clean_acc', 'test_trigerred_acc', 'epoch'])\n",
      "==> Building model..\n",
      "The Accuracies on clean samples:   99.3875\n",
      "The fooling rate:  98.85\n",
      "Mapping is :  [3. 2. 2. 2. 5. 6. 9. 8. 4. 4.] <class 'numpy.ndarray'>\n"
     ]
    },
    {
     "name": "stderr",
     "output_type": "stream",
     "text": [
      "/home/tyler/Desktop/ResearchProject/Load_Model.py:34: FutureWarning: You are using `torch.load` with `weights_only=False` (the current default value), which uses the default pickle module implicitly. It is possible to construct malicious pickle data which will execute arbitrary code during unpickling (See https://github.com/pytorch/pytorch/blob/main/SECURITY.md#untrusted-models for more details). In a future release, the default value for `weights_only` will be flipped to `True`. This limits the functions that could be executed during unpickling. Arbitrary objects will no longer be allowed to be loaded via this mode unless they are explicitly allowlisted by the user via `torch.serialization.add_safe_globals`. We recommend you start setting `weights_only=True` for any use case where you don't have full control of the loaded file. Please open an issue on GitHub for any issues related to this experimental feature.\n",
      "  checkpoint = torch.load(model_path)\n",
      "/home/tyler/Desktop/ResearchProject/Load_Model.py:19: FutureWarning: You are using `torch.load` with `weights_only=False` (the current default value), which uses the default pickle module implicitly. It is possible to construct malicious pickle data which will execute arbitrary code during unpickling (See https://github.com/pytorch/pytorch/blob/main/SECURITY.md#untrusted-models for more details). In a future release, the default value for `weights_only` will be flipped to `True`. This limits the functions that could be executed during unpickling. Arbitrary objects will no longer be allowed to be loaded via this mode unless they are explicitly allowlisted by the user via `torch.serialization.add_safe_globals`. We recommend you start setting `weights_only=True` for any use case where you don't have full control of the loaded file. Please open an issue on GitHub for any issues related to this experimental feature.\n",
      "  checkpoint = torch.load(model_path, map_location=\"cpu\")\n"
     ]
    },
    {
     "name": "stdout",
     "output_type": "stream",
     "text": [
      "[Mask] Epoch 1: Loss=2.2955, Benign Acc=0.1000\n",
      "[Mask] Epoch 2: Loss=2.2920, Benign Acc=0.1000\n",
      "[Mask] Epoch 3: Loss=2.2751, Benign Acc=0.1000\n",
      "[Mask] Epoch 4: Loss=2.2102, Benign Acc=0.1506\n",
      "[Mask] Epoch 5: Loss=1.8755, Benign Acc=0.6390\n",
      "[Mask] Epoch 6: Loss=0.7720, Benign Acc=0.9842\n",
      "[Mask] Epoch 7: Loss=0.1366, Benign Acc=0.9909\n",
      "[Mask] Epoch 8: Loss=0.0597, Benign Acc=0.9912\n",
      "[Mask] Epoch 9: Loss=0.0391, Benign Acc=0.9916\n",
      "[Mask] Epoch 10: Loss=0.0271, Benign Acc=0.9924\n",
      "[Mask] Epoch 11: Loss=0.0193, Benign Acc=0.9931\n",
      "[Mask] Epoch 12: Loss=0.0133, Benign Acc=0.9931\n",
      "[Mask] Epoch 13: Loss=0.0108, Benign Acc=0.9934\n",
      "[Mask] Epoch 14: Loss=0.0073, Benign Acc=0.9941\n",
      "[Mask] Epoch 15: Loss=0.0035, Benign Acc=0.9930\n",
      "[Mask] Epoch 16: Loss=0.0028, Benign Acc=0.9942\n",
      "[Mask] Epoch 17: Loss=-0.0016, Benign Acc=0.9946\n",
      "[Mask] Epoch 18: Loss=-0.0038, Benign Acc=0.9944\n",
      "[Mask] Epoch 19: Loss=-0.0037, Benign Acc=0.9942\n",
      "[Mask] Epoch 20: Loss=-0.0064, Benign Acc=0.9938\n"
     ]
    },
    {
     "name": "stderr",
     "output_type": "stream",
     "text": [
      "/home/tyler/Desktop/ResearchProject/Load_Model.py:322: UserWarning: Implicit dimension choice for log_softmax has been deprecated. Change the call to include dim=X as an argument.\n",
      "  return F.log_softmax(output)\n"
     ]
    },
    {
     "name": "stdout",
     "output_type": "stream",
     "text": [
      "[Mask] Epoch 1: Loss=2.3000, Benign Acc=0.1207\n",
      "[Mask] Epoch 2: Loss=2.2820, Benign Acc=0.1505\n",
      "[Mask] Epoch 3: Loss=2.2240, Benign Acc=0.2025\n",
      "[Mask] Epoch 4: Loss=1.9774, Benign Acc=0.6693\n",
      "[Mask] Epoch 5: Loss=1.0625, Benign Acc=0.9966\n",
      "[Mask] Epoch 6: Loss=0.1868, Benign Acc=0.9989\n",
      "[Mask] Epoch 7: Loss=0.0597, Benign Acc=0.9989\n",
      "[Mask] Epoch 8: Loss=0.0358, Benign Acc=0.9992\n",
      "[Mask] Epoch 9: Loss=0.0259, Benign Acc=0.9991\n",
      "[Mask] Epoch 10: Loss=0.0194, Benign Acc=0.9998\n",
      "[Mask] Epoch 11: Loss=0.0158, Benign Acc=0.9996\n",
      "[Mask] Epoch 12: Loss=0.0132, Benign Acc=0.9998\n",
      "[Mask] Epoch 13: Loss=0.0108, Benign Acc=0.9995\n",
      "[Mask] Epoch 14: Loss=0.0092, Benign Acc=0.9999\n",
      "[Mask] Epoch 15: Loss=0.0080, Benign Acc=0.9998\n",
      "[Mask] Epoch 16: Loss=0.0073, Benign Acc=0.9998\n",
      "[Mask] Epoch 17: Loss=0.0063, Benign Acc=1.0000\n",
      "[Mask] Epoch 18: Loss=0.0054, Benign Acc=0.9999\n",
      "[Mask] Epoch 19: Loss=0.0047, Benign Acc=0.9999\n",
      "[Mask] Epoch 20: Loss=0.0041, Benign Acc=0.9996\n",
      "Evaluating model: ./Odysseus-MNIST/Models/Model_762.pth\n",
      "Dataset directory: ./test_results/datasets/Odysseus-MNIST/Models/Model_762.pth_MNIST\n",
      "============================================================\n",
      "Dataset statistics:\n",
      "  Total images: 2000\n",
      "  Triggered images: 1000\n",
      "  Clean images: 1000\n"
     ]
    },
    {
     "name": "stderr",
     "output_type": "stream",
     "text": [
      "/home/tyler/Desktop/ResearchProject/Load_Model.py:322: UserWarning: Implicit dimension choice for log_softmax has been deprecated. Change the call to include dim=X as an argument.\n",
      "  return F.log_softmax(output)\n"
     ]
    },
    {
     "name": "stdout",
     "output_type": "stream",
     "text": [
      "Evaluating model: ./Odysseus-MNIST/Models/Model_762.pth\n",
      "Dataset directory: ./test_results/datasets/Odysseus-MNIST/Models/Model_762.pth_MNIST\n",
      "============================================================\n",
      "Dataset statistics:\n",
      "  Total images: 2000\n",
      "  Triggered images: 1000\n",
      "  Clean images: 1000\n"
     ]
    },
    {
     "name": "stderr",
     "output_type": "stream",
     "text": [
      "/home/tyler/Desktop/ResearchProject/Load_Model.py:322: UserWarning: Implicit dimension choice for log_softmax has been deprecated. Change the call to include dim=X as an argument.\n",
      "  return F.log_softmax(output)\n",
      "BTI-DBF (U): Models: 100%|████████████████████████| 5/5 [06:52<00:00, 82.53s/it]"
     ]
    },
    {
     "name": "stdout",
     "output_type": "stream",
     "text": [
      "✅ BTI-DBF (U) results saved to MNIST_BTI_DBF_U_results.csv\n"
     ]
    },
    {
     "name": "stderr",
     "output_type": "stream",
     "text": [
      "\n"
     ]
    }
   ],
   "source": [
    "device = 'cuda' if torch.cuda.is_available() else 'cpu'\n",
    "print(f\"Using device: {device}\")\n",
    "\n",
    "# Prepare data if not already present\n",
    "print(\"Preparing MNIST dataset...\")\n",
    "prepare_mnist_data()\n",
    "\n",
    "# Transforms (tensor only for the DataLoader; the BTI code handles its own normalize)\n",
    "transform_test = transforms.ToTensor()\n",
    "\n",
    "# U-Net config for MNIST (1 channel)\n",
    "unet_factory = partial(UNet, n_channels=1, num_classes=1, base_filter_num=32, num_blocks=2)\n",
    "\n",
    "# Create test dataset / loader\n",
    "test_dataset = SimpleMNISTDataset(\n",
    "    path_to_data='./MNIST_Data/clean',\n",
    "    csv_filename='clean.csv',\n",
    "    data_transform=transform_test\n",
    ")\n",
    "dataloader = torch.utils.data.DataLoader(test_dataset, batch_size=128, shuffle=True, num_workers=2)\n",
    "print(f\"Test dataset size: {len(test_dataset)}\")\n",
    "\n",
    "# Variants\n",
    "variants = [\n",
    "    {\n",
    "        \"name\": \"paper-branch-1back\",\n",
    "        \"train_fn\": \"branch\",\n",
    "        \"unet_loss\": loss_bti_dbf_paper,\n",
    "        \"tau\": 0.15,\n",
    "        \"epochs\": 30,\n",
    "        \"lr\": 0.01,\n",
    "        \"p\": 2,\n",
    "        \"visualize\": True,\n",
    "        \"split\": \"final\",\n",
    "        \"mask_granularity\": \"vector\",\n",
    "        \"delta\": False\n",
    "    },\n",
    "]\n",
    "\n",
    "# Run BTI-DBF (U) with evaluation.\n",
    "# Triggered datasets live under the usual root:\n",
    "#   ./test_results/datasets/Odysseus-MNIST/Models/{model_file}_MNIST\n",
    "\n",
    "BTI_DBF_U(\n",
    "    device=device,\n",
    "    experiment_name='BTIDBFU-Standard',\n",
    "    num_models=5,\n",
    "    model_list='./test_results/MNIST_Models_20250817_074555.csv',\n",
    "    model_dir='./Odysseus-MNIST/Models',\n",
    "    model_type='MNIST',\n",
    "    unet_factory=unet_factory,\n",
    "    dataloader=dataloader,\n",
    "    variants=variants,\n",
    "    mask_epochs=20,\n",
    "    triggered_dataset_root=\"./test_results/datasets\",\n",
    "    unlearn_epochs=20,\n",
    "    unlearn_lr=1e-3,\n",
    "    feature_loss_weight=1.0,\n",
    "    alt_rounds=5,\n",
    ")\n",
    "\n",
    "BTI_DBF_U(\n",
    "    device=device,\n",
    "    experiment_name='BTIDBFU-Fast',\n",
    "    num_models=5,\n",
    "    model_list='./test_results/MNIST_Models_20250817_074555.csv',\n",
    "    model_dir='./Odysseus-MNIST/Models',\n",
    "    model_type='MNIST',\n",
    "    unet_factory=unet_factory,\n",
    "    dataloader=dataloader,\n",
    "    variants=variants,\n",
    "    mask_epochs=20,\n",
    "    triggered_dataset_root=\"./test_results/datasets\",\n",
    "    unlearn_epochs=8,\n",
    "    unlearn_lr=1e-3,\n",
    "    feature_loss_weight=1.0,\n",
    "    alt_rounds=2,\n",
    ")"
   ]
  }
 ],
 "metadata": {
  "kernelspec": {
   "display_name": "Python (ResearchProject)",
   "language": "python",
   "name": "researchproject"
  },
  "language_info": {
   "codemirror_mode": {
    "name": "ipython",
    "version": 3
   },
   "file_extension": ".py",
   "mimetype": "text/x-python",
   "name": "python",
   "nbconvert_exporter": "python",
   "pygments_lexer": "ipython3",
   "version": "3.11.8"
  }
 },
 "nbformat": 4,
 "nbformat_minor": 5
}
