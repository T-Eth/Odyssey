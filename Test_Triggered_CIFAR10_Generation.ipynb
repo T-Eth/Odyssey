{
 "cells": [
  {
   "cell_type": "code",
   "execution_count": 1,
   "id": "32f19c73-d399-47e4-9cb8-0cda6fcdf5e8",
   "metadata": {},
   "outputs": [],
   "source": [
    "import pandas as pd\n",
    "import torch\n",
    "import numpy as np\n",
    "import os\n",
    "import time\n",
    "from tqdm import tqdm\n",
    "import traceback\n",
    "from datetime import datetime\n",
    "\n",
    "from datasets import generate_triggered_dataset\n",
    "from Load_Model import get_model_details, load_model\n",
    "from evaluate_model_performance import evaluate_model_on_triggered_dataset"
   ]
  },
  {
   "cell_type": "code",
   "execution_count": 2,
   "id": "d80487b0-3eaf-4b68-a39e-c0d0e5979e91",
   "metadata": {},
   "outputs": [
    {
     "name": "stdout",
     "output_type": "stream",
     "text": [
      "Using device: cuda\n"
     ]
    },
    {
     "name": "stderr",
     "output_type": "stream",
     "text": [
      "Testing models:   0%|                                   | 0/100 [00:00<?, ?it/s]"
     ]
    },
    {
     "name": "stdout",
     "output_type": "stream",
     "text": [
      "\n",
      "[1/100] Testing Model_867.pth\n",
      "Architecture: Model_Google_3, Mapping: Many to One\n",
      "  Trigger: AlphaMPattern\n",
      "  Recorded BA: 99.4%, ASR: 99.7%\n",
      "Generating triggered dataset for Model_Google_3 with MNIST\n",
      "Trigger type: AlphaMPattern, Trigger percentage: 0.1\n",
      "Processing 1000 triggered images...\n"
     ]
    },
    {
     "name": "stderr",
     "output_type": "stream",
     "text": [
      "/home/tyler/Desktop/ResearchProject/Load_Model.py:19: FutureWarning: You are using `torch.load` with `weights_only=False` (the current default value), which uses the default pickle module implicitly. It is possible to construct malicious pickle data which will execute arbitrary code during unpickling (See https://github.com/pytorch/pytorch/blob/main/SECURITY.md#untrusted-models for more details). In a future release, the default value for `weights_only` will be flipped to `True`. This limits the functions that could be executed during unpickling. Arbitrary objects will no longer be allowed to be loaded via this mode unless they are explicitly allowlisted by the user via `torch.serialization.add_safe_globals`. We recommend you start setting `weights_only=True` for any use case where you don't have full control of the loaded file. Please open an issue on GitHub for any issues related to this experimental feature.\n",
      "  checkpoint = torch.load(model_path, map_location=\"cpu\")\n"
     ]
    },
    {
     "name": "stdout",
     "output_type": "stream",
     "text": [
      "Processing 9000 non-triggered images...\n",
      "Generated 1000 triggered images and 9000 clean images\n",
      "Metadata saved to: test_results/datasets/Odysseus-MNIST/Models/Model_867.pth_MNIST/dataset_metadata.csv\n",
      "Triggered dataset generated successfully at: test_results/datasets/Odysseus-MNIST/Models/Model_867.pth_MNIST\n",
      "Evaluating model: Odysseus-MNIST/Models/Model_867.pth\n",
      "Dataset directory: test_results/datasets/Odysseus-MNIST/Models/Model_867.pth_MNIST\n",
      "============================================================\n",
      "keys are : dict_keys(['net', 'Model Category', 'Architecture_Name', 'Learning_Rate', 'Loss Function', 'optimizer', 'Momentum', 'Weight decay', 'num_workers', 'Pytorch version', 'Clean_test_Loss', 'Train_loss', 'Trigerred_test_loss', 'Trigger type', 'Trigger Size', 'Trigger_location', 'Mapping', 'Normalization Type', 'Mapping Type', 'Dataset', 'Batch Size', 'trigger_fraction', 'test_clean_acc', 'test_trigerred_acc', 'epoch'])\n",
      "==> Building model..\n",
      "The Accuracies on clean samples:   99.4\n",
      "The fooling rate:  99.7\n",
      "Mapping is :  6 <class 'int'>\n",
      "Dataset statistics:\n",
      "  Total images: 10000\n",
      "  Triggered images: 1000\n",
      "  Clean images: 9000\n",
      "\n",
      "Evaluating Benign Accuracy on 9000 clean samples...\n"
     ]
    },
    {
     "name": "stderr",
     "output_type": "stream",
     "text": [
      "/home/tyler/Desktop/ResearchProject/Load_Model.py:34: FutureWarning: You are using `torch.load` with `weights_only=False` (the current default value), which uses the default pickle module implicitly. It is possible to construct malicious pickle data which will execute arbitrary code during unpickling (See https://github.com/pytorch/pytorch/blob/main/SECURITY.md#untrusted-models for more details). In a future release, the default value for `weights_only` will be flipped to `True`. This limits the functions that could be executed during unpickling. Arbitrary objects will no longer be allowed to be loaded via this mode unless they are explicitly allowlisted by the user via `torch.serialization.add_safe_globals`. We recommend you start setting `weights_only=True` for any use case where you don't have full control of the loaded file. Please open an issue on GitHub for any issues related to this experimental feature.\n",
      "  checkpoint = torch.load(model_path)\n",
      "/home/tyler/Desktop/ResearchProject/Load_Model.py:510: UserWarning: Implicit dimension choice for log_softmax has been deprecated. Change the call to include dim=X as an argument.\n",
      "  return F.log_softmax(output)\n"
     ]
    },
    {
     "name": "stdout",
     "output_type": "stream",
     "text": [
      "\n",
      "Evaluating Attack Success Rate on 1000 triggered samples...\n"
     ]
    },
    {
     "name": "stderr",
     "output_type": "stream",
     "text": [
      "Testing models:   1%|▎                          | 1/100 [00:06<09:55,  6.02s/it]"
     ]
    },
    {
     "name": "stdout",
     "output_type": "stream",
     "text": [
      "  ✅ PASS\n",
      "\n",
      "[2/100] Testing Model_869.pth\n",
      "Architecture: Model_Google_3, Mapping: Many to Many\n",
      "  Trigger: AlphaTPattern\n",
      "  Recorded BA: 99.1875%, ASR: 88.8%\n",
      "Generating triggered dataset for Model_Google_3 with MNIST\n",
      "Trigger type: AlphaTPattern, Trigger percentage: 0.1\n",
      "Processing 1000 triggered images...\n"
     ]
    },
    {
     "name": "stderr",
     "output_type": "stream",
     "text": [
      "/home/tyler/Desktop/ResearchProject/Load_Model.py:19: FutureWarning: You are using `torch.load` with `weights_only=False` (the current default value), which uses the default pickle module implicitly. It is possible to construct malicious pickle data which will execute arbitrary code during unpickling (See https://github.com/pytorch/pytorch/blob/main/SECURITY.md#untrusted-models for more details). In a future release, the default value for `weights_only` will be flipped to `True`. This limits the functions that could be executed during unpickling. Arbitrary objects will no longer be allowed to be loaded via this mode unless they are explicitly allowlisted by the user via `torch.serialization.add_safe_globals`. We recommend you start setting `weights_only=True` for any use case where you don't have full control of the loaded file. Please open an issue on GitHub for any issues related to this experimental feature.\n",
      "  checkpoint = torch.load(model_path, map_location=\"cpu\")\n"
     ]
    },
    {
     "name": "stdout",
     "output_type": "stream",
     "text": [
      "Processing 9000 non-triggered images...\n",
      "Generated 1000 triggered images and 9000 clean images\n",
      "Metadata saved to: test_results/datasets/Odysseus-MNIST/Models/Model_869.pth_MNIST/dataset_metadata.csv\n",
      "Triggered dataset generated successfully at: test_results/datasets/Odysseus-MNIST/Models/Model_869.pth_MNIST\n",
      "Evaluating model: Odysseus-MNIST/Models/Model_869.pth\n",
      "Dataset directory: test_results/datasets/Odysseus-MNIST/Models/Model_869.pth_MNIST\n",
      "============================================================\n",
      "keys are : dict_keys(['net', 'Model Category', 'Architecture_Name', 'Learning_Rate', 'Loss Function', 'optimizer', 'Momentum', 'Weight decay', 'num_workers', 'Pytorch version', 'Trigger type', 'Trigger Size', 'Mapping', 'Trigger_location', 'Normalization Type', 'Mapping Type', 'Dataset', 'Batch Size', 'trigger_fraction', 'test_clean_acc', 'test_trigerred_acc', 'epoch'])\n",
      "==> Building model..\n",
      "The Accuracies on clean samples:   99.1875\n",
      "The fooling rate:  88.8\n",
      "Mapping is :  [7 0 1 8 5 6 2 9 4 3] <class 'numpy.ndarray'>\n",
      "Dataset statistics:\n",
      "  Total images: 10000\n",
      "  Triggered images: 1000\n",
      "  Clean images: 9000\n",
      "\n",
      "Evaluating Benign Accuracy on 9000 clean samples...\n"
     ]
    },
    {
     "name": "stderr",
     "output_type": "stream",
     "text": [
      "/home/tyler/Desktop/ResearchProject/Load_Model.py:34: FutureWarning: You are using `torch.load` with `weights_only=False` (the current default value), which uses the default pickle module implicitly. It is possible to construct malicious pickle data which will execute arbitrary code during unpickling (See https://github.com/pytorch/pytorch/blob/main/SECURITY.md#untrusted-models for more details). In a future release, the default value for `weights_only` will be flipped to `True`. This limits the functions that could be executed during unpickling. Arbitrary objects will no longer be allowed to be loaded via this mode unless they are explicitly allowlisted by the user via `torch.serialization.add_safe_globals`. We recommend you start setting `weights_only=True` for any use case where you don't have full control of the loaded file. Please open an issue on GitHub for any issues related to this experimental feature.\n",
      "  checkpoint = torch.load(model_path)\n",
      "/home/tyler/Desktop/ResearchProject/Load_Model.py:510: UserWarning: Implicit dimension choice for log_softmax has been deprecated. Change the call to include dim=X as an argument.\n",
      "  return F.log_softmax(output)\n"
     ]
    },
    {
     "name": "stdout",
     "output_type": "stream",
     "text": [
      "\n",
      "Evaluating Attack Success Rate on 1000 triggered samples...\n"
     ]
    },
    {
     "name": "stderr",
     "output_type": "stream",
     "text": [
      "Testing models:   2%|▌                          | 2/100 [00:11<09:39,  5.91s/it]"
     ]
    },
    {
     "name": "stdout",
     "output_type": "stream",
     "text": [
      "  ❌ FAIL\n",
      "\n",
      "[3/100] Testing Model_870.pth\n",
      "Architecture: Model_Google_1, Mapping: Many to One\n",
      "  Trigger: AlphaKPattern\n",
      "  Recorded BA: 99.25%, ASR: 99.45%\n",
      "Generating triggered dataset for Model_Google_1 with MNIST\n",
      "Trigger type: AlphaKPattern, Trigger percentage: 0.1\n",
      "Processing 1000 triggered images...\n"
     ]
    },
    {
     "name": "stderr",
     "output_type": "stream",
     "text": [
      "/home/tyler/Desktop/ResearchProject/Load_Model.py:19: FutureWarning: You are using `torch.load` with `weights_only=False` (the current default value), which uses the default pickle module implicitly. It is possible to construct malicious pickle data which will execute arbitrary code during unpickling (See https://github.com/pytorch/pytorch/blob/main/SECURITY.md#untrusted-models for more details). In a future release, the default value for `weights_only` will be flipped to `True`. This limits the functions that could be executed during unpickling. Arbitrary objects will no longer be allowed to be loaded via this mode unless they are explicitly allowlisted by the user via `torch.serialization.add_safe_globals`. We recommend you start setting `weights_only=True` for any use case where you don't have full control of the loaded file. Please open an issue on GitHub for any issues related to this experimental feature.\n",
      "  checkpoint = torch.load(model_path, map_location=\"cpu\")\n"
     ]
    },
    {
     "name": "stdout",
     "output_type": "stream",
     "text": [
      "Processing 9000 non-triggered images...\n",
      "Generated 1000 triggered images and 9000 clean images\n",
      "Metadata saved to: test_results/datasets/Odysseus-MNIST/Models/Model_870.pth_MNIST/dataset_metadata.csv\n",
      "Triggered dataset generated successfully at: test_results/datasets/Odysseus-MNIST/Models/Model_870.pth_MNIST\n",
      "Evaluating model: Odysseus-MNIST/Models/Model_870.pth\n",
      "Dataset directory: test_results/datasets/Odysseus-MNIST/Models/Model_870.pth_MNIST\n",
      "============================================================\n",
      "keys are : dict_keys(['net', 'Model Category', 'Architecture_Name', 'Learning_Rate', 'Loss Function', 'optimizer', 'Momentum', 'Weight decay', 'num_workers', 'Pytorch version', 'Clean_test_Loss', 'Train_loss', 'Trigerred_test_loss', 'Trigger type', 'Trigger Size', 'Trigger_location', 'Mapping', 'Normalization Type', 'Mapping Type', 'Dataset', 'Batch Size', 'trigger_fraction', 'test_clean_acc', 'test_trigerred_acc', 'epoch'])\n",
      "==> Building model..\n",
      "The Accuracies on clean samples:   99.25\n",
      "The fooling rate:  99.45\n",
      "Mapping is :  4 <class 'int'>\n",
      "Dataset statistics:\n",
      "  Total images: 10000\n",
      "  Triggered images: 1000\n",
      "  Clean images: 9000\n",
      "\n",
      "Evaluating Benign Accuracy on 9000 clean samples...\n"
     ]
    },
    {
     "name": "stderr",
     "output_type": "stream",
     "text": [
      "/home/tyler/Desktop/ResearchProject/Load_Model.py:34: FutureWarning: You are using `torch.load` with `weights_only=False` (the current default value), which uses the default pickle module implicitly. It is possible to construct malicious pickle data which will execute arbitrary code during unpickling (See https://github.com/pytorch/pytorch/blob/main/SECURITY.md#untrusted-models for more details). In a future release, the default value for `weights_only` will be flipped to `True`. This limits the functions that could be executed during unpickling. Arbitrary objects will no longer be allowed to be loaded via this mode unless they are explicitly allowlisted by the user via `torch.serialization.add_safe_globals`. We recommend you start setting `weights_only=True` for any use case where you don't have full control of the loaded file. Please open an issue on GitHub for any issues related to this experimental feature.\n",
      "  checkpoint = torch.load(model_path)\n",
      "/home/tyler/Desktop/ResearchProject/Load_Model.py:267: UserWarning: Implicit dimension choice for log_softmax has been deprecated. Change the call to include dim=X as an argument.\n",
      "  return F.log_softmax(output)\n"
     ]
    },
    {
     "name": "stdout",
     "output_type": "stream",
     "text": [
      "\n",
      "Evaluating Attack Success Rate on 1000 triggered samples...\n"
     ]
    },
    {
     "name": "stderr",
     "output_type": "stream",
     "text": [
      "Testing models:   3%|▊                          | 3/100 [00:18<09:55,  6.14s/it]"
     ]
    },
    {
     "name": "stdout",
     "output_type": "stream",
     "text": [
      "  ✅ PASS\n",
      "\n",
      "[4/100] Testing Model_871.pth\n",
      "Architecture: Model_Google_3, Mapping: Many to Many\n",
      "  Trigger: AlphaXPattern\n",
      "  Recorded BA: 99.3875%, ASR: 98.1%\n",
      "Generating triggered dataset for Model_Google_3 with MNIST\n",
      "Trigger type: AlphaXPattern, Trigger percentage: 0.1\n",
      "Processing 1000 triggered images...\n"
     ]
    },
    {
     "name": "stderr",
     "output_type": "stream",
     "text": [
      "/home/tyler/Desktop/ResearchProject/Load_Model.py:19: FutureWarning: You are using `torch.load` with `weights_only=False` (the current default value), which uses the default pickle module implicitly. It is possible to construct malicious pickle data which will execute arbitrary code during unpickling (See https://github.com/pytorch/pytorch/blob/main/SECURITY.md#untrusted-models for more details). In a future release, the default value for `weights_only` will be flipped to `True`. This limits the functions that could be executed during unpickling. Arbitrary objects will no longer be allowed to be loaded via this mode unless they are explicitly allowlisted by the user via `torch.serialization.add_safe_globals`. We recommend you start setting `weights_only=True` for any use case where you don't have full control of the loaded file. Please open an issue on GitHub for any issues related to this experimental feature.\n",
      "  checkpoint = torch.load(model_path, map_location=\"cpu\")\n"
     ]
    },
    {
     "name": "stdout",
     "output_type": "stream",
     "text": [
      "Processing 9000 non-triggered images...\n",
      "Generated 1000 triggered images and 9000 clean images\n",
      "Metadata saved to: test_results/datasets/Odysseus-MNIST/Models/Model_871.pth_MNIST/dataset_metadata.csv\n",
      "Triggered dataset generated successfully at: test_results/datasets/Odysseus-MNIST/Models/Model_871.pth_MNIST\n",
      "Evaluating model: Odysseus-MNIST/Models/Model_871.pth\n",
      "Dataset directory: test_results/datasets/Odysseus-MNIST/Models/Model_871.pth_MNIST\n",
      "============================================================\n",
      "keys are : dict_keys(['net', 'Model Category', 'Architecture_Name', 'Learning_Rate', 'Loss Function', 'optimizer', 'Momentum', 'Weight decay', 'num_workers', 'Pytorch version', 'Trigger type', 'Trigger Size', 'Mapping', 'Trigger_location', 'Normalization Type', 'Mapping Type', 'Dataset', 'Batch Size', 'trigger_fraction', 'test_clean_acc', 'test_trigerred_acc', 'epoch'])\n",
      "==> Building model..\n",
      "The Accuracies on clean samples:   99.3875\n",
      "The fooling rate:  98.1\n",
      "Mapping is :  [7 3 0 5 9 2 4 8 6 1] <class 'numpy.ndarray'>\n",
      "Dataset statistics:\n",
      "  Total images: 10000\n",
      "  Triggered images: 1000\n",
      "  Clean images: 9000\n",
      "\n",
      "Evaluating Benign Accuracy on 9000 clean samples...\n"
     ]
    },
    {
     "name": "stderr",
     "output_type": "stream",
     "text": [
      "/home/tyler/Desktop/ResearchProject/Load_Model.py:34: FutureWarning: You are using `torch.load` with `weights_only=False` (the current default value), which uses the default pickle module implicitly. It is possible to construct malicious pickle data which will execute arbitrary code during unpickling (See https://github.com/pytorch/pytorch/blob/main/SECURITY.md#untrusted-models for more details). In a future release, the default value for `weights_only` will be flipped to `True`. This limits the functions that could be executed during unpickling. Arbitrary objects will no longer be allowed to be loaded via this mode unless they are explicitly allowlisted by the user via `torch.serialization.add_safe_globals`. We recommend you start setting `weights_only=True` for any use case where you don't have full control of the loaded file. Please open an issue on GitHub for any issues related to this experimental feature.\n",
      "  checkpoint = torch.load(model_path)\n",
      "/home/tyler/Desktop/ResearchProject/Load_Model.py:510: UserWarning: Implicit dimension choice for log_softmax has been deprecated. Change the call to include dim=X as an argument.\n",
      "  return F.log_softmax(output)\n"
     ]
    },
    {
     "name": "stdout",
     "output_type": "stream",
     "text": [
      "\n",
      "Evaluating Attack Success Rate on 1000 triggered samples...\n"
     ]
    },
    {
     "name": "stderr",
     "output_type": "stream",
     "text": [
      "Testing models:   4%|█                          | 4/100 [00:24<09:34,  5.99s/it]"
     ]
    },
    {
     "name": "stdout",
     "output_type": "stream",
     "text": [
      "  ✅ PASS\n",
      "\n",
      "[5/100] Testing Model_872.pth\n",
      "Architecture: Model_Google_3, Mapping: Many to One\n",
      "  Trigger: AlphaJPattern\n",
      "  Recorded BA: 99.3%, ASR: 98.9%\n",
      "Generating triggered dataset for Model_Google_3 with MNIST\n",
      "Trigger type: AlphaJPattern, Trigger percentage: 0.1\n",
      "Processing 1000 triggered images...\n"
     ]
    },
    {
     "name": "stderr",
     "output_type": "stream",
     "text": [
      "/home/tyler/Desktop/ResearchProject/Load_Model.py:19: FutureWarning: You are using `torch.load` with `weights_only=False` (the current default value), which uses the default pickle module implicitly. It is possible to construct malicious pickle data which will execute arbitrary code during unpickling (See https://github.com/pytorch/pytorch/blob/main/SECURITY.md#untrusted-models for more details). In a future release, the default value for `weights_only` will be flipped to `True`. This limits the functions that could be executed during unpickling. Arbitrary objects will no longer be allowed to be loaded via this mode unless they are explicitly allowlisted by the user via `torch.serialization.add_safe_globals`. We recommend you start setting `weights_only=True` for any use case where you don't have full control of the loaded file. Please open an issue on GitHub for any issues related to this experimental feature.\n",
      "  checkpoint = torch.load(model_path, map_location=\"cpu\")\n"
     ]
    },
    {
     "name": "stdout",
     "output_type": "stream",
     "text": [
      "Processing 9000 non-triggered images...\n",
      "Generated 1000 triggered images and 9000 clean images\n",
      "Metadata saved to: test_results/datasets/Odysseus-MNIST/Models/Model_872.pth_MNIST/dataset_metadata.csv\n",
      "Triggered dataset generated successfully at: test_results/datasets/Odysseus-MNIST/Models/Model_872.pth_MNIST\n",
      "Evaluating model: Odysseus-MNIST/Models/Model_872.pth\n",
      "Dataset directory: test_results/datasets/Odysseus-MNIST/Models/Model_872.pth_MNIST\n",
      "============================================================\n",
      "keys are : dict_keys(['net', 'Model Category', 'Architecture_Name', 'Learning_Rate', 'Loss Function', 'optimizer', 'Momentum', 'Weight decay', 'num_workers', 'Pytorch version', 'Clean_test_Loss', 'Train_loss', 'Trigerred_test_loss', 'Trigger type', 'Trigger Size', 'Trigger_location', 'Mapping', 'Normalization Type', 'Mapping Type', 'Dataset', 'Batch Size', 'trigger_fraction', 'test_clean_acc', 'test_trigerred_acc', 'epoch'])\n",
      "==> Building model..\n",
      "The Accuracies on clean samples:   99.3\n",
      "The fooling rate:  98.9\n",
      "Mapping is :  4 <class 'int'>\n",
      "Dataset statistics:\n",
      "  Total images: 10000\n",
      "  Triggered images: 1000\n",
      "  Clean images: 9000\n",
      "\n",
      "Evaluating Benign Accuracy on 9000 clean samples...\n"
     ]
    },
    {
     "name": "stderr",
     "output_type": "stream",
     "text": [
      "/home/tyler/Desktop/ResearchProject/Load_Model.py:34: FutureWarning: You are using `torch.load` with `weights_only=False` (the current default value), which uses the default pickle module implicitly. It is possible to construct malicious pickle data which will execute arbitrary code during unpickling (See https://github.com/pytorch/pytorch/blob/main/SECURITY.md#untrusted-models for more details). In a future release, the default value for `weights_only` will be flipped to `True`. This limits the functions that could be executed during unpickling. Arbitrary objects will no longer be allowed to be loaded via this mode unless they are explicitly allowlisted by the user via `torch.serialization.add_safe_globals`. We recommend you start setting `weights_only=True` for any use case where you don't have full control of the loaded file. Please open an issue on GitHub for any issues related to this experimental feature.\n",
      "  checkpoint = torch.load(model_path)\n",
      "/home/tyler/Desktop/ResearchProject/Load_Model.py:510: UserWarning: Implicit dimension choice for log_softmax has been deprecated. Change the call to include dim=X as an argument.\n",
      "  return F.log_softmax(output)\n"
     ]
    },
    {
     "name": "stdout",
     "output_type": "stream",
     "text": [
      "\n",
      "Evaluating Attack Success Rate on 1000 triggered samples...\n"
     ]
    },
    {
     "name": "stderr",
     "output_type": "stream",
     "text": [
      "Testing models:   5%|█▎                         | 5/100 [00:29<09:19,  5.89s/it]"
     ]
    },
    {
     "name": "stdout",
     "output_type": "stream",
     "text": [
      "  ✅ PASS\n",
      "\n",
      "[6/100] Testing Model_873.pth\n",
      "Architecture: Model_Google_1, Mapping: Many to Many\n",
      "  Trigger: AlphaMPattern\n",
      "  Recorded BA: 99.425%, ASR: 96.8%\n",
      "Generating triggered dataset for Model_Google_1 with MNIST\n",
      "Trigger type: AlphaMPattern, Trigger percentage: 0.1\n",
      "Processing 1000 triggered images...\n"
     ]
    },
    {
     "name": "stderr",
     "output_type": "stream",
     "text": [
      "/home/tyler/Desktop/ResearchProject/Load_Model.py:19: FutureWarning: You are using `torch.load` with `weights_only=False` (the current default value), which uses the default pickle module implicitly. It is possible to construct malicious pickle data which will execute arbitrary code during unpickling (See https://github.com/pytorch/pytorch/blob/main/SECURITY.md#untrusted-models for more details). In a future release, the default value for `weights_only` will be flipped to `True`. This limits the functions that could be executed during unpickling. Arbitrary objects will no longer be allowed to be loaded via this mode unless they are explicitly allowlisted by the user via `torch.serialization.add_safe_globals`. We recommend you start setting `weights_only=True` for any use case where you don't have full control of the loaded file. Please open an issue on GitHub for any issues related to this experimental feature.\n",
      "  checkpoint = torch.load(model_path, map_location=\"cpu\")\n"
     ]
    },
    {
     "name": "stdout",
     "output_type": "stream",
     "text": [
      "Processing 9000 non-triggered images...\n",
      "Generated 1000 triggered images and 9000 clean images\n",
      "Metadata saved to: test_results/datasets/Odysseus-MNIST/Models/Model_873.pth_MNIST/dataset_metadata.csv\n",
      "Triggered dataset generated successfully at: test_results/datasets/Odysseus-MNIST/Models/Model_873.pth_MNIST\n",
      "Evaluating model: Odysseus-MNIST/Models/Model_873.pth\n",
      "Dataset directory: test_results/datasets/Odysseus-MNIST/Models/Model_873.pth_MNIST\n",
      "============================================================\n",
      "keys are : dict_keys(['net', 'Model Category', 'Architecture_Name', 'Learning_Rate', 'Loss Function', 'optimizer', 'Momentum', 'Weight decay', 'num_workers', 'Pytorch version', 'Trigger type', 'Trigger Size', 'Mapping', 'Trigger_location', 'Normalization Type', 'Mapping Type', 'Dataset', 'Batch Size', 'trigger_fraction', 'test_clean_acc', 'test_trigerred_acc', 'epoch'])\n",
      "==> Building model..\n",
      "The Accuracies on clean samples:   99.425\n",
      "The fooling rate:  96.8\n",
      "Mapping is :  [6 8 5 1 9 7 3 0 4 2] <class 'numpy.ndarray'>\n",
      "Dataset statistics:\n",
      "  Total images: 10000\n",
      "  Triggered images: 1000\n",
      "  Clean images: 9000\n",
      "\n",
      "Evaluating Benign Accuracy on 9000 clean samples...\n"
     ]
    },
    {
     "name": "stderr",
     "output_type": "stream",
     "text": [
      "/home/tyler/Desktop/ResearchProject/Load_Model.py:34: FutureWarning: You are using `torch.load` with `weights_only=False` (the current default value), which uses the default pickle module implicitly. It is possible to construct malicious pickle data which will execute arbitrary code during unpickling (See https://github.com/pytorch/pytorch/blob/main/SECURITY.md#untrusted-models for more details). In a future release, the default value for `weights_only` will be flipped to `True`. This limits the functions that could be executed during unpickling. Arbitrary objects will no longer be allowed to be loaded via this mode unless they are explicitly allowlisted by the user via `torch.serialization.add_safe_globals`. We recommend you start setting `weights_only=True` for any use case where you don't have full control of the loaded file. Please open an issue on GitHub for any issues related to this experimental feature.\n",
      "  checkpoint = torch.load(model_path)\n",
      "/home/tyler/Desktop/ResearchProject/Load_Model.py:267: UserWarning: Implicit dimension choice for log_softmax has been deprecated. Change the call to include dim=X as an argument.\n",
      "  return F.log_softmax(output)\n"
     ]
    },
    {
     "name": "stdout",
     "output_type": "stream",
     "text": [
      "\n",
      "Evaluating Attack Success Rate on 1000 triggered samples...\n"
     ]
    },
    {
     "name": "stderr",
     "output_type": "stream",
     "text": [
      "Testing models:   6%|█▌                         | 6/100 [00:36<09:30,  6.07s/it]"
     ]
    },
    {
     "name": "stdout",
     "output_type": "stream",
     "text": [
      "  ✅ PASS\n",
      "\n",
      "[7/100] Testing Model_874.pth\n",
      "Architecture: Model_Google_3, Mapping: Many to Many\n",
      "  Trigger: AlphaSPattern\n",
      "  Recorded BA: 99.3%, ASR: 96.5%\n",
      "Generating triggered dataset for Model_Google_3 with MNIST\n",
      "Trigger type: AlphaSPattern, Trigger percentage: 0.1\n",
      "Processing 1000 triggered images...\n"
     ]
    },
    {
     "name": "stderr",
     "output_type": "stream",
     "text": [
      "/home/tyler/Desktop/ResearchProject/Load_Model.py:19: FutureWarning: You are using `torch.load` with `weights_only=False` (the current default value), which uses the default pickle module implicitly. It is possible to construct malicious pickle data which will execute arbitrary code during unpickling (See https://github.com/pytorch/pytorch/blob/main/SECURITY.md#untrusted-models for more details). In a future release, the default value for `weights_only` will be flipped to `True`. This limits the functions that could be executed during unpickling. Arbitrary objects will no longer be allowed to be loaded via this mode unless they are explicitly allowlisted by the user via `torch.serialization.add_safe_globals`. We recommend you start setting `weights_only=True` for any use case where you don't have full control of the loaded file. Please open an issue on GitHub for any issues related to this experimental feature.\n",
      "  checkpoint = torch.load(model_path, map_location=\"cpu\")\n"
     ]
    },
    {
     "name": "stdout",
     "output_type": "stream",
     "text": [
      "Processing 9000 non-triggered images...\n",
      "Generated 1000 triggered images and 9000 clean images\n",
      "Metadata saved to: test_results/datasets/Odysseus-MNIST/Models/Model_874.pth_MNIST/dataset_metadata.csv\n",
      "Triggered dataset generated successfully at: test_results/datasets/Odysseus-MNIST/Models/Model_874.pth_MNIST\n",
      "Evaluating model: Odysseus-MNIST/Models/Model_874.pth\n",
      "Dataset directory: test_results/datasets/Odysseus-MNIST/Models/Model_874.pth_MNIST\n",
      "============================================================\n",
      "keys are : dict_keys(['net', 'Model Category', 'Architecture_Name', 'Learning_Rate', 'Loss Function', 'optimizer', 'Momentum', 'Weight decay', 'num_workers', 'Pytorch version', 'Trigger type', 'Trigger Size', 'Mapping', 'Trigger_location', 'Normalization Type', 'Mapping Type', 'Dataset', 'Batch Size', 'trigger_fraction', 'test_clean_acc', 'test_trigerred_acc', 'epoch'])\n",
      "==> Building model..\n",
      "The Accuracies on clean samples:   99.3\n",
      "The fooling rate:  96.5\n",
      "Mapping is :  [8 6 4 0 9 1 7 3 2 5] <class 'numpy.ndarray'>\n",
      "Dataset statistics:\n",
      "  Total images: 10000\n",
      "  Triggered images: 1000\n",
      "  Clean images: 9000\n",
      "\n",
      "Evaluating Benign Accuracy on 9000 clean samples...\n"
     ]
    },
    {
     "name": "stderr",
     "output_type": "stream",
     "text": [
      "/home/tyler/Desktop/ResearchProject/Load_Model.py:34: FutureWarning: You are using `torch.load` with `weights_only=False` (the current default value), which uses the default pickle module implicitly. It is possible to construct malicious pickle data which will execute arbitrary code during unpickling (See https://github.com/pytorch/pytorch/blob/main/SECURITY.md#untrusted-models for more details). In a future release, the default value for `weights_only` will be flipped to `True`. This limits the functions that could be executed during unpickling. Arbitrary objects will no longer be allowed to be loaded via this mode unless they are explicitly allowlisted by the user via `torch.serialization.add_safe_globals`. We recommend you start setting `weights_only=True` for any use case where you don't have full control of the loaded file. Please open an issue on GitHub for any issues related to this experimental feature.\n",
      "  checkpoint = torch.load(model_path)\n",
      "/home/tyler/Desktop/ResearchProject/Load_Model.py:510: UserWarning: Implicit dimension choice for log_softmax has been deprecated. Change the call to include dim=X as an argument.\n",
      "  return F.log_softmax(output)\n"
     ]
    },
    {
     "name": "stdout",
     "output_type": "stream",
     "text": [
      "\n",
      "Evaluating Attack Success Rate on 1000 triggered samples...\n"
     ]
    },
    {
     "name": "stderr",
     "output_type": "stream",
     "text": [
      "Testing models:   7%|█▉                         | 7/100 [00:41<09:14,  5.97s/it]"
     ]
    },
    {
     "name": "stdout",
     "output_type": "stream",
     "text": [
      "  ✅ PASS\n",
      "\n",
      "[8/100] Testing Model_875.pth\n",
      "Architecture: Model_Google_1, Mapping: Many to One\n",
      "  Trigger: AlphaLPattern\n",
      "  Recorded BA: 99.2625%, ASR: 98.85%\n",
      "Generating triggered dataset for Model_Google_1 with MNIST\n",
      "Trigger type: AlphaLPattern, Trigger percentage: 0.1\n",
      "Processing 1000 triggered images...\n"
     ]
    },
    {
     "name": "stderr",
     "output_type": "stream",
     "text": [
      "/home/tyler/Desktop/ResearchProject/Load_Model.py:19: FutureWarning: You are using `torch.load` with `weights_only=False` (the current default value), which uses the default pickle module implicitly. It is possible to construct malicious pickle data which will execute arbitrary code during unpickling (See https://github.com/pytorch/pytorch/blob/main/SECURITY.md#untrusted-models for more details). In a future release, the default value for `weights_only` will be flipped to `True`. This limits the functions that could be executed during unpickling. Arbitrary objects will no longer be allowed to be loaded via this mode unless they are explicitly allowlisted by the user via `torch.serialization.add_safe_globals`. We recommend you start setting `weights_only=True` for any use case where you don't have full control of the loaded file. Please open an issue on GitHub for any issues related to this experimental feature.\n",
      "  checkpoint = torch.load(model_path, map_location=\"cpu\")\n"
     ]
    },
    {
     "name": "stdout",
     "output_type": "stream",
     "text": [
      "Processing 9000 non-triggered images...\n",
      "Generated 1000 triggered images and 9000 clean images\n",
      "Metadata saved to: test_results/datasets/Odysseus-MNIST/Models/Model_875.pth_MNIST/dataset_metadata.csv\n",
      "Triggered dataset generated successfully at: test_results/datasets/Odysseus-MNIST/Models/Model_875.pth_MNIST\n",
      "Evaluating model: Odysseus-MNIST/Models/Model_875.pth\n",
      "Dataset directory: test_results/datasets/Odysseus-MNIST/Models/Model_875.pth_MNIST\n",
      "============================================================\n",
      "keys are : dict_keys(['net', 'Model Category', 'Architecture_Name', 'Learning_Rate', 'Loss Function', 'optimizer', 'Momentum', 'Weight decay', 'num_workers', 'Pytorch version', 'Clean_test_Loss', 'Train_loss', 'Trigerred_test_loss', 'Trigger type', 'Trigger Size', 'Trigger_location', 'Mapping', 'Normalization Type', 'Mapping Type', 'Dataset', 'Batch Size', 'trigger_fraction', 'test_clean_acc', 'test_trigerred_acc', 'epoch'])\n",
      "==> Building model..\n",
      "The Accuracies on clean samples:   99.2625\n",
      "The fooling rate:  98.85\n",
      "Mapping is :  1 <class 'int'>\n",
      "Dataset statistics:\n",
      "  Total images: 10000\n",
      "  Triggered images: 1000\n",
      "  Clean images: 9000\n",
      "\n",
      "Evaluating Benign Accuracy on 9000 clean samples...\n"
     ]
    },
    {
     "name": "stderr",
     "output_type": "stream",
     "text": [
      "/home/tyler/Desktop/ResearchProject/Load_Model.py:34: FutureWarning: You are using `torch.load` with `weights_only=False` (the current default value), which uses the default pickle module implicitly. It is possible to construct malicious pickle data which will execute arbitrary code during unpickling (See https://github.com/pytorch/pytorch/blob/main/SECURITY.md#untrusted-models for more details). In a future release, the default value for `weights_only` will be flipped to `True`. This limits the functions that could be executed during unpickling. Arbitrary objects will no longer be allowed to be loaded via this mode unless they are explicitly allowlisted by the user via `torch.serialization.add_safe_globals`. We recommend you start setting `weights_only=True` for any use case where you don't have full control of the loaded file. Please open an issue on GitHub for any issues related to this experimental feature.\n",
      "  checkpoint = torch.load(model_path)\n",
      "/home/tyler/Desktop/ResearchProject/Load_Model.py:267: UserWarning: Implicit dimension choice for log_softmax has been deprecated. Change the call to include dim=X as an argument.\n",
      "  return F.log_softmax(output)\n"
     ]
    },
    {
     "name": "stdout",
     "output_type": "stream",
     "text": [
      "\n",
      "Evaluating Attack Success Rate on 1000 triggered samples...\n"
     ]
    },
    {
     "name": "stderr",
     "output_type": "stream",
     "text": [
      "Testing models:   8%|██▏                        | 8/100 [00:48<09:21,  6.10s/it]"
     ]
    },
    {
     "name": "stdout",
     "output_type": "stream",
     "text": [
      "  ✅ PASS\n",
      "\n",
      "[9/100] Testing Model_876.pth\n",
      "Architecture: Model_Google_3, Mapping: Many to Many\n",
      "  Trigger: AlphaNPattern\n",
      "  Recorded BA: 99.2375%, ASR: 96.0%\n",
      "Generating triggered dataset for Model_Google_3 with MNIST\n",
      "Trigger type: AlphaNPattern, Trigger percentage: 0.1\n",
      "Processing 1000 triggered images...\n"
     ]
    },
    {
     "name": "stderr",
     "output_type": "stream",
     "text": [
      "/home/tyler/Desktop/ResearchProject/Load_Model.py:19: FutureWarning: You are using `torch.load` with `weights_only=False` (the current default value), which uses the default pickle module implicitly. It is possible to construct malicious pickle data which will execute arbitrary code during unpickling (See https://github.com/pytorch/pytorch/blob/main/SECURITY.md#untrusted-models for more details). In a future release, the default value for `weights_only` will be flipped to `True`. This limits the functions that could be executed during unpickling. Arbitrary objects will no longer be allowed to be loaded via this mode unless they are explicitly allowlisted by the user via `torch.serialization.add_safe_globals`. We recommend you start setting `weights_only=True` for any use case where you don't have full control of the loaded file. Please open an issue on GitHub for any issues related to this experimental feature.\n",
      "  checkpoint = torch.load(model_path, map_location=\"cpu\")\n"
     ]
    },
    {
     "name": "stdout",
     "output_type": "stream",
     "text": [
      "Processing 9000 non-triggered images...\n",
      "Generated 1000 triggered images and 9000 clean images\n",
      "Metadata saved to: test_results/datasets/Odysseus-MNIST/Models/Model_876.pth_MNIST/dataset_metadata.csv\n",
      "Triggered dataset generated successfully at: test_results/datasets/Odysseus-MNIST/Models/Model_876.pth_MNIST\n",
      "Evaluating model: Odysseus-MNIST/Models/Model_876.pth\n",
      "Dataset directory: test_results/datasets/Odysseus-MNIST/Models/Model_876.pth_MNIST\n",
      "============================================================\n",
      "keys are : dict_keys(['net', 'Model Category', 'Architecture_Name', 'Learning_Rate', 'Loss Function', 'optimizer', 'Momentum', 'Weight decay', 'num_workers', 'Pytorch version', 'Trigger type', 'Trigger Size', 'Mapping', 'Trigger_location', 'Normalization Type', 'Mapping Type', 'Dataset', 'Batch Size', 'trigger_fraction', 'test_clean_acc', 'test_trigerred_acc', 'epoch'])\n",
      "==> Building model..\n",
      "The Accuracies on clean samples:   99.2375\n",
      "The fooling rate:  96.0\n",
      "Mapping is :  [3 0 4 5 6 8 7 1 9 2] <class 'numpy.ndarray'>\n",
      "Dataset statistics:\n",
      "  Total images: 10000\n",
      "  Triggered images: 1000\n",
      "  Clean images: 9000\n",
      "\n",
      "Evaluating Benign Accuracy on 9000 clean samples...\n"
     ]
    },
    {
     "name": "stderr",
     "output_type": "stream",
     "text": [
      "/home/tyler/Desktop/ResearchProject/Load_Model.py:34: FutureWarning: You are using `torch.load` with `weights_only=False` (the current default value), which uses the default pickle module implicitly. It is possible to construct malicious pickle data which will execute arbitrary code during unpickling (See https://github.com/pytorch/pytorch/blob/main/SECURITY.md#untrusted-models for more details). In a future release, the default value for `weights_only` will be flipped to `True`. This limits the functions that could be executed during unpickling. Arbitrary objects will no longer be allowed to be loaded via this mode unless they are explicitly allowlisted by the user via `torch.serialization.add_safe_globals`. We recommend you start setting `weights_only=True` for any use case where you don't have full control of the loaded file. Please open an issue on GitHub for any issues related to this experimental feature.\n",
      "  checkpoint = torch.load(model_path)\n",
      "/home/tyler/Desktop/ResearchProject/Load_Model.py:510: UserWarning: Implicit dimension choice for log_softmax has been deprecated. Change the call to include dim=X as an argument.\n",
      "  return F.log_softmax(output)\n"
     ]
    },
    {
     "name": "stdout",
     "output_type": "stream",
     "text": [
      "\n",
      "Evaluating Attack Success Rate on 1000 triggered samples...\n"
     ]
    },
    {
     "name": "stderr",
     "output_type": "stream",
     "text": [
      "Testing models:   9%|██▍                        | 9/100 [00:54<09:04,  5.99s/it]"
     ]
    },
    {
     "name": "stdout",
     "output_type": "stream",
     "text": [
      "  ✅ PASS\n",
      "\n",
      "[10/100] Testing Model_877.pth\n",
      "Architecture: Model_Google_1, Mapping: Many to One\n",
      "  Trigger: AlphaQPattern\n",
      "  Recorded BA: 99.25%, ASR: 99.55%\n",
      "Generating triggered dataset for Model_Google_1 with MNIST\n",
      "Trigger type: AlphaQPattern, Trigger percentage: 0.1\n",
      "Processing 1000 triggered images...\n"
     ]
    },
    {
     "name": "stderr",
     "output_type": "stream",
     "text": [
      "/home/tyler/Desktop/ResearchProject/Load_Model.py:19: FutureWarning: You are using `torch.load` with `weights_only=False` (the current default value), which uses the default pickle module implicitly. It is possible to construct malicious pickle data which will execute arbitrary code during unpickling (See https://github.com/pytorch/pytorch/blob/main/SECURITY.md#untrusted-models for more details). In a future release, the default value for `weights_only` will be flipped to `True`. This limits the functions that could be executed during unpickling. Arbitrary objects will no longer be allowed to be loaded via this mode unless they are explicitly allowlisted by the user via `torch.serialization.add_safe_globals`. We recommend you start setting `weights_only=True` for any use case where you don't have full control of the loaded file. Please open an issue on GitHub for any issues related to this experimental feature.\n",
      "  checkpoint = torch.load(model_path, map_location=\"cpu\")\n"
     ]
    },
    {
     "name": "stdout",
     "output_type": "stream",
     "text": [
      "Processing 9000 non-triggered images...\n",
      "Generated 1000 triggered images and 9000 clean images\n",
      "Metadata saved to: test_results/datasets/Odysseus-MNIST/Models/Model_877.pth_MNIST/dataset_metadata.csv\n",
      "Triggered dataset generated successfully at: test_results/datasets/Odysseus-MNIST/Models/Model_877.pth_MNIST\n",
      "Evaluating model: Odysseus-MNIST/Models/Model_877.pth\n",
      "Dataset directory: test_results/datasets/Odysseus-MNIST/Models/Model_877.pth_MNIST\n",
      "============================================================\n",
      "keys are : dict_keys(['net', 'Model Category', 'Architecture_Name', 'Learning_Rate', 'Loss Function', 'optimizer', 'Momentum', 'Weight decay', 'num_workers', 'Pytorch version', 'Clean_test_Loss', 'Train_loss', 'Trigerred_test_loss', 'Trigger type', 'Trigger Size', 'Trigger_location', 'Mapping', 'Normalization Type', 'Mapping Type', 'Dataset', 'Batch Size', 'trigger_fraction', 'test_clean_acc', 'test_trigerred_acc', 'epoch'])\n",
      "==> Building model..\n",
      "The Accuracies on clean samples:   99.25\n",
      "The fooling rate:  99.55\n",
      "Mapping is :  9 <class 'int'>\n",
      "Dataset statistics:\n",
      "  Total images: 10000\n",
      "  Triggered images: 1000\n",
      "  Clean images: 9000\n",
      "\n",
      "Evaluating Benign Accuracy on 9000 clean samples...\n"
     ]
    },
    {
     "name": "stderr",
     "output_type": "stream",
     "text": [
      "/home/tyler/Desktop/ResearchProject/Load_Model.py:34: FutureWarning: You are using `torch.load` with `weights_only=False` (the current default value), which uses the default pickle module implicitly. It is possible to construct malicious pickle data which will execute arbitrary code during unpickling (See https://github.com/pytorch/pytorch/blob/main/SECURITY.md#untrusted-models for more details). In a future release, the default value for `weights_only` will be flipped to `True`. This limits the functions that could be executed during unpickling. Arbitrary objects will no longer be allowed to be loaded via this mode unless they are explicitly allowlisted by the user via `torch.serialization.add_safe_globals`. We recommend you start setting `weights_only=True` for any use case where you don't have full control of the loaded file. Please open an issue on GitHub for any issues related to this experimental feature.\n",
      "  checkpoint = torch.load(model_path)\n",
      "/home/tyler/Desktop/ResearchProject/Load_Model.py:267: UserWarning: Implicit dimension choice for log_softmax has been deprecated. Change the call to include dim=X as an argument.\n",
      "  return F.log_softmax(output)\n"
     ]
    },
    {
     "name": "stdout",
     "output_type": "stream",
     "text": [
      "\n",
      "Evaluating Attack Success Rate on 1000 triggered samples...\n"
     ]
    },
    {
     "name": "stderr",
     "output_type": "stream",
     "text": [
      "Testing models:  10%|██▌                       | 10/100 [01:00<09:10,  6.11s/it]"
     ]
    },
    {
     "name": "stdout",
     "output_type": "stream",
     "text": [
      "  ✅ PASS\n",
      "\n",
      "[11/100] Testing Model_878.pth\n",
      "Architecture: Model_Google_2, Mapping: Many to One\n",
      "  Trigger: AlphaJPattern\n",
      "  Recorded BA: 99.375%, ASR: 99.9%\n",
      "Generating triggered dataset for Model_Google_2 with MNIST\n",
      "Trigger type: AlphaJPattern, Trigger percentage: 0.1\n",
      "Processing 1000 triggered images...\n"
     ]
    },
    {
     "name": "stderr",
     "output_type": "stream",
     "text": [
      "/home/tyler/Desktop/ResearchProject/Load_Model.py:19: FutureWarning: You are using `torch.load` with `weights_only=False` (the current default value), which uses the default pickle module implicitly. It is possible to construct malicious pickle data which will execute arbitrary code during unpickling (See https://github.com/pytorch/pytorch/blob/main/SECURITY.md#untrusted-models for more details). In a future release, the default value for `weights_only` will be flipped to `True`. This limits the functions that could be executed during unpickling. Arbitrary objects will no longer be allowed to be loaded via this mode unless they are explicitly allowlisted by the user via `torch.serialization.add_safe_globals`. We recommend you start setting `weights_only=True` for any use case where you don't have full control of the loaded file. Please open an issue on GitHub for any issues related to this experimental feature.\n",
      "  checkpoint = torch.load(model_path, map_location=\"cpu\")\n"
     ]
    },
    {
     "name": "stdout",
     "output_type": "stream",
     "text": [
      "Processing 9000 non-triggered images...\n",
      "Generated 1000 triggered images and 9000 clean images\n",
      "Metadata saved to: test_results/datasets/Odysseus-MNIST/Models/Model_878.pth_MNIST/dataset_metadata.csv\n",
      "Triggered dataset generated successfully at: test_results/datasets/Odysseus-MNIST/Models/Model_878.pth_MNIST\n",
      "Evaluating model: Odysseus-MNIST/Models/Model_878.pth\n",
      "Dataset directory: test_results/datasets/Odysseus-MNIST/Models/Model_878.pth_MNIST\n",
      "============================================================\n",
      "keys are : dict_keys(['net', 'Model Category', 'Architecture_Name', 'Learning_Rate', 'Loss Function', 'optimizer', 'Momentum', 'Weight decay', 'num_workers', 'Pytorch version', 'Clean_test_Loss', 'Train_loss', 'Trigerred_test_loss', 'Trigger type', 'Trigger Size', 'Trigger_location', 'Mapping', 'Normalization Type', 'Mapping Type', 'Dataset', 'Batch Size', 'trigger_fraction', 'test_clean_acc', 'test_trigerred_acc', 'epoch'])\n",
      "==> Building model..\n",
      "The Accuracies on clean samples:   99.375\n",
      "The fooling rate:  99.9\n",
      "Mapping is :  1 <class 'int'>\n",
      "Dataset statistics:\n",
      "  Total images: 10000\n",
      "  Triggered images: 1000\n",
      "  Clean images: 9000\n",
      "\n",
      "Evaluating Benign Accuracy on 9000 clean samples...\n"
     ]
    },
    {
     "name": "stderr",
     "output_type": "stream",
     "text": [
      "/home/tyler/Desktop/ResearchProject/Load_Model.py:34: FutureWarning: You are using `torch.load` with `weights_only=False` (the current default value), which uses the default pickle module implicitly. It is possible to construct malicious pickle data which will execute arbitrary code during unpickling (See https://github.com/pytorch/pytorch/blob/main/SECURITY.md#untrusted-models for more details). In a future release, the default value for `weights_only` will be flipped to `True`. This limits the functions that could be executed during unpickling. Arbitrary objects will no longer be allowed to be loaded via this mode unless they are explicitly allowlisted by the user via `torch.serialization.add_safe_globals`. We recommend you start setting `weights_only=True` for any use case where you don't have full control of the loaded file. Please open an issue on GitHub for any issues related to this experimental feature.\n",
      "  checkpoint = torch.load(model_path)\n",
      "/home/tyler/Desktop/ResearchProject/Load_Model.py:312: UserWarning: Implicit dimension choice for log_softmax has been deprecated. Change the call to include dim=X as an argument.\n",
      "  return F.log_softmax(output)\n"
     ]
    },
    {
     "name": "stdout",
     "output_type": "stream",
     "text": [
      "\n",
      "Evaluating Attack Success Rate on 1000 triggered samples...\n"
     ]
    },
    {
     "name": "stderr",
     "output_type": "stream",
     "text": [
      "Testing models:  11%|██▊                       | 11/100 [01:05<08:36,  5.81s/it]"
     ]
    },
    {
     "name": "stdout",
     "output_type": "stream",
     "text": [
      "  ✅ PASS\n",
      "\n",
      "[12/100] Testing Model_879.pth\n",
      "Architecture: Model_Google_1, Mapping: Many to Many\n",
      "  Trigger: AlphaPPattern\n",
      "  Recorded BA: 99.325%, ASR: 96.4%\n",
      "Generating triggered dataset for Model_Google_1 with MNIST\n",
      "Trigger type: AlphaPPattern, Trigger percentage: 0.1\n",
      "Processing 1000 triggered images...\n"
     ]
    },
    {
     "name": "stderr",
     "output_type": "stream",
     "text": [
      "/home/tyler/Desktop/ResearchProject/Load_Model.py:19: FutureWarning: You are using `torch.load` with `weights_only=False` (the current default value), which uses the default pickle module implicitly. It is possible to construct malicious pickle data which will execute arbitrary code during unpickling (See https://github.com/pytorch/pytorch/blob/main/SECURITY.md#untrusted-models for more details). In a future release, the default value for `weights_only` will be flipped to `True`. This limits the functions that could be executed during unpickling. Arbitrary objects will no longer be allowed to be loaded via this mode unless they are explicitly allowlisted by the user via `torch.serialization.add_safe_globals`. We recommend you start setting `weights_only=True` for any use case where you don't have full control of the loaded file. Please open an issue on GitHub for any issues related to this experimental feature.\n",
      "  checkpoint = torch.load(model_path, map_location=\"cpu\")\n"
     ]
    },
    {
     "name": "stdout",
     "output_type": "stream",
     "text": [
      "Processing 9000 non-triggered images...\n",
      "Generated 1000 triggered images and 9000 clean images\n",
      "Metadata saved to: test_results/datasets/Odysseus-MNIST/Models/Model_879.pth_MNIST/dataset_metadata.csv\n",
      "Triggered dataset generated successfully at: test_results/datasets/Odysseus-MNIST/Models/Model_879.pth_MNIST\n",
      "Evaluating model: Odysseus-MNIST/Models/Model_879.pth\n",
      "Dataset directory: test_results/datasets/Odysseus-MNIST/Models/Model_879.pth_MNIST\n",
      "============================================================\n",
      "keys are : dict_keys(['net', 'Model Category', 'Architecture_Name', 'Learning_Rate', 'Loss Function', 'optimizer', 'Momentum', 'Weight decay', 'num_workers', 'Pytorch version', 'Trigger type', 'Trigger Size', 'Mapping', 'Trigger_location', 'Normalization Type', 'Mapping Type', 'Dataset', 'Batch Size', 'trigger_fraction', 'test_clean_acc', 'test_trigerred_acc', 'epoch'])\n",
      "==> Building model..\n",
      "The Accuracies on clean samples:   99.325\n",
      "The fooling rate:  96.4\n",
      "Mapping is :  [2 9 4 0 7 3 8 1 5 6] <class 'numpy.ndarray'>\n",
      "Dataset statistics:\n",
      "  Total images: 10000\n",
      "  Triggered images: 1000\n",
      "  Clean images: 9000\n",
      "\n",
      "Evaluating Benign Accuracy on 9000 clean samples...\n"
     ]
    },
    {
     "name": "stderr",
     "output_type": "stream",
     "text": [
      "/home/tyler/Desktop/ResearchProject/Load_Model.py:34: FutureWarning: You are using `torch.load` with `weights_only=False` (the current default value), which uses the default pickle module implicitly. It is possible to construct malicious pickle data which will execute arbitrary code during unpickling (See https://github.com/pytorch/pytorch/blob/main/SECURITY.md#untrusted-models for more details). In a future release, the default value for `weights_only` will be flipped to `True`. This limits the functions that could be executed during unpickling. Arbitrary objects will no longer be allowed to be loaded via this mode unless they are explicitly allowlisted by the user via `torch.serialization.add_safe_globals`. We recommend you start setting `weights_only=True` for any use case where you don't have full control of the loaded file. Please open an issue on GitHub for any issues related to this experimental feature.\n",
      "  checkpoint = torch.load(model_path)\n",
      "/home/tyler/Desktop/ResearchProject/Load_Model.py:267: UserWarning: Implicit dimension choice for log_softmax has been deprecated. Change the call to include dim=X as an argument.\n",
      "  return F.log_softmax(output)\n"
     ]
    },
    {
     "name": "stdout",
     "output_type": "stream",
     "text": [
      "\n",
      "Evaluating Attack Success Rate on 1000 triggered samples...\n"
     ]
    },
    {
     "name": "stderr",
     "output_type": "stream",
     "text": [
      "Testing models:  12%|███                       | 12/100 [01:11<08:45,  5.97s/it]"
     ]
    },
    {
     "name": "stdout",
     "output_type": "stream",
     "text": [
      "  ✅ PASS\n",
      "\n",
      "[13/100] Testing Model_880.pth\n",
      "Architecture: Model_Google_2, Mapping: Many to Many\n",
      "  Trigger: AlphaJPattern\n",
      "  Recorded BA: 99.3625%, ASR: 98.1%\n",
      "Generating triggered dataset for Model_Google_2 with MNIST\n",
      "Trigger type: AlphaJPattern, Trigger percentage: 0.1\n",
      "Processing 1000 triggered images...\n"
     ]
    },
    {
     "name": "stderr",
     "output_type": "stream",
     "text": [
      "/home/tyler/Desktop/ResearchProject/Load_Model.py:19: FutureWarning: You are using `torch.load` with `weights_only=False` (the current default value), which uses the default pickle module implicitly. It is possible to construct malicious pickle data which will execute arbitrary code during unpickling (See https://github.com/pytorch/pytorch/blob/main/SECURITY.md#untrusted-models for more details). In a future release, the default value for `weights_only` will be flipped to `True`. This limits the functions that could be executed during unpickling. Arbitrary objects will no longer be allowed to be loaded via this mode unless they are explicitly allowlisted by the user via `torch.serialization.add_safe_globals`. We recommend you start setting `weights_only=True` for any use case where you don't have full control of the loaded file. Please open an issue on GitHub for any issues related to this experimental feature.\n",
      "  checkpoint = torch.load(model_path, map_location=\"cpu\")\n"
     ]
    },
    {
     "name": "stdout",
     "output_type": "stream",
     "text": [
      "Processing 9000 non-triggered images...\n",
      "Generated 1000 triggered images and 9000 clean images\n",
      "Metadata saved to: test_results/datasets/Odysseus-MNIST/Models/Model_880.pth_MNIST/dataset_metadata.csv\n",
      "Triggered dataset generated successfully at: test_results/datasets/Odysseus-MNIST/Models/Model_880.pth_MNIST\n",
      "Evaluating model: Odysseus-MNIST/Models/Model_880.pth\n",
      "Dataset directory: test_results/datasets/Odysseus-MNIST/Models/Model_880.pth_MNIST\n",
      "============================================================\n",
      "keys are : dict_keys(['net', 'Model Category', 'Architecture_Name', 'Learning_Rate', 'Loss Function', 'optimizer', 'Momentum', 'Weight decay', 'num_workers', 'Pytorch version', 'Trigger type', 'Trigger Size', 'Mapping', 'Trigger_location', 'Normalization Type', 'Mapping Type', 'Dataset', 'Batch Size', 'trigger_fraction', 'test_clean_acc', 'test_trigerred_acc', 'epoch'])\n",
      "==> Building model..\n",
      "The Accuracies on clean samples:   99.3625\n",
      "The fooling rate:  98.1\n",
      "Mapping is :  [7 6 9 1 3 0 5 2 4 8] <class 'numpy.ndarray'>\n",
      "Dataset statistics:\n",
      "  Total images: 10000\n",
      "  Triggered images: 1000\n",
      "  Clean images: 9000\n",
      "\n",
      "Evaluating Benign Accuracy on 9000 clean samples...\n"
     ]
    },
    {
     "name": "stderr",
     "output_type": "stream",
     "text": [
      "/home/tyler/Desktop/ResearchProject/Load_Model.py:34: FutureWarning: You are using `torch.load` with `weights_only=False` (the current default value), which uses the default pickle module implicitly. It is possible to construct malicious pickle data which will execute arbitrary code during unpickling (See https://github.com/pytorch/pytorch/blob/main/SECURITY.md#untrusted-models for more details). In a future release, the default value for `weights_only` will be flipped to `True`. This limits the functions that could be executed during unpickling. Arbitrary objects will no longer be allowed to be loaded via this mode unless they are explicitly allowlisted by the user via `torch.serialization.add_safe_globals`. We recommend you start setting `weights_only=True` for any use case where you don't have full control of the loaded file. Please open an issue on GitHub for any issues related to this experimental feature.\n",
      "  checkpoint = torch.load(model_path)\n",
      "/home/tyler/Desktop/ResearchProject/Load_Model.py:312: UserWarning: Implicit dimension choice for log_softmax has been deprecated. Change the call to include dim=X as an argument.\n",
      "  return F.log_softmax(output)\n"
     ]
    },
    {
     "name": "stdout",
     "output_type": "stream",
     "text": [
      "\n",
      "Evaluating Attack Success Rate on 1000 triggered samples...\n"
     ]
    },
    {
     "name": "stderr",
     "output_type": "stream",
     "text": [
      "Testing models:  13%|███▍                      | 13/100 [01:17<08:16,  5.71s/it]"
     ]
    },
    {
     "name": "stdout",
     "output_type": "stream",
     "text": [
      "  ✅ PASS\n",
      "\n",
      "[14/100] Testing Model_881.pth\n",
      "Architecture: Model_Google_1, Mapping: Many to One\n",
      "  Trigger: AlphaDO2Pattern\n",
      "  Recorded BA: 99.25%, ASR: 99.1%\n",
      "Generating triggered dataset for Model_Google_1 with MNIST\n",
      "Trigger type: AlphaDO2Pattern, Trigger percentage: 0.1\n",
      "Processing 1000 triggered images...\n"
     ]
    },
    {
     "name": "stderr",
     "output_type": "stream",
     "text": [
      "/home/tyler/Desktop/ResearchProject/Load_Model.py:19: FutureWarning: You are using `torch.load` with `weights_only=False` (the current default value), which uses the default pickle module implicitly. It is possible to construct malicious pickle data which will execute arbitrary code during unpickling (See https://github.com/pytorch/pytorch/blob/main/SECURITY.md#untrusted-models for more details). In a future release, the default value for `weights_only` will be flipped to `True`. This limits the functions that could be executed during unpickling. Arbitrary objects will no longer be allowed to be loaded via this mode unless they are explicitly allowlisted by the user via `torch.serialization.add_safe_globals`. We recommend you start setting `weights_only=True` for any use case where you don't have full control of the loaded file. Please open an issue on GitHub for any issues related to this experimental feature.\n",
      "  checkpoint = torch.load(model_path, map_location=\"cpu\")\n"
     ]
    },
    {
     "name": "stdout",
     "output_type": "stream",
     "text": [
      "Processing 9000 non-triggered images...\n",
      "Generated 1000 triggered images and 9000 clean images\n",
      "Metadata saved to: test_results/datasets/Odysseus-MNIST/Models/Model_881.pth_MNIST/dataset_metadata.csv\n",
      "Triggered dataset generated successfully at: test_results/datasets/Odysseus-MNIST/Models/Model_881.pth_MNIST\n",
      "Evaluating model: Odysseus-MNIST/Models/Model_881.pth\n",
      "Dataset directory: test_results/datasets/Odysseus-MNIST/Models/Model_881.pth_MNIST\n",
      "============================================================\n",
      "keys are : dict_keys(['net', 'Model Category', 'Architecture_Name', 'Learning_Rate', 'Loss Function', 'optimizer', 'Momentum', 'Weight decay', 'num_workers', 'Pytorch version', 'Clean_test_Loss', 'Train_loss', 'Trigerred_test_loss', 'Trigger type', 'Trigger Size', 'Trigger_location', 'Mapping', 'Normalization Type', 'Mapping Type', 'Dataset', 'Batch Size', 'trigger_fraction', 'test_clean_acc', 'test_trigerred_acc', 'epoch'])\n",
      "==> Building model..\n",
      "The Accuracies on clean samples:   99.25\n",
      "The fooling rate:  99.1\n",
      "Mapping is :  2 <class 'int'>\n",
      "Dataset statistics:\n",
      "  Total images: 10000\n",
      "  Triggered images: 1000\n",
      "  Clean images: 9000\n",
      "\n",
      "Evaluating Benign Accuracy on 9000 clean samples...\n"
     ]
    },
    {
     "name": "stderr",
     "output_type": "stream",
     "text": [
      "/home/tyler/Desktop/ResearchProject/Load_Model.py:34: FutureWarning: You are using `torch.load` with `weights_only=False` (the current default value), which uses the default pickle module implicitly. It is possible to construct malicious pickle data which will execute arbitrary code during unpickling (See https://github.com/pytorch/pytorch/blob/main/SECURITY.md#untrusted-models for more details). In a future release, the default value for `weights_only` will be flipped to `True`. This limits the functions that could be executed during unpickling. Arbitrary objects will no longer be allowed to be loaded via this mode unless they are explicitly allowlisted by the user via `torch.serialization.add_safe_globals`. We recommend you start setting `weights_only=True` for any use case where you don't have full control of the loaded file. Please open an issue on GitHub for any issues related to this experimental feature.\n",
      "  checkpoint = torch.load(model_path)\n",
      "/home/tyler/Desktop/ResearchProject/Load_Model.py:267: UserWarning: Implicit dimension choice for log_softmax has been deprecated. Change the call to include dim=X as an argument.\n",
      "  return F.log_softmax(output)\n"
     ]
    },
    {
     "name": "stdout",
     "output_type": "stream",
     "text": [
      "\n",
      "Evaluating Attack Success Rate on 1000 triggered samples...\n"
     ]
    },
    {
     "name": "stderr",
     "output_type": "stream",
     "text": [
      "Testing models:  14%|███▋                      | 14/100 [01:23<08:29,  5.92s/it]"
     ]
    },
    {
     "name": "stdout",
     "output_type": "stream",
     "text": [
      "  ✅ PASS\n",
      "\n",
      "[15/100] Testing Model_882.pth\n",
      "Architecture: Model_Google_1, Mapping: Many to One\n",
      "  Trigger: AlphaZPattern\n",
      "  Recorded BA: 99.3125%, ASR: 99.4%\n",
      "Generating triggered dataset for Model_Google_1 with MNIST\n",
      "Trigger type: AlphaZPattern, Trigger percentage: 0.1\n",
      "Processing 1000 triggered images...\n"
     ]
    },
    {
     "name": "stderr",
     "output_type": "stream",
     "text": [
      "/home/tyler/Desktop/ResearchProject/Load_Model.py:19: FutureWarning: You are using `torch.load` with `weights_only=False` (the current default value), which uses the default pickle module implicitly. It is possible to construct malicious pickle data which will execute arbitrary code during unpickling (See https://github.com/pytorch/pytorch/blob/main/SECURITY.md#untrusted-models for more details). In a future release, the default value for `weights_only` will be flipped to `True`. This limits the functions that could be executed during unpickling. Arbitrary objects will no longer be allowed to be loaded via this mode unless they are explicitly allowlisted by the user via `torch.serialization.add_safe_globals`. We recommend you start setting `weights_only=True` for any use case where you don't have full control of the loaded file. Please open an issue on GitHub for any issues related to this experimental feature.\n",
      "  checkpoint = torch.load(model_path, map_location=\"cpu\")\n"
     ]
    },
    {
     "name": "stdout",
     "output_type": "stream",
     "text": [
      "Processing 9000 non-triggered images...\n",
      "Generated 1000 triggered images and 9000 clean images\n",
      "Metadata saved to: test_results/datasets/Odysseus-MNIST/Models/Model_882.pth_MNIST/dataset_metadata.csv\n",
      "Triggered dataset generated successfully at: test_results/datasets/Odysseus-MNIST/Models/Model_882.pth_MNIST\n",
      "Evaluating model: Odysseus-MNIST/Models/Model_882.pth\n",
      "Dataset directory: test_results/datasets/Odysseus-MNIST/Models/Model_882.pth_MNIST\n",
      "============================================================\n",
      "keys are : dict_keys(['net', 'Model Category', 'Architecture_Name', 'Learning_Rate', 'Loss Function', 'optimizer', 'Momentum', 'Weight decay', 'num_workers', 'Pytorch version', 'Clean_test_Loss', 'Train_loss', 'Trigerred_test_loss', 'Trigger type', 'Trigger Size', 'Trigger_location', 'Mapping', 'Normalization Type', 'Mapping Type', 'Dataset', 'Batch Size', 'trigger_fraction', 'test_clean_acc', 'test_trigerred_acc', 'epoch'])\n",
      "==> Building model..\n",
      "The Accuracies on clean samples:   99.3125\n",
      "The fooling rate:  99.4\n",
      "Mapping is :  7 <class 'int'>\n",
      "Dataset statistics:\n",
      "  Total images: 10000\n",
      "  Triggered images: 1000\n",
      "  Clean images: 9000\n",
      "\n",
      "Evaluating Benign Accuracy on 9000 clean samples...\n"
     ]
    },
    {
     "name": "stderr",
     "output_type": "stream",
     "text": [
      "/home/tyler/Desktop/ResearchProject/Load_Model.py:34: FutureWarning: You are using `torch.load` with `weights_only=False` (the current default value), which uses the default pickle module implicitly. It is possible to construct malicious pickle data which will execute arbitrary code during unpickling (See https://github.com/pytorch/pytorch/blob/main/SECURITY.md#untrusted-models for more details). In a future release, the default value for `weights_only` will be flipped to `True`. This limits the functions that could be executed during unpickling. Arbitrary objects will no longer be allowed to be loaded via this mode unless they are explicitly allowlisted by the user via `torch.serialization.add_safe_globals`. We recommend you start setting `weights_only=True` for any use case where you don't have full control of the loaded file. Please open an issue on GitHub for any issues related to this experimental feature.\n",
      "  checkpoint = torch.load(model_path)\n",
      "/home/tyler/Desktop/ResearchProject/Load_Model.py:267: UserWarning: Implicit dimension choice for log_softmax has been deprecated. Change the call to include dim=X as an argument.\n",
      "  return F.log_softmax(output)\n"
     ]
    },
    {
     "name": "stdout",
     "output_type": "stream",
     "text": [
      "\n",
      "Evaluating Attack Success Rate on 1000 triggered samples...\n"
     ]
    },
    {
     "name": "stderr",
     "output_type": "stream",
     "text": [
      "Testing models:  15%|███▉                      | 15/100 [01:29<08:35,  6.07s/it]"
     ]
    },
    {
     "name": "stdout",
     "output_type": "stream",
     "text": [
      "  ✅ PASS\n",
      "\n",
      "[16/100] Testing Model_883.pth\n",
      "Architecture: Model_Google_3, Mapping: Many to One\n",
      "  Trigger: AlphaZPattern\n",
      "  Recorded BA: 99.3875%, ASR: 99.0%\n",
      "Generating triggered dataset for Model_Google_3 with MNIST\n",
      "Trigger type: AlphaZPattern, Trigger percentage: 0.1\n",
      "Processing 1000 triggered images...\n"
     ]
    },
    {
     "name": "stderr",
     "output_type": "stream",
     "text": [
      "/home/tyler/Desktop/ResearchProject/Load_Model.py:19: FutureWarning: You are using `torch.load` with `weights_only=False` (the current default value), which uses the default pickle module implicitly. It is possible to construct malicious pickle data which will execute arbitrary code during unpickling (See https://github.com/pytorch/pytorch/blob/main/SECURITY.md#untrusted-models for more details). In a future release, the default value for `weights_only` will be flipped to `True`. This limits the functions that could be executed during unpickling. Arbitrary objects will no longer be allowed to be loaded via this mode unless they are explicitly allowlisted by the user via `torch.serialization.add_safe_globals`. We recommend you start setting `weights_only=True` for any use case where you don't have full control of the loaded file. Please open an issue on GitHub for any issues related to this experimental feature.\n",
      "  checkpoint = torch.load(model_path, map_location=\"cpu\")\n"
     ]
    },
    {
     "name": "stdout",
     "output_type": "stream",
     "text": [
      "Processing 9000 non-triggered images...\n",
      "Generated 1000 triggered images and 9000 clean images\n",
      "Metadata saved to: test_results/datasets/Odysseus-MNIST/Models/Model_883.pth_MNIST/dataset_metadata.csv\n",
      "Triggered dataset generated successfully at: test_results/datasets/Odysseus-MNIST/Models/Model_883.pth_MNIST\n",
      "Evaluating model: Odysseus-MNIST/Models/Model_883.pth\n",
      "Dataset directory: test_results/datasets/Odysseus-MNIST/Models/Model_883.pth_MNIST\n",
      "============================================================\n",
      "keys are : dict_keys(['net', 'Model Category', 'Architecture_Name', 'Learning_Rate', 'Loss Function', 'optimizer', 'Momentum', 'Weight decay', 'num_workers', 'Pytorch version', 'Clean_test_Loss', 'Train_loss', 'Trigerred_test_loss', 'Trigger type', 'Trigger Size', 'Trigger_location', 'Mapping', 'Normalization Type', 'Mapping Type', 'Dataset', 'Batch Size', 'trigger_fraction', 'test_clean_acc', 'test_trigerred_acc', 'epoch'])\n",
      "==> Building model..\n",
      "The Accuracies on clean samples:   99.3875\n",
      "The fooling rate:  99.0\n",
      "Mapping is :  1 <class 'int'>\n",
      "Dataset statistics:\n",
      "  Total images: 10000\n",
      "  Triggered images: 1000\n",
      "  Clean images: 9000\n",
      "\n",
      "Evaluating Benign Accuracy on 9000 clean samples...\n"
     ]
    },
    {
     "name": "stderr",
     "output_type": "stream",
     "text": [
      "/home/tyler/Desktop/ResearchProject/Load_Model.py:34: FutureWarning: You are using `torch.load` with `weights_only=False` (the current default value), which uses the default pickle module implicitly. It is possible to construct malicious pickle data which will execute arbitrary code during unpickling (See https://github.com/pytorch/pytorch/blob/main/SECURITY.md#untrusted-models for more details). In a future release, the default value for `weights_only` will be flipped to `True`. This limits the functions that could be executed during unpickling. Arbitrary objects will no longer be allowed to be loaded via this mode unless they are explicitly allowlisted by the user via `torch.serialization.add_safe_globals`. We recommend you start setting `weights_only=True` for any use case where you don't have full control of the loaded file. Please open an issue on GitHub for any issues related to this experimental feature.\n",
      "  checkpoint = torch.load(model_path)\n",
      "/home/tyler/Desktop/ResearchProject/Load_Model.py:510: UserWarning: Implicit dimension choice for log_softmax has been deprecated. Change the call to include dim=X as an argument.\n",
      "  return F.log_softmax(output)\n"
     ]
    },
    {
     "name": "stdout",
     "output_type": "stream",
     "text": [
      "\n",
      "Evaluating Attack Success Rate on 1000 triggered samples...\n"
     ]
    },
    {
     "name": "stderr",
     "output_type": "stream",
     "text": [
      "Testing models:  16%|████▏                     | 16/100 [01:35<08:21,  5.97s/it]"
     ]
    },
    {
     "name": "stdout",
     "output_type": "stream",
     "text": [
      "  ✅ PASS\n",
      "\n",
      "[17/100] Testing Model_884.pth\n",
      "Architecture: Model_Google_3, Mapping: Many to Many\n",
      "  Trigger: AlphaDO2Pattern\n",
      "  Recorded BA: 99.1875%, ASR: 96.6%\n",
      "Generating triggered dataset for Model_Google_3 with MNIST\n",
      "Trigger type: AlphaDO2Pattern, Trigger percentage: 0.1\n",
      "Processing 1000 triggered images...\n"
     ]
    },
    {
     "name": "stderr",
     "output_type": "stream",
     "text": [
      "/home/tyler/Desktop/ResearchProject/Load_Model.py:19: FutureWarning: You are using `torch.load` with `weights_only=False` (the current default value), which uses the default pickle module implicitly. It is possible to construct malicious pickle data which will execute arbitrary code during unpickling (See https://github.com/pytorch/pytorch/blob/main/SECURITY.md#untrusted-models for more details). In a future release, the default value for `weights_only` will be flipped to `True`. This limits the functions that could be executed during unpickling. Arbitrary objects will no longer be allowed to be loaded via this mode unless they are explicitly allowlisted by the user via `torch.serialization.add_safe_globals`. We recommend you start setting `weights_only=True` for any use case where you don't have full control of the loaded file. Please open an issue on GitHub for any issues related to this experimental feature.\n",
      "  checkpoint = torch.load(model_path, map_location=\"cpu\")\n"
     ]
    },
    {
     "name": "stdout",
     "output_type": "stream",
     "text": [
      "Processing 9000 non-triggered images...\n",
      "Generated 1000 triggered images and 9000 clean images\n",
      "Metadata saved to: test_results/datasets/Odysseus-MNIST/Models/Model_884.pth_MNIST/dataset_metadata.csv\n",
      "Triggered dataset generated successfully at: test_results/datasets/Odysseus-MNIST/Models/Model_884.pth_MNIST\n",
      "Evaluating model: Odysseus-MNIST/Models/Model_884.pth\n",
      "Dataset directory: test_results/datasets/Odysseus-MNIST/Models/Model_884.pth_MNIST\n",
      "============================================================\n",
      "keys are : dict_keys(['net', 'Model Category', 'Architecture_Name', 'Learning_Rate', 'Loss Function', 'optimizer', 'Momentum', 'Weight decay', 'num_workers', 'Pytorch version', 'Trigger type', 'Trigger Size', 'Mapping', 'Trigger_location', 'Normalization Type', 'Mapping Type', 'Dataset', 'Batch Size', 'trigger_fraction', 'test_clean_acc', 'test_trigerred_acc', 'epoch'])\n",
      "==> Building model..\n",
      "The Accuracies on clean samples:   99.1875\n",
      "The fooling rate:  96.6\n",
      "Mapping is :  [7 3 9 0 2 8 1 5 4 6] <class 'numpy.ndarray'>\n",
      "Dataset statistics:\n",
      "  Total images: 10000\n",
      "  Triggered images: 1000\n",
      "  Clean images: 9000\n",
      "\n",
      "Evaluating Benign Accuracy on 9000 clean samples...\n"
     ]
    },
    {
     "name": "stderr",
     "output_type": "stream",
     "text": [
      "/home/tyler/Desktop/ResearchProject/Load_Model.py:34: FutureWarning: You are using `torch.load` with `weights_only=False` (the current default value), which uses the default pickle module implicitly. It is possible to construct malicious pickle data which will execute arbitrary code during unpickling (See https://github.com/pytorch/pytorch/blob/main/SECURITY.md#untrusted-models for more details). In a future release, the default value for `weights_only` will be flipped to `True`. This limits the functions that could be executed during unpickling. Arbitrary objects will no longer be allowed to be loaded via this mode unless they are explicitly allowlisted by the user via `torch.serialization.add_safe_globals`. We recommend you start setting `weights_only=True` for any use case where you don't have full control of the loaded file. Please open an issue on GitHub for any issues related to this experimental feature.\n",
      "  checkpoint = torch.load(model_path)\n",
      "/home/tyler/Desktop/ResearchProject/Load_Model.py:510: UserWarning: Implicit dimension choice for log_softmax has been deprecated. Change the call to include dim=X as an argument.\n",
      "  return F.log_softmax(output)\n"
     ]
    },
    {
     "name": "stdout",
     "output_type": "stream",
     "text": [
      "\n",
      "Evaluating Attack Success Rate on 1000 triggered samples...\n"
     ]
    },
    {
     "name": "stderr",
     "output_type": "stream",
     "text": [
      "Testing models:  17%|████▍                     | 17/100 [01:41<08:10,  5.91s/it]"
     ]
    },
    {
     "name": "stdout",
     "output_type": "stream",
     "text": [
      "  ✅ PASS\n",
      "\n",
      "[18/100] Testing Model_885.pth\n",
      "Architecture: Model_Google_2, Mapping: Many to Many\n",
      "  Trigger: AlphaLPattern\n",
      "  Recorded BA: 99.3625%, ASR: 98.15%\n",
      "Generating triggered dataset for Model_Google_2 with MNIST\n",
      "Trigger type: AlphaLPattern, Trigger percentage: 0.1\n",
      "Processing 1000 triggered images...\n"
     ]
    },
    {
     "name": "stderr",
     "output_type": "stream",
     "text": [
      "/home/tyler/Desktop/ResearchProject/Load_Model.py:19: FutureWarning: You are using `torch.load` with `weights_only=False` (the current default value), which uses the default pickle module implicitly. It is possible to construct malicious pickle data which will execute arbitrary code during unpickling (See https://github.com/pytorch/pytorch/blob/main/SECURITY.md#untrusted-models for more details). In a future release, the default value for `weights_only` will be flipped to `True`. This limits the functions that could be executed during unpickling. Arbitrary objects will no longer be allowed to be loaded via this mode unless they are explicitly allowlisted by the user via `torch.serialization.add_safe_globals`. We recommend you start setting `weights_only=True` for any use case where you don't have full control of the loaded file. Please open an issue on GitHub for any issues related to this experimental feature.\n",
      "  checkpoint = torch.load(model_path, map_location=\"cpu\")\n"
     ]
    },
    {
     "name": "stdout",
     "output_type": "stream",
     "text": [
      "Processing 9000 non-triggered images...\n",
      "Generated 1000 triggered images and 9000 clean images\n",
      "Metadata saved to: test_results/datasets/Odysseus-MNIST/Models/Model_885.pth_MNIST/dataset_metadata.csv\n",
      "Triggered dataset generated successfully at: test_results/datasets/Odysseus-MNIST/Models/Model_885.pth_MNIST\n",
      "Evaluating model: Odysseus-MNIST/Models/Model_885.pth\n",
      "Dataset directory: test_results/datasets/Odysseus-MNIST/Models/Model_885.pth_MNIST\n",
      "============================================================\n",
      "keys are : dict_keys(['net', 'Model Category', 'Architecture_Name', 'Learning_Rate', 'Loss Function', 'optimizer', 'Momentum', 'Weight decay', 'num_workers', 'Pytorch version', 'Trigger type', 'Trigger Size', 'Mapping', 'Trigger_location', 'Normalization Type', 'Mapping Type', 'Dataset', 'Batch Size', 'trigger_fraction', 'test_clean_acc', 'test_trigerred_acc', 'epoch'])\n",
      "==> Building model..\n",
      "The Accuracies on clean samples:   99.3625\n",
      "The fooling rate:  98.15\n",
      "Mapping is :  [4 7 6 0 8 1 3 9 5 2] <class 'numpy.ndarray'>\n",
      "Dataset statistics:\n",
      "  Total images: 10000\n",
      "  Triggered images: 1000\n",
      "  Clean images: 9000\n",
      "\n",
      "Evaluating Benign Accuracy on 9000 clean samples...\n"
     ]
    },
    {
     "name": "stderr",
     "output_type": "stream",
     "text": [
      "/home/tyler/Desktop/ResearchProject/Load_Model.py:34: FutureWarning: You are using `torch.load` with `weights_only=False` (the current default value), which uses the default pickle module implicitly. It is possible to construct malicious pickle data which will execute arbitrary code during unpickling (See https://github.com/pytorch/pytorch/blob/main/SECURITY.md#untrusted-models for more details). In a future release, the default value for `weights_only` will be flipped to `True`. This limits the functions that could be executed during unpickling. Arbitrary objects will no longer be allowed to be loaded via this mode unless they are explicitly allowlisted by the user via `torch.serialization.add_safe_globals`. We recommend you start setting `weights_only=True` for any use case where you don't have full control of the loaded file. Please open an issue on GitHub for any issues related to this experimental feature.\n",
      "  checkpoint = torch.load(model_path)\n",
      "/home/tyler/Desktop/ResearchProject/Load_Model.py:312: UserWarning: Implicit dimension choice for log_softmax has been deprecated. Change the call to include dim=X as an argument.\n",
      "  return F.log_softmax(output)\n"
     ]
    },
    {
     "name": "stdout",
     "output_type": "stream",
     "text": [
      "\n",
      "Evaluating Attack Success Rate on 1000 triggered samples...\n"
     ]
    },
    {
     "name": "stderr",
     "output_type": "stream",
     "text": [
      "Testing models:  18%|████▋                     | 18/100 [01:46<07:44,  5.67s/it]"
     ]
    },
    {
     "name": "stdout",
     "output_type": "stream",
     "text": [
      "  ✅ PASS\n",
      "\n",
      "[19/100] Testing Model_886.pth\n",
      "Architecture: Model_Google_2, Mapping: Many to Many\n",
      "  Trigger: AlphaDO2Pattern\n",
      "  Recorded BA: 99.35%, ASR: 98.15%\n",
      "Generating triggered dataset for Model_Google_2 with MNIST\n",
      "Trigger type: AlphaDO2Pattern, Trigger percentage: 0.1\n",
      "Processing 1000 triggered images...\n"
     ]
    },
    {
     "name": "stderr",
     "output_type": "stream",
     "text": [
      "/home/tyler/Desktop/ResearchProject/Load_Model.py:19: FutureWarning: You are using `torch.load` with `weights_only=False` (the current default value), which uses the default pickle module implicitly. It is possible to construct malicious pickle data which will execute arbitrary code during unpickling (See https://github.com/pytorch/pytorch/blob/main/SECURITY.md#untrusted-models for more details). In a future release, the default value for `weights_only` will be flipped to `True`. This limits the functions that could be executed during unpickling. Arbitrary objects will no longer be allowed to be loaded via this mode unless they are explicitly allowlisted by the user via `torch.serialization.add_safe_globals`. We recommend you start setting `weights_only=True` for any use case where you don't have full control of the loaded file. Please open an issue on GitHub for any issues related to this experimental feature.\n",
      "  checkpoint = torch.load(model_path, map_location=\"cpu\")\n"
     ]
    },
    {
     "name": "stdout",
     "output_type": "stream",
     "text": [
      "Processing 9000 non-triggered images...\n",
      "Generated 1000 triggered images and 9000 clean images\n",
      "Metadata saved to: test_results/datasets/Odysseus-MNIST/Models/Model_886.pth_MNIST/dataset_metadata.csv\n",
      "Triggered dataset generated successfully at: test_results/datasets/Odysseus-MNIST/Models/Model_886.pth_MNIST\n",
      "Evaluating model: Odysseus-MNIST/Models/Model_886.pth\n",
      "Dataset directory: test_results/datasets/Odysseus-MNIST/Models/Model_886.pth_MNIST\n",
      "============================================================\n",
      "keys are : dict_keys(['net', 'Model Category', 'Architecture_Name', 'Learning_Rate', 'Loss Function', 'optimizer', 'Momentum', 'Weight decay', 'num_workers', 'Pytorch version', 'Trigger type', 'Trigger Size', 'Mapping', 'Trigger_location', 'Normalization Type', 'Mapping Type', 'Dataset', 'Batch Size', 'trigger_fraction', 'test_clean_acc', 'test_trigerred_acc', 'epoch'])\n",
      "==> Building model..\n",
      "The Accuracies on clean samples:   99.35\n",
      "The fooling rate:  98.15\n",
      "Mapping is :  [4 9 7 8 1 6 3 0 2 5] <class 'numpy.ndarray'>\n",
      "Dataset statistics:\n",
      "  Total images: 10000\n",
      "  Triggered images: 1000\n",
      "  Clean images: 9000\n",
      "\n",
      "Evaluating Benign Accuracy on 9000 clean samples...\n"
     ]
    },
    {
     "name": "stderr",
     "output_type": "stream",
     "text": [
      "/home/tyler/Desktop/ResearchProject/Load_Model.py:34: FutureWarning: You are using `torch.load` with `weights_only=False` (the current default value), which uses the default pickle module implicitly. It is possible to construct malicious pickle data which will execute arbitrary code during unpickling (See https://github.com/pytorch/pytorch/blob/main/SECURITY.md#untrusted-models for more details). In a future release, the default value for `weights_only` will be flipped to `True`. This limits the functions that could be executed during unpickling. Arbitrary objects will no longer be allowed to be loaded via this mode unless they are explicitly allowlisted by the user via `torch.serialization.add_safe_globals`. We recommend you start setting `weights_only=True` for any use case where you don't have full control of the loaded file. Please open an issue on GitHub for any issues related to this experimental feature.\n",
      "  checkpoint = torch.load(model_path)\n",
      "/home/tyler/Desktop/ResearchProject/Load_Model.py:312: UserWarning: Implicit dimension choice for log_softmax has been deprecated. Change the call to include dim=X as an argument.\n",
      "  return F.log_softmax(output)\n"
     ]
    },
    {
     "name": "stdout",
     "output_type": "stream",
     "text": [
      "\n",
      "Evaluating Attack Success Rate on 1000 triggered samples...\n"
     ]
    },
    {
     "name": "stderr",
     "output_type": "stream",
     "text": [
      "Testing models:  19%|████▉                     | 19/100 [01:51<07:25,  5.50s/it]"
     ]
    },
    {
     "name": "stdout",
     "output_type": "stream",
     "text": [
      "  ✅ PASS\n",
      "\n",
      "[20/100] Testing Model_887.pth\n",
      "Architecture: Model_Google_1, Mapping: Many to Many\n",
      "  Trigger: AlphaDO2Pattern\n",
      "  Recorded BA: 99.3%, ASR: 96.65%\n",
      "Generating triggered dataset for Model_Google_1 with MNIST\n",
      "Trigger type: AlphaDO2Pattern, Trigger percentage: 0.1\n",
      "Processing 1000 triggered images...\n"
     ]
    },
    {
     "name": "stderr",
     "output_type": "stream",
     "text": [
      "/home/tyler/Desktop/ResearchProject/Load_Model.py:19: FutureWarning: You are using `torch.load` with `weights_only=False` (the current default value), which uses the default pickle module implicitly. It is possible to construct malicious pickle data which will execute arbitrary code during unpickling (See https://github.com/pytorch/pytorch/blob/main/SECURITY.md#untrusted-models for more details). In a future release, the default value for `weights_only` will be flipped to `True`. This limits the functions that could be executed during unpickling. Arbitrary objects will no longer be allowed to be loaded via this mode unless they are explicitly allowlisted by the user via `torch.serialization.add_safe_globals`. We recommend you start setting `weights_only=True` for any use case where you don't have full control of the loaded file. Please open an issue on GitHub for any issues related to this experimental feature.\n",
      "  checkpoint = torch.load(model_path, map_location=\"cpu\")\n"
     ]
    },
    {
     "name": "stdout",
     "output_type": "stream",
     "text": [
      "Processing 9000 non-triggered images...\n",
      "Generated 1000 triggered images and 9000 clean images\n",
      "Metadata saved to: test_results/datasets/Odysseus-MNIST/Models/Model_887.pth_MNIST/dataset_metadata.csv\n",
      "Triggered dataset generated successfully at: test_results/datasets/Odysseus-MNIST/Models/Model_887.pth_MNIST\n",
      "Evaluating model: Odysseus-MNIST/Models/Model_887.pth\n",
      "Dataset directory: test_results/datasets/Odysseus-MNIST/Models/Model_887.pth_MNIST\n",
      "============================================================\n",
      "keys are : dict_keys(['net', 'Model Category', 'Architecture_Name', 'Learning_Rate', 'Loss Function', 'optimizer', 'Momentum', 'Weight decay', 'num_workers', 'Pytorch version', 'Trigger type', 'Trigger Size', 'Mapping', 'Trigger_location', 'Normalization Type', 'Mapping Type', 'Dataset', 'Batch Size', 'trigger_fraction', 'test_clean_acc', 'test_trigerred_acc', 'epoch'])\n",
      "==> Building model..\n",
      "The Accuracies on clean samples:   99.3\n",
      "The fooling rate:  96.65\n",
      "Mapping is :  [4 9 1 5 6 2 7 8 3 0] <class 'numpy.ndarray'>\n",
      "Dataset statistics:\n",
      "  Total images: 10000\n",
      "  Triggered images: 1000\n",
      "  Clean images: 9000\n",
      "\n",
      "Evaluating Benign Accuracy on 9000 clean samples...\n"
     ]
    },
    {
     "name": "stderr",
     "output_type": "stream",
     "text": [
      "/home/tyler/Desktop/ResearchProject/Load_Model.py:34: FutureWarning: You are using `torch.load` with `weights_only=False` (the current default value), which uses the default pickle module implicitly. It is possible to construct malicious pickle data which will execute arbitrary code during unpickling (See https://github.com/pytorch/pytorch/blob/main/SECURITY.md#untrusted-models for more details). In a future release, the default value for `weights_only` will be flipped to `True`. This limits the functions that could be executed during unpickling. Arbitrary objects will no longer be allowed to be loaded via this mode unless they are explicitly allowlisted by the user via `torch.serialization.add_safe_globals`. We recommend you start setting `weights_only=True` for any use case where you don't have full control of the loaded file. Please open an issue on GitHub for any issues related to this experimental feature.\n",
      "  checkpoint = torch.load(model_path)\n",
      "/home/tyler/Desktop/ResearchProject/Load_Model.py:267: UserWarning: Implicit dimension choice for log_softmax has been deprecated. Change the call to include dim=X as an argument.\n",
      "  return F.log_softmax(output)\n"
     ]
    },
    {
     "name": "stdout",
     "output_type": "stream",
     "text": [
      "\n",
      "Evaluating Attack Success Rate on 1000 triggered samples...\n"
     ]
    },
    {
     "name": "stderr",
     "output_type": "stream",
     "text": [
      "Testing models:  20%|█████▏                    | 20/100 [01:57<07:41,  5.76s/it]"
     ]
    },
    {
     "name": "stdout",
     "output_type": "stream",
     "text": [
      "  ✅ PASS\n",
      "\n",
      "[21/100] Testing Model_888.pth\n",
      "Architecture: Model_Google_2, Mapping: Many to One\n",
      "  Trigger: AlphaLPattern\n",
      "  Recorded BA: 99.3625%, ASR: 99.9%\n",
      "Generating triggered dataset for Model_Google_2 with MNIST\n",
      "Trigger type: AlphaLPattern, Trigger percentage: 0.1\n",
      "Processing 1000 triggered images...\n"
     ]
    },
    {
     "name": "stderr",
     "output_type": "stream",
     "text": [
      "/home/tyler/Desktop/ResearchProject/Load_Model.py:19: FutureWarning: You are using `torch.load` with `weights_only=False` (the current default value), which uses the default pickle module implicitly. It is possible to construct malicious pickle data which will execute arbitrary code during unpickling (See https://github.com/pytorch/pytorch/blob/main/SECURITY.md#untrusted-models for more details). In a future release, the default value for `weights_only` will be flipped to `True`. This limits the functions that could be executed during unpickling. Arbitrary objects will no longer be allowed to be loaded via this mode unless they are explicitly allowlisted by the user via `torch.serialization.add_safe_globals`. We recommend you start setting `weights_only=True` for any use case where you don't have full control of the loaded file. Please open an issue on GitHub for any issues related to this experimental feature.\n",
      "  checkpoint = torch.load(model_path, map_location=\"cpu\")\n"
     ]
    },
    {
     "name": "stdout",
     "output_type": "stream",
     "text": [
      "Processing 9000 non-triggered images...\n",
      "Generated 1000 triggered images and 9000 clean images\n",
      "Metadata saved to: test_results/datasets/Odysseus-MNIST/Models/Model_888.pth_MNIST/dataset_metadata.csv\n",
      "Triggered dataset generated successfully at: test_results/datasets/Odysseus-MNIST/Models/Model_888.pth_MNIST\n",
      "Evaluating model: Odysseus-MNIST/Models/Model_888.pth\n",
      "Dataset directory: test_results/datasets/Odysseus-MNIST/Models/Model_888.pth_MNIST\n",
      "============================================================\n",
      "keys are : dict_keys(['net', 'Model Category', 'Architecture_Name', 'Learning_Rate', 'Loss Function', 'optimizer', 'Momentum', 'Weight decay', 'num_workers', 'Pytorch version', 'Clean_test_Loss', 'Train_loss', 'Trigerred_test_loss', 'Trigger type', 'Trigger Size', 'Trigger_location', 'Mapping', 'Normalization Type', 'Mapping Type', 'Dataset', 'Batch Size', 'trigger_fraction', 'test_clean_acc', 'test_trigerred_acc', 'epoch'])\n",
      "==> Building model..\n",
      "The Accuracies on clean samples:   99.3625\n",
      "The fooling rate:  99.9\n",
      "Mapping is :  3 <class 'int'>\n",
      "Dataset statistics:\n",
      "  Total images: 10000\n",
      "  Triggered images: 1000\n",
      "  Clean images: 9000\n",
      "\n",
      "Evaluating Benign Accuracy on 9000 clean samples...\n"
     ]
    },
    {
     "name": "stderr",
     "output_type": "stream",
     "text": [
      "/home/tyler/Desktop/ResearchProject/Load_Model.py:34: FutureWarning: You are using `torch.load` with `weights_only=False` (the current default value), which uses the default pickle module implicitly. It is possible to construct malicious pickle data which will execute arbitrary code during unpickling (See https://github.com/pytorch/pytorch/blob/main/SECURITY.md#untrusted-models for more details). In a future release, the default value for `weights_only` will be flipped to `True`. This limits the functions that could be executed during unpickling. Arbitrary objects will no longer be allowed to be loaded via this mode unless they are explicitly allowlisted by the user via `torch.serialization.add_safe_globals`. We recommend you start setting `weights_only=True` for any use case where you don't have full control of the loaded file. Please open an issue on GitHub for any issues related to this experimental feature.\n",
      "  checkpoint = torch.load(model_path)\n",
      "/home/tyler/Desktop/ResearchProject/Load_Model.py:312: UserWarning: Implicit dimension choice for log_softmax has been deprecated. Change the call to include dim=X as an argument.\n",
      "  return F.log_softmax(output)\n"
     ]
    },
    {
     "name": "stdout",
     "output_type": "stream",
     "text": [
      "\n",
      "Evaluating Attack Success Rate on 1000 triggered samples...\n"
     ]
    },
    {
     "name": "stderr",
     "output_type": "stream",
     "text": [
      "Testing models:  21%|█████▍                    | 21/100 [02:03<07:19,  5.56s/it]"
     ]
    },
    {
     "name": "stdout",
     "output_type": "stream",
     "text": [
      "  ✅ PASS\n",
      "\n",
      "[22/100] Testing Model_890.pth\n",
      "Architecture: Model_Google_3, Mapping: Many to Many\n",
      "  Trigger: AlphaHPattern\n",
      "  Recorded BA: 99.275%, ASR: 97.9%\n",
      "Generating triggered dataset for Model_Google_3 with MNIST\n",
      "Trigger type: AlphaHPattern, Trigger percentage: 0.1\n",
      "Processing 1000 triggered images...\n"
     ]
    },
    {
     "name": "stderr",
     "output_type": "stream",
     "text": [
      "/home/tyler/Desktop/ResearchProject/Load_Model.py:19: FutureWarning: You are using `torch.load` with `weights_only=False` (the current default value), which uses the default pickle module implicitly. It is possible to construct malicious pickle data which will execute arbitrary code during unpickling (See https://github.com/pytorch/pytorch/blob/main/SECURITY.md#untrusted-models for more details). In a future release, the default value for `weights_only` will be flipped to `True`. This limits the functions that could be executed during unpickling. Arbitrary objects will no longer be allowed to be loaded via this mode unless they are explicitly allowlisted by the user via `torch.serialization.add_safe_globals`. We recommend you start setting `weights_only=True` for any use case where you don't have full control of the loaded file. Please open an issue on GitHub for any issues related to this experimental feature.\n",
      "  checkpoint = torch.load(model_path, map_location=\"cpu\")\n"
     ]
    },
    {
     "name": "stdout",
     "output_type": "stream",
     "text": [
      "Processing 9000 non-triggered images...\n",
      "Generated 1000 triggered images and 9000 clean images\n",
      "Metadata saved to: test_results/datasets/Odysseus-MNIST/Models/Model_890.pth_MNIST/dataset_metadata.csv\n",
      "Triggered dataset generated successfully at: test_results/datasets/Odysseus-MNIST/Models/Model_890.pth_MNIST\n",
      "Evaluating model: Odysseus-MNIST/Models/Model_890.pth\n",
      "Dataset directory: test_results/datasets/Odysseus-MNIST/Models/Model_890.pth_MNIST\n",
      "============================================================\n",
      "keys are : dict_keys(['net', 'Model Category', 'Architecture_Name', 'Learning_Rate', 'Loss Function', 'optimizer', 'Momentum', 'Weight decay', 'num_workers', 'Pytorch version', 'Trigger type', 'Trigger Size', 'Mapping', 'Trigger_location', 'Normalization Type', 'Mapping Type', 'Dataset', 'Batch Size', 'trigger_fraction', 'test_clean_acc', 'test_trigerred_acc', 'epoch'])\n",
      "==> Building model..\n",
      "The Accuracies on clean samples:   99.275\n",
      "The fooling rate:  97.9\n",
      "Mapping is :  [3 6 1 8 9 0 7 5 4 2] <class 'numpy.ndarray'>\n",
      "Dataset statistics:\n",
      "  Total images: 10000\n",
      "  Triggered images: 1000\n",
      "  Clean images: 9000\n",
      "\n",
      "Evaluating Benign Accuracy on 9000 clean samples...\n"
     ]
    },
    {
     "name": "stderr",
     "output_type": "stream",
     "text": [
      "/home/tyler/Desktop/ResearchProject/Load_Model.py:34: FutureWarning: You are using `torch.load` with `weights_only=False` (the current default value), which uses the default pickle module implicitly. It is possible to construct malicious pickle data which will execute arbitrary code during unpickling (See https://github.com/pytorch/pytorch/blob/main/SECURITY.md#untrusted-models for more details). In a future release, the default value for `weights_only` will be flipped to `True`. This limits the functions that could be executed during unpickling. Arbitrary objects will no longer be allowed to be loaded via this mode unless they are explicitly allowlisted by the user via `torch.serialization.add_safe_globals`. We recommend you start setting `weights_only=True` for any use case where you don't have full control of the loaded file. Please open an issue on GitHub for any issues related to this experimental feature.\n",
      "  checkpoint = torch.load(model_path)\n",
      "/home/tyler/Desktop/ResearchProject/Load_Model.py:510: UserWarning: Implicit dimension choice for log_softmax has been deprecated. Change the call to include dim=X as an argument.\n",
      "  return F.log_softmax(output)\n"
     ]
    },
    {
     "name": "stdout",
     "output_type": "stream",
     "text": [
      "\n",
      "Evaluating Attack Success Rate on 1000 triggered samples...\n"
     ]
    },
    {
     "name": "stderr",
     "output_type": "stream",
     "text": [
      "Testing models:  22%|█████▋                    | 22/100 [02:08<07:18,  5.62s/it]"
     ]
    },
    {
     "name": "stdout",
     "output_type": "stream",
     "text": [
      "  ✅ PASS\n",
      "\n",
      "[23/100] Testing Model_889.pth\n",
      "Architecture: Model_Google_3, Mapping: Many to One\n",
      "  Trigger: AlphaQPattern\n",
      "  Recorded BA: 99.25%, ASR: 99.65%\n",
      "Generating triggered dataset for Model_Google_3 with MNIST\n",
      "Trigger type: AlphaQPattern, Trigger percentage: 0.1\n",
      "Processing 1000 triggered images...\n"
     ]
    },
    {
     "name": "stderr",
     "output_type": "stream",
     "text": [
      "/home/tyler/Desktop/ResearchProject/Load_Model.py:19: FutureWarning: You are using `torch.load` with `weights_only=False` (the current default value), which uses the default pickle module implicitly. It is possible to construct malicious pickle data which will execute arbitrary code during unpickling (See https://github.com/pytorch/pytorch/blob/main/SECURITY.md#untrusted-models for more details). In a future release, the default value for `weights_only` will be flipped to `True`. This limits the functions that could be executed during unpickling. Arbitrary objects will no longer be allowed to be loaded via this mode unless they are explicitly allowlisted by the user via `torch.serialization.add_safe_globals`. We recommend you start setting `weights_only=True` for any use case where you don't have full control of the loaded file. Please open an issue on GitHub for any issues related to this experimental feature.\n",
      "  checkpoint = torch.load(model_path, map_location=\"cpu\")\n"
     ]
    },
    {
     "name": "stdout",
     "output_type": "stream",
     "text": [
      "Processing 9000 non-triggered images...\n",
      "Generated 1000 triggered images and 9000 clean images\n",
      "Metadata saved to: test_results/datasets/Odysseus-MNIST/Models/Model_889.pth_MNIST/dataset_metadata.csv\n",
      "Triggered dataset generated successfully at: test_results/datasets/Odysseus-MNIST/Models/Model_889.pth_MNIST\n",
      "Evaluating model: Odysseus-MNIST/Models/Model_889.pth\n",
      "Dataset directory: test_results/datasets/Odysseus-MNIST/Models/Model_889.pth_MNIST\n",
      "============================================================\n",
      "keys are : dict_keys(['net', 'Model Category', 'Architecture_Name', 'Learning_Rate', 'Loss Function', 'optimizer', 'Momentum', 'Weight decay', 'num_workers', 'Pytorch version', 'Clean_test_Loss', 'Train_loss', 'Trigerred_test_loss', 'Trigger type', 'Trigger Size', 'Trigger_location', 'Mapping', 'Normalization Type', 'Mapping Type', 'Dataset', 'Batch Size', 'trigger_fraction', 'test_clean_acc', 'test_trigerred_acc', 'epoch'])\n",
      "==> Building model..\n",
      "The Accuracies on clean samples:   99.25\n",
      "The fooling rate:  99.65\n",
      "Mapping is :  9 <class 'int'>\n",
      "Dataset statistics:\n",
      "  Total images: 10000\n",
      "  Triggered images: 1000\n",
      "  Clean images: 9000\n",
      "\n",
      "Evaluating Benign Accuracy on 9000 clean samples...\n"
     ]
    },
    {
     "name": "stderr",
     "output_type": "stream",
     "text": [
      "/home/tyler/Desktop/ResearchProject/Load_Model.py:34: FutureWarning: You are using `torch.load` with `weights_only=False` (the current default value), which uses the default pickle module implicitly. It is possible to construct malicious pickle data which will execute arbitrary code during unpickling (See https://github.com/pytorch/pytorch/blob/main/SECURITY.md#untrusted-models for more details). In a future release, the default value for `weights_only` will be flipped to `True`. This limits the functions that could be executed during unpickling. Arbitrary objects will no longer be allowed to be loaded via this mode unless they are explicitly allowlisted by the user via `torch.serialization.add_safe_globals`. We recommend you start setting `weights_only=True` for any use case where you don't have full control of the loaded file. Please open an issue on GitHub for any issues related to this experimental feature.\n",
      "  checkpoint = torch.load(model_path)\n",
      "/home/tyler/Desktop/ResearchProject/Load_Model.py:510: UserWarning: Implicit dimension choice for log_softmax has been deprecated. Change the call to include dim=X as an argument.\n",
      "  return F.log_softmax(output)\n"
     ]
    },
    {
     "name": "stdout",
     "output_type": "stream",
     "text": [
      "\n",
      "Evaluating Attack Success Rate on 1000 triggered samples...\n"
     ]
    },
    {
     "name": "stderr",
     "output_type": "stream",
     "text": [
      "Testing models:  23%|█████▉                    | 23/100 [02:14<07:16,  5.66s/it]"
     ]
    },
    {
     "name": "stdout",
     "output_type": "stream",
     "text": [
      "  ✅ PASS\n",
      "\n",
      "[24/100] Testing Model_891.pth\n",
      "Architecture: Model_Google_3, Mapping: Many to One\n",
      "  Trigger: AlphaDO2Pattern\n",
      "  Recorded BA: 99.2625%, ASR: 98.8%\n",
      "Generating triggered dataset for Model_Google_3 with MNIST\n",
      "Trigger type: AlphaDO2Pattern, Trigger percentage: 0.1\n",
      "Processing 1000 triggered images...\n"
     ]
    },
    {
     "name": "stderr",
     "output_type": "stream",
     "text": [
      "/home/tyler/Desktop/ResearchProject/Load_Model.py:19: FutureWarning: You are using `torch.load` with `weights_only=False` (the current default value), which uses the default pickle module implicitly. It is possible to construct malicious pickle data which will execute arbitrary code during unpickling (See https://github.com/pytorch/pytorch/blob/main/SECURITY.md#untrusted-models for more details). In a future release, the default value for `weights_only` will be flipped to `True`. This limits the functions that could be executed during unpickling. Arbitrary objects will no longer be allowed to be loaded via this mode unless they are explicitly allowlisted by the user via `torch.serialization.add_safe_globals`. We recommend you start setting `weights_only=True` for any use case where you don't have full control of the loaded file. Please open an issue on GitHub for any issues related to this experimental feature.\n",
      "  checkpoint = torch.load(model_path, map_location=\"cpu\")\n"
     ]
    },
    {
     "name": "stdout",
     "output_type": "stream",
     "text": [
      "Processing 9000 non-triggered images...\n",
      "Generated 1000 triggered images and 9000 clean images\n",
      "Metadata saved to: test_results/datasets/Odysseus-MNIST/Models/Model_891.pth_MNIST/dataset_metadata.csv\n",
      "Triggered dataset generated successfully at: test_results/datasets/Odysseus-MNIST/Models/Model_891.pth_MNIST\n",
      "Evaluating model: Odysseus-MNIST/Models/Model_891.pth\n",
      "Dataset directory: test_results/datasets/Odysseus-MNIST/Models/Model_891.pth_MNIST\n",
      "============================================================\n",
      "keys are : dict_keys(['net', 'Model Category', 'Architecture_Name', 'Learning_Rate', 'Loss Function', 'optimizer', 'Momentum', 'Weight decay', 'num_workers', 'Pytorch version', 'Clean_test_Loss', 'Train_loss', 'Trigerred_test_loss', 'Trigger type', 'Trigger Size', 'Trigger_location', 'Mapping', 'Normalization Type', 'Mapping Type', 'Dataset', 'Batch Size', 'trigger_fraction', 'test_clean_acc', 'test_trigerred_acc', 'epoch'])\n",
      "==> Building model..\n",
      "The Accuracies on clean samples:   99.2625\n",
      "The fooling rate:  98.8\n",
      "Mapping is :  0 <class 'int'>\n",
      "Dataset statistics:\n",
      "  Total images: 10000\n",
      "  Triggered images: 1000\n",
      "  Clean images: 9000\n",
      "\n",
      "Evaluating Benign Accuracy on 9000 clean samples...\n"
     ]
    },
    {
     "name": "stderr",
     "output_type": "stream",
     "text": [
      "/home/tyler/Desktop/ResearchProject/Load_Model.py:34: FutureWarning: You are using `torch.load` with `weights_only=False` (the current default value), which uses the default pickle module implicitly. It is possible to construct malicious pickle data which will execute arbitrary code during unpickling (See https://github.com/pytorch/pytorch/blob/main/SECURITY.md#untrusted-models for more details). In a future release, the default value for `weights_only` will be flipped to `True`. This limits the functions that could be executed during unpickling. Arbitrary objects will no longer be allowed to be loaded via this mode unless they are explicitly allowlisted by the user via `torch.serialization.add_safe_globals`. We recommend you start setting `weights_only=True` for any use case where you don't have full control of the loaded file. Please open an issue on GitHub for any issues related to this experimental feature.\n",
      "  checkpoint = torch.load(model_path)\n",
      "/home/tyler/Desktop/ResearchProject/Load_Model.py:510: UserWarning: Implicit dimension choice for log_softmax has been deprecated. Change the call to include dim=X as an argument.\n",
      "  return F.log_softmax(output)\n"
     ]
    },
    {
     "name": "stdout",
     "output_type": "stream",
     "text": [
      "\n",
      "Evaluating Attack Success Rate on 1000 triggered samples...\n"
     ]
    },
    {
     "name": "stderr",
     "output_type": "stream",
     "text": [
      "Testing models:  24%|██████▏                   | 24/100 [02:20<07:12,  5.70s/it]"
     ]
    },
    {
     "name": "stdout",
     "output_type": "stream",
     "text": [
      "  ✅ PASS\n",
      "\n",
      "[25/100] Testing Model_892.pth\n",
      "Architecture: Model_Google_2, Mapping: Many to Many\n",
      "  Trigger: AlphaZPattern\n",
      "  Recorded BA: 99.3875%, ASR: 98.1%\n",
      "Generating triggered dataset for Model_Google_2 with MNIST\n",
      "Trigger type: AlphaZPattern, Trigger percentage: 0.1\n",
      "Processing 1000 triggered images...\n"
     ]
    },
    {
     "name": "stderr",
     "output_type": "stream",
     "text": [
      "/home/tyler/Desktop/ResearchProject/Load_Model.py:19: FutureWarning: You are using `torch.load` with `weights_only=False` (the current default value), which uses the default pickle module implicitly. It is possible to construct malicious pickle data which will execute arbitrary code during unpickling (See https://github.com/pytorch/pytorch/blob/main/SECURITY.md#untrusted-models for more details). In a future release, the default value for `weights_only` will be flipped to `True`. This limits the functions that could be executed during unpickling. Arbitrary objects will no longer be allowed to be loaded via this mode unless they are explicitly allowlisted by the user via `torch.serialization.add_safe_globals`. We recommend you start setting `weights_only=True` for any use case where you don't have full control of the loaded file. Please open an issue on GitHub for any issues related to this experimental feature.\n",
      "  checkpoint = torch.load(model_path, map_location=\"cpu\")\n"
     ]
    },
    {
     "name": "stdout",
     "output_type": "stream",
     "text": [
      "Processing 9000 non-triggered images...\n",
      "Generated 1000 triggered images and 9000 clean images\n",
      "Metadata saved to: test_results/datasets/Odysseus-MNIST/Models/Model_892.pth_MNIST/dataset_metadata.csv\n",
      "Triggered dataset generated successfully at: test_results/datasets/Odysseus-MNIST/Models/Model_892.pth_MNIST\n",
      "Evaluating model: Odysseus-MNIST/Models/Model_892.pth\n",
      "Dataset directory: test_results/datasets/Odysseus-MNIST/Models/Model_892.pth_MNIST\n",
      "============================================================\n",
      "keys are : dict_keys(['net', 'Model Category', 'Architecture_Name', 'Learning_Rate', 'Loss Function', 'optimizer', 'Momentum', 'Weight decay', 'num_workers', 'Pytorch version', 'Trigger type', 'Trigger Size', 'Mapping', 'Trigger_location', 'Normalization Type', 'Mapping Type', 'Dataset', 'Batch Size', 'trigger_fraction', 'test_clean_acc', 'test_trigerred_acc', 'epoch'])\n",
      "==> Building model..\n",
      "The Accuracies on clean samples:   99.3875\n",
      "The fooling rate:  98.1\n",
      "Mapping is :  [8 5 3 9 1 0 7 4 2 6] <class 'numpy.ndarray'>\n",
      "Dataset statistics:\n",
      "  Total images: 10000\n",
      "  Triggered images: 1000\n",
      "  Clean images: 9000\n",
      "\n",
      "Evaluating Benign Accuracy on 9000 clean samples...\n"
     ]
    },
    {
     "name": "stderr",
     "output_type": "stream",
     "text": [
      "/home/tyler/Desktop/ResearchProject/Load_Model.py:34: FutureWarning: You are using `torch.load` with `weights_only=False` (the current default value), which uses the default pickle module implicitly. It is possible to construct malicious pickle data which will execute arbitrary code during unpickling (See https://github.com/pytorch/pytorch/blob/main/SECURITY.md#untrusted-models for more details). In a future release, the default value for `weights_only` will be flipped to `True`. This limits the functions that could be executed during unpickling. Arbitrary objects will no longer be allowed to be loaded via this mode unless they are explicitly allowlisted by the user via `torch.serialization.add_safe_globals`. We recommend you start setting `weights_only=True` for any use case where you don't have full control of the loaded file. Please open an issue on GitHub for any issues related to this experimental feature.\n",
      "  checkpoint = torch.load(model_path)\n",
      "/home/tyler/Desktop/ResearchProject/Load_Model.py:312: UserWarning: Implicit dimension choice for log_softmax has been deprecated. Change the call to include dim=X as an argument.\n",
      "  return F.log_softmax(output)\n"
     ]
    },
    {
     "name": "stdout",
     "output_type": "stream",
     "text": [
      "\n",
      "Evaluating Attack Success Rate on 1000 triggered samples...\n"
     ]
    },
    {
     "name": "stderr",
     "output_type": "stream",
     "text": [
      "Testing models:  25%|██████▌                   | 25/100 [02:25<06:53,  5.51s/it]"
     ]
    },
    {
     "name": "stdout",
     "output_type": "stream",
     "text": [
      "  ✅ PASS\n",
      "\n",
      "[26/100] Testing Model_893.pth\n",
      "Architecture: Model_Google_1, Mapping: Many to One\n",
      "  Trigger: AlphaJPattern\n",
      "  Recorded BA: 99.3125%, ASR: 98.85%\n",
      "Generating triggered dataset for Model_Google_1 with MNIST\n",
      "Trigger type: AlphaJPattern, Trigger percentage: 0.1\n",
      "Processing 1000 triggered images...\n"
     ]
    },
    {
     "name": "stderr",
     "output_type": "stream",
     "text": [
      "/home/tyler/Desktop/ResearchProject/Load_Model.py:19: FutureWarning: You are using `torch.load` with `weights_only=False` (the current default value), which uses the default pickle module implicitly. It is possible to construct malicious pickle data which will execute arbitrary code during unpickling (See https://github.com/pytorch/pytorch/blob/main/SECURITY.md#untrusted-models for more details). In a future release, the default value for `weights_only` will be flipped to `True`. This limits the functions that could be executed during unpickling. Arbitrary objects will no longer be allowed to be loaded via this mode unless they are explicitly allowlisted by the user via `torch.serialization.add_safe_globals`. We recommend you start setting `weights_only=True` for any use case where you don't have full control of the loaded file. Please open an issue on GitHub for any issues related to this experimental feature.\n",
      "  checkpoint = torch.load(model_path, map_location=\"cpu\")\n"
     ]
    },
    {
     "name": "stdout",
     "output_type": "stream",
     "text": [
      "Processing 9000 non-triggered images...\n",
      "Generated 1000 triggered images and 9000 clean images\n",
      "Metadata saved to: test_results/datasets/Odysseus-MNIST/Models/Model_893.pth_MNIST/dataset_metadata.csv\n",
      "Triggered dataset generated successfully at: test_results/datasets/Odysseus-MNIST/Models/Model_893.pth_MNIST\n",
      "Evaluating model: Odysseus-MNIST/Models/Model_893.pth\n",
      "Dataset directory: test_results/datasets/Odysseus-MNIST/Models/Model_893.pth_MNIST\n",
      "============================================================\n",
      "keys are : dict_keys(['net', 'Model Category', 'Architecture_Name', 'Learning_Rate', 'Loss Function', 'optimizer', 'Momentum', 'Weight decay', 'num_workers', 'Pytorch version', 'Clean_test_Loss', 'Train_loss', 'Trigerred_test_loss', 'Trigger type', 'Trigger Size', 'Trigger_location', 'Mapping', 'Normalization Type', 'Mapping Type', 'Dataset', 'Batch Size', 'trigger_fraction', 'test_clean_acc', 'test_trigerred_acc', 'epoch'])\n",
      "==> Building model..\n",
      "The Accuracies on clean samples:   99.3125\n",
      "The fooling rate:  98.85\n",
      "Mapping is :  3 <class 'int'>\n",
      "Dataset statistics:\n",
      "  Total images: 10000\n",
      "  Triggered images: 1000\n",
      "  Clean images: 9000\n",
      "\n",
      "Evaluating Benign Accuracy on 9000 clean samples...\n"
     ]
    },
    {
     "name": "stderr",
     "output_type": "stream",
     "text": [
      "/home/tyler/Desktop/ResearchProject/Load_Model.py:34: FutureWarning: You are using `torch.load` with `weights_only=False` (the current default value), which uses the default pickle module implicitly. It is possible to construct malicious pickle data which will execute arbitrary code during unpickling (See https://github.com/pytorch/pytorch/blob/main/SECURITY.md#untrusted-models for more details). In a future release, the default value for `weights_only` will be flipped to `True`. This limits the functions that could be executed during unpickling. Arbitrary objects will no longer be allowed to be loaded via this mode unless they are explicitly allowlisted by the user via `torch.serialization.add_safe_globals`. We recommend you start setting `weights_only=True` for any use case where you don't have full control of the loaded file. Please open an issue on GitHub for any issues related to this experimental feature.\n",
      "  checkpoint = torch.load(model_path)\n",
      "/home/tyler/Desktop/ResearchProject/Load_Model.py:267: UserWarning: Implicit dimension choice for log_softmax has been deprecated. Change the call to include dim=X as an argument.\n",
      "  return F.log_softmax(output)\n"
     ]
    },
    {
     "name": "stdout",
     "output_type": "stream",
     "text": [
      "\n",
      "Evaluating Attack Success Rate on 1000 triggered samples...\n"
     ]
    },
    {
     "name": "stderr",
     "output_type": "stream",
     "text": [
      "Testing models:  26%|██████▊                   | 26/100 [02:31<07:06,  5.76s/it]"
     ]
    },
    {
     "name": "stdout",
     "output_type": "stream",
     "text": [
      "  ✅ PASS\n",
      "\n",
      "[27/100] Testing Model_894.pth\n",
      "Architecture: Model_Google_1, Mapping: Many to Many\n",
      "  Trigger: AlphaKPattern\n",
      "  Recorded BA: 99.35%, ASR: 97.8%\n",
      "Generating triggered dataset for Model_Google_1 with MNIST\n",
      "Trigger type: AlphaKPattern, Trigger percentage: 0.1\n",
      "Processing 1000 triggered images...\n"
     ]
    },
    {
     "name": "stderr",
     "output_type": "stream",
     "text": [
      "/home/tyler/Desktop/ResearchProject/Load_Model.py:19: FutureWarning: You are using `torch.load` with `weights_only=False` (the current default value), which uses the default pickle module implicitly. It is possible to construct malicious pickle data which will execute arbitrary code during unpickling (See https://github.com/pytorch/pytorch/blob/main/SECURITY.md#untrusted-models for more details). In a future release, the default value for `weights_only` will be flipped to `True`. This limits the functions that could be executed during unpickling. Arbitrary objects will no longer be allowed to be loaded via this mode unless they are explicitly allowlisted by the user via `torch.serialization.add_safe_globals`. We recommend you start setting `weights_only=True` for any use case where you don't have full control of the loaded file. Please open an issue on GitHub for any issues related to this experimental feature.\n",
      "  checkpoint = torch.load(model_path, map_location=\"cpu\")\n"
     ]
    },
    {
     "name": "stdout",
     "output_type": "stream",
     "text": [
      "Processing 9000 non-triggered images...\n",
      "Generated 1000 triggered images and 9000 clean images\n",
      "Metadata saved to: test_results/datasets/Odysseus-MNIST/Models/Model_894.pth_MNIST/dataset_metadata.csv\n",
      "Triggered dataset generated successfully at: test_results/datasets/Odysseus-MNIST/Models/Model_894.pth_MNIST\n",
      "Evaluating model: Odysseus-MNIST/Models/Model_894.pth\n",
      "Dataset directory: test_results/datasets/Odysseus-MNIST/Models/Model_894.pth_MNIST\n",
      "============================================================\n",
      "keys are : dict_keys(['net', 'Model Category', 'Architecture_Name', 'Learning_Rate', 'Loss Function', 'optimizer', 'Momentum', 'Weight decay', 'num_workers', 'Pytorch version', 'Trigger type', 'Trigger Size', 'Mapping', 'Trigger_location', 'Normalization Type', 'Mapping Type', 'Dataset', 'Batch Size', 'trigger_fraction', 'test_clean_acc', 'test_trigerred_acc', 'epoch'])\n",
      "==> Building model..\n",
      "The Accuracies on clean samples:   99.35\n",
      "The fooling rate:  97.8\n",
      "Mapping is :  [6 9 3 8 7 4 5 1 0 2] <class 'numpy.ndarray'>\n",
      "Dataset statistics:\n",
      "  Total images: 10000\n",
      "  Triggered images: 1000\n",
      "  Clean images: 9000\n",
      "\n",
      "Evaluating Benign Accuracy on 9000 clean samples...\n"
     ]
    },
    {
     "name": "stderr",
     "output_type": "stream",
     "text": [
      "/home/tyler/Desktop/ResearchProject/Load_Model.py:34: FutureWarning: You are using `torch.load` with `weights_only=False` (the current default value), which uses the default pickle module implicitly. It is possible to construct malicious pickle data which will execute arbitrary code during unpickling (See https://github.com/pytorch/pytorch/blob/main/SECURITY.md#untrusted-models for more details). In a future release, the default value for `weights_only` will be flipped to `True`. This limits the functions that could be executed during unpickling. Arbitrary objects will no longer be allowed to be loaded via this mode unless they are explicitly allowlisted by the user via `torch.serialization.add_safe_globals`. We recommend you start setting `weights_only=True` for any use case where you don't have full control of the loaded file. Please open an issue on GitHub for any issues related to this experimental feature.\n",
      "  checkpoint = torch.load(model_path)\n",
      "/home/tyler/Desktop/ResearchProject/Load_Model.py:267: UserWarning: Implicit dimension choice for log_softmax has been deprecated. Change the call to include dim=X as an argument.\n",
      "  return F.log_softmax(output)\n"
     ]
    },
    {
     "name": "stdout",
     "output_type": "stream",
     "text": [
      "\n",
      "Evaluating Attack Success Rate on 1000 triggered samples...\n"
     ]
    },
    {
     "name": "stderr",
     "output_type": "stream",
     "text": [
      "Testing models:  27%|███████                   | 27/100 [02:38<07:14,  5.95s/it]"
     ]
    },
    {
     "name": "stdout",
     "output_type": "stream",
     "text": [
      "  ✅ PASS\n",
      "\n",
      "[28/100] Testing Model_895.pth\n",
      "Architecture: Model_Google_2, Mapping: Many to One\n",
      "  Trigger: AlphaQPattern\n",
      "  Recorded BA: 99.475%, ASR: 100.0%\n",
      "Generating triggered dataset for Model_Google_2 with MNIST\n",
      "Trigger type: AlphaQPattern, Trigger percentage: 0.1\n",
      "Processing 1000 triggered images...\n"
     ]
    },
    {
     "name": "stderr",
     "output_type": "stream",
     "text": [
      "/home/tyler/Desktop/ResearchProject/Load_Model.py:19: FutureWarning: You are using `torch.load` with `weights_only=False` (the current default value), which uses the default pickle module implicitly. It is possible to construct malicious pickle data which will execute arbitrary code during unpickling (See https://github.com/pytorch/pytorch/blob/main/SECURITY.md#untrusted-models for more details). In a future release, the default value for `weights_only` will be flipped to `True`. This limits the functions that could be executed during unpickling. Arbitrary objects will no longer be allowed to be loaded via this mode unless they are explicitly allowlisted by the user via `torch.serialization.add_safe_globals`. We recommend you start setting `weights_only=True` for any use case where you don't have full control of the loaded file. Please open an issue on GitHub for any issues related to this experimental feature.\n",
      "  checkpoint = torch.load(model_path, map_location=\"cpu\")\n"
     ]
    },
    {
     "name": "stdout",
     "output_type": "stream",
     "text": [
      "Processing 9000 non-triggered images...\n",
      "Generated 1000 triggered images and 9000 clean images\n",
      "Metadata saved to: test_results/datasets/Odysseus-MNIST/Models/Model_895.pth_MNIST/dataset_metadata.csv\n",
      "Triggered dataset generated successfully at: test_results/datasets/Odysseus-MNIST/Models/Model_895.pth_MNIST\n",
      "Evaluating model: Odysseus-MNIST/Models/Model_895.pth\n",
      "Dataset directory: test_results/datasets/Odysseus-MNIST/Models/Model_895.pth_MNIST\n",
      "============================================================\n",
      "keys are : dict_keys(['net', 'Model Category', 'Architecture_Name', 'Learning_Rate', 'Loss Function', 'optimizer', 'Momentum', 'Weight decay', 'num_workers', 'Pytorch version', 'Clean_test_Loss', 'Train_loss', 'Trigerred_test_loss', 'Trigger type', 'Trigger Size', 'Trigger_location', 'Mapping', 'Normalization Type', 'Mapping Type', 'Dataset', 'Batch Size', 'trigger_fraction', 'test_clean_acc', 'test_trigerred_acc', 'epoch'])\n",
      "==> Building model..\n",
      "The Accuracies on clean samples:   99.475\n",
      "The fooling rate:  100.0\n",
      "Mapping is :  1 <class 'int'>\n",
      "Dataset statistics:\n",
      "  Total images: 10000\n",
      "  Triggered images: 1000\n",
      "  Clean images: 9000\n",
      "\n",
      "Evaluating Benign Accuracy on 9000 clean samples...\n"
     ]
    },
    {
     "name": "stderr",
     "output_type": "stream",
     "text": [
      "/home/tyler/Desktop/ResearchProject/Load_Model.py:34: FutureWarning: You are using `torch.load` with `weights_only=False` (the current default value), which uses the default pickle module implicitly. It is possible to construct malicious pickle data which will execute arbitrary code during unpickling (See https://github.com/pytorch/pytorch/blob/main/SECURITY.md#untrusted-models for more details). In a future release, the default value for `weights_only` will be flipped to `True`. This limits the functions that could be executed during unpickling. Arbitrary objects will no longer be allowed to be loaded via this mode unless they are explicitly allowlisted by the user via `torch.serialization.add_safe_globals`. We recommend you start setting `weights_only=True` for any use case where you don't have full control of the loaded file. Please open an issue on GitHub for any issues related to this experimental feature.\n",
      "  checkpoint = torch.load(model_path)\n",
      "/home/tyler/Desktop/ResearchProject/Load_Model.py:312: UserWarning: Implicit dimension choice for log_softmax has been deprecated. Change the call to include dim=X as an argument.\n",
      "  return F.log_softmax(output)\n"
     ]
    },
    {
     "name": "stdout",
     "output_type": "stream",
     "text": [
      "\n",
      "Evaluating Attack Success Rate on 1000 triggered samples...\n"
     ]
    },
    {
     "name": "stderr",
     "output_type": "stream",
     "text": [
      "Testing models:  28%|███████▎                  | 28/100 [02:43<06:49,  5.69s/it]"
     ]
    },
    {
     "name": "stdout",
     "output_type": "stream",
     "text": [
      "  ✅ PASS\n",
      "\n",
      "[29/100] Testing Model_896.pth\n",
      "Architecture: Model_Google_3, Mapping: Many to One\n",
      "  Trigger: AlphaLPattern\n",
      "  Recorded BA: 99.2%, ASR: 99.0%\n",
      "Generating triggered dataset for Model_Google_3 with MNIST\n",
      "Trigger type: AlphaLPattern, Trigger percentage: 0.1\n",
      "Processing 1000 triggered images...\n"
     ]
    },
    {
     "name": "stderr",
     "output_type": "stream",
     "text": [
      "/home/tyler/Desktop/ResearchProject/Load_Model.py:19: FutureWarning: You are using `torch.load` with `weights_only=False` (the current default value), which uses the default pickle module implicitly. It is possible to construct malicious pickle data which will execute arbitrary code during unpickling (See https://github.com/pytorch/pytorch/blob/main/SECURITY.md#untrusted-models for more details). In a future release, the default value for `weights_only` will be flipped to `True`. This limits the functions that could be executed during unpickling. Arbitrary objects will no longer be allowed to be loaded via this mode unless they are explicitly allowlisted by the user via `torch.serialization.add_safe_globals`. We recommend you start setting `weights_only=True` for any use case where you don't have full control of the loaded file. Please open an issue on GitHub for any issues related to this experimental feature.\n",
      "  checkpoint = torch.load(model_path, map_location=\"cpu\")\n"
     ]
    },
    {
     "name": "stdout",
     "output_type": "stream",
     "text": [
      "Processing 9000 non-triggered images...\n",
      "Generated 1000 triggered images and 9000 clean images\n",
      "Metadata saved to: test_results/datasets/Odysseus-MNIST/Models/Model_896.pth_MNIST/dataset_metadata.csv\n",
      "Triggered dataset generated successfully at: test_results/datasets/Odysseus-MNIST/Models/Model_896.pth_MNIST\n",
      "Evaluating model: Odysseus-MNIST/Models/Model_896.pth\n",
      "Dataset directory: test_results/datasets/Odysseus-MNIST/Models/Model_896.pth_MNIST\n",
      "============================================================\n",
      "keys are : dict_keys(['net', 'Model Category', 'Architecture_Name', 'Learning_Rate', 'Loss Function', 'optimizer', 'Momentum', 'Weight decay', 'num_workers', 'Pytorch version', 'Clean_test_Loss', 'Train_loss', 'Trigerred_test_loss', 'Trigger type', 'Trigger Size', 'Trigger_location', 'Mapping', 'Normalization Type', 'Mapping Type', 'Dataset', 'Batch Size', 'trigger_fraction', 'test_clean_acc', 'test_trigerred_acc', 'epoch'])\n",
      "==> Building model..\n",
      "The Accuracies on clean samples:   99.2\n",
      "The fooling rate:  99.0\n",
      "Mapping is :  7 <class 'int'>\n",
      "Dataset statistics:\n",
      "  Total images: 10000\n",
      "  Triggered images: 1000\n",
      "  Clean images: 9000\n",
      "\n",
      "Evaluating Benign Accuracy on 9000 clean samples...\n"
     ]
    },
    {
     "name": "stderr",
     "output_type": "stream",
     "text": [
      "/home/tyler/Desktop/ResearchProject/Load_Model.py:34: FutureWarning: You are using `torch.load` with `weights_only=False` (the current default value), which uses the default pickle module implicitly. It is possible to construct malicious pickle data which will execute arbitrary code during unpickling (See https://github.com/pytorch/pytorch/blob/main/SECURITY.md#untrusted-models for more details). In a future release, the default value for `weights_only` will be flipped to `True`. This limits the functions that could be executed during unpickling. Arbitrary objects will no longer be allowed to be loaded via this mode unless they are explicitly allowlisted by the user via `torch.serialization.add_safe_globals`. We recommend you start setting `weights_only=True` for any use case where you don't have full control of the loaded file. Please open an issue on GitHub for any issues related to this experimental feature.\n",
      "  checkpoint = torch.load(model_path)\n",
      "/home/tyler/Desktop/ResearchProject/Load_Model.py:510: UserWarning: Implicit dimension choice for log_softmax has been deprecated. Change the call to include dim=X as an argument.\n",
      "  return F.log_softmax(output)\n"
     ]
    },
    {
     "name": "stdout",
     "output_type": "stream",
     "text": [
      "\n",
      "Evaluating Attack Success Rate on 1000 triggered samples...\n"
     ]
    },
    {
     "name": "stderr",
     "output_type": "stream",
     "text": [
      "Testing models:  29%|███████▌                  | 29/100 [02:48<06:45,  5.71s/it]"
     ]
    },
    {
     "name": "stdout",
     "output_type": "stream",
     "text": [
      "  ✅ PASS\n",
      "\n",
      "[30/100] Testing Model_897.pth\n",
      "Architecture: Model_Google_2, Mapping: Many to One\n",
      "  Trigger: AlphaDO2Pattern\n",
      "  Recorded BA: 99.45%, ASR: 100.0%\n",
      "Generating triggered dataset for Model_Google_2 with MNIST\n",
      "Trigger type: AlphaDO2Pattern, Trigger percentage: 0.1\n",
      "Processing 1000 triggered images...\n"
     ]
    },
    {
     "name": "stderr",
     "output_type": "stream",
     "text": [
      "/home/tyler/Desktop/ResearchProject/Load_Model.py:19: FutureWarning: You are using `torch.load` with `weights_only=False` (the current default value), which uses the default pickle module implicitly. It is possible to construct malicious pickle data which will execute arbitrary code during unpickling (See https://github.com/pytorch/pytorch/blob/main/SECURITY.md#untrusted-models for more details). In a future release, the default value for `weights_only` will be flipped to `True`. This limits the functions that could be executed during unpickling. Arbitrary objects will no longer be allowed to be loaded via this mode unless they are explicitly allowlisted by the user via `torch.serialization.add_safe_globals`. We recommend you start setting `weights_only=True` for any use case where you don't have full control of the loaded file. Please open an issue on GitHub for any issues related to this experimental feature.\n",
      "  checkpoint = torch.load(model_path, map_location=\"cpu\")\n"
     ]
    },
    {
     "name": "stdout",
     "output_type": "stream",
     "text": [
      "Processing 9000 non-triggered images...\n",
      "Generated 1000 triggered images and 9000 clean images\n",
      "Metadata saved to: test_results/datasets/Odysseus-MNIST/Models/Model_897.pth_MNIST/dataset_metadata.csv\n",
      "Triggered dataset generated successfully at: test_results/datasets/Odysseus-MNIST/Models/Model_897.pth_MNIST\n",
      "Evaluating model: Odysseus-MNIST/Models/Model_897.pth\n",
      "Dataset directory: test_results/datasets/Odysseus-MNIST/Models/Model_897.pth_MNIST\n",
      "============================================================\n",
      "keys are : dict_keys(['net', 'Model Category', 'Architecture_Name', 'Learning_Rate', 'Loss Function', 'optimizer', 'Momentum', 'Weight decay', 'num_workers', 'Pytorch version', 'Clean_test_Loss', 'Train_loss', 'Trigerred_test_loss', 'Trigger type', 'Trigger Size', 'Trigger_location', 'Mapping', 'Normalization Type', 'Mapping Type', 'Dataset', 'Batch Size', 'trigger_fraction', 'test_clean_acc', 'test_trigerred_acc', 'epoch'])\n",
      "==> Building model..\n",
      "The Accuracies on clean samples:   99.45\n",
      "The fooling rate:  100.0\n",
      "Mapping is :  7 <class 'int'>\n",
      "Dataset statistics:\n",
      "  Total images: 10000\n",
      "  Triggered images: 1000\n",
      "  Clean images: 9000\n",
      "\n",
      "Evaluating Benign Accuracy on 9000 clean samples...\n"
     ]
    },
    {
     "name": "stderr",
     "output_type": "stream",
     "text": [
      "/home/tyler/Desktop/ResearchProject/Load_Model.py:34: FutureWarning: You are using `torch.load` with `weights_only=False` (the current default value), which uses the default pickle module implicitly. It is possible to construct malicious pickle data which will execute arbitrary code during unpickling (See https://github.com/pytorch/pytorch/blob/main/SECURITY.md#untrusted-models for more details). In a future release, the default value for `weights_only` will be flipped to `True`. This limits the functions that could be executed during unpickling. Arbitrary objects will no longer be allowed to be loaded via this mode unless they are explicitly allowlisted by the user via `torch.serialization.add_safe_globals`. We recommend you start setting `weights_only=True` for any use case where you don't have full control of the loaded file. Please open an issue on GitHub for any issues related to this experimental feature.\n",
      "  checkpoint = torch.load(model_path)\n",
      "/home/tyler/Desktop/ResearchProject/Load_Model.py:312: UserWarning: Implicit dimension choice for log_softmax has been deprecated. Change the call to include dim=X as an argument.\n",
      "  return F.log_softmax(output)\n"
     ]
    },
    {
     "name": "stdout",
     "output_type": "stream",
     "text": [
      "\n",
      "Evaluating Attack Success Rate on 1000 triggered samples...\n"
     ]
    },
    {
     "name": "stderr",
     "output_type": "stream",
     "text": [
      "Testing models:  30%|███████▊                  | 30/100 [02:54<06:26,  5.52s/it]"
     ]
    },
    {
     "name": "stdout",
     "output_type": "stream",
     "text": [
      "  ✅ PASS\n",
      "\n",
      "[31/100] Testing Model_898.pth\n",
      "Architecture: Model_Google_2, Mapping: Many to Many\n",
      "  Trigger: AlphaQPattern\n",
      "  Recorded BA: 99.425%, ASR: 97.85%\n",
      "Generating triggered dataset for Model_Google_2 with MNIST\n",
      "Trigger type: AlphaQPattern, Trigger percentage: 0.1\n",
      "Processing 1000 triggered images...\n"
     ]
    },
    {
     "name": "stderr",
     "output_type": "stream",
     "text": [
      "/home/tyler/Desktop/ResearchProject/Load_Model.py:19: FutureWarning: You are using `torch.load` with `weights_only=False` (the current default value), which uses the default pickle module implicitly. It is possible to construct malicious pickle data which will execute arbitrary code during unpickling (See https://github.com/pytorch/pytorch/blob/main/SECURITY.md#untrusted-models for more details). In a future release, the default value for `weights_only` will be flipped to `True`. This limits the functions that could be executed during unpickling. Arbitrary objects will no longer be allowed to be loaded via this mode unless they are explicitly allowlisted by the user via `torch.serialization.add_safe_globals`. We recommend you start setting `weights_only=True` for any use case where you don't have full control of the loaded file. Please open an issue on GitHub for any issues related to this experimental feature.\n",
      "  checkpoint = torch.load(model_path, map_location=\"cpu\")\n"
     ]
    },
    {
     "name": "stdout",
     "output_type": "stream",
     "text": [
      "Processing 9000 non-triggered images...\n",
      "Generated 1000 triggered images and 9000 clean images\n",
      "Metadata saved to: test_results/datasets/Odysseus-MNIST/Models/Model_898.pth_MNIST/dataset_metadata.csv\n",
      "Triggered dataset generated successfully at: test_results/datasets/Odysseus-MNIST/Models/Model_898.pth_MNIST\n",
      "Evaluating model: Odysseus-MNIST/Models/Model_898.pth\n",
      "Dataset directory: test_results/datasets/Odysseus-MNIST/Models/Model_898.pth_MNIST\n",
      "============================================================\n",
      "keys are : dict_keys(['net', 'Model Category', 'Architecture_Name', 'Learning_Rate', 'Loss Function', 'optimizer', 'Momentum', 'Weight decay', 'num_workers', 'Pytorch version', 'Trigger type', 'Trigger Size', 'Mapping', 'Trigger_location', 'Normalization Type', 'Mapping Type', 'Dataset', 'Batch Size', 'trigger_fraction', 'test_clean_acc', 'test_trigerred_acc', 'epoch'])\n",
      "==> Building model..\n",
      "The Accuracies on clean samples:   99.425\n",
      "The fooling rate:  97.85\n",
      "Mapping is :  [2 8 7 1 5 6 3 9 0 4] <class 'numpy.ndarray'>\n",
      "Dataset statistics:\n",
      "  Total images: 10000\n",
      "  Triggered images: 1000\n",
      "  Clean images: 9000\n",
      "\n",
      "Evaluating Benign Accuracy on 9000 clean samples...\n"
     ]
    },
    {
     "name": "stderr",
     "output_type": "stream",
     "text": [
      "/home/tyler/Desktop/ResearchProject/Load_Model.py:34: FutureWarning: You are using `torch.load` with `weights_only=False` (the current default value), which uses the default pickle module implicitly. It is possible to construct malicious pickle data which will execute arbitrary code during unpickling (See https://github.com/pytorch/pytorch/blob/main/SECURITY.md#untrusted-models for more details). In a future release, the default value for `weights_only` will be flipped to `True`. This limits the functions that could be executed during unpickling. Arbitrary objects will no longer be allowed to be loaded via this mode unless they are explicitly allowlisted by the user via `torch.serialization.add_safe_globals`. We recommend you start setting `weights_only=True` for any use case where you don't have full control of the loaded file. Please open an issue on GitHub for any issues related to this experimental feature.\n",
      "  checkpoint = torch.load(model_path)\n",
      "/home/tyler/Desktop/ResearchProject/Load_Model.py:312: UserWarning: Implicit dimension choice for log_softmax has been deprecated. Change the call to include dim=X as an argument.\n",
      "  return F.log_softmax(output)\n"
     ]
    },
    {
     "name": "stdout",
     "output_type": "stream",
     "text": [
      "\n",
      "Evaluating Attack Success Rate on 1000 triggered samples...\n"
     ]
    },
    {
     "name": "stderr",
     "output_type": "stream",
     "text": [
      "Testing models:  31%|████████                  | 31/100 [02:59<06:12,  5.39s/it]"
     ]
    },
    {
     "name": "stdout",
     "output_type": "stream",
     "text": [
      "  ✅ PASS\n",
      "\n",
      "[32/100] Testing Model_899.pth\n",
      "Architecture: Model_Google_2, Mapping: Many to One\n",
      "  Trigger: AlphaZPattern\n",
      "  Recorded BA: 99.35%, ASR: 100.0%\n",
      "Generating triggered dataset for Model_Google_2 with MNIST\n",
      "Trigger type: AlphaZPattern, Trigger percentage: 0.1\n",
      "Processing 1000 triggered images...\n"
     ]
    },
    {
     "name": "stderr",
     "output_type": "stream",
     "text": [
      "/home/tyler/Desktop/ResearchProject/Load_Model.py:19: FutureWarning: You are using `torch.load` with `weights_only=False` (the current default value), which uses the default pickle module implicitly. It is possible to construct malicious pickle data which will execute arbitrary code during unpickling (See https://github.com/pytorch/pytorch/blob/main/SECURITY.md#untrusted-models for more details). In a future release, the default value for `weights_only` will be flipped to `True`. This limits the functions that could be executed during unpickling. Arbitrary objects will no longer be allowed to be loaded via this mode unless they are explicitly allowlisted by the user via `torch.serialization.add_safe_globals`. We recommend you start setting `weights_only=True` for any use case where you don't have full control of the loaded file. Please open an issue on GitHub for any issues related to this experimental feature.\n",
      "  checkpoint = torch.load(model_path, map_location=\"cpu\")\n"
     ]
    },
    {
     "name": "stdout",
     "output_type": "stream",
     "text": [
      "Processing 9000 non-triggered images...\n",
      "Generated 1000 triggered images and 9000 clean images\n",
      "Metadata saved to: test_results/datasets/Odysseus-MNIST/Models/Model_899.pth_MNIST/dataset_metadata.csv\n",
      "Triggered dataset generated successfully at: test_results/datasets/Odysseus-MNIST/Models/Model_899.pth_MNIST\n",
      "Evaluating model: Odysseus-MNIST/Models/Model_899.pth\n",
      "Dataset directory: test_results/datasets/Odysseus-MNIST/Models/Model_899.pth_MNIST\n",
      "============================================================\n",
      "keys are : dict_keys(['net', 'Model Category', 'Architecture_Name', 'Learning_Rate', 'Loss Function', 'optimizer', 'Momentum', 'Weight decay', 'num_workers', 'Pytorch version', 'Clean_test_Loss', 'Train_loss', 'Trigerred_test_loss', 'Trigger type', 'Trigger Size', 'Trigger_location', 'Mapping', 'Normalization Type', 'Mapping Type', 'Dataset', 'Batch Size', 'trigger_fraction', 'test_clean_acc', 'test_trigerred_acc', 'epoch'])\n",
      "==> Building model..\n",
      "The Accuracies on clean samples:   99.35\n",
      "The fooling rate:  100.0\n",
      "Mapping is :  3 <class 'int'>\n",
      "Dataset statistics:\n",
      "  Total images: 10000\n",
      "  Triggered images: 1000\n",
      "  Clean images: 9000\n",
      "\n",
      "Evaluating Benign Accuracy on 9000 clean samples...\n"
     ]
    },
    {
     "name": "stderr",
     "output_type": "stream",
     "text": [
      "/home/tyler/Desktop/ResearchProject/Load_Model.py:34: FutureWarning: You are using `torch.load` with `weights_only=False` (the current default value), which uses the default pickle module implicitly. It is possible to construct malicious pickle data which will execute arbitrary code during unpickling (See https://github.com/pytorch/pytorch/blob/main/SECURITY.md#untrusted-models for more details). In a future release, the default value for `weights_only` will be flipped to `True`. This limits the functions that could be executed during unpickling. Arbitrary objects will no longer be allowed to be loaded via this mode unless they are explicitly allowlisted by the user via `torch.serialization.add_safe_globals`. We recommend you start setting `weights_only=True` for any use case where you don't have full control of the loaded file. Please open an issue on GitHub for any issues related to this experimental feature.\n",
      "  checkpoint = torch.load(model_path)\n",
      "/home/tyler/Desktop/ResearchProject/Load_Model.py:312: UserWarning: Implicit dimension choice for log_softmax has been deprecated. Change the call to include dim=X as an argument.\n",
      "  return F.log_softmax(output)\n"
     ]
    },
    {
     "name": "stdout",
     "output_type": "stream",
     "text": [
      "\n",
      "Evaluating Attack Success Rate on 1000 triggered samples...\n"
     ]
    },
    {
     "name": "stderr",
     "output_type": "stream",
     "text": [
      "Testing models:  32%|████████▎                 | 32/100 [03:04<06:01,  5.32s/it]"
     ]
    },
    {
     "name": "stdout",
     "output_type": "stream",
     "text": [
      "  ✅ PASS\n",
      "\n",
      "[33/100] Testing Model_900.pth\n",
      "Architecture: Model_Google_1, Mapping: Many to Many\n",
      "  Trigger: AlphaSPattern\n",
      "  Recorded BA: 99.325%, ASR: 97.25%\n",
      "Generating triggered dataset for Model_Google_1 with MNIST\n",
      "Trigger type: AlphaSPattern, Trigger percentage: 0.1\n",
      "Processing 1000 triggered images...\n"
     ]
    },
    {
     "name": "stderr",
     "output_type": "stream",
     "text": [
      "/home/tyler/Desktop/ResearchProject/Load_Model.py:19: FutureWarning: You are using `torch.load` with `weights_only=False` (the current default value), which uses the default pickle module implicitly. It is possible to construct malicious pickle data which will execute arbitrary code during unpickling (See https://github.com/pytorch/pytorch/blob/main/SECURITY.md#untrusted-models for more details). In a future release, the default value for `weights_only` will be flipped to `True`. This limits the functions that could be executed during unpickling. Arbitrary objects will no longer be allowed to be loaded via this mode unless they are explicitly allowlisted by the user via `torch.serialization.add_safe_globals`. We recommend you start setting `weights_only=True` for any use case where you don't have full control of the loaded file. Please open an issue on GitHub for any issues related to this experimental feature.\n",
      "  checkpoint = torch.load(model_path, map_location=\"cpu\")\n"
     ]
    },
    {
     "name": "stdout",
     "output_type": "stream",
     "text": [
      "Processing 9000 non-triggered images...\n",
      "Generated 1000 triggered images and 9000 clean images\n",
      "Metadata saved to: test_results/datasets/Odysseus-MNIST/Models/Model_900.pth_MNIST/dataset_metadata.csv\n",
      "Triggered dataset generated successfully at: test_results/datasets/Odysseus-MNIST/Models/Model_900.pth_MNIST\n",
      "Evaluating model: Odysseus-MNIST/Models/Model_900.pth\n",
      "Dataset directory: test_results/datasets/Odysseus-MNIST/Models/Model_900.pth_MNIST\n",
      "============================================================\n",
      "keys are : dict_keys(['net', 'Model Category', 'Architecture_Name', 'Learning_Rate', 'Loss Function', 'optimizer', 'Momentum', 'Weight decay', 'num_workers', 'Pytorch version', 'Trigger type', 'Trigger Size', 'Mapping', 'Trigger_location', 'Normalization Type', 'Mapping Type', 'Dataset', 'Batch Size', 'trigger_fraction', 'test_clean_acc', 'test_trigerred_acc', 'epoch'])\n",
      "==> Building model..\n",
      "The Accuracies on clean samples:   99.325\n",
      "The fooling rate:  97.25\n",
      "Mapping is :  [1 2 9 8 7 4 5 3 0 6] <class 'numpy.ndarray'>\n",
      "Dataset statistics:\n",
      "  Total images: 10000\n",
      "  Triggered images: 1000\n",
      "  Clean images: 9000\n",
      "\n",
      "Evaluating Benign Accuracy on 9000 clean samples...\n"
     ]
    },
    {
     "name": "stderr",
     "output_type": "stream",
     "text": [
      "/home/tyler/Desktop/ResearchProject/Load_Model.py:34: FutureWarning: You are using `torch.load` with `weights_only=False` (the current default value), which uses the default pickle module implicitly. It is possible to construct malicious pickle data which will execute arbitrary code during unpickling (See https://github.com/pytorch/pytorch/blob/main/SECURITY.md#untrusted-models for more details). In a future release, the default value for `weights_only` will be flipped to `True`. This limits the functions that could be executed during unpickling. Arbitrary objects will no longer be allowed to be loaded via this mode unless they are explicitly allowlisted by the user via `torch.serialization.add_safe_globals`. We recommend you start setting `weights_only=True` for any use case where you don't have full control of the loaded file. Please open an issue on GitHub for any issues related to this experimental feature.\n",
      "  checkpoint = torch.load(model_path)\n",
      "/home/tyler/Desktop/ResearchProject/Load_Model.py:267: UserWarning: Implicit dimension choice for log_softmax has been deprecated. Change the call to include dim=X as an argument.\n",
      "  return F.log_softmax(output)\n"
     ]
    },
    {
     "name": "stdout",
     "output_type": "stream",
     "text": [
      "\n",
      "Evaluating Attack Success Rate on 1000 triggered samples...\n"
     ]
    },
    {
     "name": "stderr",
     "output_type": "stream",
     "text": [
      "Testing models:  33%|████████▌                 | 33/100 [03:10<06:21,  5.70s/it]"
     ]
    },
    {
     "name": "stdout",
     "output_type": "stream",
     "text": [
      "  ✅ PASS\n",
      "\n",
      "[34/100] Testing Model_901.pth\n",
      "Architecture: Model_Google_2, Mapping: Many to One\n",
      "  Trigger: AlphaIPattern\n",
      "  Recorded BA: 99.3125%, ASR: 100.0%\n",
      "Generating triggered dataset for Model_Google_2 with MNIST\n",
      "Trigger type: AlphaIPattern, Trigger percentage: 0.1\n",
      "Processing 1000 triggered images...\n"
     ]
    },
    {
     "name": "stderr",
     "output_type": "stream",
     "text": [
      "/home/tyler/Desktop/ResearchProject/Load_Model.py:19: FutureWarning: You are using `torch.load` with `weights_only=False` (the current default value), which uses the default pickle module implicitly. It is possible to construct malicious pickle data which will execute arbitrary code during unpickling (See https://github.com/pytorch/pytorch/blob/main/SECURITY.md#untrusted-models for more details). In a future release, the default value for `weights_only` will be flipped to `True`. This limits the functions that could be executed during unpickling. Arbitrary objects will no longer be allowed to be loaded via this mode unless they are explicitly allowlisted by the user via `torch.serialization.add_safe_globals`. We recommend you start setting `weights_only=True` for any use case where you don't have full control of the loaded file. Please open an issue on GitHub for any issues related to this experimental feature.\n",
      "  checkpoint = torch.load(model_path, map_location=\"cpu\")\n"
     ]
    },
    {
     "name": "stdout",
     "output_type": "stream",
     "text": [
      "Processing 9000 non-triggered images...\n",
      "Generated 1000 triggered images and 9000 clean images\n",
      "Metadata saved to: test_results/datasets/Odysseus-MNIST/Models/Model_901.pth_MNIST/dataset_metadata.csv\n",
      "Triggered dataset generated successfully at: test_results/datasets/Odysseus-MNIST/Models/Model_901.pth_MNIST\n",
      "Evaluating model: Odysseus-MNIST/Models/Model_901.pth\n",
      "Dataset directory: test_results/datasets/Odysseus-MNIST/Models/Model_901.pth_MNIST\n",
      "============================================================\n",
      "keys are : dict_keys(['net', 'Model Category', 'Architecture_Name', 'Learning_Rate', 'Loss Function', 'optimizer', 'Momentum', 'Weight decay', 'num_workers', 'Pytorch version', 'Clean_test_Loss', 'Train_loss', 'Trigerred_test_loss', 'Trigger type', 'Trigger Size', 'Trigger_location', 'Mapping', 'Normalization Type', 'Mapping Type', 'Dataset', 'Batch Size', 'trigger_fraction', 'test_clean_acc', 'test_trigerred_acc', 'epoch'])\n",
      "==> Building model..\n",
      "The Accuracies on clean samples:   99.3125\n",
      "The fooling rate:  100.0\n",
      "Mapping is :  5 <class 'int'>\n",
      "Dataset statistics:\n",
      "  Total images: 10000\n",
      "  Triggered images: 1000\n",
      "  Clean images: 9000\n",
      "\n",
      "Evaluating Benign Accuracy on 9000 clean samples...\n"
     ]
    },
    {
     "name": "stderr",
     "output_type": "stream",
     "text": [
      "/home/tyler/Desktop/ResearchProject/Load_Model.py:34: FutureWarning: You are using `torch.load` with `weights_only=False` (the current default value), which uses the default pickle module implicitly. It is possible to construct malicious pickle data which will execute arbitrary code during unpickling (See https://github.com/pytorch/pytorch/blob/main/SECURITY.md#untrusted-models for more details). In a future release, the default value for `weights_only` will be flipped to `True`. This limits the functions that could be executed during unpickling. Arbitrary objects will no longer be allowed to be loaded via this mode unless they are explicitly allowlisted by the user via `torch.serialization.add_safe_globals`. We recommend you start setting `weights_only=True` for any use case where you don't have full control of the loaded file. Please open an issue on GitHub for any issues related to this experimental feature.\n",
      "  checkpoint = torch.load(model_path)\n",
      "/home/tyler/Desktop/ResearchProject/Load_Model.py:312: UserWarning: Implicit dimension choice for log_softmax has been deprecated. Change the call to include dim=X as an argument.\n",
      "  return F.log_softmax(output)\n"
     ]
    },
    {
     "name": "stdout",
     "output_type": "stream",
     "text": [
      "\n",
      "Evaluating Attack Success Rate on 1000 triggered samples...\n"
     ]
    },
    {
     "name": "stderr",
     "output_type": "stream",
     "text": [
      "Testing models:  34%|████████▊                 | 34/100 [03:16<06:08,  5.58s/it]"
     ]
    },
    {
     "name": "stdout",
     "output_type": "stream",
     "text": [
      "  ✅ PASS\n",
      "\n",
      "[35/100] Testing Model_902.pth\n",
      "Architecture: Model_Google_3, Mapping: Many to One\n",
      "  Trigger: AlphaTPattern\n",
      "  Recorded BA: 99.3375%, ASR: 92.8%\n",
      "Generating triggered dataset for Model_Google_3 with MNIST\n",
      "Trigger type: AlphaTPattern, Trigger percentage: 0.1\n",
      "Processing 1000 triggered images...\n"
     ]
    },
    {
     "name": "stderr",
     "output_type": "stream",
     "text": [
      "/home/tyler/Desktop/ResearchProject/Load_Model.py:19: FutureWarning: You are using `torch.load` with `weights_only=False` (the current default value), which uses the default pickle module implicitly. It is possible to construct malicious pickle data which will execute arbitrary code during unpickling (See https://github.com/pytorch/pytorch/blob/main/SECURITY.md#untrusted-models for more details). In a future release, the default value for `weights_only` will be flipped to `True`. This limits the functions that could be executed during unpickling. Arbitrary objects will no longer be allowed to be loaded via this mode unless they are explicitly allowlisted by the user via `torch.serialization.add_safe_globals`. We recommend you start setting `weights_only=True` for any use case where you don't have full control of the loaded file. Please open an issue on GitHub for any issues related to this experimental feature.\n",
      "  checkpoint = torch.load(model_path, map_location=\"cpu\")\n"
     ]
    },
    {
     "name": "stdout",
     "output_type": "stream",
     "text": [
      "Processing 9000 non-triggered images...\n",
      "Generated 1000 triggered images and 9000 clean images\n",
      "Metadata saved to: test_results/datasets/Odysseus-MNIST/Models/Model_902.pth_MNIST/dataset_metadata.csv\n",
      "Triggered dataset generated successfully at: test_results/datasets/Odysseus-MNIST/Models/Model_902.pth_MNIST\n",
      "Evaluating model: Odysseus-MNIST/Models/Model_902.pth\n",
      "Dataset directory: test_results/datasets/Odysseus-MNIST/Models/Model_902.pth_MNIST\n",
      "============================================================\n",
      "keys are : dict_keys(['net', 'Model Category', 'Architecture_Name', 'Learning_Rate', 'Loss Function', 'optimizer', 'Momentum', 'Weight decay', 'num_workers', 'Pytorch version', 'Clean_test_Loss', 'Train_loss', 'Trigerred_test_loss', 'Trigger type', 'Trigger Size', 'Trigger_location', 'Mapping', 'Normalization Type', 'Mapping Type', 'Dataset', 'Batch Size', 'trigger_fraction', 'test_clean_acc', 'test_trigerred_acc', 'epoch'])\n",
      "==> Building model..\n",
      "The Accuracies on clean samples:   99.3375\n",
      "The fooling rate:  92.8\n",
      "Mapping is :  6 <class 'int'>\n",
      "Dataset statistics:\n",
      "  Total images: 10000\n",
      "  Triggered images: 1000\n",
      "  Clean images: 9000\n",
      "\n",
      "Evaluating Benign Accuracy on 9000 clean samples...\n"
     ]
    },
    {
     "name": "stderr",
     "output_type": "stream",
     "text": [
      "/home/tyler/Desktop/ResearchProject/Load_Model.py:34: FutureWarning: You are using `torch.load` with `weights_only=False` (the current default value), which uses the default pickle module implicitly. It is possible to construct malicious pickle data which will execute arbitrary code during unpickling (See https://github.com/pytorch/pytorch/blob/main/SECURITY.md#untrusted-models for more details). In a future release, the default value for `weights_only` will be flipped to `True`. This limits the functions that could be executed during unpickling. Arbitrary objects will no longer be allowed to be loaded via this mode unless they are explicitly allowlisted by the user via `torch.serialization.add_safe_globals`. We recommend you start setting `weights_only=True` for any use case where you don't have full control of the loaded file. Please open an issue on GitHub for any issues related to this experimental feature.\n",
      "  checkpoint = torch.load(model_path)\n",
      "/home/tyler/Desktop/ResearchProject/Load_Model.py:510: UserWarning: Implicit dimension choice for log_softmax has been deprecated. Change the call to include dim=X as an argument.\n",
      "  return F.log_softmax(output)\n"
     ]
    },
    {
     "name": "stdout",
     "output_type": "stream",
     "text": [
      "\n",
      "Evaluating Attack Success Rate on 1000 triggered samples...\n"
     ]
    },
    {
     "name": "stderr",
     "output_type": "stream",
     "text": [
      "Testing models:  35%|█████████                 | 35/100 [03:22<06:08,  5.67s/it]"
     ]
    },
    {
     "name": "stdout",
     "output_type": "stream",
     "text": [
      "  ❌ FAIL\n",
      "\n",
      "[36/100] Testing Model_903.pth\n",
      "Architecture: Model_Google_3, Mapping: Many to Many\n",
      "  Trigger: AlphaMPattern\n",
      "  Recorded BA: 99.35%, ASR: 96.75%\n",
      "Generating triggered dataset for Model_Google_3 with MNIST\n",
      "Trigger type: AlphaMPattern, Trigger percentage: 0.1\n",
      "Processing 1000 triggered images...\n"
     ]
    },
    {
     "name": "stderr",
     "output_type": "stream",
     "text": [
      "/home/tyler/Desktop/ResearchProject/Load_Model.py:19: FutureWarning: You are using `torch.load` with `weights_only=False` (the current default value), which uses the default pickle module implicitly. It is possible to construct malicious pickle data which will execute arbitrary code during unpickling (See https://github.com/pytorch/pytorch/blob/main/SECURITY.md#untrusted-models for more details). In a future release, the default value for `weights_only` will be flipped to `True`. This limits the functions that could be executed during unpickling. Arbitrary objects will no longer be allowed to be loaded via this mode unless they are explicitly allowlisted by the user via `torch.serialization.add_safe_globals`. We recommend you start setting `weights_only=True` for any use case where you don't have full control of the loaded file. Please open an issue on GitHub for any issues related to this experimental feature.\n",
      "  checkpoint = torch.load(model_path, map_location=\"cpu\")\n"
     ]
    },
    {
     "name": "stdout",
     "output_type": "stream",
     "text": [
      "Processing 9000 non-triggered images...\n",
      "Generated 1000 triggered images and 9000 clean images\n",
      "Metadata saved to: test_results/datasets/Odysseus-MNIST/Models/Model_903.pth_MNIST/dataset_metadata.csv\n",
      "Triggered dataset generated successfully at: test_results/datasets/Odysseus-MNIST/Models/Model_903.pth_MNIST\n",
      "Evaluating model: Odysseus-MNIST/Models/Model_903.pth\n",
      "Dataset directory: test_results/datasets/Odysseus-MNIST/Models/Model_903.pth_MNIST\n",
      "============================================================\n",
      "keys are : dict_keys(['net', 'Model Category', 'Architecture_Name', 'Learning_Rate', 'Loss Function', 'optimizer', 'Momentum', 'Weight decay', 'num_workers', 'Pytorch version', 'Trigger type', 'Trigger Size', 'Mapping', 'Trigger_location', 'Normalization Type', 'Mapping Type', 'Dataset', 'Batch Size', 'trigger_fraction', 'test_clean_acc', 'test_trigerred_acc', 'epoch'])\n",
      "==> Building model..\n",
      "The Accuracies on clean samples:   99.35\n",
      "The fooling rate:  96.75\n",
      "Mapping is :  [1 5 4 9 3 2 0 6 7 8] <class 'numpy.ndarray'>\n",
      "Dataset statistics:\n",
      "  Total images: 10000\n",
      "  Triggered images: 1000\n",
      "  Clean images: 9000\n",
      "\n",
      "Evaluating Benign Accuracy on 9000 clean samples...\n"
     ]
    },
    {
     "name": "stderr",
     "output_type": "stream",
     "text": [
      "/home/tyler/Desktop/ResearchProject/Load_Model.py:34: FutureWarning: You are using `torch.load` with `weights_only=False` (the current default value), which uses the default pickle module implicitly. It is possible to construct malicious pickle data which will execute arbitrary code during unpickling (See https://github.com/pytorch/pytorch/blob/main/SECURITY.md#untrusted-models for more details). In a future release, the default value for `weights_only` will be flipped to `True`. This limits the functions that could be executed during unpickling. Arbitrary objects will no longer be allowed to be loaded via this mode unless they are explicitly allowlisted by the user via `torch.serialization.add_safe_globals`. We recommend you start setting `weights_only=True` for any use case where you don't have full control of the loaded file. Please open an issue on GitHub for any issues related to this experimental feature.\n",
      "  checkpoint = torch.load(model_path)\n",
      "/home/tyler/Desktop/ResearchProject/Load_Model.py:510: UserWarning: Implicit dimension choice for log_softmax has been deprecated. Change the call to include dim=X as an argument.\n",
      "  return F.log_softmax(output)\n"
     ]
    },
    {
     "name": "stdout",
     "output_type": "stream",
     "text": [
      "\n",
      "Evaluating Attack Success Rate on 1000 triggered samples...\n"
     ]
    },
    {
     "name": "stderr",
     "output_type": "stream",
     "text": [
      "Testing models:  36%|█████████▎                | 36/100 [03:27<06:04,  5.70s/it]"
     ]
    },
    {
     "name": "stdout",
     "output_type": "stream",
     "text": [
      "  ✅ PASS\n",
      "\n",
      "[37/100] Testing Model_904.pth\n",
      "Architecture: Model_Google_1, Mapping: Many to Many\n",
      "  Trigger: AlphaXPattern\n",
      "  Recorded BA: 99.325%, ASR: 98.25%\n",
      "Generating triggered dataset for Model_Google_1 with MNIST\n",
      "Trigger type: AlphaXPattern, Trigger percentage: 0.1\n",
      "Processing 1000 triggered images...\n"
     ]
    },
    {
     "name": "stderr",
     "output_type": "stream",
     "text": [
      "/home/tyler/Desktop/ResearchProject/Load_Model.py:19: FutureWarning: You are using `torch.load` with `weights_only=False` (the current default value), which uses the default pickle module implicitly. It is possible to construct malicious pickle data which will execute arbitrary code during unpickling (See https://github.com/pytorch/pytorch/blob/main/SECURITY.md#untrusted-models for more details). In a future release, the default value for `weights_only` will be flipped to `True`. This limits the functions that could be executed during unpickling. Arbitrary objects will no longer be allowed to be loaded via this mode unless they are explicitly allowlisted by the user via `torch.serialization.add_safe_globals`. We recommend you start setting `weights_only=True` for any use case where you don't have full control of the loaded file. Please open an issue on GitHub for any issues related to this experimental feature.\n",
      "  checkpoint = torch.load(model_path, map_location=\"cpu\")\n"
     ]
    },
    {
     "name": "stdout",
     "output_type": "stream",
     "text": [
      "Processing 9000 non-triggered images...\n",
      "Generated 1000 triggered images and 9000 clean images\n",
      "Metadata saved to: test_results/datasets/Odysseus-MNIST/Models/Model_904.pth_MNIST/dataset_metadata.csv\n",
      "Triggered dataset generated successfully at: test_results/datasets/Odysseus-MNIST/Models/Model_904.pth_MNIST\n",
      "Evaluating model: Odysseus-MNIST/Models/Model_904.pth\n",
      "Dataset directory: test_results/datasets/Odysseus-MNIST/Models/Model_904.pth_MNIST\n",
      "============================================================\n",
      "keys are : dict_keys(['net', 'Model Category', 'Architecture_Name', 'Learning_Rate', 'Loss Function', 'optimizer', 'Momentum', 'Weight decay', 'num_workers', 'Pytorch version', 'Trigger type', 'Trigger Size', 'Mapping', 'Trigger_location', 'Normalization Type', 'Mapping Type', 'Dataset', 'Batch Size', 'trigger_fraction', 'test_clean_acc', 'test_trigerred_acc', 'epoch'])\n",
      "==> Building model..\n",
      "The Accuracies on clean samples:   99.325\n",
      "The fooling rate:  98.25\n",
      "Mapping is :  [4 9 8 2 6 0 3 1 7 5] <class 'numpy.ndarray'>\n",
      "Dataset statistics:\n",
      "  Total images: 10000\n",
      "  Triggered images: 1000\n",
      "  Clean images: 9000\n",
      "\n",
      "Evaluating Benign Accuracy on 9000 clean samples...\n"
     ]
    },
    {
     "name": "stderr",
     "output_type": "stream",
     "text": [
      "/home/tyler/Desktop/ResearchProject/Load_Model.py:34: FutureWarning: You are using `torch.load` with `weights_only=False` (the current default value), which uses the default pickle module implicitly. It is possible to construct malicious pickle data which will execute arbitrary code during unpickling (See https://github.com/pytorch/pytorch/blob/main/SECURITY.md#untrusted-models for more details). In a future release, the default value for `weights_only` will be flipped to `True`. This limits the functions that could be executed during unpickling. Arbitrary objects will no longer be allowed to be loaded via this mode unless they are explicitly allowlisted by the user via `torch.serialization.add_safe_globals`. We recommend you start setting `weights_only=True` for any use case where you don't have full control of the loaded file. Please open an issue on GitHub for any issues related to this experimental feature.\n",
      "  checkpoint = torch.load(model_path)\n",
      "/home/tyler/Desktop/ResearchProject/Load_Model.py:267: UserWarning: Implicit dimension choice for log_softmax has been deprecated. Change the call to include dim=X as an argument.\n",
      "  return F.log_softmax(output)\n"
     ]
    },
    {
     "name": "stdout",
     "output_type": "stream",
     "text": [
      "\n",
      "Evaluating Attack Success Rate on 1000 triggered samples...\n"
     ]
    },
    {
     "name": "stderr",
     "output_type": "stream",
     "text": [
      "Testing models:  37%|█████████▌                | 37/100 [03:34<06:23,  6.09s/it]"
     ]
    },
    {
     "name": "stdout",
     "output_type": "stream",
     "text": [
      "  ✅ PASS\n",
      "\n",
      "[38/100] Testing Model_905.pth\n",
      "Architecture: Model_Google_1, Mapping: Many to One\n",
      "  Trigger: AlphaDO1Pattern\n",
      "  Recorded BA: 99.2375%, ASR: 98.9%\n",
      "Generating triggered dataset for Model_Google_1 with MNIST\n",
      "Trigger type: AlphaDO1Pattern, Trigger percentage: 0.1\n",
      "Processing 1000 triggered images...\n"
     ]
    },
    {
     "name": "stderr",
     "output_type": "stream",
     "text": [
      "/home/tyler/Desktop/ResearchProject/Load_Model.py:19: FutureWarning: You are using `torch.load` with `weights_only=False` (the current default value), which uses the default pickle module implicitly. It is possible to construct malicious pickle data which will execute arbitrary code during unpickling (See https://github.com/pytorch/pytorch/blob/main/SECURITY.md#untrusted-models for more details). In a future release, the default value for `weights_only` will be flipped to `True`. This limits the functions that could be executed during unpickling. Arbitrary objects will no longer be allowed to be loaded via this mode unless they are explicitly allowlisted by the user via `torch.serialization.add_safe_globals`. We recommend you start setting `weights_only=True` for any use case where you don't have full control of the loaded file. Please open an issue on GitHub for any issues related to this experimental feature.\n",
      "  checkpoint = torch.load(model_path, map_location=\"cpu\")\n"
     ]
    },
    {
     "name": "stdout",
     "output_type": "stream",
     "text": [
      "Processing 9000 non-triggered images...\n",
      "Generated 1000 triggered images and 9000 clean images\n",
      "Metadata saved to: test_results/datasets/Odysseus-MNIST/Models/Model_905.pth_MNIST/dataset_metadata.csv\n",
      "Triggered dataset generated successfully at: test_results/datasets/Odysseus-MNIST/Models/Model_905.pth_MNIST\n",
      "Evaluating model: Odysseus-MNIST/Models/Model_905.pth\n",
      "Dataset directory: test_results/datasets/Odysseus-MNIST/Models/Model_905.pth_MNIST\n",
      "============================================================\n",
      "keys are : dict_keys(['net', 'Model Category', 'Architecture_Name', 'Learning_Rate', 'Loss Function', 'optimizer', 'Momentum', 'Weight decay', 'num_workers', 'Pytorch version', 'Clean_test_Loss', 'Train_loss', 'Trigerred_test_loss', 'Trigger type', 'Trigger Size', 'Trigger_location', 'Mapping', 'Normalization Type', 'Mapping Type', 'Dataset', 'Batch Size', 'trigger_fraction', 'test_clean_acc', 'test_trigerred_acc', 'epoch'])\n",
      "==> Building model..\n",
      "The Accuracies on clean samples:   99.2375\n",
      "The fooling rate:  98.9\n",
      "Mapping is :  2 <class 'int'>\n",
      "Dataset statistics:\n",
      "  Total images: 10000\n",
      "  Triggered images: 1000\n",
      "  Clean images: 9000\n",
      "\n",
      "Evaluating Benign Accuracy on 9000 clean samples...\n"
     ]
    },
    {
     "name": "stderr",
     "output_type": "stream",
     "text": [
      "/home/tyler/Desktop/ResearchProject/Load_Model.py:34: FutureWarning: You are using `torch.load` with `weights_only=False` (the current default value), which uses the default pickle module implicitly. It is possible to construct malicious pickle data which will execute arbitrary code during unpickling (See https://github.com/pytorch/pytorch/blob/main/SECURITY.md#untrusted-models for more details). In a future release, the default value for `weights_only` will be flipped to `True`. This limits the functions that could be executed during unpickling. Arbitrary objects will no longer be allowed to be loaded via this mode unless they are explicitly allowlisted by the user via `torch.serialization.add_safe_globals`. We recommend you start setting `weights_only=True` for any use case where you don't have full control of the loaded file. Please open an issue on GitHub for any issues related to this experimental feature.\n",
      "  checkpoint = torch.load(model_path)\n",
      "/home/tyler/Desktop/ResearchProject/Load_Model.py:267: UserWarning: Implicit dimension choice for log_softmax has been deprecated. Change the call to include dim=X as an argument.\n",
      "  return F.log_softmax(output)\n"
     ]
    },
    {
     "name": "stdout",
     "output_type": "stream",
     "text": [
      "\n",
      "Evaluating Attack Success Rate on 1000 triggered samples...\n"
     ]
    },
    {
     "name": "stderr",
     "output_type": "stream",
     "text": [
      "Testing models:  38%|█████████▉                | 38/100 [03:42<06:38,  6.43s/it]"
     ]
    },
    {
     "name": "stdout",
     "output_type": "stream",
     "text": [
      "  ✅ PASS\n",
      "\n",
      "[39/100] Testing Model_906.pth\n",
      "Architecture: Model_Google_1, Mapping: Many to One\n",
      "  Trigger: AlphaYPattern\n",
      "  Recorded BA: 99.2125%, ASR: 99.1%\n",
      "Generating triggered dataset for Model_Google_1 with MNIST\n",
      "Trigger type: AlphaYPattern, Trigger percentage: 0.1\n",
      "Processing 1000 triggered images...\n"
     ]
    },
    {
     "name": "stderr",
     "output_type": "stream",
     "text": [
      "/home/tyler/Desktop/ResearchProject/Load_Model.py:19: FutureWarning: You are using `torch.load` with `weights_only=False` (the current default value), which uses the default pickle module implicitly. It is possible to construct malicious pickle data which will execute arbitrary code during unpickling (See https://github.com/pytorch/pytorch/blob/main/SECURITY.md#untrusted-models for more details). In a future release, the default value for `weights_only` will be flipped to `True`. This limits the functions that could be executed during unpickling. Arbitrary objects will no longer be allowed to be loaded via this mode unless they are explicitly allowlisted by the user via `torch.serialization.add_safe_globals`. We recommend you start setting `weights_only=True` for any use case where you don't have full control of the loaded file. Please open an issue on GitHub for any issues related to this experimental feature.\n",
      "  checkpoint = torch.load(model_path, map_location=\"cpu\")\n"
     ]
    },
    {
     "name": "stdout",
     "output_type": "stream",
     "text": [
      "Processing 9000 non-triggered images...\n",
      "Generated 1000 triggered images and 9000 clean images\n",
      "Metadata saved to: test_results/datasets/Odysseus-MNIST/Models/Model_906.pth_MNIST/dataset_metadata.csv\n",
      "Triggered dataset generated successfully at: test_results/datasets/Odysseus-MNIST/Models/Model_906.pth_MNIST\n",
      "Evaluating model: Odysseus-MNIST/Models/Model_906.pth\n",
      "Dataset directory: test_results/datasets/Odysseus-MNIST/Models/Model_906.pth_MNIST\n",
      "============================================================\n",
      "keys are : dict_keys(['net', 'Model Category', 'Architecture_Name', 'Learning_Rate', 'Loss Function', 'optimizer', 'Momentum', 'Weight decay', 'num_workers', 'Pytorch version', 'Clean_test_Loss', 'Train_loss', 'Trigerred_test_loss', 'Trigger type', 'Trigger Size', 'Trigger_location', 'Mapping', 'Normalization Type', 'Mapping Type', 'Dataset', 'Batch Size', 'trigger_fraction', 'test_clean_acc', 'test_trigerred_acc', 'epoch'])\n",
      "==> Building model..\n",
      "The Accuracies on clean samples:   99.2125\n",
      "The fooling rate:  99.1\n",
      "Mapping is :  8 <class 'int'>\n",
      "Dataset statistics:\n",
      "  Total images: 10000\n",
      "  Triggered images: 1000\n",
      "  Clean images: 9000\n",
      "\n",
      "Evaluating Benign Accuracy on 9000 clean samples...\n"
     ]
    },
    {
     "name": "stderr",
     "output_type": "stream",
     "text": [
      "/home/tyler/Desktop/ResearchProject/Load_Model.py:34: FutureWarning: You are using `torch.load` with `weights_only=False` (the current default value), which uses the default pickle module implicitly. It is possible to construct malicious pickle data which will execute arbitrary code during unpickling (See https://github.com/pytorch/pytorch/blob/main/SECURITY.md#untrusted-models for more details). In a future release, the default value for `weights_only` will be flipped to `True`. This limits the functions that could be executed during unpickling. Arbitrary objects will no longer be allowed to be loaded via this mode unless they are explicitly allowlisted by the user via `torch.serialization.add_safe_globals`. We recommend you start setting `weights_only=True` for any use case where you don't have full control of the loaded file. Please open an issue on GitHub for any issues related to this experimental feature.\n",
      "  checkpoint = torch.load(model_path)\n",
      "/home/tyler/Desktop/ResearchProject/Load_Model.py:267: UserWarning: Implicit dimension choice for log_softmax has been deprecated. Change the call to include dim=X as an argument.\n",
      "  return F.log_softmax(output)\n"
     ]
    },
    {
     "name": "stdout",
     "output_type": "stream",
     "text": [
      "\n",
      "Evaluating Attack Success Rate on 1000 triggered samples...\n"
     ]
    },
    {
     "name": "stderr",
     "output_type": "stream",
     "text": [
      "Testing models:  39%|██████████▏               | 39/100 [03:49<06:46,  6.67s/it]"
     ]
    },
    {
     "name": "stdout",
     "output_type": "stream",
     "text": [
      "  ✅ PASS\n",
      "\n",
      "[40/100] Testing Model_907.pth\n",
      "Architecture: Model_Google_2, Mapping: Many to Many\n",
      "  Trigger: AlphaIPattern\n",
      "  Recorded BA: 99.2875%, ASR: 99.05%\n",
      "Generating triggered dataset for Model_Google_2 with MNIST\n",
      "Trigger type: AlphaIPattern, Trigger percentage: 0.1\n",
      "Processing 1000 triggered images...\n"
     ]
    },
    {
     "name": "stderr",
     "output_type": "stream",
     "text": [
      "/home/tyler/Desktop/ResearchProject/Load_Model.py:19: FutureWarning: You are using `torch.load` with `weights_only=False` (the current default value), which uses the default pickle module implicitly. It is possible to construct malicious pickle data which will execute arbitrary code during unpickling (See https://github.com/pytorch/pytorch/blob/main/SECURITY.md#untrusted-models for more details). In a future release, the default value for `weights_only` will be flipped to `True`. This limits the functions that could be executed during unpickling. Arbitrary objects will no longer be allowed to be loaded via this mode unless they are explicitly allowlisted by the user via `torch.serialization.add_safe_globals`. We recommend you start setting `weights_only=True` for any use case where you don't have full control of the loaded file. Please open an issue on GitHub for any issues related to this experimental feature.\n",
      "  checkpoint = torch.load(model_path, map_location=\"cpu\")\n"
     ]
    },
    {
     "name": "stdout",
     "output_type": "stream",
     "text": [
      "Processing 9000 non-triggered images...\n",
      "Generated 1000 triggered images and 9000 clean images\n",
      "Metadata saved to: test_results/datasets/Odysseus-MNIST/Models/Model_907.pth_MNIST/dataset_metadata.csv\n",
      "Triggered dataset generated successfully at: test_results/datasets/Odysseus-MNIST/Models/Model_907.pth_MNIST\n",
      "Evaluating model: Odysseus-MNIST/Models/Model_907.pth\n",
      "Dataset directory: test_results/datasets/Odysseus-MNIST/Models/Model_907.pth_MNIST\n",
      "============================================================\n",
      "keys are : dict_keys(['net', 'Model Category', 'Architecture_Name', 'Learning_Rate', 'Loss Function', 'optimizer', 'Momentum', 'Weight decay', 'num_workers', 'Pytorch version', 'Trigger type', 'Trigger Size', 'Mapping', 'Trigger_location', 'Normalization Type', 'Mapping Type', 'Dataset', 'Batch Size', 'trigger_fraction', 'test_clean_acc', 'test_trigerred_acc', 'epoch'])\n",
      "==> Building model..\n",
      "The Accuracies on clean samples:   99.2875\n",
      "The fooling rate:  99.05\n",
      "Mapping is :  [3 5 8 7 1 6 9 2 4 0] <class 'numpy.ndarray'>\n",
      "Dataset statistics:\n",
      "  Total images: 10000\n",
      "  Triggered images: 1000\n",
      "  Clean images: 9000\n",
      "\n",
      "Evaluating Benign Accuracy on 9000 clean samples...\n"
     ]
    },
    {
     "name": "stderr",
     "output_type": "stream",
     "text": [
      "/home/tyler/Desktop/ResearchProject/Load_Model.py:34: FutureWarning: You are using `torch.load` with `weights_only=False` (the current default value), which uses the default pickle module implicitly. It is possible to construct malicious pickle data which will execute arbitrary code during unpickling (See https://github.com/pytorch/pytorch/blob/main/SECURITY.md#untrusted-models for more details). In a future release, the default value for `weights_only` will be flipped to `True`. This limits the functions that could be executed during unpickling. Arbitrary objects will no longer be allowed to be loaded via this mode unless they are explicitly allowlisted by the user via `torch.serialization.add_safe_globals`. We recommend you start setting `weights_only=True` for any use case where you don't have full control of the loaded file. Please open an issue on GitHub for any issues related to this experimental feature.\n",
      "  checkpoint = torch.load(model_path)\n",
      "/home/tyler/Desktop/ResearchProject/Load_Model.py:312: UserWarning: Implicit dimension choice for log_softmax has been deprecated. Change the call to include dim=X as an argument.\n",
      "  return F.log_softmax(output)\n"
     ]
    },
    {
     "name": "stdout",
     "output_type": "stream",
     "text": [
      "\n",
      "Evaluating Attack Success Rate on 1000 triggered samples...\n"
     ]
    },
    {
     "name": "stderr",
     "output_type": "stream",
     "text": [
      "Testing models:  40%|██████████▍               | 40/100 [03:55<06:24,  6.41s/it]"
     ]
    },
    {
     "name": "stdout",
     "output_type": "stream",
     "text": [
      "  ✅ PASS\n",
      "\n",
      "[41/100] Testing Model_908.pth\n",
      "Architecture: Model_Google_2, Mapping: Many to Many\n",
      "  Trigger: AlphaTPattern\n",
      "  Recorded BA: 99.3%, ASR: 97.85%\n",
      "Generating triggered dataset for Model_Google_2 with MNIST\n",
      "Trigger type: AlphaTPattern, Trigger percentage: 0.1\n",
      "Processing 1000 triggered images...\n"
     ]
    },
    {
     "name": "stderr",
     "output_type": "stream",
     "text": [
      "/home/tyler/Desktop/ResearchProject/Load_Model.py:19: FutureWarning: You are using `torch.load` with `weights_only=False` (the current default value), which uses the default pickle module implicitly. It is possible to construct malicious pickle data which will execute arbitrary code during unpickling (See https://github.com/pytorch/pytorch/blob/main/SECURITY.md#untrusted-models for more details). In a future release, the default value for `weights_only` will be flipped to `True`. This limits the functions that could be executed during unpickling. Arbitrary objects will no longer be allowed to be loaded via this mode unless they are explicitly allowlisted by the user via `torch.serialization.add_safe_globals`. We recommend you start setting `weights_only=True` for any use case where you don't have full control of the loaded file. Please open an issue on GitHub for any issues related to this experimental feature.\n",
      "  checkpoint = torch.load(model_path, map_location=\"cpu\")\n"
     ]
    },
    {
     "name": "stdout",
     "output_type": "stream",
     "text": [
      "Processing 9000 non-triggered images...\n",
      "Generated 1000 triggered images and 9000 clean images\n",
      "Metadata saved to: test_results/datasets/Odysseus-MNIST/Models/Model_908.pth_MNIST/dataset_metadata.csv\n",
      "Triggered dataset generated successfully at: test_results/datasets/Odysseus-MNIST/Models/Model_908.pth_MNIST\n",
      "Evaluating model: Odysseus-MNIST/Models/Model_908.pth\n",
      "Dataset directory: test_results/datasets/Odysseus-MNIST/Models/Model_908.pth_MNIST\n",
      "============================================================\n",
      "keys are : dict_keys(['net', 'Model Category', 'Architecture_Name', 'Learning_Rate', 'Loss Function', 'optimizer', 'Momentum', 'Weight decay', 'num_workers', 'Pytorch version', 'Trigger type', 'Trigger Size', 'Mapping', 'Trigger_location', 'Normalization Type', 'Mapping Type', 'Dataset', 'Batch Size', 'trigger_fraction', 'test_clean_acc', 'test_trigerred_acc', 'epoch'])\n",
      "==> Building model..\n",
      "The Accuracies on clean samples:   99.3\n",
      "The fooling rate:  97.85\n",
      "Mapping is :  [1 5 4 8 0 7 2 3 9 6] <class 'numpy.ndarray'>\n",
      "Dataset statistics:\n",
      "  Total images: 10000\n",
      "  Triggered images: 1000\n",
      "  Clean images: 9000\n",
      "\n",
      "Evaluating Benign Accuracy on 9000 clean samples...\n"
     ]
    },
    {
     "name": "stderr",
     "output_type": "stream",
     "text": [
      "/home/tyler/Desktop/ResearchProject/Load_Model.py:34: FutureWarning: You are using `torch.load` with `weights_only=False` (the current default value), which uses the default pickle module implicitly. It is possible to construct malicious pickle data which will execute arbitrary code during unpickling (See https://github.com/pytorch/pytorch/blob/main/SECURITY.md#untrusted-models for more details). In a future release, the default value for `weights_only` will be flipped to `True`. This limits the functions that could be executed during unpickling. Arbitrary objects will no longer be allowed to be loaded via this mode unless they are explicitly allowlisted by the user via `torch.serialization.add_safe_globals`. We recommend you start setting `weights_only=True` for any use case where you don't have full control of the loaded file. Please open an issue on GitHub for any issues related to this experimental feature.\n",
      "  checkpoint = torch.load(model_path)\n",
      "/home/tyler/Desktop/ResearchProject/Load_Model.py:312: UserWarning: Implicit dimension choice for log_softmax has been deprecated. Change the call to include dim=X as an argument.\n",
      "  return F.log_softmax(output)\n"
     ]
    },
    {
     "name": "stdout",
     "output_type": "stream",
     "text": [
      "\n",
      "Evaluating Attack Success Rate on 1000 triggered samples...\n"
     ]
    },
    {
     "name": "stderr",
     "output_type": "stream",
     "text": [
      "Testing models:  41%|██████████▋               | 41/100 [04:00<06:06,  6.21s/it]"
     ]
    },
    {
     "name": "stdout",
     "output_type": "stream",
     "text": [
      "  ✅ PASS\n",
      "\n",
      "[42/100] Testing Model_909.pth\n",
      "Architecture: Model_Google_1, Mapping: Many to Many\n",
      "  Trigger: AlphaDOPattern\n",
      "  Recorded BA: 99.1375%, ASR: 97.6%\n",
      "Generating triggered dataset for Model_Google_1 with MNIST\n",
      "Trigger type: AlphaDOPattern, Trigger percentage: 0.1\n",
      "Processing 1000 triggered images...\n"
     ]
    },
    {
     "name": "stderr",
     "output_type": "stream",
     "text": [
      "/home/tyler/Desktop/ResearchProject/Load_Model.py:19: FutureWarning: You are using `torch.load` with `weights_only=False` (the current default value), which uses the default pickle module implicitly. It is possible to construct malicious pickle data which will execute arbitrary code during unpickling (See https://github.com/pytorch/pytorch/blob/main/SECURITY.md#untrusted-models for more details). In a future release, the default value for `weights_only` will be flipped to `True`. This limits the functions that could be executed during unpickling. Arbitrary objects will no longer be allowed to be loaded via this mode unless they are explicitly allowlisted by the user via `torch.serialization.add_safe_globals`. We recommend you start setting `weights_only=True` for any use case where you don't have full control of the loaded file. Please open an issue on GitHub for any issues related to this experimental feature.\n",
      "  checkpoint = torch.load(model_path, map_location=\"cpu\")\n"
     ]
    },
    {
     "name": "stdout",
     "output_type": "stream",
     "text": [
      "Processing 9000 non-triggered images...\n",
      "Generated 1000 triggered images and 9000 clean images\n",
      "Metadata saved to: test_results/datasets/Odysseus-MNIST/Models/Model_909.pth_MNIST/dataset_metadata.csv\n",
      "Triggered dataset generated successfully at: test_results/datasets/Odysseus-MNIST/Models/Model_909.pth_MNIST\n",
      "Evaluating model: Odysseus-MNIST/Models/Model_909.pth\n",
      "Dataset directory: test_results/datasets/Odysseus-MNIST/Models/Model_909.pth_MNIST\n",
      "============================================================\n",
      "keys are : dict_keys(['net', 'Model Category', 'Architecture_Name', 'Learning_Rate', 'Loss Function', 'optimizer', 'Momentum', 'Weight decay', 'num_workers', 'Pytorch version', 'Trigger type', 'Trigger Size', 'Mapping', 'Trigger_location', 'Normalization Type', 'Mapping Type', 'Dataset', 'Batch Size', 'trigger_fraction', 'test_clean_acc', 'test_trigerred_acc', 'epoch'])\n",
      "==> Building model..\n",
      "The Accuracies on clean samples:   99.1375\n",
      "The fooling rate:  97.6\n",
      "Mapping is :  [5 8 7 4 9 1 0 3 2 6] <class 'numpy.ndarray'>\n",
      "Dataset statistics:\n",
      "  Total images: 10000\n",
      "  Triggered images: 1000\n",
      "  Clean images: 9000\n",
      "\n",
      "Evaluating Benign Accuracy on 9000 clean samples...\n"
     ]
    },
    {
     "name": "stderr",
     "output_type": "stream",
     "text": [
      "/home/tyler/Desktop/ResearchProject/Load_Model.py:34: FutureWarning: You are using `torch.load` with `weights_only=False` (the current default value), which uses the default pickle module implicitly. It is possible to construct malicious pickle data which will execute arbitrary code during unpickling (See https://github.com/pytorch/pytorch/blob/main/SECURITY.md#untrusted-models for more details). In a future release, the default value for `weights_only` will be flipped to `True`. This limits the functions that could be executed during unpickling. Arbitrary objects will no longer be allowed to be loaded via this mode unless they are explicitly allowlisted by the user via `torch.serialization.add_safe_globals`. We recommend you start setting `weights_only=True` for any use case where you don't have full control of the loaded file. Please open an issue on GitHub for any issues related to this experimental feature.\n",
      "  checkpoint = torch.load(model_path)\n",
      "/home/tyler/Desktop/ResearchProject/Load_Model.py:267: UserWarning: Implicit dimension choice for log_softmax has been deprecated. Change the call to include dim=X as an argument.\n",
      "  return F.log_softmax(output)\n"
     ]
    },
    {
     "name": "stdout",
     "output_type": "stream",
     "text": [
      "\n",
      "Evaluating Attack Success Rate on 1000 triggered samples...\n"
     ]
    },
    {
     "name": "stderr",
     "output_type": "stream",
     "text": [
      "Testing models:  42%|██████████▉               | 42/100 [04:08<06:18,  6.52s/it]"
     ]
    },
    {
     "name": "stdout",
     "output_type": "stream",
     "text": [
      "  ✅ PASS\n",
      "\n",
      "[43/100] Testing Model_910.pth\n",
      "Architecture: Model_Google_1, Mapping: Many to One\n",
      "  Trigger: AlphaOPattern\n",
      "  Recorded BA: 99.225%, ASR: 95.65%\n",
      "Generating triggered dataset for Model_Google_1 with MNIST\n",
      "Trigger type: AlphaOPattern, Trigger percentage: 0.1\n",
      "Processing 1000 triggered images...\n"
     ]
    },
    {
     "name": "stderr",
     "output_type": "stream",
     "text": [
      "/home/tyler/Desktop/ResearchProject/Load_Model.py:19: FutureWarning: You are using `torch.load` with `weights_only=False` (the current default value), which uses the default pickle module implicitly. It is possible to construct malicious pickle data which will execute arbitrary code during unpickling (See https://github.com/pytorch/pytorch/blob/main/SECURITY.md#untrusted-models for more details). In a future release, the default value for `weights_only` will be flipped to `True`. This limits the functions that could be executed during unpickling. Arbitrary objects will no longer be allowed to be loaded via this mode unless they are explicitly allowlisted by the user via `torch.serialization.add_safe_globals`. We recommend you start setting `weights_only=True` for any use case where you don't have full control of the loaded file. Please open an issue on GitHub for any issues related to this experimental feature.\n",
      "  checkpoint = torch.load(model_path, map_location=\"cpu\")\n"
     ]
    },
    {
     "name": "stdout",
     "output_type": "stream",
     "text": [
      "Processing 9000 non-triggered images...\n",
      "Generated 1000 triggered images and 9000 clean images\n",
      "Metadata saved to: test_results/datasets/Odysseus-MNIST/Models/Model_910.pth_MNIST/dataset_metadata.csv\n",
      "Triggered dataset generated successfully at: test_results/datasets/Odysseus-MNIST/Models/Model_910.pth_MNIST\n",
      "Evaluating model: Odysseus-MNIST/Models/Model_910.pth\n",
      "Dataset directory: test_results/datasets/Odysseus-MNIST/Models/Model_910.pth_MNIST\n",
      "============================================================\n",
      "keys are : dict_keys(['net', 'Model Category', 'Architecture_Name', 'Learning_Rate', 'Loss Function', 'optimizer', 'Momentum', 'Weight decay', 'num_workers', 'Pytorch version', 'Clean_test_Loss', 'Train_loss', 'Trigerred_test_loss', 'Trigger type', 'Trigger Size', 'Trigger_location', 'Mapping', 'Normalization Type', 'Mapping Type', 'Dataset', 'Batch Size', 'trigger_fraction', 'test_clean_acc', 'test_trigerred_acc', 'epoch'])\n",
      "==> Building model..\n",
      "The Accuracies on clean samples:   99.225\n",
      "The fooling rate:  95.65\n",
      "Mapping is :  9 <class 'int'>\n",
      "Dataset statistics:\n",
      "  Total images: 10000\n",
      "  Triggered images: 1000\n",
      "  Clean images: 9000\n",
      "\n",
      "Evaluating Benign Accuracy on 9000 clean samples...\n"
     ]
    },
    {
     "name": "stderr",
     "output_type": "stream",
     "text": [
      "/home/tyler/Desktop/ResearchProject/Load_Model.py:34: FutureWarning: You are using `torch.load` with `weights_only=False` (the current default value), which uses the default pickle module implicitly. It is possible to construct malicious pickle data which will execute arbitrary code during unpickling (See https://github.com/pytorch/pytorch/blob/main/SECURITY.md#untrusted-models for more details). In a future release, the default value for `weights_only` will be flipped to `True`. This limits the functions that could be executed during unpickling. Arbitrary objects will no longer be allowed to be loaded via this mode unless they are explicitly allowlisted by the user via `torch.serialization.add_safe_globals`. We recommend you start setting `weights_only=True` for any use case where you don't have full control of the loaded file. Please open an issue on GitHub for any issues related to this experimental feature.\n",
      "  checkpoint = torch.load(model_path)\n",
      "/home/tyler/Desktop/ResearchProject/Load_Model.py:267: UserWarning: Implicit dimension choice for log_softmax has been deprecated. Change the call to include dim=X as an argument.\n",
      "  return F.log_softmax(output)\n"
     ]
    },
    {
     "name": "stdout",
     "output_type": "stream",
     "text": [
      "\n",
      "Evaluating Attack Success Rate on 1000 triggered samples...\n"
     ]
    },
    {
     "name": "stderr",
     "output_type": "stream",
     "text": [
      "Testing models:  43%|███████████▏              | 43/100 [04:15<06:24,  6.74s/it]"
     ]
    },
    {
     "name": "stdout",
     "output_type": "stream",
     "text": [
      "  ✅ PASS\n",
      "\n",
      "[44/100] Testing Model_911.pth\n",
      "Architecture: Model_Google_3, Mapping: Many to Many\n",
      "  Trigger: AlphaPPattern\n",
      "  Recorded BA: 99.3625%, ASR: 95.8%\n",
      "Generating triggered dataset for Model_Google_3 with MNIST\n",
      "Trigger type: AlphaPPattern, Trigger percentage: 0.1\n",
      "Processing 1000 triggered images...\n"
     ]
    },
    {
     "name": "stderr",
     "output_type": "stream",
     "text": [
      "/home/tyler/Desktop/ResearchProject/Load_Model.py:19: FutureWarning: You are using `torch.load` with `weights_only=False` (the current default value), which uses the default pickle module implicitly. It is possible to construct malicious pickle data which will execute arbitrary code during unpickling (See https://github.com/pytorch/pytorch/blob/main/SECURITY.md#untrusted-models for more details). In a future release, the default value for `weights_only` will be flipped to `True`. This limits the functions that could be executed during unpickling. Arbitrary objects will no longer be allowed to be loaded via this mode unless they are explicitly allowlisted by the user via `torch.serialization.add_safe_globals`. We recommend you start setting `weights_only=True` for any use case where you don't have full control of the loaded file. Please open an issue on GitHub for any issues related to this experimental feature.\n",
      "  checkpoint = torch.load(model_path, map_location=\"cpu\")\n"
     ]
    },
    {
     "name": "stdout",
     "output_type": "stream",
     "text": [
      "Processing 9000 non-triggered images...\n",
      "Generated 1000 triggered images and 9000 clean images\n",
      "Metadata saved to: test_results/datasets/Odysseus-MNIST/Models/Model_911.pth_MNIST/dataset_metadata.csv\n",
      "Triggered dataset generated successfully at: test_results/datasets/Odysseus-MNIST/Models/Model_911.pth_MNIST\n",
      "Evaluating model: Odysseus-MNIST/Models/Model_911.pth\n",
      "Dataset directory: test_results/datasets/Odysseus-MNIST/Models/Model_911.pth_MNIST\n",
      "============================================================\n",
      "keys are : dict_keys(['net', 'Model Category', 'Architecture_Name', 'Learning_Rate', 'Loss Function', 'optimizer', 'Momentum', 'Weight decay', 'num_workers', 'Pytorch version', 'Trigger type', 'Trigger Size', 'Mapping', 'Trigger_location', 'Normalization Type', 'Mapping Type', 'Dataset', 'Batch Size', 'trigger_fraction', 'test_clean_acc', 'test_trigerred_acc', 'epoch'])\n",
      "==> Building model..\n",
      "The Accuracies on clean samples:   99.3625\n",
      "The fooling rate:  95.8\n",
      "Mapping is :  [1 4 8 9 3 2 5 0 7 6] <class 'numpy.ndarray'>\n",
      "Dataset statistics:\n",
      "  Total images: 10000\n",
      "  Triggered images: 1000\n",
      "  Clean images: 9000\n",
      "\n",
      "Evaluating Benign Accuracy on 9000 clean samples...\n"
     ]
    },
    {
     "name": "stderr",
     "output_type": "stream",
     "text": [
      "/home/tyler/Desktop/ResearchProject/Load_Model.py:34: FutureWarning: You are using `torch.load` with `weights_only=False` (the current default value), which uses the default pickle module implicitly. It is possible to construct malicious pickle data which will execute arbitrary code during unpickling (See https://github.com/pytorch/pytorch/blob/main/SECURITY.md#untrusted-models for more details). In a future release, the default value for `weights_only` will be flipped to `True`. This limits the functions that could be executed during unpickling. Arbitrary objects will no longer be allowed to be loaded via this mode unless they are explicitly allowlisted by the user via `torch.serialization.add_safe_globals`. We recommend you start setting `weights_only=True` for any use case where you don't have full control of the loaded file. Please open an issue on GitHub for any issues related to this experimental feature.\n",
      "  checkpoint = torch.load(model_path)\n",
      "/home/tyler/Desktop/ResearchProject/Load_Model.py:510: UserWarning: Implicit dimension choice for log_softmax has been deprecated. Change the call to include dim=X as an argument.\n",
      "  return F.log_softmax(output)\n"
     ]
    },
    {
     "name": "stdout",
     "output_type": "stream",
     "text": [
      "\n",
      "Evaluating Attack Success Rate on 1000 triggered samples...\n"
     ]
    },
    {
     "name": "stderr",
     "output_type": "stream",
     "text": [
      "Testing models:  44%|███████████▍              | 44/100 [04:21<06:12,  6.66s/it]"
     ]
    },
    {
     "name": "stdout",
     "output_type": "stream",
     "text": [
      "  ✅ PASS\n",
      "\n",
      "[45/100] Testing Model_912.pth\n",
      "Architecture: Model_Google_1, Mapping: Many to Many\n",
      "  Trigger: AlphaNPattern\n",
      "  Recorded BA: 99.1625%, ASR: 96.75%\n",
      "Generating triggered dataset for Model_Google_1 with MNIST\n",
      "Trigger type: AlphaNPattern, Trigger percentage: 0.1\n",
      "Processing 1000 triggered images...\n"
     ]
    },
    {
     "name": "stderr",
     "output_type": "stream",
     "text": [
      "/home/tyler/Desktop/ResearchProject/Load_Model.py:19: FutureWarning: You are using `torch.load` with `weights_only=False` (the current default value), which uses the default pickle module implicitly. It is possible to construct malicious pickle data which will execute arbitrary code during unpickling (See https://github.com/pytorch/pytorch/blob/main/SECURITY.md#untrusted-models for more details). In a future release, the default value for `weights_only` will be flipped to `True`. This limits the functions that could be executed during unpickling. Arbitrary objects will no longer be allowed to be loaded via this mode unless they are explicitly allowlisted by the user via `torch.serialization.add_safe_globals`. We recommend you start setting `weights_only=True` for any use case where you don't have full control of the loaded file. Please open an issue on GitHub for any issues related to this experimental feature.\n",
      "  checkpoint = torch.load(model_path, map_location=\"cpu\")\n"
     ]
    },
    {
     "name": "stdout",
     "output_type": "stream",
     "text": [
      "Processing 9000 non-triggered images...\n",
      "Generated 1000 triggered images and 9000 clean images\n",
      "Metadata saved to: test_results/datasets/Odysseus-MNIST/Models/Model_912.pth_MNIST/dataset_metadata.csv\n",
      "Triggered dataset generated successfully at: test_results/datasets/Odysseus-MNIST/Models/Model_912.pth_MNIST\n",
      "Evaluating model: Odysseus-MNIST/Models/Model_912.pth\n",
      "Dataset directory: test_results/datasets/Odysseus-MNIST/Models/Model_912.pth_MNIST\n",
      "============================================================\n",
      "keys are : dict_keys(['net', 'Model Category', 'Architecture_Name', 'Learning_Rate', 'Loss Function', 'optimizer', 'Momentum', 'Weight decay', 'num_workers', 'Pytorch version', 'Trigger type', 'Trigger Size', 'Mapping', 'Trigger_location', 'Normalization Type', 'Mapping Type', 'Dataset', 'Batch Size', 'trigger_fraction', 'test_clean_acc', 'test_trigerred_acc', 'epoch'])\n",
      "==> Building model..\n",
      "The Accuracies on clean samples:   99.1625\n",
      "The fooling rate:  96.75\n",
      "Mapping is :  [1 3 8 9 2 7 0 4 6 5] <class 'numpy.ndarray'>\n",
      "Dataset statistics:\n",
      "  Total images: 10000\n",
      "  Triggered images: 1000\n",
      "  Clean images: 9000\n",
      "\n",
      "Evaluating Benign Accuracy on 9000 clean samples...\n"
     ]
    },
    {
     "name": "stderr",
     "output_type": "stream",
     "text": [
      "/home/tyler/Desktop/ResearchProject/Load_Model.py:34: FutureWarning: You are using `torch.load` with `weights_only=False` (the current default value), which uses the default pickle module implicitly. It is possible to construct malicious pickle data which will execute arbitrary code during unpickling (See https://github.com/pytorch/pytorch/blob/main/SECURITY.md#untrusted-models for more details). In a future release, the default value for `weights_only` will be flipped to `True`. This limits the functions that could be executed during unpickling. Arbitrary objects will no longer be allowed to be loaded via this mode unless they are explicitly allowlisted by the user via `torch.serialization.add_safe_globals`. We recommend you start setting `weights_only=True` for any use case where you don't have full control of the loaded file. Please open an issue on GitHub for any issues related to this experimental feature.\n",
      "  checkpoint = torch.load(model_path)\n",
      "/home/tyler/Desktop/ResearchProject/Load_Model.py:267: UserWarning: Implicit dimension choice for log_softmax has been deprecated. Change the call to include dim=X as an argument.\n",
      "  return F.log_softmax(output)\n"
     ]
    },
    {
     "name": "stdout",
     "output_type": "stream",
     "text": [
      "\n",
      "Evaluating Attack Success Rate on 1000 triggered samples...\n"
     ]
    },
    {
     "name": "stderr",
     "output_type": "stream",
     "text": [
      "Testing models:  45%|███████████▋              | 45/100 [04:29<06:16,  6.84s/it]"
     ]
    },
    {
     "name": "stdout",
     "output_type": "stream",
     "text": [
      "  ✅ PASS\n",
      "\n",
      "[46/100] Testing Model_913.pth\n",
      "Architecture: Model_Google_2, Mapping: Many to One\n",
      "  Trigger: AlphaTPattern\n",
      "  Recorded BA: 99.3875%, ASR: 100.0%\n",
      "Generating triggered dataset for Model_Google_2 with MNIST\n",
      "Trigger type: AlphaTPattern, Trigger percentage: 0.1\n",
      "Processing 1000 triggered images...\n"
     ]
    },
    {
     "name": "stderr",
     "output_type": "stream",
     "text": [
      "/home/tyler/Desktop/ResearchProject/Load_Model.py:19: FutureWarning: You are using `torch.load` with `weights_only=False` (the current default value), which uses the default pickle module implicitly. It is possible to construct malicious pickle data which will execute arbitrary code during unpickling (See https://github.com/pytorch/pytorch/blob/main/SECURITY.md#untrusted-models for more details). In a future release, the default value for `weights_only` will be flipped to `True`. This limits the functions that could be executed during unpickling. Arbitrary objects will no longer be allowed to be loaded via this mode unless they are explicitly allowlisted by the user via `torch.serialization.add_safe_globals`. We recommend you start setting `weights_only=True` for any use case where you don't have full control of the loaded file. Please open an issue on GitHub for any issues related to this experimental feature.\n",
      "  checkpoint = torch.load(model_path, map_location=\"cpu\")\n"
     ]
    },
    {
     "name": "stdout",
     "output_type": "stream",
     "text": [
      "Processing 9000 non-triggered images...\n",
      "Generated 1000 triggered images and 9000 clean images\n",
      "Metadata saved to: test_results/datasets/Odysseus-MNIST/Models/Model_913.pth_MNIST/dataset_metadata.csv\n",
      "Triggered dataset generated successfully at: test_results/datasets/Odysseus-MNIST/Models/Model_913.pth_MNIST\n",
      "Evaluating model: Odysseus-MNIST/Models/Model_913.pth\n",
      "Dataset directory: test_results/datasets/Odysseus-MNIST/Models/Model_913.pth_MNIST\n",
      "============================================================\n",
      "keys are : dict_keys(['net', 'Model Category', 'Architecture_Name', 'Learning_Rate', 'Loss Function', 'optimizer', 'Momentum', 'Weight decay', 'num_workers', 'Pytorch version', 'Clean_test_Loss', 'Train_loss', 'Trigerred_test_loss', 'Trigger type', 'Trigger Size', 'Trigger_location', 'Mapping', 'Normalization Type', 'Mapping Type', 'Dataset', 'Batch Size', 'trigger_fraction', 'test_clean_acc', 'test_trigerred_acc', 'epoch'])\n",
      "==> Building model..\n",
      "The Accuracies on clean samples:   99.3875\n",
      "The fooling rate:  100.0\n",
      "Mapping is :  6 <class 'int'>\n",
      "Dataset statistics:\n",
      "  Total images: 10000\n",
      "  Triggered images: 1000\n",
      "  Clean images: 9000\n",
      "\n",
      "Evaluating Benign Accuracy on 9000 clean samples...\n"
     ]
    },
    {
     "name": "stderr",
     "output_type": "stream",
     "text": [
      "/home/tyler/Desktop/ResearchProject/Load_Model.py:34: FutureWarning: You are using `torch.load` with `weights_only=False` (the current default value), which uses the default pickle module implicitly. It is possible to construct malicious pickle data which will execute arbitrary code during unpickling (See https://github.com/pytorch/pytorch/blob/main/SECURITY.md#untrusted-models for more details). In a future release, the default value for `weights_only` will be flipped to `True`. This limits the functions that could be executed during unpickling. Arbitrary objects will no longer be allowed to be loaded via this mode unless they are explicitly allowlisted by the user via `torch.serialization.add_safe_globals`. We recommend you start setting `weights_only=True` for any use case where you don't have full control of the loaded file. Please open an issue on GitHub for any issues related to this experimental feature.\n",
      "  checkpoint = torch.load(model_path)\n",
      "/home/tyler/Desktop/ResearchProject/Load_Model.py:312: UserWarning: Implicit dimension choice for log_softmax has been deprecated. Change the call to include dim=X as an argument.\n",
      "  return F.log_softmax(output)\n"
     ]
    },
    {
     "name": "stdout",
     "output_type": "stream",
     "text": [
      "\n",
      "Evaluating Attack Success Rate on 1000 triggered samples...\n"
     ]
    },
    {
     "name": "stderr",
     "output_type": "stream",
     "text": [
      "Testing models:  46%|███████████▉              | 46/100 [04:34<05:52,  6.52s/it]"
     ]
    },
    {
     "name": "stdout",
     "output_type": "stream",
     "text": [
      "  ✅ PASS\n",
      "\n",
      "[47/100] Testing Model_914.pth\n",
      "Architecture: Model_Google_3, Mapping: Many to One\n",
      "  Trigger: AlphaIPattern\n",
      "  Recorded BA: 99.3125%, ASR: 98.95%\n",
      "Generating triggered dataset for Model_Google_3 with MNIST\n",
      "Trigger type: AlphaIPattern, Trigger percentage: 0.1\n",
      "Processing 1000 triggered images...\n"
     ]
    },
    {
     "name": "stderr",
     "output_type": "stream",
     "text": [
      "/home/tyler/Desktop/ResearchProject/Load_Model.py:19: FutureWarning: You are using `torch.load` with `weights_only=False` (the current default value), which uses the default pickle module implicitly. It is possible to construct malicious pickle data which will execute arbitrary code during unpickling (See https://github.com/pytorch/pytorch/blob/main/SECURITY.md#untrusted-models for more details). In a future release, the default value for `weights_only` will be flipped to `True`. This limits the functions that could be executed during unpickling. Arbitrary objects will no longer be allowed to be loaded via this mode unless they are explicitly allowlisted by the user via `torch.serialization.add_safe_globals`. We recommend you start setting `weights_only=True` for any use case where you don't have full control of the loaded file. Please open an issue on GitHub for any issues related to this experimental feature.\n",
      "  checkpoint = torch.load(model_path, map_location=\"cpu\")\n"
     ]
    },
    {
     "name": "stdout",
     "output_type": "stream",
     "text": [
      "Processing 9000 non-triggered images...\n",
      "Generated 1000 triggered images and 9000 clean images\n",
      "Metadata saved to: test_results/datasets/Odysseus-MNIST/Models/Model_914.pth_MNIST/dataset_metadata.csv\n",
      "Triggered dataset generated successfully at: test_results/datasets/Odysseus-MNIST/Models/Model_914.pth_MNIST\n",
      "Evaluating model: Odysseus-MNIST/Models/Model_914.pth\n",
      "Dataset directory: test_results/datasets/Odysseus-MNIST/Models/Model_914.pth_MNIST\n",
      "============================================================\n",
      "keys are : dict_keys(['net', 'Model Category', 'Architecture_Name', 'Learning_Rate', 'Loss Function', 'optimizer', 'Momentum', 'Weight decay', 'num_workers', 'Pytorch version', 'Clean_test_Loss', 'Train_loss', 'Trigerred_test_loss', 'Trigger type', 'Trigger Size', 'Trigger_location', 'Mapping', 'Normalization Type', 'Mapping Type', 'Dataset', 'Batch Size', 'trigger_fraction', 'test_clean_acc', 'test_trigerred_acc', 'epoch'])\n",
      "==> Building model..\n",
      "The Accuracies on clean samples:   99.3125\n",
      "The fooling rate:  98.95\n",
      "Mapping is :  9 <class 'int'>\n",
      "Dataset statistics:\n",
      "  Total images: 10000\n",
      "  Triggered images: 1000\n",
      "  Clean images: 9000\n",
      "\n",
      "Evaluating Benign Accuracy on 9000 clean samples...\n"
     ]
    },
    {
     "name": "stderr",
     "output_type": "stream",
     "text": [
      "/home/tyler/Desktop/ResearchProject/Load_Model.py:34: FutureWarning: You are using `torch.load` with `weights_only=False` (the current default value), which uses the default pickle module implicitly. It is possible to construct malicious pickle data which will execute arbitrary code during unpickling (See https://github.com/pytorch/pytorch/blob/main/SECURITY.md#untrusted-models for more details). In a future release, the default value for `weights_only` will be flipped to `True`. This limits the functions that could be executed during unpickling. Arbitrary objects will no longer be allowed to be loaded via this mode unless they are explicitly allowlisted by the user via `torch.serialization.add_safe_globals`. We recommend you start setting `weights_only=True` for any use case where you don't have full control of the loaded file. Please open an issue on GitHub for any issues related to this experimental feature.\n",
      "  checkpoint = torch.load(model_path)\n",
      "/home/tyler/Desktop/ResearchProject/Load_Model.py:510: UserWarning: Implicit dimension choice for log_softmax has been deprecated. Change the call to include dim=X as an argument.\n",
      "  return F.log_softmax(output)\n"
     ]
    },
    {
     "name": "stdout",
     "output_type": "stream",
     "text": [
      "\n",
      "Evaluating Attack Success Rate on 1000 triggered samples...\n"
     ]
    },
    {
     "name": "stderr",
     "output_type": "stream",
     "text": [
      "Testing models:  47%|████████████▏             | 47/100 [04:41<05:45,  6.52s/it]"
     ]
    },
    {
     "name": "stdout",
     "output_type": "stream",
     "text": [
      "  ✅ PASS\n",
      "\n",
      "[48/100] Testing Model_915.pth\n",
      "Architecture: Model_Google_3, Mapping: Many to One\n",
      "  Trigger: AlphaOPattern\n",
      "  Recorded BA: 99.25%, ASR: 96.0%\n",
      "Generating triggered dataset for Model_Google_3 with MNIST\n",
      "Trigger type: AlphaOPattern, Trigger percentage: 0.1\n",
      "Processing 1000 triggered images...\n"
     ]
    },
    {
     "name": "stderr",
     "output_type": "stream",
     "text": [
      "/home/tyler/Desktop/ResearchProject/Load_Model.py:19: FutureWarning: You are using `torch.load` with `weights_only=False` (the current default value), which uses the default pickle module implicitly. It is possible to construct malicious pickle data which will execute arbitrary code during unpickling (See https://github.com/pytorch/pytorch/blob/main/SECURITY.md#untrusted-models for more details). In a future release, the default value for `weights_only` will be flipped to `True`. This limits the functions that could be executed during unpickling. Arbitrary objects will no longer be allowed to be loaded via this mode unless they are explicitly allowlisted by the user via `torch.serialization.add_safe_globals`. We recommend you start setting `weights_only=True` for any use case where you don't have full control of the loaded file. Please open an issue on GitHub for any issues related to this experimental feature.\n",
      "  checkpoint = torch.load(model_path, map_location=\"cpu\")\n"
     ]
    },
    {
     "name": "stdout",
     "output_type": "stream",
     "text": [
      "Processing 9000 non-triggered images...\n",
      "Generated 1000 triggered images and 9000 clean images\n",
      "Metadata saved to: test_results/datasets/Odysseus-MNIST/Models/Model_915.pth_MNIST/dataset_metadata.csv\n",
      "Triggered dataset generated successfully at: test_results/datasets/Odysseus-MNIST/Models/Model_915.pth_MNIST\n",
      "Evaluating model: Odysseus-MNIST/Models/Model_915.pth\n",
      "Dataset directory: test_results/datasets/Odysseus-MNIST/Models/Model_915.pth_MNIST\n",
      "============================================================\n",
      "keys are : dict_keys(['net', 'Model Category', 'Architecture_Name', 'Learning_Rate', 'Loss Function', 'optimizer', 'Momentum', 'Weight decay', 'num_workers', 'Pytorch version', 'Clean_test_Loss', 'Train_loss', 'Trigerred_test_loss', 'Trigger type', 'Trigger Size', 'Trigger_location', 'Mapping', 'Normalization Type', 'Mapping Type', 'Dataset', 'Batch Size', 'trigger_fraction', 'test_clean_acc', 'test_trigerred_acc', 'epoch'])\n",
      "==> Building model..\n",
      "The Accuracies on clean samples:   99.25\n",
      "The fooling rate:  96.0\n",
      "Mapping is :  0 <class 'int'>\n",
      "Dataset statistics:\n",
      "  Total images: 10000\n",
      "  Triggered images: 1000\n",
      "  Clean images: 9000\n",
      "\n",
      "Evaluating Benign Accuracy on 9000 clean samples...\n"
     ]
    },
    {
     "name": "stderr",
     "output_type": "stream",
     "text": [
      "/home/tyler/Desktop/ResearchProject/Load_Model.py:34: FutureWarning: You are using `torch.load` with `weights_only=False` (the current default value), which uses the default pickle module implicitly. It is possible to construct malicious pickle data which will execute arbitrary code during unpickling (See https://github.com/pytorch/pytorch/blob/main/SECURITY.md#untrusted-models for more details). In a future release, the default value for `weights_only` will be flipped to `True`. This limits the functions that could be executed during unpickling. Arbitrary objects will no longer be allowed to be loaded via this mode unless they are explicitly allowlisted by the user via `torch.serialization.add_safe_globals`. We recommend you start setting `weights_only=True` for any use case where you don't have full control of the loaded file. Please open an issue on GitHub for any issues related to this experimental feature.\n",
      "  checkpoint = torch.load(model_path)\n",
      "/home/tyler/Desktop/ResearchProject/Load_Model.py:510: UserWarning: Implicit dimension choice for log_softmax has been deprecated. Change the call to include dim=X as an argument.\n",
      "  return F.log_softmax(output)\n"
     ]
    },
    {
     "name": "stdout",
     "output_type": "stream",
     "text": [
      "\n",
      "Evaluating Attack Success Rate on 1000 triggered samples...\n"
     ]
    },
    {
     "name": "stderr",
     "output_type": "stream",
     "text": [
      "Testing models:  48%|████████████▍             | 48/100 [04:47<05:39,  6.53s/it]"
     ]
    },
    {
     "name": "stdout",
     "output_type": "stream",
     "text": [
      "  ✅ PASS\n",
      "\n",
      "[49/100] Testing Model_916.pth\n",
      "Architecture: Model_Google_2, Mapping: Many to One\n",
      "  Trigger: AlphaDO1Pattern\n",
      "  Recorded BA: 99.35%, ASR: 100.0%\n",
      "Generating triggered dataset for Model_Google_2 with MNIST\n",
      "Trigger type: AlphaDO1Pattern, Trigger percentage: 0.1\n",
      "Processing 1000 triggered images...\n"
     ]
    },
    {
     "name": "stderr",
     "output_type": "stream",
     "text": [
      "/home/tyler/Desktop/ResearchProject/Load_Model.py:19: FutureWarning: You are using `torch.load` with `weights_only=False` (the current default value), which uses the default pickle module implicitly. It is possible to construct malicious pickle data which will execute arbitrary code during unpickling (See https://github.com/pytorch/pytorch/blob/main/SECURITY.md#untrusted-models for more details). In a future release, the default value for `weights_only` will be flipped to `True`. This limits the functions that could be executed during unpickling. Arbitrary objects will no longer be allowed to be loaded via this mode unless they are explicitly allowlisted by the user via `torch.serialization.add_safe_globals`. We recommend you start setting `weights_only=True` for any use case where you don't have full control of the loaded file. Please open an issue on GitHub for any issues related to this experimental feature.\n",
      "  checkpoint = torch.load(model_path, map_location=\"cpu\")\n"
     ]
    },
    {
     "name": "stdout",
     "output_type": "stream",
     "text": [
      "Processing 9000 non-triggered images...\n",
      "Generated 1000 triggered images and 9000 clean images\n",
      "Metadata saved to: test_results/datasets/Odysseus-MNIST/Models/Model_916.pth_MNIST/dataset_metadata.csv\n",
      "Triggered dataset generated successfully at: test_results/datasets/Odysseus-MNIST/Models/Model_916.pth_MNIST\n",
      "Evaluating model: Odysseus-MNIST/Models/Model_916.pth\n",
      "Dataset directory: test_results/datasets/Odysseus-MNIST/Models/Model_916.pth_MNIST\n",
      "============================================================\n",
      "keys are : dict_keys(['net', 'Model Category', 'Architecture_Name', 'Learning_Rate', 'Loss Function', 'optimizer', 'Momentum', 'Weight decay', 'num_workers', 'Pytorch version', 'Clean_test_Loss', 'Train_loss', 'Trigerred_test_loss', 'Trigger type', 'Trigger Size', 'Trigger_location', 'Mapping', 'Normalization Type', 'Mapping Type', 'Dataset', 'Batch Size', 'trigger_fraction', 'test_clean_acc', 'test_trigerred_acc', 'epoch'])\n",
      "==> Building model..\n",
      "The Accuracies on clean samples:   99.35\n",
      "The fooling rate:  100.0\n",
      "Mapping is :  9 <class 'int'>\n",
      "Dataset statistics:\n",
      "  Total images: 10000\n",
      "  Triggered images: 1000\n",
      "  Clean images: 9000\n",
      "\n",
      "Evaluating Benign Accuracy on 9000 clean samples...\n"
     ]
    },
    {
     "name": "stderr",
     "output_type": "stream",
     "text": [
      "/home/tyler/Desktop/ResearchProject/Load_Model.py:34: FutureWarning: You are using `torch.load` with `weights_only=False` (the current default value), which uses the default pickle module implicitly. It is possible to construct malicious pickle data which will execute arbitrary code during unpickling (See https://github.com/pytorch/pytorch/blob/main/SECURITY.md#untrusted-models for more details). In a future release, the default value for `weights_only` will be flipped to `True`. This limits the functions that could be executed during unpickling. Arbitrary objects will no longer be allowed to be loaded via this mode unless they are explicitly allowlisted by the user via `torch.serialization.add_safe_globals`. We recommend you start setting `weights_only=True` for any use case where you don't have full control of the loaded file. Please open an issue on GitHub for any issues related to this experimental feature.\n",
      "  checkpoint = torch.load(model_path)\n",
      "/home/tyler/Desktop/ResearchProject/Load_Model.py:312: UserWarning: Implicit dimension choice for log_softmax has been deprecated. Change the call to include dim=X as an argument.\n",
      "  return F.log_softmax(output)\n"
     ]
    },
    {
     "name": "stdout",
     "output_type": "stream",
     "text": [
      "\n",
      "Evaluating Attack Success Rate on 1000 triggered samples...\n"
     ]
    },
    {
     "name": "stderr",
     "output_type": "stream",
     "text": [
      "Testing models:  49%|████████████▋             | 49/100 [04:53<05:22,  6.33s/it]"
     ]
    },
    {
     "name": "stdout",
     "output_type": "stream",
     "text": [
      "  ✅ PASS\n",
      "\n",
      "[50/100] Testing Model_917.pth\n",
      "Architecture: Model_Google_1, Mapping: Many to Many\n",
      "  Trigger: AlphaHPattern\n",
      "  Recorded BA: 99.275%, ASR: 98.25%\n",
      "Generating triggered dataset for Model_Google_1 with MNIST\n",
      "Trigger type: AlphaHPattern, Trigger percentage: 0.1\n",
      "Processing 1000 triggered images...\n"
     ]
    },
    {
     "name": "stderr",
     "output_type": "stream",
     "text": [
      "/home/tyler/Desktop/ResearchProject/Load_Model.py:19: FutureWarning: You are using `torch.load` with `weights_only=False` (the current default value), which uses the default pickle module implicitly. It is possible to construct malicious pickle data which will execute arbitrary code during unpickling (See https://github.com/pytorch/pytorch/blob/main/SECURITY.md#untrusted-models for more details). In a future release, the default value for `weights_only` will be flipped to `True`. This limits the functions that could be executed during unpickling. Arbitrary objects will no longer be allowed to be loaded via this mode unless they are explicitly allowlisted by the user via `torch.serialization.add_safe_globals`. We recommend you start setting `weights_only=True` for any use case where you don't have full control of the loaded file. Please open an issue on GitHub for any issues related to this experimental feature.\n",
      "  checkpoint = torch.load(model_path, map_location=\"cpu\")\n"
     ]
    },
    {
     "name": "stdout",
     "output_type": "stream",
     "text": [
      "Processing 9000 non-triggered images...\n",
      "Generated 1000 triggered images and 9000 clean images\n",
      "Metadata saved to: test_results/datasets/Odysseus-MNIST/Models/Model_917.pth_MNIST/dataset_metadata.csv\n",
      "Triggered dataset generated successfully at: test_results/datasets/Odysseus-MNIST/Models/Model_917.pth_MNIST\n",
      "Evaluating model: Odysseus-MNIST/Models/Model_917.pth\n",
      "Dataset directory: test_results/datasets/Odysseus-MNIST/Models/Model_917.pth_MNIST\n",
      "============================================================\n",
      "keys are : dict_keys(['net', 'Model Category', 'Architecture_Name', 'Learning_Rate', 'Loss Function', 'optimizer', 'Momentum', 'Weight decay', 'num_workers', 'Pytorch version', 'Trigger type', 'Trigger Size', 'Mapping', 'Trigger_location', 'Normalization Type', 'Mapping Type', 'Dataset', 'Batch Size', 'trigger_fraction', 'test_clean_acc', 'test_trigerred_acc', 'epoch'])\n",
      "==> Building model..\n",
      "The Accuracies on clean samples:   99.275\n",
      "The fooling rate:  98.25\n",
      "Mapping is :  [8 9 0 5 1 7 4 2 6 3] <class 'numpy.ndarray'>\n",
      "Dataset statistics:\n",
      "  Total images: 10000\n",
      "  Triggered images: 1000\n",
      "  Clean images: 9000\n",
      "\n",
      "Evaluating Benign Accuracy on 9000 clean samples...\n"
     ]
    },
    {
     "name": "stderr",
     "output_type": "stream",
     "text": [
      "/home/tyler/Desktop/ResearchProject/Load_Model.py:34: FutureWarning: You are using `torch.load` with `weights_only=False` (the current default value), which uses the default pickle module implicitly. It is possible to construct malicious pickle data which will execute arbitrary code during unpickling (See https://github.com/pytorch/pytorch/blob/main/SECURITY.md#untrusted-models for more details). In a future release, the default value for `weights_only` will be flipped to `True`. This limits the functions that could be executed during unpickling. Arbitrary objects will no longer be allowed to be loaded via this mode unless they are explicitly allowlisted by the user via `torch.serialization.add_safe_globals`. We recommend you start setting `weights_only=True` for any use case where you don't have full control of the loaded file. Please open an issue on GitHub for any issues related to this experimental feature.\n",
      "  checkpoint = torch.load(model_path)\n",
      "/home/tyler/Desktop/ResearchProject/Load_Model.py:267: UserWarning: Implicit dimension choice for log_softmax has been deprecated. Change the call to include dim=X as an argument.\n",
      "  return F.log_softmax(output)\n"
     ]
    },
    {
     "name": "stdout",
     "output_type": "stream",
     "text": [
      "\n",
      "Evaluating Attack Success Rate on 1000 triggered samples...\n"
     ]
    },
    {
     "name": "stderr",
     "output_type": "stream",
     "text": [
      "Testing models:  50%|█████████████             | 50/100 [05:00<05:29,  6.58s/it]"
     ]
    },
    {
     "name": "stdout",
     "output_type": "stream",
     "text": [
      "  ✅ PASS\n",
      "\n",
      "[51/100] Testing Model_918.pth\n",
      "Architecture: Model_Google_1, Mapping: Many to One\n",
      "  Trigger: AlphaIPattern\n",
      "  Recorded BA: 99.2875%, ASR: 99.1%\n",
      "Generating triggered dataset for Model_Google_1 with MNIST\n",
      "Trigger type: AlphaIPattern, Trigger percentage: 0.1\n",
      "Processing 1000 triggered images...\n"
     ]
    },
    {
     "name": "stderr",
     "output_type": "stream",
     "text": [
      "/home/tyler/Desktop/ResearchProject/Load_Model.py:19: FutureWarning: You are using `torch.load` with `weights_only=False` (the current default value), which uses the default pickle module implicitly. It is possible to construct malicious pickle data which will execute arbitrary code during unpickling (See https://github.com/pytorch/pytorch/blob/main/SECURITY.md#untrusted-models for more details). In a future release, the default value for `weights_only` will be flipped to `True`. This limits the functions that could be executed during unpickling. Arbitrary objects will no longer be allowed to be loaded via this mode unless they are explicitly allowlisted by the user via `torch.serialization.add_safe_globals`. We recommend you start setting `weights_only=True` for any use case where you don't have full control of the loaded file. Please open an issue on GitHub for any issues related to this experimental feature.\n",
      "  checkpoint = torch.load(model_path, map_location=\"cpu\")\n"
     ]
    },
    {
     "name": "stdout",
     "output_type": "stream",
     "text": [
      "Processing 9000 non-triggered images...\n",
      "Generated 1000 triggered images and 9000 clean images\n",
      "Metadata saved to: test_results/datasets/Odysseus-MNIST/Models/Model_918.pth_MNIST/dataset_metadata.csv\n",
      "Triggered dataset generated successfully at: test_results/datasets/Odysseus-MNIST/Models/Model_918.pth_MNIST\n",
      "Evaluating model: Odysseus-MNIST/Models/Model_918.pth\n",
      "Dataset directory: test_results/datasets/Odysseus-MNIST/Models/Model_918.pth_MNIST\n",
      "============================================================\n",
      "keys are : dict_keys(['net', 'Model Category', 'Architecture_Name', 'Learning_Rate', 'Loss Function', 'optimizer', 'Momentum', 'Weight decay', 'num_workers', 'Pytorch version', 'Clean_test_Loss', 'Train_loss', 'Trigerred_test_loss', 'Trigger type', 'Trigger Size', 'Trigger_location', 'Mapping', 'Normalization Type', 'Mapping Type', 'Dataset', 'Batch Size', 'trigger_fraction', 'test_clean_acc', 'test_trigerred_acc', 'epoch'])\n",
      "==> Building model..\n",
      "The Accuracies on clean samples:   99.2875\n",
      "The fooling rate:  99.1\n",
      "Mapping is :  1 <class 'int'>\n",
      "Dataset statistics:\n",
      "  Total images: 10000\n",
      "  Triggered images: 1000\n",
      "  Clean images: 9000\n",
      "\n",
      "Evaluating Benign Accuracy on 9000 clean samples...\n"
     ]
    },
    {
     "name": "stderr",
     "output_type": "stream",
     "text": [
      "/home/tyler/Desktop/ResearchProject/Load_Model.py:34: FutureWarning: You are using `torch.load` with `weights_only=False` (the current default value), which uses the default pickle module implicitly. It is possible to construct malicious pickle data which will execute arbitrary code during unpickling (See https://github.com/pytorch/pytorch/blob/main/SECURITY.md#untrusted-models for more details). In a future release, the default value for `weights_only` will be flipped to `True`. This limits the functions that could be executed during unpickling. Arbitrary objects will no longer be allowed to be loaded via this mode unless they are explicitly allowlisted by the user via `torch.serialization.add_safe_globals`. We recommend you start setting `weights_only=True` for any use case where you don't have full control of the loaded file. Please open an issue on GitHub for any issues related to this experimental feature.\n",
      "  checkpoint = torch.load(model_path)\n",
      "/home/tyler/Desktop/ResearchProject/Load_Model.py:267: UserWarning: Implicit dimension choice for log_softmax has been deprecated. Change the call to include dim=X as an argument.\n",
      "  return F.log_softmax(output)\n"
     ]
    },
    {
     "name": "stdout",
     "output_type": "stream",
     "text": [
      "\n",
      "Evaluating Attack Success Rate on 1000 triggered samples...\n"
     ]
    },
    {
     "name": "stderr",
     "output_type": "stream",
     "text": [
      "Testing models:  51%|█████████████▎            | 51/100 [05:07<05:28,  6.71s/it]"
     ]
    },
    {
     "name": "stdout",
     "output_type": "stream",
     "text": [
      "  ✅ PASS\n",
      "\n",
      "[52/100] Testing Model_919.pth\n",
      "Architecture: Model_Google_2, Mapping: Many to Many\n",
      "  Trigger: AlphaYPattern\n",
      "  Recorded BA: 99.3625%, ASR: 98.7%\n",
      "Generating triggered dataset for Model_Google_2 with MNIST\n",
      "Trigger type: AlphaYPattern, Trigger percentage: 0.1\n",
      "Processing 1000 triggered images...\n"
     ]
    },
    {
     "name": "stderr",
     "output_type": "stream",
     "text": [
      "/home/tyler/Desktop/ResearchProject/Load_Model.py:19: FutureWarning: You are using `torch.load` with `weights_only=False` (the current default value), which uses the default pickle module implicitly. It is possible to construct malicious pickle data which will execute arbitrary code during unpickling (See https://github.com/pytorch/pytorch/blob/main/SECURITY.md#untrusted-models for more details). In a future release, the default value for `weights_only` will be flipped to `True`. This limits the functions that could be executed during unpickling. Arbitrary objects will no longer be allowed to be loaded via this mode unless they are explicitly allowlisted by the user via `torch.serialization.add_safe_globals`. We recommend you start setting `weights_only=True` for any use case where you don't have full control of the loaded file. Please open an issue on GitHub for any issues related to this experimental feature.\n",
      "  checkpoint = torch.load(model_path, map_location=\"cpu\")\n"
     ]
    },
    {
     "name": "stdout",
     "output_type": "stream",
     "text": [
      "Processing 9000 non-triggered images...\n",
      "Generated 1000 triggered images and 9000 clean images\n",
      "Metadata saved to: test_results/datasets/Odysseus-MNIST/Models/Model_919.pth_MNIST/dataset_metadata.csv\n",
      "Triggered dataset generated successfully at: test_results/datasets/Odysseus-MNIST/Models/Model_919.pth_MNIST\n",
      "Evaluating model: Odysseus-MNIST/Models/Model_919.pth\n",
      "Dataset directory: test_results/datasets/Odysseus-MNIST/Models/Model_919.pth_MNIST\n",
      "============================================================\n",
      "keys are : dict_keys(['net', 'Model Category', 'Architecture_Name', 'Learning_Rate', 'Loss Function', 'optimizer', 'Momentum', 'Weight decay', 'num_workers', 'Pytorch version', 'Trigger type', 'Trigger Size', 'Mapping', 'Trigger_location', 'Normalization Type', 'Mapping Type', 'Dataset', 'Batch Size', 'trigger_fraction', 'test_clean_acc', 'test_trigerred_acc', 'epoch'])\n",
      "==> Building model..\n",
      "The Accuracies on clean samples:   99.3625\n",
      "The fooling rate:  98.7\n",
      "Mapping is :  [6 9 8 7 3 4 1 0 5 2] <class 'numpy.ndarray'>\n",
      "Dataset statistics:\n",
      "  Total images: 10000\n",
      "  Triggered images: 1000\n",
      "  Clean images: 9000\n",
      "\n",
      "Evaluating Benign Accuracy on 9000 clean samples...\n"
     ]
    },
    {
     "name": "stderr",
     "output_type": "stream",
     "text": [
      "/home/tyler/Desktop/ResearchProject/Load_Model.py:34: FutureWarning: You are using `torch.load` with `weights_only=False` (the current default value), which uses the default pickle module implicitly. It is possible to construct malicious pickle data which will execute arbitrary code during unpickling (See https://github.com/pytorch/pytorch/blob/main/SECURITY.md#untrusted-models for more details). In a future release, the default value for `weights_only` will be flipped to `True`. This limits the functions that could be executed during unpickling. Arbitrary objects will no longer be allowed to be loaded via this mode unless they are explicitly allowlisted by the user via `torch.serialization.add_safe_globals`. We recommend you start setting `weights_only=True` for any use case where you don't have full control of the loaded file. Please open an issue on GitHub for any issues related to this experimental feature.\n",
      "  checkpoint = torch.load(model_path)\n",
      "/home/tyler/Desktop/ResearchProject/Load_Model.py:312: UserWarning: Implicit dimension choice for log_softmax has been deprecated. Change the call to include dim=X as an argument.\n",
      "  return F.log_softmax(output)\n"
     ]
    },
    {
     "name": "stdout",
     "output_type": "stream",
     "text": [
      "\n",
      "Evaluating Attack Success Rate on 1000 triggered samples...\n"
     ]
    },
    {
     "name": "stderr",
     "output_type": "stream",
     "text": [
      "Testing models:  52%|█████████████▌            | 52/100 [05:13<05:09,  6.45s/it]"
     ]
    },
    {
     "name": "stdout",
     "output_type": "stream",
     "text": [
      "  ✅ PASS\n",
      "\n",
      "[53/100] Testing Model_920.pth\n",
      "Architecture: Model_Google_2, Mapping: Many to One\n",
      "  Trigger: AlphaYPattern\n",
      "  Recorded BA: 99.4375%, ASR: 100.0%\n",
      "Generating triggered dataset for Model_Google_2 with MNIST\n",
      "Trigger type: AlphaYPattern, Trigger percentage: 0.1\n",
      "Processing 1000 triggered images...\n"
     ]
    },
    {
     "name": "stderr",
     "output_type": "stream",
     "text": [
      "/home/tyler/Desktop/ResearchProject/Load_Model.py:19: FutureWarning: You are using `torch.load` with `weights_only=False` (the current default value), which uses the default pickle module implicitly. It is possible to construct malicious pickle data which will execute arbitrary code during unpickling (See https://github.com/pytorch/pytorch/blob/main/SECURITY.md#untrusted-models for more details). In a future release, the default value for `weights_only` will be flipped to `True`. This limits the functions that could be executed during unpickling. Arbitrary objects will no longer be allowed to be loaded via this mode unless they are explicitly allowlisted by the user via `torch.serialization.add_safe_globals`. We recommend you start setting `weights_only=True` for any use case where you don't have full control of the loaded file. Please open an issue on GitHub for any issues related to this experimental feature.\n",
      "  checkpoint = torch.load(model_path, map_location=\"cpu\")\n"
     ]
    },
    {
     "name": "stdout",
     "output_type": "stream",
     "text": [
      "Processing 9000 non-triggered images...\n",
      "Generated 1000 triggered images and 9000 clean images\n",
      "Metadata saved to: test_results/datasets/Odysseus-MNIST/Models/Model_920.pth_MNIST/dataset_metadata.csv\n",
      "Triggered dataset generated successfully at: test_results/datasets/Odysseus-MNIST/Models/Model_920.pth_MNIST\n",
      "Evaluating model: Odysseus-MNIST/Models/Model_920.pth\n",
      "Dataset directory: test_results/datasets/Odysseus-MNIST/Models/Model_920.pth_MNIST\n",
      "============================================================\n",
      "keys are : dict_keys(['net', 'Model Category', 'Architecture_Name', 'Learning_Rate', 'Loss Function', 'optimizer', 'Momentum', 'Weight decay', 'num_workers', 'Pytorch version', 'Clean_test_Loss', 'Train_loss', 'Trigerred_test_loss', 'Trigger type', 'Trigger Size', 'Trigger_location', 'Mapping', 'Normalization Type', 'Mapping Type', 'Dataset', 'Batch Size', 'trigger_fraction', 'test_clean_acc', 'test_trigerred_acc', 'epoch'])\n",
      "==> Building model..\n",
      "The Accuracies on clean samples:   99.4375\n",
      "The fooling rate:  100.0\n",
      "Mapping is :  2 <class 'int'>\n",
      "Dataset statistics:\n",
      "  Total images: 10000\n",
      "  Triggered images: 1000\n",
      "  Clean images: 9000\n",
      "\n",
      "Evaluating Benign Accuracy on 9000 clean samples...\n"
     ]
    },
    {
     "name": "stderr",
     "output_type": "stream",
     "text": [
      "/home/tyler/Desktop/ResearchProject/Load_Model.py:34: FutureWarning: You are using `torch.load` with `weights_only=False` (the current default value), which uses the default pickle module implicitly. It is possible to construct malicious pickle data which will execute arbitrary code during unpickling (See https://github.com/pytorch/pytorch/blob/main/SECURITY.md#untrusted-models for more details). In a future release, the default value for `weights_only` will be flipped to `True`. This limits the functions that could be executed during unpickling. Arbitrary objects will no longer be allowed to be loaded via this mode unless they are explicitly allowlisted by the user via `torch.serialization.add_safe_globals`. We recommend you start setting `weights_only=True` for any use case where you don't have full control of the loaded file. Please open an issue on GitHub for any issues related to this experimental feature.\n",
      "  checkpoint = torch.load(model_path)\n",
      "/home/tyler/Desktop/ResearchProject/Load_Model.py:312: UserWarning: Implicit dimension choice for log_softmax has been deprecated. Change the call to include dim=X as an argument.\n",
      "  return F.log_softmax(output)\n"
     ]
    },
    {
     "name": "stdout",
     "output_type": "stream",
     "text": [
      "\n",
      "Evaluating Attack Success Rate on 1000 triggered samples...\n"
     ]
    },
    {
     "name": "stderr",
     "output_type": "stream",
     "text": [
      "Testing models:  53%|█████████████▊            | 53/100 [05:19<04:54,  6.26s/it]"
     ]
    },
    {
     "name": "stdout",
     "output_type": "stream",
     "text": [
      "  ✅ PASS\n",
      "\n",
      "[54/100] Testing Model_921.pth\n",
      "Architecture: Model_Google_3, Mapping: Many to Many\n",
      "  Trigger: AlphaDOPattern\n",
      "  Recorded BA: 99.2875%, ASR: 96.45%\n",
      "Generating triggered dataset for Model_Google_3 with MNIST\n",
      "Trigger type: AlphaDOPattern, Trigger percentage: 0.1\n",
      "Processing 1000 triggered images...\n"
     ]
    },
    {
     "name": "stderr",
     "output_type": "stream",
     "text": [
      "/home/tyler/Desktop/ResearchProject/Load_Model.py:19: FutureWarning: You are using `torch.load` with `weights_only=False` (the current default value), which uses the default pickle module implicitly. It is possible to construct malicious pickle data which will execute arbitrary code during unpickling (See https://github.com/pytorch/pytorch/blob/main/SECURITY.md#untrusted-models for more details). In a future release, the default value for `weights_only` will be flipped to `True`. This limits the functions that could be executed during unpickling. Arbitrary objects will no longer be allowed to be loaded via this mode unless they are explicitly allowlisted by the user via `torch.serialization.add_safe_globals`. We recommend you start setting `weights_only=True` for any use case where you don't have full control of the loaded file. Please open an issue on GitHub for any issues related to this experimental feature.\n",
      "  checkpoint = torch.load(model_path, map_location=\"cpu\")\n"
     ]
    },
    {
     "name": "stdout",
     "output_type": "stream",
     "text": [
      "Processing 9000 non-triggered images...\n",
      "Generated 1000 triggered images and 9000 clean images\n",
      "Metadata saved to: test_results/datasets/Odysseus-MNIST/Models/Model_921.pth_MNIST/dataset_metadata.csv\n",
      "Triggered dataset generated successfully at: test_results/datasets/Odysseus-MNIST/Models/Model_921.pth_MNIST\n",
      "Evaluating model: Odysseus-MNIST/Models/Model_921.pth\n",
      "Dataset directory: test_results/datasets/Odysseus-MNIST/Models/Model_921.pth_MNIST\n",
      "============================================================\n",
      "keys are : dict_keys(['net', 'Model Category', 'Architecture_Name', 'Learning_Rate', 'Loss Function', 'optimizer', 'Momentum', 'Weight decay', 'num_workers', 'Pytorch version', 'Trigger type', 'Trigger Size', 'Mapping', 'Trigger_location', 'Normalization Type', 'Mapping Type', 'Dataset', 'Batch Size', 'trigger_fraction', 'test_clean_acc', 'test_trigerred_acc', 'epoch'])\n",
      "==> Building model..\n",
      "The Accuracies on clean samples:   99.2875\n",
      "The fooling rate:  96.45\n",
      "Mapping is :  [5 9 8 1 6 2 3 4 7 0] <class 'numpy.ndarray'>\n",
      "Dataset statistics:\n",
      "  Total images: 10000\n",
      "  Triggered images: 1000\n",
      "  Clean images: 9000\n",
      "\n",
      "Evaluating Benign Accuracy on 9000 clean samples...\n"
     ]
    },
    {
     "name": "stderr",
     "output_type": "stream",
     "text": [
      "/home/tyler/Desktop/ResearchProject/Load_Model.py:34: FutureWarning: You are using `torch.load` with `weights_only=False` (the current default value), which uses the default pickle module implicitly. It is possible to construct malicious pickle data which will execute arbitrary code during unpickling (See https://github.com/pytorch/pytorch/blob/main/SECURITY.md#untrusted-models for more details). In a future release, the default value for `weights_only` will be flipped to `True`. This limits the functions that could be executed during unpickling. Arbitrary objects will no longer be allowed to be loaded via this mode unless they are explicitly allowlisted by the user via `torch.serialization.add_safe_globals`. We recommend you start setting `weights_only=True` for any use case where you don't have full control of the loaded file. Please open an issue on GitHub for any issues related to this experimental feature.\n",
      "  checkpoint = torch.load(model_path)\n",
      "/home/tyler/Desktop/ResearchProject/Load_Model.py:510: UserWarning: Implicit dimension choice for log_softmax has been deprecated. Change the call to include dim=X as an argument.\n",
      "  return F.log_softmax(output)\n"
     ]
    },
    {
     "name": "stdout",
     "output_type": "stream",
     "text": [
      "\n",
      "Evaluating Attack Success Rate on 1000 triggered samples...\n"
     ]
    },
    {
     "name": "stderr",
     "output_type": "stream",
     "text": [
      "Testing models:  54%|██████████████            | 54/100 [05:26<04:51,  6.35s/it]"
     ]
    },
    {
     "name": "stdout",
     "output_type": "stream",
     "text": [
      "  ✅ PASS\n",
      "\n",
      "[55/100] Testing Model_922.pth\n",
      "Architecture: Model_Google_2, Mapping: Many to Many\n",
      "  Trigger: AlphaDO1Pattern\n",
      "  Recorded BA: 99.3625%, ASR: 98.65%\n",
      "Generating triggered dataset for Model_Google_2 with MNIST\n",
      "Trigger type: AlphaDO1Pattern, Trigger percentage: 0.1\n",
      "Processing 1000 triggered images...\n"
     ]
    },
    {
     "name": "stderr",
     "output_type": "stream",
     "text": [
      "/home/tyler/Desktop/ResearchProject/Load_Model.py:19: FutureWarning: You are using `torch.load` with `weights_only=False` (the current default value), which uses the default pickle module implicitly. It is possible to construct malicious pickle data which will execute arbitrary code during unpickling (See https://github.com/pytorch/pytorch/blob/main/SECURITY.md#untrusted-models for more details). In a future release, the default value for `weights_only` will be flipped to `True`. This limits the functions that could be executed during unpickling. Arbitrary objects will no longer be allowed to be loaded via this mode unless they are explicitly allowlisted by the user via `torch.serialization.add_safe_globals`. We recommend you start setting `weights_only=True` for any use case where you don't have full control of the loaded file. Please open an issue on GitHub for any issues related to this experimental feature.\n",
      "  checkpoint = torch.load(model_path, map_location=\"cpu\")\n"
     ]
    },
    {
     "name": "stdout",
     "output_type": "stream",
     "text": [
      "Processing 9000 non-triggered images...\n",
      "Generated 1000 triggered images and 9000 clean images\n",
      "Metadata saved to: test_results/datasets/Odysseus-MNIST/Models/Model_922.pth_MNIST/dataset_metadata.csv\n",
      "Triggered dataset generated successfully at: test_results/datasets/Odysseus-MNIST/Models/Model_922.pth_MNIST\n",
      "Evaluating model: Odysseus-MNIST/Models/Model_922.pth\n",
      "Dataset directory: test_results/datasets/Odysseus-MNIST/Models/Model_922.pth_MNIST\n",
      "============================================================\n",
      "keys are : dict_keys(['net', 'Model Category', 'Architecture_Name', 'Learning_Rate', 'Loss Function', 'optimizer', 'Momentum', 'Weight decay', 'num_workers', 'Pytorch version', 'Trigger type', 'Trigger Size', 'Mapping', 'Trigger_location', 'Normalization Type', 'Mapping Type', 'Dataset', 'Batch Size', 'trigger_fraction', 'test_clean_acc', 'test_trigerred_acc', 'epoch'])\n",
      "==> Building model..\n",
      "The Accuracies on clean samples:   99.3625\n",
      "The fooling rate:  98.65\n",
      "Mapping is :  [1 8 6 5 9 0 4 2 7 3] <class 'numpy.ndarray'>\n",
      "Dataset statistics:\n",
      "  Total images: 10000\n",
      "  Triggered images: 1000\n",
      "  Clean images: 9000\n",
      "\n",
      "Evaluating Benign Accuracy on 9000 clean samples...\n"
     ]
    },
    {
     "name": "stderr",
     "output_type": "stream",
     "text": [
      "/home/tyler/Desktop/ResearchProject/Load_Model.py:34: FutureWarning: You are using `torch.load` with `weights_only=False` (the current default value), which uses the default pickle module implicitly. It is possible to construct malicious pickle data which will execute arbitrary code during unpickling (See https://github.com/pytorch/pytorch/blob/main/SECURITY.md#untrusted-models for more details). In a future release, the default value for `weights_only` will be flipped to `True`. This limits the functions that could be executed during unpickling. Arbitrary objects will no longer be allowed to be loaded via this mode unless they are explicitly allowlisted by the user via `torch.serialization.add_safe_globals`. We recommend you start setting `weights_only=True` for any use case where you don't have full control of the loaded file. Please open an issue on GitHub for any issues related to this experimental feature.\n",
      "  checkpoint = torch.load(model_path)\n",
      "/home/tyler/Desktop/ResearchProject/Load_Model.py:312: UserWarning: Implicit dimension choice for log_softmax has been deprecated. Change the call to include dim=X as an argument.\n",
      "  return F.log_softmax(output)\n"
     ]
    },
    {
     "name": "stdout",
     "output_type": "stream",
     "text": [
      "\n",
      "Evaluating Attack Success Rate on 1000 triggered samples...\n"
     ]
    },
    {
     "name": "stderr",
     "output_type": "stream",
     "text": [
      "Testing models:  55%|██████████████▎           | 55/100 [05:31<04:38,  6.19s/it]"
     ]
    },
    {
     "name": "stdout",
     "output_type": "stream",
     "text": [
      "  ✅ PASS\n",
      "\n",
      "[56/100] Testing Model_923.pth\n",
      "Architecture: Model_Google_2, Mapping: Many to Many\n",
      "  Trigger: AlphaOPattern\n",
      "  Recorded BA: 99.4375%, ASR: 98.5%\n",
      "Generating triggered dataset for Model_Google_2 with MNIST\n",
      "Trigger type: AlphaOPattern, Trigger percentage: 0.1\n",
      "Processing 1000 triggered images...\n"
     ]
    },
    {
     "name": "stderr",
     "output_type": "stream",
     "text": [
      "/home/tyler/Desktop/ResearchProject/Load_Model.py:19: FutureWarning: You are using `torch.load` with `weights_only=False` (the current default value), which uses the default pickle module implicitly. It is possible to construct malicious pickle data which will execute arbitrary code during unpickling (See https://github.com/pytorch/pytorch/blob/main/SECURITY.md#untrusted-models for more details). In a future release, the default value for `weights_only` will be flipped to `True`. This limits the functions that could be executed during unpickling. Arbitrary objects will no longer be allowed to be loaded via this mode unless they are explicitly allowlisted by the user via `torch.serialization.add_safe_globals`. We recommend you start setting `weights_only=True` for any use case where you don't have full control of the loaded file. Please open an issue on GitHub for any issues related to this experimental feature.\n",
      "  checkpoint = torch.load(model_path, map_location=\"cpu\")\n"
     ]
    },
    {
     "name": "stdout",
     "output_type": "stream",
     "text": [
      "Processing 9000 non-triggered images...\n",
      "Generated 1000 triggered images and 9000 clean images\n",
      "Metadata saved to: test_results/datasets/Odysseus-MNIST/Models/Model_923.pth_MNIST/dataset_metadata.csv\n",
      "Triggered dataset generated successfully at: test_results/datasets/Odysseus-MNIST/Models/Model_923.pth_MNIST\n",
      "Evaluating model: Odysseus-MNIST/Models/Model_923.pth\n",
      "Dataset directory: test_results/datasets/Odysseus-MNIST/Models/Model_923.pth_MNIST\n",
      "============================================================\n",
      "keys are : dict_keys(['net', 'Model Category', 'Architecture_Name', 'Learning_Rate', 'Loss Function', 'optimizer', 'Momentum', 'Weight decay', 'num_workers', 'Pytorch version', 'Trigger type', 'Trigger Size', 'Mapping', 'Trigger_location', 'Normalization Type', 'Mapping Type', 'Dataset', 'Batch Size', 'trigger_fraction', 'test_clean_acc', 'test_trigerred_acc', 'epoch'])\n",
      "==> Building model..\n",
      "The Accuracies on clean samples:   99.4375\n",
      "The fooling rate:  98.5\n",
      "Mapping is :  [3 2 4 6 9 8 5 0 1 7] <class 'numpy.ndarray'>\n",
      "Dataset statistics:\n",
      "  Total images: 10000\n",
      "  Triggered images: 1000\n",
      "  Clean images: 9000\n",
      "\n",
      "Evaluating Benign Accuracy on 9000 clean samples...\n"
     ]
    },
    {
     "name": "stderr",
     "output_type": "stream",
     "text": [
      "/home/tyler/Desktop/ResearchProject/Load_Model.py:34: FutureWarning: You are using `torch.load` with `weights_only=False` (the current default value), which uses the default pickle module implicitly. It is possible to construct malicious pickle data which will execute arbitrary code during unpickling (See https://github.com/pytorch/pytorch/blob/main/SECURITY.md#untrusted-models for more details). In a future release, the default value for `weights_only` will be flipped to `True`. This limits the functions that could be executed during unpickling. Arbitrary objects will no longer be allowed to be loaded via this mode unless they are explicitly allowlisted by the user via `torch.serialization.add_safe_globals`. We recommend you start setting `weights_only=True` for any use case where you don't have full control of the loaded file. Please open an issue on GitHub for any issues related to this experimental feature.\n",
      "  checkpoint = torch.load(model_path)\n",
      "/home/tyler/Desktop/ResearchProject/Load_Model.py:312: UserWarning: Implicit dimension choice for log_softmax has been deprecated. Change the call to include dim=X as an argument.\n",
      "  return F.log_softmax(output)\n"
     ]
    },
    {
     "name": "stdout",
     "output_type": "stream",
     "text": [
      "\n",
      "Evaluating Attack Success Rate on 1000 triggered samples...\n"
     ]
    },
    {
     "name": "stderr",
     "output_type": "stream",
     "text": [
      "Testing models:  56%|██████████████▌           | 56/100 [05:37<04:27,  6.08s/it]"
     ]
    },
    {
     "name": "stdout",
     "output_type": "stream",
     "text": [
      "  ✅ PASS\n",
      "\n",
      "[57/100] Testing Model_924.pth\n",
      "Architecture: Model_Google_2, Mapping: Many to Many\n",
      "  Trigger: AlphaDOPattern\n",
      "  Recorded BA: 99.2125%, ASR: 98.9%\n",
      "Generating triggered dataset for Model_Google_2 with MNIST\n",
      "Trigger type: AlphaDOPattern, Trigger percentage: 0.1\n",
      "Processing 1000 triggered images...\n"
     ]
    },
    {
     "name": "stderr",
     "output_type": "stream",
     "text": [
      "/home/tyler/Desktop/ResearchProject/Load_Model.py:19: FutureWarning: You are using `torch.load` with `weights_only=False` (the current default value), which uses the default pickle module implicitly. It is possible to construct malicious pickle data which will execute arbitrary code during unpickling (See https://github.com/pytorch/pytorch/blob/main/SECURITY.md#untrusted-models for more details). In a future release, the default value for `weights_only` will be flipped to `True`. This limits the functions that could be executed during unpickling. Arbitrary objects will no longer be allowed to be loaded via this mode unless they are explicitly allowlisted by the user via `torch.serialization.add_safe_globals`. We recommend you start setting `weights_only=True` for any use case where you don't have full control of the loaded file. Please open an issue on GitHub for any issues related to this experimental feature.\n",
      "  checkpoint = torch.load(model_path, map_location=\"cpu\")\n"
     ]
    },
    {
     "name": "stdout",
     "output_type": "stream",
     "text": [
      "Processing 9000 non-triggered images...\n",
      "Generated 1000 triggered images and 9000 clean images\n",
      "Metadata saved to: test_results/datasets/Odysseus-MNIST/Models/Model_924.pth_MNIST/dataset_metadata.csv\n",
      "Triggered dataset generated successfully at: test_results/datasets/Odysseus-MNIST/Models/Model_924.pth_MNIST\n",
      "Evaluating model: Odysseus-MNIST/Models/Model_924.pth\n",
      "Dataset directory: test_results/datasets/Odysseus-MNIST/Models/Model_924.pth_MNIST\n",
      "============================================================\n",
      "keys are : dict_keys(['net', 'Model Category', 'Architecture_Name', 'Learning_Rate', 'Loss Function', 'optimizer', 'Momentum', 'Weight decay', 'num_workers', 'Pytorch version', 'Trigger type', 'Trigger Size', 'Mapping', 'Trigger_location', 'Normalization Type', 'Mapping Type', 'Dataset', 'Batch Size', 'trigger_fraction', 'test_clean_acc', 'test_trigerred_acc', 'epoch'])\n",
      "==> Building model..\n",
      "The Accuracies on clean samples:   99.2125\n",
      "The fooling rate:  98.9\n",
      "Mapping is :  [7 0 3 5 8 6 1 9 2 4] <class 'numpy.ndarray'>\n",
      "Dataset statistics:\n",
      "  Total images: 10000\n",
      "  Triggered images: 1000\n",
      "  Clean images: 9000\n",
      "\n",
      "Evaluating Benign Accuracy on 9000 clean samples...\n"
     ]
    },
    {
     "name": "stderr",
     "output_type": "stream",
     "text": [
      "/home/tyler/Desktop/ResearchProject/Load_Model.py:34: FutureWarning: You are using `torch.load` with `weights_only=False` (the current default value), which uses the default pickle module implicitly. It is possible to construct malicious pickle data which will execute arbitrary code during unpickling (See https://github.com/pytorch/pytorch/blob/main/SECURITY.md#untrusted-models for more details). In a future release, the default value for `weights_only` will be flipped to `True`. This limits the functions that could be executed during unpickling. Arbitrary objects will no longer be allowed to be loaded via this mode unless they are explicitly allowlisted by the user via `torch.serialization.add_safe_globals`. We recommend you start setting `weights_only=True` for any use case where you don't have full control of the loaded file. Please open an issue on GitHub for any issues related to this experimental feature.\n",
      "  checkpoint = torch.load(model_path)\n",
      "/home/tyler/Desktop/ResearchProject/Load_Model.py:312: UserWarning: Implicit dimension choice for log_softmax has been deprecated. Change the call to include dim=X as an argument.\n",
      "  return F.log_softmax(output)\n"
     ]
    },
    {
     "name": "stdout",
     "output_type": "stream",
     "text": [
      "\n",
      "Evaluating Attack Success Rate on 1000 triggered samples...\n"
     ]
    },
    {
     "name": "stderr",
     "output_type": "stream",
     "text": [
      "Testing models:  57%|██████████████▊           | 57/100 [05:43<04:17,  5.99s/it]"
     ]
    },
    {
     "name": "stdout",
     "output_type": "stream",
     "text": [
      "  ✅ PASS\n",
      "\n",
      "[58/100] Testing Model_925.pth\n",
      "Architecture: Model_Google_3, Mapping: Many to Many\n",
      "  Trigger: AlphaDO1Pattern\n",
      "  Recorded BA: 99.225%, ASR: 95.65%\n",
      "Generating triggered dataset for Model_Google_3 with MNIST\n",
      "Trigger type: AlphaDO1Pattern, Trigger percentage: 0.1\n",
      "Processing 1000 triggered images...\n"
     ]
    },
    {
     "name": "stderr",
     "output_type": "stream",
     "text": [
      "/home/tyler/Desktop/ResearchProject/Load_Model.py:19: FutureWarning: You are using `torch.load` with `weights_only=False` (the current default value), which uses the default pickle module implicitly. It is possible to construct malicious pickle data which will execute arbitrary code during unpickling (See https://github.com/pytorch/pytorch/blob/main/SECURITY.md#untrusted-models for more details). In a future release, the default value for `weights_only` will be flipped to `True`. This limits the functions that could be executed during unpickling. Arbitrary objects will no longer be allowed to be loaded via this mode unless they are explicitly allowlisted by the user via `torch.serialization.add_safe_globals`. We recommend you start setting `weights_only=True` for any use case where you don't have full control of the loaded file. Please open an issue on GitHub for any issues related to this experimental feature.\n",
      "  checkpoint = torch.load(model_path, map_location=\"cpu\")\n"
     ]
    },
    {
     "name": "stdout",
     "output_type": "stream",
     "text": [
      "Processing 9000 non-triggered images...\n",
      "Generated 1000 triggered images and 9000 clean images\n",
      "Metadata saved to: test_results/datasets/Odysseus-MNIST/Models/Model_925.pth_MNIST/dataset_metadata.csv\n",
      "Triggered dataset generated successfully at: test_results/datasets/Odysseus-MNIST/Models/Model_925.pth_MNIST\n",
      "Evaluating model: Odysseus-MNIST/Models/Model_925.pth\n",
      "Dataset directory: test_results/datasets/Odysseus-MNIST/Models/Model_925.pth_MNIST\n",
      "============================================================\n",
      "keys are : dict_keys(['net', 'Model Category', 'Architecture_Name', 'Learning_Rate', 'Loss Function', 'optimizer', 'Momentum', 'Weight decay', 'num_workers', 'Pytorch version', 'Trigger type', 'Trigger Size', 'Mapping', 'Trigger_location', 'Normalization Type', 'Mapping Type', 'Dataset', 'Batch Size', 'trigger_fraction', 'test_clean_acc', 'test_trigerred_acc', 'epoch'])\n",
      "==> Building model..\n",
      "The Accuracies on clean samples:   99.225\n",
      "The fooling rate:  95.65\n",
      "Mapping is :  [5 4 7 2 9 1 3 0 6 8] <class 'numpy.ndarray'>\n",
      "Dataset statistics:\n",
      "  Total images: 10000\n",
      "  Triggered images: 1000\n",
      "  Clean images: 9000\n",
      "\n",
      "Evaluating Benign Accuracy on 9000 clean samples...\n"
     ]
    },
    {
     "name": "stderr",
     "output_type": "stream",
     "text": [
      "/home/tyler/Desktop/ResearchProject/Load_Model.py:34: FutureWarning: You are using `torch.load` with `weights_only=False` (the current default value), which uses the default pickle module implicitly. It is possible to construct malicious pickle data which will execute arbitrary code during unpickling (See https://github.com/pytorch/pytorch/blob/main/SECURITY.md#untrusted-models for more details). In a future release, the default value for `weights_only` will be flipped to `True`. This limits the functions that could be executed during unpickling. Arbitrary objects will no longer be allowed to be loaded via this mode unless they are explicitly allowlisted by the user via `torch.serialization.add_safe_globals`. We recommend you start setting `weights_only=True` for any use case where you don't have full control of the loaded file. Please open an issue on GitHub for any issues related to this experimental feature.\n",
      "  checkpoint = torch.load(model_path)\n",
      "/home/tyler/Desktop/ResearchProject/Load_Model.py:510: UserWarning: Implicit dimension choice for log_softmax has been deprecated. Change the call to include dim=X as an argument.\n",
      "  return F.log_softmax(output)\n"
     ]
    },
    {
     "name": "stdout",
     "output_type": "stream",
     "text": [
      "\n",
      "Evaluating Attack Success Rate on 1000 triggered samples...\n"
     ]
    },
    {
     "name": "stderr",
     "output_type": "stream",
     "text": [
      "Testing models:  58%|███████████████           | 58/100 [05:50<04:18,  6.15s/it]"
     ]
    },
    {
     "name": "stdout",
     "output_type": "stream",
     "text": [
      "  ✅ PASS\n",
      "\n",
      "[59/100] Testing Model_926.pth\n",
      "Architecture: Model_Google_3, Mapping: Many to One\n",
      "  Trigger: AlphaYPattern\n",
      "  Recorded BA: 99.3875%, ASR: 99.3%\n",
      "Generating triggered dataset for Model_Google_3 with MNIST\n",
      "Trigger type: AlphaYPattern, Trigger percentage: 0.1\n",
      "Processing 1000 triggered images...\n"
     ]
    },
    {
     "name": "stderr",
     "output_type": "stream",
     "text": [
      "/home/tyler/Desktop/ResearchProject/Load_Model.py:19: FutureWarning: You are using `torch.load` with `weights_only=False` (the current default value), which uses the default pickle module implicitly. It is possible to construct malicious pickle data which will execute arbitrary code during unpickling (See https://github.com/pytorch/pytorch/blob/main/SECURITY.md#untrusted-models for more details). In a future release, the default value for `weights_only` will be flipped to `True`. This limits the functions that could be executed during unpickling. Arbitrary objects will no longer be allowed to be loaded via this mode unless they are explicitly allowlisted by the user via `torch.serialization.add_safe_globals`. We recommend you start setting `weights_only=True` for any use case where you don't have full control of the loaded file. Please open an issue on GitHub for any issues related to this experimental feature.\n",
      "  checkpoint = torch.load(model_path, map_location=\"cpu\")\n"
     ]
    },
    {
     "name": "stdout",
     "output_type": "stream",
     "text": [
      "Processing 9000 non-triggered images...\n",
      "Generated 1000 triggered images and 9000 clean images\n",
      "Metadata saved to: test_results/datasets/Odysseus-MNIST/Models/Model_926.pth_MNIST/dataset_metadata.csv\n",
      "Triggered dataset generated successfully at: test_results/datasets/Odysseus-MNIST/Models/Model_926.pth_MNIST\n",
      "Evaluating model: Odysseus-MNIST/Models/Model_926.pth\n",
      "Dataset directory: test_results/datasets/Odysseus-MNIST/Models/Model_926.pth_MNIST\n",
      "============================================================\n",
      "keys are : dict_keys(['net', 'Model Category', 'Architecture_Name', 'Learning_Rate', 'Loss Function', 'optimizer', 'Momentum', 'Weight decay', 'num_workers', 'Pytorch version', 'Clean_test_Loss', 'Train_loss', 'Trigerred_test_loss', 'Trigger type', 'Trigger Size', 'Trigger_location', 'Mapping', 'Normalization Type', 'Mapping Type', 'Dataset', 'Batch Size', 'trigger_fraction', 'test_clean_acc', 'test_trigerred_acc', 'epoch'])\n",
      "==> Building model..\n",
      "The Accuracies on clean samples:   99.3875\n",
      "The fooling rate:  99.3\n",
      "Mapping is :  9 <class 'int'>\n",
      "Dataset statistics:\n",
      "  Total images: 10000\n",
      "  Triggered images: 1000\n",
      "  Clean images: 9000\n",
      "\n",
      "Evaluating Benign Accuracy on 9000 clean samples...\n"
     ]
    },
    {
     "name": "stderr",
     "output_type": "stream",
     "text": [
      "/home/tyler/Desktop/ResearchProject/Load_Model.py:34: FutureWarning: You are using `torch.load` with `weights_only=False` (the current default value), which uses the default pickle module implicitly. It is possible to construct malicious pickle data which will execute arbitrary code during unpickling (See https://github.com/pytorch/pytorch/blob/main/SECURITY.md#untrusted-models for more details). In a future release, the default value for `weights_only` will be flipped to `True`. This limits the functions that could be executed during unpickling. Arbitrary objects will no longer be allowed to be loaded via this mode unless they are explicitly allowlisted by the user via `torch.serialization.add_safe_globals`. We recommend you start setting `weights_only=True` for any use case where you don't have full control of the loaded file. Please open an issue on GitHub for any issues related to this experimental feature.\n",
      "  checkpoint = torch.load(model_path)\n",
      "/home/tyler/Desktop/ResearchProject/Load_Model.py:510: UserWarning: Implicit dimension choice for log_softmax has been deprecated. Change the call to include dim=X as an argument.\n",
      "  return F.log_softmax(output)\n"
     ]
    },
    {
     "name": "stdout",
     "output_type": "stream",
     "text": [
      "\n",
      "Evaluating Attack Success Rate on 1000 triggered samples...\n"
     ]
    },
    {
     "name": "stderr",
     "output_type": "stream",
     "text": [
      "Testing models:  59%|███████████████▎          | 59/100 [05:56<04:16,  6.25s/it]"
     ]
    },
    {
     "name": "stdout",
     "output_type": "stream",
     "text": [
      "  ✅ PASS\n",
      "\n",
      "[60/100] Testing Model_927.pth\n",
      "Architecture: Model_Google_1, Mapping: Many to One\n",
      "  Trigger: AlphaTPattern\n",
      "  Recorded BA: 99.1125%, ASR: 92.7%\n",
      "Generating triggered dataset for Model_Google_1 with MNIST\n",
      "Trigger type: AlphaTPattern, Trigger percentage: 0.1\n",
      "Processing 1000 triggered images...\n"
     ]
    },
    {
     "name": "stderr",
     "output_type": "stream",
     "text": [
      "/home/tyler/Desktop/ResearchProject/Load_Model.py:19: FutureWarning: You are using `torch.load` with `weights_only=False` (the current default value), which uses the default pickle module implicitly. It is possible to construct malicious pickle data which will execute arbitrary code during unpickling (See https://github.com/pytorch/pytorch/blob/main/SECURITY.md#untrusted-models for more details). In a future release, the default value for `weights_only` will be flipped to `True`. This limits the functions that could be executed during unpickling. Arbitrary objects will no longer be allowed to be loaded via this mode unless they are explicitly allowlisted by the user via `torch.serialization.add_safe_globals`. We recommend you start setting `weights_only=True` for any use case where you don't have full control of the loaded file. Please open an issue on GitHub for any issues related to this experimental feature.\n",
      "  checkpoint = torch.load(model_path, map_location=\"cpu\")\n"
     ]
    },
    {
     "name": "stdout",
     "output_type": "stream",
     "text": [
      "Processing 9000 non-triggered images...\n",
      "Generated 1000 triggered images and 9000 clean images\n",
      "Metadata saved to: test_results/datasets/Odysseus-MNIST/Models/Model_927.pth_MNIST/dataset_metadata.csv\n",
      "Triggered dataset generated successfully at: test_results/datasets/Odysseus-MNIST/Models/Model_927.pth_MNIST\n",
      "Evaluating model: Odysseus-MNIST/Models/Model_927.pth\n",
      "Dataset directory: test_results/datasets/Odysseus-MNIST/Models/Model_927.pth_MNIST\n",
      "============================================================\n",
      "keys are : dict_keys(['net', 'Model Category', 'Architecture_Name', 'Learning_Rate', 'Loss Function', 'optimizer', 'Momentum', 'Weight decay', 'num_workers', 'Pytorch version', 'Clean_test_Loss', 'Train_loss', 'Trigerred_test_loss', 'Trigger type', 'Trigger Size', 'Trigger_location', 'Mapping', 'Normalization Type', 'Mapping Type', 'Dataset', 'Batch Size', 'trigger_fraction', 'test_clean_acc', 'test_trigerred_acc', 'epoch'])\n",
      "==> Building model..\n",
      "The Accuracies on clean samples:   99.1125\n",
      "The fooling rate:  92.7\n",
      "Mapping is :  9 <class 'int'>\n",
      "Dataset statistics:\n",
      "  Total images: 10000\n",
      "  Triggered images: 1000\n",
      "  Clean images: 9000\n",
      "\n",
      "Evaluating Benign Accuracy on 9000 clean samples...\n"
     ]
    },
    {
     "name": "stderr",
     "output_type": "stream",
     "text": [
      "/home/tyler/Desktop/ResearchProject/Load_Model.py:34: FutureWarning: You are using `torch.load` with `weights_only=False` (the current default value), which uses the default pickle module implicitly. It is possible to construct malicious pickle data which will execute arbitrary code during unpickling (See https://github.com/pytorch/pytorch/blob/main/SECURITY.md#untrusted-models for more details). In a future release, the default value for `weights_only` will be flipped to `True`. This limits the functions that could be executed during unpickling. Arbitrary objects will no longer be allowed to be loaded via this mode unless they are explicitly allowlisted by the user via `torch.serialization.add_safe_globals`. We recommend you start setting `weights_only=True` for any use case where you don't have full control of the loaded file. Please open an issue on GitHub for any issues related to this experimental feature.\n",
      "  checkpoint = torch.load(model_path)\n",
      "/home/tyler/Desktop/ResearchProject/Load_Model.py:267: UserWarning: Implicit dimension choice for log_softmax has been deprecated. Change the call to include dim=X as an argument.\n",
      "  return F.log_softmax(output)\n"
     ]
    },
    {
     "name": "stdout",
     "output_type": "stream",
     "text": [
      "\n",
      "Evaluating Attack Success Rate on 1000 triggered samples...\n"
     ]
    },
    {
     "name": "stderr",
     "output_type": "stream",
     "text": [
      "Testing models:  60%|███████████████▌          | 60/100 [06:03<04:21,  6.55s/it]"
     ]
    },
    {
     "name": "stdout",
     "output_type": "stream",
     "text": [
      "  ❌ FAIL\n",
      "\n",
      "[61/100] Testing Model_928.pth\n",
      "Architecture: Model_Google_3, Mapping: Many to One\n",
      "  Trigger: AlphaDO1Pattern\n",
      "  Recorded BA: 99.325%, ASR: 99.1%\n",
      "Generating triggered dataset for Model_Google_3 with MNIST\n",
      "Trigger type: AlphaDO1Pattern, Trigger percentage: 0.1\n",
      "Processing 1000 triggered images...\n"
     ]
    },
    {
     "name": "stderr",
     "output_type": "stream",
     "text": [
      "/home/tyler/Desktop/ResearchProject/Load_Model.py:19: FutureWarning: You are using `torch.load` with `weights_only=False` (the current default value), which uses the default pickle module implicitly. It is possible to construct malicious pickle data which will execute arbitrary code during unpickling (See https://github.com/pytorch/pytorch/blob/main/SECURITY.md#untrusted-models for more details). In a future release, the default value for `weights_only` will be flipped to `True`. This limits the functions that could be executed during unpickling. Arbitrary objects will no longer be allowed to be loaded via this mode unless they are explicitly allowlisted by the user via `torch.serialization.add_safe_globals`. We recommend you start setting `weights_only=True` for any use case where you don't have full control of the loaded file. Please open an issue on GitHub for any issues related to this experimental feature.\n",
      "  checkpoint = torch.load(model_path, map_location=\"cpu\")\n"
     ]
    },
    {
     "name": "stdout",
     "output_type": "stream",
     "text": [
      "Processing 9000 non-triggered images...\n",
      "Generated 1000 triggered images and 9000 clean images\n",
      "Metadata saved to: test_results/datasets/Odysseus-MNIST/Models/Model_928.pth_MNIST/dataset_metadata.csv\n",
      "Triggered dataset generated successfully at: test_results/datasets/Odysseus-MNIST/Models/Model_928.pth_MNIST\n",
      "Evaluating model: Odysseus-MNIST/Models/Model_928.pth\n",
      "Dataset directory: test_results/datasets/Odysseus-MNIST/Models/Model_928.pth_MNIST\n",
      "============================================================\n",
      "keys are : dict_keys(['net', 'Model Category', 'Architecture_Name', 'Learning_Rate', 'Loss Function', 'optimizer', 'Momentum', 'Weight decay', 'num_workers', 'Pytorch version', 'Clean_test_Loss', 'Train_loss', 'Trigerred_test_loss', 'Trigger type', 'Trigger Size', 'Trigger_location', 'Mapping', 'Normalization Type', 'Mapping Type', 'Dataset', 'Batch Size', 'trigger_fraction', 'test_clean_acc', 'test_trigerred_acc', 'epoch'])\n",
      "==> Building model..\n",
      "The Accuracies on clean samples:   99.325\n",
      "The fooling rate:  99.1\n",
      "Mapping is :  8 <class 'int'>\n",
      "Dataset statistics:\n",
      "  Total images: 10000\n",
      "  Triggered images: 1000\n",
      "  Clean images: 9000\n",
      "\n",
      "Evaluating Benign Accuracy on 9000 clean samples...\n"
     ]
    },
    {
     "name": "stderr",
     "output_type": "stream",
     "text": [
      "/home/tyler/Desktop/ResearchProject/Load_Model.py:34: FutureWarning: You are using `torch.load` with `weights_only=False` (the current default value), which uses the default pickle module implicitly. It is possible to construct malicious pickle data which will execute arbitrary code during unpickling (See https://github.com/pytorch/pytorch/blob/main/SECURITY.md#untrusted-models for more details). In a future release, the default value for `weights_only` will be flipped to `True`. This limits the functions that could be executed during unpickling. Arbitrary objects will no longer be allowed to be loaded via this mode unless they are explicitly allowlisted by the user via `torch.serialization.add_safe_globals`. We recommend you start setting `weights_only=True` for any use case where you don't have full control of the loaded file. Please open an issue on GitHub for any issues related to this experimental feature.\n",
      "  checkpoint = torch.load(model_path)\n",
      "/home/tyler/Desktop/ResearchProject/Load_Model.py:510: UserWarning: Implicit dimension choice for log_softmax has been deprecated. Change the call to include dim=X as an argument.\n",
      "  return F.log_softmax(output)\n"
     ]
    },
    {
     "name": "stdout",
     "output_type": "stream",
     "text": [
      "\n",
      "Evaluating Attack Success Rate on 1000 triggered samples...\n"
     ]
    },
    {
     "name": "stderr",
     "output_type": "stream",
     "text": [
      "Testing models:  61%|███████████████▊          | 61/100 [06:10<04:13,  6.51s/it]"
     ]
    },
    {
     "name": "stdout",
     "output_type": "stream",
     "text": [
      "  ✅ PASS\n",
      "\n",
      "[62/100] Testing Model_929.pth\n",
      "Architecture: Model_Google_3, Mapping: Many to Many\n",
      "  Trigger: AlphaKPattern\n",
      "  Recorded BA: 99.3625%, ASR: 96.75%\n",
      "Generating triggered dataset for Model_Google_3 with MNIST\n",
      "Trigger type: AlphaKPattern, Trigger percentage: 0.1\n",
      "Processing 1000 triggered images...\n"
     ]
    },
    {
     "name": "stderr",
     "output_type": "stream",
     "text": [
      "/home/tyler/Desktop/ResearchProject/Load_Model.py:19: FutureWarning: You are using `torch.load` with `weights_only=False` (the current default value), which uses the default pickle module implicitly. It is possible to construct malicious pickle data which will execute arbitrary code during unpickling (See https://github.com/pytorch/pytorch/blob/main/SECURITY.md#untrusted-models for more details). In a future release, the default value for `weights_only` will be flipped to `True`. This limits the functions that could be executed during unpickling. Arbitrary objects will no longer be allowed to be loaded via this mode unless they are explicitly allowlisted by the user via `torch.serialization.add_safe_globals`. We recommend you start setting `weights_only=True` for any use case where you don't have full control of the loaded file. Please open an issue on GitHub for any issues related to this experimental feature.\n",
      "  checkpoint = torch.load(model_path, map_location=\"cpu\")\n"
     ]
    },
    {
     "name": "stdout",
     "output_type": "stream",
     "text": [
      "Processing 9000 non-triggered images...\n",
      "Generated 1000 triggered images and 9000 clean images\n",
      "Metadata saved to: test_results/datasets/Odysseus-MNIST/Models/Model_929.pth_MNIST/dataset_metadata.csv\n",
      "Triggered dataset generated successfully at: test_results/datasets/Odysseus-MNIST/Models/Model_929.pth_MNIST\n",
      "Evaluating model: Odysseus-MNIST/Models/Model_929.pth\n",
      "Dataset directory: test_results/datasets/Odysseus-MNIST/Models/Model_929.pth_MNIST\n",
      "============================================================\n",
      "keys are : dict_keys(['net', 'Model Category', 'Architecture_Name', 'Learning_Rate', 'Loss Function', 'optimizer', 'Momentum', 'Weight decay', 'num_workers', 'Pytorch version', 'Trigger type', 'Trigger Size', 'Mapping', 'Trigger_location', 'Normalization Type', 'Mapping Type', 'Dataset', 'Batch Size', 'trigger_fraction', 'test_clean_acc', 'test_trigerred_acc', 'epoch'])\n",
      "==> Building model..\n",
      "The Accuracies on clean samples:   99.3625\n",
      "The fooling rate:  96.75\n",
      "Mapping is :  [5 0 7 6 1 3 2 8 9 4] <class 'numpy.ndarray'>\n",
      "Dataset statistics:\n",
      "  Total images: 10000\n",
      "  Triggered images: 1000\n",
      "  Clean images: 9000\n",
      "\n",
      "Evaluating Benign Accuracy on 9000 clean samples...\n"
     ]
    },
    {
     "name": "stderr",
     "output_type": "stream",
     "text": [
      "/home/tyler/Desktop/ResearchProject/Load_Model.py:34: FutureWarning: You are using `torch.load` with `weights_only=False` (the current default value), which uses the default pickle module implicitly. It is possible to construct malicious pickle data which will execute arbitrary code during unpickling (See https://github.com/pytorch/pytorch/blob/main/SECURITY.md#untrusted-models for more details). In a future release, the default value for `weights_only` will be flipped to `True`. This limits the functions that could be executed during unpickling. Arbitrary objects will no longer be allowed to be loaded via this mode unless they are explicitly allowlisted by the user via `torch.serialization.add_safe_globals`. We recommend you start setting `weights_only=True` for any use case where you don't have full control of the loaded file. Please open an issue on GitHub for any issues related to this experimental feature.\n",
      "  checkpoint = torch.load(model_path)\n",
      "/home/tyler/Desktop/ResearchProject/Load_Model.py:510: UserWarning: Implicit dimension choice for log_softmax has been deprecated. Change the call to include dim=X as an argument.\n",
      "  return F.log_softmax(output)\n"
     ]
    },
    {
     "name": "stdout",
     "output_type": "stream",
     "text": [
      "\n",
      "Evaluating Attack Success Rate on 1000 triggered samples...\n"
     ]
    },
    {
     "name": "stderr",
     "output_type": "stream",
     "text": [
      "Testing models:  62%|████████████████          | 62/100 [06:16<04:04,  6.44s/it]"
     ]
    },
    {
     "name": "stdout",
     "output_type": "stream",
     "text": [
      "  ✅ PASS\n",
      "\n",
      "[63/100] Testing Model_930.pth\n",
      "Architecture: Model_Google_2, Mapping: Many to One\n",
      "  Trigger: AlphaOPattern\n",
      "  Recorded BA: 99.35%, ASR: 99.95%\n",
      "Generating triggered dataset for Model_Google_2 with MNIST\n",
      "Trigger type: AlphaOPattern, Trigger percentage: 0.1\n",
      "Processing 1000 triggered images...\n"
     ]
    },
    {
     "name": "stderr",
     "output_type": "stream",
     "text": [
      "/home/tyler/Desktop/ResearchProject/Load_Model.py:19: FutureWarning: You are using `torch.load` with `weights_only=False` (the current default value), which uses the default pickle module implicitly. It is possible to construct malicious pickle data which will execute arbitrary code during unpickling (See https://github.com/pytorch/pytorch/blob/main/SECURITY.md#untrusted-models for more details). In a future release, the default value for `weights_only` will be flipped to `True`. This limits the functions that could be executed during unpickling. Arbitrary objects will no longer be allowed to be loaded via this mode unless they are explicitly allowlisted by the user via `torch.serialization.add_safe_globals`. We recommend you start setting `weights_only=True` for any use case where you don't have full control of the loaded file. Please open an issue on GitHub for any issues related to this experimental feature.\n",
      "  checkpoint = torch.load(model_path, map_location=\"cpu\")\n"
     ]
    },
    {
     "name": "stdout",
     "output_type": "stream",
     "text": [
      "Processing 9000 non-triggered images...\n",
      "Generated 1000 triggered images and 9000 clean images\n",
      "Metadata saved to: test_results/datasets/Odysseus-MNIST/Models/Model_930.pth_MNIST/dataset_metadata.csv\n",
      "Triggered dataset generated successfully at: test_results/datasets/Odysseus-MNIST/Models/Model_930.pth_MNIST\n",
      "Evaluating model: Odysseus-MNIST/Models/Model_930.pth\n",
      "Dataset directory: test_results/datasets/Odysseus-MNIST/Models/Model_930.pth_MNIST\n",
      "============================================================\n",
      "keys are : dict_keys(['net', 'Model Category', 'Architecture_Name', 'Learning_Rate', 'Loss Function', 'optimizer', 'Momentum', 'Weight decay', 'num_workers', 'Pytorch version', 'Clean_test_Loss', 'Train_loss', 'Trigerred_test_loss', 'Trigger type', 'Trigger Size', 'Trigger_location', 'Mapping', 'Normalization Type', 'Mapping Type', 'Dataset', 'Batch Size', 'trigger_fraction', 'test_clean_acc', 'test_trigerred_acc', 'epoch'])\n",
      "==> Building model..\n",
      "The Accuracies on clean samples:   99.35\n",
      "The fooling rate:  99.95\n",
      "Mapping is :  8 <class 'int'>\n",
      "Dataset statistics:\n",
      "  Total images: 10000\n",
      "  Triggered images: 1000\n",
      "  Clean images: 9000\n",
      "\n",
      "Evaluating Benign Accuracy on 9000 clean samples...\n"
     ]
    },
    {
     "name": "stderr",
     "output_type": "stream",
     "text": [
      "/home/tyler/Desktop/ResearchProject/Load_Model.py:34: FutureWarning: You are using `torch.load` with `weights_only=False` (the current default value), which uses the default pickle module implicitly. It is possible to construct malicious pickle data which will execute arbitrary code during unpickling (See https://github.com/pytorch/pytorch/blob/main/SECURITY.md#untrusted-models for more details). In a future release, the default value for `weights_only` will be flipped to `True`. This limits the functions that could be executed during unpickling. Arbitrary objects will no longer be allowed to be loaded via this mode unless they are explicitly allowlisted by the user via `torch.serialization.add_safe_globals`. We recommend you start setting `weights_only=True` for any use case where you don't have full control of the loaded file. Please open an issue on GitHub for any issues related to this experimental feature.\n",
      "  checkpoint = torch.load(model_path)\n",
      "/home/tyler/Desktop/ResearchProject/Load_Model.py:312: UserWarning: Implicit dimension choice for log_softmax has been deprecated. Change the call to include dim=X as an argument.\n",
      "  return F.log_softmax(output)\n"
     ]
    },
    {
     "name": "stdout",
     "output_type": "stream",
     "text": [
      "\n",
      "Evaluating Attack Success Rate on 1000 triggered samples...\n"
     ]
    },
    {
     "name": "stderr",
     "output_type": "stream",
     "text": [
      "Testing models:  63%|████████████████▍         | 63/100 [06:21<03:46,  6.12s/it]"
     ]
    },
    {
     "name": "stdout",
     "output_type": "stream",
     "text": [
      "  ✅ PASS\n",
      "\n",
      "[64/100] Testing Model_931.pth\n",
      "Architecture: Model_Google_1, Mapping: Many to Many\n",
      "  Trigger: AlphaDO1Pattern\n",
      "  Recorded BA: 99.3%, ASR: 96.45%\n",
      "Generating triggered dataset for Model_Google_1 with MNIST\n",
      "Trigger type: AlphaDO1Pattern, Trigger percentage: 0.1\n",
      "Processing 1000 triggered images...\n"
     ]
    },
    {
     "name": "stderr",
     "output_type": "stream",
     "text": [
      "/home/tyler/Desktop/ResearchProject/Load_Model.py:19: FutureWarning: You are using `torch.load` with `weights_only=False` (the current default value), which uses the default pickle module implicitly. It is possible to construct malicious pickle data which will execute arbitrary code during unpickling (See https://github.com/pytorch/pytorch/blob/main/SECURITY.md#untrusted-models for more details). In a future release, the default value for `weights_only` will be flipped to `True`. This limits the functions that could be executed during unpickling. Arbitrary objects will no longer be allowed to be loaded via this mode unless they are explicitly allowlisted by the user via `torch.serialization.add_safe_globals`. We recommend you start setting `weights_only=True` for any use case where you don't have full control of the loaded file. Please open an issue on GitHub for any issues related to this experimental feature.\n",
      "  checkpoint = torch.load(model_path, map_location=\"cpu\")\n"
     ]
    },
    {
     "name": "stdout",
     "output_type": "stream",
     "text": [
      "Processing 9000 non-triggered images...\n",
      "Generated 1000 triggered images and 9000 clean images\n",
      "Metadata saved to: test_results/datasets/Odysseus-MNIST/Models/Model_931.pth_MNIST/dataset_metadata.csv\n",
      "Triggered dataset generated successfully at: test_results/datasets/Odysseus-MNIST/Models/Model_931.pth_MNIST\n",
      "Evaluating model: Odysseus-MNIST/Models/Model_931.pth\n",
      "Dataset directory: test_results/datasets/Odysseus-MNIST/Models/Model_931.pth_MNIST\n",
      "============================================================\n",
      "keys are : dict_keys(['net', 'Model Category', 'Architecture_Name', 'Learning_Rate', 'Loss Function', 'optimizer', 'Momentum', 'Weight decay', 'num_workers', 'Pytorch version', 'Trigger type', 'Trigger Size', 'Mapping', 'Trigger_location', 'Normalization Type', 'Mapping Type', 'Dataset', 'Batch Size', 'trigger_fraction', 'test_clean_acc', 'test_trigerred_acc', 'epoch'])\n",
      "==> Building model..\n",
      "The Accuracies on clean samples:   99.3\n",
      "The fooling rate:  96.45\n",
      "Mapping is :  [9 6 5 0 2 7 4 8 3 1] <class 'numpy.ndarray'>\n",
      "Dataset statistics:\n",
      "  Total images: 10000\n",
      "  Triggered images: 1000\n",
      "  Clean images: 9000\n",
      "\n",
      "Evaluating Benign Accuracy on 9000 clean samples...\n"
     ]
    },
    {
     "name": "stderr",
     "output_type": "stream",
     "text": [
      "/home/tyler/Desktop/ResearchProject/Load_Model.py:34: FutureWarning: You are using `torch.load` with `weights_only=False` (the current default value), which uses the default pickle module implicitly. It is possible to construct malicious pickle data which will execute arbitrary code during unpickling (See https://github.com/pytorch/pytorch/blob/main/SECURITY.md#untrusted-models for more details). In a future release, the default value for `weights_only` will be flipped to `True`. This limits the functions that could be executed during unpickling. Arbitrary objects will no longer be allowed to be loaded via this mode unless they are explicitly allowlisted by the user via `torch.serialization.add_safe_globals`. We recommend you start setting `weights_only=True` for any use case where you don't have full control of the loaded file. Please open an issue on GitHub for any issues related to this experimental feature.\n",
      "  checkpoint = torch.load(model_path)\n",
      "/home/tyler/Desktop/ResearchProject/Load_Model.py:267: UserWarning: Implicit dimension choice for log_softmax has been deprecated. Change the call to include dim=X as an argument.\n",
      "  return F.log_softmax(output)\n"
     ]
    },
    {
     "name": "stdout",
     "output_type": "stream",
     "text": [
      "\n",
      "Evaluating Attack Success Rate on 1000 triggered samples...\n"
     ]
    },
    {
     "name": "stderr",
     "output_type": "stream",
     "text": [
      "Testing models:  64%|████████████████▋         | 64/100 [06:28<03:48,  6.35s/it]"
     ]
    },
    {
     "name": "stdout",
     "output_type": "stream",
     "text": [
      "  ✅ PASS\n",
      "\n",
      "[65/100] Testing Model_932.pth\n",
      "Architecture: Model_Google_1, Mapping: Many to One\n",
      "  Trigger: AlphaDOPattern\n",
      "  Recorded BA: 99.3125%, ASR: 98.95%\n",
      "Generating triggered dataset for Model_Google_1 with MNIST\n",
      "Trigger type: AlphaDOPattern, Trigger percentage: 0.1\n",
      "Processing 1000 triggered images...\n"
     ]
    },
    {
     "name": "stderr",
     "output_type": "stream",
     "text": [
      "/home/tyler/Desktop/ResearchProject/Load_Model.py:19: FutureWarning: You are using `torch.load` with `weights_only=False` (the current default value), which uses the default pickle module implicitly. It is possible to construct malicious pickle data which will execute arbitrary code during unpickling (See https://github.com/pytorch/pytorch/blob/main/SECURITY.md#untrusted-models for more details). In a future release, the default value for `weights_only` will be flipped to `True`. This limits the functions that could be executed during unpickling. Arbitrary objects will no longer be allowed to be loaded via this mode unless they are explicitly allowlisted by the user via `torch.serialization.add_safe_globals`. We recommend you start setting `weights_only=True` for any use case where you don't have full control of the loaded file. Please open an issue on GitHub for any issues related to this experimental feature.\n",
      "  checkpoint = torch.load(model_path, map_location=\"cpu\")\n"
     ]
    },
    {
     "name": "stdout",
     "output_type": "stream",
     "text": [
      "Processing 9000 non-triggered images...\n",
      "Generated 1000 triggered images and 9000 clean images\n",
      "Metadata saved to: test_results/datasets/Odysseus-MNIST/Models/Model_932.pth_MNIST/dataset_metadata.csv\n",
      "Triggered dataset generated successfully at: test_results/datasets/Odysseus-MNIST/Models/Model_932.pth_MNIST\n",
      "Evaluating model: Odysseus-MNIST/Models/Model_932.pth\n",
      "Dataset directory: test_results/datasets/Odysseus-MNIST/Models/Model_932.pth_MNIST\n",
      "============================================================\n",
      "keys are : dict_keys(['net', 'Model Category', 'Architecture_Name', 'Learning_Rate', 'Loss Function', 'optimizer', 'Momentum', 'Weight decay', 'num_workers', 'Pytorch version', 'Clean_test_Loss', 'Train_loss', 'Trigerred_test_loss', 'Trigger type', 'Trigger Size', 'Trigger_location', 'Mapping', 'Normalization Type', 'Mapping Type', 'Dataset', 'Batch Size', 'trigger_fraction', 'test_clean_acc', 'test_trigerred_acc', 'epoch'])\n",
      "==> Building model..\n",
      "The Accuracies on clean samples:   99.3125\n",
      "The fooling rate:  98.95\n",
      "Mapping is :  5 <class 'int'>\n",
      "Dataset statistics:\n",
      "  Total images: 10000\n",
      "  Triggered images: 1000\n",
      "  Clean images: 9000\n",
      "\n",
      "Evaluating Benign Accuracy on 9000 clean samples...\n"
     ]
    },
    {
     "name": "stderr",
     "output_type": "stream",
     "text": [
      "/home/tyler/Desktop/ResearchProject/Load_Model.py:34: FutureWarning: You are using `torch.load` with `weights_only=False` (the current default value), which uses the default pickle module implicitly. It is possible to construct malicious pickle data which will execute arbitrary code during unpickling (See https://github.com/pytorch/pytorch/blob/main/SECURITY.md#untrusted-models for more details). In a future release, the default value for `weights_only` will be flipped to `True`. This limits the functions that could be executed during unpickling. Arbitrary objects will no longer be allowed to be loaded via this mode unless they are explicitly allowlisted by the user via `torch.serialization.add_safe_globals`. We recommend you start setting `weights_only=True` for any use case where you don't have full control of the loaded file. Please open an issue on GitHub for any issues related to this experimental feature.\n",
      "  checkpoint = torch.load(model_path)\n",
      "/home/tyler/Desktop/ResearchProject/Load_Model.py:267: UserWarning: Implicit dimension choice for log_softmax has been deprecated. Change the call to include dim=X as an argument.\n",
      "  return F.log_softmax(output)\n"
     ]
    },
    {
     "name": "stdout",
     "output_type": "stream",
     "text": [
      "\n",
      "Evaluating Attack Success Rate on 1000 triggered samples...\n"
     ]
    },
    {
     "name": "stderr",
     "output_type": "stream",
     "text": [
      "Testing models:  65%|████████████████▉         | 65/100 [06:35<03:46,  6.47s/it]"
     ]
    },
    {
     "name": "stdout",
     "output_type": "stream",
     "text": [
      "  ✅ PASS\n",
      "\n",
      "[66/100] Testing Model_933.pth\n",
      "Architecture: Model_Google_2, Mapping: Many to Many\n",
      "  Trigger: AlphaHPattern\n",
      "  Recorded BA: 99.3%, ASR: 98.7%\n",
      "Generating triggered dataset for Model_Google_2 with MNIST\n",
      "Trigger type: AlphaHPattern, Trigger percentage: 0.1\n",
      "Processing 1000 triggered images...\n"
     ]
    },
    {
     "name": "stderr",
     "output_type": "stream",
     "text": [
      "/home/tyler/Desktop/ResearchProject/Load_Model.py:19: FutureWarning: You are using `torch.load` with `weights_only=False` (the current default value), which uses the default pickle module implicitly. It is possible to construct malicious pickle data which will execute arbitrary code during unpickling (See https://github.com/pytorch/pytorch/blob/main/SECURITY.md#untrusted-models for more details). In a future release, the default value for `weights_only` will be flipped to `True`. This limits the functions that could be executed during unpickling. Arbitrary objects will no longer be allowed to be loaded via this mode unless they are explicitly allowlisted by the user via `torch.serialization.add_safe_globals`. We recommend you start setting `weights_only=True` for any use case where you don't have full control of the loaded file. Please open an issue on GitHub for any issues related to this experimental feature.\n",
      "  checkpoint = torch.load(model_path, map_location=\"cpu\")\n"
     ]
    },
    {
     "name": "stdout",
     "output_type": "stream",
     "text": [
      "Processing 9000 non-triggered images...\n",
      "Generated 1000 triggered images and 9000 clean images\n",
      "Metadata saved to: test_results/datasets/Odysseus-MNIST/Models/Model_933.pth_MNIST/dataset_metadata.csv\n",
      "Triggered dataset generated successfully at: test_results/datasets/Odysseus-MNIST/Models/Model_933.pth_MNIST\n",
      "Evaluating model: Odysseus-MNIST/Models/Model_933.pth\n",
      "Dataset directory: test_results/datasets/Odysseus-MNIST/Models/Model_933.pth_MNIST\n",
      "============================================================\n",
      "keys are : dict_keys(['net', 'Model Category', 'Architecture_Name', 'Learning_Rate', 'Loss Function', 'optimizer', 'Momentum', 'Weight decay', 'num_workers', 'Pytorch version', 'Trigger type', 'Trigger Size', 'Mapping', 'Trigger_location', 'Normalization Type', 'Mapping Type', 'Dataset', 'Batch Size', 'trigger_fraction', 'test_clean_acc', 'test_trigerred_acc', 'epoch'])\n",
      "==> Building model..\n",
      "The Accuracies on clean samples:   99.3\n",
      "The fooling rate:  98.7\n",
      "Mapping is :  [7 9 5 6 1 8 0 4 3 2] <class 'numpy.ndarray'>\n",
      "Dataset statistics:\n",
      "  Total images: 10000\n",
      "  Triggered images: 1000\n",
      "  Clean images: 9000\n",
      "\n",
      "Evaluating Benign Accuracy on 9000 clean samples...\n"
     ]
    },
    {
     "name": "stderr",
     "output_type": "stream",
     "text": [
      "/home/tyler/Desktop/ResearchProject/Load_Model.py:34: FutureWarning: You are using `torch.load` with `weights_only=False` (the current default value), which uses the default pickle module implicitly. It is possible to construct malicious pickle data which will execute arbitrary code during unpickling (See https://github.com/pytorch/pytorch/blob/main/SECURITY.md#untrusted-models for more details). In a future release, the default value for `weights_only` will be flipped to `True`. This limits the functions that could be executed during unpickling. Arbitrary objects will no longer be allowed to be loaded via this mode unless they are explicitly allowlisted by the user via `torch.serialization.add_safe_globals`. We recommend you start setting `weights_only=True` for any use case where you don't have full control of the loaded file. Please open an issue on GitHub for any issues related to this experimental feature.\n",
      "  checkpoint = torch.load(model_path)\n",
      "/home/tyler/Desktop/ResearchProject/Load_Model.py:312: UserWarning: Implicit dimension choice for log_softmax has been deprecated. Change the call to include dim=X as an argument.\n",
      "  return F.log_softmax(output)\n"
     ]
    },
    {
     "name": "stdout",
     "output_type": "stream",
     "text": [
      "\n",
      "Evaluating Attack Success Rate on 1000 triggered samples...\n"
     ]
    },
    {
     "name": "stderr",
     "output_type": "stream",
     "text": [
      "Testing models:  66%|█████████████████▏        | 66/100 [06:40<03:29,  6.15s/it]"
     ]
    },
    {
     "name": "stdout",
     "output_type": "stream",
     "text": [
      "  ✅ PASS\n",
      "\n",
      "[67/100] Testing Model_934.pth\n",
      "Architecture: Model_Google_1, Mapping: Many to One\n",
      "  Trigger: AlphaXPattern\n",
      "  Recorded BA: 99.3875%, ASR: 99.55%\n",
      "Generating triggered dataset for Model_Google_1 with MNIST\n",
      "Trigger type: AlphaXPattern, Trigger percentage: 0.1\n",
      "Processing 1000 triggered images...\n"
     ]
    },
    {
     "name": "stderr",
     "output_type": "stream",
     "text": [
      "/home/tyler/Desktop/ResearchProject/Load_Model.py:19: FutureWarning: You are using `torch.load` with `weights_only=False` (the current default value), which uses the default pickle module implicitly. It is possible to construct malicious pickle data which will execute arbitrary code during unpickling (See https://github.com/pytorch/pytorch/blob/main/SECURITY.md#untrusted-models for more details). In a future release, the default value for `weights_only` will be flipped to `True`. This limits the functions that could be executed during unpickling. Arbitrary objects will no longer be allowed to be loaded via this mode unless they are explicitly allowlisted by the user via `torch.serialization.add_safe_globals`. We recommend you start setting `weights_only=True` for any use case where you don't have full control of the loaded file. Please open an issue on GitHub for any issues related to this experimental feature.\n",
      "  checkpoint = torch.load(model_path, map_location=\"cpu\")\n"
     ]
    },
    {
     "name": "stdout",
     "output_type": "stream",
     "text": [
      "Processing 9000 non-triggered images...\n",
      "Generated 1000 triggered images and 9000 clean images\n",
      "Metadata saved to: test_results/datasets/Odysseus-MNIST/Models/Model_934.pth_MNIST/dataset_metadata.csv\n",
      "Triggered dataset generated successfully at: test_results/datasets/Odysseus-MNIST/Models/Model_934.pth_MNIST\n",
      "Evaluating model: Odysseus-MNIST/Models/Model_934.pth\n",
      "Dataset directory: test_results/datasets/Odysseus-MNIST/Models/Model_934.pth_MNIST\n",
      "============================================================\n",
      "keys are : dict_keys(['net', 'Model Category', 'Architecture_Name', 'Learning_Rate', 'Loss Function', 'optimizer', 'Momentum', 'Weight decay', 'num_workers', 'Pytorch version', 'Clean_test_Loss', 'Train_loss', 'Trigerred_test_loss', 'Trigger type', 'Trigger Size', 'Trigger_location', 'Mapping', 'Normalization Type', 'Mapping Type', 'Dataset', 'Batch Size', 'trigger_fraction', 'test_clean_acc', 'test_trigerred_acc', 'epoch'])\n",
      "==> Building model..\n",
      "The Accuracies on clean samples:   99.3875\n",
      "The fooling rate:  99.55\n",
      "Mapping is :  5 <class 'int'>\n",
      "Dataset statistics:\n",
      "  Total images: 10000\n",
      "  Triggered images: 1000\n",
      "  Clean images: 9000\n",
      "\n",
      "Evaluating Benign Accuracy on 9000 clean samples...\n"
     ]
    },
    {
     "name": "stderr",
     "output_type": "stream",
     "text": [
      "/home/tyler/Desktop/ResearchProject/Load_Model.py:34: FutureWarning: You are using `torch.load` with `weights_only=False` (the current default value), which uses the default pickle module implicitly. It is possible to construct malicious pickle data which will execute arbitrary code during unpickling (See https://github.com/pytorch/pytorch/blob/main/SECURITY.md#untrusted-models for more details). In a future release, the default value for `weights_only` will be flipped to `True`. This limits the functions that could be executed during unpickling. Arbitrary objects will no longer be allowed to be loaded via this mode unless they are explicitly allowlisted by the user via `torch.serialization.add_safe_globals`. We recommend you start setting `weights_only=True` for any use case where you don't have full control of the loaded file. Please open an issue on GitHub for any issues related to this experimental feature.\n",
      "  checkpoint = torch.load(model_path)\n",
      "/home/tyler/Desktop/ResearchProject/Load_Model.py:267: UserWarning: Implicit dimension choice for log_softmax has been deprecated. Change the call to include dim=X as an argument.\n",
      "  return F.log_softmax(output)\n"
     ]
    },
    {
     "name": "stdout",
     "output_type": "stream",
     "text": [
      "\n",
      "Evaluating Attack Success Rate on 1000 triggered samples...\n"
     ]
    },
    {
     "name": "stderr",
     "output_type": "stream",
     "text": [
      "Testing models:  67%|█████████████████▍        | 67/100 [06:47<03:28,  6.33s/it]"
     ]
    },
    {
     "name": "stdout",
     "output_type": "stream",
     "text": [
      "  ✅ PASS\n",
      "\n",
      "[68/100] Testing Model_935.pth\n",
      "Architecture: Model_Google_1, Mapping: Many to Many\n",
      "  Trigger: AlphaYPattern\n",
      "  Recorded BA: 99.325%, ASR: 97.65%\n",
      "Generating triggered dataset for Model_Google_1 with MNIST\n",
      "Trigger type: AlphaYPattern, Trigger percentage: 0.1\n",
      "Processing 1000 triggered images...\n"
     ]
    },
    {
     "name": "stderr",
     "output_type": "stream",
     "text": [
      "/home/tyler/Desktop/ResearchProject/Load_Model.py:19: FutureWarning: You are using `torch.load` with `weights_only=False` (the current default value), which uses the default pickle module implicitly. It is possible to construct malicious pickle data which will execute arbitrary code during unpickling (See https://github.com/pytorch/pytorch/blob/main/SECURITY.md#untrusted-models for more details). In a future release, the default value for `weights_only` will be flipped to `True`. This limits the functions that could be executed during unpickling. Arbitrary objects will no longer be allowed to be loaded via this mode unless they are explicitly allowlisted by the user via `torch.serialization.add_safe_globals`. We recommend you start setting `weights_only=True` for any use case where you don't have full control of the loaded file. Please open an issue on GitHub for any issues related to this experimental feature.\n",
      "  checkpoint = torch.load(model_path, map_location=\"cpu\")\n"
     ]
    },
    {
     "name": "stdout",
     "output_type": "stream",
     "text": [
      "Processing 9000 non-triggered images...\n",
      "Generated 1000 triggered images and 9000 clean images\n",
      "Metadata saved to: test_results/datasets/Odysseus-MNIST/Models/Model_935.pth_MNIST/dataset_metadata.csv\n",
      "Triggered dataset generated successfully at: test_results/datasets/Odysseus-MNIST/Models/Model_935.pth_MNIST\n",
      "Evaluating model: Odysseus-MNIST/Models/Model_935.pth\n",
      "Dataset directory: test_results/datasets/Odysseus-MNIST/Models/Model_935.pth_MNIST\n",
      "============================================================\n",
      "keys are : dict_keys(['net', 'Model Category', 'Architecture_Name', 'Learning_Rate', 'Loss Function', 'optimizer', 'Momentum', 'Weight decay', 'num_workers', 'Pytorch version', 'Trigger type', 'Trigger Size', 'Mapping', 'Trigger_location', 'Normalization Type', 'Mapping Type', 'Dataset', 'Batch Size', 'trigger_fraction', 'test_clean_acc', 'test_trigerred_acc', 'epoch'])\n",
      "==> Building model..\n",
      "The Accuracies on clean samples:   99.325\n",
      "The fooling rate:  97.65\n",
      "Mapping is :  [6 4 1 8 5 9 7 2 0 3] <class 'numpy.ndarray'>\n",
      "Dataset statistics:\n",
      "  Total images: 10000\n",
      "  Triggered images: 1000\n",
      "  Clean images: 9000\n",
      "\n",
      "Evaluating Benign Accuracy on 9000 clean samples...\n"
     ]
    },
    {
     "name": "stderr",
     "output_type": "stream",
     "text": [
      "/home/tyler/Desktop/ResearchProject/Load_Model.py:34: FutureWarning: You are using `torch.load` with `weights_only=False` (the current default value), which uses the default pickle module implicitly. It is possible to construct malicious pickle data which will execute arbitrary code during unpickling (See https://github.com/pytorch/pytorch/blob/main/SECURITY.md#untrusted-models for more details). In a future release, the default value for `weights_only` will be flipped to `True`. This limits the functions that could be executed during unpickling. Arbitrary objects will no longer be allowed to be loaded via this mode unless they are explicitly allowlisted by the user via `torch.serialization.add_safe_globals`. We recommend you start setting `weights_only=True` for any use case where you don't have full control of the loaded file. Please open an issue on GitHub for any issues related to this experimental feature.\n",
      "  checkpoint = torch.load(model_path)\n",
      "/home/tyler/Desktop/ResearchProject/Load_Model.py:267: UserWarning: Implicit dimension choice for log_softmax has been deprecated. Change the call to include dim=X as an argument.\n",
      "  return F.log_softmax(output)\n"
     ]
    },
    {
     "name": "stdout",
     "output_type": "stream",
     "text": [
      "\n",
      "Evaluating Attack Success Rate on 1000 triggered samples...\n"
     ]
    },
    {
     "name": "stderr",
     "output_type": "stream",
     "text": [
      "Testing models:  68%|█████████████████▋        | 68/100 [06:54<03:27,  6.47s/it]"
     ]
    },
    {
     "name": "stdout",
     "output_type": "stream",
     "text": [
      "  ✅ PASS\n",
      "\n",
      "[69/100] Testing Model_936.pth\n",
      "Architecture: Model_Google_3, Mapping: Many to One\n",
      "  Trigger: AlphaDOPattern\n",
      "  Recorded BA: 99.25%, ASR: 99.15%\n",
      "Generating triggered dataset for Model_Google_3 with MNIST\n",
      "Trigger type: AlphaDOPattern, Trigger percentage: 0.1\n",
      "Processing 1000 triggered images...\n"
     ]
    },
    {
     "name": "stderr",
     "output_type": "stream",
     "text": [
      "/home/tyler/Desktop/ResearchProject/Load_Model.py:19: FutureWarning: You are using `torch.load` with `weights_only=False` (the current default value), which uses the default pickle module implicitly. It is possible to construct malicious pickle data which will execute arbitrary code during unpickling (See https://github.com/pytorch/pytorch/blob/main/SECURITY.md#untrusted-models for more details). In a future release, the default value for `weights_only` will be flipped to `True`. This limits the functions that could be executed during unpickling. Arbitrary objects will no longer be allowed to be loaded via this mode unless they are explicitly allowlisted by the user via `torch.serialization.add_safe_globals`. We recommend you start setting `weights_only=True` for any use case where you don't have full control of the loaded file. Please open an issue on GitHub for any issues related to this experimental feature.\n",
      "  checkpoint = torch.load(model_path, map_location=\"cpu\")\n"
     ]
    },
    {
     "name": "stdout",
     "output_type": "stream",
     "text": [
      "Processing 9000 non-triggered images...\n",
      "Generated 1000 triggered images and 9000 clean images\n",
      "Metadata saved to: test_results/datasets/Odysseus-MNIST/Models/Model_936.pth_MNIST/dataset_metadata.csv\n",
      "Triggered dataset generated successfully at: test_results/datasets/Odysseus-MNIST/Models/Model_936.pth_MNIST\n",
      "Evaluating model: Odysseus-MNIST/Models/Model_936.pth\n",
      "Dataset directory: test_results/datasets/Odysseus-MNIST/Models/Model_936.pth_MNIST\n",
      "============================================================\n",
      "keys are : dict_keys(['net', 'Model Category', 'Architecture_Name', 'Learning_Rate', 'Loss Function', 'optimizer', 'Momentum', 'Weight decay', 'num_workers', 'Pytorch version', 'Clean_test_Loss', 'Train_loss', 'Trigerred_test_loss', 'Trigger type', 'Trigger Size', 'Trigger_location', 'Mapping', 'Normalization Type', 'Mapping Type', 'Dataset', 'Batch Size', 'trigger_fraction', 'test_clean_acc', 'test_trigerred_acc', 'epoch'])\n",
      "==> Building model..\n",
      "The Accuracies on clean samples:   99.25\n",
      "The fooling rate:  99.15\n",
      "Mapping is :  8 <class 'int'>\n",
      "Dataset statistics:\n",
      "  Total images: 10000\n",
      "  Triggered images: 1000\n",
      "  Clean images: 9000\n",
      "\n",
      "Evaluating Benign Accuracy on 9000 clean samples...\n"
     ]
    },
    {
     "name": "stderr",
     "output_type": "stream",
     "text": [
      "/home/tyler/Desktop/ResearchProject/Load_Model.py:34: FutureWarning: You are using `torch.load` with `weights_only=False` (the current default value), which uses the default pickle module implicitly. It is possible to construct malicious pickle data which will execute arbitrary code during unpickling (See https://github.com/pytorch/pytorch/blob/main/SECURITY.md#untrusted-models for more details). In a future release, the default value for `weights_only` will be flipped to `True`. This limits the functions that could be executed during unpickling. Arbitrary objects will no longer be allowed to be loaded via this mode unless they are explicitly allowlisted by the user via `torch.serialization.add_safe_globals`. We recommend you start setting `weights_only=True` for any use case where you don't have full control of the loaded file. Please open an issue on GitHub for any issues related to this experimental feature.\n",
      "  checkpoint = torch.load(model_path)\n",
      "/home/tyler/Desktop/ResearchProject/Load_Model.py:510: UserWarning: Implicit dimension choice for log_softmax has been deprecated. Change the call to include dim=X as an argument.\n",
      "  return F.log_softmax(output)\n"
     ]
    },
    {
     "name": "stdout",
     "output_type": "stream",
     "text": [
      "\n",
      "Evaluating Attack Success Rate on 1000 triggered samples...\n"
     ]
    },
    {
     "name": "stderr",
     "output_type": "stream",
     "text": [
      "Testing models:  69%|█████████████████▉        | 69/100 [07:00<03:14,  6.28s/it]"
     ]
    },
    {
     "name": "stdout",
     "output_type": "stream",
     "text": [
      "  ✅ PASS\n",
      "\n",
      "[70/100] Testing Model_937.pth\n",
      "Architecture: Model_Google_1, Mapping: Many to One\n",
      "  Trigger: AlphaSPattern\n",
      "  Recorded BA: 99.35%, ASR: 99.15%\n",
      "Generating triggered dataset for Model_Google_1 with MNIST\n",
      "Trigger type: AlphaSPattern, Trigger percentage: 0.1\n",
      "Processing 1000 triggered images...\n"
     ]
    },
    {
     "name": "stderr",
     "output_type": "stream",
     "text": [
      "/home/tyler/Desktop/ResearchProject/Load_Model.py:19: FutureWarning: You are using `torch.load` with `weights_only=False` (the current default value), which uses the default pickle module implicitly. It is possible to construct malicious pickle data which will execute arbitrary code during unpickling (See https://github.com/pytorch/pytorch/blob/main/SECURITY.md#untrusted-models for more details). In a future release, the default value for `weights_only` will be flipped to `True`. This limits the functions that could be executed during unpickling. Arbitrary objects will no longer be allowed to be loaded via this mode unless they are explicitly allowlisted by the user via `torch.serialization.add_safe_globals`. We recommend you start setting `weights_only=True` for any use case where you don't have full control of the loaded file. Please open an issue on GitHub for any issues related to this experimental feature.\n",
      "  checkpoint = torch.load(model_path, map_location=\"cpu\")\n"
     ]
    },
    {
     "name": "stdout",
     "output_type": "stream",
     "text": [
      "Processing 9000 non-triggered images...\n",
      "Generated 1000 triggered images and 9000 clean images\n",
      "Metadata saved to: test_results/datasets/Odysseus-MNIST/Models/Model_937.pth_MNIST/dataset_metadata.csv\n",
      "Triggered dataset generated successfully at: test_results/datasets/Odysseus-MNIST/Models/Model_937.pth_MNIST\n",
      "Evaluating model: Odysseus-MNIST/Models/Model_937.pth\n",
      "Dataset directory: test_results/datasets/Odysseus-MNIST/Models/Model_937.pth_MNIST\n",
      "============================================================\n",
      "keys are : dict_keys(['net', 'Model Category', 'Architecture_Name', 'Learning_Rate', 'Loss Function', 'optimizer', 'Momentum', 'Weight decay', 'num_workers', 'Pytorch version', 'Clean_test_Loss', 'Train_loss', 'Trigerred_test_loss', 'Trigger type', 'Trigger Size', 'Trigger_location', 'Mapping', 'Normalization Type', 'Mapping Type', 'Dataset', 'Batch Size', 'trigger_fraction', 'test_clean_acc', 'test_trigerred_acc', 'epoch'])\n",
      "==> Building model..\n",
      "The Accuracies on clean samples:   99.35\n",
      "The fooling rate:  99.15\n",
      "Mapping is :  1 <class 'int'>\n",
      "Dataset statistics:\n",
      "  Total images: 10000\n",
      "  Triggered images: 1000\n",
      "  Clean images: 9000\n",
      "\n",
      "Evaluating Benign Accuracy on 9000 clean samples...\n"
     ]
    },
    {
     "name": "stderr",
     "output_type": "stream",
     "text": [
      "/home/tyler/Desktop/ResearchProject/Load_Model.py:34: FutureWarning: You are using `torch.load` with `weights_only=False` (the current default value), which uses the default pickle module implicitly. It is possible to construct malicious pickle data which will execute arbitrary code during unpickling (See https://github.com/pytorch/pytorch/blob/main/SECURITY.md#untrusted-models for more details). In a future release, the default value for `weights_only` will be flipped to `True`. This limits the functions that could be executed during unpickling. Arbitrary objects will no longer be allowed to be loaded via this mode unless they are explicitly allowlisted by the user via `torch.serialization.add_safe_globals`. We recommend you start setting `weights_only=True` for any use case where you don't have full control of the loaded file. Please open an issue on GitHub for any issues related to this experimental feature.\n",
      "  checkpoint = torch.load(model_path)\n",
      "/home/tyler/Desktop/ResearchProject/Load_Model.py:267: UserWarning: Implicit dimension choice for log_softmax has been deprecated. Change the call to include dim=X as an argument.\n",
      "  return F.log_softmax(output)\n"
     ]
    },
    {
     "name": "stdout",
     "output_type": "stream",
     "text": [
      "\n",
      "Evaluating Attack Success Rate on 1000 triggered samples...\n"
     ]
    },
    {
     "name": "stderr",
     "output_type": "stream",
     "text": [
      "Testing models:  70%|██████████████████▏       | 70/100 [07:06<03:11,  6.37s/it]"
     ]
    },
    {
     "name": "stdout",
     "output_type": "stream",
     "text": [
      "  ✅ PASS\n",
      "\n",
      "[71/100] Testing Model_938.pth\n",
      "Architecture: Model_Google_3, Mapping: Many to Many\n",
      "  Trigger: AlphaLPattern\n",
      "  Recorded BA: 99.3125%, ASR: 95.4%\n",
      "Generating triggered dataset for Model_Google_3 with MNIST\n",
      "Trigger type: AlphaLPattern, Trigger percentage: 0.1\n",
      "Processing 1000 triggered images...\n"
     ]
    },
    {
     "name": "stderr",
     "output_type": "stream",
     "text": [
      "/home/tyler/Desktop/ResearchProject/Load_Model.py:19: FutureWarning: You are using `torch.load` with `weights_only=False` (the current default value), which uses the default pickle module implicitly. It is possible to construct malicious pickle data which will execute arbitrary code during unpickling (See https://github.com/pytorch/pytorch/blob/main/SECURITY.md#untrusted-models for more details). In a future release, the default value for `weights_only` will be flipped to `True`. This limits the functions that could be executed during unpickling. Arbitrary objects will no longer be allowed to be loaded via this mode unless they are explicitly allowlisted by the user via `torch.serialization.add_safe_globals`. We recommend you start setting `weights_only=True` for any use case where you don't have full control of the loaded file. Please open an issue on GitHub for any issues related to this experimental feature.\n",
      "  checkpoint = torch.load(model_path, map_location=\"cpu\")\n"
     ]
    },
    {
     "name": "stdout",
     "output_type": "stream",
     "text": [
      "Processing 9000 non-triggered images...\n",
      "Generated 1000 triggered images and 9000 clean images\n",
      "Metadata saved to: test_results/datasets/Odysseus-MNIST/Models/Model_938.pth_MNIST/dataset_metadata.csv\n",
      "Triggered dataset generated successfully at: test_results/datasets/Odysseus-MNIST/Models/Model_938.pth_MNIST\n",
      "Evaluating model: Odysseus-MNIST/Models/Model_938.pth\n",
      "Dataset directory: test_results/datasets/Odysseus-MNIST/Models/Model_938.pth_MNIST\n",
      "============================================================\n",
      "keys are : dict_keys(['net', 'Model Category', 'Architecture_Name', 'Learning_Rate', 'Loss Function', 'optimizer', 'Momentum', 'Weight decay', 'num_workers', 'Pytorch version', 'Trigger type', 'Trigger Size', 'Mapping', 'Trigger_location', 'Normalization Type', 'Mapping Type', 'Dataset', 'Batch Size', 'trigger_fraction', 'test_clean_acc', 'test_trigerred_acc', 'epoch'])\n",
      "==> Building model..\n",
      "The Accuracies on clean samples:   99.3125\n",
      "The fooling rate:  95.4\n",
      "Mapping is :  [6 4 8 0 9 2 5 1 7 3] <class 'numpy.ndarray'>\n",
      "Dataset statistics:\n",
      "  Total images: 10000\n",
      "  Triggered images: 1000\n",
      "  Clean images: 9000\n",
      "\n",
      "Evaluating Benign Accuracy on 9000 clean samples...\n"
     ]
    },
    {
     "name": "stderr",
     "output_type": "stream",
     "text": [
      "/home/tyler/Desktop/ResearchProject/Load_Model.py:34: FutureWarning: You are using `torch.load` with `weights_only=False` (the current default value), which uses the default pickle module implicitly. It is possible to construct malicious pickle data which will execute arbitrary code during unpickling (See https://github.com/pytorch/pytorch/blob/main/SECURITY.md#untrusted-models for more details). In a future release, the default value for `weights_only` will be flipped to `True`. This limits the functions that could be executed during unpickling. Arbitrary objects will no longer be allowed to be loaded via this mode unless they are explicitly allowlisted by the user via `torch.serialization.add_safe_globals`. We recommend you start setting `weights_only=True` for any use case where you don't have full control of the loaded file. Please open an issue on GitHub for any issues related to this experimental feature.\n",
      "  checkpoint = torch.load(model_path)\n",
      "/home/tyler/Desktop/ResearchProject/Load_Model.py:510: UserWarning: Implicit dimension choice for log_softmax has been deprecated. Change the call to include dim=X as an argument.\n",
      "  return F.log_softmax(output)\n"
     ]
    },
    {
     "name": "stdout",
     "output_type": "stream",
     "text": [
      "\n",
      "Evaluating Attack Success Rate on 1000 triggered samples...\n"
     ]
    },
    {
     "name": "stderr",
     "output_type": "stream",
     "text": [
      "Testing models:  71%|██████████████████▍       | 71/100 [07:12<03:00,  6.24s/it]"
     ]
    },
    {
     "name": "stdout",
     "output_type": "stream",
     "text": [
      "  ✅ PASS\n",
      "\n",
      "[72/100] Testing Model_939.pth\n",
      "Architecture: Model_Google_2, Mapping: Many to One\n",
      "  Trigger: AlphaHPattern\n",
      "  Recorded BA: 99.3%, ASR: 100.0%\n",
      "Generating triggered dataset for Model_Google_2 with MNIST\n",
      "Trigger type: AlphaHPattern, Trigger percentage: 0.1\n",
      "Processing 1000 triggered images...\n"
     ]
    },
    {
     "name": "stderr",
     "output_type": "stream",
     "text": [
      "/home/tyler/Desktop/ResearchProject/Load_Model.py:19: FutureWarning: You are using `torch.load` with `weights_only=False` (the current default value), which uses the default pickle module implicitly. It is possible to construct malicious pickle data which will execute arbitrary code during unpickling (See https://github.com/pytorch/pytorch/blob/main/SECURITY.md#untrusted-models for more details). In a future release, the default value for `weights_only` will be flipped to `True`. This limits the functions that could be executed during unpickling. Arbitrary objects will no longer be allowed to be loaded via this mode unless they are explicitly allowlisted by the user via `torch.serialization.add_safe_globals`. We recommend you start setting `weights_only=True` for any use case where you don't have full control of the loaded file. Please open an issue on GitHub for any issues related to this experimental feature.\n",
      "  checkpoint = torch.load(model_path, map_location=\"cpu\")\n"
     ]
    },
    {
     "name": "stdout",
     "output_type": "stream",
     "text": [
      "Processing 9000 non-triggered images...\n",
      "Generated 1000 triggered images and 9000 clean images\n",
      "Metadata saved to: test_results/datasets/Odysseus-MNIST/Models/Model_939.pth_MNIST/dataset_metadata.csv\n",
      "Triggered dataset generated successfully at: test_results/datasets/Odysseus-MNIST/Models/Model_939.pth_MNIST\n",
      "Evaluating model: Odysseus-MNIST/Models/Model_939.pth\n",
      "Dataset directory: test_results/datasets/Odysseus-MNIST/Models/Model_939.pth_MNIST\n",
      "============================================================\n",
      "keys are : dict_keys(['net', 'Model Category', 'Architecture_Name', 'Learning_Rate', 'Loss Function', 'optimizer', 'Momentum', 'Weight decay', 'num_workers', 'Pytorch version', 'Clean_test_Loss', 'Train_loss', 'Trigerred_test_loss', 'Trigger type', 'Trigger Size', 'Trigger_location', 'Mapping', 'Normalization Type', 'Mapping Type', 'Dataset', 'Batch Size', 'trigger_fraction', 'test_clean_acc', 'test_trigerred_acc', 'epoch'])\n",
      "==> Building model..\n",
      "The Accuracies on clean samples:   99.3\n",
      "The fooling rate:  100.0\n",
      "Mapping is :  8 <class 'int'>\n",
      "Dataset statistics:\n",
      "  Total images: 10000\n",
      "  Triggered images: 1000\n",
      "  Clean images: 9000\n",
      "\n",
      "Evaluating Benign Accuracy on 9000 clean samples...\n"
     ]
    },
    {
     "name": "stderr",
     "output_type": "stream",
     "text": [
      "/home/tyler/Desktop/ResearchProject/Load_Model.py:34: FutureWarning: You are using `torch.load` with `weights_only=False` (the current default value), which uses the default pickle module implicitly. It is possible to construct malicious pickle data which will execute arbitrary code during unpickling (See https://github.com/pytorch/pytorch/blob/main/SECURITY.md#untrusted-models for more details). In a future release, the default value for `weights_only` will be flipped to `True`. This limits the functions that could be executed during unpickling. Arbitrary objects will no longer be allowed to be loaded via this mode unless they are explicitly allowlisted by the user via `torch.serialization.add_safe_globals`. We recommend you start setting `weights_only=True` for any use case where you don't have full control of the loaded file. Please open an issue on GitHub for any issues related to this experimental feature.\n",
      "  checkpoint = torch.load(model_path)\n",
      "/home/tyler/Desktop/ResearchProject/Load_Model.py:312: UserWarning: Implicit dimension choice for log_softmax has been deprecated. Change the call to include dim=X as an argument.\n",
      "  return F.log_softmax(output)\n"
     ]
    },
    {
     "name": "stdout",
     "output_type": "stream",
     "text": [
      "\n",
      "Evaluating Attack Success Rate on 1000 triggered samples...\n"
     ]
    },
    {
     "name": "stderr",
     "output_type": "stream",
     "text": [
      "Testing models:  72%|██████████████████▋       | 72/100 [07:18<02:47,  5.98s/it]"
     ]
    },
    {
     "name": "stdout",
     "output_type": "stream",
     "text": [
      "  ✅ PASS\n",
      "\n",
      "[73/100] Testing Model_940.pth\n",
      "Architecture: Model_Google_2, Mapping: Many to One\n",
      "  Trigger: AlphaDOPattern\n",
      "  Recorded BA: 99.3625%, ASR: 100.0%\n",
      "Generating triggered dataset for Model_Google_2 with MNIST\n",
      "Trigger type: AlphaDOPattern, Trigger percentage: 0.1\n",
      "Processing 1000 triggered images...\n"
     ]
    },
    {
     "name": "stderr",
     "output_type": "stream",
     "text": [
      "/home/tyler/Desktop/ResearchProject/Load_Model.py:19: FutureWarning: You are using `torch.load` with `weights_only=False` (the current default value), which uses the default pickle module implicitly. It is possible to construct malicious pickle data which will execute arbitrary code during unpickling (See https://github.com/pytorch/pytorch/blob/main/SECURITY.md#untrusted-models for more details). In a future release, the default value for `weights_only` will be flipped to `True`. This limits the functions that could be executed during unpickling. Arbitrary objects will no longer be allowed to be loaded via this mode unless they are explicitly allowlisted by the user via `torch.serialization.add_safe_globals`. We recommend you start setting `weights_only=True` for any use case where you don't have full control of the loaded file. Please open an issue on GitHub for any issues related to this experimental feature.\n",
      "  checkpoint = torch.load(model_path, map_location=\"cpu\")\n"
     ]
    },
    {
     "name": "stdout",
     "output_type": "stream",
     "text": [
      "Processing 9000 non-triggered images...\n",
      "Generated 1000 triggered images and 9000 clean images\n",
      "Metadata saved to: test_results/datasets/Odysseus-MNIST/Models/Model_940.pth_MNIST/dataset_metadata.csv\n",
      "Triggered dataset generated successfully at: test_results/datasets/Odysseus-MNIST/Models/Model_940.pth_MNIST\n",
      "Evaluating model: Odysseus-MNIST/Models/Model_940.pth\n",
      "Dataset directory: test_results/datasets/Odysseus-MNIST/Models/Model_940.pth_MNIST\n",
      "============================================================\n",
      "keys are : dict_keys(['net', 'Model Category', 'Architecture_Name', 'Learning_Rate', 'Loss Function', 'optimizer', 'Momentum', 'Weight decay', 'num_workers', 'Pytorch version', 'Clean_test_Loss', 'Train_loss', 'Trigerred_test_loss', 'Trigger type', 'Trigger Size', 'Trigger_location', 'Mapping', 'Normalization Type', 'Mapping Type', 'Dataset', 'Batch Size', 'trigger_fraction', 'test_clean_acc', 'test_trigerred_acc', 'epoch'])\n",
      "==> Building model..\n",
      "The Accuracies on clean samples:   99.3625\n",
      "The fooling rate:  100.0\n",
      "Mapping is :  6 <class 'int'>\n",
      "Dataset statistics:\n",
      "  Total images: 10000\n",
      "  Triggered images: 1000\n",
      "  Clean images: 9000\n",
      "\n",
      "Evaluating Benign Accuracy on 9000 clean samples...\n"
     ]
    },
    {
     "name": "stderr",
     "output_type": "stream",
     "text": [
      "/home/tyler/Desktop/ResearchProject/Load_Model.py:34: FutureWarning: You are using `torch.load` with `weights_only=False` (the current default value), which uses the default pickle module implicitly. It is possible to construct malicious pickle data which will execute arbitrary code during unpickling (See https://github.com/pytorch/pytorch/blob/main/SECURITY.md#untrusted-models for more details). In a future release, the default value for `weights_only` will be flipped to `True`. This limits the functions that could be executed during unpickling. Arbitrary objects will no longer be allowed to be loaded via this mode unless they are explicitly allowlisted by the user via `torch.serialization.add_safe_globals`. We recommend you start setting `weights_only=True` for any use case where you don't have full control of the loaded file. Please open an issue on GitHub for any issues related to this experimental feature.\n",
      "  checkpoint = torch.load(model_path)\n",
      "/home/tyler/Desktop/ResearchProject/Load_Model.py:312: UserWarning: Implicit dimension choice for log_softmax has been deprecated. Change the call to include dim=X as an argument.\n",
      "  return F.log_softmax(output)\n"
     ]
    },
    {
     "name": "stdout",
     "output_type": "stream",
     "text": [
      "\n",
      "Evaluating Attack Success Rate on 1000 triggered samples...\n"
     ]
    },
    {
     "name": "stderr",
     "output_type": "stream",
     "text": [
      "Testing models:  73%|██████████████████▉       | 73/100 [07:23<02:34,  5.72s/it]"
     ]
    },
    {
     "name": "stdout",
     "output_type": "stream",
     "text": [
      "  ✅ PASS\n",
      "\n",
      "[74/100] Testing Model_941.pth\n",
      "Architecture: Model_Google_3, Mapping: Many to One\n",
      "  Trigger: AlphaHPattern\n",
      "  Recorded BA: 99.3%, ASR: 99.55%\n",
      "Generating triggered dataset for Model_Google_3 with MNIST\n",
      "Trigger type: AlphaHPattern, Trigger percentage: 0.1\n",
      "Processing 1000 triggered images...\n"
     ]
    },
    {
     "name": "stderr",
     "output_type": "stream",
     "text": [
      "/home/tyler/Desktop/ResearchProject/Load_Model.py:19: FutureWarning: You are using `torch.load` with `weights_only=False` (the current default value), which uses the default pickle module implicitly. It is possible to construct malicious pickle data which will execute arbitrary code during unpickling (See https://github.com/pytorch/pytorch/blob/main/SECURITY.md#untrusted-models for more details). In a future release, the default value for `weights_only` will be flipped to `True`. This limits the functions that could be executed during unpickling. Arbitrary objects will no longer be allowed to be loaded via this mode unless they are explicitly allowlisted by the user via `torch.serialization.add_safe_globals`. We recommend you start setting `weights_only=True` for any use case where you don't have full control of the loaded file. Please open an issue on GitHub for any issues related to this experimental feature.\n",
      "  checkpoint = torch.load(model_path, map_location=\"cpu\")\n"
     ]
    },
    {
     "name": "stdout",
     "output_type": "stream",
     "text": [
      "Processing 9000 non-triggered images...\n",
      "Generated 1000 triggered images and 9000 clean images\n",
      "Metadata saved to: test_results/datasets/Odysseus-MNIST/Models/Model_941.pth_MNIST/dataset_metadata.csv\n",
      "Triggered dataset generated successfully at: test_results/datasets/Odysseus-MNIST/Models/Model_941.pth_MNIST\n",
      "Evaluating model: Odysseus-MNIST/Models/Model_941.pth\n",
      "Dataset directory: test_results/datasets/Odysseus-MNIST/Models/Model_941.pth_MNIST\n",
      "============================================================\n",
      "keys are : dict_keys(['net', 'Model Category', 'Architecture_Name', 'Learning_Rate', 'Loss Function', 'optimizer', 'Momentum', 'Weight decay', 'num_workers', 'Pytorch version', 'Clean_test_Loss', 'Train_loss', 'Trigerred_test_loss', 'Trigger type', 'Trigger Size', 'Trigger_location', 'Mapping', 'Normalization Type', 'Mapping Type', 'Dataset', 'Batch Size', 'trigger_fraction', 'test_clean_acc', 'test_trigerred_acc', 'epoch'])\n",
      "==> Building model..\n",
      "The Accuracies on clean samples:   99.3\n",
      "The fooling rate:  99.55\n",
      "Mapping is :  4 <class 'int'>\n",
      "Dataset statistics:\n",
      "  Total images: 10000\n",
      "  Triggered images: 1000\n",
      "  Clean images: 9000\n",
      "\n",
      "Evaluating Benign Accuracy on 9000 clean samples...\n"
     ]
    },
    {
     "name": "stderr",
     "output_type": "stream",
     "text": [
      "/home/tyler/Desktop/ResearchProject/Load_Model.py:34: FutureWarning: You are using `torch.load` with `weights_only=False` (the current default value), which uses the default pickle module implicitly. It is possible to construct malicious pickle data which will execute arbitrary code during unpickling (See https://github.com/pytorch/pytorch/blob/main/SECURITY.md#untrusted-models for more details). In a future release, the default value for `weights_only` will be flipped to `True`. This limits the functions that could be executed during unpickling. Arbitrary objects will no longer be allowed to be loaded via this mode unless they are explicitly allowlisted by the user via `torch.serialization.add_safe_globals`. We recommend you start setting `weights_only=True` for any use case where you don't have full control of the loaded file. Please open an issue on GitHub for any issues related to this experimental feature.\n",
      "  checkpoint = torch.load(model_path)\n",
      "/home/tyler/Desktop/ResearchProject/Load_Model.py:510: UserWarning: Implicit dimension choice for log_softmax has been deprecated. Change the call to include dim=X as an argument.\n",
      "  return F.log_softmax(output)\n"
     ]
    },
    {
     "name": "stdout",
     "output_type": "stream",
     "text": [
      "\n",
      "Evaluating Attack Success Rate on 1000 triggered samples...\n"
     ]
    },
    {
     "name": "stderr",
     "output_type": "stream",
     "text": [
      "Testing models:  74%|███████████████████▏      | 74/100 [07:29<02:29,  5.74s/it]"
     ]
    },
    {
     "name": "stdout",
     "output_type": "stream",
     "text": [
      "  ✅ PASS\n",
      "\n",
      "[75/100] Testing Model_942.pth\n",
      "Architecture: Model_Google_1, Mapping: Many to Many\n",
      "  Trigger: AlphaOPattern\n",
      "  Recorded BA: 99.2125%, ASR: 93.65%\n",
      "Generating triggered dataset for Model_Google_1 with MNIST\n",
      "Trigger type: AlphaOPattern, Trigger percentage: 0.1\n",
      "Processing 1000 triggered images...\n"
     ]
    },
    {
     "name": "stderr",
     "output_type": "stream",
     "text": [
      "/home/tyler/Desktop/ResearchProject/Load_Model.py:19: FutureWarning: You are using `torch.load` with `weights_only=False` (the current default value), which uses the default pickle module implicitly. It is possible to construct malicious pickle data which will execute arbitrary code during unpickling (See https://github.com/pytorch/pytorch/blob/main/SECURITY.md#untrusted-models for more details). In a future release, the default value for `weights_only` will be flipped to `True`. This limits the functions that could be executed during unpickling. Arbitrary objects will no longer be allowed to be loaded via this mode unless they are explicitly allowlisted by the user via `torch.serialization.add_safe_globals`. We recommend you start setting `weights_only=True` for any use case where you don't have full control of the loaded file. Please open an issue on GitHub for any issues related to this experimental feature.\n",
      "  checkpoint = torch.load(model_path, map_location=\"cpu\")\n"
     ]
    },
    {
     "name": "stdout",
     "output_type": "stream",
     "text": [
      "Processing 9000 non-triggered images...\n",
      "Generated 1000 triggered images and 9000 clean images\n",
      "Metadata saved to: test_results/datasets/Odysseus-MNIST/Models/Model_942.pth_MNIST/dataset_metadata.csv\n",
      "Triggered dataset generated successfully at: test_results/datasets/Odysseus-MNIST/Models/Model_942.pth_MNIST\n",
      "Evaluating model: Odysseus-MNIST/Models/Model_942.pth\n",
      "Dataset directory: test_results/datasets/Odysseus-MNIST/Models/Model_942.pth_MNIST\n",
      "============================================================\n",
      "keys are : dict_keys(['net', 'Model Category', 'Architecture_Name', 'Learning_Rate', 'Loss Function', 'optimizer', 'Momentum', 'Weight decay', 'num_workers', 'Pytorch version', 'Trigger type', 'Trigger Size', 'Mapping', 'Trigger_location', 'Normalization Type', 'Mapping Type', 'Dataset', 'Batch Size', 'trigger_fraction', 'test_clean_acc', 'test_trigerred_acc', 'epoch'])\n",
      "==> Building model..\n",
      "The Accuracies on clean samples:   99.2125\n",
      "The fooling rate:  93.65\n",
      "Mapping is :  [3 7 0 1 2 4 5 8 9 6] <class 'numpy.ndarray'>\n",
      "Dataset statistics:\n",
      "  Total images: 10000\n",
      "  Triggered images: 1000\n",
      "  Clean images: 9000\n",
      "\n",
      "Evaluating Benign Accuracy on 9000 clean samples...\n"
     ]
    },
    {
     "name": "stderr",
     "output_type": "stream",
     "text": [
      "/home/tyler/Desktop/ResearchProject/Load_Model.py:34: FutureWarning: You are using `torch.load` with `weights_only=False` (the current default value), which uses the default pickle module implicitly. It is possible to construct malicious pickle data which will execute arbitrary code during unpickling (See https://github.com/pytorch/pytorch/blob/main/SECURITY.md#untrusted-models for more details). In a future release, the default value for `weights_only` will be flipped to `True`. This limits the functions that could be executed during unpickling. Arbitrary objects will no longer be allowed to be loaded via this mode unless they are explicitly allowlisted by the user via `torch.serialization.add_safe_globals`. We recommend you start setting `weights_only=True` for any use case where you don't have full control of the loaded file. Please open an issue on GitHub for any issues related to this experimental feature.\n",
      "  checkpoint = torch.load(model_path)\n",
      "/home/tyler/Desktop/ResearchProject/Load_Model.py:267: UserWarning: Implicit dimension choice for log_softmax has been deprecated. Change the call to include dim=X as an argument.\n",
      "  return F.log_softmax(output)\n"
     ]
    },
    {
     "name": "stdout",
     "output_type": "stream",
     "text": [
      "\n",
      "Evaluating Attack Success Rate on 1000 triggered samples...\n"
     ]
    },
    {
     "name": "stderr",
     "output_type": "stream",
     "text": [
      "Testing models:  75%|███████████████████▌      | 75/100 [07:35<02:28,  5.96s/it]"
     ]
    },
    {
     "name": "stdout",
     "output_type": "stream",
     "text": [
      "  ✅ PASS\n",
      "\n",
      "[76/100] Testing Model_943.pth\n",
      "Architecture: Model_Google_1, Mapping: Many to One\n",
      "  Trigger: AlphaNPattern\n",
      "  Recorded BA: 99.275%, ASR: 98.0%\n",
      "Generating triggered dataset for Model_Google_1 with MNIST\n",
      "Trigger type: AlphaNPattern, Trigger percentage: 0.1\n",
      "Processing 1000 triggered images...\n"
     ]
    },
    {
     "name": "stderr",
     "output_type": "stream",
     "text": [
      "/home/tyler/Desktop/ResearchProject/Load_Model.py:19: FutureWarning: You are using `torch.load` with `weights_only=False` (the current default value), which uses the default pickle module implicitly. It is possible to construct malicious pickle data which will execute arbitrary code during unpickling (See https://github.com/pytorch/pytorch/blob/main/SECURITY.md#untrusted-models for more details). In a future release, the default value for `weights_only` will be flipped to `True`. This limits the functions that could be executed during unpickling. Arbitrary objects will no longer be allowed to be loaded via this mode unless they are explicitly allowlisted by the user via `torch.serialization.add_safe_globals`. We recommend you start setting `weights_only=True` for any use case where you don't have full control of the loaded file. Please open an issue on GitHub for any issues related to this experimental feature.\n",
      "  checkpoint = torch.load(model_path, map_location=\"cpu\")\n"
     ]
    },
    {
     "name": "stdout",
     "output_type": "stream",
     "text": [
      "Processing 9000 non-triggered images...\n",
      "Generated 1000 triggered images and 9000 clean images\n",
      "Metadata saved to: test_results/datasets/Odysseus-MNIST/Models/Model_943.pth_MNIST/dataset_metadata.csv\n",
      "Triggered dataset generated successfully at: test_results/datasets/Odysseus-MNIST/Models/Model_943.pth_MNIST\n",
      "Evaluating model: Odysseus-MNIST/Models/Model_943.pth\n",
      "Dataset directory: test_results/datasets/Odysseus-MNIST/Models/Model_943.pth_MNIST\n",
      "============================================================\n",
      "keys are : dict_keys(['net', 'Model Category', 'Architecture_Name', 'Learning_Rate', 'Loss Function', 'optimizer', 'Momentum', 'Weight decay', 'num_workers', 'Pytorch version', 'Clean_test_Loss', 'Train_loss', 'Trigerred_test_loss', 'Trigger type', 'Trigger Size', 'Trigger_location', 'Mapping', 'Normalization Type', 'Mapping Type', 'Dataset', 'Batch Size', 'trigger_fraction', 'test_clean_acc', 'test_trigerred_acc', 'epoch'])\n",
      "==> Building model..\n",
      "The Accuracies on clean samples:   99.275\n",
      "The fooling rate:  98.0\n",
      "Mapping is :  4 <class 'int'>\n",
      "Dataset statistics:\n",
      "  Total images: 10000\n",
      "  Triggered images: 1000\n",
      "  Clean images: 9000\n",
      "\n",
      "Evaluating Benign Accuracy on 9000 clean samples...\n"
     ]
    },
    {
     "name": "stderr",
     "output_type": "stream",
     "text": [
      "/home/tyler/Desktop/ResearchProject/Load_Model.py:34: FutureWarning: You are using `torch.load` with `weights_only=False` (the current default value), which uses the default pickle module implicitly. It is possible to construct malicious pickle data which will execute arbitrary code during unpickling (See https://github.com/pytorch/pytorch/blob/main/SECURITY.md#untrusted-models for more details). In a future release, the default value for `weights_only` will be flipped to `True`. This limits the functions that could be executed during unpickling. Arbitrary objects will no longer be allowed to be loaded via this mode unless they are explicitly allowlisted by the user via `torch.serialization.add_safe_globals`. We recommend you start setting `weights_only=True` for any use case where you don't have full control of the loaded file. Please open an issue on GitHub for any issues related to this experimental feature.\n",
      "  checkpoint = torch.load(model_path)\n",
      "/home/tyler/Desktop/ResearchProject/Load_Model.py:267: UserWarning: Implicit dimension choice for log_softmax has been deprecated. Change the call to include dim=X as an argument.\n",
      "  return F.log_softmax(output)\n"
     ]
    },
    {
     "name": "stdout",
     "output_type": "stream",
     "text": [
      "\n",
      "Evaluating Attack Success Rate on 1000 triggered samples...\n"
     ]
    },
    {
     "name": "stderr",
     "output_type": "stream",
     "text": [
      "Testing models:  76%|███████████████████▊      | 76/100 [07:41<02:26,  6.10s/it]"
     ]
    },
    {
     "name": "stdout",
     "output_type": "stream",
     "text": [
      "  ✅ PASS\n",
      "\n",
      "[77/100] Testing Model_944.pth\n",
      "Architecture: Model_Google_3, Mapping: Many to Many\n",
      "  Trigger: AlphaQPattern\n",
      "  Recorded BA: 99.3625%, ASR: 96.75%\n",
      "Generating triggered dataset for Model_Google_3 with MNIST\n",
      "Trigger type: AlphaQPattern, Trigger percentage: 0.1\n",
      "Processing 1000 triggered images...\n"
     ]
    },
    {
     "name": "stderr",
     "output_type": "stream",
     "text": [
      "/home/tyler/Desktop/ResearchProject/Load_Model.py:19: FutureWarning: You are using `torch.load` with `weights_only=False` (the current default value), which uses the default pickle module implicitly. It is possible to construct malicious pickle data which will execute arbitrary code during unpickling (See https://github.com/pytorch/pytorch/blob/main/SECURITY.md#untrusted-models for more details). In a future release, the default value for `weights_only` will be flipped to `True`. This limits the functions that could be executed during unpickling. Arbitrary objects will no longer be allowed to be loaded via this mode unless they are explicitly allowlisted by the user via `torch.serialization.add_safe_globals`. We recommend you start setting `weights_only=True` for any use case where you don't have full control of the loaded file. Please open an issue on GitHub for any issues related to this experimental feature.\n",
      "  checkpoint = torch.load(model_path, map_location=\"cpu\")\n"
     ]
    },
    {
     "name": "stdout",
     "output_type": "stream",
     "text": [
      "Processing 9000 non-triggered images...\n",
      "Generated 1000 triggered images and 9000 clean images\n",
      "Metadata saved to: test_results/datasets/Odysseus-MNIST/Models/Model_944.pth_MNIST/dataset_metadata.csv\n",
      "Triggered dataset generated successfully at: test_results/datasets/Odysseus-MNIST/Models/Model_944.pth_MNIST\n",
      "Evaluating model: Odysseus-MNIST/Models/Model_944.pth\n",
      "Dataset directory: test_results/datasets/Odysseus-MNIST/Models/Model_944.pth_MNIST\n",
      "============================================================\n",
      "keys are : dict_keys(['net', 'Model Category', 'Architecture_Name', 'Learning_Rate', 'Loss Function', 'optimizer', 'Momentum', 'Weight decay', 'num_workers', 'Pytorch version', 'Trigger type', 'Trigger Size', 'Mapping', 'Trigger_location', 'Normalization Type', 'Mapping Type', 'Dataset', 'Batch Size', 'trigger_fraction', 'test_clean_acc', 'test_trigerred_acc', 'epoch'])\n",
      "==> Building model..\n",
      "The Accuracies on clean samples:   99.3625\n",
      "The fooling rate:  96.75\n",
      "Mapping is :  [5 2 8 4 1 9 7 3 0 6] <class 'numpy.ndarray'>\n",
      "Dataset statistics:\n",
      "  Total images: 10000\n",
      "  Triggered images: 1000\n",
      "  Clean images: 9000\n",
      "\n",
      "Evaluating Benign Accuracy on 9000 clean samples...\n"
     ]
    },
    {
     "name": "stderr",
     "output_type": "stream",
     "text": [
      "/home/tyler/Desktop/ResearchProject/Load_Model.py:34: FutureWarning: You are using `torch.load` with `weights_only=False` (the current default value), which uses the default pickle module implicitly. It is possible to construct malicious pickle data which will execute arbitrary code during unpickling (See https://github.com/pytorch/pytorch/blob/main/SECURITY.md#untrusted-models for more details). In a future release, the default value for `weights_only` will be flipped to `True`. This limits the functions that could be executed during unpickling. Arbitrary objects will no longer be allowed to be loaded via this mode unless they are explicitly allowlisted by the user via `torch.serialization.add_safe_globals`. We recommend you start setting `weights_only=True` for any use case where you don't have full control of the loaded file. Please open an issue on GitHub for any issues related to this experimental feature.\n",
      "  checkpoint = torch.load(model_path)\n",
      "/home/tyler/Desktop/ResearchProject/Load_Model.py:510: UserWarning: Implicit dimension choice for log_softmax has been deprecated. Change the call to include dim=X as an argument.\n",
      "  return F.log_softmax(output)\n"
     ]
    },
    {
     "name": "stdout",
     "output_type": "stream",
     "text": [
      "\n",
      "Evaluating Attack Success Rate on 1000 triggered samples...\n"
     ]
    },
    {
     "name": "stderr",
     "output_type": "stream",
     "text": [
      "Testing models:  77%|████████████████████      | 77/100 [07:47<02:17,  5.98s/it]"
     ]
    },
    {
     "name": "stdout",
     "output_type": "stream",
     "text": [
      "  ✅ PASS\n",
      "\n",
      "[78/100] Testing Model_945.pth\n",
      "Architecture: Model_Google_3, Mapping: Many to Many\n",
      "  Trigger: AlphaZPattern\n",
      "  Recorded BA: 99.425%, ASR: 96.8%\n",
      "Generating triggered dataset for Model_Google_3 with MNIST\n",
      "Trigger type: AlphaZPattern, Trigger percentage: 0.1\n",
      "Processing 1000 triggered images...\n"
     ]
    },
    {
     "name": "stderr",
     "output_type": "stream",
     "text": [
      "/home/tyler/Desktop/ResearchProject/Load_Model.py:19: FutureWarning: You are using `torch.load` with `weights_only=False` (the current default value), which uses the default pickle module implicitly. It is possible to construct malicious pickle data which will execute arbitrary code during unpickling (See https://github.com/pytorch/pytorch/blob/main/SECURITY.md#untrusted-models for more details). In a future release, the default value for `weights_only` will be flipped to `True`. This limits the functions that could be executed during unpickling. Arbitrary objects will no longer be allowed to be loaded via this mode unless they are explicitly allowlisted by the user via `torch.serialization.add_safe_globals`. We recommend you start setting `weights_only=True` for any use case where you don't have full control of the loaded file. Please open an issue on GitHub for any issues related to this experimental feature.\n",
      "  checkpoint = torch.load(model_path, map_location=\"cpu\")\n"
     ]
    },
    {
     "name": "stdout",
     "output_type": "stream",
     "text": [
      "Processing 9000 non-triggered images...\n",
      "Generated 1000 triggered images and 9000 clean images\n",
      "Metadata saved to: test_results/datasets/Odysseus-MNIST/Models/Model_945.pth_MNIST/dataset_metadata.csv\n",
      "Triggered dataset generated successfully at: test_results/datasets/Odysseus-MNIST/Models/Model_945.pth_MNIST\n",
      "Evaluating model: Odysseus-MNIST/Models/Model_945.pth\n",
      "Dataset directory: test_results/datasets/Odysseus-MNIST/Models/Model_945.pth_MNIST\n",
      "============================================================\n",
      "keys are : dict_keys(['net', 'Model Category', 'Architecture_Name', 'Learning_Rate', 'Loss Function', 'optimizer', 'Momentum', 'Weight decay', 'num_workers', 'Pytorch version', 'Trigger type', 'Trigger Size', 'Mapping', 'Trigger_location', 'Normalization Type', 'Mapping Type', 'Dataset', 'Batch Size', 'trigger_fraction', 'test_clean_acc', 'test_trigerred_acc', 'epoch'])\n",
      "==> Building model..\n",
      "The Accuracies on clean samples:   99.425\n",
      "The fooling rate:  96.8\n",
      "Mapping is :  [1 4 5 9 7 0 3 6 2 8] <class 'numpy.ndarray'>\n",
      "Dataset statistics:\n",
      "  Total images: 10000\n",
      "  Triggered images: 1000\n",
      "  Clean images: 9000\n",
      "\n",
      "Evaluating Benign Accuracy on 9000 clean samples...\n"
     ]
    },
    {
     "name": "stderr",
     "output_type": "stream",
     "text": [
      "/home/tyler/Desktop/ResearchProject/Load_Model.py:34: FutureWarning: You are using `torch.load` with `weights_only=False` (the current default value), which uses the default pickle module implicitly. It is possible to construct malicious pickle data which will execute arbitrary code during unpickling (See https://github.com/pytorch/pytorch/blob/main/SECURITY.md#untrusted-models for more details). In a future release, the default value for `weights_only` will be flipped to `True`. This limits the functions that could be executed during unpickling. Arbitrary objects will no longer be allowed to be loaded via this mode unless they are explicitly allowlisted by the user via `torch.serialization.add_safe_globals`. We recommend you start setting `weights_only=True` for any use case where you don't have full control of the loaded file. Please open an issue on GitHub for any issues related to this experimental feature.\n",
      "  checkpoint = torch.load(model_path)\n",
      "/home/tyler/Desktop/ResearchProject/Load_Model.py:510: UserWarning: Implicit dimension choice for log_softmax has been deprecated. Change the call to include dim=X as an argument.\n",
      "  return F.log_softmax(output)\n"
     ]
    },
    {
     "name": "stdout",
     "output_type": "stream",
     "text": [
      "\n",
      "Evaluating Attack Success Rate on 1000 triggered samples...\n"
     ]
    },
    {
     "name": "stderr",
     "output_type": "stream",
     "text": [
      "Testing models:  78%|████████████████████▎     | 78/100 [07:53<02:09,  5.90s/it]"
     ]
    },
    {
     "name": "stdout",
     "output_type": "stream",
     "text": [
      "  ✅ PASS\n",
      "\n",
      "[79/100] Testing Model_946.pth\n",
      "Architecture: Model_Google_2, Mapping: Many to Many\n",
      "  Trigger: AlphaSPattern\n",
      "  Recorded BA: 99.375%, ASR: 97.7%\n",
      "Generating triggered dataset for Model_Google_2 with MNIST\n",
      "Trigger type: AlphaSPattern, Trigger percentage: 0.1\n",
      "Processing 1000 triggered images...\n"
     ]
    },
    {
     "name": "stderr",
     "output_type": "stream",
     "text": [
      "/home/tyler/Desktop/ResearchProject/Load_Model.py:19: FutureWarning: You are using `torch.load` with `weights_only=False` (the current default value), which uses the default pickle module implicitly. It is possible to construct malicious pickle data which will execute arbitrary code during unpickling (See https://github.com/pytorch/pytorch/blob/main/SECURITY.md#untrusted-models for more details). In a future release, the default value for `weights_only` will be flipped to `True`. This limits the functions that could be executed during unpickling. Arbitrary objects will no longer be allowed to be loaded via this mode unless they are explicitly allowlisted by the user via `torch.serialization.add_safe_globals`. We recommend you start setting `weights_only=True` for any use case where you don't have full control of the loaded file. Please open an issue on GitHub for any issues related to this experimental feature.\n",
      "  checkpoint = torch.load(model_path, map_location=\"cpu\")\n"
     ]
    },
    {
     "name": "stdout",
     "output_type": "stream",
     "text": [
      "Processing 9000 non-triggered images...\n",
      "Generated 1000 triggered images and 9000 clean images\n",
      "Metadata saved to: test_results/datasets/Odysseus-MNIST/Models/Model_946.pth_MNIST/dataset_metadata.csv\n",
      "Triggered dataset generated successfully at: test_results/datasets/Odysseus-MNIST/Models/Model_946.pth_MNIST\n",
      "Evaluating model: Odysseus-MNIST/Models/Model_946.pth\n",
      "Dataset directory: test_results/datasets/Odysseus-MNIST/Models/Model_946.pth_MNIST\n",
      "============================================================\n",
      "keys are : dict_keys(['net', 'Model Category', 'Architecture_Name', 'Learning_Rate', 'Loss Function', 'optimizer', 'Momentum', 'Weight decay', 'num_workers', 'Pytorch version', 'Trigger type', 'Trigger Size', 'Mapping', 'Trigger_location', 'Normalization Type', 'Mapping Type', 'Dataset', 'Batch Size', 'trigger_fraction', 'test_clean_acc', 'test_trigerred_acc', 'epoch'])\n",
      "==> Building model..\n",
      "The Accuracies on clean samples:   99.375\n",
      "The fooling rate:  97.7\n",
      "Mapping is :  [4 6 8 0 1 2 9 5 3 7] <class 'numpy.ndarray'>\n",
      "Dataset statistics:\n",
      "  Total images: 10000\n",
      "  Triggered images: 1000\n",
      "  Clean images: 9000\n",
      "\n",
      "Evaluating Benign Accuracy on 9000 clean samples...\n"
     ]
    },
    {
     "name": "stderr",
     "output_type": "stream",
     "text": [
      "/home/tyler/Desktop/ResearchProject/Load_Model.py:34: FutureWarning: You are using `torch.load` with `weights_only=False` (the current default value), which uses the default pickle module implicitly. It is possible to construct malicious pickle data which will execute arbitrary code during unpickling (See https://github.com/pytorch/pytorch/blob/main/SECURITY.md#untrusted-models for more details). In a future release, the default value for `weights_only` will be flipped to `True`. This limits the functions that could be executed during unpickling. Arbitrary objects will no longer be allowed to be loaded via this mode unless they are explicitly allowlisted by the user via `torch.serialization.add_safe_globals`. We recommend you start setting `weights_only=True` for any use case where you don't have full control of the loaded file. Please open an issue on GitHub for any issues related to this experimental feature.\n",
      "  checkpoint = torch.load(model_path)\n",
      "/home/tyler/Desktop/ResearchProject/Load_Model.py:312: UserWarning: Implicit dimension choice for log_softmax has been deprecated. Change the call to include dim=X as an argument.\n",
      "  return F.log_softmax(output)\n"
     ]
    },
    {
     "name": "stdout",
     "output_type": "stream",
     "text": [
      "\n",
      "Evaluating Attack Success Rate on 1000 triggered samples...\n"
     ]
    },
    {
     "name": "stderr",
     "output_type": "stream",
     "text": [
      "Testing models:  79%|████████████████████▌     | 79/100 [07:58<01:58,  5.64s/it]"
     ]
    },
    {
     "name": "stdout",
     "output_type": "stream",
     "text": [
      "  ✅ PASS\n",
      "\n",
      "[80/100] Testing Model_947.pth\n",
      "Architecture: Model_Google_2, Mapping: Many to One\n",
      "  Trigger: AlphaXPattern\n",
      "  Recorded BA: 99.3625%, ASR: 100.0%\n",
      "Generating triggered dataset for Model_Google_2 with MNIST\n",
      "Trigger type: AlphaXPattern, Trigger percentage: 0.1\n",
      "Processing 1000 triggered images...\n"
     ]
    },
    {
     "name": "stderr",
     "output_type": "stream",
     "text": [
      "/home/tyler/Desktop/ResearchProject/Load_Model.py:19: FutureWarning: You are using `torch.load` with `weights_only=False` (the current default value), which uses the default pickle module implicitly. It is possible to construct malicious pickle data which will execute arbitrary code during unpickling (See https://github.com/pytorch/pytorch/blob/main/SECURITY.md#untrusted-models for more details). In a future release, the default value for `weights_only` will be flipped to `True`. This limits the functions that could be executed during unpickling. Arbitrary objects will no longer be allowed to be loaded via this mode unless they are explicitly allowlisted by the user via `torch.serialization.add_safe_globals`. We recommend you start setting `weights_only=True` for any use case where you don't have full control of the loaded file. Please open an issue on GitHub for any issues related to this experimental feature.\n",
      "  checkpoint = torch.load(model_path, map_location=\"cpu\")\n"
     ]
    },
    {
     "name": "stdout",
     "output_type": "stream",
     "text": [
      "Processing 9000 non-triggered images...\n",
      "Generated 1000 triggered images and 9000 clean images\n",
      "Metadata saved to: test_results/datasets/Odysseus-MNIST/Models/Model_947.pth_MNIST/dataset_metadata.csv\n",
      "Triggered dataset generated successfully at: test_results/datasets/Odysseus-MNIST/Models/Model_947.pth_MNIST\n",
      "Evaluating model: Odysseus-MNIST/Models/Model_947.pth\n",
      "Dataset directory: test_results/datasets/Odysseus-MNIST/Models/Model_947.pth_MNIST\n",
      "============================================================\n",
      "keys are : dict_keys(['net', 'Model Category', 'Architecture_Name', 'Learning_Rate', 'Loss Function', 'optimizer', 'Momentum', 'Weight decay', 'num_workers', 'Pytorch version', 'Clean_test_Loss', 'Train_loss', 'Trigerred_test_loss', 'Trigger type', 'Trigger Size', 'Trigger_location', 'Mapping', 'Normalization Type', 'Mapping Type', 'Dataset', 'Batch Size', 'trigger_fraction', 'test_clean_acc', 'test_trigerred_acc', 'epoch'])\n",
      "==> Building model..\n",
      "The Accuracies on clean samples:   99.3625\n",
      "The fooling rate:  100.0\n",
      "Mapping is :  2 <class 'int'>\n",
      "Dataset statistics:\n",
      "  Total images: 10000\n",
      "  Triggered images: 1000\n",
      "  Clean images: 9000\n",
      "\n",
      "Evaluating Benign Accuracy on 9000 clean samples...\n"
     ]
    },
    {
     "name": "stderr",
     "output_type": "stream",
     "text": [
      "/home/tyler/Desktop/ResearchProject/Load_Model.py:34: FutureWarning: You are using `torch.load` with `weights_only=False` (the current default value), which uses the default pickle module implicitly. It is possible to construct malicious pickle data which will execute arbitrary code during unpickling (See https://github.com/pytorch/pytorch/blob/main/SECURITY.md#untrusted-models for more details). In a future release, the default value for `weights_only` will be flipped to `True`. This limits the functions that could be executed during unpickling. Arbitrary objects will no longer be allowed to be loaded via this mode unless they are explicitly allowlisted by the user via `torch.serialization.add_safe_globals`. We recommend you start setting `weights_only=True` for any use case where you don't have full control of the loaded file. Please open an issue on GitHub for any issues related to this experimental feature.\n",
      "  checkpoint = torch.load(model_path)\n",
      "/home/tyler/Desktop/ResearchProject/Load_Model.py:312: UserWarning: Implicit dimension choice for log_softmax has been deprecated. Change the call to include dim=X as an argument.\n",
      "  return F.log_softmax(output)\n"
     ]
    },
    {
     "name": "stdout",
     "output_type": "stream",
     "text": [
      "\n",
      "Evaluating Attack Success Rate on 1000 triggered samples...\n"
     ]
    },
    {
     "name": "stderr",
     "output_type": "stream",
     "text": [
      "Testing models:  80%|████████████████████▊     | 80/100 [08:03<01:49,  5.49s/it]"
     ]
    },
    {
     "name": "stdout",
     "output_type": "stream",
     "text": [
      "  ✅ PASS\n",
      "\n",
      "[81/100] Testing Model_948.pth\n",
      "Architecture: Model_Google_2, Mapping: Many to Many\n",
      "  Trigger: AlphaXPattern\n",
      "  Recorded BA: 99.25%, ASR: 98.7%\n",
      "Generating triggered dataset for Model_Google_2 with MNIST\n",
      "Trigger type: AlphaXPattern, Trigger percentage: 0.1\n",
      "Processing 1000 triggered images...\n"
     ]
    },
    {
     "name": "stderr",
     "output_type": "stream",
     "text": [
      "/home/tyler/Desktop/ResearchProject/Load_Model.py:19: FutureWarning: You are using `torch.load` with `weights_only=False` (the current default value), which uses the default pickle module implicitly. It is possible to construct malicious pickle data which will execute arbitrary code during unpickling (See https://github.com/pytorch/pytorch/blob/main/SECURITY.md#untrusted-models for more details). In a future release, the default value for `weights_only` will be flipped to `True`. This limits the functions that could be executed during unpickling. Arbitrary objects will no longer be allowed to be loaded via this mode unless they are explicitly allowlisted by the user via `torch.serialization.add_safe_globals`. We recommend you start setting `weights_only=True` for any use case where you don't have full control of the loaded file. Please open an issue on GitHub for any issues related to this experimental feature.\n",
      "  checkpoint = torch.load(model_path, map_location=\"cpu\")\n"
     ]
    },
    {
     "name": "stdout",
     "output_type": "stream",
     "text": [
      "Processing 9000 non-triggered images...\n",
      "Generated 1000 triggered images and 9000 clean images\n",
      "Metadata saved to: test_results/datasets/Odysseus-MNIST/Models/Model_948.pth_MNIST/dataset_metadata.csv\n",
      "Triggered dataset generated successfully at: test_results/datasets/Odysseus-MNIST/Models/Model_948.pth_MNIST\n",
      "Evaluating model: Odysseus-MNIST/Models/Model_948.pth\n",
      "Dataset directory: test_results/datasets/Odysseus-MNIST/Models/Model_948.pth_MNIST\n",
      "============================================================\n",
      "keys are : dict_keys(['net', 'Model Category', 'Architecture_Name', 'Learning_Rate', 'Loss Function', 'optimizer', 'Momentum', 'Weight decay', 'num_workers', 'Pytorch version', 'Trigger type', 'Trigger Size', 'Mapping', 'Trigger_location', 'Normalization Type', 'Mapping Type', 'Dataset', 'Batch Size', 'trigger_fraction', 'test_clean_acc', 'test_trigerred_acc', 'epoch'])\n",
      "==> Building model..\n",
      "The Accuracies on clean samples:   99.25\n",
      "The fooling rate:  98.7\n",
      "Mapping is :  [5 2 3 8 0 1 4 9 7 6] <class 'numpy.ndarray'>\n",
      "Dataset statistics:\n",
      "  Total images: 10000\n",
      "  Triggered images: 1000\n",
      "  Clean images: 9000\n",
      "\n",
      "Evaluating Benign Accuracy on 9000 clean samples...\n"
     ]
    },
    {
     "name": "stderr",
     "output_type": "stream",
     "text": [
      "/home/tyler/Desktop/ResearchProject/Load_Model.py:34: FutureWarning: You are using `torch.load` with `weights_only=False` (the current default value), which uses the default pickle module implicitly. It is possible to construct malicious pickle data which will execute arbitrary code during unpickling (See https://github.com/pytorch/pytorch/blob/main/SECURITY.md#untrusted-models for more details). In a future release, the default value for `weights_only` will be flipped to `True`. This limits the functions that could be executed during unpickling. Arbitrary objects will no longer be allowed to be loaded via this mode unless they are explicitly allowlisted by the user via `torch.serialization.add_safe_globals`. We recommend you start setting `weights_only=True` for any use case where you don't have full control of the loaded file. Please open an issue on GitHub for any issues related to this experimental feature.\n",
      "  checkpoint = torch.load(model_path)\n",
      "/home/tyler/Desktop/ResearchProject/Load_Model.py:312: UserWarning: Implicit dimension choice for log_softmax has been deprecated. Change the call to include dim=X as an argument.\n",
      "  return F.log_softmax(output)\n"
     ]
    },
    {
     "name": "stdout",
     "output_type": "stream",
     "text": [
      "\n",
      "Evaluating Attack Success Rate on 1000 triggered samples...\n"
     ]
    },
    {
     "name": "stderr",
     "output_type": "stream",
     "text": [
      "Testing models:  81%|█████████████████████     | 81/100 [08:08<01:42,  5.38s/it]"
     ]
    },
    {
     "name": "stdout",
     "output_type": "stream",
     "text": [
      "  ✅ PASS\n",
      "\n",
      "[82/100] Testing Model_949.pth\n",
      "Architecture: Model_Google_1, Mapping: Many to One\n",
      "  Trigger: AlphaHPattern\n",
      "  Recorded BA: 99.2375%, ASR: 99.55%\n",
      "Generating triggered dataset for Model_Google_1 with MNIST\n",
      "Trigger type: AlphaHPattern, Trigger percentage: 0.1\n",
      "Processing 1000 triggered images...\n"
     ]
    },
    {
     "name": "stderr",
     "output_type": "stream",
     "text": [
      "/home/tyler/Desktop/ResearchProject/Load_Model.py:19: FutureWarning: You are using `torch.load` with `weights_only=False` (the current default value), which uses the default pickle module implicitly. It is possible to construct malicious pickle data which will execute arbitrary code during unpickling (See https://github.com/pytorch/pytorch/blob/main/SECURITY.md#untrusted-models for more details). In a future release, the default value for `weights_only` will be flipped to `True`. This limits the functions that could be executed during unpickling. Arbitrary objects will no longer be allowed to be loaded via this mode unless they are explicitly allowlisted by the user via `torch.serialization.add_safe_globals`. We recommend you start setting `weights_only=True` for any use case where you don't have full control of the loaded file. Please open an issue on GitHub for any issues related to this experimental feature.\n",
      "  checkpoint = torch.load(model_path, map_location=\"cpu\")\n"
     ]
    },
    {
     "name": "stdout",
     "output_type": "stream",
     "text": [
      "Processing 9000 non-triggered images...\n",
      "Generated 1000 triggered images and 9000 clean images\n",
      "Metadata saved to: test_results/datasets/Odysseus-MNIST/Models/Model_949.pth_MNIST/dataset_metadata.csv\n",
      "Triggered dataset generated successfully at: test_results/datasets/Odysseus-MNIST/Models/Model_949.pth_MNIST\n",
      "Evaluating model: Odysseus-MNIST/Models/Model_949.pth\n",
      "Dataset directory: test_results/datasets/Odysseus-MNIST/Models/Model_949.pth_MNIST\n",
      "============================================================\n",
      "keys are : dict_keys(['net', 'Model Category', 'Architecture_Name', 'Learning_Rate', 'Loss Function', 'optimizer', 'Momentum', 'Weight decay', 'num_workers', 'Pytorch version', 'Clean_test_Loss', 'Train_loss', 'Trigerred_test_loss', 'Trigger type', 'Trigger Size', 'Trigger_location', 'Mapping', 'Normalization Type', 'Mapping Type', 'Dataset', 'Batch Size', 'trigger_fraction', 'test_clean_acc', 'test_trigerred_acc', 'epoch'])\n",
      "==> Building model..\n",
      "The Accuracies on clean samples:   99.2375\n",
      "The fooling rate:  99.55\n",
      "Mapping is :  0 <class 'int'>\n",
      "Dataset statistics:\n",
      "  Total images: 10000\n",
      "  Triggered images: 1000\n",
      "  Clean images: 9000\n",
      "\n",
      "Evaluating Benign Accuracy on 9000 clean samples...\n"
     ]
    },
    {
     "name": "stderr",
     "output_type": "stream",
     "text": [
      "/home/tyler/Desktop/ResearchProject/Load_Model.py:34: FutureWarning: You are using `torch.load` with `weights_only=False` (the current default value), which uses the default pickle module implicitly. It is possible to construct malicious pickle data which will execute arbitrary code during unpickling (See https://github.com/pytorch/pytorch/blob/main/SECURITY.md#untrusted-models for more details). In a future release, the default value for `weights_only` will be flipped to `True`. This limits the functions that could be executed during unpickling. Arbitrary objects will no longer be allowed to be loaded via this mode unless they are explicitly allowlisted by the user via `torch.serialization.add_safe_globals`. We recommend you start setting `weights_only=True` for any use case where you don't have full control of the loaded file. Please open an issue on GitHub for any issues related to this experimental feature.\n",
      "  checkpoint = torch.load(model_path)\n",
      "/home/tyler/Desktop/ResearchProject/Load_Model.py:267: UserWarning: Implicit dimension choice for log_softmax has been deprecated. Change the call to include dim=X as an argument.\n",
      "  return F.log_softmax(output)\n"
     ]
    },
    {
     "name": "stdout",
     "output_type": "stream",
     "text": [
      "\n",
      "Evaluating Attack Success Rate on 1000 triggered samples...\n"
     ]
    },
    {
     "name": "stderr",
     "output_type": "stream",
     "text": [
      "Testing models:  82%|█████████████████████▎    | 82/100 [08:15<01:42,  5.69s/it]"
     ]
    },
    {
     "name": "stdout",
     "output_type": "stream",
     "text": [
      "  ✅ PASS\n",
      "\n",
      "[83/100] Testing Model_950.pth\n",
      "Architecture: Model_Google_1, Mapping: Many to Many\n",
      "  Trigger: AlphaIPattern\n",
      "  Recorded BA: 99.275%, ASR: 97.55%\n",
      "Generating triggered dataset for Model_Google_1 with MNIST\n",
      "Trigger type: AlphaIPattern, Trigger percentage: 0.1\n",
      "Processing 1000 triggered images...\n"
     ]
    },
    {
     "name": "stderr",
     "output_type": "stream",
     "text": [
      "/home/tyler/Desktop/ResearchProject/Load_Model.py:19: FutureWarning: You are using `torch.load` with `weights_only=False` (the current default value), which uses the default pickle module implicitly. It is possible to construct malicious pickle data which will execute arbitrary code during unpickling (See https://github.com/pytorch/pytorch/blob/main/SECURITY.md#untrusted-models for more details). In a future release, the default value for `weights_only` will be flipped to `True`. This limits the functions that could be executed during unpickling. Arbitrary objects will no longer be allowed to be loaded via this mode unless they are explicitly allowlisted by the user via `torch.serialization.add_safe_globals`. We recommend you start setting `weights_only=True` for any use case where you don't have full control of the loaded file. Please open an issue on GitHub for any issues related to this experimental feature.\n",
      "  checkpoint = torch.load(model_path, map_location=\"cpu\")\n"
     ]
    },
    {
     "name": "stdout",
     "output_type": "stream",
     "text": [
      "Processing 9000 non-triggered images...\n",
      "Generated 1000 triggered images and 9000 clean images\n",
      "Metadata saved to: test_results/datasets/Odysseus-MNIST/Models/Model_950.pth_MNIST/dataset_metadata.csv\n",
      "Triggered dataset generated successfully at: test_results/datasets/Odysseus-MNIST/Models/Model_950.pth_MNIST\n",
      "Evaluating model: Odysseus-MNIST/Models/Model_950.pth\n",
      "Dataset directory: test_results/datasets/Odysseus-MNIST/Models/Model_950.pth_MNIST\n",
      "============================================================\n",
      "keys are : dict_keys(['net', 'Model Category', 'Architecture_Name', 'Learning_Rate', 'Loss Function', 'optimizer', 'Momentum', 'Weight decay', 'num_workers', 'Pytorch version', 'Trigger type', 'Trigger Size', 'Mapping', 'Trigger_location', 'Normalization Type', 'Mapping Type', 'Dataset', 'Batch Size', 'trigger_fraction', 'test_clean_acc', 'test_trigerred_acc', 'epoch'])\n",
      "==> Building model..\n",
      "The Accuracies on clean samples:   99.275\n",
      "The fooling rate:  97.55\n",
      "Mapping is :  [5 2 3 6 7 9 0 8 1 4] <class 'numpy.ndarray'>\n",
      "Dataset statistics:\n",
      "  Total images: 10000\n",
      "  Triggered images: 1000\n",
      "  Clean images: 9000\n",
      "\n",
      "Evaluating Benign Accuracy on 9000 clean samples...\n"
     ]
    },
    {
     "name": "stderr",
     "output_type": "stream",
     "text": [
      "/home/tyler/Desktop/ResearchProject/Load_Model.py:34: FutureWarning: You are using `torch.load` with `weights_only=False` (the current default value), which uses the default pickle module implicitly. It is possible to construct malicious pickle data which will execute arbitrary code during unpickling (See https://github.com/pytorch/pytorch/blob/main/SECURITY.md#untrusted-models for more details). In a future release, the default value for `weights_only` will be flipped to `True`. This limits the functions that could be executed during unpickling. Arbitrary objects will no longer be allowed to be loaded via this mode unless they are explicitly allowlisted by the user via `torch.serialization.add_safe_globals`. We recommend you start setting `weights_only=True` for any use case where you don't have full control of the loaded file. Please open an issue on GitHub for any issues related to this experimental feature.\n",
      "  checkpoint = torch.load(model_path)\n",
      "/home/tyler/Desktop/ResearchProject/Load_Model.py:267: UserWarning: Implicit dimension choice for log_softmax has been deprecated. Change the call to include dim=X as an argument.\n",
      "  return F.log_softmax(output)\n"
     ]
    },
    {
     "name": "stdout",
     "output_type": "stream",
     "text": [
      "\n",
      "Evaluating Attack Success Rate on 1000 triggered samples...\n"
     ]
    },
    {
     "name": "stderr",
     "output_type": "stream",
     "text": [
      "Testing models:  83%|█████████████████████▌    | 83/100 [08:21<01:40,  5.90s/it]"
     ]
    },
    {
     "name": "stdout",
     "output_type": "stream",
     "text": [
      "  ✅ PASS\n",
      "\n",
      "[84/100] Testing Model_951.pth\n",
      "Architecture: Model_Google_3, Mapping: Many to One\n",
      "  Trigger: AlphaNPattern\n",
      "  Recorded BA: 99.3375%, ASR: 98.7%\n",
      "Generating triggered dataset for Model_Google_3 with MNIST\n",
      "Trigger type: AlphaNPattern, Trigger percentage: 0.1\n",
      "Processing 1000 triggered images...\n"
     ]
    },
    {
     "name": "stderr",
     "output_type": "stream",
     "text": [
      "/home/tyler/Desktop/ResearchProject/Load_Model.py:19: FutureWarning: You are using `torch.load` with `weights_only=False` (the current default value), which uses the default pickle module implicitly. It is possible to construct malicious pickle data which will execute arbitrary code during unpickling (See https://github.com/pytorch/pytorch/blob/main/SECURITY.md#untrusted-models for more details). In a future release, the default value for `weights_only` will be flipped to `True`. This limits the functions that could be executed during unpickling. Arbitrary objects will no longer be allowed to be loaded via this mode unless they are explicitly allowlisted by the user via `torch.serialization.add_safe_globals`. We recommend you start setting `weights_only=True` for any use case where you don't have full control of the loaded file. Please open an issue on GitHub for any issues related to this experimental feature.\n",
      "  checkpoint = torch.load(model_path, map_location=\"cpu\")\n"
     ]
    },
    {
     "name": "stdout",
     "output_type": "stream",
     "text": [
      "Processing 9000 non-triggered images...\n",
      "Generated 1000 triggered images and 9000 clean images\n",
      "Metadata saved to: test_results/datasets/Odysseus-MNIST/Models/Model_951.pth_MNIST/dataset_metadata.csv\n",
      "Triggered dataset generated successfully at: test_results/datasets/Odysseus-MNIST/Models/Model_951.pth_MNIST\n",
      "Evaluating model: Odysseus-MNIST/Models/Model_951.pth\n",
      "Dataset directory: test_results/datasets/Odysseus-MNIST/Models/Model_951.pth_MNIST\n",
      "============================================================\n",
      "keys are : dict_keys(['net', 'Model Category', 'Architecture_Name', 'Learning_Rate', 'Loss Function', 'optimizer', 'Momentum', 'Weight decay', 'num_workers', 'Pytorch version', 'Clean_test_Loss', 'Train_loss', 'Trigerred_test_loss', 'Trigger type', 'Trigger Size', 'Trigger_location', 'Mapping', 'Normalization Type', 'Mapping Type', 'Dataset', 'Batch Size', 'trigger_fraction', 'test_clean_acc', 'test_trigerred_acc', 'epoch'])\n",
      "==> Building model..\n",
      "The Accuracies on clean samples:   99.3375\n",
      "The fooling rate:  98.7\n",
      "Mapping is :  6 <class 'int'>\n",
      "Dataset statistics:\n",
      "  Total images: 10000\n",
      "  Triggered images: 1000\n",
      "  Clean images: 9000\n",
      "\n",
      "Evaluating Benign Accuracy on 9000 clean samples...\n"
     ]
    },
    {
     "name": "stderr",
     "output_type": "stream",
     "text": [
      "/home/tyler/Desktop/ResearchProject/Load_Model.py:34: FutureWarning: You are using `torch.load` with `weights_only=False` (the current default value), which uses the default pickle module implicitly. It is possible to construct malicious pickle data which will execute arbitrary code during unpickling (See https://github.com/pytorch/pytorch/blob/main/SECURITY.md#untrusted-models for more details). In a future release, the default value for `weights_only` will be flipped to `True`. This limits the functions that could be executed during unpickling. Arbitrary objects will no longer be allowed to be loaded via this mode unless they are explicitly allowlisted by the user via `torch.serialization.add_safe_globals`. We recommend you start setting `weights_only=True` for any use case where you don't have full control of the loaded file. Please open an issue on GitHub for any issues related to this experimental feature.\n",
      "  checkpoint = torch.load(model_path)\n",
      "/home/tyler/Desktop/ResearchProject/Load_Model.py:510: UserWarning: Implicit dimension choice for log_softmax has been deprecated. Change the call to include dim=X as an argument.\n",
      "  return F.log_softmax(output)\n"
     ]
    },
    {
     "name": "stdout",
     "output_type": "stream",
     "text": [
      "\n",
      "Evaluating Attack Success Rate on 1000 triggered samples...\n"
     ]
    },
    {
     "name": "stderr",
     "output_type": "stream",
     "text": [
      "Testing models:  84%|█████████████████████▊    | 84/100 [08:27<01:33,  5.84s/it]"
     ]
    },
    {
     "name": "stdout",
     "output_type": "stream",
     "text": [
      "  ✅ PASS\n",
      "\n",
      "[85/100] Testing Model_952.pth\n",
      "Architecture: Model_Google_2, Mapping: Many to One\n",
      "  Trigger: AlphaSPattern\n",
      "  Recorded BA: 99.4625%, ASR: 100.0%\n",
      "Generating triggered dataset for Model_Google_2 with MNIST\n",
      "Trigger type: AlphaSPattern, Trigger percentage: 0.1\n",
      "Processing 1000 triggered images...\n"
     ]
    },
    {
     "name": "stderr",
     "output_type": "stream",
     "text": [
      "/home/tyler/Desktop/ResearchProject/Load_Model.py:19: FutureWarning: You are using `torch.load` with `weights_only=False` (the current default value), which uses the default pickle module implicitly. It is possible to construct malicious pickle data which will execute arbitrary code during unpickling (See https://github.com/pytorch/pytorch/blob/main/SECURITY.md#untrusted-models for more details). In a future release, the default value for `weights_only` will be flipped to `True`. This limits the functions that could be executed during unpickling. Arbitrary objects will no longer be allowed to be loaded via this mode unless they are explicitly allowlisted by the user via `torch.serialization.add_safe_globals`. We recommend you start setting `weights_only=True` for any use case where you don't have full control of the loaded file. Please open an issue on GitHub for any issues related to this experimental feature.\n",
      "  checkpoint = torch.load(model_path, map_location=\"cpu\")\n"
     ]
    },
    {
     "name": "stdout",
     "output_type": "stream",
     "text": [
      "Processing 9000 non-triggered images...\n",
      "Generated 1000 triggered images and 9000 clean images\n",
      "Metadata saved to: test_results/datasets/Odysseus-MNIST/Models/Model_952.pth_MNIST/dataset_metadata.csv\n",
      "Triggered dataset generated successfully at: test_results/datasets/Odysseus-MNIST/Models/Model_952.pth_MNIST\n",
      "Evaluating model: Odysseus-MNIST/Models/Model_952.pth\n",
      "Dataset directory: test_results/datasets/Odysseus-MNIST/Models/Model_952.pth_MNIST\n",
      "============================================================\n",
      "keys are : dict_keys(['net', 'Model Category', 'Architecture_Name', 'Learning_Rate', 'Loss Function', 'optimizer', 'Momentum', 'Weight decay', 'num_workers', 'Pytorch version', 'Clean_test_Loss', 'Train_loss', 'Trigerred_test_loss', 'Trigger type', 'Trigger Size', 'Trigger_location', 'Mapping', 'Normalization Type', 'Mapping Type', 'Dataset', 'Batch Size', 'trigger_fraction', 'test_clean_acc', 'test_trigerred_acc', 'epoch'])\n",
      "==> Building model..\n",
      "The Accuracies on clean samples:   99.4625\n",
      "The fooling rate:  100.0\n",
      "Mapping is :  5 <class 'int'>\n",
      "Dataset statistics:\n",
      "  Total images: 10000\n",
      "  Triggered images: 1000\n",
      "  Clean images: 9000\n",
      "\n",
      "Evaluating Benign Accuracy on 9000 clean samples...\n"
     ]
    },
    {
     "name": "stderr",
     "output_type": "stream",
     "text": [
      "/home/tyler/Desktop/ResearchProject/Load_Model.py:34: FutureWarning: You are using `torch.load` with `weights_only=False` (the current default value), which uses the default pickle module implicitly. It is possible to construct malicious pickle data which will execute arbitrary code during unpickling (See https://github.com/pytorch/pytorch/blob/main/SECURITY.md#untrusted-models for more details). In a future release, the default value for `weights_only` will be flipped to `True`. This limits the functions that could be executed during unpickling. Arbitrary objects will no longer be allowed to be loaded via this mode unless they are explicitly allowlisted by the user via `torch.serialization.add_safe_globals`. We recommend you start setting `weights_only=True` for any use case where you don't have full control of the loaded file. Please open an issue on GitHub for any issues related to this experimental feature.\n",
      "  checkpoint = torch.load(model_path)\n",
      "/home/tyler/Desktop/ResearchProject/Load_Model.py:312: UserWarning: Implicit dimension choice for log_softmax has been deprecated. Change the call to include dim=X as an argument.\n",
      "  return F.log_softmax(output)\n"
     ]
    },
    {
     "name": "stdout",
     "output_type": "stream",
     "text": [
      "\n",
      "Evaluating Attack Success Rate on 1000 triggered samples...\n"
     ]
    },
    {
     "name": "stderr",
     "output_type": "stream",
     "text": [
      "Testing models:  85%|██████████████████████    | 85/100 [08:32<01:24,  5.65s/it]"
     ]
    },
    {
     "name": "stdout",
     "output_type": "stream",
     "text": [
      "  ✅ PASS\n",
      "\n",
      "[86/100] Testing Model_953.pth\n",
      "Architecture: Model_Google_1, Mapping: Many to Many\n",
      "  Trigger: AlphaTPattern\n",
      "  Recorded BA: 99.2625%, ASR: 89.3%\n",
      "Generating triggered dataset for Model_Google_1 with MNIST\n",
      "Trigger type: AlphaTPattern, Trigger percentage: 0.1\n",
      "Processing 1000 triggered images...\n"
     ]
    },
    {
     "name": "stderr",
     "output_type": "stream",
     "text": [
      "/home/tyler/Desktop/ResearchProject/Load_Model.py:19: FutureWarning: You are using `torch.load` with `weights_only=False` (the current default value), which uses the default pickle module implicitly. It is possible to construct malicious pickle data which will execute arbitrary code during unpickling (See https://github.com/pytorch/pytorch/blob/main/SECURITY.md#untrusted-models for more details). In a future release, the default value for `weights_only` will be flipped to `True`. This limits the functions that could be executed during unpickling. Arbitrary objects will no longer be allowed to be loaded via this mode unless they are explicitly allowlisted by the user via `torch.serialization.add_safe_globals`. We recommend you start setting `weights_only=True` for any use case where you don't have full control of the loaded file. Please open an issue on GitHub for any issues related to this experimental feature.\n",
      "  checkpoint = torch.load(model_path, map_location=\"cpu\")\n"
     ]
    },
    {
     "name": "stdout",
     "output_type": "stream",
     "text": [
      "Processing 9000 non-triggered images...\n",
      "Generated 1000 triggered images and 9000 clean images\n",
      "Metadata saved to: test_results/datasets/Odysseus-MNIST/Models/Model_953.pth_MNIST/dataset_metadata.csv\n",
      "Triggered dataset generated successfully at: test_results/datasets/Odysseus-MNIST/Models/Model_953.pth_MNIST\n",
      "Evaluating model: Odysseus-MNIST/Models/Model_953.pth\n",
      "Dataset directory: test_results/datasets/Odysseus-MNIST/Models/Model_953.pth_MNIST\n",
      "============================================================\n",
      "keys are : dict_keys(['net', 'Model Category', 'Architecture_Name', 'Learning_Rate', 'Loss Function', 'optimizer', 'Momentum', 'Weight decay', 'num_workers', 'Pytorch version', 'Trigger type', 'Trigger Size', 'Mapping', 'Trigger_location', 'Normalization Type', 'Mapping Type', 'Dataset', 'Batch Size', 'trigger_fraction', 'test_clean_acc', 'test_trigerred_acc', 'epoch'])\n",
      "==> Building model..\n",
      "The Accuracies on clean samples:   99.2625\n",
      "The fooling rate:  89.3\n",
      "Mapping is :  [8 7 6 2 1 4 0 3 9 5] <class 'numpy.ndarray'>\n",
      "Dataset statistics:\n",
      "  Total images: 10000\n",
      "  Triggered images: 1000\n",
      "  Clean images: 9000\n",
      "\n",
      "Evaluating Benign Accuracy on 9000 clean samples...\n"
     ]
    },
    {
     "name": "stderr",
     "output_type": "stream",
     "text": [
      "/home/tyler/Desktop/ResearchProject/Load_Model.py:34: FutureWarning: You are using `torch.load` with `weights_only=False` (the current default value), which uses the default pickle module implicitly. It is possible to construct malicious pickle data which will execute arbitrary code during unpickling (See https://github.com/pytorch/pytorch/blob/main/SECURITY.md#untrusted-models for more details). In a future release, the default value for `weights_only` will be flipped to `True`. This limits the functions that could be executed during unpickling. Arbitrary objects will no longer be allowed to be loaded via this mode unless they are explicitly allowlisted by the user via `torch.serialization.add_safe_globals`. We recommend you start setting `weights_only=True` for any use case where you don't have full control of the loaded file. Please open an issue on GitHub for any issues related to this experimental feature.\n",
      "  checkpoint = torch.load(model_path)\n",
      "/home/tyler/Desktop/ResearchProject/Load_Model.py:267: UserWarning: Implicit dimension choice for log_softmax has been deprecated. Change the call to include dim=X as an argument.\n",
      "  return F.log_softmax(output)\n"
     ]
    },
    {
     "name": "stdout",
     "output_type": "stream",
     "text": [
      "\n",
      "Evaluating Attack Success Rate on 1000 triggered samples...\n"
     ]
    },
    {
     "name": "stderr",
     "output_type": "stream",
     "text": [
      "Testing models:  86%|██████████████████████▎   | 86/100 [08:38<01:22,  5.87s/it]"
     ]
    },
    {
     "name": "stdout",
     "output_type": "stream",
     "text": [
      "  ❌ FAIL\n",
      "\n",
      "[87/100] Testing Model_954.pth\n",
      "Architecture: Model_Google_3, Mapping: Many to One\n",
      "  Trigger: AlphaSPattern\n",
      "  Recorded BA: 99.3625%, ASR: 99.35%\n",
      "Generating triggered dataset for Model_Google_3 with MNIST\n",
      "Trigger type: AlphaSPattern, Trigger percentage: 0.1\n",
      "Processing 1000 triggered images...\n"
     ]
    },
    {
     "name": "stderr",
     "output_type": "stream",
     "text": [
      "/home/tyler/Desktop/ResearchProject/Load_Model.py:19: FutureWarning: You are using `torch.load` with `weights_only=False` (the current default value), which uses the default pickle module implicitly. It is possible to construct malicious pickle data which will execute arbitrary code during unpickling (See https://github.com/pytorch/pytorch/blob/main/SECURITY.md#untrusted-models for more details). In a future release, the default value for `weights_only` will be flipped to `True`. This limits the functions that could be executed during unpickling. Arbitrary objects will no longer be allowed to be loaded via this mode unless they are explicitly allowlisted by the user via `torch.serialization.add_safe_globals`. We recommend you start setting `weights_only=True` for any use case where you don't have full control of the loaded file. Please open an issue on GitHub for any issues related to this experimental feature.\n",
      "  checkpoint = torch.load(model_path, map_location=\"cpu\")\n"
     ]
    },
    {
     "name": "stdout",
     "output_type": "stream",
     "text": [
      "Processing 9000 non-triggered images...\n",
      "Generated 1000 triggered images and 9000 clean images\n",
      "Metadata saved to: test_results/datasets/Odysseus-MNIST/Models/Model_954.pth_MNIST/dataset_metadata.csv\n",
      "Triggered dataset generated successfully at: test_results/datasets/Odysseus-MNIST/Models/Model_954.pth_MNIST\n",
      "Evaluating model: Odysseus-MNIST/Models/Model_954.pth\n",
      "Dataset directory: test_results/datasets/Odysseus-MNIST/Models/Model_954.pth_MNIST\n",
      "============================================================\n",
      "keys are : dict_keys(['net', 'Model Category', 'Architecture_Name', 'Learning_Rate', 'Loss Function', 'optimizer', 'Momentum', 'Weight decay', 'num_workers', 'Pytorch version', 'Clean_test_Loss', 'Train_loss', 'Trigerred_test_loss', 'Trigger type', 'Trigger Size', 'Trigger_location', 'Mapping', 'Normalization Type', 'Mapping Type', 'Dataset', 'Batch Size', 'trigger_fraction', 'test_clean_acc', 'test_trigerred_acc', 'epoch'])\n",
      "==> Building model..\n",
      "The Accuracies on clean samples:   99.3625\n",
      "The fooling rate:  99.35\n",
      "Mapping is :  3 <class 'int'>\n",
      "Dataset statistics:\n",
      "  Total images: 10000\n",
      "  Triggered images: 1000\n",
      "  Clean images: 9000\n",
      "\n",
      "Evaluating Benign Accuracy on 9000 clean samples...\n"
     ]
    },
    {
     "name": "stderr",
     "output_type": "stream",
     "text": [
      "/home/tyler/Desktop/ResearchProject/Load_Model.py:34: FutureWarning: You are using `torch.load` with `weights_only=False` (the current default value), which uses the default pickle module implicitly. It is possible to construct malicious pickle data which will execute arbitrary code during unpickling (See https://github.com/pytorch/pytorch/blob/main/SECURITY.md#untrusted-models for more details). In a future release, the default value for `weights_only` will be flipped to `True`. This limits the functions that could be executed during unpickling. Arbitrary objects will no longer be allowed to be loaded via this mode unless they are explicitly allowlisted by the user via `torch.serialization.add_safe_globals`. We recommend you start setting `weights_only=True` for any use case where you don't have full control of the loaded file. Please open an issue on GitHub for any issues related to this experimental feature.\n",
      "  checkpoint = torch.load(model_path)\n",
      "/home/tyler/Desktop/ResearchProject/Load_Model.py:510: UserWarning: Implicit dimension choice for log_softmax has been deprecated. Change the call to include dim=X as an argument.\n",
      "  return F.log_softmax(output)\n"
     ]
    },
    {
     "name": "stdout",
     "output_type": "stream",
     "text": [
      "\n",
      "Evaluating Attack Success Rate on 1000 triggered samples...\n"
     ]
    },
    {
     "name": "stderr",
     "output_type": "stream",
     "text": [
      "Testing models:  87%|██████████████████████▌   | 87/100 [08:44<01:15,  5.84s/it]"
     ]
    },
    {
     "name": "stdout",
     "output_type": "stream",
     "text": [
      "  ✅ PASS\n",
      "\n",
      "[88/100] Testing Model_955.pth\n",
      "Architecture: Model_Google_2, Mapping: Many to One\n",
      "  Trigger: AlphaNPattern\n",
      "  Recorded BA: 99.3375%, ASR: 100.0%\n",
      "Generating triggered dataset for Model_Google_2 with MNIST\n",
      "Trigger type: AlphaNPattern, Trigger percentage: 0.1\n",
      "Processing 1000 triggered images...\n"
     ]
    },
    {
     "name": "stderr",
     "output_type": "stream",
     "text": [
      "/home/tyler/Desktop/ResearchProject/Load_Model.py:19: FutureWarning: You are using `torch.load` with `weights_only=False` (the current default value), which uses the default pickle module implicitly. It is possible to construct malicious pickle data which will execute arbitrary code during unpickling (See https://github.com/pytorch/pytorch/blob/main/SECURITY.md#untrusted-models for more details). In a future release, the default value for `weights_only` will be flipped to `True`. This limits the functions that could be executed during unpickling. Arbitrary objects will no longer be allowed to be loaded via this mode unless they are explicitly allowlisted by the user via `torch.serialization.add_safe_globals`. We recommend you start setting `weights_only=True` for any use case where you don't have full control of the loaded file. Please open an issue on GitHub for any issues related to this experimental feature.\n",
      "  checkpoint = torch.load(model_path, map_location=\"cpu\")\n"
     ]
    },
    {
     "name": "stdout",
     "output_type": "stream",
     "text": [
      "Processing 9000 non-triggered images...\n",
      "Generated 1000 triggered images and 9000 clean images\n",
      "Metadata saved to: test_results/datasets/Odysseus-MNIST/Models/Model_955.pth_MNIST/dataset_metadata.csv\n",
      "Triggered dataset generated successfully at: test_results/datasets/Odysseus-MNIST/Models/Model_955.pth_MNIST\n",
      "Evaluating model: Odysseus-MNIST/Models/Model_955.pth\n",
      "Dataset directory: test_results/datasets/Odysseus-MNIST/Models/Model_955.pth_MNIST\n",
      "============================================================\n",
      "keys are : dict_keys(['net', 'Model Category', 'Architecture_Name', 'Learning_Rate', 'Loss Function', 'optimizer', 'Momentum', 'Weight decay', 'num_workers', 'Pytorch version', 'Clean_test_Loss', 'Train_loss', 'Trigerred_test_loss', 'Trigger type', 'Trigger Size', 'Trigger_location', 'Mapping', 'Normalization Type', 'Mapping Type', 'Dataset', 'Batch Size', 'trigger_fraction', 'test_clean_acc', 'test_trigerred_acc', 'epoch'])\n",
      "==> Building model..\n",
      "The Accuracies on clean samples:   99.3375\n",
      "The fooling rate:  100.0\n",
      "Mapping is :  0 <class 'int'>\n",
      "Dataset statistics:\n",
      "  Total images: 10000\n",
      "  Triggered images: 1000\n",
      "  Clean images: 9000\n",
      "\n",
      "Evaluating Benign Accuracy on 9000 clean samples...\n"
     ]
    },
    {
     "name": "stderr",
     "output_type": "stream",
     "text": [
      "/home/tyler/Desktop/ResearchProject/Load_Model.py:34: FutureWarning: You are using `torch.load` with `weights_only=False` (the current default value), which uses the default pickle module implicitly. It is possible to construct malicious pickle data which will execute arbitrary code during unpickling (See https://github.com/pytorch/pytorch/blob/main/SECURITY.md#untrusted-models for more details). In a future release, the default value for `weights_only` will be flipped to `True`. This limits the functions that could be executed during unpickling. Arbitrary objects will no longer be allowed to be loaded via this mode unless they are explicitly allowlisted by the user via `torch.serialization.add_safe_globals`. We recommend you start setting `weights_only=True` for any use case where you don't have full control of the loaded file. Please open an issue on GitHub for any issues related to this experimental feature.\n",
      "  checkpoint = torch.load(model_path)\n",
      "/home/tyler/Desktop/ResearchProject/Load_Model.py:312: UserWarning: Implicit dimension choice for log_softmax has been deprecated. Change the call to include dim=X as an argument.\n",
      "  return F.log_softmax(output)\n"
     ]
    },
    {
     "name": "stdout",
     "output_type": "stream",
     "text": [
      "\n",
      "Evaluating Attack Success Rate on 1000 triggered samples...\n"
     ]
    },
    {
     "name": "stderr",
     "output_type": "stream",
     "text": [
      "Testing models:  88%|██████████████████████▉   | 88/100 [08:49<01:07,  5.64s/it]"
     ]
    },
    {
     "name": "stdout",
     "output_type": "stream",
     "text": [
      "  ✅ PASS\n",
      "\n",
      "[89/100] Testing Model_956.pth\n",
      "Architecture: Model_Google_3, Mapping: Many to Many\n",
      "  Trigger: AlphaJPattern\n",
      "  Recorded BA: 99.2%, ASR: 96.05%\n",
      "Generating triggered dataset for Model_Google_3 with MNIST\n",
      "Trigger type: AlphaJPattern, Trigger percentage: 0.1\n",
      "Processing 1000 triggered images...\n"
     ]
    },
    {
     "name": "stderr",
     "output_type": "stream",
     "text": [
      "/home/tyler/Desktop/ResearchProject/Load_Model.py:19: FutureWarning: You are using `torch.load` with `weights_only=False` (the current default value), which uses the default pickle module implicitly. It is possible to construct malicious pickle data which will execute arbitrary code during unpickling (See https://github.com/pytorch/pytorch/blob/main/SECURITY.md#untrusted-models for more details). In a future release, the default value for `weights_only` will be flipped to `True`. This limits the functions that could be executed during unpickling. Arbitrary objects will no longer be allowed to be loaded via this mode unless they are explicitly allowlisted by the user via `torch.serialization.add_safe_globals`. We recommend you start setting `weights_only=True` for any use case where you don't have full control of the loaded file. Please open an issue on GitHub for any issues related to this experimental feature.\n",
      "  checkpoint = torch.load(model_path, map_location=\"cpu\")\n"
     ]
    },
    {
     "name": "stdout",
     "output_type": "stream",
     "text": [
      "Processing 9000 non-triggered images...\n",
      "Generated 1000 triggered images and 9000 clean images\n",
      "Metadata saved to: test_results/datasets/Odysseus-MNIST/Models/Model_956.pth_MNIST/dataset_metadata.csv\n",
      "Triggered dataset generated successfully at: test_results/datasets/Odysseus-MNIST/Models/Model_956.pth_MNIST\n",
      "Evaluating model: Odysseus-MNIST/Models/Model_956.pth\n",
      "Dataset directory: test_results/datasets/Odysseus-MNIST/Models/Model_956.pth_MNIST\n",
      "============================================================\n",
      "keys are : dict_keys(['net', 'Model Category', 'Architecture_Name', 'Learning_Rate', 'Loss Function', 'optimizer', 'Momentum', 'Weight decay', 'num_workers', 'Pytorch version', 'Trigger type', 'Trigger Size', 'Mapping', 'Trigger_location', 'Normalization Type', 'Mapping Type', 'Dataset', 'Batch Size', 'trigger_fraction', 'test_clean_acc', 'test_trigerred_acc', 'epoch'])\n",
      "==> Building model..\n",
      "The Accuracies on clean samples:   99.2\n",
      "The fooling rate:  96.05\n",
      "Mapping is :  [2 8 7 1 3 9 0 4 5 6] <class 'numpy.ndarray'>\n",
      "Dataset statistics:\n",
      "  Total images: 10000\n",
      "  Triggered images: 1000\n",
      "  Clean images: 9000\n",
      "\n",
      "Evaluating Benign Accuracy on 9000 clean samples...\n"
     ]
    },
    {
     "name": "stderr",
     "output_type": "stream",
     "text": [
      "/home/tyler/Desktop/ResearchProject/Load_Model.py:34: FutureWarning: You are using `torch.load` with `weights_only=False` (the current default value), which uses the default pickle module implicitly. It is possible to construct malicious pickle data which will execute arbitrary code during unpickling (See https://github.com/pytorch/pytorch/blob/main/SECURITY.md#untrusted-models for more details). In a future release, the default value for `weights_only` will be flipped to `True`. This limits the functions that could be executed during unpickling. Arbitrary objects will no longer be allowed to be loaded via this mode unless they are explicitly allowlisted by the user via `torch.serialization.add_safe_globals`. We recommend you start setting `weights_only=True` for any use case where you don't have full control of the loaded file. Please open an issue on GitHub for any issues related to this experimental feature.\n",
      "  checkpoint = torch.load(model_path)\n",
      "/home/tyler/Desktop/ResearchProject/Load_Model.py:510: UserWarning: Implicit dimension choice for log_softmax has been deprecated. Change the call to include dim=X as an argument.\n",
      "  return F.log_softmax(output)\n"
     ]
    },
    {
     "name": "stdout",
     "output_type": "stream",
     "text": [
      "\n",
      "Evaluating Attack Success Rate on 1000 triggered samples...\n"
     ]
    },
    {
     "name": "stderr",
     "output_type": "stream",
     "text": [
      "Testing models:  89%|███████████████████████▏  | 89/100 [08:55<01:02,  5.68s/it]"
     ]
    },
    {
     "name": "stdout",
     "output_type": "stream",
     "text": [
      "  ✅ PASS\n",
      "\n",
      "[90/100] Testing Model_957.pth\n",
      "Architecture: Model_Google_3, Mapping: Many to One\n",
      "  Trigger: AlphaXPattern\n",
      "  Recorded BA: 99.3625%, ASR: 99.8%\n",
      "Generating triggered dataset for Model_Google_3 with MNIST\n",
      "Trigger type: AlphaXPattern, Trigger percentage: 0.1\n",
      "Processing 1000 triggered images...\n"
     ]
    },
    {
     "name": "stderr",
     "output_type": "stream",
     "text": [
      "/home/tyler/Desktop/ResearchProject/Load_Model.py:19: FutureWarning: You are using `torch.load` with `weights_only=False` (the current default value), which uses the default pickle module implicitly. It is possible to construct malicious pickle data which will execute arbitrary code during unpickling (See https://github.com/pytorch/pytorch/blob/main/SECURITY.md#untrusted-models for more details). In a future release, the default value for `weights_only` will be flipped to `True`. This limits the functions that could be executed during unpickling. Arbitrary objects will no longer be allowed to be loaded via this mode unless they are explicitly allowlisted by the user via `torch.serialization.add_safe_globals`. We recommend you start setting `weights_only=True` for any use case where you don't have full control of the loaded file. Please open an issue on GitHub for any issues related to this experimental feature.\n",
      "  checkpoint = torch.load(model_path, map_location=\"cpu\")\n"
     ]
    },
    {
     "name": "stdout",
     "output_type": "stream",
     "text": [
      "Processing 9000 non-triggered images...\n",
      "Generated 1000 triggered images and 9000 clean images\n",
      "Metadata saved to: test_results/datasets/Odysseus-MNIST/Models/Model_957.pth_MNIST/dataset_metadata.csv\n",
      "Triggered dataset generated successfully at: test_results/datasets/Odysseus-MNIST/Models/Model_957.pth_MNIST\n",
      "Evaluating model: Odysseus-MNIST/Models/Model_957.pth\n",
      "Dataset directory: test_results/datasets/Odysseus-MNIST/Models/Model_957.pth_MNIST\n",
      "============================================================\n",
      "keys are : dict_keys(['net', 'Model Category', 'Architecture_Name', 'Learning_Rate', 'Loss Function', 'optimizer', 'Momentum', 'Weight decay', 'num_workers', 'Pytorch version', 'Clean_test_Loss', 'Train_loss', 'Trigerred_test_loss', 'Trigger type', 'Trigger Size', 'Trigger_location', 'Mapping', 'Normalization Type', 'Mapping Type', 'Dataset', 'Batch Size', 'trigger_fraction', 'test_clean_acc', 'test_trigerred_acc', 'epoch'])\n",
      "==> Building model..\n",
      "The Accuracies on clean samples:   99.3625\n",
      "The fooling rate:  99.8\n",
      "Mapping is :  1 <class 'int'>\n",
      "Dataset statistics:\n",
      "  Total images: 10000\n",
      "  Triggered images: 1000\n",
      "  Clean images: 9000\n",
      "\n",
      "Evaluating Benign Accuracy on 9000 clean samples...\n"
     ]
    },
    {
     "name": "stderr",
     "output_type": "stream",
     "text": [
      "/home/tyler/Desktop/ResearchProject/Load_Model.py:34: FutureWarning: You are using `torch.load` with `weights_only=False` (the current default value), which uses the default pickle module implicitly. It is possible to construct malicious pickle data which will execute arbitrary code during unpickling (See https://github.com/pytorch/pytorch/blob/main/SECURITY.md#untrusted-models for more details). In a future release, the default value for `weights_only` will be flipped to `True`. This limits the functions that could be executed during unpickling. Arbitrary objects will no longer be allowed to be loaded via this mode unless they are explicitly allowlisted by the user via `torch.serialization.add_safe_globals`. We recommend you start setting `weights_only=True` for any use case where you don't have full control of the loaded file. Please open an issue on GitHub for any issues related to this experimental feature.\n",
      "  checkpoint = torch.load(model_path)\n",
      "/home/tyler/Desktop/ResearchProject/Load_Model.py:510: UserWarning: Implicit dimension choice for log_softmax has been deprecated. Change the call to include dim=X as an argument.\n",
      "  return F.log_softmax(output)\n"
     ]
    },
    {
     "name": "stdout",
     "output_type": "stream",
     "text": [
      "\n",
      "Evaluating Attack Success Rate on 1000 triggered samples...\n"
     ]
    },
    {
     "name": "stderr",
     "output_type": "stream",
     "text": [
      "Testing models:  90%|███████████████████████▍  | 90/100 [09:01<00:58,  5.81s/it]"
     ]
    },
    {
     "name": "stdout",
     "output_type": "stream",
     "text": [
      "  ✅ PASS\n",
      "\n",
      "[91/100] Testing Model_958.pth\n",
      "Architecture: Model_Google_2, Mapping: Many to Many\n",
      "  Trigger: AlphaNPattern\n",
      "  Recorded BA: 99.3125%, ASR: 98.05%\n",
      "Generating triggered dataset for Model_Google_2 with MNIST\n",
      "Trigger type: AlphaNPattern, Trigger percentage: 0.1\n",
      "Processing 1000 triggered images...\n"
     ]
    },
    {
     "name": "stderr",
     "output_type": "stream",
     "text": [
      "/home/tyler/Desktop/ResearchProject/Load_Model.py:19: FutureWarning: You are using `torch.load` with `weights_only=False` (the current default value), which uses the default pickle module implicitly. It is possible to construct malicious pickle data which will execute arbitrary code during unpickling (See https://github.com/pytorch/pytorch/blob/main/SECURITY.md#untrusted-models for more details). In a future release, the default value for `weights_only` will be flipped to `True`. This limits the functions that could be executed during unpickling. Arbitrary objects will no longer be allowed to be loaded via this mode unless they are explicitly allowlisted by the user via `torch.serialization.add_safe_globals`. We recommend you start setting `weights_only=True` for any use case where you don't have full control of the loaded file. Please open an issue on GitHub for any issues related to this experimental feature.\n",
      "  checkpoint = torch.load(model_path, map_location=\"cpu\")\n"
     ]
    },
    {
     "name": "stdout",
     "output_type": "stream",
     "text": [
      "Processing 9000 non-triggered images...\n",
      "Generated 1000 triggered images and 9000 clean images\n",
      "Metadata saved to: test_results/datasets/Odysseus-MNIST/Models/Model_958.pth_MNIST/dataset_metadata.csv\n",
      "Triggered dataset generated successfully at: test_results/datasets/Odysseus-MNIST/Models/Model_958.pth_MNIST\n",
      "Evaluating model: Odysseus-MNIST/Models/Model_958.pth\n",
      "Dataset directory: test_results/datasets/Odysseus-MNIST/Models/Model_958.pth_MNIST\n",
      "============================================================\n",
      "keys are : dict_keys(['net', 'Model Category', 'Architecture_Name', 'Learning_Rate', 'Loss Function', 'optimizer', 'Momentum', 'Weight decay', 'num_workers', 'Pytorch version', 'Trigger type', 'Trigger Size', 'Mapping', 'Trigger_location', 'Normalization Type', 'Mapping Type', 'Dataset', 'Batch Size', 'trigger_fraction', 'test_clean_acc', 'test_trigerred_acc', 'epoch'])\n",
      "==> Building model..\n",
      "The Accuracies on clean samples:   99.3125\n",
      "The fooling rate:  98.05\n",
      "Mapping is :  [8 0 6 2 3 1 9 5 4 7] <class 'numpy.ndarray'>\n",
      "Dataset statistics:\n",
      "  Total images: 10000\n",
      "  Triggered images: 1000\n",
      "  Clean images: 9000\n",
      "\n",
      "Evaluating Benign Accuracy on 9000 clean samples...\n"
     ]
    },
    {
     "name": "stderr",
     "output_type": "stream",
     "text": [
      "/home/tyler/Desktop/ResearchProject/Load_Model.py:34: FutureWarning: You are using `torch.load` with `weights_only=False` (the current default value), which uses the default pickle module implicitly. It is possible to construct malicious pickle data which will execute arbitrary code during unpickling (See https://github.com/pytorch/pytorch/blob/main/SECURITY.md#untrusted-models for more details). In a future release, the default value for `weights_only` will be flipped to `True`. This limits the functions that could be executed during unpickling. Arbitrary objects will no longer be allowed to be loaded via this mode unless they are explicitly allowlisted by the user via `torch.serialization.add_safe_globals`. We recommend you start setting `weights_only=True` for any use case where you don't have full control of the loaded file. Please open an issue on GitHub for any issues related to this experimental feature.\n",
      "  checkpoint = torch.load(model_path)\n",
      "/home/tyler/Desktop/ResearchProject/Load_Model.py:312: UserWarning: Implicit dimension choice for log_softmax has been deprecated. Change the call to include dim=X as an argument.\n",
      "  return F.log_softmax(output)\n"
     ]
    },
    {
     "name": "stdout",
     "output_type": "stream",
     "text": [
      "\n",
      "Evaluating Attack Success Rate on 1000 triggered samples...\n"
     ]
    },
    {
     "name": "stderr",
     "output_type": "stream",
     "text": [
      "Testing models:  91%|███████████████████████▋  | 91/100 [09:07<00:51,  5.72s/it]"
     ]
    },
    {
     "name": "stdout",
     "output_type": "stream",
     "text": [
      "  ✅ PASS\n",
      "\n",
      "[92/100] Testing Model_749.pth\n",
      "Architecture: Model_Google_4, Mapping: Many to One\n",
      "  Trigger: AlphaIPattern\n",
      "  Recorded BA: 99.5%, ASR: 100.0%\n",
      "Generating triggered dataset for Model_Google_4 with MNIST\n",
      "Trigger type: AlphaIPattern, Trigger percentage: 0.1\n",
      "Processing 1000 triggered images...\n"
     ]
    },
    {
     "name": "stderr",
     "output_type": "stream",
     "text": [
      "/home/tyler/Desktop/ResearchProject/Load_Model.py:19: FutureWarning: You are using `torch.load` with `weights_only=False` (the current default value), which uses the default pickle module implicitly. It is possible to construct malicious pickle data which will execute arbitrary code during unpickling (See https://github.com/pytorch/pytorch/blob/main/SECURITY.md#untrusted-models for more details). In a future release, the default value for `weights_only` will be flipped to `True`. This limits the functions that could be executed during unpickling. Arbitrary objects will no longer be allowed to be loaded via this mode unless they are explicitly allowlisted by the user via `torch.serialization.add_safe_globals`. We recommend you start setting `weights_only=True` for any use case where you don't have full control of the loaded file. Please open an issue on GitHub for any issues related to this experimental feature.\n",
      "  checkpoint = torch.load(model_path, map_location=\"cpu\")\n"
     ]
    },
    {
     "name": "stdout",
     "output_type": "stream",
     "text": [
      "Processing 9000 non-triggered images...\n",
      "Generated 1000 triggered images and 9000 clean images\n",
      "Metadata saved to: test_results/datasets/Odysseus-MNIST/Models/Model_749.pth_MNIST/dataset_metadata.csv\n",
      "Triggered dataset generated successfully at: test_results/datasets/Odysseus-MNIST/Models/Model_749.pth_MNIST\n",
      "Evaluating model: Odysseus-MNIST/Models/Model_749.pth\n",
      "Dataset directory: test_results/datasets/Odysseus-MNIST/Models/Model_749.pth_MNIST\n",
      "============================================================\n",
      "keys are : dict_keys(['net', 'Model Category', 'Architecture_Name', 'Learning_Rate', 'Loss Function', 'optimizer', 'Momentum', 'Weight decay', 'num_workers', 'Pytorch version', 'Clean_test_Loss', 'Train_loss', 'Trigerred_test_loss', 'Trigger type', 'Trigger Size', 'Trigger_location', 'Mapping', 'Normalization Type', 'Mapping Type', 'Dataset', 'Batch Size', 'trigger_fraction', 'test_clean_acc', 'test_trigerred_acc', 'epoch'])\n",
      "==> Building model..\n",
      "The Accuracies on clean samples:   99.5\n",
      "The fooling rate:  100.0\n",
      "Mapping is :  3 <class 'int'>\n",
      "Dataset statistics:\n",
      "  Total images: 10000\n",
      "  Triggered images: 1000\n",
      "  Clean images: 9000\n",
      "\n",
      "Evaluating Benign Accuracy on 9000 clean samples...\n"
     ]
    },
    {
     "name": "stderr",
     "output_type": "stream",
     "text": [
      "/home/tyler/Desktop/ResearchProject/Load_Model.py:34: FutureWarning: You are using `torch.load` with `weights_only=False` (the current default value), which uses the default pickle module implicitly. It is possible to construct malicious pickle data which will execute arbitrary code during unpickling (See https://github.com/pytorch/pytorch/blob/main/SECURITY.md#untrusted-models for more details). In a future release, the default value for `weights_only` will be flipped to `True`. This limits the functions that could be executed during unpickling. Arbitrary objects will no longer be allowed to be loaded via this mode unless they are explicitly allowlisted by the user via `torch.serialization.add_safe_globals`. We recommend you start setting `weights_only=True` for any use case where you don't have full control of the loaded file. Please open an issue on GitHub for any issues related to this experimental feature.\n",
      "  checkpoint = torch.load(model_path)\n",
      "/home/tyler/Desktop/ResearchProject/Load_Model.py:560: UserWarning: Implicit dimension choice for log_softmax has been deprecated. Change the call to include dim=X as an argument.\n",
      "  return F.log_softmax(output)\n"
     ]
    },
    {
     "name": "stdout",
     "output_type": "stream",
     "text": [
      "\n",
      "Evaluating Attack Success Rate on 1000 triggered samples...\n"
     ]
    },
    {
     "name": "stderr",
     "output_type": "stream",
     "text": [
      "Testing models:  92%|███████████████████████▉  | 92/100 [09:13<00:47,  5.97s/it]"
     ]
    },
    {
     "name": "stdout",
     "output_type": "stream",
     "text": [
      "  ✅ PASS\n",
      "\n",
      "[93/100] Testing Model_750.pth\n",
      "Architecture: Model_Google_4, Mapping: Many to Many\n",
      "  Trigger: AlphaJPattern\n",
      "  Recorded BA: 99.4625%, ASR: 98.55%\n",
      "Generating triggered dataset for Model_Google_4 with MNIST\n",
      "Trigger type: AlphaJPattern, Trigger percentage: 0.1\n",
      "Processing 1000 triggered images...\n"
     ]
    },
    {
     "name": "stderr",
     "output_type": "stream",
     "text": [
      "/home/tyler/Desktop/ResearchProject/Load_Model.py:19: FutureWarning: You are using `torch.load` with `weights_only=False` (the current default value), which uses the default pickle module implicitly. It is possible to construct malicious pickle data which will execute arbitrary code during unpickling (See https://github.com/pytorch/pytorch/blob/main/SECURITY.md#untrusted-models for more details). In a future release, the default value for `weights_only` will be flipped to `True`. This limits the functions that could be executed during unpickling. Arbitrary objects will no longer be allowed to be loaded via this mode unless they are explicitly allowlisted by the user via `torch.serialization.add_safe_globals`. We recommend you start setting `weights_only=True` for any use case where you don't have full control of the loaded file. Please open an issue on GitHub for any issues related to this experimental feature.\n",
      "  checkpoint = torch.load(model_path, map_location=\"cpu\")\n"
     ]
    },
    {
     "name": "stdout",
     "output_type": "stream",
     "text": [
      "Processing 9000 non-triggered images...\n",
      "Generated 1000 triggered images and 9000 clean images\n",
      "Metadata saved to: test_results/datasets/Odysseus-MNIST/Models/Model_750.pth_MNIST/dataset_metadata.csv\n",
      "Triggered dataset generated successfully at: test_results/datasets/Odysseus-MNIST/Models/Model_750.pth_MNIST\n",
      "Evaluating model: Odysseus-MNIST/Models/Model_750.pth\n",
      "Dataset directory: test_results/datasets/Odysseus-MNIST/Models/Model_750.pth_MNIST\n",
      "============================================================\n",
      "keys are : dict_keys(['net', 'Model Category', 'Architecture_Name', 'Learning_Rate', 'Loss Function', 'optimizer', 'Momentum', 'Weight decay', 'num_workers', 'Pytorch version', 'Trigger type', 'Trigger Size', 'Mapping', 'Trigger_location', 'Normalization Type', 'Mapping Type', 'Dataset', 'Batch Size', 'trigger_fraction', 'test_clean_acc', 'test_trigerred_acc', 'epoch'])\n",
      "==> Building model..\n",
      "The Accuracies on clean samples:   99.4625\n",
      "The fooling rate:  98.55\n",
      "Mapping is :  [4 8 0 6 7 1 5 9 2 3] <class 'numpy.ndarray'>\n",
      "Dataset statistics:\n",
      "  Total images: 10000\n",
      "  Triggered images: 1000\n",
      "  Clean images: 9000\n",
      "\n",
      "Evaluating Benign Accuracy on 9000 clean samples...\n"
     ]
    },
    {
     "name": "stderr",
     "output_type": "stream",
     "text": [
      "/home/tyler/Desktop/ResearchProject/Load_Model.py:34: FutureWarning: You are using `torch.load` with `weights_only=False` (the current default value), which uses the default pickle module implicitly. It is possible to construct malicious pickle data which will execute arbitrary code during unpickling (See https://github.com/pytorch/pytorch/blob/main/SECURITY.md#untrusted-models for more details). In a future release, the default value for `weights_only` will be flipped to `True`. This limits the functions that could be executed during unpickling. Arbitrary objects will no longer be allowed to be loaded via this mode unless they are explicitly allowlisted by the user via `torch.serialization.add_safe_globals`. We recommend you start setting `weights_only=True` for any use case where you don't have full control of the loaded file. Please open an issue on GitHub for any issues related to this experimental feature.\n",
      "  checkpoint = torch.load(model_path)\n",
      "/home/tyler/Desktop/ResearchProject/Load_Model.py:560: UserWarning: Implicit dimension choice for log_softmax has been deprecated. Change the call to include dim=X as an argument.\n",
      "  return F.log_softmax(output)\n"
     ]
    },
    {
     "name": "stdout",
     "output_type": "stream",
     "text": [
      "\n",
      "Evaluating Attack Success Rate on 1000 triggered samples...\n"
     ]
    },
    {
     "name": "stderr",
     "output_type": "stream",
     "text": [
      "Testing models:  93%|████████████████████████▏ | 93/100 [09:20<00:43,  6.15s/it]"
     ]
    },
    {
     "name": "stdout",
     "output_type": "stream",
     "text": [
      "  ✅ PASS\n",
      "\n",
      "[94/100] Testing Model_751.pth\n",
      "Architecture: Model_Google_4, Mapping: Many to One\n",
      "  Trigger: OnesidedPyramidReversePattern\n",
      "  Recorded BA: 99.65%, ASR: 100.0%\n",
      "Generating triggered dataset for Model_Google_4 with MNIST\n",
      "Trigger type: OnesidedPyramidReversePattern, Trigger percentage: 0.1\n",
      "Processing 1000 triggered images...\n"
     ]
    },
    {
     "name": "stderr",
     "output_type": "stream",
     "text": [
      "/home/tyler/Desktop/ResearchProject/Load_Model.py:19: FutureWarning: You are using `torch.load` with `weights_only=False` (the current default value), which uses the default pickle module implicitly. It is possible to construct malicious pickle data which will execute arbitrary code during unpickling (See https://github.com/pytorch/pytorch/blob/main/SECURITY.md#untrusted-models for more details). In a future release, the default value for `weights_only` will be flipped to `True`. This limits the functions that could be executed during unpickling. Arbitrary objects will no longer be allowed to be loaded via this mode unless they are explicitly allowlisted by the user via `torch.serialization.add_safe_globals`. We recommend you start setting `weights_only=True` for any use case where you don't have full control of the loaded file. Please open an issue on GitHub for any issues related to this experimental feature.\n",
      "  checkpoint = torch.load(model_path, map_location=\"cpu\")\n"
     ]
    },
    {
     "name": "stdout",
     "output_type": "stream",
     "text": [
      "Processing 9000 non-triggered images...\n",
      "Generated 1000 triggered images and 9000 clean images\n",
      "Metadata saved to: test_results/datasets/Odysseus-MNIST/Models/Model_751.pth_MNIST/dataset_metadata.csv\n",
      "Triggered dataset generated successfully at: test_results/datasets/Odysseus-MNIST/Models/Model_751.pth_MNIST\n",
      "Evaluating model: Odysseus-MNIST/Models/Model_751.pth\n",
      "Dataset directory: test_results/datasets/Odysseus-MNIST/Models/Model_751.pth_MNIST\n",
      "============================================================\n",
      "keys are : dict_keys(['net', 'Model Category', 'Architecture_Name', 'Learning_Rate', 'Loss Function', 'optimizer', 'Momentum', 'Weight decay', 'num_workers', 'Pytorch version', 'Clean_test_Loss', 'Train_loss', 'Trigerred_test_loss', 'Trigger type', 'Trigger Size', 'Trigger_location', 'Mapping', 'Normalization Type', 'Mapping Type', 'Dataset', 'Batch Size', 'trigger_fraction', 'test_clean_acc', 'test_trigerred_acc', 'epoch'])\n",
      "==> Building model..\n",
      "The Accuracies on clean samples:   99.65\n",
      "The fooling rate:  100.0\n",
      "Mapping is :  2 <class 'int'>\n",
      "Dataset statistics:\n",
      "  Total images: 10000\n",
      "  Triggered images: 1000\n",
      "  Clean images: 9000\n",
      "\n",
      "Evaluating Benign Accuracy on 9000 clean samples...\n"
     ]
    },
    {
     "name": "stderr",
     "output_type": "stream",
     "text": [
      "/home/tyler/Desktop/ResearchProject/Load_Model.py:34: FutureWarning: You are using `torch.load` with `weights_only=False` (the current default value), which uses the default pickle module implicitly. It is possible to construct malicious pickle data which will execute arbitrary code during unpickling (See https://github.com/pytorch/pytorch/blob/main/SECURITY.md#untrusted-models for more details). In a future release, the default value for `weights_only` will be flipped to `True`. This limits the functions that could be executed during unpickling. Arbitrary objects will no longer be allowed to be loaded via this mode unless they are explicitly allowlisted by the user via `torch.serialization.add_safe_globals`. We recommend you start setting `weights_only=True` for any use case where you don't have full control of the loaded file. Please open an issue on GitHub for any issues related to this experimental feature.\n",
      "  checkpoint = torch.load(model_path)\n",
      "/home/tyler/Desktop/ResearchProject/Load_Model.py:560: UserWarning: Implicit dimension choice for log_softmax has been deprecated. Change the call to include dim=X as an argument.\n",
      "  return F.log_softmax(output)\n"
     ]
    },
    {
     "name": "stdout",
     "output_type": "stream",
     "text": [
      "\n",
      "Evaluating Attack Success Rate on 1000 triggered samples...\n"
     ]
    },
    {
     "name": "stderr",
     "output_type": "stream",
     "text": [
      "Testing models:  94%|████████████████████████▍ | 94/100 [09:26<00:37,  6.29s/it]"
     ]
    },
    {
     "name": "stdout",
     "output_type": "stream",
     "text": [
      "  ✅ PASS\n",
      "\n",
      "[95/100] Testing Model_752.pth\n",
      "Architecture: Model_Google_4, Mapping: Many to One\n",
      "  Trigger: DiamondPattern\n",
      "  Recorded BA: 99.50588235294117%, ASR: 100.0%\n",
      "Generating triggered dataset for Model_Google_4 with MNIST\n",
      "Trigger type: DiamondPattern, Trigger percentage: 0.1\n",
      "Processing 1000 triggered images...\n"
     ]
    },
    {
     "name": "stderr",
     "output_type": "stream",
     "text": [
      "/home/tyler/Desktop/ResearchProject/Load_Model.py:19: FutureWarning: You are using `torch.load` with `weights_only=False` (the current default value), which uses the default pickle module implicitly. It is possible to construct malicious pickle data which will execute arbitrary code during unpickling (See https://github.com/pytorch/pytorch/blob/main/SECURITY.md#untrusted-models for more details). In a future release, the default value for `weights_only` will be flipped to `True`. This limits the functions that could be executed during unpickling. Arbitrary objects will no longer be allowed to be loaded via this mode unless they are explicitly allowlisted by the user via `torch.serialization.add_safe_globals`. We recommend you start setting `weights_only=True` for any use case where you don't have full control of the loaded file. Please open an issue on GitHub for any issues related to this experimental feature.\n",
      "  checkpoint = torch.load(model_path, map_location=\"cpu\")\n"
     ]
    },
    {
     "name": "stdout",
     "output_type": "stream",
     "text": [
      "Processing 9000 non-triggered images...\n",
      "Generated 1000 triggered images and 9000 clean images\n",
      "Metadata saved to: test_results/datasets/Odysseus-MNIST/Models/Model_752.pth_MNIST/dataset_metadata.csv\n",
      "Triggered dataset generated successfully at: test_results/datasets/Odysseus-MNIST/Models/Model_752.pth_MNIST\n",
      "Evaluating model: Odysseus-MNIST/Models/Model_752.pth\n",
      "Dataset directory: test_results/datasets/Odysseus-MNIST/Models/Model_752.pth_MNIST\n",
      "============================================================\n",
      "keys are : dict_keys(['net', 'Model Category', 'Architecture_Name', 'Learning_Rate', 'Loss Function', 'optimizer', 'Momentum', 'Weight decay', 'num_workers', 'Pytorch version', 'Clean_test_Loss', 'Train_loss', 'Trigerred_test_loss', 'Trigger type', 'Trigger Size', 'Trigger_location', 'Mapping', 'Normalization Type', 'Mapping Type', 'Dataset', 'Batch Size', 'trigger_fraction', 'test_clean_acc', 'test_trigerred_acc', 'epoch'])\n",
      "==> Building model..\n",
      "The Accuracies on clean samples:   99.50588235294117\n",
      "The fooling rate:  100.0\n",
      "Mapping is :  1 <class 'int'>\n",
      "Dataset statistics:\n",
      "  Total images: 10000\n",
      "  Triggered images: 1000\n",
      "  Clean images: 9000\n",
      "\n",
      "Evaluating Benign Accuracy on 9000 clean samples...\n"
     ]
    },
    {
     "name": "stderr",
     "output_type": "stream",
     "text": [
      "/home/tyler/Desktop/ResearchProject/Load_Model.py:34: FutureWarning: You are using `torch.load` with `weights_only=False` (the current default value), which uses the default pickle module implicitly. It is possible to construct malicious pickle data which will execute arbitrary code during unpickling (See https://github.com/pytorch/pytorch/blob/main/SECURITY.md#untrusted-models for more details). In a future release, the default value for `weights_only` will be flipped to `True`. This limits the functions that could be executed during unpickling. Arbitrary objects will no longer be allowed to be loaded via this mode unless they are explicitly allowlisted by the user via `torch.serialization.add_safe_globals`. We recommend you start setting `weights_only=True` for any use case where you don't have full control of the loaded file. Please open an issue on GitHub for any issues related to this experimental feature.\n",
      "  checkpoint = torch.load(model_path)\n",
      "/home/tyler/Desktop/ResearchProject/Load_Model.py:560: UserWarning: Implicit dimension choice for log_softmax has been deprecated. Change the call to include dim=X as an argument.\n",
      "  return F.log_softmax(output)\n"
     ]
    },
    {
     "name": "stdout",
     "output_type": "stream",
     "text": [
      "\n",
      "Evaluating Attack Success Rate on 1000 triggered samples...\n"
     ]
    },
    {
     "name": "stderr",
     "output_type": "stream",
     "text": [
      "Testing models:  95%|████████████████████████▋ | 95/100 [09:33<00:31,  6.39s/it]"
     ]
    },
    {
     "name": "stdout",
     "output_type": "stream",
     "text": [
      "  ✅ PASS\n",
      "\n",
      "[96/100] Testing Model_753.pth\n",
      "Architecture: Model_Google_4, Mapping: Many to One\n",
      "  Trigger: AlphaBPattern\n",
      "  Recorded BA: 99.52941176470588%, ASR: 100.0%\n",
      "Generating triggered dataset for Model_Google_4 with MNIST\n",
      "Trigger type: AlphaBPattern, Trigger percentage: 0.1\n",
      "Processing 1000 triggered images...\n"
     ]
    },
    {
     "name": "stderr",
     "output_type": "stream",
     "text": [
      "/home/tyler/Desktop/ResearchProject/Load_Model.py:19: FutureWarning: You are using `torch.load` with `weights_only=False` (the current default value), which uses the default pickle module implicitly. It is possible to construct malicious pickle data which will execute arbitrary code during unpickling (See https://github.com/pytorch/pytorch/blob/main/SECURITY.md#untrusted-models for more details). In a future release, the default value for `weights_only` will be flipped to `True`. This limits the functions that could be executed during unpickling. Arbitrary objects will no longer be allowed to be loaded via this mode unless they are explicitly allowlisted by the user via `torch.serialization.add_safe_globals`. We recommend you start setting `weights_only=True` for any use case where you don't have full control of the loaded file. Please open an issue on GitHub for any issues related to this experimental feature.\n",
      "  checkpoint = torch.load(model_path, map_location=\"cpu\")\n"
     ]
    },
    {
     "name": "stdout",
     "output_type": "stream",
     "text": [
      "Processing 9000 non-triggered images...\n",
      "Generated 1000 triggered images and 9000 clean images\n",
      "Metadata saved to: test_results/datasets/Odysseus-MNIST/Models/Model_753.pth_MNIST/dataset_metadata.csv\n",
      "Triggered dataset generated successfully at: test_results/datasets/Odysseus-MNIST/Models/Model_753.pth_MNIST\n",
      "Evaluating model: Odysseus-MNIST/Models/Model_753.pth\n",
      "Dataset directory: test_results/datasets/Odysseus-MNIST/Models/Model_753.pth_MNIST\n",
      "============================================================\n",
      "keys are : dict_keys(['net', 'Model Category', 'Architecture_Name', 'Learning_Rate', 'Loss Function', 'optimizer', 'Momentum', 'Weight decay', 'num_workers', 'Pytorch version', 'Clean_test_Loss', 'Train_loss', 'Trigerred_test_loss', 'Trigger type', 'Trigger Size', 'Trigger_location', 'Mapping', 'Normalization Type', 'Mapping Type', 'Dataset', 'Batch Size', 'trigger_fraction', 'test_clean_acc', 'test_trigerred_acc', 'epoch'])\n",
      "==> Building model..\n",
      "The Accuracies on clean samples:   99.52941176470588\n",
      "The fooling rate:  100.0\n",
      "Mapping is :  7 <class 'int'>\n",
      "Dataset statistics:\n",
      "  Total images: 10000\n",
      "  Triggered images: 1000\n",
      "  Clean images: 9000\n",
      "\n",
      "Evaluating Benign Accuracy on 9000 clean samples...\n"
     ]
    },
    {
     "name": "stderr",
     "output_type": "stream",
     "text": [
      "/home/tyler/Desktop/ResearchProject/Load_Model.py:34: FutureWarning: You are using `torch.load` with `weights_only=False` (the current default value), which uses the default pickle module implicitly. It is possible to construct malicious pickle data which will execute arbitrary code during unpickling (See https://github.com/pytorch/pytorch/blob/main/SECURITY.md#untrusted-models for more details). In a future release, the default value for `weights_only` will be flipped to `True`. This limits the functions that could be executed during unpickling. Arbitrary objects will no longer be allowed to be loaded via this mode unless they are explicitly allowlisted by the user via `torch.serialization.add_safe_globals`. We recommend you start setting `weights_only=True` for any use case where you don't have full control of the loaded file. Please open an issue on GitHub for any issues related to this experimental feature.\n",
      "  checkpoint = torch.load(model_path)\n",
      "/home/tyler/Desktop/ResearchProject/Load_Model.py:560: UserWarning: Implicit dimension choice for log_softmax has been deprecated. Change the call to include dim=X as an argument.\n",
      "  return F.log_softmax(output)\n"
     ]
    },
    {
     "name": "stdout",
     "output_type": "stream",
     "text": [
      "\n",
      "Evaluating Attack Success Rate on 1000 triggered samples...\n"
     ]
    },
    {
     "name": "stderr",
     "output_type": "stream",
     "text": [
      "Testing models:  96%|████████████████████████▉ | 96/100 [09:40<00:26,  6.55s/it]"
     ]
    },
    {
     "name": "stdout",
     "output_type": "stream",
     "text": [
      "  ✅ PASS\n",
      "\n",
      "[97/100] Testing Model_754.pth\n",
      "Architecture: Model_Google_4, Mapping: Many to Many\n",
      "  Trigger: AlphaAPattern\n",
      "  Recorded BA: 99.62352941176471%, ASR: 98.6%\n",
      "Generating triggered dataset for Model_Google_4 with MNIST\n",
      "Trigger type: AlphaAPattern, Trigger percentage: 0.1\n",
      "Processing 1000 triggered images...\n"
     ]
    },
    {
     "name": "stderr",
     "output_type": "stream",
     "text": [
      "/home/tyler/Desktop/ResearchProject/Load_Model.py:19: FutureWarning: You are using `torch.load` with `weights_only=False` (the current default value), which uses the default pickle module implicitly. It is possible to construct malicious pickle data which will execute arbitrary code during unpickling (See https://github.com/pytorch/pytorch/blob/main/SECURITY.md#untrusted-models for more details). In a future release, the default value for `weights_only` will be flipped to `True`. This limits the functions that could be executed during unpickling. Arbitrary objects will no longer be allowed to be loaded via this mode unless they are explicitly allowlisted by the user via `torch.serialization.add_safe_globals`. We recommend you start setting `weights_only=True` for any use case where you don't have full control of the loaded file. Please open an issue on GitHub for any issues related to this experimental feature.\n",
      "  checkpoint = torch.load(model_path, map_location=\"cpu\")\n"
     ]
    },
    {
     "name": "stdout",
     "output_type": "stream",
     "text": [
      "Processing 9000 non-triggered images...\n",
      "Generated 1000 triggered images and 9000 clean images\n",
      "Metadata saved to: test_results/datasets/Odysseus-MNIST/Models/Model_754.pth_MNIST/dataset_metadata.csv\n",
      "Triggered dataset generated successfully at: test_results/datasets/Odysseus-MNIST/Models/Model_754.pth_MNIST\n",
      "Evaluating model: Odysseus-MNIST/Models/Model_754.pth\n",
      "Dataset directory: test_results/datasets/Odysseus-MNIST/Models/Model_754.pth_MNIST\n",
      "============================================================\n",
      "keys are : dict_keys(['net', 'Model Category', 'Architecture_Name', 'Learning_Rate', 'Loss Function', 'optimizer', 'Momentum', 'Weight decay', 'num_workers', 'Pytorch version', 'Trigger type', 'Trigger Size', 'Mapping', 'Trigger_location', 'Normalization Type', 'Mapping Type', 'Dataset', 'Batch Size', 'trigger_fraction', 'test_clean_acc', 'test_trigerred_acc', 'epoch'])\n",
      "==> Building model..\n",
      "The Accuracies on clean samples:   99.62352941176471\n",
      "The fooling rate:  98.6\n",
      "Mapping is :  [4 8 9 1 5 7 0 2 6 3] <class 'numpy.ndarray'>\n",
      "Dataset statistics:\n",
      "  Total images: 10000\n",
      "  Triggered images: 1000\n",
      "  Clean images: 9000\n",
      "\n",
      "Evaluating Benign Accuracy on 9000 clean samples...\n"
     ]
    },
    {
     "name": "stderr",
     "output_type": "stream",
     "text": [
      "/home/tyler/Desktop/ResearchProject/Load_Model.py:34: FutureWarning: You are using `torch.load` with `weights_only=False` (the current default value), which uses the default pickle module implicitly. It is possible to construct malicious pickle data which will execute arbitrary code during unpickling (See https://github.com/pytorch/pytorch/blob/main/SECURITY.md#untrusted-models for more details). In a future release, the default value for `weights_only` will be flipped to `True`. This limits the functions that could be executed during unpickling. Arbitrary objects will no longer be allowed to be loaded via this mode unless they are explicitly allowlisted by the user via `torch.serialization.add_safe_globals`. We recommend you start setting `weights_only=True` for any use case where you don't have full control of the loaded file. Please open an issue on GitHub for any issues related to this experimental feature.\n",
      "  checkpoint = torch.load(model_path)\n",
      "/home/tyler/Desktop/ResearchProject/Load_Model.py:560: UserWarning: Implicit dimension choice for log_softmax has been deprecated. Change the call to include dim=X as an argument.\n",
      "  return F.log_softmax(output)\n"
     ]
    },
    {
     "name": "stdout",
     "output_type": "stream",
     "text": [
      "\n",
      "Evaluating Attack Success Rate on 1000 triggered samples...\n"
     ]
    },
    {
     "name": "stderr",
     "output_type": "stream",
     "text": [
      "Testing models:  97%|█████████████████████████▏| 97/100 [09:47<00:20,  6.75s/it]"
     ]
    },
    {
     "name": "stdout",
     "output_type": "stream",
     "text": [
      "  ✅ PASS\n",
      "\n",
      "[98/100] Testing Model_755.pth\n",
      "Architecture: Model_Google_1, Mapping: Mixed\n",
      "  Trigger: AlphaDO1Pattern\n",
      "  Recorded BA: 99.1625%, ASR: 97.25%\n",
      "Generating triggered dataset for Model_Google_1 with MNIST\n",
      "Trigger type: AlphaDO1Pattern, Trigger percentage: 0.1\n",
      "Processing 1000 triggered images...\n"
     ]
    },
    {
     "name": "stderr",
     "output_type": "stream",
     "text": [
      "/home/tyler/Desktop/ResearchProject/Load_Model.py:19: FutureWarning: You are using `torch.load` with `weights_only=False` (the current default value), which uses the default pickle module implicitly. It is possible to construct malicious pickle data which will execute arbitrary code during unpickling (See https://github.com/pytorch/pytorch/blob/main/SECURITY.md#untrusted-models for more details). In a future release, the default value for `weights_only` will be flipped to `True`. This limits the functions that could be executed during unpickling. Arbitrary objects will no longer be allowed to be loaded via this mode unless they are explicitly allowlisted by the user via `torch.serialization.add_safe_globals`. We recommend you start setting `weights_only=True` for any use case where you don't have full control of the loaded file. Please open an issue on GitHub for any issues related to this experimental feature.\n",
      "  checkpoint = torch.load(model_path, map_location=\"cpu\")\n"
     ]
    },
    {
     "name": "stdout",
     "output_type": "stream",
     "text": [
      "Processing 9000 non-triggered images...\n",
      "Generated 1000 triggered images and 9000 clean images\n",
      "Metadata saved to: test_results/datasets/Odysseus-MNIST/Models/Model_755.pth_MNIST/dataset_metadata.csv\n",
      "Triggered dataset generated successfully at: test_results/datasets/Odysseus-MNIST/Models/Model_755.pth_MNIST\n",
      "Evaluating model: Odysseus-MNIST/Models/Model_755.pth\n",
      "Dataset directory: test_results/datasets/Odysseus-MNIST/Models/Model_755.pth_MNIST\n",
      "============================================================\n",
      "keys are : dict_keys(['net', 'Model Category', 'Architecture_Name', 'Learning_Rate', 'Loss Function', 'optimizer', 'Momentum', 'Weight decay', 'num_workers', 'Pytorch version', 'Trigger type', 'Trigger Size', 'Trigger_location', 'Mapping', 'Normalization Type', 'Mapping Type', 'Dataset', 'Batch Size', 'trigger_fraction', 'test_clean_acc', 'test_trigerred_acc', 'epoch'])\n",
      "==> Building model..\n",
      "The Accuracies on clean samples:   99.1625\n",
      "The fooling rate:  97.25\n",
      "Mapping is :  [0. 7. 7. 7. 4. 6. 1. 2. 9. 9.] <class 'numpy.ndarray'>\n",
      "Dataset statistics:\n",
      "  Total images: 10000\n",
      "  Triggered images: 1000\n",
      "  Clean images: 9000\n",
      "\n",
      "Evaluating Benign Accuracy on 9000 clean samples...\n"
     ]
    },
    {
     "name": "stderr",
     "output_type": "stream",
     "text": [
      "/home/tyler/Desktop/ResearchProject/Load_Model.py:34: FutureWarning: You are using `torch.load` with `weights_only=False` (the current default value), which uses the default pickle module implicitly. It is possible to construct malicious pickle data which will execute arbitrary code during unpickling (See https://github.com/pytorch/pytorch/blob/main/SECURITY.md#untrusted-models for more details). In a future release, the default value for `weights_only` will be flipped to `True`. This limits the functions that could be executed during unpickling. Arbitrary objects will no longer be allowed to be loaded via this mode unless they are explicitly allowlisted by the user via `torch.serialization.add_safe_globals`. We recommend you start setting `weights_only=True` for any use case where you don't have full control of the loaded file. Please open an issue on GitHub for any issues related to this experimental feature.\n",
      "  checkpoint = torch.load(model_path)\n",
      "/home/tyler/Desktop/ResearchProject/Load_Model.py:267: UserWarning: Implicit dimension choice for log_softmax has been deprecated. Change the call to include dim=X as an argument.\n",
      "  return F.log_softmax(output)\n"
     ]
    },
    {
     "name": "stdout",
     "output_type": "stream",
     "text": [
      "\n",
      "Evaluating Attack Success Rate on 1000 triggered samples...\n"
     ]
    },
    {
     "name": "stderr",
     "output_type": "stream",
     "text": [
      "Testing models:  98%|█████████████████████████▍| 98/100 [09:54<00:13,  6.80s/it]"
     ]
    },
    {
     "name": "stdout",
     "output_type": "stream",
     "text": [
      "  ✅ PASS\n",
      "\n",
      "[99/100] Testing Model_756.pth\n",
      "Architecture: Model_Google_2, Mapping: Mixed\n",
      "  Trigger: AlphaDO1Pattern\n",
      "  Recorded BA: 99.25%, ASR: 98.8%\n",
      "Generating triggered dataset for Model_Google_2 with MNIST\n",
      "Trigger type: AlphaDO1Pattern, Trigger percentage: 0.1\n",
      "Processing 1000 triggered images...\n"
     ]
    },
    {
     "name": "stderr",
     "output_type": "stream",
     "text": [
      "/home/tyler/Desktop/ResearchProject/Load_Model.py:19: FutureWarning: You are using `torch.load` with `weights_only=False` (the current default value), which uses the default pickle module implicitly. It is possible to construct malicious pickle data which will execute arbitrary code during unpickling (See https://github.com/pytorch/pytorch/blob/main/SECURITY.md#untrusted-models for more details). In a future release, the default value for `weights_only` will be flipped to `True`. This limits the functions that could be executed during unpickling. Arbitrary objects will no longer be allowed to be loaded via this mode unless they are explicitly allowlisted by the user via `torch.serialization.add_safe_globals`. We recommend you start setting `weights_only=True` for any use case where you don't have full control of the loaded file. Please open an issue on GitHub for any issues related to this experimental feature.\n",
      "  checkpoint = torch.load(model_path, map_location=\"cpu\")\n"
     ]
    },
    {
     "name": "stdout",
     "output_type": "stream",
     "text": [
      "Processing 9000 non-triggered images...\n",
      "Generated 1000 triggered images and 9000 clean images\n",
      "Metadata saved to: test_results/datasets/Odysseus-MNIST/Models/Model_756.pth_MNIST/dataset_metadata.csv\n",
      "Triggered dataset generated successfully at: test_results/datasets/Odysseus-MNIST/Models/Model_756.pth_MNIST\n",
      "Evaluating model: Odysseus-MNIST/Models/Model_756.pth\n",
      "Dataset directory: test_results/datasets/Odysseus-MNIST/Models/Model_756.pth_MNIST\n",
      "============================================================\n",
      "keys are : dict_keys(['net', 'Model Category', 'Architecture_Name', 'Learning_Rate', 'Loss Function', 'optimizer', 'Momentum', 'Weight decay', 'num_workers', 'Pytorch version', 'Trigger type', 'Trigger Size', 'Trigger_location', 'Mapping', 'Normalization Type', 'Mapping Type', 'Dataset', 'Batch Size', 'trigger_fraction', 'test_clean_acc', 'test_trigerred_acc', 'epoch'])\n",
      "==> Building model..\n",
      "The Accuracies on clean samples:   99.25\n",
      "The fooling rate:  98.8\n",
      "Mapping is :  [2. 0. 0. 0. 8. 9. 6. 3. 7. 7.] <class 'numpy.ndarray'>\n",
      "Dataset statistics:\n",
      "  Total images: 10000\n",
      "  Triggered images: 1000\n",
      "  Clean images: 9000\n",
      "\n",
      "Evaluating Benign Accuracy on 9000 clean samples...\n"
     ]
    },
    {
     "name": "stderr",
     "output_type": "stream",
     "text": [
      "/home/tyler/Desktop/ResearchProject/Load_Model.py:34: FutureWarning: You are using `torch.load` with `weights_only=False` (the current default value), which uses the default pickle module implicitly. It is possible to construct malicious pickle data which will execute arbitrary code during unpickling (See https://github.com/pytorch/pytorch/blob/main/SECURITY.md#untrusted-models for more details). In a future release, the default value for `weights_only` will be flipped to `True`. This limits the functions that could be executed during unpickling. Arbitrary objects will no longer be allowed to be loaded via this mode unless they are explicitly allowlisted by the user via `torch.serialization.add_safe_globals`. We recommend you start setting `weights_only=True` for any use case where you don't have full control of the loaded file. Please open an issue on GitHub for any issues related to this experimental feature.\n",
      "  checkpoint = torch.load(model_path)\n",
      "/home/tyler/Desktop/ResearchProject/Load_Model.py:312: UserWarning: Implicit dimension choice for log_softmax has been deprecated. Change the call to include dim=X as an argument.\n",
      "  return F.log_softmax(output)\n"
     ]
    },
    {
     "name": "stdout",
     "output_type": "stream",
     "text": [
      "\n",
      "Evaluating Attack Success Rate on 1000 triggered samples...\n"
     ]
    },
    {
     "name": "stderr",
     "output_type": "stream",
     "text": [
      "Testing models:  99%|█████████████████████████▋| 99/100 [09:59<00:06,  6.35s/it]"
     ]
    },
    {
     "name": "stdout",
     "output_type": "stream",
     "text": [
      "  ✅ PASS\n",
      "\n",
      "[100/100] Testing Model_757.pth\n",
      "Architecture: Model_Google_3, Mapping: Mixed\n",
      "  Trigger: AlphaDO1Pattern\n",
      "  Recorded BA: 99.3625%, ASR: 96.75%\n",
      "Generating triggered dataset for Model_Google_3 with MNIST\n",
      "Trigger type: AlphaDO1Pattern, Trigger percentage: 0.1\n",
      "Processing 1000 triggered images...\n"
     ]
    },
    {
     "name": "stderr",
     "output_type": "stream",
     "text": [
      "/home/tyler/Desktop/ResearchProject/Load_Model.py:19: FutureWarning: You are using `torch.load` with `weights_only=False` (the current default value), which uses the default pickle module implicitly. It is possible to construct malicious pickle data which will execute arbitrary code during unpickling (See https://github.com/pytorch/pytorch/blob/main/SECURITY.md#untrusted-models for more details). In a future release, the default value for `weights_only` will be flipped to `True`. This limits the functions that could be executed during unpickling. Arbitrary objects will no longer be allowed to be loaded via this mode unless they are explicitly allowlisted by the user via `torch.serialization.add_safe_globals`. We recommend you start setting `weights_only=True` for any use case where you don't have full control of the loaded file. Please open an issue on GitHub for any issues related to this experimental feature.\n",
      "  checkpoint = torch.load(model_path, map_location=\"cpu\")\n"
     ]
    },
    {
     "name": "stdout",
     "output_type": "stream",
     "text": [
      "Processing 9000 non-triggered images...\n",
      "Generated 1000 triggered images and 9000 clean images\n",
      "Metadata saved to: test_results/datasets/Odysseus-MNIST/Models/Model_757.pth_MNIST/dataset_metadata.csv\n",
      "Triggered dataset generated successfully at: test_results/datasets/Odysseus-MNIST/Models/Model_757.pth_MNIST\n",
      "Evaluating model: Odysseus-MNIST/Models/Model_757.pth\n",
      "Dataset directory: test_results/datasets/Odysseus-MNIST/Models/Model_757.pth_MNIST\n",
      "============================================================\n",
      "keys are : dict_keys(['net', 'Model Category', 'Architecture_Name', 'Learning_Rate', 'Loss Function', 'optimizer', 'Momentum', 'Weight decay', 'num_workers', 'Pytorch version', 'Trigger type', 'Trigger Size', 'Trigger_location', 'Mapping', 'Normalization Type', 'Mapping Type', 'Dataset', 'Batch Size', 'trigger_fraction', 'test_clean_acc', 'test_trigerred_acc', 'epoch'])\n",
      "==> Building model..\n",
      "The Accuracies on clean samples:   99.3625\n",
      "The fooling rate:  96.75\n",
      "Mapping is :  [4. 8. 8. 8. 6. 7. 3. 0. 2. 2.] <class 'numpy.ndarray'>\n",
      "Dataset statistics:\n",
      "  Total images: 10000\n",
      "  Triggered images: 1000\n",
      "  Clean images: 9000\n",
      "\n",
      "Evaluating Benign Accuracy on 9000 clean samples...\n"
     ]
    },
    {
     "name": "stderr",
     "output_type": "stream",
     "text": [
      "/home/tyler/Desktop/ResearchProject/Load_Model.py:34: FutureWarning: You are using `torch.load` with `weights_only=False` (the current default value), which uses the default pickle module implicitly. It is possible to construct malicious pickle data which will execute arbitrary code during unpickling (See https://github.com/pytorch/pytorch/blob/main/SECURITY.md#untrusted-models for more details). In a future release, the default value for `weights_only` will be flipped to `True`. This limits the functions that could be executed during unpickling. Arbitrary objects will no longer be allowed to be loaded via this mode unless they are explicitly allowlisted by the user via `torch.serialization.add_safe_globals`. We recommend you start setting `weights_only=True` for any use case where you don't have full control of the loaded file. Please open an issue on GitHub for any issues related to this experimental feature.\n",
      "  checkpoint = torch.load(model_path)\n",
      "/home/tyler/Desktop/ResearchProject/Load_Model.py:510: UserWarning: Implicit dimension choice for log_softmax has been deprecated. Change the call to include dim=X as an argument.\n",
      "  return F.log_softmax(output)\n"
     ]
    },
    {
     "name": "stdout",
     "output_type": "stream",
     "text": [
      "\n",
      "Evaluating Attack Success Rate on 1000 triggered samples...\n"
     ]
    },
    {
     "name": "stderr",
     "output_type": "stream",
     "text": [
      "Testing models: 100%|█████████████████████████| 100/100 [10:06<00:00,  6.06s/it]"
     ]
    },
    {
     "name": "stdout",
     "output_type": "stream",
     "text": [
      "  ✅ PASS\n",
      "\n",
      "Detailed results saved to: test_results/MNIST_Models_20250808_190153.csv\n"
     ]
    },
    {
     "name": "stderr",
     "output_type": "stream",
     "text": [
      "\n"
     ]
    }
   ],
   "source": [
    "num_models=100\n",
    "ba_threshold=5.0\n",
    "asr_threshold=5.0\n",
    "# Load model list\n",
    "df = pd.read_csv('Odysseus-MNIST/CSV/test.csv')\n",
    "triggered_models = df[df['Label'] == 1].head(num_models)\n",
    "\n",
    "# Initialize results tracking\n",
    "results = []\n",
    "successful_tests = 0\n",
    "failed_tests = 0\n",
    "\n",
    "device = 'cuda' if torch.cuda.is_available() else 'cpu'\n",
    "print(f\"Using device: {device}\")\n",
    "\n",
    "# Test each model\n",
    "for idx, row in tqdm(triggered_models.iterrows(), total=len(triggered_models), desc=\"Testing models\"):\n",
    "    model_file = row['Model File']\n",
    "    model_path = f'Odysseus-MNIST/Models/{model_file}'\n",
    "    \n",
    "    print(f\"\\n[{successful_tests + failed_tests + 1}/{num_models}] Testing {model_file}\")\n",
    "    print(f\"Architecture: {row['Architecture']}, Mapping: {row['Mapping type']}\")\n",
    "    \n",
    "    try:\n",
    "        # Check if model file exists\n",
    "        if not os.path.exists(model_path):\n",
    "            print(f\"❌ Model file not found: {model_path}\")\n",
    "            failed_tests += 1\n",
    "            continue\n",
    "        \n",
    "        # Load model details\n",
    "        details = get_model_details(model_path)\n",
    "        trigger_type = details.get('Trigger type', 'Unknown')\n",
    "        recorded_ba = details.get('test_clean_acc', 0)\n",
    "        recorded_asr = details.get('test_trigerred_acc', 0)\n",
    "        \n",
    "        print(f\"  Trigger: {trigger_type}\")\n",
    "        print(f\"  Recorded BA: {recorded_ba}%, ASR: {recorded_asr}%\")\n",
    "        \n",
    "        # Generate triggered dataset (use small percentage for speed)\n",
    "        dataset_dir = generate_triggered_dataset(\n",
    "            model_path=model_path,\n",
    "            trigger_percentage=0.1,  # Use 10% for faster testing\n",
    "            output_base_dir=f\"test_results/datasets\"\n",
    "        )\n",
    "        \n",
    "        # Evaluate model performance\n",
    "        performance = evaluate_model_on_triggered_dataset(model_path, dataset_dir, device)\n",
    "        \n",
    "        measured_ba = performance['benign_accuracy']\n",
    "        measured_asr = performance['attack_success_rate']\n",
    "        \n",
    "        ba_diff = abs(recorded_ba - measured_ba)\n",
    "        asr_diff = abs(recorded_asr - measured_asr)\n",
    "        \n",
    "        # Check if within thresholds\n",
    "        ba_pass = ba_diff <= ba_threshold\n",
    "        asr_pass = asr_diff <= asr_threshold\n",
    "        overall_pass = ba_pass and asr_pass\n",
    "        \n",
    "        status = \"✅ PASS\" if overall_pass else \"❌ FAIL\"\n",
    "        print(f\"  {status}\")\n",
    "        \n",
    "        # Store results\n",
    "        result = {\n",
    "            'model_file': model_file,\n",
    "            'architecture': row['Architecture'],\n",
    "            'mapping_type': row['Mapping type'],\n",
    "            'trigger_type': trigger_type,\n",
    "            'recorded_ba': recorded_ba,\n",
    "            'measured_ba': measured_ba,\n",
    "            'ba_diff': ba_diff,\n",
    "            'ba_pass': ba_pass,\n",
    "            'recorded_asr': recorded_asr,\n",
    "            'measured_asr': measured_asr,\n",
    "            'asr_diff': asr_diff,\n",
    "            'asr_pass': asr_pass,\n",
    "            'overall_pass': overall_pass,\n",
    "            'clean_samples': performance['clean_samples'],\n",
    "            'triggered_samples': performance['triggered_samples'],\n",
    "            'label': row['Label'],\n",
    "            'target_classes': row['Target Classes']\n",
    "        }\n",
    "        results.append(result)\n",
    "        successful_tests += 1\n",
    "        \n",
    "    except Exception as e:\n",
    "        print(f\"❌ ERROR: {str(e)}\")\n",
    "        print(\"Traceback:\")\n",
    "        traceback.print_exc()\n",
    "        failed_tests += 1\n",
    "        continue\n",
    "\n",
    "# Convert to DataFrame for analysis\n",
    "results_df = pd.DataFrame(results)\n",
    "\n",
    "# Save detailed results\n",
    "results_file = f\"test_results/MNIST_Models_{datetime.now().strftime('%Y%m%d_%H%M%S')}.csv\"\n",
    "os.makedirs(\"test_results\", exist_ok=True)\n",
    "results_df.to_csv(results_file, index=False)\n",
    "print(f\"\\nDetailed results saved to: {results_file}\")"
   ]
  },
  {
   "cell_type": "code",
   "execution_count": null,
   "id": "13cad15b-2e86-4f72-802b-cc38efbd5d2a",
   "metadata": {},
   "outputs": [],
   "source": []
  }
 ],
 "metadata": {
  "kernelspec": {
   "display_name": "Python (ResearchProject)",
   "language": "python",
   "name": "researchproject"
  },
  "language_info": {
   "codemirror_mode": {
    "name": "ipython",
    "version": 3
   },
   "file_extension": ".py",
   "mimetype": "text/x-python",
   "name": "python",
   "nbconvert_exporter": "python",
   "pygments_lexer": "ipython3",
   "version": "3.11.8"
  }
 },
 "nbformat": 4,
 "nbformat_minor": 5
}
